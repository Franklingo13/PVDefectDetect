{
  "cells": [
    {
      "cell_type": "markdown",
      "metadata": {
        "id": "view-in-github",
        "colab_type": "text"
      },
      "source": [
        "<a href=\"https://colab.research.google.com/github/Franklingo13/PVDefectDetect/blob/main/RNA/Entrenamiento_grietasGColab.ipynb\" target=\"_parent\"><img src=\"https://colab.research.google.com/assets/colab-badge.svg\" alt=\"Open In Colab\"/></a>"
      ]
    },
    {
      "cell_type": "markdown",
      "metadata": {
        "id": "psMYf9fJG09O"
      },
      "source": [
        "Notebook para entrenamiento de redes neuronales convolucionales para clasificación de defectos en imágenes de celdas fotovoltaicas.\n",
        "Pensado para correr en Google Colab."
      ]
    },
    {
      "cell_type": "code",
      "execution_count": 1,
      "metadata": {
        "colab": {
          "base_uri": "https://localhost:8080/"
        },
        "id": "gbQ5zjRCG09Q",
        "outputId": "6c5ba2bb-46ef-4bc7-b347-f7baa81361a8"
      },
      "outputs": [
        {
          "output_type": "stream",
          "name": "stdout",
          "text": [
            "Drive already mounted at /content/drive; to attempt to forcibly remount, call drive.mount(\"/content/drive\", force_remount=True).\n"
          ]
        }
      ],
      "source": [
        "# Conexión con Google Drive\n",
        "from google.colab import drive\n",
        "drive.mount('/content/drive')"
      ]
    },
    {
      "cell_type": "code",
      "execution_count": 2,
      "metadata": {
        "id": "OhRFEtnDGxpJ"
      },
      "outputs": [],
      "source": [
        "# SPDX-License-Identifier: Apache-2.0\n",
        "#\n",
        "# Copyright (C) 2021 Supervisely\n",
        "#\n",
        "# This file is part of the Supervisely project and has been taken\n",
        "# from the Supervisely repository (https://github.com/supervisely/supervisely/blob/master/plugins/nn/unet_v2/src/unet.py).\n",
        "# It is being redistributed under the Apache License 2.0.\n",
        "#\n",
        "# You may obtain a copy of the License at\n",
        "#\n",
        "#     http://www.apache.org/licenses/LICENSE-2.0\n",
        "#\n",
        "# Unless required by applicable law or agreed to in writing, software\n",
        "# distributed under the License is distributed on an \"AS IS\" BASIS,\n",
        "# WITHOUT WARRANTIES OR CONDITIONS OF ANY KIND, either express or implied.\n",
        "# See the License for the specific language governing permissions and\n",
        "# limitations under the License.\n",
        "\n",
        "\n",
        "import torch\n",
        "from torch import nn\n",
        "from torchvision.models.vgg import vgg16_bn\n",
        "\n",
        "\n",
        "class ConvBNAct(nn.Module):\n",
        "    def __init__(self, in_channels, out_channels):\n",
        "        super().__init__()\n",
        "        self.seq = nn.Sequential(\n",
        "            nn.Conv2d(in_channels, out_channels,\n",
        "                      kernel_size=3, padding=1),\n",
        "            nn.BatchNorm2d(out_channels),\n",
        "            nn.ReLU(),\n",
        "        )\n",
        "\n",
        "    def forward(self, inputs):\n",
        "        return self.seq(inputs)\n",
        "\n",
        "\n",
        "class Block(nn.Module):\n",
        "    def __init__(self, src_channels, dst_channels):\n",
        "        super().__init__()\n",
        "        self.seq1 = ConvBNAct(src_channels, dst_channels)\n",
        "        self.seq2 = ConvBNAct(dst_channels, dst_channels)\n",
        "        self.seq3 = ConvBNAct(dst_channels, dst_channels)\n",
        "\n",
        "    def forward(self, x):\n",
        "        result = self.seq1(x)\n",
        "        result = self.seq2(result)\n",
        "        result = self.seq3(result)\n",
        "        return result\n",
        "\n",
        "\n",
        "class UNetUp(nn.Module):\n",
        "    def __init__(self, down_channels,  right_channels):\n",
        "        super().__init__()\n",
        "        self.bottom_up = nn.Upsample(scale_factor=2, mode='nearest')\n",
        "        self.conv = nn.Conv2d(down_channels, right_channels, kernel_size=1, stride=1)\n",
        "\n",
        "    def forward(self, left, bottom):\n",
        "        from_bottom = self.bottom_up(bottom)\n",
        "        from_bottom = self.conv(from_bottom)\n",
        "        result = torch.cat([left, from_bottom], 1)\n",
        "        return result\n",
        "\n",
        "\n",
        "class Bottleneck(nn.Module):\n",
        "    def __init__(self, in_channels, out_channels):\n",
        "        super().__init__()\n",
        "        self.conv = nn.Conv2d(in_channels, out_channels, kernel_size=(3, 3), dilation=2, padding=2)\n",
        "        self.bn = nn.BatchNorm2d(out_channels)\n",
        "        self.relu = nn.ReLU()\n",
        "        self.conv2 = nn.Conv2d(out_channels, out_channels, kernel_size=(3, 3), dilation=2, padding=2)\n",
        "        self.bn2 = nn.BatchNorm2d(out_channels)\n",
        "        self.relu2 = nn.ReLU()\n",
        "\n",
        "    def forward(self, x):\n",
        "        out = self.conv(x)\n",
        "        out = self.bn(out)\n",
        "        out = self.conv2(self.relu(out))\n",
        "        out = self.bn2(out)\n",
        "        return torch.cat((x, self.relu2(out)), dim=1)\n",
        "\n",
        "\n",
        "class UNet(nn.Module):\n",
        "\n",
        "    def __init__(self, encoder_blocks,  encoder_channels, n_cls):\n",
        "        self.encoder_channels = encoder_channels\n",
        "        self.depth = len(self.encoder_channels)\n",
        "        assert len(encoder_blocks) == self.depth\n",
        "        super().__init__()\n",
        "\n",
        "        self.encoder_blocks = nn.ModuleList(encoder_blocks)\n",
        "\n",
        "        self.blocks = nn.ModuleList()\n",
        "        # add bottleneck\n",
        "        self.blocks.append(Block(\n",
        "            self.encoder_channels[-1],\n",
        "            self.encoder_channels[-1]\n",
        "        ))\n",
        "\n",
        "        self.ups = nn.ModuleList()\n",
        "        for i in range(1, self.depth):\n",
        "            bottom_channels = self.encoder_channels[self.depth - i]\n",
        "            left_channels = self.encoder_channels[self.depth - i - 1]\n",
        "            right_channels = left_channels\n",
        "            self.ups.append(UNetUp(bottom_channels,  right_channels))\n",
        "            self.blocks.append(Block(\n",
        "                left_channels + right_channels,\n",
        "                right_channels\n",
        "            ))\n",
        "        self.last_conv = nn.Conv2d(encoder_channels[0], n_cls, 1)\n",
        "        # self.dropout = nn.Dropout2d(p=0.1)\n",
        "        self.bottle = Bottleneck(512, 512)\n",
        "\n",
        "    def forward(self, x):\n",
        "        encoder_outputs = []\n",
        "        for encoder_block in self.encoder_blocks:\n",
        "            x = encoder_block(x)\n",
        "            encoder_outputs.append(x)\n",
        "        x = self.bottle(encoder_outputs[self.depth - 1])\n",
        "        for i in range(self.depth):\n",
        "            if i > 0:\n",
        "                encoder_output = encoder_outputs[self.depth - i - 1]\n",
        "                x = self.ups[i - 1](encoder_output, x)\n",
        "                x = self.blocks[i](x)\n",
        "        # x = self.dropout(x)\n",
        "        x = self.last_conv(x)\n",
        "        return x  # no softmax or log_softmax\n",
        "\n",
        "\n",
        "def _get_encoder_blocks(model):\n",
        "    # last modules (ReLUs) of VGG blocks\n",
        "    layers_last_module_names = ['5', '12', '22', '32', '42']\n",
        "    result = []\n",
        "    cur_block = nn.Sequential()\n",
        "    for name, child in model.named_children():\n",
        "        if name == 'features':\n",
        "            for name2, child2 in child.named_children():\n",
        "                cur_block.add_module(name2, child2)\n",
        "                if name2 in layers_last_module_names:\n",
        "                    result.append(cur_block)\n",
        "                    cur_block = nn.Sequential()\n",
        "            break\n",
        "\n",
        "    return result\n",
        "\n",
        "\n",
        "def construct_unet(n_cls, pretrain=False):  # no weights inited\n",
        "    model = vgg16_bn(weights='DEFAULT')\n",
        "    encoder_blocks = _get_encoder_blocks(model)\n",
        "    encoder_channels = [64, 128, 256, 512, 1024]  # vgg16 channels\n",
        "    # prev_channels = encoder_channels[-1]\n",
        "\n",
        "    return UNet(encoder_blocks, encoder_channels, n_cls)\n"
      ]
    },
    {
      "cell_type": "code",
      "execution_count": 3,
      "metadata": {
        "id": "U_8l2-gnG09S"
      },
      "outputs": [],
      "source": [
        "# Importación de librerías\n",
        "import torch\n",
        "from torch.utils.data import Dataset, DataLoader\n",
        "from torchvision import transforms\n",
        "from torch.nn import DataParallel\n",
        "from torch.nn import CrossEntropyLoss\n",
        "from torch.optim import Adam\n",
        "from torch.optim.lr_scheduler import StepLR\n",
        "from torchvision.io import read_image, ImageReadMode\n",
        "from torchvision.datasets.vision import VisionDataset\n",
        "from torchvision.models.segmentation import deeplabv3_resnet50, DeepLabV3_ResNet50_Weights\n",
        "from torchvision.models.segmentation.deeplabv3 import DeepLabHead\n",
        "from torchvision.utils import draw_segmentation_masks\n",
        "import torchvision.transforms.functional as F\n",
        "\n",
        "import cv2 as cv\n",
        "import numpy as np\n",
        "\n",
        "import requests\n",
        "import copy\n",
        "#from unet_model import construct_unet\n",
        "from pathlib import Path\n",
        "from PIL import Image\n",
        "from imutils.paths import list_images\n",
        "import os\n",
        "import warnings"
      ]
    },
    {
      "cell_type": "code",
      "execution_count": 4,
      "metadata": {
        "colab": {
          "base_uri": "https://localhost:8080/"
        },
        "collapsed": true,
        "id": "u-13tOJejCxA",
        "outputId": "29b6028f-8ec8-4ac7-bf8d-2a301015fa95"
      },
      "outputs": [
        {
          "output_type": "stream",
          "name": "stdout",
          "text": [
            "Requirement already satisfied: pv-vision in /usr/local/lib/python3.10/dist-packages (0.2.8)\n",
            "Requirement already satisfied: imutils>=0.5.4 in /usr/local/lib/python3.10/dist-packages (from pv-vision) (0.5.4)\n",
            "Requirement already satisfied: ipywidgets>=8.1.2 in /usr/local/lib/python3.10/dist-packages (from pv-vision) (8.1.3)\n",
            "Requirement already satisfied: joblib>=1.2.0 in /usr/local/lib/python3.10/dist-packages (from pv-vision) (1.4.2)\n",
            "Requirement already satisfied: matplotlib>=3.8.0 in /usr/local/lib/python3.10/dist-packages (from pv-vision) (3.9.1)\n",
            "Requirement already satisfied: opencv-python>=4.7.0.72 in /usr/local/lib/python3.10/dist-packages (from pv-vision) (4.10.0.84)\n",
            "Requirement already satisfied: scikit-learn>=1.3.0 in /usr/local/lib/python3.10/dist-packages (from pv-vision) (1.3.2)\n",
            "Requirement already satisfied: setuptools>=68.2.2 in /usr/local/lib/python3.10/dist-packages (from pv-vision) (71.0.4)\n",
            "Requirement already satisfied: torch>=2.2.0.post100 in /usr/local/lib/python3.10/dist-packages (from pv-vision) (2.3.1+cu121)\n",
            "Requirement already satisfied: torchvision>=0.15.2a0 in /usr/local/lib/python3.10/dist-packages (from pv-vision) (0.18.1+cu121)\n",
            "Requirement already satisfied: tqdm>=4.65.0 in /usr/local/lib/python3.10/dist-packages (from pv-vision) (4.66.4)\n",
            "Requirement already satisfied: comm>=0.1.3 in /usr/local/lib/python3.10/dist-packages (from ipywidgets>=8.1.2->pv-vision) (0.2.2)\n",
            "Requirement already satisfied: ipython>=6.1.0 in /usr/local/lib/python3.10/dist-packages (from ipywidgets>=8.1.2->pv-vision) (7.34.0)\n",
            "Requirement already satisfied: traitlets>=4.3.1 in /usr/local/lib/python3.10/dist-packages (from ipywidgets>=8.1.2->pv-vision) (5.7.1)\n",
            "Requirement already satisfied: widgetsnbextension~=4.0.11 in /usr/local/lib/python3.10/dist-packages (from ipywidgets>=8.1.2->pv-vision) (4.0.11)\n",
            "Requirement already satisfied: jupyterlab-widgets~=3.0.11 in /usr/local/lib/python3.10/dist-packages (from ipywidgets>=8.1.2->pv-vision) (3.0.11)\n",
            "Requirement already satisfied: contourpy>=1.0.1 in /usr/local/lib/python3.10/dist-packages (from matplotlib>=3.8.0->pv-vision) (1.2.1)\n",
            "Requirement already satisfied: cycler>=0.10 in /usr/local/lib/python3.10/dist-packages (from matplotlib>=3.8.0->pv-vision) (0.12.1)\n",
            "Requirement already satisfied: fonttools>=4.22.0 in /usr/local/lib/python3.10/dist-packages (from matplotlib>=3.8.0->pv-vision) (4.53.1)\n",
            "Requirement already satisfied: kiwisolver>=1.3.1 in /usr/local/lib/python3.10/dist-packages (from matplotlib>=3.8.0->pv-vision) (1.4.5)\n",
            "Requirement already satisfied: numpy>=1.23 in /usr/local/lib/python3.10/dist-packages (from matplotlib>=3.8.0->pv-vision) (1.25.2)\n",
            "Requirement already satisfied: packaging>=20.0 in /usr/local/lib/python3.10/dist-packages (from matplotlib>=3.8.0->pv-vision) (24.1)\n",
            "Requirement already satisfied: pillow>=8 in /usr/local/lib/python3.10/dist-packages (from matplotlib>=3.8.0->pv-vision) (9.4.0)\n",
            "Requirement already satisfied: pyparsing>=2.3.1 in /usr/local/lib/python3.10/dist-packages (from matplotlib>=3.8.0->pv-vision) (3.1.2)\n",
            "Requirement already satisfied: python-dateutil>=2.7 in /usr/local/lib/python3.10/dist-packages (from matplotlib>=3.8.0->pv-vision) (2.8.2)\n",
            "Requirement already satisfied: scipy>=1.5.0 in /usr/local/lib/python3.10/dist-packages (from scikit-learn>=1.3.0->pv-vision) (1.13.1)\n",
            "Requirement already satisfied: threadpoolctl>=2.0.0 in /usr/local/lib/python3.10/dist-packages (from scikit-learn>=1.3.0->pv-vision) (3.5.0)\n",
            "Requirement already satisfied: filelock in /usr/local/lib/python3.10/dist-packages (from torch>=2.2.0.post100->pv-vision) (3.15.4)\n",
            "Requirement already satisfied: typing-extensions>=4.8.0 in /usr/local/lib/python3.10/dist-packages (from torch>=2.2.0.post100->pv-vision) (4.12.2)\n",
            "Requirement already satisfied: sympy in /usr/local/lib/python3.10/dist-packages (from torch>=2.2.0.post100->pv-vision) (1.13.1)\n",
            "Requirement already satisfied: networkx in /usr/local/lib/python3.10/dist-packages (from torch>=2.2.0.post100->pv-vision) (3.3)\n",
            "Requirement already satisfied: jinja2 in /usr/local/lib/python3.10/dist-packages (from torch>=2.2.0.post100->pv-vision) (3.1.4)\n",
            "Requirement already satisfied: fsspec in /usr/local/lib/python3.10/dist-packages (from torch>=2.2.0.post100->pv-vision) (2024.6.1)\n",
            "Requirement already satisfied: nvidia-cuda-nvrtc-cu12==12.1.105 in /usr/local/lib/python3.10/dist-packages (from torch>=2.2.0.post100->pv-vision) (12.1.105)\n",
            "Requirement already satisfied: nvidia-cuda-runtime-cu12==12.1.105 in /usr/local/lib/python3.10/dist-packages (from torch>=2.2.0.post100->pv-vision) (12.1.105)\n",
            "Requirement already satisfied: nvidia-cuda-cupti-cu12==12.1.105 in /usr/local/lib/python3.10/dist-packages (from torch>=2.2.0.post100->pv-vision) (12.1.105)\n",
            "Requirement already satisfied: nvidia-cudnn-cu12==8.9.2.26 in /usr/local/lib/python3.10/dist-packages (from torch>=2.2.0.post100->pv-vision) (8.9.2.26)\n",
            "Requirement already satisfied: nvidia-cublas-cu12==12.1.3.1 in /usr/local/lib/python3.10/dist-packages (from torch>=2.2.0.post100->pv-vision) (12.1.3.1)\n",
            "Requirement already satisfied: nvidia-cufft-cu12==11.0.2.54 in /usr/local/lib/python3.10/dist-packages (from torch>=2.2.0.post100->pv-vision) (11.0.2.54)\n",
            "Requirement already satisfied: nvidia-curand-cu12==10.3.2.106 in /usr/local/lib/python3.10/dist-packages (from torch>=2.2.0.post100->pv-vision) (10.3.2.106)\n",
            "Requirement already satisfied: nvidia-cusolver-cu12==11.4.5.107 in /usr/local/lib/python3.10/dist-packages (from torch>=2.2.0.post100->pv-vision) (11.4.5.107)\n",
            "Requirement already satisfied: nvidia-cusparse-cu12==12.1.0.106 in /usr/local/lib/python3.10/dist-packages (from torch>=2.2.0.post100->pv-vision) (12.1.0.106)\n",
            "Requirement already satisfied: nvidia-nccl-cu12==2.20.5 in /usr/local/lib/python3.10/dist-packages (from torch>=2.2.0.post100->pv-vision) (2.20.5)\n",
            "Requirement already satisfied: nvidia-nvtx-cu12==12.1.105 in /usr/local/lib/python3.10/dist-packages (from torch>=2.2.0.post100->pv-vision) (12.1.105)\n",
            "Requirement already satisfied: triton==2.3.1 in /usr/local/lib/python3.10/dist-packages (from torch>=2.2.0.post100->pv-vision) (2.3.1)\n",
            "Requirement already satisfied: nvidia-nvjitlink-cu12 in /usr/local/lib/python3.10/dist-packages (from nvidia-cusolver-cu12==11.4.5.107->torch>=2.2.0.post100->pv-vision) (12.5.82)\n",
            "Requirement already satisfied: jedi>=0.16 in /usr/local/lib/python3.10/dist-packages (from ipython>=6.1.0->ipywidgets>=8.1.2->pv-vision) (0.19.1)\n",
            "Requirement already satisfied: decorator in /usr/local/lib/python3.10/dist-packages (from ipython>=6.1.0->ipywidgets>=8.1.2->pv-vision) (4.4.2)\n",
            "Requirement already satisfied: pickleshare in /usr/local/lib/python3.10/dist-packages (from ipython>=6.1.0->ipywidgets>=8.1.2->pv-vision) (0.7.5)\n",
            "Requirement already satisfied: prompt-toolkit!=3.0.0,!=3.0.1,<3.1.0,>=2.0.0 in /usr/local/lib/python3.10/dist-packages (from ipython>=6.1.0->ipywidgets>=8.1.2->pv-vision) (3.0.47)\n",
            "Requirement already satisfied: pygments in /usr/local/lib/python3.10/dist-packages (from ipython>=6.1.0->ipywidgets>=8.1.2->pv-vision) (2.16.1)\n",
            "Requirement already satisfied: backcall in /usr/local/lib/python3.10/dist-packages (from ipython>=6.1.0->ipywidgets>=8.1.2->pv-vision) (0.2.0)\n",
            "Requirement already satisfied: matplotlib-inline in /usr/local/lib/python3.10/dist-packages (from ipython>=6.1.0->ipywidgets>=8.1.2->pv-vision) (0.1.7)\n",
            "Requirement already satisfied: pexpect>4.3 in /usr/local/lib/python3.10/dist-packages (from ipython>=6.1.0->ipywidgets>=8.1.2->pv-vision) (4.9.0)\n",
            "Requirement already satisfied: six>=1.5 in /usr/local/lib/python3.10/dist-packages (from python-dateutil>=2.7->matplotlib>=3.8.0->pv-vision) (1.16.0)\n",
            "Requirement already satisfied: MarkupSafe>=2.0 in /usr/local/lib/python3.10/dist-packages (from jinja2->torch>=2.2.0.post100->pv-vision) (2.1.5)\n",
            "Requirement already satisfied: mpmath<1.4,>=1.1.0 in /usr/local/lib/python3.10/dist-packages (from sympy->torch>=2.2.0.post100->pv-vision) (1.3.0)\n",
            "Requirement already satisfied: parso<0.9.0,>=0.8.3 in /usr/local/lib/python3.10/dist-packages (from jedi>=0.16->ipython>=6.1.0->ipywidgets>=8.1.2->pv-vision) (0.8.4)\n",
            "Requirement already satisfied: ptyprocess>=0.5 in /usr/local/lib/python3.10/dist-packages (from pexpect>4.3->ipython>=6.1.0->ipywidgets>=8.1.2->pv-vision) (0.7.0)\n",
            "Requirement already satisfied: wcwidth in /usr/local/lib/python3.10/dist-packages (from prompt-toolkit!=3.0.0,!=3.0.1,<3.1.0,>=2.0.0->ipython>=6.1.0->ipywidgets>=8.1.2->pv-vision) (0.2.13)\n"
          ]
        }
      ],
      "source": [
        "# Importación de la librería de pv-vision\n",
        "!pip install pv-vision"
      ]
    },
    {
      "cell_type": "code",
      "execution_count": 5,
      "metadata": {
        "id": "YVtXGzixG09T"
      },
      "outputs": [],
      "source": [
        "# Importar el manejador de modelo: ModelHandler\n",
        "from pv_vision.nn import ModelHandler"
      ]
    },
    {
      "cell_type": "code",
      "execution_count": 6,
      "metadata": {
        "id": "ia6yr7DDG09T"
      },
      "outputs": [],
      "source": [
        "# Definición de una clase para el conjunto de datos solar,\n",
        "# que hereda de la clase VisionDataset de PyTorch.\n",
        "class SolarDataset(VisionDataset):\n",
        "    \"\"\"Un conjunto de datos que lee directamente las imágenes y las máscaras desde una carpeta.\"\"\"\n",
        "\n",
        "    # Se definió el método de inicialización para la clase.\n",
        "    def __init__(self,\n",
        "                 root,\n",
        "                 image_folder,\n",
        "                 mask_folder,\n",
        "                 transforms,\n",
        "                 mode = \"train\",\n",
        "                 random_seed=42):\n",
        "        # Se llamó al método de inicialización de la clase padre.\n",
        "        super().__init__(root, transforms)\n",
        "        # Se establecieron las rutas a las carpetas de imágenes y máscaras.\n",
        "        self.image_path = Path(self.root) / image_folder\n",
        "        self.mask_path = Path(self.root) / mask_folder\n",
        "\n",
        "        # Se verificó que las carpetas de imágenes y máscaras existan.\n",
        "        if not os.path.exists(self.image_path):\n",
        "            raise OSError(f\"{self.image_path} no encontrado.\")\n",
        "\n",
        "        if not os.path.exists(self.mask_path):\n",
        "            raise OSError(f\"{self.mask_path} no encontrado.\")\n",
        "\n",
        "        # Se obtuvieron las listas de imágenes y máscaras y se ordenaron.\n",
        "        self.image_list = sorted(list(list_images(self.image_path)))\n",
        "        self.mask_list = sorted(list(list_images(self.mask_path)))\n",
        "\n",
        "        # Se convirtieron las listas de imágenes y máscaras a arrays de numpy.\n",
        "        self.image_list = np.array(self.image_list)\n",
        "        self.mask_list = np.array(self.mask_list)\n",
        "\n",
        "        # Se estableció la semilla para la generación de números aleatorios y se mezclaron las imágenes y las máscaras.\n",
        "        np.random.seed(random_seed)\n",
        "        index = np.arange(len(self.image_list))\n",
        "        np.random.shuffle(index)\n",
        "        self.image_list = self.image_list[index]\n",
        "        self.mask_list = self.mask_list[index]\n",
        "\n",
        "    # Se definió el método para obtener la longitud del conjunto de datos.\n",
        "    def __len__(self):\n",
        "        return len(self.image_list)\n",
        "\n",
        "    # Se definió un método para obtener el nombre de una imagen o máscara.\n",
        "    def __getname__(self, index):\n",
        "        image_name = os.path.splitext(os.path.split(self.image_list[index])[-1])[0]\n",
        "        mask_name = os.path.splitext(os.path.split(self.mask_list[index])[-1])[0]\n",
        "\n",
        "        if image_name == mask_name:\n",
        "            return image_name\n",
        "        else:\n",
        "            return False\n",
        "\n",
        "    # Se definió un método para obtener una imagen y su máscara correspondiente.\n",
        "    def __getraw__(self, index):\n",
        "        if not self.__getname__(index):\n",
        "            raise ValueError(\"{}: La imagen no coincide con la máscara\".format(os.path.split(self.image_list[index])[-1]))\n",
        "        image = Image.open(self.image_list[index])\n",
        "        mask = Image.open(self.mask_list[index]).convert('L')\n",
        "        mask = np.array(mask)\n",
        "        mask = Image.fromarray(mask)\n",
        "\n",
        "        return image, mask\n",
        "\n",
        "    # Se definió el método para obtener un elemento del conjunto de datos.\n",
        "    def __getitem__(self, index):\n",
        "        image, mask = self.__getraw__(index)\n",
        "        image, mask = self.transforms(image, mask)\n",
        "\n",
        "        return image, mask"
      ]
    },
    {
      "cell_type": "code",
      "execution_count": 7,
      "metadata": {
        "id": "t1nDW9d6G09T"
      },
      "outputs": [],
      "source": [
        "# Definición de una clase para componer varias transformaciones.\n",
        "class Compose:\n",
        "    def __init__(self, transforms):\n",
        "        \"\"\"\n",
        "        transforms: una lista de transformaciones\n",
        "        \"\"\"\n",
        "        self.transforms = transforms\n",
        "\n",
        "    # Se definió el método para aplicar las transformaciones a la imagen y la máscara.\n",
        "    def __call__(self, image, target):\n",
        "        \"\"\"\n",
        "        image: imagen de entrada\n",
        "        target: máscara de entrada\n",
        "        \"\"\"\n",
        "        for t in self.transforms:\n",
        "            image, target = t(image, target)\n",
        "        return image, target\n",
        "\n",
        "# Se definió una clase para redimensionar la imagen y la máscara a un tamaño fijo.\n",
        "class FixResize:\n",
        "    # UNet requiere que el tamaño de entrada sea múltiplo de 16\n",
        "    def __init__(self, size):\n",
        "        self.size = size\n",
        "\n",
        "    # Se definió el método para redimensionar la imagen y la máscara.\n",
        "    def __call__(self, image, target):\n",
        "        image = F.resize(image, (self.size, self.size), interpolation=transforms.InterpolationMode.BILINEAR)\n",
        "        target = F.resize(target, (self.size, self.size), interpolation=transforms.InterpolationMode.NEAREST)\n",
        "        return image, target\n",
        "\n",
        "# Se definió una clase para transformar la imagen y la máscara a tensores.\n",
        "class ToTensor:\n",
        "    \"\"\"Transforma la imagen a tensor. Escala la imagen a [0,1] float32.\n",
        "    Transforma la máscara a tensor.\n",
        "    \"\"\"\n",
        "    def __call__(self, image, target):\n",
        "        image = transforms.ToTensor()(image)\n",
        "        target = torch.as_tensor(np.array(target), dtype=torch.int64)\n",
        "        return image, target\n",
        "\n",
        "# Se definió una clase para transformar la imagen a tensor manteniendo el tipo original.\n",
        "class PILToTensor:\n",
        "    \"\"\"Transforma la imagen a tensor. Mantiene el tipo original.\"\"\"\n",
        "    def __call__(self, image, target):\n",
        "        image = F.pil_to_tensor(image)\n",
        "        target = torch.as_tensor(np.array(target), dtype=torch.int64)\n",
        "        return image, target\n",
        "\n",
        "# Se definió una clase para normalizar la imagen.\n",
        "class Normalize:\n",
        "    def __init__(self, mean=(0.485, 0.456, 0.406), std=(0.229, 0.224, 0.225)):\n",
        "        self.mean = mean\n",
        "        self.std = std\n",
        "\n",
        "    def __call__(self, image, target):\n",
        "        # Verifica si la imagen es en escala de grises (1 canal) y la convierte a RGB (3 canales) si es necesario\n",
        "        if image.shape[0] == 1:\n",
        "            image = image.repeat(3, 1, 1)  # Repite el canal existente 3 veces\n",
        "        image = F.normalize(image, mean=self.mean, std=self.std)\n",
        "        return image, target"
      ]
    },
    {
      "cell_type": "code",
      "execution_count": 8,
      "metadata": {
        "colab": {
          "base_uri": "https://localhost:8080/"
        },
        "id": "pRAdQ8o1G09U",
        "outputId": "6674f8ee-71b0-4669-998c-4dd80478c6fe"
      },
      "outputs": [
        {
          "output_type": "stream",
          "name": "stdout",
          "text": [
            "El conjunto de datos de entrenamiento contiene 1453 elementos.\n"
          ]
        }
      ],
      "source": [
        "# Ruta al directorio que contiene las imágenes y las máscaras.\n",
        "# root = Path(\n",
        "#     '/content/drive/MyDrive/Trabajo de titulación/PV_vision/Entrenamiento')\n",
        "\n",
        "root = Path(\n",
        "    '/content/drive/MyDrive/Entrenamiento')\n",
        "\n",
        "# Se definen las transformaciones a aplicar a las imágenes y las etiquetas.\n",
        "transformers = Compose([FixResize(256), ToTensor(), Normalize()])\n",
        "#/content/drive/MyDrive/Trabajo de titulación/PV_vision/Entrenamiento/train/annotations\n",
        "#/content/drive/MyDrive/Trabajo de titulación/PV_vision/Entrenamiento/img_label_for_training/train\n",
        "# Se crean los conjuntos de datos de entrenamiento, validación y prueba.\n",
        "trainset = SolarDataset(root, image_folder=\"train/img\",\n",
        "        mask_folder=\"train/ann\", transforms=transformers)\n",
        "\n",
        "valset = SolarDataset(root, image_folder=\"val/img\",\n",
        "        mask_folder=\"val/ann\", transforms=transformers)\n",
        "\n",
        "testset = SolarDataset(root, image_folder=\"test/img\",\n",
        "        mask_folder=\"test/ann\", transforms=transformers)\n",
        "\n",
        "# Verificación de que la carpeta haya sido establecida correctamente\n",
        "print(f\"El conjunto de datos de entrenamiento contiene {len(trainset)} elementos.\")"
      ]
    },
    {
      "cell_type": "code",
      "execution_count": null,
      "metadata": {
        "id": "YhN5cKIpjCxD"
      },
      "outputs": [],
      "source": [
        "class Accuracy:\n",
        "    \"\"\"Calcular la precisión de un modelo\"\"\"\n",
        "    def __init__(self):\n",
        "        self.__name__ = \"accuracy\"\n",
        "        self._base = [0, 0]\n",
        "\n",
        "    def calc(self, outputs, targets, reduction='mean'):\n",
        "        \"\"\" Calcular la precisión.\n",
        "        Argumentos:\n",
        "        -----------\n",
        "        outputs: torch.Tensor\n",
        "        La salida del modelo, forma (batch_size, num_classes, H, W)\n",
        "\n",
        "        targets: torch.Tensor\n",
        "        La etiqueta verdadera, forma (batch_size, H, W)\n",
        "\n",
        "        reduction: str\n",
        "        El método de reducción, 'mean' o 'sum'\n",
        "        Si es 'mean', devuelve la precisión media del lote\n",
        "        Si es 'sum', devuelve la suma de predicciones correctas del lote\n",
        "\n",
        "        Retorna:\n",
        "        --------\n",
        "        accuracy: torch.Tensor\n",
        "        \"\"\"\n",
        "        # Asegúrate de que las dimensiones de outputs y targets sean compatibles\n",
        "        if outputs.dim() == 4 and targets.dim() == 3:\n",
        "            _, preds = torch.max(outputs, 1)\n",
        "            correct = torch.sum(preds == targets)\n",
        "\n",
        "            if reduction == 'mean':\n",
        "                return correct.float() / targets.numel()\n",
        "            elif reduction == 'sum':\n",
        "                return correct\n",
        "            else:\n",
        "                raise ValueError(\"reduction debe ser 'mean' o 'sum'\")\n",
        "        else:\n",
        "            raise ValueError(\"Las dimensiones de outputs y targets no son compatibles\")\n",
        "\n",
        "    def accumulate(self, outputs, targets):\n",
        "        \"\"\" Acumular la métrica a lo largo de varios lotes.\"\"\"\n",
        "        if outputs.dim() == 4 and targets.dim() == 3:\n",
        "            _, preds = torch.max(outputs, 1)\n",
        "            correct = torch.sum(preds == targets)\n",
        "            self._base[0] += correct\n",
        "            self._base[1] += targets.numel()\n",
        "        else:\n",
        "            raise ValueError(\"Las dimensiones de outputs y targets no son compatibles\")\n",
        "\n",
        "    def reset(self):\n",
        "        self._base = [0, 0]\n",
        "\n",
        "    def accumulated_score(self):\n",
        "        \"\"\" Devolver la puntuación acumulada en una época.\"\"\"\n",
        "        if self._base[1] == 0:\n",
        "            # advertencia de división por cero\n",
        "            warnings.warn(\"El denominador es cero, devuelve 0\", RuntimeWarning)\n",
        "            return 0\n",
        "        return self._base[0].float() / self._base[1]\n",
        "\n",
        "    def __call__(self, outputs, targets, reduction='mean'):\n",
        "        return self.calc(outputs, targets, reduction)"
      ]
    },
    {
      "cell_type": "code",
      "execution_count": null,
      "metadata": {
        "id": "KaZs0hwDG09U"
      },
      "outputs": [],
      "source": [
        "# Se define una función para crear un modelo DeepLab preentrenado.\n",
        "def DeepLab_pretrained(num_classes):\n",
        "    # Se carga el modelo DeepLab con una arquitectura ResNet50 preentrenada.\n",
        "    deeplab = deeplabv3_resnet50(weights=DeepLabV3_ResNet50_Weights.DEFAULT)\n",
        "\n",
        "    # Se reemplaza el clasificador del modelo con un nuevo clasificador DeepLabHead.\n",
        "    # El nuevo clasificador tiene 2048 características de entrada y 'num_classes' características de salida.\n",
        "    deeplab.classifier = DeepLabHead(2048, num_classes)\n",
        "\n",
        "    # Se devuelve el modelo modificado.\n",
        "    return deeplab"
      ]
    },
    {
      "cell_type": "code",
      "execution_count": 9,
      "metadata": {
        "id": "TZFPZp57F3wK"
      },
      "outputs": [],
      "source": [
        "# Crea una instancia del modelo U-Net con 5 canales de salida.\n",
        "# Número de canales de salida = al número de clases\n",
        "unet = construct_unet(5)\n",
        "# Se \"envuelve\" el modelo en un objeto DataParallel.\n",
        "# Esto permite que el modelo se ejecute en paralelo en múltiples GPUs, si están disponibles.\n",
        "unet = DataParallel(unet)"
      ]
    },
    {
      "cell_type": "code",
      "execution_count": 11,
      "metadata": {
        "colab": {
          "base_uri": "https://localhost:8080/"
        },
        "id": "Qnmr0nyOG09U",
        "outputId": "bfc51566-a78a-4f6c-d50c-b028fe33c519"
      },
      "outputs": [
        {
          "output_type": "stream",
          "name": "stdout",
          "text": [
            "Dispositivo utilizado: cuda:0\n"
          ]
        }
      ],
      "source": [
        "# Se define el dispositivo en el que se ejecutará el modelo.\n",
        "device = torch.device(\"cuda:0\" if torch.cuda.is_available() else \"cpu\")\n",
        "# Se imprime el dispositivo utilizado.\n",
        "print(f\"Dispositivo utilizado: {device}\")\n",
        "\n",
        "# Se crea el modelo utilizando la función DeepLab_pretrained definida anteriormente.\n",
        "# El modelo se envuelve en un objeto DataParallel para permitir el entrenamiento en múltiples GPUs si están disponibles.\n",
        "#model = DataParallel(DeepLab_pretrained(5))\n",
        "\n",
        "# Se define la función de pérdida a utilizar durante el entrenamiento.\n",
        "# En este caso, se utiliza la pérdida de entropía cruzada.\n",
        "criterion = CrossEntropyLoss()\n",
        "\n",
        "# Se define el optimizador a utilizar durante el entrenamiento. En este caso, se utiliza Adam con una tasa de aprendizaje de 0.01.\n",
        "#optimizer = Adam(model.parameters(), lr=0.01)\n",
        "optimizer = Adam(unet.parameters(), lr=0.001)\n",
        "\n",
        "# Se define el programador de la tasa de aprendizaje a utilizar durante el entrenamiento.\n",
        "# En este caso, se utiliza un programador de paso que disminuye la tasa de aprendizaje en un factor de 0.2 cada 5 épocas.\n",
        "lr_scheduler = StepLR(optimizer, step_size=5, gamma=0.2)"
      ]
    },
    {
      "cell_type": "code",
      "execution_count": 12,
      "metadata": {
        "colab": {
          "base_uri": "https://localhost:8080/"
        },
        "id": "qouTmOWmA8ng",
        "outputId": "90182e98-7970-45cf-a9d1-1f9a93f36ef2"
      },
      "outputs": [
        {
          "output_type": "execute_result",
          "data": {
            "text/plain": [
              "<All keys matched successfully>"
            ]
          },
          "metadata": {},
          "execution_count": 12
        }
      ],
      "source": [
        "# Cargar los pesos del modelo preentrenado\n",
        "\n",
        "weight_path = '/content/drive/MyDrive/Entrenamiento/unetv8.pt'\n",
        "unet.load_state_dict(torch.load(weight_path, map_location=device))"
      ]
    },
    {
      "cell_type": "code",
      "execution_count": 13,
      "metadata": {
        "colab": {
          "base_uri": "https://localhost:8080/"
        },
        "id": "TjJv6uo4G09V",
        "outputId": "115a4677-ca21-4082-eca7-773f04704a45"
      },
      "outputs": [
        {
          "output_type": "stream",
          "name": "stderr",
          "text": [
            "INFO:pv_vision.nn.modelhandler:ModelHandler initialized.\n"
          ]
        }
      ],
      "source": [
        "# Se inicializa el manejador del modelo.\n",
        "# La salida se almacena en la carpeta de salida.\n",
        "modelhandler = ModelHandler(\n",
        "    # Se pasa el modelo que se va a entrenar.\n",
        "    #model=model,\n",
        "    model = unet,\n",
        "    # Se especifica el nombre de la carpeta de salida.\n",
        "    #model_output='out_unet',\n",
        "    # Se pasan los conjuntos de datos de entrenamiento, validación y prueba.\n",
        "    train_dataset=trainset,\n",
        "    val_dataset=valset,\n",
        "    test_dataset=testset,\n",
        "    # Se especifica el tamaño del lote para el entrenamiento y la validación.\n",
        "    batch_size_train=16,\n",
        "    batch_size_val=16,\n",
        "    # Se pasa el programador de la tasa de aprendizaje.\n",
        "    lr_scheduler=lr_scheduler,\n",
        "    # Se especifica el número de épocas para el entrenamiento.\n",
        "    num_epochs=25,\n",
        "    # Se pasa la función de pérdida y el optimizador.\n",
        "    criterion=criterion,\n",
        "    optimizer=optimizer,\n",
        "    # Se pasa el dispositivo en el que se ejecutará el entrenamiento.\n",
        "    device=device,\n",
        "    #evaluate_metric= Precision,\n",
        "    # Se especifica el directorio donde se guardarán los puntos de control del modelo.\n",
        "    save_dir='/content/drive/MyDrive/Entrenamiento/checkpoints',\n",
        "    # Se especifica el nombre del archivo de punto de control.\n",
        "    save_name='unetv9.pt'\n",
        ")"
      ]
    },
    {
      "cell_type": "code",
      "execution_count": 14,
      "metadata": {
        "colab": {
          "base_uri": "https://localhost:8080/"
        },
        "id": "X1SfRwQCG09V",
        "outputId": "e7690a60-84d7-4379-b5f4-5b04f16de9a1"
      },
      "outputs": [
        {
          "output_type": "stream",
          "name": "stdout",
          "text": [
            "Epoch 1 / 25\n",
            "----------\n"
          ]
        },
        {
          "output_type": "stream",
          "name": "stderr",
          "text": [
            "  0%|          | 0/91 [00:00<?, ?it/s]INFO:pv_vision.nn.modelhandler:Train Epoch: 1 [0/1453 (0%)]\tLoss: 0.082220\n",
            " 11%|█         | 10/91 [00:22<01:38,  1.22s/it]INFO:pv_vision.nn.modelhandler:Train Epoch: 1 [160/1453 (11%)]\tLoss: 0.071283\n",
            " 22%|██▏       | 20/91 [00:33<01:19,  1.12s/it]INFO:pv_vision.nn.modelhandler:Train Epoch: 1 [320/1453 (22%)]\tLoss: 0.055458\n",
            " 33%|███▎      | 30/91 [00:44<01:05,  1.08s/it]INFO:pv_vision.nn.modelhandler:Train Epoch: 1 [480/1453 (33%)]\tLoss: 0.074155\n",
            " 44%|████▍     | 40/91 [00:55<00:53,  1.05s/it]INFO:pv_vision.nn.modelhandler:Train Epoch: 1 [640/1453 (44%)]\tLoss: 0.074561\n",
            " 55%|█████▍    | 50/91 [01:05<00:42,  1.03s/it]INFO:pv_vision.nn.modelhandler:Train Epoch: 1 [800/1453 (55%)]\tLoss: 0.063991\n",
            " 66%|██████▌   | 60/91 [01:16<00:31,  1.03s/it]INFO:pv_vision.nn.modelhandler:Train Epoch: 1 [960/1453 (66%)]\tLoss: 0.063718\n",
            " 77%|███████▋  | 70/91 [01:26<00:21,  1.03s/it]INFO:pv_vision.nn.modelhandler:Train Epoch: 1 [1120/1453 (77%)]\tLoss: 0.076819\n",
            " 88%|████████▊ | 80/91 [01:37<00:11,  1.04s/it]INFO:pv_vision.nn.modelhandler:Train Epoch: 1 [1280/1453 (88%)]\tLoss: 0.047628\n",
            " 99%|█████████▉| 90/91 [01:48<00:01,  1.06s/it]INFO:pv_vision.nn.modelhandler:Train Epoch: 1 [1170/1453 (99%)]\tLoss: 0.068965\n",
            "100%|██████████| 91/91 [01:49<00:00,  1.21s/it]\n",
            "INFO:pv_vision.nn.modelhandler:Saved model at epoch 1\n",
            "100%|██████████| 6/6 [00:03<00:00,  1.88it/s]\n",
            "INFO:pv_vision.nn.modelhandler:Val epoch: 1 \tAverage loss: 0.1303\n"
          ]
        },
        {
          "output_type": "stream",
          "name": "stdout",
          "text": [
            "Loss: 0.0651 (train) | 0.1303 (val)\n",
            "Epoch 2 / 25\n",
            "----------\n"
          ]
        },
        {
          "output_type": "stream",
          "name": "stderr",
          "text": [
            "  0%|          | 0/91 [00:00<?, ?it/s]INFO:pv_vision.nn.modelhandler:Train Epoch: 2 [0/1453 (0%)]\tLoss: 0.081470\n",
            " 11%|█         | 10/91 [00:10<01:24,  1.05s/it]INFO:pv_vision.nn.modelhandler:Train Epoch: 2 [160/1453 (11%)]\tLoss: 0.043137\n",
            " 22%|██▏       | 20/91 [00:20<01:14,  1.05s/it]INFO:pv_vision.nn.modelhandler:Train Epoch: 2 [320/1453 (22%)]\tLoss: 0.051466\n",
            " 33%|███▎      | 30/91 [00:31<01:04,  1.05s/it]INFO:pv_vision.nn.modelhandler:Train Epoch: 2 [480/1453 (33%)]\tLoss: 0.061926\n",
            " 44%|████▍     | 40/91 [00:42<00:53,  1.05s/it]INFO:pv_vision.nn.modelhandler:Train Epoch: 2 [640/1453 (44%)]\tLoss: 0.064473\n",
            " 55%|█████▍    | 50/91 [00:52<00:42,  1.04s/it]INFO:pv_vision.nn.modelhandler:Train Epoch: 2 [800/1453 (55%)]\tLoss: 0.079915\n",
            " 66%|██████▌   | 60/91 [01:03<00:32,  1.04s/it]INFO:pv_vision.nn.modelhandler:Train Epoch: 2 [960/1453 (66%)]\tLoss: 0.083253\n",
            " 77%|███████▋  | 70/91 [01:13<00:21,  1.04s/it]INFO:pv_vision.nn.modelhandler:Train Epoch: 2 [1120/1453 (77%)]\tLoss: 0.061940\n",
            " 88%|████████▊ | 80/91 [01:24<00:11,  1.05s/it]INFO:pv_vision.nn.modelhandler:Train Epoch: 2 [1280/1453 (88%)]\tLoss: 0.057524\n",
            " 99%|█████████▉| 90/91 [01:35<00:01,  1.05s/it]INFO:pv_vision.nn.modelhandler:Train Epoch: 2 [1170/1453 (99%)]\tLoss: 0.057089\n",
            "100%|██████████| 91/91 [01:36<00:00,  1.06s/it]\n",
            "INFO:pv_vision.nn.modelhandler:Saved model at epoch 2\n",
            "100%|██████████| 6/6 [00:03<00:00,  1.93it/s]\n",
            "INFO:pv_vision.nn.modelhandler:Val epoch: 2 \tAverage loss: 0.1227\n"
          ]
        },
        {
          "output_type": "stream",
          "name": "stdout",
          "text": [
            "Loss: 0.0632 (train) | 0.1227 (val)\n",
            "Epoch 3 / 25\n",
            "----------\n"
          ]
        },
        {
          "output_type": "stream",
          "name": "stderr",
          "text": [
            "  0%|          | 0/91 [00:00<?, ?it/s]INFO:pv_vision.nn.modelhandler:Train Epoch: 3 [0/1453 (0%)]\tLoss: 0.045266\n",
            " 11%|█         | 10/91 [00:10<01:24,  1.04s/it]INFO:pv_vision.nn.modelhandler:Train Epoch: 3 [160/1453 (11%)]\tLoss: 0.079521\n",
            " 22%|██▏       | 20/91 [00:20<01:14,  1.05s/it]INFO:pv_vision.nn.modelhandler:Train Epoch: 3 [320/1453 (22%)]\tLoss: 0.107514\n",
            " 33%|███▎      | 30/91 [00:31<01:04,  1.05s/it]INFO:pv_vision.nn.modelhandler:Train Epoch: 3 [480/1453 (33%)]\tLoss: 0.100269\n",
            " 44%|████▍     | 40/91 [00:42<00:53,  1.05s/it]INFO:pv_vision.nn.modelhandler:Train Epoch: 3 [640/1453 (44%)]\tLoss: 0.087835\n",
            " 55%|█████▍    | 50/91 [00:52<00:43,  1.05s/it]INFO:pv_vision.nn.modelhandler:Train Epoch: 3 [800/1453 (55%)]\tLoss: 0.095304\n",
            " 66%|██████▌   | 60/91 [01:03<00:32,  1.05s/it]INFO:pv_vision.nn.modelhandler:Train Epoch: 3 [960/1453 (66%)]\tLoss: 0.061477\n",
            " 77%|███████▋  | 70/91 [01:14<00:22,  1.05s/it]INFO:pv_vision.nn.modelhandler:Train Epoch: 3 [1120/1453 (77%)]\tLoss: 0.054234\n",
            " 88%|████████▊ | 80/91 [01:25<00:11,  1.05s/it]INFO:pv_vision.nn.modelhandler:Train Epoch: 3 [1280/1453 (88%)]\tLoss: 0.048410\n",
            " 99%|█████████▉| 90/91 [01:35<00:01,  1.05s/it]INFO:pv_vision.nn.modelhandler:Train Epoch: 3 [1170/1453 (99%)]\tLoss: 0.062192\n",
            "100%|██████████| 91/91 [01:37<00:00,  1.07s/it]\n",
            "INFO:pv_vision.nn.modelhandler:Saved model at epoch 3\n",
            "100%|██████████| 6/6 [00:03<00:00,  1.83it/s]\n",
            "INFO:pv_vision.nn.modelhandler:Val epoch: 3 \tAverage loss: 0.1258\n"
          ]
        },
        {
          "output_type": "stream",
          "name": "stdout",
          "text": [
            "Loss: 0.0646 (train) | 0.1258 (val)\n",
            "Epoch 4 / 25\n",
            "----------\n"
          ]
        },
        {
          "output_type": "stream",
          "name": "stderr",
          "text": [
            "  0%|          | 0/91 [00:00<?, ?it/s]INFO:pv_vision.nn.modelhandler:Train Epoch: 4 [0/1453 (0%)]\tLoss: 0.090481\n",
            " 11%|█         | 10/91 [00:10<01:24,  1.05s/it]INFO:pv_vision.nn.modelhandler:Train Epoch: 4 [160/1453 (11%)]\tLoss: 0.054991\n",
            " 22%|██▏       | 20/91 [00:20<01:14,  1.05s/it]INFO:pv_vision.nn.modelhandler:Train Epoch: 4 [320/1453 (22%)]\tLoss: 0.045628\n",
            " 33%|███▎      | 30/91 [00:31<01:03,  1.05s/it]INFO:pv_vision.nn.modelhandler:Train Epoch: 4 [480/1453 (33%)]\tLoss: 0.042644\n",
            " 44%|████▍     | 40/91 [00:42<00:53,  1.05s/it]INFO:pv_vision.nn.modelhandler:Train Epoch: 4 [640/1453 (44%)]\tLoss: 0.046526\n",
            " 55%|█████▍    | 50/91 [00:52<00:43,  1.05s/it]INFO:pv_vision.nn.modelhandler:Train Epoch: 4 [800/1453 (55%)]\tLoss: 0.064801\n",
            " 66%|██████▌   | 60/91 [01:03<00:32,  1.05s/it]INFO:pv_vision.nn.modelhandler:Train Epoch: 4 [960/1453 (66%)]\tLoss: 0.064048\n",
            " 77%|███████▋  | 70/91 [01:14<00:21,  1.05s/it]INFO:pv_vision.nn.modelhandler:Train Epoch: 4 [1120/1453 (77%)]\tLoss: 0.078728\n",
            " 88%|████████▊ | 80/91 [01:24<00:11,  1.05s/it]INFO:pv_vision.nn.modelhandler:Train Epoch: 4 [1280/1453 (88%)]\tLoss: 0.071315\n",
            " 99%|█████████▉| 90/91 [01:35<00:01,  1.05s/it]INFO:pv_vision.nn.modelhandler:Train Epoch: 4 [1170/1453 (99%)]\tLoss: 0.042153\n",
            "100%|██████████| 91/91 [01:37<00:00,  1.07s/it]\n",
            "INFO:pv_vision.nn.modelhandler:Saved model at epoch 4\n",
            "100%|██████████| 6/6 [00:03<00:00,  1.69it/s]\n",
            "INFO:pv_vision.nn.modelhandler:Val epoch: 4 \tAverage loss: 0.1297\n"
          ]
        },
        {
          "output_type": "stream",
          "name": "stdout",
          "text": [
            "Loss: 0.0630 (train) | 0.1297 (val)\n",
            "Epoch 5 / 25\n",
            "----------\n"
          ]
        },
        {
          "output_type": "stream",
          "name": "stderr",
          "text": [
            "  0%|          | 0/91 [00:00<?, ?it/s]INFO:pv_vision.nn.modelhandler:Train Epoch: 5 [0/1453 (0%)]\tLoss: 0.081527\n",
            " 11%|█         | 10/91 [00:10<01:24,  1.04s/it]INFO:pv_vision.nn.modelhandler:Train Epoch: 5 [160/1453 (11%)]\tLoss: 0.077672\n",
            " 22%|██▏       | 20/91 [00:20<01:14,  1.05s/it]INFO:pv_vision.nn.modelhandler:Train Epoch: 5 [320/1453 (22%)]\tLoss: 0.050754\n",
            " 33%|███▎      | 30/91 [00:31<01:03,  1.04s/it]INFO:pv_vision.nn.modelhandler:Train Epoch: 5 [480/1453 (33%)]\tLoss: 0.037668\n",
            " 44%|████▍     | 40/91 [00:41<00:53,  1.05s/it]INFO:pv_vision.nn.modelhandler:Train Epoch: 5 [640/1453 (44%)]\tLoss: 0.055557\n",
            " 55%|█████▍    | 50/91 [00:52<00:42,  1.05s/it]INFO:pv_vision.nn.modelhandler:Train Epoch: 5 [800/1453 (55%)]\tLoss: 0.044878\n",
            " 66%|██████▌   | 60/91 [01:03<00:32,  1.05s/it]INFO:pv_vision.nn.modelhandler:Train Epoch: 5 [960/1453 (66%)]\tLoss: 0.078889\n",
            " 77%|███████▋  | 70/91 [01:13<00:22,  1.05s/it]INFO:pv_vision.nn.modelhandler:Train Epoch: 5 [1120/1453 (77%)]\tLoss: 0.067499\n",
            " 88%|████████▊ | 80/91 [01:24<00:11,  1.05s/it]INFO:pv_vision.nn.modelhandler:Train Epoch: 5 [1280/1453 (88%)]\tLoss: 0.066052\n",
            " 99%|█████████▉| 90/91 [01:35<00:01,  1.05s/it]INFO:pv_vision.nn.modelhandler:Train Epoch: 5 [1170/1453 (99%)]\tLoss: 0.055331\n",
            "100%|██████████| 91/91 [01:37<00:00,  1.07s/it]\n",
            "INFO:pv_vision.nn.modelhandler:Saved model at epoch 5\n",
            "100%|██████████| 6/6 [00:03<00:00,  1.70it/s]\n",
            "INFO:pv_vision.nn.modelhandler:Val epoch: 5 \tAverage loss: 0.1165\n"
          ]
        },
        {
          "output_type": "stream",
          "name": "stdout",
          "text": [
            "Loss: 0.0625 (train) | 0.1165 (val)\n",
            "Epoch 6 / 25\n",
            "----------\n"
          ]
        },
        {
          "output_type": "stream",
          "name": "stderr",
          "text": [
            "  0%|          | 0/91 [00:00<?, ?it/s]INFO:pv_vision.nn.modelhandler:Train Epoch: 6 [0/1453 (0%)]\tLoss: 0.041620\n",
            " 11%|█         | 10/91 [00:10<01:24,  1.04s/it]INFO:pv_vision.nn.modelhandler:Train Epoch: 6 [160/1453 (11%)]\tLoss: 0.066429\n",
            " 22%|██▏       | 20/91 [00:20<01:14,  1.05s/it]INFO:pv_vision.nn.modelhandler:Train Epoch: 6 [320/1453 (22%)]\tLoss: 0.050901\n",
            " 33%|███▎      | 30/91 [00:31<01:04,  1.05s/it]INFO:pv_vision.nn.modelhandler:Train Epoch: 6 [480/1453 (33%)]\tLoss: 0.048513\n",
            " 44%|████▍     | 40/91 [00:42<00:53,  1.05s/it]INFO:pv_vision.nn.modelhandler:Train Epoch: 6 [640/1453 (44%)]\tLoss: 0.055007\n",
            " 55%|█████▍    | 50/91 [00:52<00:42,  1.05s/it]INFO:pv_vision.nn.modelhandler:Train Epoch: 6 [800/1453 (55%)]\tLoss: 0.053923\n",
            " 66%|██████▌   | 60/91 [01:03<00:32,  1.05s/it]INFO:pv_vision.nn.modelhandler:Train Epoch: 6 [960/1453 (66%)]\tLoss: 0.045169\n",
            " 77%|███████▋  | 70/91 [01:14<00:22,  1.05s/it]INFO:pv_vision.nn.modelhandler:Train Epoch: 6 [1120/1453 (77%)]\tLoss: 0.066702\n",
            " 88%|████████▊ | 80/91 [01:24<00:11,  1.05s/it]INFO:pv_vision.nn.modelhandler:Train Epoch: 6 [1280/1453 (88%)]\tLoss: 0.068442\n",
            " 99%|█████████▉| 90/91 [01:35<00:01,  1.05s/it]INFO:pv_vision.nn.modelhandler:Train Epoch: 6 [1170/1453 (99%)]\tLoss: 0.048945\n",
            "100%|██████████| 91/91 [01:37<00:00,  1.07s/it]\n",
            "INFO:pv_vision.nn.modelhandler:Saved model at epoch 6\n",
            "100%|██████████| 6/6 [00:03<00:00,  1.76it/s]\n",
            "INFO:pv_vision.nn.modelhandler:Val epoch: 6 \tAverage loss: 0.1098\n"
          ]
        },
        {
          "output_type": "stream",
          "name": "stdout",
          "text": [
            "Loss: 0.0575 (train) | 0.1098 (val)\n",
            "Epoch 7 / 25\n",
            "----------\n"
          ]
        },
        {
          "output_type": "stream",
          "name": "stderr",
          "text": [
            "  0%|          | 0/91 [00:00<?, ?it/s]INFO:pv_vision.nn.modelhandler:Train Epoch: 7 [0/1453 (0%)]\tLoss: 0.054885\n",
            " 11%|█         | 10/91 [00:10<01:24,  1.04s/it]INFO:pv_vision.nn.modelhandler:Train Epoch: 7 [160/1453 (11%)]\tLoss: 0.077987\n",
            " 22%|██▏       | 20/91 [00:20<01:14,  1.05s/it]INFO:pv_vision.nn.modelhandler:Train Epoch: 7 [320/1453 (22%)]\tLoss: 0.045421\n",
            " 33%|███▎      | 30/91 [00:31<01:03,  1.04s/it]INFO:pv_vision.nn.modelhandler:Train Epoch: 7 [480/1453 (33%)]\tLoss: 0.043081\n",
            " 44%|████▍     | 40/91 [00:42<00:53,  1.05s/it]INFO:pv_vision.nn.modelhandler:Train Epoch: 7 [640/1453 (44%)]\tLoss: 0.052527\n",
            " 55%|█████▍    | 50/91 [00:52<00:43,  1.05s/it]INFO:pv_vision.nn.modelhandler:Train Epoch: 7 [800/1453 (55%)]\tLoss: 0.090304\n",
            " 66%|██████▌   | 60/91 [01:03<00:32,  1.05s/it]INFO:pv_vision.nn.modelhandler:Train Epoch: 7 [960/1453 (66%)]\tLoss: 0.049326\n",
            " 77%|███████▋  | 70/91 [01:14<00:22,  1.05s/it]INFO:pv_vision.nn.modelhandler:Train Epoch: 7 [1120/1453 (77%)]\tLoss: 0.073939\n",
            " 88%|████████▊ | 80/91 [01:24<00:11,  1.05s/it]INFO:pv_vision.nn.modelhandler:Train Epoch: 7 [1280/1453 (88%)]\tLoss: 0.055602\n",
            " 99%|█████████▉| 90/91 [01:35<00:01,  1.05s/it]INFO:pv_vision.nn.modelhandler:Train Epoch: 7 [1170/1453 (99%)]\tLoss: 0.047397\n",
            "100%|██████████| 91/91 [01:37<00:00,  1.07s/it]\n",
            "INFO:pv_vision.nn.modelhandler:Saved model at epoch 7\n",
            "100%|██████████| 6/6 [00:03<00:00,  1.84it/s]\n",
            "INFO:pv_vision.nn.modelhandler:Val epoch: 7 \tAverage loss: 0.1089\n"
          ]
        },
        {
          "output_type": "stream",
          "name": "stdout",
          "text": [
            "Loss: 0.0568 (train) | 0.1089 (val)\n",
            "Epoch 8 / 25\n",
            "----------\n"
          ]
        },
        {
          "output_type": "stream",
          "name": "stderr",
          "text": [
            "  0%|          | 0/91 [00:00<?, ?it/s]INFO:pv_vision.nn.modelhandler:Train Epoch: 8 [0/1453 (0%)]\tLoss: 0.045961\n",
            " 11%|█         | 10/91 [00:10<01:24,  1.04s/it]INFO:pv_vision.nn.modelhandler:Train Epoch: 8 [160/1453 (11%)]\tLoss: 0.059135\n",
            " 22%|██▏       | 20/91 [00:20<01:14,  1.05s/it]INFO:pv_vision.nn.modelhandler:Train Epoch: 8 [320/1453 (22%)]\tLoss: 0.053300\n",
            " 33%|███▎      | 30/91 [00:31<01:03,  1.05s/it]INFO:pv_vision.nn.modelhandler:Train Epoch: 8 [480/1453 (33%)]\tLoss: 0.060402\n",
            " 44%|████▍     | 40/91 [00:42<00:53,  1.05s/it]INFO:pv_vision.nn.modelhandler:Train Epoch: 8 [640/1453 (44%)]\tLoss: 0.034601\n",
            " 55%|█████▍    | 50/91 [00:52<00:42,  1.05s/it]INFO:pv_vision.nn.modelhandler:Train Epoch: 8 [800/1453 (55%)]\tLoss: 0.071797\n",
            " 66%|██████▌   | 60/91 [01:03<00:32,  1.04s/it]INFO:pv_vision.nn.modelhandler:Train Epoch: 8 [960/1453 (66%)]\tLoss: 0.032223\n",
            " 77%|███████▋  | 70/91 [01:13<00:22,  1.05s/it]INFO:pv_vision.nn.modelhandler:Train Epoch: 8 [1120/1453 (77%)]\tLoss: 0.040193\n",
            " 88%|████████▊ | 80/91 [01:24<00:11,  1.05s/it]INFO:pv_vision.nn.modelhandler:Train Epoch: 8 [1280/1453 (88%)]\tLoss: 0.053211\n",
            " 99%|█████████▉| 90/91 [01:35<00:01,  1.05s/it]INFO:pv_vision.nn.modelhandler:Train Epoch: 8 [1170/1453 (99%)]\tLoss: 0.056357\n",
            "100%|██████████| 91/91 [01:36<00:00,  1.06s/it]\n",
            "INFO:pv_vision.nn.modelhandler:Saved model at epoch 8\n",
            "100%|██████████| 6/6 [00:03<00:00,  1.93it/s]\n",
            "INFO:pv_vision.nn.modelhandler:Val epoch: 8 \tAverage loss: 0.1060\n"
          ]
        },
        {
          "output_type": "stream",
          "name": "stdout",
          "text": [
            "Loss: 0.0564 (train) | 0.1060 (val)\n",
            "Epoch 9 / 25\n",
            "----------\n"
          ]
        },
        {
          "output_type": "stream",
          "name": "stderr",
          "text": [
            "  0%|          | 0/91 [00:00<?, ?it/s]INFO:pv_vision.nn.modelhandler:Train Epoch: 9 [0/1453 (0%)]\tLoss: 0.052054\n",
            " 11%|█         | 10/91 [00:10<01:24,  1.04s/it]INFO:pv_vision.nn.modelhandler:Train Epoch: 9 [160/1453 (11%)]\tLoss: 0.042789\n",
            " 22%|██▏       | 20/91 [00:20<01:14,  1.05s/it]INFO:pv_vision.nn.modelhandler:Train Epoch: 9 [320/1453 (22%)]\tLoss: 0.047193\n",
            " 33%|███▎      | 30/91 [00:31<01:04,  1.05s/it]INFO:pv_vision.nn.modelhandler:Train Epoch: 9 [480/1453 (33%)]\tLoss: 0.055672\n",
            " 44%|████▍     | 40/91 [00:42<00:53,  1.05s/it]INFO:pv_vision.nn.modelhandler:Train Epoch: 9 [640/1453 (44%)]\tLoss: 0.052060\n",
            " 55%|█████▍    | 50/91 [00:52<00:43,  1.05s/it]INFO:pv_vision.nn.modelhandler:Train Epoch: 9 [800/1453 (55%)]\tLoss: 0.030201\n",
            " 66%|██████▌   | 60/91 [01:03<00:32,  1.05s/it]INFO:pv_vision.nn.modelhandler:Train Epoch: 9 [960/1453 (66%)]\tLoss: 0.047953\n",
            " 77%|███████▋  | 70/91 [01:14<00:22,  1.05s/it]INFO:pv_vision.nn.modelhandler:Train Epoch: 9 [1120/1453 (77%)]\tLoss: 0.049605\n",
            " 88%|████████▊ | 80/91 [01:24<00:11,  1.05s/it]INFO:pv_vision.nn.modelhandler:Train Epoch: 9 [1280/1453 (88%)]\tLoss: 0.041144\n",
            " 99%|█████████▉| 90/91 [01:35<00:01,  1.05s/it]INFO:pv_vision.nn.modelhandler:Train Epoch: 9 [1170/1453 (99%)]\tLoss: 0.071087\n",
            "100%|██████████| 91/91 [01:37<00:00,  1.07s/it]\n",
            "INFO:pv_vision.nn.modelhandler:Saved model at epoch 9\n",
            "100%|██████████| 6/6 [00:03<00:00,  1.99it/s]\n",
            "INFO:pv_vision.nn.modelhandler:Val epoch: 9 \tAverage loss: 0.1059\n"
          ]
        },
        {
          "output_type": "stream",
          "name": "stdout",
          "text": [
            "Loss: 0.0555 (train) | 0.1059 (val)\n",
            "Epoch 10 / 25\n",
            "----------\n"
          ]
        },
        {
          "output_type": "stream",
          "name": "stderr",
          "text": [
            "  0%|          | 0/91 [00:00<?, ?it/s]INFO:pv_vision.nn.modelhandler:Train Epoch: 10 [0/1453 (0%)]\tLoss: 0.102906\n",
            " 11%|█         | 10/91 [00:10<01:24,  1.04s/it]INFO:pv_vision.nn.modelhandler:Train Epoch: 10 [160/1453 (11%)]\tLoss: 0.089194\n",
            " 22%|██▏       | 20/91 [00:20<01:14,  1.05s/it]INFO:pv_vision.nn.modelhandler:Train Epoch: 10 [320/1453 (22%)]\tLoss: 0.060761\n",
            " 33%|███▎      | 30/91 [00:31<01:04,  1.05s/it]INFO:pv_vision.nn.modelhandler:Train Epoch: 10 [480/1453 (33%)]\tLoss: 0.053801\n",
            " 44%|████▍     | 40/91 [00:42<00:53,  1.04s/it]INFO:pv_vision.nn.modelhandler:Train Epoch: 10 [640/1453 (44%)]\tLoss: 0.047510\n",
            " 55%|█████▍    | 50/91 [00:52<00:42,  1.05s/it]INFO:pv_vision.nn.modelhandler:Train Epoch: 10 [800/1453 (55%)]\tLoss: 0.074164\n",
            " 66%|██████▌   | 60/91 [01:03<00:32,  1.05s/it]INFO:pv_vision.nn.modelhandler:Train Epoch: 10 [960/1453 (66%)]\tLoss: 0.040150\n",
            " 77%|███████▋  | 70/91 [01:14<00:22,  1.05s/it]INFO:pv_vision.nn.modelhandler:Train Epoch: 10 [1120/1453 (77%)]\tLoss: 0.048459\n",
            " 88%|████████▊ | 80/91 [01:24<00:11,  1.05s/it]INFO:pv_vision.nn.modelhandler:Train Epoch: 10 [1280/1453 (88%)]\tLoss: 0.040233\n",
            " 99%|█████████▉| 90/91 [01:35<00:01,  1.05s/it]INFO:pv_vision.nn.modelhandler:Train Epoch: 10 [1170/1453 (99%)]\tLoss: 0.043699\n",
            "100%|██████████| 91/91 [01:37<00:00,  1.07s/it]\n",
            "INFO:pv_vision.nn.modelhandler:Saved model at epoch 10\n",
            "100%|██████████| 6/6 [00:03<00:00,  1.84it/s]\n",
            "INFO:pv_vision.nn.modelhandler:Val epoch: 10 \tAverage loss: 0.1053\n"
          ]
        },
        {
          "output_type": "stream",
          "name": "stdout",
          "text": [
            "Loss: 0.0554 (train) | 0.1053 (val)\n",
            "Epoch 11 / 25\n",
            "----------\n"
          ]
        },
        {
          "output_type": "stream",
          "name": "stderr",
          "text": [
            "  0%|          | 0/91 [00:00<?, ?it/s]INFO:pv_vision.nn.modelhandler:Train Epoch: 11 [0/1453 (0%)]\tLoss: 0.039184\n",
            " 11%|█         | 10/91 [00:10<01:24,  1.04s/it]INFO:pv_vision.nn.modelhandler:Train Epoch: 11 [160/1453 (11%)]\tLoss: 0.048654\n",
            " 22%|██▏       | 20/91 [00:20<01:14,  1.05s/it]INFO:pv_vision.nn.modelhandler:Train Epoch: 11 [320/1453 (22%)]\tLoss: 0.077870\n",
            " 33%|███▎      | 30/91 [00:31<01:04,  1.05s/it]INFO:pv_vision.nn.modelhandler:Train Epoch: 11 [480/1453 (33%)]\tLoss: 0.053980\n",
            " 44%|████▍     | 40/91 [00:42<00:53,  1.05s/it]INFO:pv_vision.nn.modelhandler:Train Epoch: 11 [640/1453 (44%)]\tLoss: 0.051401\n",
            " 55%|█████▍    | 50/91 [00:52<00:43,  1.05s/it]INFO:pv_vision.nn.modelhandler:Train Epoch: 11 [800/1453 (55%)]\tLoss: 0.044153\n",
            " 66%|██████▌   | 60/91 [01:03<00:32,  1.04s/it]INFO:pv_vision.nn.modelhandler:Train Epoch: 11 [960/1453 (66%)]\tLoss: 0.052782\n",
            " 77%|███████▋  | 70/91 [01:14<00:21,  1.04s/it]INFO:pv_vision.nn.modelhandler:Train Epoch: 11 [1120/1453 (77%)]\tLoss: 0.047543\n",
            " 88%|████████▊ | 80/91 [01:24<00:11,  1.04s/it]INFO:pv_vision.nn.modelhandler:Train Epoch: 11 [1280/1453 (88%)]\tLoss: 0.059044\n",
            " 99%|█████████▉| 90/91 [01:35<00:01,  1.05s/it]INFO:pv_vision.nn.modelhandler:Train Epoch: 11 [1170/1453 (99%)]\tLoss: 0.038601\n",
            "100%|██████████| 91/91 [01:36<00:00,  1.06s/it]\n",
            "INFO:pv_vision.nn.modelhandler:Saved model at epoch 11\n",
            "100%|██████████| 6/6 [00:03<00:00,  1.97it/s]\n",
            "INFO:pv_vision.nn.modelhandler:Val epoch: 11 \tAverage loss: 0.1042\n"
          ]
        },
        {
          "output_type": "stream",
          "name": "stdout",
          "text": [
            "Loss: 0.0546 (train) | 0.1042 (val)\n",
            "Epoch 12 / 25\n",
            "----------\n"
          ]
        },
        {
          "output_type": "stream",
          "name": "stderr",
          "text": [
            "  0%|          | 0/91 [00:00<?, ?it/s]INFO:pv_vision.nn.modelhandler:Train Epoch: 12 [0/1453 (0%)]\tLoss: 0.081850\n",
            " 11%|█         | 10/91 [00:10<01:24,  1.04s/it]INFO:pv_vision.nn.modelhandler:Train Epoch: 12 [160/1453 (11%)]\tLoss: 0.040644\n",
            " 22%|██▏       | 20/91 [00:20<01:14,  1.05s/it]INFO:pv_vision.nn.modelhandler:Train Epoch: 12 [320/1453 (22%)]\tLoss: 0.045570\n",
            " 33%|███▎      | 30/91 [00:31<01:04,  1.05s/it]INFO:pv_vision.nn.modelhandler:Train Epoch: 12 [480/1453 (33%)]\tLoss: 0.062810\n",
            " 44%|████▍     | 40/91 [00:42<00:53,  1.05s/it]INFO:pv_vision.nn.modelhandler:Train Epoch: 12 [640/1453 (44%)]\tLoss: 0.039756\n",
            " 55%|█████▍    | 50/91 [00:52<00:43,  1.05s/it]INFO:pv_vision.nn.modelhandler:Train Epoch: 12 [800/1453 (55%)]\tLoss: 0.045028\n",
            " 66%|██████▌   | 60/91 [01:03<00:32,  1.05s/it]INFO:pv_vision.nn.modelhandler:Train Epoch: 12 [960/1453 (66%)]\tLoss: 0.060033\n",
            " 77%|███████▋  | 70/91 [01:14<00:21,  1.05s/it]INFO:pv_vision.nn.modelhandler:Train Epoch: 12 [1120/1453 (77%)]\tLoss: 0.062134\n",
            " 88%|████████▊ | 80/91 [01:24<00:11,  1.04s/it]INFO:pv_vision.nn.modelhandler:Train Epoch: 12 [1280/1453 (88%)]\tLoss: 0.067069\n",
            " 99%|█████████▉| 90/91 [01:35<00:01,  1.05s/it]INFO:pv_vision.nn.modelhandler:Train Epoch: 12 [1170/1453 (99%)]\tLoss: 0.052239\n",
            "100%|██████████| 91/91 [01:36<00:00,  1.07s/it]\n",
            "INFO:pv_vision.nn.modelhandler:Saved model at epoch 12\n",
            "100%|██████████| 6/6 [00:03<00:00,  1.69it/s]\n",
            "INFO:pv_vision.nn.modelhandler:Val epoch: 12 \tAverage loss: 0.1049\n"
          ]
        },
        {
          "output_type": "stream",
          "name": "stdout",
          "text": [
            "Loss: 0.0546 (train) | 0.1049 (val)\n",
            "Epoch 13 / 25\n",
            "----------\n"
          ]
        },
        {
          "output_type": "stream",
          "name": "stderr",
          "text": [
            "  0%|          | 0/91 [00:00<?, ?it/s]INFO:pv_vision.nn.modelhandler:Train Epoch: 13 [0/1453 (0%)]\tLoss: 0.050393\n",
            " 11%|█         | 10/91 [00:10<01:24,  1.05s/it]INFO:pv_vision.nn.modelhandler:Train Epoch: 13 [160/1453 (11%)]\tLoss: 0.063578\n",
            " 22%|██▏       | 20/91 [00:20<01:14,  1.05s/it]INFO:pv_vision.nn.modelhandler:Train Epoch: 13 [320/1453 (22%)]\tLoss: 0.068075\n",
            " 33%|███▎      | 30/91 [00:31<01:03,  1.05s/it]INFO:pv_vision.nn.modelhandler:Train Epoch: 13 [480/1453 (33%)]\tLoss: 0.059768\n",
            " 44%|████▍     | 40/91 [00:42<00:53,  1.05s/it]INFO:pv_vision.nn.modelhandler:Train Epoch: 13 [640/1453 (44%)]\tLoss: 0.057558\n",
            " 55%|█████▍    | 50/91 [00:52<00:43,  1.05s/it]INFO:pv_vision.nn.modelhandler:Train Epoch: 13 [800/1453 (55%)]\tLoss: 0.052171\n",
            " 66%|██████▌   | 60/91 [01:03<00:32,  1.04s/it]INFO:pv_vision.nn.modelhandler:Train Epoch: 13 [960/1453 (66%)]\tLoss: 0.045120\n",
            " 77%|███████▋  | 70/91 [01:14<00:21,  1.04s/it]INFO:pv_vision.nn.modelhandler:Train Epoch: 13 [1120/1453 (77%)]\tLoss: 0.064350\n",
            " 88%|████████▊ | 80/91 [01:24<00:11,  1.04s/it]INFO:pv_vision.nn.modelhandler:Train Epoch: 13 [1280/1453 (88%)]\tLoss: 0.081217\n",
            " 99%|█████████▉| 90/91 [01:35<00:01,  1.04s/it]INFO:pv_vision.nn.modelhandler:Train Epoch: 13 [1170/1453 (99%)]\tLoss: 0.065095\n",
            "100%|██████████| 91/91 [01:37<00:00,  1.07s/it]\n",
            "INFO:pv_vision.nn.modelhandler:Saved model at epoch 13\n",
            "100%|██████████| 6/6 [00:03<00:00,  1.73it/s]\n",
            "INFO:pv_vision.nn.modelhandler:Val epoch: 13 \tAverage loss: 0.1041\n"
          ]
        },
        {
          "output_type": "stream",
          "name": "stdout",
          "text": [
            "Loss: 0.0541 (train) | 0.1041 (val)\n",
            "Epoch 14 / 25\n",
            "----------\n"
          ]
        },
        {
          "output_type": "stream",
          "name": "stderr",
          "text": [
            "  0%|          | 0/91 [00:00<?, ?it/s]INFO:pv_vision.nn.modelhandler:Train Epoch: 14 [0/1453 (0%)]\tLoss: 0.049681\n",
            " 11%|█         | 10/91 [00:10<01:24,  1.04s/it]INFO:pv_vision.nn.modelhandler:Train Epoch: 14 [160/1453 (11%)]\tLoss: 0.049923\n",
            " 22%|██▏       | 20/91 [00:20<01:14,  1.05s/it]INFO:pv_vision.nn.modelhandler:Train Epoch: 14 [320/1453 (22%)]\tLoss: 0.049822\n",
            " 33%|███▎      | 30/91 [00:31<01:04,  1.05s/it]INFO:pv_vision.nn.modelhandler:Train Epoch: 14 [480/1453 (33%)]\tLoss: 0.047920\n",
            " 44%|████▍     | 40/91 [00:42<00:53,  1.05s/it]INFO:pv_vision.nn.modelhandler:Train Epoch: 14 [640/1453 (44%)]\tLoss: 0.060900\n",
            " 55%|█████▍    | 50/91 [00:52<00:43,  1.05s/it]INFO:pv_vision.nn.modelhandler:Train Epoch: 14 [800/1453 (55%)]\tLoss: 0.084886\n",
            " 66%|██████▌   | 60/91 [01:03<00:32,  1.05s/it]INFO:pv_vision.nn.modelhandler:Train Epoch: 14 [960/1453 (66%)]\tLoss: 0.066816\n",
            " 77%|███████▋  | 70/91 [01:14<00:22,  1.05s/it]INFO:pv_vision.nn.modelhandler:Train Epoch: 14 [1120/1453 (77%)]\tLoss: 0.034292\n",
            " 88%|████████▊ | 80/91 [01:24<00:11,  1.04s/it]INFO:pv_vision.nn.modelhandler:Train Epoch: 14 [1280/1453 (88%)]\tLoss: 0.039132\n",
            " 99%|█████████▉| 90/91 [01:35<00:01,  1.05s/it]INFO:pv_vision.nn.modelhandler:Train Epoch: 14 [1170/1453 (99%)]\tLoss: 0.081772\n",
            "100%|██████████| 91/91 [01:37<00:00,  1.07s/it]\n",
            "INFO:pv_vision.nn.modelhandler:Saved model at epoch 14\n",
            "100%|██████████| 6/6 [00:03<00:00,  1.75it/s]\n",
            "INFO:pv_vision.nn.modelhandler:Val epoch: 14 \tAverage loss: 0.1040\n"
          ]
        },
        {
          "output_type": "stream",
          "name": "stdout",
          "text": [
            "Loss: 0.0543 (train) | 0.1040 (val)\n",
            "Epoch 15 / 25\n",
            "----------\n"
          ]
        },
        {
          "output_type": "stream",
          "name": "stderr",
          "text": [
            "  0%|          | 0/91 [00:00<?, ?it/s]INFO:pv_vision.nn.modelhandler:Train Epoch: 15 [0/1453 (0%)]\tLoss: 0.057696\n",
            " 11%|█         | 10/91 [00:10<01:24,  1.04s/it]INFO:pv_vision.nn.modelhandler:Train Epoch: 15 [160/1453 (11%)]\tLoss: 0.045904\n",
            " 22%|██▏       | 20/91 [00:20<01:14,  1.05s/it]INFO:pv_vision.nn.modelhandler:Train Epoch: 15 [320/1453 (22%)]\tLoss: 0.066850\n",
            " 33%|███▎      | 30/91 [00:31<01:04,  1.05s/it]INFO:pv_vision.nn.modelhandler:Train Epoch: 15 [480/1453 (33%)]\tLoss: 0.043769\n",
            " 44%|████▍     | 40/91 [00:42<00:53,  1.05s/it]INFO:pv_vision.nn.modelhandler:Train Epoch: 15 [640/1453 (44%)]\tLoss: 0.031269\n",
            " 55%|█████▍    | 50/91 [00:52<00:43,  1.05s/it]INFO:pv_vision.nn.modelhandler:Train Epoch: 15 [800/1453 (55%)]\tLoss: 0.037936\n",
            " 66%|██████▌   | 60/91 [01:03<00:32,  1.05s/it]INFO:pv_vision.nn.modelhandler:Train Epoch: 15 [960/1453 (66%)]\tLoss: 0.095104\n",
            " 77%|███████▋  | 70/91 [01:14<00:22,  1.05s/it]INFO:pv_vision.nn.modelhandler:Train Epoch: 15 [1120/1453 (77%)]\tLoss: 0.044801\n",
            " 88%|████████▊ | 80/91 [01:24<00:11,  1.05s/it]INFO:pv_vision.nn.modelhandler:Train Epoch: 15 [1280/1453 (88%)]\tLoss: 0.081440\n",
            " 99%|█████████▉| 90/91 [01:35<00:01,  1.05s/it]INFO:pv_vision.nn.modelhandler:Train Epoch: 15 [1170/1453 (99%)]\tLoss: 0.046346\n",
            "100%|██████████| 91/91 [01:37<00:00,  1.07s/it]\n",
            "INFO:pv_vision.nn.modelhandler:Saved model at epoch 15\n",
            "100%|██████████| 6/6 [00:03<00:00,  1.72it/s]\n",
            "INFO:pv_vision.nn.modelhandler:Val epoch: 15 \tAverage loss: 0.1032\n"
          ]
        },
        {
          "output_type": "stream",
          "name": "stdout",
          "text": [
            "Loss: 0.0544 (train) | 0.1032 (val)\n",
            "Epoch 16 / 25\n",
            "----------\n"
          ]
        },
        {
          "output_type": "stream",
          "name": "stderr",
          "text": [
            "  0%|          | 0/91 [00:00<?, ?it/s]INFO:pv_vision.nn.modelhandler:Train Epoch: 16 [0/1453 (0%)]\tLoss: 0.040156\n",
            " 11%|█         | 10/91 [00:10<01:24,  1.04s/it]INFO:pv_vision.nn.modelhandler:Train Epoch: 16 [160/1453 (11%)]\tLoss: 0.099946\n",
            " 22%|██▏       | 20/91 [00:20<01:14,  1.05s/it]INFO:pv_vision.nn.modelhandler:Train Epoch: 16 [320/1453 (22%)]\tLoss: 0.048207\n",
            " 33%|███▎      | 30/91 [00:31<01:04,  1.05s/it]INFO:pv_vision.nn.modelhandler:Train Epoch: 16 [480/1453 (33%)]\tLoss: 0.062417\n",
            " 44%|████▍     | 40/91 [00:42<00:53,  1.05s/it]INFO:pv_vision.nn.modelhandler:Train Epoch: 16 [640/1453 (44%)]\tLoss: 0.050135\n",
            " 55%|█████▍    | 50/91 [00:52<00:43,  1.05s/it]INFO:pv_vision.nn.modelhandler:Train Epoch: 16 [800/1453 (55%)]\tLoss: 0.078861\n",
            " 66%|██████▌   | 60/91 [01:03<00:32,  1.05s/it]INFO:pv_vision.nn.modelhandler:Train Epoch: 16 [960/1453 (66%)]\tLoss: 0.063186\n",
            " 77%|███████▋  | 70/91 [01:14<00:21,  1.05s/it]INFO:pv_vision.nn.modelhandler:Train Epoch: 16 [1120/1453 (77%)]\tLoss: 0.048275\n",
            " 88%|████████▊ | 80/91 [01:24<00:11,  1.04s/it]INFO:pv_vision.nn.modelhandler:Train Epoch: 16 [1280/1453 (88%)]\tLoss: 0.051975\n",
            " 99%|█████████▉| 90/91 [01:35<00:01,  1.05s/it]INFO:pv_vision.nn.modelhandler:Train Epoch: 16 [1170/1453 (99%)]\tLoss: 0.065545\n",
            "100%|██████████| 91/91 [01:37<00:00,  1.07s/it]\n",
            "INFO:pv_vision.nn.modelhandler:Saved model at epoch 16\n",
            "100%|██████████| 6/6 [00:03<00:00,  1.93it/s]\n",
            "INFO:pv_vision.nn.modelhandler:Val epoch: 16 \tAverage loss: 0.1031\n"
          ]
        },
        {
          "output_type": "stream",
          "name": "stdout",
          "text": [
            "Loss: 0.0540 (train) | 0.1031 (val)\n",
            "Epoch 17 / 25\n",
            "----------\n"
          ]
        },
        {
          "output_type": "stream",
          "name": "stderr",
          "text": [
            "  0%|          | 0/91 [00:00<?, ?it/s]INFO:pv_vision.nn.modelhandler:Train Epoch: 17 [0/1453 (0%)]\tLoss: 0.058389\n",
            " 11%|█         | 10/91 [00:10<01:24,  1.04s/it]INFO:pv_vision.nn.modelhandler:Train Epoch: 17 [160/1453 (11%)]\tLoss: 0.069055\n",
            " 22%|██▏       | 20/91 [00:20<01:14,  1.05s/it]INFO:pv_vision.nn.modelhandler:Train Epoch: 17 [320/1453 (22%)]\tLoss: 0.062770\n",
            " 33%|███▎      | 30/91 [00:31<01:04,  1.05s/it]INFO:pv_vision.nn.modelhandler:Train Epoch: 17 [480/1453 (33%)]\tLoss: 0.045156\n",
            " 44%|████▍     | 40/91 [00:42<00:53,  1.05s/it]INFO:pv_vision.nn.modelhandler:Train Epoch: 17 [640/1453 (44%)]\tLoss: 0.070953\n",
            " 55%|█████▍    | 50/91 [00:52<00:43,  1.05s/it]INFO:pv_vision.nn.modelhandler:Train Epoch: 17 [800/1453 (55%)]\tLoss: 0.046508\n",
            " 66%|██████▌   | 60/91 [01:03<00:32,  1.05s/it]INFO:pv_vision.nn.modelhandler:Train Epoch: 17 [960/1453 (66%)]\tLoss: 0.054845\n",
            " 77%|███████▋  | 70/91 [01:14<00:22,  1.05s/it]INFO:pv_vision.nn.modelhandler:Train Epoch: 17 [1120/1453 (77%)]\tLoss: 0.062104\n",
            " 88%|████████▊ | 80/91 [01:24<00:11,  1.05s/it]INFO:pv_vision.nn.modelhandler:Train Epoch: 17 [1280/1453 (88%)]\tLoss: 0.054841\n",
            " 99%|█████████▉| 90/91 [01:35<00:01,  1.05s/it]INFO:pv_vision.nn.modelhandler:Train Epoch: 17 [1170/1453 (99%)]\tLoss: 0.044325\n",
            "100%|██████████| 91/91 [01:37<00:00,  1.07s/it]\n",
            "INFO:pv_vision.nn.modelhandler:Saved model at epoch 17\n",
            "100%|██████████| 6/6 [00:03<00:00,  1.82it/s]\n",
            "INFO:pv_vision.nn.modelhandler:Val epoch: 17 \tAverage loss: 0.1032\n"
          ]
        },
        {
          "output_type": "stream",
          "name": "stdout",
          "text": [
            "Loss: 0.0541 (train) | 0.1032 (val)\n",
            "Epoch 18 / 25\n",
            "----------\n"
          ]
        },
        {
          "output_type": "stream",
          "name": "stderr",
          "text": [
            "  0%|          | 0/91 [00:00<?, ?it/s]INFO:pv_vision.nn.modelhandler:Train Epoch: 18 [0/1453 (0%)]\tLoss: 0.053405\n",
            " 11%|█         | 10/91 [00:10<01:24,  1.04s/it]INFO:pv_vision.nn.modelhandler:Train Epoch: 18 [160/1453 (11%)]\tLoss: 0.029980\n",
            " 22%|██▏       | 20/91 [00:20<01:14,  1.04s/it]INFO:pv_vision.nn.modelhandler:Train Epoch: 18 [320/1453 (22%)]\tLoss: 0.072997\n",
            " 33%|███▎      | 30/91 [00:31<01:04,  1.05s/it]INFO:pv_vision.nn.modelhandler:Train Epoch: 18 [480/1453 (33%)]\tLoss: 0.055677\n",
            " 44%|████▍     | 40/91 [00:42<00:53,  1.05s/it]INFO:pv_vision.nn.modelhandler:Train Epoch: 18 [640/1453 (44%)]\tLoss: 0.046371\n",
            " 55%|█████▍    | 50/91 [00:52<00:43,  1.05s/it]INFO:pv_vision.nn.modelhandler:Train Epoch: 18 [800/1453 (55%)]\tLoss: 0.072555\n",
            " 66%|██████▌   | 60/91 [01:03<00:32,  1.05s/it]INFO:pv_vision.nn.modelhandler:Train Epoch: 18 [960/1453 (66%)]\tLoss: 0.057302\n",
            " 77%|███████▋  | 70/91 [01:14<00:22,  1.05s/it]INFO:pv_vision.nn.modelhandler:Train Epoch: 18 [1120/1453 (77%)]\tLoss: 0.075245\n",
            " 88%|████████▊ | 80/91 [01:24<00:11,  1.05s/it]INFO:pv_vision.nn.modelhandler:Train Epoch: 18 [1280/1453 (88%)]\tLoss: 0.038066\n",
            " 99%|█████████▉| 90/91 [01:35<00:01,  1.05s/it]INFO:pv_vision.nn.modelhandler:Train Epoch: 18 [1170/1453 (99%)]\tLoss: 0.037214\n",
            "100%|██████████| 91/91 [01:37<00:00,  1.07s/it]\n",
            "INFO:pv_vision.nn.modelhandler:Saved model at epoch 18\n",
            "100%|██████████| 6/6 [00:03<00:00,  1.94it/s]\n",
            "INFO:pv_vision.nn.modelhandler:Val epoch: 18 \tAverage loss: 0.1034\n"
          ]
        },
        {
          "output_type": "stream",
          "name": "stdout",
          "text": [
            "Loss: 0.0539 (train) | 0.1034 (val)\n",
            "Epoch 19 / 25\n",
            "----------\n"
          ]
        },
        {
          "output_type": "stream",
          "name": "stderr",
          "text": [
            "  0%|          | 0/91 [00:00<?, ?it/s]INFO:pv_vision.nn.modelhandler:Train Epoch: 19 [0/1453 (0%)]\tLoss: 0.056608\n",
            " 11%|█         | 10/91 [00:10<01:23,  1.03s/it]INFO:pv_vision.nn.modelhandler:Train Epoch: 19 [160/1453 (11%)]\tLoss: 0.075441\n",
            " 22%|██▏       | 20/91 [00:20<01:14,  1.05s/it]INFO:pv_vision.nn.modelhandler:Train Epoch: 19 [320/1453 (22%)]\tLoss: 0.023149\n",
            " 33%|███▎      | 30/91 [00:31<01:04,  1.05s/it]INFO:pv_vision.nn.modelhandler:Train Epoch: 19 [480/1453 (33%)]\tLoss: 0.060204\n",
            " 44%|████▍     | 40/91 [00:42<00:53,  1.05s/it]INFO:pv_vision.nn.modelhandler:Train Epoch: 19 [640/1453 (44%)]\tLoss: 0.049473\n",
            " 55%|█████▍    | 50/91 [00:52<00:43,  1.05s/it]INFO:pv_vision.nn.modelhandler:Train Epoch: 19 [800/1453 (55%)]\tLoss: 0.035471\n",
            " 66%|██████▌   | 60/91 [01:03<00:32,  1.05s/it]INFO:pv_vision.nn.modelhandler:Train Epoch: 19 [960/1453 (66%)]\tLoss: 0.048568\n",
            " 77%|███████▋  | 70/91 [01:14<00:22,  1.05s/it]INFO:pv_vision.nn.modelhandler:Train Epoch: 19 [1120/1453 (77%)]\tLoss: 0.052686\n",
            " 88%|████████▊ | 80/91 [01:24<00:11,  1.05s/it]INFO:pv_vision.nn.modelhandler:Train Epoch: 19 [1280/1453 (88%)]\tLoss: 0.058311\n",
            " 99%|█████████▉| 90/91 [01:35<00:01,  1.05s/it]INFO:pv_vision.nn.modelhandler:Train Epoch: 19 [1170/1453 (99%)]\tLoss: 0.058149\n",
            "100%|██████████| 91/91 [01:37<00:00,  1.07s/it]\n",
            "INFO:pv_vision.nn.modelhandler:Saved model at epoch 19\n",
            "100%|██████████| 6/6 [00:03<00:00,  1.80it/s]\n",
            "INFO:pv_vision.nn.modelhandler:Val epoch: 19 \tAverage loss: 0.1031\n"
          ]
        },
        {
          "output_type": "stream",
          "name": "stdout",
          "text": [
            "Loss: 0.0540 (train) | 0.1031 (val)\n",
            "Epoch 20 / 25\n",
            "----------\n"
          ]
        },
        {
          "output_type": "stream",
          "name": "stderr",
          "text": [
            "  0%|          | 0/91 [00:00<?, ?it/s]INFO:pv_vision.nn.modelhandler:Train Epoch: 20 [0/1453 (0%)]\tLoss: 0.061494\n",
            " 11%|█         | 10/91 [00:10<01:24,  1.04s/it]INFO:pv_vision.nn.modelhandler:Train Epoch: 20 [160/1453 (11%)]\tLoss: 0.053898\n",
            " 22%|██▏       | 20/91 [00:20<01:14,  1.05s/it]INFO:pv_vision.nn.modelhandler:Train Epoch: 20 [320/1453 (22%)]\tLoss: 0.052248\n",
            " 33%|███▎      | 30/91 [00:31<01:04,  1.05s/it]INFO:pv_vision.nn.modelhandler:Train Epoch: 20 [480/1453 (33%)]\tLoss: 0.052559\n",
            " 44%|████▍     | 40/91 [00:42<00:53,  1.05s/it]INFO:pv_vision.nn.modelhandler:Train Epoch: 20 [640/1453 (44%)]\tLoss: 0.117245\n",
            " 55%|█████▍    | 50/91 [00:52<00:43,  1.05s/it]INFO:pv_vision.nn.modelhandler:Train Epoch: 20 [800/1453 (55%)]\tLoss: 0.072852\n",
            " 66%|██████▌   | 60/91 [01:03<00:32,  1.05s/it]INFO:pv_vision.nn.modelhandler:Train Epoch: 20 [960/1453 (66%)]\tLoss: 0.048932\n",
            " 77%|███████▋  | 70/91 [01:14<00:22,  1.05s/it]INFO:pv_vision.nn.modelhandler:Train Epoch: 20 [1120/1453 (77%)]\tLoss: 0.067260\n",
            " 88%|████████▊ | 80/91 [01:24<00:11,  1.05s/it]INFO:pv_vision.nn.modelhandler:Train Epoch: 20 [1280/1453 (88%)]\tLoss: 0.060865\n",
            " 99%|█████████▉| 90/91 [01:35<00:01,  1.05s/it]INFO:pv_vision.nn.modelhandler:Train Epoch: 20 [1170/1453 (99%)]\tLoss: 0.056288\n",
            "100%|██████████| 91/91 [01:37<00:00,  1.07s/it]\n",
            "INFO:pv_vision.nn.modelhandler:Saved model at epoch 20\n",
            "100%|██████████| 6/6 [00:03<00:00,  1.71it/s]\n",
            "INFO:pv_vision.nn.modelhandler:Val epoch: 20 \tAverage loss: 0.1034\n"
          ]
        },
        {
          "output_type": "stream",
          "name": "stdout",
          "text": [
            "Loss: 0.0541 (train) | 0.1034 (val)\n",
            "Epoch 21 / 25\n",
            "----------\n"
          ]
        },
        {
          "output_type": "stream",
          "name": "stderr",
          "text": [
            "  0%|          | 0/91 [00:00<?, ?it/s]INFO:pv_vision.nn.modelhandler:Train Epoch: 21 [0/1453 (0%)]\tLoss: 0.059908\n",
            " 11%|█         | 10/91 [00:10<01:24,  1.04s/it]INFO:pv_vision.nn.modelhandler:Train Epoch: 21 [160/1453 (11%)]\tLoss: 0.034433\n",
            " 22%|██▏       | 20/91 [00:20<01:14,  1.05s/it]INFO:pv_vision.nn.modelhandler:Train Epoch: 21 [320/1453 (22%)]\tLoss: 0.051769\n",
            " 33%|███▎      | 30/91 [00:31<01:04,  1.05s/it]INFO:pv_vision.nn.modelhandler:Train Epoch: 21 [480/1453 (33%)]\tLoss: 0.051715\n",
            " 44%|████▍     | 40/91 [00:42<00:53,  1.05s/it]INFO:pv_vision.nn.modelhandler:Train Epoch: 21 [640/1453 (44%)]\tLoss: 0.062990\n",
            " 55%|█████▍    | 50/91 [00:52<00:43,  1.05s/it]INFO:pv_vision.nn.modelhandler:Train Epoch: 21 [800/1453 (55%)]\tLoss: 0.029616\n",
            " 66%|██████▌   | 60/91 [01:03<00:32,  1.05s/it]INFO:pv_vision.nn.modelhandler:Train Epoch: 21 [960/1453 (66%)]\tLoss: 0.053937\n",
            " 77%|███████▋  | 70/91 [01:14<00:21,  1.04s/it]INFO:pv_vision.nn.modelhandler:Train Epoch: 21 [1120/1453 (77%)]\tLoss: 0.046791\n",
            " 88%|████████▊ | 80/91 [01:24<00:11,  1.04s/it]INFO:pv_vision.nn.modelhandler:Train Epoch: 21 [1280/1453 (88%)]\tLoss: 0.043942\n",
            " 99%|█████████▉| 90/91 [01:35<00:01,  1.04s/it]INFO:pv_vision.nn.modelhandler:Train Epoch: 21 [1170/1453 (99%)]\tLoss: 0.065491\n",
            "100%|██████████| 91/91 [01:36<00:00,  1.07s/it]\n",
            "INFO:pv_vision.nn.modelhandler:Saved model at epoch 21\n",
            "100%|██████████| 6/6 [00:03<00:00,  1.76it/s]\n",
            "INFO:pv_vision.nn.modelhandler:Val epoch: 21 \tAverage loss: 0.1030\n"
          ]
        },
        {
          "output_type": "stream",
          "name": "stdout",
          "text": [
            "Loss: 0.0539 (train) | 0.1030 (val)\n",
            "Epoch 22 / 25\n",
            "----------\n"
          ]
        },
        {
          "output_type": "stream",
          "name": "stderr",
          "text": [
            "  0%|          | 0/91 [00:00<?, ?it/s]INFO:pv_vision.nn.modelhandler:Train Epoch: 22 [0/1453 (0%)]\tLoss: 0.052791\n",
            " 11%|█         | 10/91 [00:10<01:24,  1.04s/it]INFO:pv_vision.nn.modelhandler:Train Epoch: 22 [160/1453 (11%)]\tLoss: 0.043135\n",
            " 22%|██▏       | 20/91 [00:20<01:14,  1.05s/it]INFO:pv_vision.nn.modelhandler:Train Epoch: 22 [320/1453 (22%)]\tLoss: 0.064995\n",
            " 33%|███▎      | 30/91 [00:31<01:04,  1.05s/it]INFO:pv_vision.nn.modelhandler:Train Epoch: 22 [480/1453 (33%)]\tLoss: 0.056400\n",
            " 44%|████▍     | 40/91 [00:42<00:53,  1.05s/it]INFO:pv_vision.nn.modelhandler:Train Epoch: 22 [640/1453 (44%)]\tLoss: 0.051950\n",
            " 55%|█████▍    | 50/91 [00:52<00:43,  1.05s/it]INFO:pv_vision.nn.modelhandler:Train Epoch: 22 [800/1453 (55%)]\tLoss: 0.028248\n",
            " 66%|██████▌   | 60/91 [01:03<00:32,  1.05s/it]INFO:pv_vision.nn.modelhandler:Train Epoch: 22 [960/1453 (66%)]\tLoss: 0.041016\n",
            " 77%|███████▋  | 70/91 [01:14<00:21,  1.04s/it]INFO:pv_vision.nn.modelhandler:Train Epoch: 22 [1120/1453 (77%)]\tLoss: 0.058132\n",
            " 88%|████████▊ | 80/91 [01:24<00:11,  1.04s/it]INFO:pv_vision.nn.modelhandler:Train Epoch: 22 [1280/1453 (88%)]\tLoss: 0.056537\n",
            " 99%|█████████▉| 90/91 [01:35<00:01,  1.05s/it]INFO:pv_vision.nn.modelhandler:Train Epoch: 22 [1170/1453 (99%)]\tLoss: 0.069315\n",
            "100%|██████████| 91/91 [01:36<00:00,  1.07s/it]\n",
            "INFO:pv_vision.nn.modelhandler:Saved model at epoch 22\n",
            "100%|██████████| 6/6 [00:03<00:00,  1.79it/s]\n",
            "INFO:pv_vision.nn.modelhandler:Val epoch: 22 \tAverage loss: 0.1031\n"
          ]
        },
        {
          "output_type": "stream",
          "name": "stdout",
          "text": [
            "Loss: 0.0540 (train) | 0.1031 (val)\n",
            "Epoch 23 / 25\n",
            "----------\n"
          ]
        },
        {
          "output_type": "stream",
          "name": "stderr",
          "text": [
            "  0%|          | 0/91 [00:00<?, ?it/s]INFO:pv_vision.nn.modelhandler:Train Epoch: 23 [0/1453 (0%)]\tLoss: 0.055175\n",
            " 11%|█         | 10/91 [00:10<01:24,  1.05s/it]INFO:pv_vision.nn.modelhandler:Train Epoch: 23 [160/1453 (11%)]\tLoss: 0.063002\n",
            " 22%|██▏       | 20/91 [00:20<01:14,  1.05s/it]INFO:pv_vision.nn.modelhandler:Train Epoch: 23 [320/1453 (22%)]\tLoss: 0.036907\n",
            " 33%|███▎      | 30/91 [00:31<01:04,  1.05s/it]INFO:pv_vision.nn.modelhandler:Train Epoch: 23 [480/1453 (33%)]\tLoss: 0.047235\n",
            " 44%|████▍     | 40/91 [00:42<00:53,  1.05s/it]INFO:pv_vision.nn.modelhandler:Train Epoch: 23 [640/1453 (44%)]\tLoss: 0.046424\n",
            " 55%|█████▍    | 50/91 [00:52<00:42,  1.04s/it]INFO:pv_vision.nn.modelhandler:Train Epoch: 23 [800/1453 (55%)]\tLoss: 0.067271\n",
            " 66%|██████▌   | 60/91 [01:03<00:32,  1.05s/it]INFO:pv_vision.nn.modelhandler:Train Epoch: 23 [960/1453 (66%)]\tLoss: 0.047932\n",
            " 77%|███████▋  | 70/91 [01:14<00:21,  1.05s/it]INFO:pv_vision.nn.modelhandler:Train Epoch: 23 [1120/1453 (77%)]\tLoss: 0.065719\n",
            " 88%|████████▊ | 80/91 [01:24<00:11,  1.05s/it]INFO:pv_vision.nn.modelhandler:Train Epoch: 23 [1280/1453 (88%)]\tLoss: 0.038517\n",
            " 99%|█████████▉| 90/91 [01:35<00:01,  1.05s/it]INFO:pv_vision.nn.modelhandler:Train Epoch: 23 [1170/1453 (99%)]\tLoss: 0.042465\n",
            "100%|██████████| 91/91 [01:37<00:00,  1.07s/it]\n",
            "INFO:pv_vision.nn.modelhandler:Saved model at epoch 23\n",
            "100%|██████████| 6/6 [00:03<00:00,  1.93it/s]\n",
            "INFO:pv_vision.nn.modelhandler:Val epoch: 23 \tAverage loss: 0.1028\n"
          ]
        },
        {
          "output_type": "stream",
          "name": "stdout",
          "text": [
            "Loss: 0.0538 (train) | 0.1028 (val)\n",
            "Epoch 24 / 25\n",
            "----------\n"
          ]
        },
        {
          "output_type": "stream",
          "name": "stderr",
          "text": [
            "  0%|          | 0/91 [00:00<?, ?it/s]INFO:pv_vision.nn.modelhandler:Train Epoch: 24 [0/1453 (0%)]\tLoss: 0.064558\n",
            " 11%|█         | 10/91 [00:10<01:24,  1.04s/it]INFO:pv_vision.nn.modelhandler:Train Epoch: 24 [160/1453 (11%)]\tLoss: 0.069063\n",
            " 22%|██▏       | 20/91 [00:20<01:14,  1.05s/it]INFO:pv_vision.nn.modelhandler:Train Epoch: 24 [320/1453 (22%)]\tLoss: 0.028827\n",
            " 33%|███▎      | 30/91 [00:31<01:04,  1.05s/it]INFO:pv_vision.nn.modelhandler:Train Epoch: 24 [480/1453 (33%)]\tLoss: 0.041221\n",
            " 44%|████▍     | 40/91 [00:41<00:53,  1.05s/it]INFO:pv_vision.nn.modelhandler:Train Epoch: 24 [640/1453 (44%)]\tLoss: 0.065200\n",
            " 55%|█████▍    | 50/91 [00:52<00:42,  1.05s/it]INFO:pv_vision.nn.modelhandler:Train Epoch: 24 [800/1453 (55%)]\tLoss: 0.043154\n",
            " 66%|██████▌   | 60/91 [01:03<00:32,  1.05s/it]INFO:pv_vision.nn.modelhandler:Train Epoch: 24 [960/1453 (66%)]\tLoss: 0.058085\n",
            " 77%|███████▋  | 70/91 [01:13<00:22,  1.05s/it]INFO:pv_vision.nn.modelhandler:Train Epoch: 24 [1120/1453 (77%)]\tLoss: 0.081031\n",
            " 88%|████████▊ | 80/91 [01:24<00:11,  1.05s/it]INFO:pv_vision.nn.modelhandler:Train Epoch: 24 [1280/1453 (88%)]\tLoss: 0.048963\n",
            " 99%|█████████▉| 90/91 [01:35<00:01,  1.05s/it]INFO:pv_vision.nn.modelhandler:Train Epoch: 24 [1170/1453 (99%)]\tLoss: 0.035453\n",
            "100%|██████████| 91/91 [01:36<00:00,  1.07s/it]\n",
            "INFO:pv_vision.nn.modelhandler:Saved model at epoch 24\n",
            "100%|██████████| 6/6 [00:03<00:00,  1.82it/s]\n",
            "INFO:pv_vision.nn.modelhandler:Val epoch: 24 \tAverage loss: 0.1029\n"
          ]
        },
        {
          "output_type": "stream",
          "name": "stdout",
          "text": [
            "Loss: 0.0535 (train) | 0.1029 (val)\n",
            "Epoch 25 / 25\n",
            "----------\n"
          ]
        },
        {
          "output_type": "stream",
          "name": "stderr",
          "text": [
            "  0%|          | 0/91 [00:00<?, ?it/s]INFO:pv_vision.nn.modelhandler:Train Epoch: 25 [0/1453 (0%)]\tLoss: 0.126149\n",
            " 11%|█         | 10/91 [00:10<01:24,  1.04s/it]INFO:pv_vision.nn.modelhandler:Train Epoch: 25 [160/1453 (11%)]\tLoss: 0.052789\n",
            " 22%|██▏       | 20/91 [00:20<01:14,  1.05s/it]INFO:pv_vision.nn.modelhandler:Train Epoch: 25 [320/1453 (22%)]\tLoss: 0.050040\n",
            " 33%|███▎      | 30/91 [00:31<01:04,  1.05s/it]INFO:pv_vision.nn.modelhandler:Train Epoch: 25 [480/1453 (33%)]\tLoss: 0.075785\n",
            " 44%|████▍     | 40/91 [00:42<00:53,  1.05s/it]INFO:pv_vision.nn.modelhandler:Train Epoch: 25 [640/1453 (44%)]\tLoss: 0.092912\n",
            " 55%|█████▍    | 50/91 [00:52<00:43,  1.05s/it]INFO:pv_vision.nn.modelhandler:Train Epoch: 25 [800/1453 (55%)]\tLoss: 0.037570\n",
            " 66%|██████▌   | 60/91 [01:03<00:32,  1.05s/it]INFO:pv_vision.nn.modelhandler:Train Epoch: 25 [960/1453 (66%)]\tLoss: 0.075326\n",
            " 77%|███████▋  | 70/91 [01:14<00:21,  1.05s/it]INFO:pv_vision.nn.modelhandler:Train Epoch: 25 [1120/1453 (77%)]\tLoss: 0.042101\n",
            " 88%|████████▊ | 80/91 [01:24<00:11,  1.05s/it]INFO:pv_vision.nn.modelhandler:Train Epoch: 25 [1280/1453 (88%)]\tLoss: 0.043353\n",
            " 99%|█████████▉| 90/91 [01:35<00:01,  1.05s/it]INFO:pv_vision.nn.modelhandler:Train Epoch: 25 [1170/1453 (99%)]\tLoss: 0.023902\n",
            "100%|██████████| 91/91 [01:36<00:00,  1.06s/it]\n",
            "INFO:pv_vision.nn.modelhandler:Saved model at epoch 25\n",
            "100%|██████████| 6/6 [00:03<00:00,  1.99it/s]\n",
            "INFO:pv_vision.nn.modelhandler:Val epoch: 25 \tAverage loss: 0.1036\n"
          ]
        },
        {
          "output_type": "stream",
          "name": "stdout",
          "text": [
            "Loss: 0.0541 (train) | 0.1036 (val)\n"
          ]
        },
        {
          "output_type": "execute_result",
          "data": {
            "text/plain": [
              "{'train': {'loss': [0.06506345381592359,\n",
              "   0.06323101999929094,\n",
              "   0.06462480072432031,\n",
              "   0.06297557277724157,\n",
              "   0.062459758545047074,\n",
              "   0.057498915440159996,\n",
              "   0.05684300380805732,\n",
              "   0.05642042686702544,\n",
              "   0.05554848411988982,\n",
              "   0.055439568917585585,\n",
              "   0.05459085949078069,\n",
              "   0.05457438641347642,\n",
              "   0.05408394089031449,\n",
              "   0.054251061453748715,\n",
              "   0.05435480987839016,\n",
              "   0.05402273016597842,\n",
              "   0.05407781299031855,\n",
              "   0.053917983786574086,\n",
              "   0.05398494203646102,\n",
              "   0.054067055146733566,\n",
              "   0.05387796799499088,\n",
              "   0.05399371314401554,\n",
              "   0.05384490754088696,\n",
              "   0.05349561427729506,\n",
              "   0.05411389980052392]},\n",
              " 'val': {'loss': [0.13026689489682516,\n",
              "   0.12268233795960744,\n",
              "   0.1258135475218296,\n",
              "   0.1297064038614432,\n",
              "   0.11647771919767062,\n",
              "   0.10978991414109866,\n",
              "   0.10893918077150981,\n",
              "   0.10601378108064334,\n",
              "   0.10587071875731151,\n",
              "   0.10528535271684329,\n",
              "   0.10419369985659917,\n",
              "   0.1049158622821172,\n",
              "   0.10408888260523479,\n",
              "   0.10401115193963051,\n",
              "   0.10320718338092168,\n",
              "   0.10310516878962517,\n",
              "   0.10320875296990077,\n",
              "   0.10337516044576962,\n",
              "   0.10309657206137975,\n",
              "   0.10342953602472942,\n",
              "   0.10298039143284161,\n",
              "   0.10305670648813248,\n",
              "   0.10279994085431099,\n",
              "   0.10289797559380531,\n",
              "   0.10355561599135399]}}"
            ]
          },
          "metadata": {},
          "execution_count": 14
        }
      ],
      "source": [
        "# Se inicializa el entrenamiento del modelo.\n",
        "modelhandler.train_model()"
      ]
    },
    {
      "cell_type": "code",
      "execution_count": 15,
      "metadata": {
        "colab": {
          "base_uri": "https://localhost:8080/",
          "height": 449
        },
        "id": "k55JhgMyG09V",
        "outputId": "63e91d5f-0a1a-4b0f-b5af-52994386df1d"
      },
      "outputs": [
        {
          "output_type": "display_data",
          "data": {
            "text/plain": [
              "<Figure size 640x480 with 1 Axes>"
            ],
            "image/png": "[encoded data removed]"
          },
          "metadata": {}
        }
      ],
      "source": [
        "# Se visualiza el proceso de entrenamiento.\n",
        "# Esta función traza la pérdida del modelo durante el entrenamiento.\n",
        "modelhandler.plot_loss()"
      ]
    },
    {
      "cell_type": "code",
      "execution_count": 16,
      "metadata": {
        "colab": {
          "base_uri": "https://localhost:8080/"
        },
        "id": "E52bTEXnG09W",
        "outputId": "fde61c25-5901-4a2a-db78-4ac6685b1b9f"
      },
      "outputs": [
        {
          "output_type": "execute_result",
          "data": {
            "text/plain": [
              "23"
            ]
          },
          "metadata": {},
          "execution_count": 16
        }
      ],
      "source": [
        "# Se busca la pérdida mínima en la validación, que corresponde al mejor modelo.\n",
        "# 'np.argmin' devuelve el índice de la pérdida mínima en el conjunto de validación.\n",
        "# Se suma 1 porque los índices en Python comienzan en 0, pero las épocas comienzan en 1.\n",
        "np.argmin(modelhandler.running_record['val']['loss'])+1"
      ]
    },
    {
      "cell_type": "code",
      "execution_count": 17,
      "metadata": {
        "colab": {
          "base_uri": "https://localhost:8080/"
        },
        "id": "kH5xVXQyG09W",
        "outputId": "e99d30c6-9da0-40f5-d6cf-220d10ba0246"
      },
      "outputs": [
        {
          "output_type": "stream",
          "name": "stderr",
          "text": [
            "INFO:pv_vision.nn.modelhandler:Loaded model from /content/drive/MyDrive/Entrenamiento/checkpoints/epoch_23/unetv9.pt\n"
          ]
        }
      ],
      "source": [
        "# Se carga el mejor modelo entrenado y se verifica su rendimiento en el conjunto de prueba.\n",
        "# Se emplea `load_model` para cargar el modelo entrenado. Este método toma el nombre del archivo de punto de control.\n",
        "modelhandler.load_model('/content/drive/MyDrive/Entrenamiento/checkpoints/epoch_23/unetv9.pt')"
      ]
    },
    {
      "cell_type": "markdown",
      "metadata": {
        "id": "xa-Fdu8ZG09W"
      },
      "source": [
        "El siguiente código prueba el modelo en el conjunto de prueba y almacena la salida en 'testset_output'. También se hace un comentario sobre la puntuación de la prueba y la puntuación de la validación."
      ]
    },
    {
      "cell_type": "code",
      "execution_count": 18,
      "metadata": {
        "colab": {
          "base_uri": "https://localhost:8080/"
        },
        "id": "1q3LEUNaG09W",
        "outputId": "92fae68f-43d1-44ed-9d7c-512e1b42ce84"
      },
      "outputs": [
        {
          "output_type": "stream",
          "name": "stdout",
          "text": [
            "Testing mode\n",
            "----------\n"
          ]
        },
        {
          "output_type": "stream",
          "name": "stderr",
          "text": [
            "100%|██████████| 23/23 [00:12<00:00,  1.89it/s]\n",
            "INFO:pv_vision.nn.modelhandler:Test set: Average loss: 0.1224\n"
          ]
        },
        {
          "output_type": "stream",
          "name": "stdout",
          "text": [
            "Test set: Average loss: 0.1224\n"
          ]
        }
      ],
      "source": [
        "# Se evalúa el modelo en el conjunto de prueba. `test_model` es una función de ModelHandler\n",
        "# que evalúa el modelo en el conjunto de prueba y almacena la salida en la caché.\n",
        "_ = modelhandler.test_model(cache_output='testset_outputv8')\n",
        "\n",
        "# La salida del modelo se almacena en self.cache['testset_output']"
      ]
    }
  ],
  "metadata": {
    "accelerator": "GPU",
    "colab": {
      "gpuType": "T4",
      "provenance": [],
      "include_colab_link": true
    },
    "kernelspec": {
      "display_name": "Python 3",
      "name": "python3"
    },
    "language_info": {
      "name": "python"
    }
  },
  "nbformat": 4,
  "nbformat_minor": 0
}