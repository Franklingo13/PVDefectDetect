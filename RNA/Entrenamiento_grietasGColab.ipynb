{
  "cells": [
    {
      "cell_type": "markdown",
      "metadata": {
        "colab_type": "text",
        "id": "view-in-github"
      },
      "source": [
        "<a href=\"https://colab.research.google.com/github/Franklingo13/PVDefectDetect/blob/main/RNA/Entrenamiento_grietasGColab.ipynb\" target=\"_parent\"><img src=\"https://colab.research.google.com/assets/colab-badge.svg\" alt=\"Open In Colab\"/></a>"
      ]
    },
    {
      "cell_type": "markdown",
      "metadata": {
        "id": "psMYf9fJG09O"
      },
      "source": [
        "Notebook para entrenamiento de redes neuronales convolucionales para clasificación de defectos en imágenes de celdas fotovoltaicas.\n",
        "Pensado para correr en Google Colab."
      ]
    },
    {
      "cell_type": "code",
      "execution_count": 12,
      "metadata": {
        "colab": {
          "base_uri": "https://localhost:8080/"
        },
        "id": "gbQ5zjRCG09Q",
        "outputId": "5c984baf-7e4a-4fac-e04c-2927249e2f4e"
      },
      "outputs": [
        {
          "name": "stdout",
          "output_type": "stream",
          "text": [
            "Drive already mounted at /content/drive; to attempt to forcibly remount, call drive.mount(\"/content/drive\", force_remount=True).\n"
          ]
        }
      ],
      "source": [
        "# Conexión con Google Drive\n",
        "from google.colab import drive\n",
        "drive.mount('/content/drive')"
      ]
    },
    {
      "cell_type": "code",
      "execution_count": 2,
      "metadata": {
        "colab": {
          "base_uri": "https://localhost:8080/"
        },
        "id": "CffxGlC2G09S",
        "outputId": "c3a2caa3-0bb9-4345-8a18-8844da0d517a"
      },
      "outputs": [
        {
          "name": "stdout",
          "output_type": "stream",
          "text": [
            "Requirement already satisfied: pv-vision in /usr/local/lib/python3.10/dist-packages (0.2.8)\n",
            "Requirement already satisfied: imutils>=0.5.4 in /usr/local/lib/python3.10/dist-packages (from pv-vision) (0.5.4)\n",
            "Requirement already satisfied: ipywidgets>=8.1.2 in /usr/local/lib/python3.10/dist-packages (from pv-vision) (8.1.3)\n",
            "Requirement already satisfied: joblib>=1.2.0 in /usr/local/lib/python3.10/dist-packages (from pv-vision) (1.4.2)\n",
            "Requirement already satisfied: matplotlib>=3.8.0 in /usr/local/lib/python3.10/dist-packages (from pv-vision) (3.9.1)\n",
            "Requirement already satisfied: opencv-python>=4.7.0.72 in /usr/local/lib/python3.10/dist-packages (from pv-vision) (4.8.0.76)\n",
            "Requirement already satisfied: scikit-learn>=1.3.0 in /usr/local/lib/python3.10/dist-packages (from pv-vision) (1.5.1)\n",
            "Requirement already satisfied: setuptools>=68.2.2 in /usr/local/lib/python3.10/dist-packages (from pv-vision) (71.1.0)\n",
            "Requirement already satisfied: torch>=2.2.0.post100 in /usr/local/lib/python3.10/dist-packages (from pv-vision) (2.3.1+cu121)\n",
            "Requirement already satisfied: torchvision>=0.15.2a0 in /usr/local/lib/python3.10/dist-packages (from pv-vision) (0.18.1+cu121)\n",
            "Requirement already satisfied: tqdm>=4.65.0 in /usr/local/lib/python3.10/dist-packages (from pv-vision) (4.66.4)\n",
            "Requirement already satisfied: comm>=0.1.3 in /usr/local/lib/python3.10/dist-packages (from ipywidgets>=8.1.2->pv-vision) (0.2.2)\n",
            "Requirement already satisfied: ipython>=6.1.0 in /usr/local/lib/python3.10/dist-packages (from ipywidgets>=8.1.2->pv-vision) (7.34.0)\n",
            "Requirement already satisfied: traitlets>=4.3.1 in /usr/local/lib/python3.10/dist-packages (from ipywidgets>=8.1.2->pv-vision) (5.7.1)\n",
            "Requirement already satisfied: widgetsnbextension~=4.0.11 in /usr/local/lib/python3.10/dist-packages (from ipywidgets>=8.1.2->pv-vision) (4.0.11)\n",
            "Requirement already satisfied: jupyterlab-widgets~=3.0.11 in /usr/local/lib/python3.10/dist-packages (from ipywidgets>=8.1.2->pv-vision) (3.0.11)\n",
            "Requirement already satisfied: contourpy>=1.0.1 in /usr/local/lib/python3.10/dist-packages (from matplotlib>=3.8.0->pv-vision) (1.2.1)\n",
            "Requirement already satisfied: cycler>=0.10 in /usr/local/lib/python3.10/dist-packages (from matplotlib>=3.8.0->pv-vision) (0.12.1)\n",
            "Requirement already satisfied: fonttools>=4.22.0 in /usr/local/lib/python3.10/dist-packages (from matplotlib>=3.8.0->pv-vision) (4.53.1)\n",
            "Requirement already satisfied: kiwisolver>=1.3.1 in /usr/local/lib/python3.10/dist-packages (from matplotlib>=3.8.0->pv-vision) (1.4.5)\n",
            "Requirement already satisfied: numpy>=1.23 in /usr/local/lib/python3.10/dist-packages (from matplotlib>=3.8.0->pv-vision) (1.25.2)\n",
            "Requirement already satisfied: packaging>=20.0 in /usr/local/lib/python3.10/dist-packages (from matplotlib>=3.8.0->pv-vision) (24.1)\n",
            "Requirement already satisfied: pillow>=8 in /usr/local/lib/python3.10/dist-packages (from matplotlib>=3.8.0->pv-vision) (9.4.0)\n",
            "Requirement already satisfied: pyparsing>=2.3.1 in /usr/local/lib/python3.10/dist-packages (from matplotlib>=3.8.0->pv-vision) (3.1.2)\n",
            "Requirement already satisfied: python-dateutil>=2.7 in /usr/local/lib/python3.10/dist-packages (from matplotlib>=3.8.0->pv-vision) (2.8.2)\n",
            "Requirement already satisfied: scipy>=1.6.0 in /usr/local/lib/python3.10/dist-packages (from scikit-learn>=1.3.0->pv-vision) (1.11.4)\n",
            "Requirement already satisfied: threadpoolctl>=3.1.0 in /usr/local/lib/python3.10/dist-packages (from scikit-learn>=1.3.0->pv-vision) (3.5.0)\n",
            "Requirement already satisfied: filelock in /usr/local/lib/python3.10/dist-packages (from torch>=2.2.0.post100->pv-vision) (3.15.4)\n",
            "Requirement already satisfied: typing-extensions>=4.8.0 in /usr/local/lib/python3.10/dist-packages (from torch>=2.2.0.post100->pv-vision) (4.12.2)\n",
            "Requirement already satisfied: sympy in /usr/local/lib/python3.10/dist-packages (from torch>=2.2.0.post100->pv-vision) (1.13.0)\n",
            "Requirement already satisfied: networkx in /usr/local/lib/python3.10/dist-packages (from torch>=2.2.0.post100->pv-vision) (3.3)\n",
            "Requirement already satisfied: jinja2 in /usr/local/lib/python3.10/dist-packages (from torch>=2.2.0.post100->pv-vision) (3.1.4)\n",
            "Requirement already satisfied: fsspec in /usr/local/lib/python3.10/dist-packages (from torch>=2.2.0.post100->pv-vision) (2023.6.0)\n",
            "Requirement already satisfied: nvidia-cuda-nvrtc-cu12==12.1.105 in /usr/local/lib/python3.10/dist-packages (from torch>=2.2.0.post100->pv-vision) (12.1.105)\n",
            "Requirement already satisfied: nvidia-cuda-runtime-cu12==12.1.105 in /usr/local/lib/python3.10/dist-packages (from torch>=2.2.0.post100->pv-vision) (12.1.105)\n",
            "Requirement already satisfied: nvidia-cuda-cupti-cu12==12.1.105 in /usr/local/lib/python3.10/dist-packages (from torch>=2.2.0.post100->pv-vision) (12.1.105)\n",
            "Requirement already satisfied: nvidia-cudnn-cu12==8.9.2.26 in /usr/local/lib/python3.10/dist-packages (from torch>=2.2.0.post100->pv-vision) (8.9.2.26)\n",
            "Requirement already satisfied: nvidia-cublas-cu12==12.1.3.1 in /usr/local/lib/python3.10/dist-packages (from torch>=2.2.0.post100->pv-vision) (12.1.3.1)\n",
            "Requirement already satisfied: nvidia-cufft-cu12==11.0.2.54 in /usr/local/lib/python3.10/dist-packages (from torch>=2.2.0.post100->pv-vision) (11.0.2.54)\n",
            "Requirement already satisfied: nvidia-curand-cu12==10.3.2.106 in /usr/local/lib/python3.10/dist-packages (from torch>=2.2.0.post100->pv-vision) (10.3.2.106)\n",
            "Requirement already satisfied: nvidia-cusolver-cu12==11.4.5.107 in /usr/local/lib/python3.10/dist-packages (from torch>=2.2.0.post100->pv-vision) (11.4.5.107)\n",
            "Requirement already satisfied: nvidia-cusparse-cu12==12.1.0.106 in /usr/local/lib/python3.10/dist-packages (from torch>=2.2.0.post100->pv-vision) (12.1.0.106)\n",
            "Requirement already satisfied: nvidia-nccl-cu12==2.20.5 in /usr/local/lib/python3.10/dist-packages (from torch>=2.2.0.post100->pv-vision) (2.20.5)\n",
            "Requirement already satisfied: nvidia-nvtx-cu12==12.1.105 in /usr/local/lib/python3.10/dist-packages (from torch>=2.2.0.post100->pv-vision) (12.1.105)\n",
            "Requirement already satisfied: triton==2.3.1 in /usr/local/lib/python3.10/dist-packages (from torch>=2.2.0.post100->pv-vision) (2.3.1)\n",
            "Requirement already satisfied: nvidia-nvjitlink-cu12 in /usr/local/lib/python3.10/dist-packages (from nvidia-cusolver-cu12==11.4.5.107->torch>=2.2.0.post100->pv-vision) (12.5.82)\n",
            "Requirement already satisfied: jedi>=0.16 in /usr/local/lib/python3.10/dist-packages (from ipython>=6.1.0->ipywidgets>=8.1.2->pv-vision) (0.19.1)\n",
            "Requirement already satisfied: decorator in /usr/local/lib/python3.10/dist-packages (from ipython>=6.1.0->ipywidgets>=8.1.2->pv-vision) (4.4.2)\n",
            "Requirement already satisfied: pickleshare in /usr/local/lib/python3.10/dist-packages (from ipython>=6.1.0->ipywidgets>=8.1.2->pv-vision) (0.7.5)\n",
            "Requirement already satisfied: prompt-toolkit!=3.0.0,!=3.0.1,<3.1.0,>=2.0.0 in /usr/local/lib/python3.10/dist-packages (from ipython>=6.1.0->ipywidgets>=8.1.2->pv-vision) (3.0.47)\n",
            "Requirement already satisfied: pygments in /usr/local/lib/python3.10/dist-packages (from ipython>=6.1.0->ipywidgets>=8.1.2->pv-vision) (2.16.1)\n",
            "Requirement already satisfied: backcall in /usr/local/lib/python3.10/dist-packages (from ipython>=6.1.0->ipywidgets>=8.1.2->pv-vision) (0.2.0)\n",
            "Requirement already satisfied: matplotlib-inline in /usr/local/lib/python3.10/dist-packages (from ipython>=6.1.0->ipywidgets>=8.1.2->pv-vision) (0.1.7)\n",
            "Requirement already satisfied: pexpect>4.3 in /usr/local/lib/python3.10/dist-packages (from ipython>=6.1.0->ipywidgets>=8.1.2->pv-vision) (4.9.0)\n",
            "Requirement already satisfied: six>=1.5 in /usr/local/lib/python3.10/dist-packages (from python-dateutil>=2.7->matplotlib>=3.8.0->pv-vision) (1.16.0)\n",
            "Requirement already satisfied: MarkupSafe>=2.0 in /usr/local/lib/python3.10/dist-packages (from jinja2->torch>=2.2.0.post100->pv-vision) (2.1.5)\n",
            "Requirement already satisfied: mpmath<1.4,>=1.1.0 in /usr/local/lib/python3.10/dist-packages (from sympy->torch>=2.2.0.post100->pv-vision) (1.3.0)\n",
            "Requirement already satisfied: parso<0.9.0,>=0.8.3 in /usr/local/lib/python3.10/dist-packages (from jedi>=0.16->ipython>=6.1.0->ipywidgets>=8.1.2->pv-vision) (0.8.4)\n",
            "Requirement already satisfied: ptyprocess>=0.5 in /usr/local/lib/python3.10/dist-packages (from pexpect>4.3->ipython>=6.1.0->ipywidgets>=8.1.2->pv-vision) (0.7.0)\n",
            "Requirement already satisfied: wcwidth in /usr/local/lib/python3.10/dist-packages (from prompt-toolkit!=3.0.0,!=3.0.1,<3.1.0,>=2.0.0->ipython>=6.1.0->ipywidgets>=8.1.2->pv-vision) (0.2.13)\n"
          ]
        }
      ],
      "source": [
        "# Importación de la librería de pv-vision\n",
        "!pip install pv-vision"
      ]
    },
    {
      "cell_type": "code",
      "execution_count": 3,
      "metadata": {
        "id": "OhRFEtnDGxpJ"
      },
      "outputs": [],
      "source": [
        "# SPDX-License-Identifier: Apache-2.0\n",
        "#\n",
        "# Copyright (C) 2021 Supervisely\n",
        "#\n",
        "# This file is part of the Supervisely project and has been taken\n",
        "# from the Supervisely repository (https://github.com/supervisely/supervisely/blob/master/plugins/nn/unet_v2/src/unet.py).\n",
        "# It is being redistributed under the Apache License 2.0.\n",
        "#\n",
        "# You may obtain a copy of the License at\n",
        "#\n",
        "#     http://www.apache.org/licenses/LICENSE-2.0\n",
        "#\n",
        "# Unless required by applicable law or agreed to in writing, software\n",
        "# distributed under the License is distributed on an \"AS IS\" BASIS,\n",
        "# WITHOUT WARRANTIES OR CONDITIONS OF ANY KIND, either express or implied.\n",
        "# See the License for the specific language governing permissions and\n",
        "# limitations under the License.\n",
        "\n",
        "\n",
        "import torch\n",
        "from torch import nn\n",
        "from torchvision.models.vgg import vgg16_bn\n",
        "\n",
        "\n",
        "class ConvBNAct(nn.Module):\n",
        "    def __init__(self, in_channels, out_channels):\n",
        "        super().__init__()\n",
        "        self.seq = nn.Sequential(\n",
        "            nn.Conv2d(in_channels, out_channels,\n",
        "                      kernel_size=3, padding=1),\n",
        "            nn.BatchNorm2d(out_channels),\n",
        "            nn.ReLU(),\n",
        "        )\n",
        "\n",
        "    def forward(self, inputs):\n",
        "        return self.seq(inputs)\n",
        "\n",
        "\n",
        "class Block(nn.Module):\n",
        "    def __init__(self, src_channels, dst_channels):\n",
        "        super().__init__()\n",
        "        self.seq1 = ConvBNAct(src_channels, dst_channels)\n",
        "        self.seq2 = ConvBNAct(dst_channels, dst_channels)\n",
        "        self.seq3 = ConvBNAct(dst_channels, dst_channels)\n",
        "\n",
        "    def forward(self, x):\n",
        "        result = self.seq1(x)\n",
        "        result = self.seq2(result)\n",
        "        result = self.seq3(result)\n",
        "        return result\n",
        "\n",
        "\n",
        "class UNetUp(nn.Module):\n",
        "    def __init__(self, down_channels,  right_channels):\n",
        "        super().__init__()\n",
        "        self.bottom_up = nn.Upsample(scale_factor=2, mode='nearest')\n",
        "        self.conv = nn.Conv2d(down_channels, right_channels, kernel_size=1, stride=1)\n",
        "\n",
        "    def forward(self, left, bottom):\n",
        "        from_bottom = self.bottom_up(bottom)\n",
        "        from_bottom = self.conv(from_bottom)\n",
        "        result = torch.cat([left, from_bottom], 1)\n",
        "        return result\n",
        "\n",
        "\n",
        "class Bottleneck(nn.Module):\n",
        "    def __init__(self, in_channels, out_channels):\n",
        "        super().__init__()\n",
        "        self.conv = nn.Conv2d(in_channels, out_channels, kernel_size=(3, 3), dilation=2, padding=2)\n",
        "        self.bn = nn.BatchNorm2d(out_channels)\n",
        "        self.relu = nn.ReLU()\n",
        "        self.conv2 = nn.Conv2d(out_channels, out_channels, kernel_size=(3, 3), dilation=2, padding=2)\n",
        "        self.bn2 = nn.BatchNorm2d(out_channels)\n",
        "        self.relu2 = nn.ReLU()\n",
        "\n",
        "    def forward(self, x):\n",
        "        out = self.conv(x)\n",
        "        out = self.bn(out)\n",
        "        out = self.conv2(self.relu(out))\n",
        "        out = self.bn2(out)\n",
        "        return torch.cat((x, self.relu2(out)), dim=1)\n",
        "\n",
        "\n",
        "class UNet(nn.Module):\n",
        "\n",
        "    def __init__(self, encoder_blocks,  encoder_channels, n_cls):\n",
        "        self.encoder_channels = encoder_channels\n",
        "        self.depth = len(self.encoder_channels)\n",
        "        assert len(encoder_blocks) == self.depth\n",
        "        super().__init__()\n",
        "\n",
        "        self.encoder_blocks = nn.ModuleList(encoder_blocks)\n",
        "\n",
        "        self.blocks = nn.ModuleList()\n",
        "        # add bottleneck\n",
        "        self.blocks.append(Block(\n",
        "            self.encoder_channels[-1],\n",
        "            self.encoder_channels[-1]\n",
        "        ))\n",
        "\n",
        "        self.ups = nn.ModuleList()\n",
        "        for i in range(1, self.depth):\n",
        "            bottom_channels = self.encoder_channels[self.depth - i]\n",
        "            left_channels = self.encoder_channels[self.depth - i - 1]\n",
        "            right_channels = left_channels\n",
        "            self.ups.append(UNetUp(bottom_channels,  right_channels))\n",
        "            self.blocks.append(Block(\n",
        "                left_channels + right_channels,\n",
        "                right_channels\n",
        "            ))\n",
        "        self.last_conv = nn.Conv2d(encoder_channels[0], n_cls, 1)\n",
        "        # self.dropout = nn.Dropout2d(p=0.1)\n",
        "        self.bottle = Bottleneck(512, 512)\n",
        "\n",
        "    def forward(self, x):\n",
        "        encoder_outputs = []\n",
        "        for encoder_block in self.encoder_blocks:\n",
        "            x = encoder_block(x)\n",
        "            encoder_outputs.append(x)\n",
        "        x = self.bottle(encoder_outputs[self.depth - 1])\n",
        "        for i in range(self.depth):\n",
        "            if i > 0:\n",
        "                encoder_output = encoder_outputs[self.depth - i - 1]\n",
        "                x = self.ups[i - 1](encoder_output, x)\n",
        "                x = self.blocks[i](x)\n",
        "        # x = self.dropout(x)\n",
        "        x = self.last_conv(x)\n",
        "        return x  # no softmax or log_softmax\n",
        "\n",
        "\n",
        "def _get_encoder_blocks(model):\n",
        "    # last modules (ReLUs) of VGG blocks\n",
        "    layers_last_module_names = ['5', '12', '22', '32', '42']\n",
        "    result = []\n",
        "    cur_block = nn.Sequential()\n",
        "    for name, child in model.named_children():\n",
        "        if name == 'features':\n",
        "            for name2, child2 in child.named_children():\n",
        "                cur_block.add_module(name2, child2)\n",
        "                if name2 in layers_last_module_names:\n",
        "                    result.append(cur_block)\n",
        "                    cur_block = nn.Sequential()\n",
        "            break\n",
        "\n",
        "    return result\n",
        "\n",
        "\n",
        "def construct_unet(n_cls, pretrain=False):  # no weights inited\n",
        "    model = vgg16_bn(weights='DEFAULT')\n",
        "    encoder_blocks = _get_encoder_blocks(model)\n",
        "    encoder_channels = [64, 128, 256, 512, 1024]  # vgg16 channels\n",
        "    # prev_channels = encoder_channels[-1]\n",
        "\n",
        "    return UNet(encoder_blocks, encoder_channels, n_cls)\n"
      ]
    },
    {
      "cell_type": "code",
      "execution_count": 4,
      "metadata": {
        "id": "U_8l2-gnG09S"
      },
      "outputs": [],
      "source": [
        "# Importación de librerías\n",
        "import torch\n",
        "from torch.utils.data import Dataset, DataLoader\n",
        "from torchvision import transforms\n",
        "from torch.nn import DataParallel\n",
        "from torch.nn import CrossEntropyLoss\n",
        "from torch.optim import Adam\n",
        "from torch.optim.lr_scheduler import StepLR\n",
        "from torchvision.io import read_image, ImageReadMode\n",
        "from torchvision.datasets.vision import VisionDataset\n",
        "from torchvision.models.segmentation import deeplabv3_resnet50, DeepLabV3_ResNet50_Weights\n",
        "from torchvision.models.segmentation.deeplabv3 import DeepLabHead\n",
        "from torchvision.utils import draw_segmentation_masks\n",
        "import torchvision.transforms.functional as F\n",
        "\n",
        "import cv2 as cv\n",
        "import numpy as np\n",
        "\n",
        "import requests\n",
        "import copy\n",
        "#from unet_model import construct_unet\n",
        "from pathlib import Path\n",
        "from PIL import Image\n",
        "from imutils.paths import list_images\n",
        "import os"
      ]
    },
    {
      "cell_type": "code",
      "execution_count": 5,
      "metadata": {
        "id": "YVtXGzixG09T"
      },
      "outputs": [],
      "source": [
        "# Importar el manejador de modelo: ModelHandler\n",
        "from pv_vision.nn import ModelHandler"
      ]
    },
    {
      "cell_type": "code",
      "execution_count": 6,
      "metadata": {
        "id": "ia6yr7DDG09T"
      },
      "outputs": [],
      "source": [
        "# Definición de una clase para el conjunto de datos solar,\n",
        "# que hereda de la clase VisionDataset de PyTorch.\n",
        "class SolarDataset(VisionDataset):\n",
        "    \"\"\"Un conjunto de datos que lee directamente las imágenes y las máscaras desde una carpeta.\"\"\"\n",
        "\n",
        "    # Se definió el método de inicialización para la clase.\n",
        "    def __init__(self,\n",
        "                 root,\n",
        "                 image_folder,\n",
        "                 mask_folder,\n",
        "                 transforms,\n",
        "                 mode = \"train\",\n",
        "                 random_seed=42):\n",
        "        # Se llamó al método de inicialización de la clase padre.\n",
        "        super().__init__(root, transforms)\n",
        "        # Se establecieron las rutas a las carpetas de imágenes y máscaras.\n",
        "        self.image_path = Path(self.root) / image_folder\n",
        "        self.mask_path = Path(self.root) / mask_folder\n",
        "\n",
        "        # Se verificó que las carpetas de imágenes y máscaras existan.\n",
        "        if not os.path.exists(self.image_path):\n",
        "            raise OSError(f\"{self.image_path} no encontrado.\")\n",
        "\n",
        "        if not os.path.exists(self.mask_path):\n",
        "            raise OSError(f\"{self.mask_path} no encontrado.\")\n",
        "\n",
        "        # Se obtuvieron las listas de imágenes y máscaras y se ordenaron.\n",
        "        self.image_list = sorted(list(list_images(self.image_path)))\n",
        "        self.mask_list = sorted(list(list_images(self.mask_path)))\n",
        "\n",
        "        # Se convirtieron las listas de imágenes y máscaras a arrays de numpy.\n",
        "        self.image_list = np.array(self.image_list)\n",
        "        self.mask_list = np.array(self.mask_list)\n",
        "\n",
        "        # Se estableció la semilla para la generación de números aleatorios y se mezclaron las imágenes y las máscaras.\n",
        "        np.random.seed(random_seed)\n",
        "        index = np.arange(len(self.image_list))\n",
        "        np.random.shuffle(index)\n",
        "        self.image_list = self.image_list[index]\n",
        "        self.mask_list = self.mask_list[index]\n",
        "\n",
        "    # Se definió el método para obtener la longitud del conjunto de datos.\n",
        "    def __len__(self):\n",
        "        return len(self.image_list)\n",
        "\n",
        "    # Se definió un método para obtener el nombre de una imagen o máscara.\n",
        "    def __getname__(self, index):\n",
        "        image_name = os.path.splitext(os.path.split(self.image_list[index])[-1])[0]\n",
        "        mask_name = os.path.splitext(os.path.split(self.mask_list[index])[-1])[0]\n",
        "\n",
        "        if image_name == mask_name:\n",
        "            return image_name\n",
        "        else:\n",
        "            return False\n",
        "\n",
        "    # Se definió un método para obtener una imagen y su máscara correspondiente.\n",
        "    def __getraw__(self, index):\n",
        "        if not self.__getname__(index):\n",
        "            raise ValueError(\"{}: La imagen no coincide con la máscara\".format(os.path.split(self.image_list[index])[-1]))\n",
        "        image = Image.open(self.image_list[index])\n",
        "        mask = Image.open(self.mask_list[index]).convert('L')\n",
        "        mask = np.array(mask)\n",
        "        mask = Image.fromarray(mask)\n",
        "\n",
        "        return image, mask\n",
        "\n",
        "    # Se definió el método para obtener un elemento del conjunto de datos.\n",
        "    def __getitem__(self, index):\n",
        "        image, mask = self.__getraw__(index)\n",
        "        image, mask = self.transforms(image, mask)\n",
        "\n",
        "        return image, mask"
      ]
    },
    {
      "cell_type": "code",
      "execution_count": 7,
      "metadata": {
        "id": "t1nDW9d6G09T"
      },
      "outputs": [],
      "source": [
        "# Definición de una clase para componer varias transformaciones.\n",
        "class Compose:\n",
        "    def __init__(self, transforms):\n",
        "        \"\"\"\n",
        "        transforms: una lista de transformaciones\n",
        "        \"\"\"\n",
        "        self.transforms = transforms\n",
        "\n",
        "    # Se definió el método para aplicar las transformaciones a la imagen y la máscara.\n",
        "    def __call__(self, image, target):\n",
        "        \"\"\"\n",
        "        image: imagen de entrada\n",
        "        target: máscara de entrada\n",
        "        \"\"\"\n",
        "        for t in self.transforms:\n",
        "            image, target = t(image, target)\n",
        "        return image, target\n",
        "\n",
        "# Se definió una clase para redimensionar la imagen y la máscara a un tamaño fijo.\n",
        "class FixResize:\n",
        "    # UNet requiere que el tamaño de entrada sea múltiplo de 16\n",
        "    def __init__(self, size):\n",
        "        self.size = size\n",
        "\n",
        "    # Se definió el método para redimensionar la imagen y la máscara.\n",
        "    def __call__(self, image, target):\n",
        "        image = F.resize(image, (self.size, self.size), interpolation=transforms.InterpolationMode.BILINEAR)\n",
        "        target = F.resize(target, (self.size, self.size), interpolation=transforms.InterpolationMode.NEAREST)\n",
        "        return image, target\n",
        "\n",
        "# Se definió una clase para transformar la imagen y la máscara a tensores.\n",
        "class ToTensor:\n",
        "    \"\"\"Transforma la imagen a tensor. Escala la imagen a [0,1] float32.\n",
        "    Transforma la máscara a tensor.\n",
        "    \"\"\"\n",
        "    def __call__(self, image, target):\n",
        "        image = transforms.ToTensor()(image)\n",
        "        target = torch.as_tensor(np.array(target), dtype=torch.int64)\n",
        "        return image, target\n",
        "\n",
        "# Se definió una clase para transformar la imagen a tensor manteniendo el tipo original.\n",
        "class PILToTensor:\n",
        "    \"\"\"Transforma la imagen a tensor. Mantiene el tipo original.\"\"\"\n",
        "    def __call__(self, image, target):\n",
        "        image = F.pil_to_tensor(image)\n",
        "        target = torch.as_tensor(np.array(target), dtype=torch.int64)\n",
        "        return image, target\n",
        "\n",
        "# Se definió una clase para normalizar la imagen.\n",
        "class Normalize:\n",
        "    def __init__(self, mean=(0.485, 0.456, 0.406), std=(0.229, 0.224, 0.225)):\n",
        "        self.mean = mean\n",
        "        self.std = std\n",
        "\n",
        "    def __call__(self, image, target):\n",
        "        # Verifica si la imagen es en escala de grises (1 canal) y la convierte a RGB (3 canales) si es necesario\n",
        "        if image.shape[0] == 1:\n",
        "            image = image.repeat(3, 1, 1)  # Repite el canal existente 3 veces\n",
        "        image = F.normalize(image, mean=self.mean, std=self.std)\n",
        "        return image, target"
      ]
    },
    {
      "cell_type": "code",
      "execution_count": 13,
      "metadata": {
        "colab": {
          "base_uri": "https://localhost:8080/"
        },
        "id": "pRAdQ8o1G09U",
        "outputId": "36857021-a6a2-4f7d-ccf6-84d5e864a765"
      },
      "outputs": [
        {
          "name": "stdout",
          "output_type": "stream",
          "text": [
            "El conjunto de datos de entrenamiento contiene 1322 elementos.\n"
          ]
        }
      ],
      "source": [
        "# Ruta al directorio que contiene las imágenes y las máscaras.\n",
        "root = Path(\n",
        "    '/content/drive/MyDrive/Trabajo de titulación/PV_vision/Entrenamiento')\n",
        "\n",
        "# Se definen las transformaciones a aplicar a las imágenes y las etiquetas.\n",
        "transformers = Compose([FixResize(256), ToTensor(), Normalize()])\n",
        "#/content/drive/MyDrive/Trabajo de titulación/PV_vision/Entrenamiento/train/annotations\n",
        "#/content/drive/MyDrive/Trabajo de titulación/PV_vision/Entrenamiento/img_label_for_training/train\n",
        "# Se crean los conjuntos de datos de entrenamiento, validación y prueba.\n",
        "trainset = SolarDataset(root, image_folder=\"train/img\",\n",
        "        mask_folder=\"train/ann\", transforms=transformers)\n",
        "\n",
        "valset = SolarDataset(root, image_folder=\"val2/img\",\n",
        "        mask_folder=\"val2/ann\", transforms=transformers)\n",
        "\n",
        "testset = SolarDataset(root, image_folder=\"test/img\",\n",
        "        mask_folder=\"test/ann\", transforms=transformers)\n",
        "\n",
        "# Verificación de que la carpeta haya sido establecida correctamente\n",
        "print(f\"El conjunto de datos de entrenamiento contiene {len(trainset)} elementos.\")"
      ]
    },
    {
      "cell_type": "code",
      "execution_count": null,
      "metadata": {
        "id": "KaZs0hwDG09U"
      },
      "outputs": [],
      "source": [
        "# Se define una función para crear un modelo DeepLab preentrenado.\n",
        "def DeepLab_pretrained(num_classes):\n",
        "    # Se carga el modelo DeepLab con una arquitectura ResNet50 preentrenada.\n",
        "    deeplab = deeplabv3_resnet50(weights=DeepLabV3_ResNet50_Weights.DEFAULT)\n",
        "\n",
        "    # Se reemplaza el clasificador del modelo con un nuevo clasificador DeepLabHead.\n",
        "    # El nuevo clasificador tiene 2048 características de entrada y 'num_classes' características de salida.\n",
        "    deeplab.classifier = DeepLabHead(2048, num_classes)\n",
        "\n",
        "    # Se devuelve el modelo modificado.\n",
        "    return deeplab"
      ]
    },
    {
      "cell_type": "code",
      "execution_count": 14,
      "metadata": {
        "colab": {
          "base_uri": "https://localhost:8080/"
        },
        "id": "TZFPZp57F3wK",
        "outputId": "f766e13e-8b79-41ba-cdaa-01bf4c91ef0f"
      },
      "outputs": [
        {
          "name": "stderr",
          "output_type": "stream",
          "text": [
            "Downloading: \"https://download.pytorch.org/models/vgg16_bn-6c64b313.pth\" to /root/.cache/torch/hub/checkpoints/vgg16_bn-6c64b313.pth\n",
            "100%|██████████| 528M/528M [00:08<00:00, 67.1MB/s]\n"
          ]
        }
      ],
      "source": [
        "# Crea una instancia del modelo U-Net con 5 canales de salida.\n",
        "# Número de canales de salida = al número de clases\n",
        "unet = construct_unet(5)\n",
        "# Se \"envuelve\" el modelo en un objeto DataParallel.\n",
        "# Esto permite que el modelo se ejecute en paralelo en múltiples GPUs, si están disponibles.\n",
        "unet = DataParallel(unet)"
      ]
    },
    {
      "cell_type": "code",
      "execution_count": 15,
      "metadata": {
        "colab": {
          "base_uri": "https://localhost:8080/"
        },
        "id": "Qnmr0nyOG09U",
        "outputId": "8c71d055-d881-49d2-af08-06d6e800c2cf"
      },
      "outputs": [
        {
          "name": "stdout",
          "output_type": "stream",
          "text": [
            "Dispositivo utilizado: cuda:0\n"
          ]
        }
      ],
      "source": [
        "# Se define el dispositivo en el que se ejecutará el modelo.\n",
        "device = torch.device(\"cuda:0\" if torch.cuda.is_available() else \"cpu\")\n",
        "# Se imprime el dispositivo utilizado.\n",
        "print(f\"Dispositivo utilizado: {device}\")\n",
        "\n",
        "# Se crea el modelo utilizando la función DeepLab_pretrained definida anteriormente.\n",
        "# El modelo se envuelve en un objeto DataParallel para permitir el entrenamiento en múltiples GPUs si están disponibles.\n",
        "#model = DataParallel(DeepLab_pretrained(5))\n",
        "\n",
        "# Se define la función de pérdida a utilizar durante el entrenamiento.\n",
        "# En este caso, se utiliza la pérdida de entropía cruzada.\n",
        "criterion = CrossEntropyLoss()\n",
        "\n",
        "# Se define el optimizador a utilizar durante el entrenamiento. En este caso, se utiliza Adam con una tasa de aprendizaje de 0.01.\n",
        "#optimizer = Adam(model.parameters(), lr=0.01)\n",
        "optimizer = Adam(unet.parameters(), lr=0.01)\n",
        "\n",
        "# Se define el programador de la tasa de aprendizaje a utilizar durante el entrenamiento.\n",
        "# En este caso, se utiliza un programador de paso que disminuye la tasa de aprendizaje en un factor de 0.2 cada 5 épocas.\n",
        "lr_scheduler = StepLR(optimizer, step_size=5, gamma=0.2)"
      ]
    },
    {
      "cell_type": "code",
      "execution_count": 16,
      "metadata": {
        "colab": {
          "base_uri": "https://localhost:8080/"
        },
        "id": "TjJv6uo4G09V",
        "outputId": "cfb5feb6-e11f-474c-e9c6-a032fcb22f63"
      },
      "outputs": [
        {
          "name": "stderr",
          "output_type": "stream",
          "text": [
            "INFO:pv_vision.nn.modelhandler:ModelHandler initialized.\n"
          ]
        }
      ],
      "source": [
        "# Se inicializa el manejador del modelo.\n",
        "# La salida se almacena en la carpeta de salida.\n",
        "modelhandler = ModelHandler(\n",
        "    # Se pasa el modelo que se va a entrenar.\n",
        "    #model=model,\n",
        "    model = unet,\n",
        "    # Se especifica el nombre de la carpeta de salida.\n",
        "    #model_output='out_unet',\n",
        "    # Se pasan los conjuntos de datos de entrenamiento, validación y prueba.\n",
        "    train_dataset=trainset,\n",
        "    val_dataset=valset,\n",
        "    test_dataset=testset,\n",
        "    # Se especifica el tamaño del lote para el entrenamiento y la validación.\n",
        "    batch_size_train=32,\n",
        "    batch_size_val=16,\n",
        "    # Se pasa el programador de la tasa de aprendizaje.\n",
        "    lr_scheduler=lr_scheduler,\n",
        "    # Se especifica el número de épocas para el entrenamiento.\n",
        "    num_epochs=20,\n",
        "    # Se pasa la función de pérdida y el optimizador.\n",
        "    criterion=criterion,\n",
        "    optimizer=optimizer,\n",
        "    # Se pasa el dispositivo en el que se ejecutará el entrenamiento.\n",
        "    device=device,\n",
        "    # Se especifica el directorio donde se guardarán los puntos de control del modelo.\n",
        "    save_dir='/content/drive/MyDrive/Trabajo de titulación/PV_vision/Entrenamiento/PuntosControl/checkpoints',\n",
        "    # Se especifica el nombre del archivo de punto de control.\n",
        "    save_name='/content/drive/MyDrive/Trabajo de titulación/PV_vision/Entrenamiento/PuntosControl/unetv3.pt'\n",
        ")"
      ]
    },
    {
      "cell_type": "code",
      "execution_count": 17,
      "metadata": {
        "colab": {
          "base_uri": "https://localhost:8080/"
        },
        "id": "X1SfRwQCG09V",
        "outputId": "446b6c4b-eea8-4a85-cfc7-3975a725f420"
      },
      "outputs": [
        {
          "name": "stdout",
          "output_type": "stream",
          "text": [
            "Epoch 1 / 10\n",
            "----------\n"
          ]
        },
        {
          "name": "stderr",
          "output_type": "stream",
          "text": [
            "  0%|          | 0/83 [00:00<?, ?it/s]INFO:pv_vision.nn.modelhandler:Train Epoch: 1 [0/1322 (0%)]\tLoss: 1.561277\n",
            " 12%|█▏        | 10/83 [02:58<17:38, 14.50s/it]INFO:pv_vision.nn.modelhandler:Train Epoch: 1 [160/1322 (12%)]\tLoss: 0.225379\n",
            " 24%|██▍       | 20/83 [05:20<14:52, 14.16s/it]INFO:pv_vision.nn.modelhandler:Train Epoch: 1 [320/1322 (24%)]\tLoss: 0.138700\n",
            " 36%|███▌      | 30/83 [07:42<12:29, 14.15s/it]INFO:pv_vision.nn.modelhandler:Train Epoch: 1 [480/1322 (36%)]\tLoss: 0.131450\n",
            " 48%|████▊     | 40/83 [10:06<10:11, 14.22s/it]INFO:pv_vision.nn.modelhandler:Train Epoch: 1 [640/1322 (48%)]\tLoss: 0.208181\n",
            " 60%|██████    | 50/83 [12:32<07:58, 14.49s/it]INFO:pv_vision.nn.modelhandler:Train Epoch: 1 [800/1322 (60%)]\tLoss: 0.212173\n",
            " 72%|███████▏  | 60/83 [14:55<05:26, 14.21s/it]INFO:pv_vision.nn.modelhandler:Train Epoch: 1 [960/1322 (72%)]\tLoss: 0.176257\n",
            " 84%|████████▍ | 70/83 [17:23<03:07, 14.41s/it]INFO:pv_vision.nn.modelhandler:Train Epoch: 1 [1120/1322 (84%)]\tLoss: 0.117848\n",
            " 96%|█████████▋| 80/83 [19:47<00:42, 14.27s/it]INFO:pv_vision.nn.modelhandler:Train Epoch: 1 [1280/1322 (96%)]\tLoss: 0.076855\n",
            "100%|██████████| 83/83 [20:25<00:00, 14.76s/it]\n",
            "INFO:pv_vision.nn.modelhandler:Saved model at epoch 1\n",
            "100%|██████████| 13/13 [06:11<00:00, 28.55s/it]\n",
            "INFO:pv_vision.nn.modelhandler:Val epoch: 1 \tAverage loss: 0.3572\n"
          ]
        },
        {
          "name": "stdout",
          "output_type": "stream",
          "text": [
            "Loss: 0.2356 (train) | 0.3572 (val)\n",
            "Epoch 2 / 10\n",
            "----------\n"
          ]
        },
        {
          "name": "stderr",
          "output_type": "stream",
          "text": [
            "  0%|          | 0/83 [00:00<?, ?it/s]INFO:pv_vision.nn.modelhandler:Train Epoch: 2 [0/1322 (0%)]\tLoss: 0.114284\n",
            " 12%|█▏        | 10/83 [00:09<01:14,  1.02s/it]INFO:pv_vision.nn.modelhandler:Train Epoch: 2 [160/1322 (12%)]\tLoss: 0.124766\n",
            " 24%|██▍       | 20/83 [00:20<01:06,  1.06s/it]INFO:pv_vision.nn.modelhandler:Train Epoch: 2 [320/1322 (24%)]\tLoss: 0.179305\n",
            " 36%|███▌      | 30/83 [00:31<00:56,  1.07s/it]INFO:pv_vision.nn.modelhandler:Train Epoch: 2 [480/1322 (36%)]\tLoss: 0.181743\n",
            " 48%|████▊     | 40/83 [00:42<00:45,  1.05s/it]INFO:pv_vision.nn.modelhandler:Train Epoch: 2 [640/1322 (48%)]\tLoss: 0.086775\n",
            " 60%|██████    | 50/83 [00:52<00:34,  1.03s/it]INFO:pv_vision.nn.modelhandler:Train Epoch: 2 [800/1322 (60%)]\tLoss: 0.175965\n",
            " 72%|███████▏  | 60/83 [01:03<00:23,  1.02s/it]INFO:pv_vision.nn.modelhandler:Train Epoch: 2 [960/1322 (72%)]\tLoss: 0.159915\n",
            " 84%|████████▍ | 70/83 [01:13<00:13,  1.02s/it]INFO:pv_vision.nn.modelhandler:Train Epoch: 2 [1120/1322 (84%)]\tLoss: 0.086721\n",
            " 96%|█████████▋| 80/83 [01:23<00:03,  1.02s/it]INFO:pv_vision.nn.modelhandler:Train Epoch: 2 [1280/1322 (96%)]\tLoss: 0.153904\n",
            "100%|██████████| 83/83 [01:27<00:00,  1.05s/it]\n",
            "INFO:pv_vision.nn.modelhandler:Saved model at epoch 2\n",
            "100%|██████████| 13/13 [00:06<00:00,  2.00it/s]\n",
            "INFO:pv_vision.nn.modelhandler:Val epoch: 2 \tAverage loss: 0.1132\n"
          ]
        },
        {
          "name": "stdout",
          "output_type": "stream",
          "text": [
            "Loss: 0.1391 (train) | 0.1132 (val)\n",
            "Epoch 3 / 10\n",
            "----------\n"
          ]
        },
        {
          "name": "stderr",
          "output_type": "stream",
          "text": [
            "  0%|          | 0/83 [00:00<?, ?it/s]INFO:pv_vision.nn.modelhandler:Train Epoch: 3 [0/1322 (0%)]\tLoss: 0.086440\n",
            " 12%|█▏        | 10/83 [00:10<01:15,  1.03s/it]INFO:pv_vision.nn.modelhandler:Train Epoch: 3 [160/1322 (12%)]\tLoss: 0.119965\n",
            " 24%|██▍       | 20/83 [00:20<01:05,  1.03s/it]INFO:pv_vision.nn.modelhandler:Train Epoch: 3 [320/1322 (24%)]\tLoss: 0.098115\n",
            " 36%|███▌      | 30/83 [00:31<00:54,  1.04s/it]INFO:pv_vision.nn.modelhandler:Train Epoch: 3 [480/1322 (36%)]\tLoss: 0.112336\n",
            " 48%|████▊     | 40/83 [00:41<00:44,  1.03s/it]INFO:pv_vision.nn.modelhandler:Train Epoch: 3 [640/1322 (48%)]\tLoss: 0.104819\n",
            " 60%|██████    | 50/83 [00:52<00:34,  1.03s/it]INFO:pv_vision.nn.modelhandler:Train Epoch: 3 [800/1322 (60%)]\tLoss: 0.143014\n",
            " 72%|███████▏  | 60/83 [01:02<00:23,  1.03s/it]INFO:pv_vision.nn.modelhandler:Train Epoch: 3 [960/1322 (72%)]\tLoss: 0.091625\n",
            " 84%|████████▍ | 70/83 [01:13<00:13,  1.02s/it]INFO:pv_vision.nn.modelhandler:Train Epoch: 3 [1120/1322 (84%)]\tLoss: 0.078151\n",
            " 96%|█████████▋| 80/83 [01:23<00:03,  1.03s/it]INFO:pv_vision.nn.modelhandler:Train Epoch: 3 [1280/1322 (96%)]\tLoss: 0.196864\n",
            "100%|██████████| 83/83 [01:26<00:00,  1.04s/it]\n",
            "INFO:pv_vision.nn.modelhandler:Saved model at epoch 3\n",
            "100%|██████████| 13/13 [00:06<00:00,  1.91it/s]\n",
            "INFO:pv_vision.nn.modelhandler:Val epoch: 3 \tAverage loss: 0.1023\n"
          ]
        },
        {
          "name": "stdout",
          "output_type": "stream",
          "text": [
            "Loss: 0.1228 (train) | 0.1023 (val)\n",
            "Epoch 4 / 10\n",
            "----------\n"
          ]
        },
        {
          "name": "stderr",
          "output_type": "stream",
          "text": [
            "  0%|          | 0/83 [00:00<?, ?it/s]INFO:pv_vision.nn.modelhandler:Train Epoch: 4 [0/1322 (0%)]\tLoss: 0.119601\n",
            " 12%|█▏        | 10/83 [00:09<01:14,  1.02s/it]INFO:pv_vision.nn.modelhandler:Train Epoch: 4 [160/1322 (12%)]\tLoss: 0.075020\n",
            " 24%|██▍       | 20/83 [00:20<01:04,  1.03s/it]INFO:pv_vision.nn.modelhandler:Train Epoch: 4 [320/1322 (24%)]\tLoss: 0.086702\n",
            " 36%|███▌      | 30/83 [00:30<00:54,  1.03s/it]INFO:pv_vision.nn.modelhandler:Train Epoch: 4 [480/1322 (36%)]\tLoss: 0.064223\n",
            " 48%|████▊     | 40/83 [00:41<00:44,  1.04s/it]INFO:pv_vision.nn.modelhandler:Train Epoch: 4 [640/1322 (48%)]\tLoss: 0.139067\n",
            " 60%|██████    | 50/83 [00:52<00:34,  1.03s/it]INFO:pv_vision.nn.modelhandler:Train Epoch: 4 [800/1322 (60%)]\tLoss: 0.100466\n",
            " 72%|███████▏  | 60/83 [01:02<00:23,  1.03s/it]INFO:pv_vision.nn.modelhandler:Train Epoch: 4 [960/1322 (72%)]\tLoss: 0.160669\n",
            " 84%|████████▍ | 70/83 [01:12<00:13,  1.03s/it]INFO:pv_vision.nn.modelhandler:Train Epoch: 4 [1120/1322 (84%)]\tLoss: 0.093801\n",
            " 96%|█████████▋| 80/83 [01:23<00:03,  1.03s/it]INFO:pv_vision.nn.modelhandler:Train Epoch: 4 [1280/1322 (96%)]\tLoss: 0.164098\n",
            "100%|██████████| 83/83 [01:26<00:00,  1.04s/it]\n",
            "INFO:pv_vision.nn.modelhandler:Saved model at epoch 4\n",
            "100%|██████████| 13/13 [00:07<00:00,  1.86it/s]\n",
            "INFO:pv_vision.nn.modelhandler:Val epoch: 4 \tAverage loss: 0.1303\n"
          ]
        },
        {
          "name": "stdout",
          "output_type": "stream",
          "text": [
            "Loss: 0.1170 (train) | 0.1303 (val)\n",
            "Epoch 5 / 10\n",
            "----------\n"
          ]
        },
        {
          "name": "stderr",
          "output_type": "stream",
          "text": [
            "  0%|          | 0/83 [00:00<?, ?it/s]INFO:pv_vision.nn.modelhandler:Train Epoch: 5 [0/1322 (0%)]\tLoss: 0.150268\n",
            " 12%|█▏        | 10/83 [00:09<01:14,  1.02s/it]INFO:pv_vision.nn.modelhandler:Train Epoch: 5 [160/1322 (12%)]\tLoss: 0.071567\n",
            " 24%|██▍       | 20/83 [00:20<01:04,  1.03s/it]INFO:pv_vision.nn.modelhandler:Train Epoch: 5 [320/1322 (24%)]\tLoss: 0.086187\n",
            " 36%|███▌      | 30/83 [00:30<00:54,  1.03s/it]INFO:pv_vision.nn.modelhandler:Train Epoch: 5 [480/1322 (36%)]\tLoss: 0.129764\n",
            " 48%|████▊     | 40/83 [00:41<00:44,  1.03s/it]INFO:pv_vision.nn.modelhandler:Train Epoch: 5 [640/1322 (48%)]\tLoss: 0.091225\n",
            " 60%|██████    | 50/83 [00:51<00:34,  1.03s/it]INFO:pv_vision.nn.modelhandler:Train Epoch: 5 [800/1322 (60%)]\tLoss: 0.112003\n",
            " 72%|███████▏  | 60/83 [01:02<00:23,  1.03s/it]INFO:pv_vision.nn.modelhandler:Train Epoch: 5 [960/1322 (72%)]\tLoss: 0.158963\n",
            " 84%|████████▍ | 70/83 [01:12<00:13,  1.03s/it]INFO:pv_vision.nn.modelhandler:Train Epoch: 5 [1120/1322 (84%)]\tLoss: 0.180391\n",
            " 96%|█████████▋| 80/83 [01:23<00:03,  1.03s/it]INFO:pv_vision.nn.modelhandler:Train Epoch: 5 [1280/1322 (96%)]\tLoss: 0.166709\n",
            "100%|██████████| 83/83 [01:26<00:00,  1.05s/it]\n",
            "INFO:pv_vision.nn.modelhandler:Saved model at epoch 5\n",
            "100%|██████████| 13/13 [00:06<00:00,  1.98it/s]\n",
            "INFO:pv_vision.nn.modelhandler:Val epoch: 5 \tAverage loss: 0.1379\n"
          ]
        },
        {
          "name": "stdout",
          "output_type": "stream",
          "text": [
            "Loss: 0.1132 (train) | 0.1379 (val)\n",
            "Epoch 6 / 10\n",
            "----------\n"
          ]
        },
        {
          "name": "stderr",
          "output_type": "stream",
          "text": [
            "  0%|          | 0/83 [00:00<?, ?it/s]INFO:pv_vision.nn.modelhandler:Train Epoch: 6 [0/1322 (0%)]\tLoss: 0.102400\n",
            " 12%|█▏        | 10/83 [00:09<01:14,  1.02s/it]INFO:pv_vision.nn.modelhandler:Train Epoch: 6 [160/1322 (12%)]\tLoss: 0.116545\n",
            " 24%|██▍       | 20/83 [00:20<01:05,  1.03s/it]INFO:pv_vision.nn.modelhandler:Train Epoch: 6 [320/1322 (24%)]\tLoss: 0.081829\n",
            " 36%|███▌      | 30/83 [00:30<00:54,  1.03s/it]INFO:pv_vision.nn.modelhandler:Train Epoch: 6 [480/1322 (36%)]\tLoss: 0.084746\n",
            " 48%|████▊     | 40/83 [00:41<00:44,  1.03s/it]INFO:pv_vision.nn.modelhandler:Train Epoch: 6 [640/1322 (48%)]\tLoss: 0.078758\n",
            " 60%|██████    | 50/83 [00:51<00:34,  1.03s/it]INFO:pv_vision.nn.modelhandler:Train Epoch: 6 [800/1322 (60%)]\tLoss: 0.070697\n",
            " 72%|███████▏  | 60/83 [01:02<00:23,  1.03s/it]INFO:pv_vision.nn.modelhandler:Train Epoch: 6 [960/1322 (72%)]\tLoss: 0.076503\n",
            " 84%|████████▍ | 70/83 [01:12<00:13,  1.03s/it]INFO:pv_vision.nn.modelhandler:Train Epoch: 6 [1120/1322 (84%)]\tLoss: 0.140216\n",
            " 96%|█████████▋| 80/83 [01:23<00:03,  1.03s/it]INFO:pv_vision.nn.modelhandler:Train Epoch: 6 [1280/1322 (96%)]\tLoss: 0.092569\n",
            "100%|██████████| 83/83 [01:26<00:00,  1.04s/it]\n",
            "INFO:pv_vision.nn.modelhandler:Saved model at epoch 6\n",
            "100%|██████████| 13/13 [00:06<00:00,  1.90it/s]\n",
            "INFO:pv_vision.nn.modelhandler:Val epoch: 6 \tAverage loss: 0.0976\n"
          ]
        },
        {
          "name": "stdout",
          "output_type": "stream",
          "text": [
            "Loss: 0.0982 (train) | 0.0976 (val)\n",
            "Epoch 7 / 10\n",
            "----------\n"
          ]
        },
        {
          "name": "stderr",
          "output_type": "stream",
          "text": [
            "  0%|          | 0/83 [00:00<?, ?it/s]INFO:pv_vision.nn.modelhandler:Train Epoch: 7 [0/1322 (0%)]\tLoss: 0.100889\n",
            " 12%|█▏        | 10/83 [00:09<01:14,  1.02s/it]INFO:pv_vision.nn.modelhandler:Train Epoch: 7 [160/1322 (12%)]\tLoss: 0.126189\n",
            " 24%|██▍       | 20/83 [00:20<01:05,  1.03s/it]INFO:pv_vision.nn.modelhandler:Train Epoch: 7 [320/1322 (24%)]\tLoss: 0.087574\n",
            " 36%|███▌      | 30/83 [00:30<00:54,  1.03s/it]INFO:pv_vision.nn.modelhandler:Train Epoch: 7 [480/1322 (36%)]\tLoss: 0.099920\n",
            " 48%|████▊     | 40/83 [00:41<00:44,  1.03s/it]INFO:pv_vision.nn.modelhandler:Train Epoch: 7 [640/1322 (48%)]\tLoss: 0.110344\n",
            " 60%|██████    | 50/83 [00:51<00:34,  1.03s/it]INFO:pv_vision.nn.modelhandler:Train Epoch: 7 [800/1322 (60%)]\tLoss: 0.086771\n",
            " 72%|███████▏  | 60/83 [01:02<00:23,  1.03s/it]INFO:pv_vision.nn.modelhandler:Train Epoch: 7 [960/1322 (72%)]\tLoss: 0.076938\n",
            " 84%|████████▍ | 70/83 [01:12<00:13,  1.03s/it]INFO:pv_vision.nn.modelhandler:Train Epoch: 7 [1120/1322 (84%)]\tLoss: 0.060000\n",
            " 96%|█████████▋| 80/83 [01:23<00:03,  1.03s/it]INFO:pv_vision.nn.modelhandler:Train Epoch: 7 [1280/1322 (96%)]\tLoss: 0.104436\n",
            "100%|██████████| 83/83 [01:26<00:00,  1.04s/it]\n",
            "INFO:pv_vision.nn.modelhandler:Saved model at epoch 7\n",
            "100%|██████████| 13/13 [00:07<00:00,  1.85it/s]\n",
            "INFO:pv_vision.nn.modelhandler:Val epoch: 7 \tAverage loss: 0.1074\n"
          ]
        },
        {
          "name": "stdout",
          "output_type": "stream",
          "text": [
            "Loss: 0.0944 (train) | 0.1074 (val)\n",
            "Epoch 8 / 10\n",
            "----------\n"
          ]
        },
        {
          "name": "stderr",
          "output_type": "stream",
          "text": [
            "  0%|          | 0/83 [00:00<?, ?it/s]INFO:pv_vision.nn.modelhandler:Train Epoch: 8 [0/1322 (0%)]\tLoss: 0.083843\n",
            " 12%|█▏        | 10/83 [00:09<01:15,  1.03s/it]INFO:pv_vision.nn.modelhandler:Train Epoch: 8 [160/1322 (12%)]\tLoss: 0.081194\n",
            " 24%|██▍       | 20/83 [00:20<01:05,  1.03s/it]INFO:pv_vision.nn.modelhandler:Train Epoch: 8 [320/1322 (24%)]\tLoss: 0.091110\n",
            " 36%|███▌      | 30/83 [00:30<00:54,  1.03s/it]INFO:pv_vision.nn.modelhandler:Train Epoch: 8 [480/1322 (36%)]\tLoss: 0.068794\n",
            " 48%|████▊     | 40/83 [00:41<00:44,  1.03s/it]INFO:pv_vision.nn.modelhandler:Train Epoch: 8 [640/1322 (48%)]\tLoss: 0.093152\n",
            " 60%|██████    | 50/83 [00:51<00:33,  1.03s/it]INFO:pv_vision.nn.modelhandler:Train Epoch: 8 [800/1322 (60%)]\tLoss: 0.156674\n",
            " 72%|███████▏  | 60/83 [01:02<00:23,  1.03s/it]INFO:pv_vision.nn.modelhandler:Train Epoch: 8 [960/1322 (72%)]\tLoss: 0.104967\n",
            " 84%|████████▍ | 70/83 [01:12<00:13,  1.03s/it]INFO:pv_vision.nn.modelhandler:Train Epoch: 8 [1120/1322 (84%)]\tLoss: 0.075320\n",
            " 96%|█████████▋| 80/83 [01:23<00:03,  1.03s/it]INFO:pv_vision.nn.modelhandler:Train Epoch: 8 [1280/1322 (96%)]\tLoss: 0.072871\n",
            "100%|██████████| 83/83 [01:26<00:00,  1.04s/it]\n",
            "INFO:pv_vision.nn.modelhandler:Saved model at epoch 8\n",
            "100%|██████████| 13/13 [00:06<00:00,  1.95it/s]\n",
            "INFO:pv_vision.nn.modelhandler:Val epoch: 8 \tAverage loss: 0.1000\n"
          ]
        },
        {
          "name": "stdout",
          "output_type": "stream",
          "text": [
            "Loss: 0.0933 (train) | 0.1000 (val)\n",
            "Epoch 9 / 10\n",
            "----------\n"
          ]
        },
        {
          "name": "stderr",
          "output_type": "stream",
          "text": [
            "  0%|          | 0/83 [00:00<?, ?it/s]INFO:pv_vision.nn.modelhandler:Train Epoch: 9 [0/1322 (0%)]\tLoss: 0.092900\n",
            " 12%|█▏        | 10/83 [00:09<01:14,  1.03s/it]INFO:pv_vision.nn.modelhandler:Train Epoch: 9 [160/1322 (12%)]\tLoss: 0.105263\n",
            " 24%|██▍       | 20/83 [00:20<01:05,  1.03s/it]INFO:pv_vision.nn.modelhandler:Train Epoch: 9 [320/1322 (24%)]\tLoss: 0.109238\n",
            " 36%|███▌      | 30/83 [00:31<00:54,  1.04s/it]INFO:pv_vision.nn.modelhandler:Train Epoch: 9 [480/1322 (36%)]\tLoss: 0.126896\n",
            " 48%|████▊     | 40/83 [00:41<00:44,  1.03s/it]INFO:pv_vision.nn.modelhandler:Train Epoch: 9 [640/1322 (48%)]\tLoss: 0.107344\n",
            " 60%|██████    | 50/83 [00:52<00:34,  1.03s/it]INFO:pv_vision.nn.modelhandler:Train Epoch: 9 [800/1322 (60%)]\tLoss: 0.081554\n",
            " 72%|███████▏  | 60/83 [01:02<00:23,  1.04s/it]INFO:pv_vision.nn.modelhandler:Train Epoch: 9 [960/1322 (72%)]\tLoss: 0.065756\n",
            " 84%|████████▍ | 70/83 [01:13<00:13,  1.03s/it]INFO:pv_vision.nn.modelhandler:Train Epoch: 9 [1120/1322 (84%)]\tLoss: 0.063396\n",
            " 96%|█████████▋| 80/83 [01:23<00:03,  1.03s/it]INFO:pv_vision.nn.modelhandler:Train Epoch: 9 [1280/1322 (96%)]\tLoss: 0.092511\n",
            "100%|██████████| 83/83 [01:26<00:00,  1.05s/it]\n",
            "INFO:pv_vision.nn.modelhandler:Saved model at epoch 9\n",
            "100%|██████████| 13/13 [00:07<00:00,  1.84it/s]\n",
            "INFO:pv_vision.nn.modelhandler:Val epoch: 9 \tAverage loss: 0.0999\n"
          ]
        },
        {
          "name": "stdout",
          "output_type": "stream",
          "text": [
            "Loss: 0.0917 (train) | 0.0999 (val)\n",
            "Epoch 10 / 10\n",
            "----------\n"
          ]
        },
        {
          "name": "stderr",
          "output_type": "stream",
          "text": [
            "  0%|          | 0/83 [00:00<?, ?it/s]INFO:pv_vision.nn.modelhandler:Train Epoch: 10 [0/1322 (0%)]\tLoss: 0.083313\n",
            " 12%|█▏        | 10/83 [00:09<01:14,  1.03s/it]INFO:pv_vision.nn.modelhandler:Train Epoch: 10 [160/1322 (12%)]\tLoss: 0.097693\n",
            " 24%|██▍       | 20/83 [00:20<01:05,  1.04s/it]INFO:pv_vision.nn.modelhandler:Train Epoch: 10 [320/1322 (24%)]\tLoss: 0.063791\n",
            " 36%|███▌      | 30/83 [00:31<00:54,  1.03s/it]INFO:pv_vision.nn.modelhandler:Train Epoch: 10 [480/1322 (36%)]\tLoss: 0.118616\n",
            " 48%|████▊     | 40/83 [00:41<00:44,  1.03s/it]INFO:pv_vision.nn.modelhandler:Train Epoch: 10 [640/1322 (48%)]\tLoss: 0.077884\n",
            " 60%|██████    | 50/83 [00:52<00:34,  1.03s/it]INFO:pv_vision.nn.modelhandler:Train Epoch: 10 [800/1322 (60%)]\tLoss: 0.080751\n",
            " 72%|███████▏  | 60/83 [01:02<00:23,  1.03s/it]INFO:pv_vision.nn.modelhandler:Train Epoch: 10 [960/1322 (72%)]\tLoss: 0.061082\n",
            " 84%|████████▍ | 70/83 [01:13<00:13,  1.03s/it]INFO:pv_vision.nn.modelhandler:Train Epoch: 10 [1120/1322 (84%)]\tLoss: 0.062858\n",
            " 96%|█████████▋| 80/83 [01:23<00:03,  1.03s/it]INFO:pv_vision.nn.modelhandler:Train Epoch: 10 [1280/1322 (96%)]\tLoss: 0.079602\n",
            "100%|██████████| 83/83 [01:26<00:00,  1.05s/it]\n",
            "INFO:pv_vision.nn.modelhandler:Saved model at epoch 10\n",
            "100%|██████████| 13/13 [00:07<00:00,  1.82it/s]\n",
            "INFO:pv_vision.nn.modelhandler:Val epoch: 10 \tAverage loss: 0.1037\n"
          ]
        },
        {
          "name": "stdout",
          "output_type": "stream",
          "text": [
            "Loss: 0.0895 (train) | 0.1037 (val)\n"
          ]
        },
        {
          "data": {
            "text/plain": [
              "{'train': {'loss': [0.23563915823618692,\n",
              "   0.13912137231469696,\n",
              "   0.12284814896634054,\n",
              "   0.11698763952808915,\n",
              "   0.11322309570485634,\n",
              "   0.09824321500156723,\n",
              "   0.09436049538913906,\n",
              "   0.0933468545732087,\n",
              "   0.09170350329260062,\n",
              "   0.08951800480011551]},\n",
              " 'val': {'loss': [0.35717991688876477,\n",
              "   0.11322671348608813,\n",
              "   0.10229460432112795,\n",
              "   0.13028589484182376,\n",
              "   0.13793997032549773,\n",
              "   0.09762838945805448,\n",
              "   0.10736505238755235,\n",
              "   0.09997916380757267,\n",
              "   0.09993111523031031,\n",
              "   0.10370630763688134]}}"
            ]
          },
          "execution_count": 17,
          "metadata": {},
          "output_type": "execute_result"
        }
      ],
      "source": [
        "# Se inicializa el entrenamiento del modelo.\n",
        "modelhandler.train_model()"
      ]
    },
    {
      "cell_type": "code",
      "execution_count": 18,
      "metadata": {
        "colab": {
          "base_uri": "https://localhost:8080/",
          "height": 449
        },
        "id": "k55JhgMyG09V",
        "outputId": "3f855499-6a86-4dbd-82fc-68b6525ea85f"
      },
      "outputs": [
        {
          "data": {
            "image/png": "[encoded data removed]",
            "text/plain": [
              "<Figure size 640x480 with 1 Axes>"
            ]
          },
          "metadata": {},
          "output_type": "display_data"
        }
      ],
      "source": [
        "# Se visualiza el proceso de entrenamiento.\n",
        "# Esta función traza la pérdida del modelo durante el entrenamiento.\n",
        "modelhandler.plot_loss()"
      ]
    },
    {
      "cell_type": "code",
      "execution_count": 19,
      "metadata": {
        "colab": {
          "base_uri": "https://localhost:8080/"
        },
        "id": "E52bTEXnG09W",
        "outputId": "eff008ae-aaf5-452a-a0f0-08e914754e35"
      },
      "outputs": [
        {
          "data": {
            "text/plain": [
              "6"
            ]
          },
          "execution_count": 19,
          "metadata": {},
          "output_type": "execute_result"
        }
      ],
      "source": [
        "# Se busca la pérdida mínima en la validación, que corresponde al mejor modelo.\n",
        "# 'np.argmin' devuelve el índice de la pérdida mínima en el conjunto de validación.\n",
        "# Se suma 1 porque los índices en Python comienzan en 0, pero las épocas comienzan en 1.\n",
        "np.argmin(modelhandler.running_record['val']['loss'])+1"
      ]
    },
    {
      "cell_type": "code",
      "execution_count": 20,
      "metadata": {
        "colab": {
          "base_uri": "https://localhost:8080/"
        },
        "id": "kH5xVXQyG09W",
        "outputId": "0ba22fed-8e88-43b0-df56-971d3ed553a2"
      },
      "outputs": [
        {
          "name": "stderr",
          "output_type": "stream",
          "text": [
            "INFO:pv_vision.nn.modelhandler:Loaded model from /content/drive/MyDrive/Trabajo de titulación/PV_vision/Entrenamiento/PuntosControl/unetv2.pt\n"
          ]
        }
      ],
      "source": [
        "# Se carga el mejor modelo entrenado y se verifica su rendimiento en el conjunto de prueba.\n",
        "# Se emplea `load_model` para cargar el modelo entrenado. Este método toma el nombre del archivo de punto de control.\n",
        "modelhandler.load_model('/content/drive/MyDrive/Trabajo de titulación/PV_vision/Entrenamiento/PuntosControl/unetv3.pt')"
      ]
    },
    {
      "cell_type": "markdown",
      "metadata": {
        "id": "xa-Fdu8ZG09W"
      },
      "source": [
        "El siguiente código prueba el modelo en el conjunto de prueba y almacena la salida en 'testset_output'. También se hace un comentario sobre la puntuación de la prueba y la puntuación de la validación."
      ]
    },
    {
      "cell_type": "code",
      "execution_count": 21,
      "metadata": {
        "colab": {
          "base_uri": "https://localhost:8080/"
        },
        "id": "1q3LEUNaG09W",
        "outputId": "acc4b5a1-84ed-4d49-8253-70fc01c80712"
      },
      "outputs": [
        {
          "name": "stdout",
          "output_type": "stream",
          "text": [
            "Testing mode\n",
            "----------\n"
          ]
        },
        {
          "name": "stderr",
          "output_type": "stream",
          "text": [
            "100%|██████████| 23/23 [10:30<00:00, 27.43s/it]\n",
            "INFO:pv_vision.nn.modelhandler:Test set: Average loss: 0.0841\n"
          ]
        },
        {
          "name": "stdout",
          "output_type": "stream",
          "text": [
            "Test set: Average loss: 0.0841\n"
          ]
        }
      ],
      "source": [
        "# Se evalúa el modelo en el conjunto de prueba. `test_model` es una función de ModelHandler\n",
        "# que evalúa el modelo en el conjunto de prueba y almacena la salida en la caché.\n",
        "_ = modelhandler.test_model(cache_output='testset_output')\n",
        "\n",
        "# La salida del modelo se almacena en self.cache['testset_output']"
      ]
    }
  ],
  "metadata": {
    "accelerator": "GPU",
    "colab": {
      "gpuType": "T4",
      "include_colab_link": true,
      "provenance": []
    },
    "kernelspec": {
      "display_name": "Python 3",
      "name": "python3"
    },
    "language_info": {
      "name": "python"
    }
  },
  "nbformat": 4,
  "nbformat_minor": 0
}
