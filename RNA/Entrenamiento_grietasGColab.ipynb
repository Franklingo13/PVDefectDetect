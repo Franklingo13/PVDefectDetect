{
  "cells": [
    {
      "cell_type": "markdown",
      "metadata": {
        "id": "view-in-github",
        "colab_type": "text"
      },
      "source": [
        "<a href=\"https://colab.research.google.com/github/Franklingo13/PVDefectDetect/blob/main/RNA/Entrenamiento_grietasGColab.ipynb\" target=\"_parent\"><img src=\"https://colab.research.google.com/assets/colab-badge.svg\" alt=\"Open In Colab\"/></a>"
      ]
    },
    {
      "cell_type": "markdown",
      "metadata": {
        "id": "psMYf9fJG09O"
      },
      "source": [
        "Notebook para entrenamiento de redes neuronales convolucionales para clasificación de defectos en imágenes de celdas fotovoltaicas.\n",
        "Pensado para correr en Google Colab."
      ]
    },
    {
      "cell_type": "code",
      "execution_count": 1,
      "metadata": {
        "colab": {
          "base_uri": "https://localhost:8080/"
        },
        "id": "gbQ5zjRCG09Q",
        "outputId": "d047766c-f97d-442a-bf1b-c18de5d4cc75"
      },
      "outputs": [
        {
          "output_type": "stream",
          "name": "stdout",
          "text": [
            "Drive already mounted at /content/drive; to attempt to forcibly remount, call drive.mount(\"/content/drive\", force_remount=True).\n"
          ]
        }
      ],
      "source": [
        "# Conexión con Google Drive\n",
        "from google.colab import drive\n",
        "drive.mount('/content/drive')"
      ]
    },
    {
      "cell_type": "code",
      "execution_count": 2,
      "metadata": {
        "id": "OhRFEtnDGxpJ"
      },
      "outputs": [],
      "source": [
        "# SPDX-License-Identifier: Apache-2.0\n",
        "#\n",
        "# Copyright (C) 2021 Supervisely\n",
        "#\n",
        "# This file is part of the Supervisely project and has been taken\n",
        "# from the Supervisely repository (https://github.com/supervisely/supervisely/blob/master/plugins/nn/unet_v2/src/unet.py).\n",
        "# It is being redistributed under the Apache License 2.0.\n",
        "#\n",
        "# You may obtain a copy of the License at\n",
        "#\n",
        "#     http://www.apache.org/licenses/LICENSE-2.0\n",
        "#\n",
        "# Unless required by applicable law or agreed to in writing, software\n",
        "# distributed under the License is distributed on an \"AS IS\" BASIS,\n",
        "# WITHOUT WARRANTIES OR CONDITIONS OF ANY KIND, either express or implied.\n",
        "# See the License for the specific language governing permissions and\n",
        "# limitations under the License.\n",
        "\n",
        "\n",
        "import torch\n",
        "from torch import nn\n",
        "from torchvision.models.vgg import vgg16_bn\n",
        "\n",
        "\n",
        "class ConvBNAct(nn.Module):\n",
        "    def __init__(self, in_channels, out_channels):\n",
        "        super().__init__()\n",
        "        self.seq = nn.Sequential(\n",
        "            nn.Conv2d(in_channels, out_channels,\n",
        "                      kernel_size=3, padding=1),\n",
        "            nn.BatchNorm2d(out_channels),\n",
        "            nn.ReLU(),\n",
        "        )\n",
        "\n",
        "    def forward(self, inputs):\n",
        "        return self.seq(inputs)\n",
        "\n",
        "\n",
        "class Block(nn.Module):\n",
        "    def __init__(self, src_channels, dst_channels):\n",
        "        super().__init__()\n",
        "        self.seq1 = ConvBNAct(src_channels, dst_channels)\n",
        "        self.seq2 = ConvBNAct(dst_channels, dst_channels)\n",
        "        self.seq3 = ConvBNAct(dst_channels, dst_channels)\n",
        "\n",
        "    def forward(self, x):\n",
        "        result = self.seq1(x)\n",
        "        result = self.seq2(result)\n",
        "        result = self.seq3(result)\n",
        "        return result\n",
        "\n",
        "\n",
        "class UNetUp(nn.Module):\n",
        "    def __init__(self, down_channels,  right_channels):\n",
        "        super().__init__()\n",
        "        self.bottom_up = nn.Upsample(scale_factor=2, mode='nearest')\n",
        "        self.conv = nn.Conv2d(down_channels, right_channels, kernel_size=1, stride=1)\n",
        "\n",
        "    def forward(self, left, bottom):\n",
        "        from_bottom = self.bottom_up(bottom)\n",
        "        from_bottom = self.conv(from_bottom)\n",
        "        result = torch.cat([left, from_bottom], 1)\n",
        "        return result\n",
        "\n",
        "\n",
        "class Bottleneck(nn.Module):\n",
        "    def __init__(self, in_channels, out_channels):\n",
        "        super().__init__()\n",
        "        self.conv = nn.Conv2d(in_channels, out_channels, kernel_size=(3, 3), dilation=2, padding=2)\n",
        "        self.bn = nn.BatchNorm2d(out_channels)\n",
        "        self.relu = nn.ReLU()\n",
        "        self.conv2 = nn.Conv2d(out_channels, out_channels, kernel_size=(3, 3), dilation=2, padding=2)\n",
        "        self.bn2 = nn.BatchNorm2d(out_channels)\n",
        "        self.relu2 = nn.ReLU()\n",
        "\n",
        "    def forward(self, x):\n",
        "        out = self.conv(x)\n",
        "        out = self.bn(out)\n",
        "        out = self.conv2(self.relu(out))\n",
        "        out = self.bn2(out)\n",
        "        return torch.cat((x, self.relu2(out)), dim=1)\n",
        "\n",
        "\n",
        "class UNet(nn.Module):\n",
        "\n",
        "    def __init__(self, encoder_blocks,  encoder_channels, n_cls):\n",
        "        self.encoder_channels = encoder_channels\n",
        "        self.depth = len(self.encoder_channels)\n",
        "        assert len(encoder_blocks) == self.depth\n",
        "        super().__init__()\n",
        "\n",
        "        self.encoder_blocks = nn.ModuleList(encoder_blocks)\n",
        "\n",
        "        self.blocks = nn.ModuleList()\n",
        "        # add bottleneck\n",
        "        self.blocks.append(Block(\n",
        "            self.encoder_channels[-1],\n",
        "            self.encoder_channels[-1]\n",
        "        ))\n",
        "\n",
        "        self.ups = nn.ModuleList()\n",
        "        for i in range(1, self.depth):\n",
        "            bottom_channels = self.encoder_channels[self.depth - i]\n",
        "            left_channels = self.encoder_channels[self.depth - i - 1]\n",
        "            right_channels = left_channels\n",
        "            self.ups.append(UNetUp(bottom_channels,  right_channels))\n",
        "            self.blocks.append(Block(\n",
        "                left_channels + right_channels,\n",
        "                right_channels\n",
        "            ))\n",
        "        self.last_conv = nn.Conv2d(encoder_channels[0], n_cls, 1)\n",
        "        # self.dropout = nn.Dropout2d(p=0.1)\n",
        "        self.bottle = Bottleneck(512, 512)\n",
        "\n",
        "    def forward(self, x):\n",
        "        encoder_outputs = []\n",
        "        for encoder_block in self.encoder_blocks:\n",
        "            x = encoder_block(x)\n",
        "            encoder_outputs.append(x)\n",
        "        x = self.bottle(encoder_outputs[self.depth - 1])\n",
        "        for i in range(self.depth):\n",
        "            if i > 0:\n",
        "                encoder_output = encoder_outputs[self.depth - i - 1]\n",
        "                x = self.ups[i - 1](encoder_output, x)\n",
        "                x = self.blocks[i](x)\n",
        "        # x = self.dropout(x)\n",
        "        x = self.last_conv(x)\n",
        "        return x  # no softmax or log_softmax\n",
        "\n",
        "\n",
        "def _get_encoder_blocks(model):\n",
        "    # last modules (ReLUs) of VGG blocks\n",
        "    layers_last_module_names = ['5', '12', '22', '32', '42']\n",
        "    result = []\n",
        "    cur_block = nn.Sequential()\n",
        "    for name, child in model.named_children():\n",
        "        if name == 'features':\n",
        "            for name2, child2 in child.named_children():\n",
        "                cur_block.add_module(name2, child2)\n",
        "                if name2 in layers_last_module_names:\n",
        "                    result.append(cur_block)\n",
        "                    cur_block = nn.Sequential()\n",
        "            break\n",
        "\n",
        "    return result\n",
        "\n",
        "\n",
        "def construct_unet(n_cls, pretrain=False):  # no weights inited\n",
        "    model = vgg16_bn(weights='DEFAULT')\n",
        "    encoder_blocks = _get_encoder_blocks(model)\n",
        "    encoder_channels = [64, 128, 256, 512, 1024]  # vgg16 channels\n",
        "    # prev_channels = encoder_channels[-1]\n",
        "\n",
        "    return UNet(encoder_blocks, encoder_channels, n_cls)\n"
      ]
    },
    {
      "cell_type": "code",
      "execution_count": 3,
      "metadata": {
        "id": "U_8l2-gnG09S"
      },
      "outputs": [],
      "source": [
        "# Importación de librerías\n",
        "import torch\n",
        "from torch.utils.data import Dataset, DataLoader\n",
        "from torchvision import transforms\n",
        "from torch.nn import DataParallel\n",
        "from torch.nn import CrossEntropyLoss\n",
        "from torch.optim import Adam\n",
        "from torch.optim.lr_scheduler import StepLR\n",
        "from torchvision.io import read_image, ImageReadMode\n",
        "from torchvision.datasets.vision import VisionDataset\n",
        "from torchvision.models.segmentation import deeplabv3_resnet50, DeepLabV3_ResNet50_Weights\n",
        "from torchvision.models.segmentation.deeplabv3 import DeepLabHead\n",
        "from torchvision.utils import draw_segmentation_masks\n",
        "import torchvision.transforms.functional as F\n",
        "\n",
        "import cv2 as cv\n",
        "import numpy as np\n",
        "\n",
        "import requests\n",
        "import copy\n",
        "#from unet_model import construct_unet\n",
        "from pathlib import Path\n",
        "from PIL import Image\n",
        "from imutils.paths import list_images\n",
        "import os\n",
        "import warnings"
      ]
    },
    {
      "cell_type": "code",
      "execution_count": 4,
      "metadata": {
        "colab": {
          "base_uri": "https://localhost:8080/"
        },
        "collapsed": true,
        "id": "u-13tOJejCxA",
        "outputId": "bd99f9c7-2605-4b0b-94be-ff5ef6ae815c"
      },
      "outputs": [
        {
          "output_type": "stream",
          "name": "stdout",
          "text": [
            "Requirement already satisfied: pv-vision in /usr/local/lib/python3.10/dist-packages (0.2.8)\n",
            "Requirement already satisfied: imutils>=0.5.4 in /usr/local/lib/python3.10/dist-packages (from pv-vision) (0.5.4)\n",
            "Requirement already satisfied: ipywidgets>=8.1.2 in /usr/local/lib/python3.10/dist-packages (from pv-vision) (8.1.3)\n",
            "Requirement already satisfied: joblib>=1.2.0 in /usr/local/lib/python3.10/dist-packages (from pv-vision) (1.4.2)\n",
            "Requirement already satisfied: matplotlib>=3.8.0 in /usr/local/lib/python3.10/dist-packages (from pv-vision) (3.9.2)\n",
            "Requirement already satisfied: opencv-python>=4.7.0.72 in /usr/local/lib/python3.10/dist-packages (from pv-vision) (4.10.0.84)\n",
            "Requirement already satisfied: scikit-learn>=1.3.0 in /usr/local/lib/python3.10/dist-packages (from pv-vision) (1.3.2)\n",
            "Requirement already satisfied: setuptools>=68.2.2 in /usr/local/lib/python3.10/dist-packages (from pv-vision) (71.0.4)\n",
            "Requirement already satisfied: torch>=2.2.0.post100 in /usr/local/lib/python3.10/dist-packages (from pv-vision) (2.3.1+cu121)\n",
            "Requirement already satisfied: torchvision>=0.15.2a0 in /usr/local/lib/python3.10/dist-packages (from pv-vision) (0.18.1+cu121)\n",
            "Requirement already satisfied: tqdm>=4.65.0 in /usr/local/lib/python3.10/dist-packages (from pv-vision) (4.66.5)\n",
            "Requirement already satisfied: comm>=0.1.3 in /usr/local/lib/python3.10/dist-packages (from ipywidgets>=8.1.2->pv-vision) (0.2.2)\n",
            "Requirement already satisfied: ipython>=6.1.0 in /usr/local/lib/python3.10/dist-packages (from ipywidgets>=8.1.2->pv-vision) (7.34.0)\n",
            "Requirement already satisfied: traitlets>=4.3.1 in /usr/local/lib/python3.10/dist-packages (from ipywidgets>=8.1.2->pv-vision) (5.7.1)\n",
            "Requirement already satisfied: widgetsnbextension~=4.0.11 in /usr/local/lib/python3.10/dist-packages (from ipywidgets>=8.1.2->pv-vision) (4.0.11)\n",
            "Requirement already satisfied: jupyterlab-widgets~=3.0.11 in /usr/local/lib/python3.10/dist-packages (from ipywidgets>=8.1.2->pv-vision) (3.0.11)\n",
            "Requirement already satisfied: contourpy>=1.0.1 in /usr/local/lib/python3.10/dist-packages (from matplotlib>=3.8.0->pv-vision) (1.2.1)\n",
            "Requirement already satisfied: cycler>=0.10 in /usr/local/lib/python3.10/dist-packages (from matplotlib>=3.8.0->pv-vision) (0.12.1)\n",
            "Requirement already satisfied: fonttools>=4.22.0 in /usr/local/lib/python3.10/dist-packages (from matplotlib>=3.8.0->pv-vision) (4.53.1)\n",
            "Requirement already satisfied: kiwisolver>=1.3.1 in /usr/local/lib/python3.10/dist-packages (from matplotlib>=3.8.0->pv-vision) (1.4.5)\n",
            "Requirement already satisfied: numpy>=1.23 in /usr/local/lib/python3.10/dist-packages (from matplotlib>=3.8.0->pv-vision) (1.26.4)\n",
            "Requirement already satisfied: packaging>=20.0 in /usr/local/lib/python3.10/dist-packages (from matplotlib>=3.8.0->pv-vision) (24.1)\n",
            "Requirement already satisfied: pillow>=8 in /usr/local/lib/python3.10/dist-packages (from matplotlib>=3.8.0->pv-vision) (9.4.0)\n",
            "Requirement already satisfied: pyparsing>=2.3.1 in /usr/local/lib/python3.10/dist-packages (from matplotlib>=3.8.0->pv-vision) (3.1.2)\n",
            "Requirement already satisfied: python-dateutil>=2.7 in /usr/local/lib/python3.10/dist-packages (from matplotlib>=3.8.0->pv-vision) (2.8.2)\n",
            "Requirement already satisfied: scipy>=1.5.0 in /usr/local/lib/python3.10/dist-packages (from scikit-learn>=1.3.0->pv-vision) (1.13.1)\n",
            "Requirement already satisfied: threadpoolctl>=2.0.0 in /usr/local/lib/python3.10/dist-packages (from scikit-learn>=1.3.0->pv-vision) (3.5.0)\n",
            "Requirement already satisfied: filelock in /usr/local/lib/python3.10/dist-packages (from torch>=2.2.0.post100->pv-vision) (3.15.4)\n",
            "Requirement already satisfied: typing-extensions>=4.8.0 in /usr/local/lib/python3.10/dist-packages (from torch>=2.2.0.post100->pv-vision) (4.12.2)\n",
            "Requirement already satisfied: sympy in /usr/local/lib/python3.10/dist-packages (from torch>=2.2.0.post100->pv-vision) (1.13.1)\n",
            "Requirement already satisfied: networkx in /usr/local/lib/python3.10/dist-packages (from torch>=2.2.0.post100->pv-vision) (3.3)\n",
            "Requirement already satisfied: jinja2 in /usr/local/lib/python3.10/dist-packages (from torch>=2.2.0.post100->pv-vision) (3.1.4)\n",
            "Requirement already satisfied: fsspec in /usr/local/lib/python3.10/dist-packages (from torch>=2.2.0.post100->pv-vision) (2024.6.1)\n",
            "Requirement already satisfied: nvidia-cuda-nvrtc-cu12==12.1.105 in /usr/local/lib/python3.10/dist-packages (from torch>=2.2.0.post100->pv-vision) (12.1.105)\n",
            "Requirement already satisfied: nvidia-cuda-runtime-cu12==12.1.105 in /usr/local/lib/python3.10/dist-packages (from torch>=2.2.0.post100->pv-vision) (12.1.105)\n",
            "Requirement already satisfied: nvidia-cuda-cupti-cu12==12.1.105 in /usr/local/lib/python3.10/dist-packages (from torch>=2.2.0.post100->pv-vision) (12.1.105)\n",
            "Requirement already satisfied: nvidia-cudnn-cu12==8.9.2.26 in /usr/local/lib/python3.10/dist-packages (from torch>=2.2.0.post100->pv-vision) (8.9.2.26)\n",
            "Requirement already satisfied: nvidia-cublas-cu12==12.1.3.1 in /usr/local/lib/python3.10/dist-packages (from torch>=2.2.0.post100->pv-vision) (12.1.3.1)\n",
            "Requirement already satisfied: nvidia-cufft-cu12==11.0.2.54 in /usr/local/lib/python3.10/dist-packages (from torch>=2.2.0.post100->pv-vision) (11.0.2.54)\n",
            "Requirement already satisfied: nvidia-curand-cu12==10.3.2.106 in /usr/local/lib/python3.10/dist-packages (from torch>=2.2.0.post100->pv-vision) (10.3.2.106)\n",
            "Requirement already satisfied: nvidia-cusolver-cu12==11.4.5.107 in /usr/local/lib/python3.10/dist-packages (from torch>=2.2.0.post100->pv-vision) (11.4.5.107)\n",
            "Requirement already satisfied: nvidia-cusparse-cu12==12.1.0.106 in /usr/local/lib/python3.10/dist-packages (from torch>=2.2.0.post100->pv-vision) (12.1.0.106)\n",
            "Requirement already satisfied: nvidia-nccl-cu12==2.20.5 in /usr/local/lib/python3.10/dist-packages (from torch>=2.2.0.post100->pv-vision) (2.20.5)\n",
            "Requirement already satisfied: nvidia-nvtx-cu12==12.1.105 in /usr/local/lib/python3.10/dist-packages (from torch>=2.2.0.post100->pv-vision) (12.1.105)\n",
            "Requirement already satisfied: triton==2.3.1 in /usr/local/lib/python3.10/dist-packages (from torch>=2.2.0.post100->pv-vision) (2.3.1)\n",
            "Requirement already satisfied: nvidia-nvjitlink-cu12 in /usr/local/lib/python3.10/dist-packages (from nvidia-cusolver-cu12==11.4.5.107->torch>=2.2.0.post100->pv-vision) (12.6.20)\n",
            "Requirement already satisfied: jedi>=0.16 in /usr/local/lib/python3.10/dist-packages (from ipython>=6.1.0->ipywidgets>=8.1.2->pv-vision) (0.19.1)\n",
            "Requirement already satisfied: decorator in /usr/local/lib/python3.10/dist-packages (from ipython>=6.1.0->ipywidgets>=8.1.2->pv-vision) (4.4.2)\n",
            "Requirement already satisfied: pickleshare in /usr/local/lib/python3.10/dist-packages (from ipython>=6.1.0->ipywidgets>=8.1.2->pv-vision) (0.7.5)\n",
            "Requirement already satisfied: prompt-toolkit!=3.0.0,!=3.0.1,<3.1.0,>=2.0.0 in /usr/local/lib/python3.10/dist-packages (from ipython>=6.1.0->ipywidgets>=8.1.2->pv-vision) (3.0.47)\n",
            "Requirement already satisfied: pygments in /usr/local/lib/python3.10/dist-packages (from ipython>=6.1.0->ipywidgets>=8.1.2->pv-vision) (2.16.1)\n",
            "Requirement already satisfied: backcall in /usr/local/lib/python3.10/dist-packages (from ipython>=6.1.0->ipywidgets>=8.1.2->pv-vision) (0.2.0)\n",
            "Requirement already satisfied: matplotlib-inline in /usr/local/lib/python3.10/dist-packages (from ipython>=6.1.0->ipywidgets>=8.1.2->pv-vision) (0.1.7)\n",
            "Requirement already satisfied: pexpect>4.3 in /usr/local/lib/python3.10/dist-packages (from ipython>=6.1.0->ipywidgets>=8.1.2->pv-vision) (4.9.0)\n",
            "Requirement already satisfied: six>=1.5 in /usr/local/lib/python3.10/dist-packages (from python-dateutil>=2.7->matplotlib>=3.8.0->pv-vision) (1.16.0)\n",
            "Requirement already satisfied: MarkupSafe>=2.0 in /usr/local/lib/python3.10/dist-packages (from jinja2->torch>=2.2.0.post100->pv-vision) (2.1.5)\n",
            "Requirement already satisfied: mpmath<1.4,>=1.1.0 in /usr/local/lib/python3.10/dist-packages (from sympy->torch>=2.2.0.post100->pv-vision) (1.3.0)\n",
            "Requirement already satisfied: parso<0.9.0,>=0.8.3 in /usr/local/lib/python3.10/dist-packages (from jedi>=0.16->ipython>=6.1.0->ipywidgets>=8.1.2->pv-vision) (0.8.4)\n",
            "Requirement already satisfied: ptyprocess>=0.5 in /usr/local/lib/python3.10/dist-packages (from pexpect>4.3->ipython>=6.1.0->ipywidgets>=8.1.2->pv-vision) (0.7.0)\n",
            "Requirement already satisfied: wcwidth in /usr/local/lib/python3.10/dist-packages (from prompt-toolkit!=3.0.0,!=3.0.1,<3.1.0,>=2.0.0->ipython>=6.1.0->ipywidgets>=8.1.2->pv-vision) (0.2.13)\n"
          ]
        }
      ],
      "source": [
        "# Importación de la librería de pv-vision\n",
        "!pip install pv-vision"
      ]
    },
    {
      "cell_type": "code",
      "execution_count": 5,
      "metadata": {
        "id": "YVtXGzixG09T"
      },
      "outputs": [],
      "source": [
        "# Importar el manejador de modelo: ModelHandler\n",
        "from pv_vision.nn import ModelHandler"
      ]
    },
    {
      "cell_type": "code",
      "execution_count": 6,
      "metadata": {
        "id": "ia6yr7DDG09T"
      },
      "outputs": [],
      "source": [
        "# Definición de una clase para el conjunto de datos solar,\n",
        "# que hereda de la clase VisionDataset de PyTorch.\n",
        "class SolarDataset(VisionDataset):\n",
        "    \"\"\"Un conjunto de datos que lee directamente las imágenes y las máscaras desde una carpeta.\"\"\"\n",
        "\n",
        "    # Se definió el método de inicialización para la clase.\n",
        "    def __init__(self,\n",
        "                 root,\n",
        "                 image_folder,\n",
        "                 mask_folder,\n",
        "                 transforms,\n",
        "                 mode = \"train\",\n",
        "                 random_seed=42):\n",
        "        # Se llamó al método de inicialización de la clase padre.\n",
        "        super().__init__(root, transforms)\n",
        "        # Se establecieron las rutas a las carpetas de imágenes y máscaras.\n",
        "        self.image_path = Path(self.root) / image_folder\n",
        "        self.mask_path = Path(self.root) / mask_folder\n",
        "\n",
        "        # Se verificó que las carpetas de imágenes y máscaras existan.\n",
        "        if not os.path.exists(self.image_path):\n",
        "            raise OSError(f\"{self.image_path} no encontrado.\")\n",
        "\n",
        "        if not os.path.exists(self.mask_path):\n",
        "            raise OSError(f\"{self.mask_path} no encontrado.\")\n",
        "\n",
        "        # Se obtuvieron las listas de imágenes y máscaras y se ordenaron.\n",
        "        self.image_list = sorted(list(list_images(self.image_path)))\n",
        "        self.mask_list = sorted(list(list_images(self.mask_path)))\n",
        "\n",
        "        # Se convirtieron las listas de imágenes y máscaras a arrays de numpy.\n",
        "        self.image_list = np.array(self.image_list)\n",
        "        self.mask_list = np.array(self.mask_list)\n",
        "\n",
        "        # Se estableció la semilla para la generación de números aleatorios y se mezclaron las imágenes y las máscaras.\n",
        "        np.random.seed(random_seed)\n",
        "        index = np.arange(len(self.image_list))\n",
        "        np.random.shuffle(index)\n",
        "        self.image_list = self.image_list[index]\n",
        "        self.mask_list = self.mask_list[index]\n",
        "\n",
        "    # Se definió el método para obtener la longitud del conjunto de datos.\n",
        "    def __len__(self):\n",
        "        return len(self.image_list)\n",
        "\n",
        "    # Se definió un método para obtener el nombre de una imagen o máscara.\n",
        "    def __getname__(self, index):\n",
        "        image_name = os.path.splitext(os.path.split(self.image_list[index])[-1])[0]\n",
        "        mask_name = os.path.splitext(os.path.split(self.mask_list[index])[-1])[0]\n",
        "\n",
        "        if image_name == mask_name:\n",
        "            return image_name\n",
        "        else:\n",
        "            return False\n",
        "\n",
        "    # Se definió un método para obtener una imagen y su máscara correspondiente.\n",
        "    def __getraw__(self, index):\n",
        "        if not self.__getname__(index):\n",
        "            raise ValueError(\"{}: La imagen no coincide con la máscara\".format(os.path.split(self.image_list[index])[-1]))\n",
        "        image = Image.open(self.image_list[index])\n",
        "        mask = Image.open(self.mask_list[index]).convert('L')\n",
        "        mask = np.array(mask)\n",
        "        mask = Image.fromarray(mask)\n",
        "\n",
        "        return image, mask\n",
        "\n",
        "    # Se definió el método para obtener un elemento del conjunto de datos.\n",
        "    def __getitem__(self, index):\n",
        "        image, mask = self.__getraw__(index)\n",
        "        image, mask = self.transforms(image, mask)\n",
        "\n",
        "        return image, mask"
      ]
    },
    {
      "cell_type": "code",
      "execution_count": 7,
      "metadata": {
        "id": "t1nDW9d6G09T"
      },
      "outputs": [],
      "source": [
        "# Definición de una clase para componer varias transformaciones.\n",
        "class Compose:\n",
        "    def __init__(self, transforms):\n",
        "        \"\"\"\n",
        "        transforms: una lista de transformaciones\n",
        "        \"\"\"\n",
        "        self.transforms = transforms\n",
        "\n",
        "    # Se definió el método para aplicar las transformaciones a la imagen y la máscara.\n",
        "    def __call__(self, image, target):\n",
        "        \"\"\"\n",
        "        image: imagen de entrada\n",
        "        target: máscara de entrada\n",
        "        \"\"\"\n",
        "        for t in self.transforms:\n",
        "            image, target = t(image, target)\n",
        "        return image, target\n",
        "\n",
        "# Se definió una clase para redimensionar la imagen y la máscara a un tamaño fijo.\n",
        "class FixResize:\n",
        "    # UNet requiere que el tamaño de entrada sea múltiplo de 16\n",
        "    def __init__(self, size):\n",
        "        self.size = size\n",
        "\n",
        "    # Se definió el método para redimensionar la imagen y la máscara.\n",
        "    def __call__(self, image, target):\n",
        "        image = F.resize(image, (self.size, self.size), interpolation=transforms.InterpolationMode.BILINEAR)\n",
        "        target = F.resize(target, (self.size, self.size), interpolation=transforms.InterpolationMode.NEAREST)\n",
        "        return image, target\n",
        "\n",
        "# Se definió una clase para transformar la imagen y la máscara a tensores.\n",
        "class ToTensor:\n",
        "    \"\"\"Transforma la imagen a tensor. Escala la imagen a [0,1] float32.\n",
        "    Transforma la máscara a tensor.\n",
        "    \"\"\"\n",
        "    def __call__(self, image, target):\n",
        "        image = transforms.ToTensor()(image)\n",
        "        target = torch.as_tensor(np.array(target), dtype=torch.int64)\n",
        "        return image, target\n",
        "\n",
        "# Se definió una clase para transformar la imagen a tensor manteniendo el tipo original.\n",
        "class PILToTensor:\n",
        "    \"\"\"Transforma la imagen a tensor. Mantiene el tipo original.\"\"\"\n",
        "    def __call__(self, image, target):\n",
        "        image = F.pil_to_tensor(image)\n",
        "        target = torch.as_tensor(np.array(target), dtype=torch.int64)\n",
        "        return image, target\n",
        "\n",
        "# Se definió una clase para normalizar la imagen.\n",
        "class Normalize:\n",
        "    def __init__(self, mean=(0.485, 0.456, 0.406), std=(0.229, 0.224, 0.225)):\n",
        "        self.mean = mean\n",
        "        self.std = std\n",
        "\n",
        "    def __call__(self, image, target):\n",
        "        # Verifica si la imagen es en escala de grises (1 canal) y la convierte a RGB (3 canales) si es necesario\n",
        "        if image.shape[0] == 1:\n",
        "            image = image.repeat(3, 1, 1)  # Repite el canal existente 3 veces\n",
        "        image = F.normalize(image, mean=self.mean, std=self.std)\n",
        "        return image, target"
      ]
    },
    {
      "cell_type": "code",
      "source": [
        "# Definición de una clase personalizada para la rotación de imagen y máscara\n",
        "class RandomRotation:\n",
        "    def __init__(self, degrees):\n",
        "        self.degrees = degrees\n",
        "\n",
        "    def __call__(self, image, target):\n",
        "        # Rotar la imagen\n",
        "        angle = transforms.RandomRotation.get_params([-self.degrees, self.degrees])\n",
        "        image = F.rotate(image, angle, interpolation=transforms.InterpolationMode.BILINEAR)\n",
        "        # Rotar la máscara\n",
        "        target = F.rotate(target, angle, interpolation=transforms.InterpolationMode.NEAREST)\n",
        "        return image, target\n"
      ],
      "metadata": {
        "id": "iggYqFz__qYf"
      },
      "execution_count": null,
      "outputs": []
    },
    {
      "cell_type": "code",
      "execution_count": 8,
      "metadata": {
        "colab": {
          "base_uri": "https://localhost:8080/"
        },
        "id": "pRAdQ8o1G09U",
        "outputId": "88a0cedf-e112-4189-de04-2ec6da61bd61"
      },
      "outputs": [
        {
          "output_type": "stream",
          "name": "stdout",
          "text": [
            "El conjunto de datos de entrenamiento contiene 1453 elementos.\n"
          ]
        }
      ],
      "source": [
        "# Ruta al directorio que contiene las imágenes y las máscaras.\n",
        "# root = Path(\n",
        "#     '/content/drive/MyDrive/Trabajo de titulación/PV_vision/Entrenamiento')\n",
        "\n",
        "root = Path(\n",
        "    '/content/drive/MyDrive/Entrenamiento')\n",
        "\n",
        "# Se definen las transformaciones a aplicar a las imágenes y las etiquetas.\n",
        "transformers = Compose([\n",
        "    #RandomRotation(degrees=10),\n",
        "    FixResize(256),\n",
        "    ToTensor(),\n",
        "    Normalize()\n",
        "])\n",
        "#transformers = Compose([FixResize(256), ToTensor(), Normalize()])\n",
        "# Se crean los conjuntos de datos de entrenamiento, validación y prueba.\n",
        "trainset = SolarDataset(root, image_folder=\"train/img\",\n",
        "        mask_folder=\"train/ann\", transforms=transformers)\n",
        "\n",
        "valset = SolarDataset(root, image_folder=\"val/img\",\n",
        "        mask_folder=\"val/ann\", transforms=transformers)\n",
        "\n",
        "testset = SolarDataset(root, image_folder=\"test/img\",\n",
        "        mask_folder=\"test/ann\", transforms=transformers)\n",
        "\n",
        "# Verificación de que la carpeta haya sido establecida correctamente\n",
        "print(f\"El conjunto de datos de entrenamiento contiene {len(trainset)} elementos.\")"
      ]
    },
    {
      "cell_type": "code",
      "execution_count": null,
      "metadata": {
        "id": "YhN5cKIpjCxD"
      },
      "outputs": [],
      "source": [
        "class Accuracy:\n",
        "    \"\"\"Calcular la precisión de un modelo\"\"\"\n",
        "    def __init__(self):\n",
        "        self.__name__ = \"accuracy\"\n",
        "        self._base = [0, 0]\n",
        "\n",
        "    def calc(self, outputs, targets, reduction='mean'):\n",
        "        \"\"\" Calcular la precisión.\n",
        "        Argumentos:\n",
        "        -----------\n",
        "        outputs: torch.Tensor\n",
        "        La salida del modelo, forma (batch_size, num_classes, H, W)\n",
        "\n",
        "        targets: torch.Tensor\n",
        "        La etiqueta verdadera, forma (batch_size, H, W)\n",
        "\n",
        "        reduction: str\n",
        "        El método de reducción, 'mean' o 'sum'\n",
        "        Si es 'mean', devuelve la precisión media del lote\n",
        "        Si es 'sum', devuelve la suma de predicciones correctas del lote\n",
        "\n",
        "        Retorna:\n",
        "        --------\n",
        "        accuracy: torch.Tensor\n",
        "        \"\"\"\n",
        "        # Asegúrate de que las dimensiones de outputs y targets sean compatibles\n",
        "        if outputs.dim() == 4 and targets.dim() == 3:\n",
        "            _, preds = torch.max(outputs, 1)\n",
        "            correct = torch.sum(preds == targets)\n",
        "\n",
        "            if reduction == 'mean':\n",
        "                return correct.float() / targets.numel()\n",
        "            elif reduction == 'sum':\n",
        "                return correct\n",
        "            else:\n",
        "                raise ValueError(\"reduction debe ser 'mean' o 'sum'\")\n",
        "        else:\n",
        "            raise ValueError(\"Las dimensiones de outputs y targets no son compatibles\")\n",
        "\n",
        "    def accumulate(self, outputs, targets):\n",
        "        \"\"\" Acumular la métrica a lo largo de varios lotes.\"\"\"\n",
        "        if outputs.dim() == 4 and targets.dim() == 3:\n",
        "            _, preds = torch.max(outputs, 1)\n",
        "            correct = torch.sum(preds == targets)\n",
        "            self._base[0] += correct\n",
        "            self._base[1] += targets.numel()\n",
        "        else:\n",
        "            raise ValueError(\"Las dimensiones de outputs y targets no son compatibles\")\n",
        "\n",
        "    def reset(self):\n",
        "        self._base = [0, 0]\n",
        "\n",
        "    def accumulated_score(self):\n",
        "        \"\"\" Devolver la puntuación acumulada en una época.\"\"\"\n",
        "        if self._base[1] == 0:\n",
        "            # advertencia de división por cero\n",
        "            warnings.warn(\"El denominador es cero, devuelve 0\", RuntimeWarning)\n",
        "            return 0\n",
        "        return self._base[0].float() / self._base[1]\n",
        "\n",
        "    def __call__(self, outputs, targets, reduction='mean'):\n",
        "        return self.calc(outputs, targets, reduction)"
      ]
    },
    {
      "cell_type": "code",
      "execution_count": 9,
      "metadata": {
        "id": "zB7a3yuP4Dps"
      },
      "outputs": [],
      "source": [
        "## Definición de una clase para calcular el Índice de Jaccard, o Intersección sobre Unión (IoU)\n",
        "class JaccardIndex:\n",
        "    \"\"\"Calcular el índice de Jaccard (IoU) de un modelo\"\"\"\n",
        "    def __init__(self):\n",
        "        self.__name__ = \"jaccard_index\"\n",
        "        self._base_intersection = 0\n",
        "        self._base_union = 0\n",
        "\n",
        "    def calc(self, outputs, targets, reduction='mean'):\n",
        "        \"\"\"\n",
        "        Calcular el índice de Jaccard.\n",
        "\n",
        "        Argumentos:\n",
        "        -----------\n",
        "        outputs: torch.Tensor\n",
        "            La salida del modelo, forma (batch_size, num_classes, H, W)\n",
        "        targets: torch.Tensor\n",
        "            La etiqueta verdadera, forma (batch_size, H, W)\n",
        "        reduction: str\n",
        "            El método de reducción, 'mean' o 'sum'.\n",
        "\n",
        "        Retorna:\n",
        "        --------\n",
        "        iou: torch.Tensor\n",
        "        \"\"\"\n",
        "\n",
        "        if outputs.dim() == 4 and targets.dim() == 3:\n",
        "            # Convertir targets a formato one-hot\n",
        "            targets = torch.nn.functional.one_hot(targets, num_classes=outputs.shape[1])\n",
        "            targets = targets.permute(0, 3, 1, 2).float()  # Cambiar dimensiones para coincidir con outputs\n",
        "\n",
        "            # Obtener la predicción con la mayor probabilidad por clase\n",
        "            _, preds = torch.max(outputs, 1)\n",
        "            preds = torch.nn.functional.one_hot(preds, num_classes=outputs.shape[1])\n",
        "            preds = preds.permute(0, 3, 1, 2).float()\n",
        "\n",
        "            intersection = torch.sum(preds * targets, dim=(0, 2, 3))\n",
        "            union = torch.sum(preds + targets, dim=(0, 2, 3)) - intersection\n",
        "\n",
        "            iou_per_class = intersection / (union + 1e-8)  # Evitar división por cero\n",
        "\n",
        "            if reduction == 'mean':\n",
        "                return torch.mean(iou_per_class).item()\n",
        "            elif reduction == 'sum':\n",
        "                return torch.sum(iou_per_class).item()\n",
        "            else:\n",
        "                raise ValueError(\"reduction debe ser 'mean' o 'sum'\")\n",
        "        else:\n",
        "            raise ValueError(\"Las dimensiones de outputs y targets no son compatibles\")\n",
        "\n",
        "    def accumulate(self, outputs, targets):\n",
        "        \"\"\" Acumular la métrica a lo largo de varios lotes.\"\"\"\n",
        "        if outputs.dim() == 4 and targets.dim() == 3:\n",
        "            targets = torch.nn.functional.one_hot(targets, num_classes=outputs.shape[1])\n",
        "            targets = targets.permute(0, 3, 1, 2).float()\n",
        "\n",
        "            _, preds = torch.max(outputs, 1)\n",
        "            preds = torch.nn.functional.one_hot(preds, num_classes=outputs.shape[1])\n",
        "            preds = preds.permute(0, 3, 1, 2).float()\n",
        "\n",
        "            intersection = torch.sum(preds * targets, dim=(0, 2, 3))\n",
        "            union = torch.sum(preds + targets, dim=(0, 2, 3)) - intersection\n",
        "\n",
        "            self._base_intersection += intersection\n",
        "            self._base_union += union\n",
        "        else:\n",
        "            raise ValueError(\"Las dimensiones de outputs y targets no son compatibles\")\n",
        "\n",
        "    def reset(self):\n",
        "        self._base_intersection = 0\n",
        "        self._base_union = 0\n",
        "\n",
        "    def accumulated_score(self):\n",
        "        \"\"\" Devolver la puntuación acumulada en una época.\"\"\"\n",
        "        if self._base_union.sum() == 0:\n",
        "            # advertencia de división por cero\n",
        "            warnings.warn(\"El denominador es cero, devuelve 0\", RuntimeWarning)\n",
        "            return 0\n",
        "        return torch.mean(self._base_intersection.float() / (self._base_union + 1e-8)).item()\n",
        "\n",
        "    def __call__(self, outputs, targets, reduction='mean'):\n",
        "        return self.calc(outputs, targets, reduction)\n"
      ]
    },
    {
      "cell_type": "code",
      "execution_count": null,
      "metadata": {
        "id": "KaZs0hwDG09U"
      },
      "outputs": [],
      "source": [
        "# Se define una función para crear un modelo DeepLab preentrenado.\n",
        "def DeepLab_pretrained(num_classes):\n",
        "    # Se carga el modelo DeepLab con una arquitectura ResNet50 preentrenada.\n",
        "    deeplab = deeplabv3_resnet50(weights=DeepLabV3_ResNet50_Weights.DEFAULT)\n",
        "\n",
        "    # Se reemplaza el clasificador del modelo con un nuevo clasificador DeepLabHead.\n",
        "    # El nuevo clasificador tiene 2048 características de entrada y 'num_classes' características de salida.\n",
        "    deeplab.classifier = DeepLabHead(2048, num_classes)\n",
        "\n",
        "    # Se devuelve el modelo modificado.\n",
        "    return deeplab"
      ]
    },
    {
      "cell_type": "code",
      "execution_count": 9,
      "metadata": {
        "id": "TZFPZp57F3wK"
      },
      "outputs": [],
      "source": [
        "# Crea una instancia del modelo U-Net con 5 canales de salida.\n",
        "# Número de canales de salida = al número de clases\n",
        "unet = construct_unet(5)\n",
        "# Se \"envuelve\" el modelo en un objeto DataParallel.\n",
        "# Esto permite que el modelo se ejecute en paralelo en múltiples GPUs, si están disponibles.\n",
        "unet = DataParallel(unet)"
      ]
    },
    {
      "cell_type": "code",
      "execution_count": 20,
      "metadata": {
        "colab": {
          "base_uri": "https://localhost:8080/"
        },
        "id": "Qnmr0nyOG09U",
        "outputId": "ccc34e21-1e72-4d87-c710-c52d95cd63c1"
      },
      "outputs": [
        {
          "output_type": "stream",
          "name": "stdout",
          "text": [
            "Dispositivo utilizado: cuda:0\n"
          ]
        }
      ],
      "source": [
        "# Se define el dispositivo en el que se ejecutará el modelo.\n",
        "device = torch.device(\"cuda:0\" if torch.cuda.is_available() else \"cpu\")\n",
        "# Se imprime el dispositivo utilizado.\n",
        "print(f\"Dispositivo utilizado: {device}\")\n",
        "\n",
        "# Se crea el modelo utilizando la función DeepLab_pretrained definida anteriormente.\n",
        "# El modelo se envuelve en un objeto DataParallel para permitir el entrenamiento en múltiples GPUs si están disponibles.\n",
        "#model = DataParallel(DeepLab_pretrained(5))\n",
        "\n",
        "# Se define la función de pérdida a utilizar durante el entrenamiento.\n",
        "# En este caso, se utiliza la pérdida de entropía cruzada.\n",
        "criterion = CrossEntropyLoss()\n",
        "\n",
        "# Se define el optimizador a utilizar durante el entrenamiento. En este caso, se utiliza Adam con una tasa de aprendizaje de 0.01.\n",
        "#optimizer = Adam(model.parameters(), lr=0.01)\n",
        "optimizer = Adam(unet.parameters(), lr=0.0016)\n",
        "\n",
        "# Se define el programador de la tasa de aprendizaje a utilizar durante el entrenamiento.\n",
        "# En este caso, se utiliza un programador de paso que disminuye la tasa de aprendizaje en un factor de 0.2 cada 5 épocas.\n",
        "lr_scheduler = StepLR(optimizer, step_size=8, gamma=0.05)"
      ]
    },
    {
      "cell_type": "code",
      "execution_count": 19,
      "metadata": {
        "colab": {
          "base_uri": "https://localhost:8080/"
        },
        "id": "qouTmOWmA8ng",
        "outputId": "440affcd-5b30-4bde-9104-c081a8a02fd6"
      },
      "outputs": [
        {
          "output_type": "execute_result",
          "data": {
            "text/plain": [
              "<All keys matched successfully>"
            ]
          },
          "metadata": {},
          "execution_count": 19
        }
      ],
      "source": [
        "# Cargar los pesos del modelo preentrenado\n",
        "\n",
        "weight_path = '/content/drive/MyDrive/Entrenamiento/unetv29.pt'\n",
        "unet.load_state_dict(torch.load(weight_path, map_location=device))"
      ]
    },
    {
      "cell_type": "code",
      "execution_count": 21,
      "metadata": {
        "colab": {
          "base_uri": "https://localhost:8080/"
        },
        "id": "TjJv6uo4G09V",
        "outputId": "f9cae524-7ae3-44ee-f5f1-d838c4baa889"
      },
      "outputs": [
        {
          "output_type": "stream",
          "name": "stderr",
          "text": [
            "INFO:pv_vision.nn.modelhandler:ModelHandler initialized.\n"
          ]
        }
      ],
      "source": [
        "# Se inicializa el manejador del modelo.\n",
        "# La salida se almacena en la carpeta de salida.\n",
        "modelhandler = ModelHandler(\n",
        "    # Se pasa el modelo que se va a entrenar.\n",
        "    #model=model,\n",
        "    model = unet,\n",
        "    # Se especifica el nombre de la carpeta de salida.\n",
        "    #model_output='out_unet',\n",
        "    # Se pasan los conjuntos de datos de entrenamiento, validación y prueba.\n",
        "    train_dataset=trainset,\n",
        "    val_dataset=valset,\n",
        "    test_dataset=testset,\n",
        "    # Se especifica el tamaño del lote para el entrenamiento y la validación.\n",
        "    batch_size_train=16,\n",
        "    batch_size_val=16,\n",
        "    # Se pasa el programador de la tasa de aprendizaje.\n",
        "    lr_scheduler=lr_scheduler,\n",
        "    # Se especifica el número de épocas para el entrenamiento.\n",
        "    num_epochs=42,\n",
        "    # Se pasa la función de pérdida y el optimizador.\n",
        "    criterion=criterion,\n",
        "    optimizer=optimizer,\n",
        "    # Se pasa el dispositivo en el que se ejecutará el entrenamiento.\n",
        "    device=device,\n",
        "    #evaluate_metric= JaccardIndex,\n",
        "    # Se especifica el directorio donde se guardarán los puntos de control del modelo.\n",
        "    save_dir='/content/drive/MyDrive/Entrenamiento/checkpoints',\n",
        "    # Se especifica el nombre del archivo de punto de control.\n",
        "    save_name='unetv30.pt'\n",
        ")"
      ]
    },
    {
      "cell_type": "code",
      "execution_count": 22,
      "metadata": {
        "colab": {
          "base_uri": "https://localhost:8080/"
        },
        "collapsed": true,
        "id": "X1SfRwQCG09V",
        "outputId": "806847b1-48b7-426c-c17d-458bc1b89e94"
      },
      "outputs": [
        {
          "output_type": "stream",
          "name": "stdout",
          "text": [
            "Epoch 1 / 42\n",
            "----------\n"
          ]
        },
        {
          "output_type": "stream",
          "name": "stderr",
          "text": [
            "  0%|          | 0/91 [00:00<?, ?it/s]INFO:pv_vision.nn.modelhandler:Train Epoch: 1 [0/1453 (0%)]\tLoss: 0.036635\n",
            " 11%|█         | 10/91 [00:09<01:16,  1.05it/s]INFO:pv_vision.nn.modelhandler:Train Epoch: 1 [160/1453 (11%)]\tLoss: 0.064741\n",
            " 22%|██▏       | 20/91 [00:19<01:08,  1.04it/s]INFO:pv_vision.nn.modelhandler:Train Epoch: 1 [320/1453 (22%)]\tLoss: 0.038412\n",
            " 33%|███▎      | 30/91 [00:28<00:58,  1.03it/s]INFO:pv_vision.nn.modelhandler:Train Epoch: 1 [480/1453 (33%)]\tLoss: 0.033030\n",
            " 44%|████▍     | 40/91 [00:38<00:49,  1.03it/s]INFO:pv_vision.nn.modelhandler:Train Epoch: 1 [640/1453 (44%)]\tLoss: 0.032066\n",
            " 55%|█████▍    | 50/91 [00:48<00:40,  1.02it/s]INFO:pv_vision.nn.modelhandler:Train Epoch: 1 [800/1453 (55%)]\tLoss: 0.072670\n",
            " 66%|██████▌   | 60/91 [00:58<00:30,  1.01it/s]INFO:pv_vision.nn.modelhandler:Train Epoch: 1 [960/1453 (66%)]\tLoss: 0.091290\n",
            " 77%|███████▋  | 70/91 [01:08<00:20,  1.01it/s]INFO:pv_vision.nn.modelhandler:Train Epoch: 1 [1120/1453 (77%)]\tLoss: 0.039746\n",
            " 88%|████████▊ | 80/91 [01:18<00:10,  1.01it/s]INFO:pv_vision.nn.modelhandler:Train Epoch: 1 [1280/1453 (88%)]\tLoss: 0.036760\n",
            " 99%|█████████▉| 90/91 [01:29<00:00,  1.01it/s]INFO:pv_vision.nn.modelhandler:Train Epoch: 1 [1170/1453 (99%)]\tLoss: 0.047595\n",
            "100%|██████████| 91/91 [01:30<00:00,  1.01it/s]\n",
            "INFO:pv_vision.nn.modelhandler:Saved model at epoch 1\n",
            "100%|██████████| 6/6 [00:03<00:00,  1.94it/s]\n",
            "INFO:pv_vision.nn.modelhandler:Val epoch: 1 \tAverage loss: 0.1025\n"
          ]
        },
        {
          "output_type": "stream",
          "name": "stdout",
          "text": [
            "Loss: 0.0496 (train) | 0.1025 (val)\n",
            "Epoch 2 / 42\n",
            "----------\n"
          ]
        },
        {
          "output_type": "stream",
          "name": "stderr",
          "text": [
            "  0%|          | 0/91 [00:00<?, ?it/s]INFO:pv_vision.nn.modelhandler:Train Epoch: 2 [0/1453 (0%)]\tLoss: 0.046430\n",
            " 11%|█         | 10/91 [00:09<01:19,  1.02it/s]INFO:pv_vision.nn.modelhandler:Train Epoch: 2 [160/1453 (11%)]\tLoss: 0.043616\n",
            " 22%|██▏       | 20/91 [00:19<01:09,  1.02it/s]INFO:pv_vision.nn.modelhandler:Train Epoch: 2 [320/1453 (22%)]\tLoss: 0.049437\n",
            " 33%|███▎      | 30/91 [00:29<01:00,  1.01it/s]INFO:pv_vision.nn.modelhandler:Train Epoch: 2 [480/1453 (33%)]\tLoss: 0.048750\n",
            " 44%|████▍     | 40/91 [00:39<00:50,  1.01it/s]INFO:pv_vision.nn.modelhandler:Train Epoch: 2 [640/1453 (44%)]\tLoss: 0.041919\n",
            " 55%|█████▍    | 50/91 [00:49<00:40,  1.01it/s]INFO:pv_vision.nn.modelhandler:Train Epoch: 2 [800/1453 (55%)]\tLoss: 0.044440\n",
            " 66%|██████▌   | 60/91 [00:59<00:30,  1.01it/s]INFO:pv_vision.nn.modelhandler:Train Epoch: 2 [960/1453 (66%)]\tLoss: 0.036001\n",
            " 77%|███████▋  | 70/91 [01:09<00:20,  1.01it/s]INFO:pv_vision.nn.modelhandler:Train Epoch: 2 [1120/1453 (77%)]\tLoss: 0.042811\n",
            " 88%|████████▊ | 80/91 [01:19<00:10,  1.01it/s]INFO:pv_vision.nn.modelhandler:Train Epoch: 2 [1280/1453 (88%)]\tLoss: 0.035657\n",
            " 99%|█████████▉| 90/91 [01:30<00:00,  1.01it/s]INFO:pv_vision.nn.modelhandler:Train Epoch: 2 [1170/1453 (99%)]\tLoss: 0.045916\n",
            "100%|██████████| 91/91 [01:31<00:00,  1.01s/it]\n",
            "INFO:pv_vision.nn.modelhandler:Saved model at epoch 2\n",
            "100%|██████████| 6/6 [00:02<00:00,  2.02it/s]\n",
            "INFO:pv_vision.nn.modelhandler:Val epoch: 2 \tAverage loss: 0.0898\n"
          ]
        },
        {
          "output_type": "stream",
          "name": "stdout",
          "text": [
            "Loss: 0.0491 (train) | 0.0898 (val)\n",
            "Epoch 3 / 42\n",
            "----------\n"
          ]
        },
        {
          "output_type": "stream",
          "name": "stderr",
          "text": [
            "  0%|          | 0/91 [00:00<?, ?it/s]INFO:pv_vision.nn.modelhandler:Train Epoch: 3 [0/1453 (0%)]\tLoss: 0.037382\n",
            " 11%|█         | 10/91 [00:09<01:20,  1.01it/s]INFO:pv_vision.nn.modelhandler:Train Epoch: 3 [160/1453 (11%)]\tLoss: 0.041108\n",
            " 22%|██▏       | 20/91 [00:19<01:09,  1.02it/s]INFO:pv_vision.nn.modelhandler:Train Epoch: 3 [320/1453 (22%)]\tLoss: 0.043412\n",
            " 33%|███▎      | 30/91 [00:29<01:00,  1.01it/s]INFO:pv_vision.nn.modelhandler:Train Epoch: 3 [480/1453 (33%)]\tLoss: 0.046341\n",
            " 44%|████▍     | 40/91 [00:39<00:50,  1.01it/s]INFO:pv_vision.nn.modelhandler:Train Epoch: 3 [640/1453 (44%)]\tLoss: 0.041416\n",
            " 55%|█████▍    | 50/91 [00:49<00:40,  1.01it/s]INFO:pv_vision.nn.modelhandler:Train Epoch: 3 [800/1453 (55%)]\tLoss: 0.053323\n",
            " 66%|██████▌   | 60/91 [00:59<00:30,  1.01it/s]INFO:pv_vision.nn.modelhandler:Train Epoch: 3 [960/1453 (66%)]\tLoss: 0.044523\n",
            " 77%|███████▋  | 70/91 [01:09<00:20,  1.01it/s]INFO:pv_vision.nn.modelhandler:Train Epoch: 3 [1120/1453 (77%)]\tLoss: 0.034889\n",
            " 88%|████████▊ | 80/91 [01:19<00:10,  1.01it/s]INFO:pv_vision.nn.modelhandler:Train Epoch: 3 [1280/1453 (88%)]\tLoss: 0.039650\n",
            " 99%|█████████▉| 90/91 [01:30<00:00,  1.01it/s]INFO:pv_vision.nn.modelhandler:Train Epoch: 3 [1170/1453 (99%)]\tLoss: 0.039422\n",
            "100%|██████████| 91/91 [01:31<00:00,  1.01s/it]\n",
            "INFO:pv_vision.nn.modelhandler:Saved model at epoch 3\n",
            "100%|██████████| 6/6 [00:03<00:00,  1.97it/s]\n",
            "INFO:pv_vision.nn.modelhandler:Val epoch: 3 \tAverage loss: 0.0890\n"
          ]
        },
        {
          "output_type": "stream",
          "name": "stdout",
          "text": [
            "Loss: 0.0464 (train) | 0.0890 (val)\n",
            "Epoch 4 / 42\n",
            "----------\n"
          ]
        },
        {
          "output_type": "stream",
          "name": "stderr",
          "text": [
            "  0%|          | 0/91 [00:00<?, ?it/s]INFO:pv_vision.nn.modelhandler:Train Epoch: 4 [0/1453 (0%)]\tLoss: 0.071424\n",
            " 11%|█         | 10/91 [00:09<01:19,  1.02it/s]INFO:pv_vision.nn.modelhandler:Train Epoch: 4 [160/1453 (11%)]\tLoss: 0.048910\n",
            " 22%|██▏       | 20/91 [00:19<01:10,  1.01it/s]INFO:pv_vision.nn.modelhandler:Train Epoch: 4 [320/1453 (22%)]\tLoss: 0.047309\n",
            " 33%|███▎      | 30/91 [00:29<01:00,  1.01it/s]INFO:pv_vision.nn.modelhandler:Train Epoch: 4 [480/1453 (33%)]\tLoss: 0.037478\n",
            " 44%|████▍     | 40/91 [00:39<00:50,  1.01it/s]INFO:pv_vision.nn.modelhandler:Train Epoch: 4 [640/1453 (44%)]\tLoss: 0.045387\n",
            " 55%|█████▍    | 50/91 [00:49<00:40,  1.01it/s]INFO:pv_vision.nn.modelhandler:Train Epoch: 4 [800/1453 (55%)]\tLoss: 0.040152\n",
            " 66%|██████▌   | 60/91 [00:59<00:30,  1.01it/s]INFO:pv_vision.nn.modelhandler:Train Epoch: 4 [960/1453 (66%)]\tLoss: 0.057885\n",
            " 77%|███████▋  | 70/91 [01:10<00:20,  1.01it/s]INFO:pv_vision.nn.modelhandler:Train Epoch: 4 [1120/1453 (77%)]\tLoss: 0.058967\n",
            " 88%|████████▊ | 80/91 [01:20<00:10,  1.01it/s]INFO:pv_vision.nn.modelhandler:Train Epoch: 4 [1280/1453 (88%)]\tLoss: 0.037739\n",
            " 99%|█████████▉| 90/91 [01:30<00:00,  1.01it/s]INFO:pv_vision.nn.modelhandler:Train Epoch: 4 [1170/1453 (99%)]\tLoss: 0.051848\n",
            "100%|██████████| 91/91 [01:31<00:00,  1.01s/it]\n",
            "INFO:pv_vision.nn.modelhandler:Saved model at epoch 4\n",
            "100%|██████████| 6/6 [00:02<00:00,  2.03it/s]\n",
            "INFO:pv_vision.nn.modelhandler:Val epoch: 4 \tAverage loss: 0.0874\n"
          ]
        },
        {
          "output_type": "stream",
          "name": "stdout",
          "text": [
            "Loss: 0.0460 (train) | 0.0874 (val)\n",
            "Epoch 5 / 42\n",
            "----------\n"
          ]
        },
        {
          "output_type": "stream",
          "name": "stderr",
          "text": [
            "  0%|          | 0/91 [00:00<?, ?it/s]INFO:pv_vision.nn.modelhandler:Train Epoch: 5 [0/1453 (0%)]\tLoss: 0.050013\n",
            " 11%|█         | 10/91 [00:09<01:19,  1.02it/s]INFO:pv_vision.nn.modelhandler:Train Epoch: 5 [160/1453 (11%)]\tLoss: 0.041644\n",
            " 22%|██▏       | 20/91 [00:19<01:10,  1.01it/s]INFO:pv_vision.nn.modelhandler:Train Epoch: 5 [320/1453 (22%)]\tLoss: 0.050898\n",
            " 33%|███▎      | 30/91 [00:29<01:00,  1.01it/s]INFO:pv_vision.nn.modelhandler:Train Epoch: 5 [480/1453 (33%)]\tLoss: 0.043982\n",
            " 44%|████▍     | 40/91 [00:39<00:50,  1.01it/s]INFO:pv_vision.nn.modelhandler:Train Epoch: 5 [640/1453 (44%)]\tLoss: 0.053809\n",
            " 55%|█████▍    | 50/91 [00:49<00:40,  1.01it/s]INFO:pv_vision.nn.modelhandler:Train Epoch: 5 [800/1453 (55%)]\tLoss: 0.046551\n",
            " 66%|██████▌   | 60/91 [00:59<00:30,  1.01it/s]INFO:pv_vision.nn.modelhandler:Train Epoch: 5 [960/1453 (66%)]\tLoss: 0.053755\n",
            " 77%|███████▋  | 70/91 [01:09<00:20,  1.01it/s]INFO:pv_vision.nn.modelhandler:Train Epoch: 5 [1120/1453 (77%)]\tLoss: 0.042379\n",
            " 88%|████████▊ | 80/91 [01:20<00:10,  1.01it/s]INFO:pv_vision.nn.modelhandler:Train Epoch: 5 [1280/1453 (88%)]\tLoss: 0.042892\n",
            " 99%|█████████▉| 90/91 [01:30<00:00,  1.01it/s]INFO:pv_vision.nn.modelhandler:Train Epoch: 5 [1170/1453 (99%)]\tLoss: 0.056963\n",
            "100%|██████████| 91/91 [01:31<00:00,  1.01s/it]\n",
            "INFO:pv_vision.nn.modelhandler:Saved model at epoch 5\n",
            "100%|██████████| 6/6 [00:02<00:00,  2.05it/s]\n",
            "INFO:pv_vision.nn.modelhandler:Val epoch: 5 \tAverage loss: 0.0886\n"
          ]
        },
        {
          "output_type": "stream",
          "name": "stdout",
          "text": [
            "Loss: 0.0445 (train) | 0.0886 (val)\n",
            "Epoch 6 / 42\n",
            "----------\n"
          ]
        },
        {
          "output_type": "stream",
          "name": "stderr",
          "text": [
            "  0%|          | 0/91 [00:00<?, ?it/s]INFO:pv_vision.nn.modelhandler:Train Epoch: 6 [0/1453 (0%)]\tLoss: 0.027424\n",
            " 11%|█         | 10/91 [00:09<01:19,  1.02it/s]INFO:pv_vision.nn.modelhandler:Train Epoch: 6 [160/1453 (11%)]\tLoss: 0.020584\n",
            " 22%|██▏       | 20/91 [00:19<01:10,  1.01it/s]INFO:pv_vision.nn.modelhandler:Train Epoch: 6 [320/1453 (22%)]\tLoss: 0.052471\n",
            " 33%|███▎      | 30/91 [00:29<01:00,  1.01it/s]INFO:pv_vision.nn.modelhandler:Train Epoch: 6 [480/1453 (33%)]\tLoss: 0.031910\n",
            " 44%|████▍     | 40/91 [00:39<00:50,  1.01it/s]INFO:pv_vision.nn.modelhandler:Train Epoch: 6 [640/1453 (44%)]\tLoss: 0.033906\n",
            " 55%|█████▍    | 50/91 [00:49<00:40,  1.01it/s]INFO:pv_vision.nn.modelhandler:Train Epoch: 6 [800/1453 (55%)]\tLoss: 0.024174\n",
            " 66%|██████▌   | 60/91 [00:59<00:30,  1.01it/s]INFO:pv_vision.nn.modelhandler:Train Epoch: 6 [960/1453 (66%)]\tLoss: 0.027457\n",
            " 77%|███████▋  | 70/91 [01:09<00:20,  1.01it/s]INFO:pv_vision.nn.modelhandler:Train Epoch: 6 [1120/1453 (77%)]\tLoss: 0.042441\n",
            " 88%|████████▊ | 80/91 [01:20<00:10,  1.01it/s]INFO:pv_vision.nn.modelhandler:Train Epoch: 6 [1280/1453 (88%)]\tLoss: 0.044213\n",
            " 99%|█████████▉| 90/91 [01:30<00:00,  1.01it/s]INFO:pv_vision.nn.modelhandler:Train Epoch: 6 [1170/1453 (99%)]\tLoss: 0.049017\n",
            "100%|██████████| 91/91 [01:31<00:00,  1.01s/it]\n",
            "INFO:pv_vision.nn.modelhandler:Saved model at epoch 6\n",
            "100%|██████████| 6/6 [00:02<00:00,  2.03it/s]\n",
            "INFO:pv_vision.nn.modelhandler:Val epoch: 6 \tAverage loss: 0.0917\n"
          ]
        },
        {
          "output_type": "stream",
          "name": "stdout",
          "text": [
            "Loss: 0.0445 (train) | 0.0917 (val)\n",
            "Epoch 7 / 42\n",
            "----------\n"
          ]
        },
        {
          "output_type": "stream",
          "name": "stderr",
          "text": [
            "  0%|          | 0/91 [00:00<?, ?it/s]INFO:pv_vision.nn.modelhandler:Train Epoch: 7 [0/1453 (0%)]\tLoss: 0.068638\n",
            " 11%|█         | 10/91 [00:09<01:19,  1.02it/s]INFO:pv_vision.nn.modelhandler:Train Epoch: 7 [160/1453 (11%)]\tLoss: 0.050587\n",
            " 22%|██▏       | 20/91 [00:19<01:10,  1.01it/s]INFO:pv_vision.nn.modelhandler:Train Epoch: 7 [320/1453 (22%)]\tLoss: 0.021341\n",
            " 33%|███▎      | 30/91 [00:29<01:00,  1.01it/s]INFO:pv_vision.nn.modelhandler:Train Epoch: 7 [480/1453 (33%)]\tLoss: 0.047441\n",
            " 44%|████▍     | 40/91 [00:39<00:50,  1.01it/s]INFO:pv_vision.nn.modelhandler:Train Epoch: 7 [640/1453 (44%)]\tLoss: 0.045945\n",
            " 55%|█████▍    | 50/91 [00:49<00:40,  1.01it/s]INFO:pv_vision.nn.modelhandler:Train Epoch: 7 [800/1453 (55%)]\tLoss: 0.037432\n",
            " 66%|██████▌   | 60/91 [00:59<00:30,  1.01it/s]INFO:pv_vision.nn.modelhandler:Train Epoch: 7 [960/1453 (66%)]\tLoss: 0.043955\n",
            " 77%|███████▋  | 70/91 [01:10<00:20,  1.01it/s]INFO:pv_vision.nn.modelhandler:Train Epoch: 7 [1120/1453 (77%)]\tLoss: 0.049941\n",
            " 88%|████████▊ | 80/91 [01:20<00:10,  1.01it/s]INFO:pv_vision.nn.modelhandler:Train Epoch: 7 [1280/1453 (88%)]\tLoss: 0.034875\n",
            " 99%|█████████▉| 90/91 [01:30<00:00,  1.01it/s]INFO:pv_vision.nn.modelhandler:Train Epoch: 7 [1170/1453 (99%)]\tLoss: 0.035420\n",
            "100%|██████████| 91/91 [01:31<00:00,  1.01s/it]\n",
            "INFO:pv_vision.nn.modelhandler:Saved model at epoch 7\n",
            "100%|██████████| 6/6 [00:03<00:00,  1.72it/s]\n",
            "INFO:pv_vision.nn.modelhandler:Val epoch: 7 \tAverage loss: 0.0871\n"
          ]
        },
        {
          "output_type": "stream",
          "name": "stdout",
          "text": [
            "Loss: 0.0451 (train) | 0.0871 (val)\n",
            "Epoch 8 / 42\n",
            "----------\n"
          ]
        },
        {
          "output_type": "stream",
          "name": "stderr",
          "text": [
            "  0%|          | 0/91 [00:00<?, ?it/s]INFO:pv_vision.nn.modelhandler:Train Epoch: 8 [0/1453 (0%)]\tLoss: 0.059735\n",
            " 11%|█         | 10/91 [00:09<01:19,  1.02it/s]INFO:pv_vision.nn.modelhandler:Train Epoch: 8 [160/1453 (11%)]\tLoss: 0.042338\n",
            " 22%|██▏       | 20/91 [00:19<01:10,  1.01it/s]INFO:pv_vision.nn.modelhandler:Train Epoch: 8 [320/1453 (22%)]\tLoss: 0.025539\n",
            " 33%|███▎      | 30/91 [00:29<01:00,  1.01it/s]INFO:pv_vision.nn.modelhandler:Train Epoch: 8 [480/1453 (33%)]\tLoss: 0.030978\n",
            " 44%|████▍     | 40/91 [00:39<00:50,  1.01it/s]INFO:pv_vision.nn.modelhandler:Train Epoch: 8 [640/1453 (44%)]\tLoss: 0.048143\n",
            " 55%|█████▍    | 50/91 [00:49<00:40,  1.01it/s]INFO:pv_vision.nn.modelhandler:Train Epoch: 8 [800/1453 (55%)]\tLoss: 0.041160\n",
            " 66%|██████▌   | 60/91 [00:59<00:30,  1.01it/s]INFO:pv_vision.nn.modelhandler:Train Epoch: 8 [960/1453 (66%)]\tLoss: 0.044196\n",
            " 77%|███████▋  | 70/91 [01:09<00:20,  1.01it/s]INFO:pv_vision.nn.modelhandler:Train Epoch: 8 [1120/1453 (77%)]\tLoss: 0.061270\n",
            " 88%|████████▊ | 80/91 [01:20<00:10,  1.01it/s]INFO:pv_vision.nn.modelhandler:Train Epoch: 8 [1280/1453 (88%)]\tLoss: 0.038138\n",
            " 99%|█████████▉| 90/91 [01:30<00:00,  1.01it/s]INFO:pv_vision.nn.modelhandler:Train Epoch: 8 [1170/1453 (99%)]\tLoss: 0.042003\n",
            "100%|██████████| 91/91 [01:31<00:00,  1.01s/it]\n",
            "INFO:pv_vision.nn.modelhandler:Saved model at epoch 8\n",
            "100%|██████████| 6/6 [00:03<00:00,  1.75it/s]\n",
            "INFO:pv_vision.nn.modelhandler:Val epoch: 8 \tAverage loss: 0.0857\n"
          ]
        },
        {
          "output_type": "stream",
          "name": "stdout",
          "text": [
            "Loss: 0.0438 (train) | 0.0857 (val)\n",
            "Epoch 9 / 42\n",
            "----------\n"
          ]
        },
        {
          "output_type": "stream",
          "name": "stderr",
          "text": [
            "  0%|          | 0/91 [00:00<?, ?it/s]INFO:pv_vision.nn.modelhandler:Train Epoch: 9 [0/1453 (0%)]\tLoss: 0.050082\n",
            " 11%|█         | 10/91 [00:09<01:19,  1.02it/s]INFO:pv_vision.nn.modelhandler:Train Epoch: 9 [160/1453 (11%)]\tLoss: 0.037152\n",
            " 22%|██▏       | 20/91 [00:19<01:10,  1.01it/s]INFO:pv_vision.nn.modelhandler:Train Epoch: 9 [320/1453 (22%)]\tLoss: 0.051790\n",
            " 33%|███▎      | 30/91 [00:29<01:00,  1.01it/s]INFO:pv_vision.nn.modelhandler:Train Epoch: 9 [480/1453 (33%)]\tLoss: 0.045420\n",
            " 44%|████▍     | 40/91 [00:39<00:50,  1.01it/s]INFO:pv_vision.nn.modelhandler:Train Epoch: 9 [640/1453 (44%)]\tLoss: 0.034053\n",
            " 55%|█████▍    | 50/91 [00:49<00:40,  1.01it/s]INFO:pv_vision.nn.modelhandler:Train Epoch: 9 [800/1453 (55%)]\tLoss: 0.035418\n",
            " 66%|██████▌   | 60/91 [00:59<00:30,  1.01it/s]INFO:pv_vision.nn.modelhandler:Train Epoch: 9 [960/1453 (66%)]\tLoss: 0.035682\n",
            " 77%|███████▋  | 70/91 [01:09<00:20,  1.01it/s]INFO:pv_vision.nn.modelhandler:Train Epoch: 9 [1120/1453 (77%)]\tLoss: 0.042512\n",
            " 88%|████████▊ | 80/91 [01:20<00:10,  1.01it/s]INFO:pv_vision.nn.modelhandler:Train Epoch: 9 [1280/1453 (88%)]\tLoss: 0.040045\n",
            " 99%|█████████▉| 90/91 [01:30<00:00,  1.01it/s]INFO:pv_vision.nn.modelhandler:Train Epoch: 9 [1170/1453 (99%)]\tLoss: 0.023768\n",
            "100%|██████████| 91/91 [01:31<00:00,  1.01s/it]\n",
            "INFO:pv_vision.nn.modelhandler:Saved model at epoch 9\n",
            "100%|██████████| 6/6 [00:03<00:00,  1.76it/s]\n",
            "INFO:pv_vision.nn.modelhandler:Val epoch: 9 \tAverage loss: 0.0780\n"
          ]
        },
        {
          "output_type": "stream",
          "name": "stdout",
          "text": [
            "Loss: 0.0411 (train) | 0.0780 (val)\n",
            "Epoch 10 / 42\n",
            "----------\n"
          ]
        },
        {
          "output_type": "stream",
          "name": "stderr",
          "text": [
            "  0%|          | 0/91 [00:00<?, ?it/s]INFO:pv_vision.nn.modelhandler:Train Epoch: 10 [0/1453 (0%)]\tLoss: 0.034379\n",
            " 11%|█         | 10/91 [00:09<01:19,  1.02it/s]INFO:pv_vision.nn.modelhandler:Train Epoch: 10 [160/1453 (11%)]\tLoss: 0.035925\n",
            " 22%|██▏       | 20/91 [00:19<01:10,  1.01it/s]INFO:pv_vision.nn.modelhandler:Train Epoch: 10 [320/1453 (22%)]\tLoss: 0.049253\n",
            " 33%|███▎      | 30/91 [00:29<01:00,  1.01it/s]INFO:pv_vision.nn.modelhandler:Train Epoch: 10 [480/1453 (33%)]\tLoss: 0.030793\n",
            " 44%|████▍     | 40/91 [00:39<00:50,  1.01it/s]INFO:pv_vision.nn.modelhandler:Train Epoch: 10 [640/1453 (44%)]\tLoss: 0.034048\n",
            " 55%|█████▍    | 50/91 [00:49<00:40,  1.01it/s]INFO:pv_vision.nn.modelhandler:Train Epoch: 10 [800/1453 (55%)]\tLoss: 0.037403\n",
            " 66%|██████▌   | 60/91 [00:59<00:30,  1.01it/s]INFO:pv_vision.nn.modelhandler:Train Epoch: 10 [960/1453 (66%)]\tLoss: 0.035745\n",
            " 77%|███████▋  | 70/91 [01:10<00:20,  1.01it/s]INFO:pv_vision.nn.modelhandler:Train Epoch: 10 [1120/1453 (77%)]\tLoss: 0.040622\n",
            " 88%|████████▊ | 80/91 [01:20<00:10,  1.01it/s]INFO:pv_vision.nn.modelhandler:Train Epoch: 10 [1280/1453 (88%)]\tLoss: 0.028015\n",
            " 99%|█████████▉| 90/91 [01:30<00:00,  1.01it/s]INFO:pv_vision.nn.modelhandler:Train Epoch: 10 [1170/1453 (99%)]\tLoss: 0.044550\n",
            "100%|██████████| 91/91 [01:31<00:00,  1.01s/it]\n",
            "INFO:pv_vision.nn.modelhandler:Saved model at epoch 10\n",
            "100%|██████████| 6/6 [00:03<00:00,  1.76it/s]\n",
            "INFO:pv_vision.nn.modelhandler:Val epoch: 10 \tAverage loss: 0.0760\n"
          ]
        },
        {
          "output_type": "stream",
          "name": "stdout",
          "text": [
            "Loss: 0.0392 (train) | 0.0760 (val)\n",
            "Epoch 11 / 42\n",
            "----------\n"
          ]
        },
        {
          "output_type": "stream",
          "name": "stderr",
          "text": [
            "  0%|          | 0/91 [00:00<?, ?it/s]INFO:pv_vision.nn.modelhandler:Train Epoch: 11 [0/1453 (0%)]\tLoss: 0.041058\n",
            " 11%|█         | 10/91 [00:09<01:19,  1.01it/s]INFO:pv_vision.nn.modelhandler:Train Epoch: 11 [160/1453 (11%)]\tLoss: 0.045722\n",
            " 22%|██▏       | 20/91 [00:19<01:10,  1.01it/s]INFO:pv_vision.nn.modelhandler:Train Epoch: 11 [320/1453 (22%)]\tLoss: 0.049923\n",
            " 33%|███▎      | 30/91 [00:29<01:00,  1.01it/s]INFO:pv_vision.nn.modelhandler:Train Epoch: 11 [480/1453 (33%)]\tLoss: 0.037256\n",
            " 44%|████▍     | 40/91 [00:39<00:50,  1.01it/s]INFO:pv_vision.nn.modelhandler:Train Epoch: 11 [640/1453 (44%)]\tLoss: 0.035433\n",
            " 55%|█████▍    | 50/91 [00:50<00:40,  1.01it/s]INFO:pv_vision.nn.modelhandler:Train Epoch: 11 [800/1453 (55%)]\tLoss: 0.050335\n",
            " 66%|██████▌   | 60/91 [01:00<00:30,  1.01it/s]INFO:pv_vision.nn.modelhandler:Train Epoch: 11 [960/1453 (66%)]\tLoss: 0.034538\n",
            " 77%|███████▋  | 70/91 [01:10<00:20,  1.01it/s]INFO:pv_vision.nn.modelhandler:Train Epoch: 11 [1120/1453 (77%)]\tLoss: 0.039876\n",
            " 88%|████████▊ | 80/91 [01:20<00:10,  1.01it/s]INFO:pv_vision.nn.modelhandler:Train Epoch: 11 [1280/1453 (88%)]\tLoss: 0.029776\n",
            " 99%|█████████▉| 90/91 [01:30<00:00,  1.01it/s]INFO:pv_vision.nn.modelhandler:Train Epoch: 11 [1170/1453 (99%)]\tLoss: 0.031777\n",
            "100%|██████████| 91/91 [01:32<00:00,  1.01s/it]\n",
            "INFO:pv_vision.nn.modelhandler:Saved model at epoch 11\n",
            "100%|██████████| 6/6 [00:03<00:00,  1.76it/s]\n",
            "INFO:pv_vision.nn.modelhandler:Val epoch: 11 \tAverage loss: 0.0745\n"
          ]
        },
        {
          "output_type": "stream",
          "name": "stdout",
          "text": [
            "Loss: 0.0385 (train) | 0.0745 (val)\n",
            "Epoch 12 / 42\n",
            "----------\n"
          ]
        },
        {
          "output_type": "stream",
          "name": "stderr",
          "text": [
            "  0%|          | 0/91 [00:00<?, ?it/s]INFO:pv_vision.nn.modelhandler:Train Epoch: 12 [0/1453 (0%)]\tLoss: 0.045990\n",
            " 11%|█         | 10/91 [00:09<01:20,  1.01it/s]INFO:pv_vision.nn.modelhandler:Train Epoch: 12 [160/1453 (11%)]\tLoss: 0.035246\n",
            " 22%|██▏       | 20/91 [00:19<01:10,  1.01it/s]INFO:pv_vision.nn.modelhandler:Train Epoch: 12 [320/1453 (22%)]\tLoss: 0.032052\n",
            " 33%|███▎      | 30/91 [00:29<01:00,  1.01it/s]INFO:pv_vision.nn.modelhandler:Train Epoch: 12 [480/1453 (33%)]\tLoss: 0.033586\n",
            " 44%|████▍     | 40/91 [00:39<00:50,  1.01it/s]INFO:pv_vision.nn.modelhandler:Train Epoch: 12 [640/1453 (44%)]\tLoss: 0.037935\n",
            " 55%|█████▍    | 50/91 [00:50<00:40,  1.01it/s]INFO:pv_vision.nn.modelhandler:Train Epoch: 12 [800/1453 (55%)]\tLoss: 0.039517\n",
            " 66%|██████▌   | 60/91 [01:00<00:30,  1.01it/s]INFO:pv_vision.nn.modelhandler:Train Epoch: 12 [960/1453 (66%)]\tLoss: 0.034811\n",
            " 77%|███████▋  | 70/91 [01:10<00:20,  1.01it/s]INFO:pv_vision.nn.modelhandler:Train Epoch: 12 [1120/1453 (77%)]\tLoss: 0.036941\n",
            " 88%|████████▊ | 80/91 [01:20<00:10,  1.01it/s]INFO:pv_vision.nn.modelhandler:Train Epoch: 12 [1280/1453 (88%)]\tLoss: 0.043470\n",
            " 99%|█████████▉| 90/91 [01:30<00:00,  1.01it/s]INFO:pv_vision.nn.modelhandler:Train Epoch: 12 [1170/1453 (99%)]\tLoss: 0.043776\n",
            "100%|██████████| 91/91 [01:31<00:00,  1.01s/it]\n",
            "INFO:pv_vision.nn.modelhandler:Saved model at epoch 12\n",
            "100%|██████████| 6/6 [00:03<00:00,  1.97it/s]\n",
            "INFO:pv_vision.nn.modelhandler:Val epoch: 12 \tAverage loss: 0.0742\n"
          ]
        },
        {
          "output_type": "stream",
          "name": "stdout",
          "text": [
            "Loss: 0.0383 (train) | 0.0742 (val)\n",
            "Epoch 13 / 42\n",
            "----------\n"
          ]
        },
        {
          "output_type": "stream",
          "name": "stderr",
          "text": [
            "  0%|          | 0/91 [00:00<?, ?it/s]INFO:pv_vision.nn.modelhandler:Train Epoch: 13 [0/1453 (0%)]\tLoss: 0.036602\n",
            " 11%|█         | 10/91 [00:09<01:19,  1.02it/s]INFO:pv_vision.nn.modelhandler:Train Epoch: 13 [160/1453 (11%)]\tLoss: 0.027769\n",
            " 22%|██▏       | 20/91 [00:19<01:10,  1.01it/s]INFO:pv_vision.nn.modelhandler:Train Epoch: 13 [320/1453 (22%)]\tLoss: 0.038067\n",
            " 33%|███▎      | 30/91 [00:29<01:00,  1.01it/s]INFO:pv_vision.nn.modelhandler:Train Epoch: 13 [480/1453 (33%)]\tLoss: 0.037858\n",
            " 44%|████▍     | 40/91 [00:39<00:50,  1.01it/s]INFO:pv_vision.nn.modelhandler:Train Epoch: 13 [640/1453 (44%)]\tLoss: 0.031287\n",
            " 55%|█████▍    | 50/91 [00:49<00:40,  1.01it/s]INFO:pv_vision.nn.modelhandler:Train Epoch: 13 [800/1453 (55%)]\tLoss: 0.054627\n",
            " 66%|██████▌   | 60/91 [01:00<00:30,  1.01it/s]INFO:pv_vision.nn.modelhandler:Train Epoch: 13 [960/1453 (66%)]\tLoss: 0.032297\n",
            " 77%|███████▋  | 70/91 [01:10<00:20,  1.01it/s]INFO:pv_vision.nn.modelhandler:Train Epoch: 13 [1120/1453 (77%)]\tLoss: 0.029426\n",
            " 88%|████████▊ | 80/91 [01:20<00:10,  1.01it/s]INFO:pv_vision.nn.modelhandler:Train Epoch: 13 [1280/1453 (88%)]\tLoss: 0.034888\n",
            " 99%|█████████▉| 90/91 [01:30<00:00,  1.01it/s]INFO:pv_vision.nn.modelhandler:Train Epoch: 13 [1170/1453 (99%)]\tLoss: 0.029249\n",
            "100%|██████████| 91/91 [01:31<00:00,  1.01s/it]\n",
            "INFO:pv_vision.nn.modelhandler:Saved model at epoch 13\n",
            "100%|██████████| 6/6 [00:03<00:00,  1.86it/s]\n",
            "INFO:pv_vision.nn.modelhandler:Val epoch: 13 \tAverage loss: 0.0738\n"
          ]
        },
        {
          "output_type": "stream",
          "name": "stdout",
          "text": [
            "Loss: 0.0379 (train) | 0.0738 (val)\n",
            "Epoch 14 / 42\n",
            "----------\n"
          ]
        },
        {
          "output_type": "stream",
          "name": "stderr",
          "text": [
            "  0%|          | 0/91 [00:00<?, ?it/s]INFO:pv_vision.nn.modelhandler:Train Epoch: 14 [0/1453 (0%)]\tLoss: 0.032255\n",
            " 11%|█         | 10/91 [00:09<01:19,  1.02it/s]INFO:pv_vision.nn.modelhandler:Train Epoch: 14 [160/1453 (11%)]\tLoss: 0.036188\n",
            " 22%|██▏       | 20/91 [00:19<01:10,  1.01it/s]INFO:pv_vision.nn.modelhandler:Train Epoch: 14 [320/1453 (22%)]\tLoss: 0.024117\n",
            " 33%|███▎      | 30/91 [00:29<01:00,  1.01it/s]INFO:pv_vision.nn.modelhandler:Train Epoch: 14 [480/1453 (33%)]\tLoss: 0.040166\n",
            " 44%|████▍     | 40/91 [00:39<00:50,  1.00it/s]INFO:pv_vision.nn.modelhandler:Train Epoch: 14 [640/1453 (44%)]\tLoss: 0.030358\n",
            " 55%|█████▍    | 50/91 [00:49<00:40,  1.01it/s]INFO:pv_vision.nn.modelhandler:Train Epoch: 14 [800/1453 (55%)]\tLoss: 0.028881\n",
            " 66%|██████▌   | 60/91 [00:59<00:30,  1.01it/s]INFO:pv_vision.nn.modelhandler:Train Epoch: 14 [960/1453 (66%)]\tLoss: 0.042195\n",
            " 77%|███████▋  | 70/91 [01:10<00:20,  1.01it/s]INFO:pv_vision.nn.modelhandler:Train Epoch: 14 [1120/1453 (77%)]\tLoss: 0.061991\n",
            " 88%|████████▊ | 80/91 [01:20<00:10,  1.01it/s]INFO:pv_vision.nn.modelhandler:Train Epoch: 14 [1280/1453 (88%)]\tLoss: 0.041867\n",
            " 99%|█████████▉| 90/91 [01:30<00:00,  1.02it/s]INFO:pv_vision.nn.modelhandler:Train Epoch: 14 [1170/1453 (99%)]\tLoss: 0.026880\n",
            "100%|██████████| 91/91 [01:31<00:00,  1.01s/it]\n",
            "INFO:pv_vision.nn.modelhandler:Saved model at epoch 14\n",
            "100%|██████████| 6/6 [00:03<00:00,  1.74it/s]\n",
            "INFO:pv_vision.nn.modelhandler:Val epoch: 14 \tAverage loss: 0.0728\n"
          ]
        },
        {
          "output_type": "stream",
          "name": "stdout",
          "text": [
            "Loss: 0.0379 (train) | 0.0728 (val)\n",
            "Epoch 15 / 42\n",
            "----------\n"
          ]
        },
        {
          "output_type": "stream",
          "name": "stderr",
          "text": [
            "  0%|          | 0/91 [00:00<?, ?it/s]INFO:pv_vision.nn.modelhandler:Train Epoch: 15 [0/1453 (0%)]\tLoss: 0.043873\n",
            " 11%|█         | 10/91 [00:09<01:19,  1.02it/s]INFO:pv_vision.nn.modelhandler:Train Epoch: 15 [160/1453 (11%)]\tLoss: 0.034567\n",
            " 22%|██▏       | 20/91 [00:19<01:10,  1.01it/s]INFO:pv_vision.nn.modelhandler:Train Epoch: 15 [320/1453 (22%)]\tLoss: 0.033272\n",
            " 33%|███▎      | 30/91 [00:29<01:00,  1.01it/s]INFO:pv_vision.nn.modelhandler:Train Epoch: 15 [480/1453 (33%)]\tLoss: 0.041802\n",
            " 44%|████▍     | 40/91 [00:39<00:50,  1.01it/s]INFO:pv_vision.nn.modelhandler:Train Epoch: 15 [640/1453 (44%)]\tLoss: 0.033814\n",
            " 55%|█████▍    | 50/91 [00:49<00:40,  1.01it/s]INFO:pv_vision.nn.modelhandler:Train Epoch: 15 [800/1453 (55%)]\tLoss: 0.031280\n",
            " 66%|██████▌   | 60/91 [00:59<00:30,  1.01it/s]INFO:pv_vision.nn.modelhandler:Train Epoch: 15 [960/1453 (66%)]\tLoss: 0.035304\n",
            " 77%|███████▋  | 70/91 [01:09<00:20,  1.01it/s]INFO:pv_vision.nn.modelhandler:Train Epoch: 15 [1120/1453 (77%)]\tLoss: 0.036444\n",
            " 88%|████████▊ | 80/91 [01:19<00:10,  1.02it/s]INFO:pv_vision.nn.modelhandler:Train Epoch: 15 [1280/1453 (88%)]\tLoss: 0.040341\n",
            " 99%|█████████▉| 90/91 [01:30<00:00,  1.01it/s]INFO:pv_vision.nn.modelhandler:Train Epoch: 15 [1170/1453 (99%)]\tLoss: 0.018153\n",
            "100%|██████████| 91/91 [01:31<00:00,  1.01s/it]\n",
            "INFO:pv_vision.nn.modelhandler:Saved model at epoch 15\n",
            "100%|██████████| 6/6 [00:03<00:00,  1.98it/s]\n",
            "INFO:pv_vision.nn.modelhandler:Val epoch: 15 \tAverage loss: 0.0727\n"
          ]
        },
        {
          "output_type": "stream",
          "name": "stdout",
          "text": [
            "Loss: 0.0374 (train) | 0.0727 (val)\n",
            "Epoch 16 / 42\n",
            "----------\n"
          ]
        },
        {
          "output_type": "stream",
          "name": "stderr",
          "text": [
            "  0%|          | 0/91 [00:00<?, ?it/s]INFO:pv_vision.nn.modelhandler:Train Epoch: 16 [0/1453 (0%)]\tLoss: 0.032020\n",
            " 11%|█         | 10/91 [00:09<01:19,  1.02it/s]INFO:pv_vision.nn.modelhandler:Train Epoch: 16 [160/1453 (11%)]\tLoss: 0.037260\n",
            " 22%|██▏       | 20/91 [00:19<01:10,  1.01it/s]INFO:pv_vision.nn.modelhandler:Train Epoch: 16 [320/1453 (22%)]\tLoss: 0.042885\n",
            " 33%|███▎      | 30/91 [00:29<01:00,  1.01it/s]INFO:pv_vision.nn.modelhandler:Train Epoch: 16 [480/1453 (33%)]\tLoss: 0.032246\n",
            " 44%|████▍     | 40/91 [00:39<00:50,  1.01it/s]INFO:pv_vision.nn.modelhandler:Train Epoch: 16 [640/1453 (44%)]\tLoss: 0.056166\n",
            " 55%|█████▍    | 50/91 [00:49<00:40,  1.02it/s]INFO:pv_vision.nn.modelhandler:Train Epoch: 16 [800/1453 (55%)]\tLoss: 0.045770\n",
            " 66%|██████▌   | 60/91 [00:59<00:30,  1.01it/s]INFO:pv_vision.nn.modelhandler:Train Epoch: 16 [960/1453 (66%)]\tLoss: 0.070686\n",
            " 77%|███████▋  | 70/91 [01:09<00:20,  1.01it/s]INFO:pv_vision.nn.modelhandler:Train Epoch: 16 [1120/1453 (77%)]\tLoss: 0.039416\n",
            " 88%|████████▊ | 80/91 [01:20<00:10,  1.01it/s]INFO:pv_vision.nn.modelhandler:Train Epoch: 16 [1280/1453 (88%)]\tLoss: 0.042550\n",
            " 99%|█████████▉| 90/91 [01:30<00:00,  1.01it/s]INFO:pv_vision.nn.modelhandler:Train Epoch: 16 [1170/1453 (99%)]\tLoss: 0.039466\n",
            "100%|██████████| 91/91 [01:31<00:00,  1.01s/it]\n",
            "INFO:pv_vision.nn.modelhandler:Saved model at epoch 16\n",
            "100%|██████████| 6/6 [00:03<00:00,  1.65it/s]\n",
            "INFO:pv_vision.nn.modelhandler:Val epoch: 16 \tAverage loss: 0.0717\n"
          ]
        },
        {
          "output_type": "stream",
          "name": "stdout",
          "text": [
            "Loss: 0.0373 (train) | 0.0717 (val)\n",
            "Epoch 17 / 42\n",
            "----------\n"
          ]
        },
        {
          "output_type": "stream",
          "name": "stderr",
          "text": [
            "  0%|          | 0/91 [00:00<?, ?it/s]INFO:pv_vision.nn.modelhandler:Train Epoch: 17 [0/1453 (0%)]\tLoss: 0.037263\n",
            " 11%|█         | 10/91 [00:09<01:20,  1.01it/s]INFO:pv_vision.nn.modelhandler:Train Epoch: 17 [160/1453 (11%)]\tLoss: 0.030856\n",
            " 22%|██▏       | 20/91 [00:19<01:10,  1.01it/s]INFO:pv_vision.nn.modelhandler:Train Epoch: 17 [320/1453 (22%)]\tLoss: 0.030065\n",
            " 33%|███▎      | 30/91 [00:29<01:00,  1.00it/s]INFO:pv_vision.nn.modelhandler:Train Epoch: 17 [480/1453 (33%)]\tLoss: 0.050378\n",
            " 44%|████▍     | 40/91 [00:40<00:50,  1.01it/s]INFO:pv_vision.nn.modelhandler:Train Epoch: 17 [640/1453 (44%)]\tLoss: 0.030211\n",
            " 55%|█████▍    | 50/91 [00:50<00:40,  1.01it/s]INFO:pv_vision.nn.modelhandler:Train Epoch: 17 [800/1453 (55%)]\tLoss: 0.029315\n",
            " 66%|██████▌   | 60/91 [01:00<00:30,  1.01it/s]INFO:pv_vision.nn.modelhandler:Train Epoch: 17 [960/1453 (66%)]\tLoss: 0.030660\n",
            " 77%|███████▋  | 70/91 [01:10<00:20,  1.01it/s]INFO:pv_vision.nn.modelhandler:Train Epoch: 17 [1120/1453 (77%)]\tLoss: 0.025653\n",
            " 88%|████████▊ | 80/91 [01:20<00:10,  1.01it/s]INFO:pv_vision.nn.modelhandler:Train Epoch: 17 [1280/1453 (88%)]\tLoss: 0.055015\n",
            " 99%|█████████▉| 90/91 [01:30<00:00,  1.01it/s]INFO:pv_vision.nn.modelhandler:Train Epoch: 17 [1170/1453 (99%)]\tLoss: 0.022014\n",
            "100%|██████████| 91/91 [01:32<00:00,  1.01s/it]\n",
            "INFO:pv_vision.nn.modelhandler:Saved model at epoch 17\n",
            "100%|██████████| 6/6 [00:02<00:00,  2.04it/s]\n",
            "INFO:pv_vision.nn.modelhandler:Val epoch: 17 \tAverage loss: 0.0717\n"
          ]
        },
        {
          "output_type": "stream",
          "name": "stdout",
          "text": [
            "Loss: 0.0369 (train) | 0.0717 (val)\n",
            "Epoch 18 / 42\n",
            "----------\n"
          ]
        },
        {
          "output_type": "stream",
          "name": "stderr",
          "text": [
            "  0%|          | 0/91 [00:00<?, ?it/s]INFO:pv_vision.nn.modelhandler:Train Epoch: 18 [0/1453 (0%)]\tLoss: 0.025017\n",
            " 11%|█         | 10/91 [00:09<01:19,  1.02it/s]INFO:pv_vision.nn.modelhandler:Train Epoch: 18 [160/1453 (11%)]\tLoss: 0.031139\n",
            " 22%|██▏       | 20/91 [00:19<01:10,  1.01it/s]INFO:pv_vision.nn.modelhandler:Train Epoch: 18 [320/1453 (22%)]\tLoss: 0.032910\n",
            " 33%|███▎      | 30/91 [00:29<01:00,  1.01it/s]INFO:pv_vision.nn.modelhandler:Train Epoch: 18 [480/1453 (33%)]\tLoss: 0.044102\n",
            " 44%|████▍     | 40/91 [00:39<00:50,  1.01it/s]INFO:pv_vision.nn.modelhandler:Train Epoch: 18 [640/1453 (44%)]\tLoss: 0.019108\n",
            " 55%|█████▍    | 50/91 [00:49<00:40,  1.01it/s]INFO:pv_vision.nn.modelhandler:Train Epoch: 18 [800/1453 (55%)]\tLoss: 0.035256\n",
            " 66%|██████▌   | 60/91 [00:59<00:30,  1.01it/s]INFO:pv_vision.nn.modelhandler:Train Epoch: 18 [960/1453 (66%)]\tLoss: 0.046585\n",
            " 77%|███████▋  | 70/91 [01:10<00:20,  1.01it/s]INFO:pv_vision.nn.modelhandler:Train Epoch: 18 [1120/1453 (77%)]\tLoss: 0.037230\n",
            " 88%|████████▊ | 80/91 [01:20<00:10,  1.01it/s]INFO:pv_vision.nn.modelhandler:Train Epoch: 18 [1280/1453 (88%)]\tLoss: 0.020259\n",
            " 99%|█████████▉| 90/91 [01:30<00:00,  1.01it/s]INFO:pv_vision.nn.modelhandler:Train Epoch: 18 [1170/1453 (99%)]\tLoss: 0.047011\n",
            "100%|██████████| 91/91 [01:31<00:00,  1.01s/it]\n",
            "INFO:pv_vision.nn.modelhandler:Saved model at epoch 18\n",
            "100%|██████████| 6/6 [00:03<00:00,  1.94it/s]\n",
            "INFO:pv_vision.nn.modelhandler:Val epoch: 18 \tAverage loss: 0.0717\n"
          ]
        },
        {
          "output_type": "stream",
          "name": "stdout",
          "text": [
            "Loss: 0.0368 (train) | 0.0717 (val)\n",
            "Epoch 19 / 42\n",
            "----------\n"
          ]
        },
        {
          "output_type": "stream",
          "name": "stderr",
          "text": [
            "  0%|          | 0/91 [00:00<?, ?it/s]INFO:pv_vision.nn.modelhandler:Train Epoch: 19 [0/1453 (0%)]\tLoss: 0.021018\n",
            " 11%|█         | 10/91 [00:09<01:19,  1.02it/s]INFO:pv_vision.nn.modelhandler:Train Epoch: 19 [160/1453 (11%)]\tLoss: 0.051975\n",
            " 22%|██▏       | 20/91 [00:19<01:10,  1.01it/s]INFO:pv_vision.nn.modelhandler:Train Epoch: 19 [320/1453 (22%)]\tLoss: 0.034038\n",
            " 33%|███▎      | 30/91 [00:29<01:00,  1.01it/s]INFO:pv_vision.nn.modelhandler:Train Epoch: 19 [480/1453 (33%)]\tLoss: 0.029012\n",
            " 44%|████▍     | 40/91 [00:39<00:50,  1.01it/s]INFO:pv_vision.nn.modelhandler:Train Epoch: 19 [640/1453 (44%)]\tLoss: 0.028147\n",
            " 55%|█████▍    | 50/91 [00:49<00:40,  1.01it/s]INFO:pv_vision.nn.modelhandler:Train Epoch: 19 [800/1453 (55%)]\tLoss: 0.026677\n",
            " 66%|██████▌   | 60/91 [00:59<00:30,  1.01it/s]INFO:pv_vision.nn.modelhandler:Train Epoch: 19 [960/1453 (66%)]\tLoss: 0.040177\n",
            " 77%|███████▋  | 70/91 [01:10<00:20,  1.01it/s]INFO:pv_vision.nn.modelhandler:Train Epoch: 19 [1120/1453 (77%)]\tLoss: 0.044356\n",
            " 88%|████████▊ | 80/91 [01:20<00:10,  1.01it/s]INFO:pv_vision.nn.modelhandler:Train Epoch: 19 [1280/1453 (88%)]\tLoss: 0.027314\n",
            " 99%|█████████▉| 90/91 [01:30<00:00,  1.01it/s]INFO:pv_vision.nn.modelhandler:Train Epoch: 19 [1170/1453 (99%)]\tLoss: 0.031763\n",
            "100%|██████████| 91/91 [01:31<00:00,  1.01s/it]\n",
            "INFO:pv_vision.nn.modelhandler:Saved model at epoch 19\n",
            "100%|██████████| 6/6 [00:03<00:00,  1.67it/s]\n",
            "INFO:pv_vision.nn.modelhandler:Val epoch: 19 \tAverage loss: 0.0722\n"
          ]
        },
        {
          "output_type": "stream",
          "name": "stdout",
          "text": [
            "Loss: 0.0368 (train) | 0.0722 (val)\n",
            "Epoch 20 / 42\n",
            "----------\n"
          ]
        },
        {
          "output_type": "stream",
          "name": "stderr",
          "text": [
            "  0%|          | 0/91 [00:00<?, ?it/s]INFO:pv_vision.nn.modelhandler:Train Epoch: 20 [0/1453 (0%)]\tLoss: 0.052120\n",
            " 11%|█         | 10/91 [00:09<01:19,  1.02it/s]INFO:pv_vision.nn.modelhandler:Train Epoch: 20 [160/1453 (11%)]\tLoss: 0.045028\n",
            " 22%|██▏       | 20/91 [00:19<01:10,  1.01it/s]INFO:pv_vision.nn.modelhandler:Train Epoch: 20 [320/1453 (22%)]\tLoss: 0.033319\n",
            " 33%|███▎      | 30/91 [00:29<01:00,  1.01it/s]INFO:pv_vision.nn.modelhandler:Train Epoch: 20 [480/1453 (33%)]\tLoss: 0.045819\n",
            " 44%|████▍     | 40/91 [00:39<00:50,  1.01it/s]INFO:pv_vision.nn.modelhandler:Train Epoch: 20 [640/1453 (44%)]\tLoss: 0.035596\n",
            " 55%|█████▍    | 50/91 [00:49<00:40,  1.01it/s]INFO:pv_vision.nn.modelhandler:Train Epoch: 20 [800/1453 (55%)]\tLoss: 0.050577\n",
            " 66%|██████▌   | 60/91 [00:59<00:30,  1.01it/s]INFO:pv_vision.nn.modelhandler:Train Epoch: 20 [960/1453 (66%)]\tLoss: 0.038182\n",
            " 77%|███████▋  | 70/91 [01:10<00:20,  1.01it/s]INFO:pv_vision.nn.modelhandler:Train Epoch: 20 [1120/1453 (77%)]\tLoss: 0.046046\n",
            " 88%|████████▊ | 80/91 [01:20<00:10,  1.01it/s]INFO:pv_vision.nn.modelhandler:Train Epoch: 20 [1280/1453 (88%)]\tLoss: 0.047791\n",
            " 99%|█████████▉| 90/91 [01:30<00:00,  1.01it/s]INFO:pv_vision.nn.modelhandler:Train Epoch: 20 [1170/1453 (99%)]\tLoss: 0.021539\n",
            "100%|██████████| 91/91 [01:31<00:00,  1.01s/it]\n",
            "INFO:pv_vision.nn.modelhandler:Saved model at epoch 20\n",
            "100%|██████████| 6/6 [00:03<00:00,  1.80it/s]\n",
            "INFO:pv_vision.nn.modelhandler:Val epoch: 20 \tAverage loss: 0.0721\n"
          ]
        },
        {
          "output_type": "stream",
          "name": "stdout",
          "text": [
            "Loss: 0.0370 (train) | 0.0721 (val)\n",
            "Epoch 21 / 42\n",
            "----------\n"
          ]
        },
        {
          "output_type": "stream",
          "name": "stderr",
          "text": [
            "  0%|          | 0/91 [00:00<?, ?it/s]INFO:pv_vision.nn.modelhandler:Train Epoch: 21 [0/1453 (0%)]\tLoss: 0.050835\n",
            " 11%|█         | 10/91 [00:09<01:19,  1.02it/s]INFO:pv_vision.nn.modelhandler:Train Epoch: 21 [160/1453 (11%)]\tLoss: 0.048188\n",
            " 22%|██▏       | 20/91 [00:19<01:10,  1.01it/s]INFO:pv_vision.nn.modelhandler:Train Epoch: 21 [320/1453 (22%)]\tLoss: 0.050229\n",
            " 33%|███▎      | 30/91 [00:29<01:00,  1.01it/s]INFO:pv_vision.nn.modelhandler:Train Epoch: 21 [480/1453 (33%)]\tLoss: 0.021385\n",
            " 44%|████▍     | 40/91 [00:39<00:50,  1.01it/s]INFO:pv_vision.nn.modelhandler:Train Epoch: 21 [640/1453 (44%)]\tLoss: 0.052523\n",
            " 55%|█████▍    | 50/91 [00:49<00:40,  1.01it/s]INFO:pv_vision.nn.modelhandler:Train Epoch: 21 [800/1453 (55%)]\tLoss: 0.037437\n",
            " 66%|██████▌   | 60/91 [00:59<00:30,  1.01it/s]INFO:pv_vision.nn.modelhandler:Train Epoch: 21 [960/1453 (66%)]\tLoss: 0.038367\n",
            " 77%|███████▋  | 70/91 [01:10<00:20,  1.01it/s]INFO:pv_vision.nn.modelhandler:Train Epoch: 21 [1120/1453 (77%)]\tLoss: 0.043998\n",
            " 88%|████████▊ | 80/91 [01:20<00:10,  1.01it/s]INFO:pv_vision.nn.modelhandler:Train Epoch: 21 [1280/1453 (88%)]\tLoss: 0.053145\n",
            " 99%|█████████▉| 90/91 [01:30<00:00,  1.01it/s]INFO:pv_vision.nn.modelhandler:Train Epoch: 21 [1170/1453 (99%)]\tLoss: 0.043965\n",
            "100%|██████████| 91/91 [01:31<00:00,  1.01s/it]\n",
            "INFO:pv_vision.nn.modelhandler:Saved model at epoch 21\n",
            "100%|██████████| 6/6 [00:03<00:00,  1.87it/s]\n",
            "INFO:pv_vision.nn.modelhandler:Val epoch: 21 \tAverage loss: 0.0717\n"
          ]
        },
        {
          "output_type": "stream",
          "name": "stdout",
          "text": [
            "Loss: 0.0368 (train) | 0.0717 (val)\n",
            "Epoch 22 / 42\n",
            "----------\n"
          ]
        },
        {
          "output_type": "stream",
          "name": "stderr",
          "text": [
            "  0%|          | 0/91 [00:00<?, ?it/s]INFO:pv_vision.nn.modelhandler:Train Epoch: 22 [0/1453 (0%)]\tLoss: 0.036678\n",
            " 11%|█         | 10/91 [00:09<01:19,  1.01it/s]INFO:pv_vision.nn.modelhandler:Train Epoch: 22 [160/1453 (11%)]\tLoss: 0.045383\n",
            " 22%|██▏       | 20/91 [00:19<01:10,  1.01it/s]INFO:pv_vision.nn.modelhandler:Train Epoch: 22 [320/1453 (22%)]\tLoss: 0.046204\n",
            " 33%|███▎      | 30/91 [00:29<01:00,  1.01it/s]INFO:pv_vision.nn.modelhandler:Train Epoch: 22 [480/1453 (33%)]\tLoss: 0.024806\n",
            " 44%|████▍     | 40/91 [00:39<00:50,  1.01it/s]INFO:pv_vision.nn.modelhandler:Train Epoch: 22 [640/1453 (44%)]\tLoss: 0.034250\n",
            " 55%|█████▍    | 50/91 [00:49<00:40,  1.01it/s]INFO:pv_vision.nn.modelhandler:Train Epoch: 22 [800/1453 (55%)]\tLoss: 0.033321\n",
            " 66%|██████▌   | 60/91 [00:59<00:30,  1.01it/s]INFO:pv_vision.nn.modelhandler:Train Epoch: 22 [960/1453 (66%)]\tLoss: 0.048355\n",
            " 77%|███████▋  | 70/91 [01:09<00:20,  1.01it/s]INFO:pv_vision.nn.modelhandler:Train Epoch: 22 [1120/1453 (77%)]\tLoss: 0.044619\n",
            " 88%|████████▊ | 80/91 [01:20<00:10,  1.01it/s]INFO:pv_vision.nn.modelhandler:Train Epoch: 22 [1280/1453 (88%)]\tLoss: 0.032020\n",
            " 99%|█████████▉| 90/91 [01:30<00:00,  1.01it/s]INFO:pv_vision.nn.modelhandler:Train Epoch: 22 [1170/1453 (99%)]\tLoss: 0.033009\n",
            "100%|██████████| 91/91 [01:31<00:00,  1.01s/it]\n",
            "INFO:pv_vision.nn.modelhandler:Saved model at epoch 22\n",
            "100%|██████████| 6/6 [00:02<00:00,  2.01it/s]\n",
            "INFO:pv_vision.nn.modelhandler:Val epoch: 22 \tAverage loss: 0.0717\n"
          ]
        },
        {
          "output_type": "stream",
          "name": "stdout",
          "text": [
            "Loss: 0.0368 (train) | 0.0717 (val)\n",
            "Epoch 23 / 42\n",
            "----------\n"
          ]
        },
        {
          "output_type": "stream",
          "name": "stderr",
          "text": [
            "  0%|          | 0/91 [00:00<?, ?it/s]INFO:pv_vision.nn.modelhandler:Train Epoch: 23 [0/1453 (0%)]\tLoss: 0.037287\n",
            " 11%|█         | 10/91 [00:09<01:20,  1.01it/s]INFO:pv_vision.nn.modelhandler:Train Epoch: 23 [160/1453 (11%)]\tLoss: 0.052427\n",
            " 22%|██▏       | 20/91 [00:19<01:10,  1.01it/s]INFO:pv_vision.nn.modelhandler:Train Epoch: 23 [320/1453 (22%)]\tLoss: 0.037923\n",
            " 33%|███▎      | 30/91 [00:29<01:00,  1.01it/s]INFO:pv_vision.nn.modelhandler:Train Epoch: 23 [480/1453 (33%)]\tLoss: 0.029033\n",
            " 44%|████▍     | 40/91 [00:39<00:50,  1.01it/s]INFO:pv_vision.nn.modelhandler:Train Epoch: 23 [640/1453 (44%)]\tLoss: 0.058357\n",
            " 55%|█████▍    | 50/91 [00:49<00:40,  1.01it/s]INFO:pv_vision.nn.modelhandler:Train Epoch: 23 [800/1453 (55%)]\tLoss: 0.032170\n",
            " 66%|██████▌   | 60/91 [00:59<00:30,  1.01it/s]INFO:pv_vision.nn.modelhandler:Train Epoch: 23 [960/1453 (66%)]\tLoss: 0.033716\n",
            " 77%|███████▋  | 70/91 [01:10<00:20,  1.01it/s]INFO:pv_vision.nn.modelhandler:Train Epoch: 23 [1120/1453 (77%)]\tLoss: 0.035883\n",
            " 88%|████████▊ | 80/91 [01:20<00:10,  1.01it/s]INFO:pv_vision.nn.modelhandler:Train Epoch: 23 [1280/1453 (88%)]\tLoss: 0.042237\n",
            " 99%|█████████▉| 90/91 [01:30<00:00,  1.01it/s]INFO:pv_vision.nn.modelhandler:Train Epoch: 23 [1170/1453 (99%)]\tLoss: 0.024897\n",
            "100%|██████████| 91/91 [01:31<00:00,  1.01s/it]\n",
            "INFO:pv_vision.nn.modelhandler:Saved model at epoch 23\n",
            "100%|██████████| 6/6 [00:03<00:00,  1.77it/s]\n",
            "INFO:pv_vision.nn.modelhandler:Val epoch: 23 \tAverage loss: 0.0718\n"
          ]
        },
        {
          "output_type": "stream",
          "name": "stdout",
          "text": [
            "Loss: 0.0369 (train) | 0.0718 (val)\n",
            "Epoch 24 / 42\n",
            "----------\n"
          ]
        },
        {
          "output_type": "stream",
          "name": "stderr",
          "text": [
            "  0%|          | 0/91 [00:00<?, ?it/s]INFO:pv_vision.nn.modelhandler:Train Epoch: 24 [0/1453 (0%)]\tLoss: 0.034326\n",
            " 11%|█         | 10/91 [00:09<01:19,  1.02it/s]INFO:pv_vision.nn.modelhandler:Train Epoch: 24 [160/1453 (11%)]\tLoss: 0.036421\n",
            " 22%|██▏       | 20/91 [00:19<01:09,  1.01it/s]INFO:pv_vision.nn.modelhandler:Train Epoch: 24 [320/1453 (22%)]\tLoss: 0.029109\n",
            " 33%|███▎      | 30/91 [00:29<01:00,  1.01it/s]INFO:pv_vision.nn.modelhandler:Train Epoch: 24 [480/1453 (33%)]\tLoss: 0.043632\n",
            " 44%|████▍     | 40/91 [00:39<00:50,  1.01it/s]INFO:pv_vision.nn.modelhandler:Train Epoch: 24 [640/1453 (44%)]\tLoss: 0.029467\n",
            " 55%|█████▍    | 50/91 [00:49<00:40,  1.01it/s]INFO:pv_vision.nn.modelhandler:Train Epoch: 24 [800/1453 (55%)]\tLoss: 0.050380\n",
            " 66%|██████▌   | 60/91 [00:59<00:30,  1.01it/s]INFO:pv_vision.nn.modelhandler:Train Epoch: 24 [960/1453 (66%)]\tLoss: 0.028379\n",
            " 77%|███████▋  | 70/91 [01:09<00:20,  1.01it/s]INFO:pv_vision.nn.modelhandler:Train Epoch: 24 [1120/1453 (77%)]\tLoss: 0.033087\n",
            " 88%|████████▊ | 80/91 [01:19<00:10,  1.01it/s]INFO:pv_vision.nn.modelhandler:Train Epoch: 24 [1280/1453 (88%)]\tLoss: 0.022904\n",
            " 99%|█████████▉| 90/91 [01:30<00:00,  1.01it/s]INFO:pv_vision.nn.modelhandler:Train Epoch: 24 [1170/1453 (99%)]\tLoss: 0.022678\n",
            "100%|██████████| 91/91 [01:31<00:00,  1.01s/it]\n",
            "INFO:pv_vision.nn.modelhandler:Saved model at epoch 24\n",
            "100%|██████████| 6/6 [00:03<00:00,  1.97it/s]\n",
            "INFO:pv_vision.nn.modelhandler:Val epoch: 24 \tAverage loss: 0.0718\n"
          ]
        },
        {
          "output_type": "stream",
          "name": "stdout",
          "text": [
            "Loss: 0.0369 (train) | 0.0718 (val)\n",
            "Epoch 25 / 42\n",
            "----------\n"
          ]
        },
        {
          "output_type": "stream",
          "name": "stderr",
          "text": [
            "  0%|          | 0/91 [00:00<?, ?it/s]INFO:pv_vision.nn.modelhandler:Train Epoch: 25 [0/1453 (0%)]\tLoss: 0.028868\n",
            " 11%|█         | 10/91 [00:09<01:19,  1.02it/s]INFO:pv_vision.nn.modelhandler:Train Epoch: 25 [160/1453 (11%)]\tLoss: 0.052206\n",
            " 22%|██▏       | 20/91 [00:19<01:10,  1.01it/s]INFO:pv_vision.nn.modelhandler:Train Epoch: 25 [320/1453 (22%)]\tLoss: 0.031912\n",
            " 33%|███▎      | 30/91 [00:29<01:00,  1.01it/s]INFO:pv_vision.nn.modelhandler:Train Epoch: 25 [480/1453 (33%)]\tLoss: 0.037818\n",
            " 44%|████▍     | 40/91 [00:39<00:50,  1.01it/s]INFO:pv_vision.nn.modelhandler:Train Epoch: 25 [640/1453 (44%)]\tLoss: 0.061504\n",
            " 55%|█████▍    | 50/91 [00:49<00:40,  1.01it/s]INFO:pv_vision.nn.modelhandler:Train Epoch: 25 [800/1453 (55%)]\tLoss: 0.029615\n",
            " 66%|██████▌   | 60/91 [00:59<00:30,  1.01it/s]INFO:pv_vision.nn.modelhandler:Train Epoch: 25 [960/1453 (66%)]\tLoss: 0.035507\n",
            " 77%|███████▋  | 70/91 [01:10<00:20,  1.01it/s]INFO:pv_vision.nn.modelhandler:Train Epoch: 25 [1120/1453 (77%)]\tLoss: 0.046493\n",
            " 88%|████████▊ | 80/91 [01:20<00:10,  1.01it/s]INFO:pv_vision.nn.modelhandler:Train Epoch: 25 [1280/1453 (88%)]\tLoss: 0.028494\n",
            " 99%|█████████▉| 90/91 [01:30<00:00,  1.01it/s]INFO:pv_vision.nn.modelhandler:Train Epoch: 25 [1170/1453 (99%)]\tLoss: 0.058387\n",
            "100%|██████████| 91/91 [01:31<00:00,  1.01s/it]\n",
            "INFO:pv_vision.nn.modelhandler:Saved model at epoch 25\n",
            "100%|██████████| 6/6 [00:02<00:00,  2.02it/s]\n",
            "INFO:pv_vision.nn.modelhandler:Val epoch: 25 \tAverage loss: 0.0718\n"
          ]
        },
        {
          "output_type": "stream",
          "name": "stdout",
          "text": [
            "Loss: 0.0369 (train) | 0.0718 (val)\n",
            "Epoch 26 / 42\n",
            "----------\n"
          ]
        },
        {
          "output_type": "stream",
          "name": "stderr",
          "text": [
            "  0%|          | 0/91 [00:00<?, ?it/s]INFO:pv_vision.nn.modelhandler:Train Epoch: 26 [0/1453 (0%)]\tLoss: 0.046824\n",
            " 11%|█         | 10/91 [00:09<01:19,  1.02it/s]INFO:pv_vision.nn.modelhandler:Train Epoch: 26 [160/1453 (11%)]\tLoss: 0.031832\n",
            " 22%|██▏       | 20/91 [00:19<01:10,  1.01it/s]INFO:pv_vision.nn.modelhandler:Train Epoch: 26 [320/1453 (22%)]\tLoss: 0.029387\n",
            " 33%|███▎      | 30/91 [00:29<01:00,  1.01it/s]INFO:pv_vision.nn.modelhandler:Train Epoch: 26 [480/1453 (33%)]\tLoss: 0.022953\n",
            " 44%|████▍     | 40/91 [00:39<00:50,  1.01it/s]INFO:pv_vision.nn.modelhandler:Train Epoch: 26 [640/1453 (44%)]\tLoss: 0.043034\n",
            " 55%|█████▍    | 50/91 [00:49<00:40,  1.01it/s]INFO:pv_vision.nn.modelhandler:Train Epoch: 26 [800/1453 (55%)]\tLoss: 0.028451\n",
            " 66%|██████▌   | 60/91 [00:59<00:30,  1.01it/s]INFO:pv_vision.nn.modelhandler:Train Epoch: 26 [960/1453 (66%)]\tLoss: 0.026789\n",
            " 77%|███████▋  | 70/91 [01:09<00:20,  1.01it/s]INFO:pv_vision.nn.modelhandler:Train Epoch: 26 [1120/1453 (77%)]\tLoss: 0.031315\n",
            " 88%|████████▊ | 80/91 [01:19<00:10,  1.01it/s]INFO:pv_vision.nn.modelhandler:Train Epoch: 26 [1280/1453 (88%)]\tLoss: 0.056919\n",
            " 99%|█████████▉| 90/91 [01:30<00:00,  1.01it/s]INFO:pv_vision.nn.modelhandler:Train Epoch: 26 [1170/1453 (99%)]\tLoss: 0.031265\n",
            "100%|██████████| 91/91 [01:31<00:00,  1.01s/it]\n",
            "INFO:pv_vision.nn.modelhandler:Saved model at epoch 26\n",
            "100%|██████████| 6/6 [00:03<00:00,  1.73it/s]\n",
            "INFO:pv_vision.nn.modelhandler:Val epoch: 26 \tAverage loss: 0.0716\n"
          ]
        },
        {
          "output_type": "stream",
          "name": "stdout",
          "text": [
            "Loss: 0.0367 (train) | 0.0716 (val)\n",
            "Epoch 27 / 42\n",
            "----------\n"
          ]
        },
        {
          "output_type": "stream",
          "name": "stderr",
          "text": [
            "  0%|          | 0/91 [00:00<?, ?it/s]INFO:pv_vision.nn.modelhandler:Train Epoch: 27 [0/1453 (0%)]\tLoss: 0.042376\n",
            " 11%|█         | 10/91 [00:09<01:19,  1.02it/s]INFO:pv_vision.nn.modelhandler:Train Epoch: 27 [160/1453 (11%)]\tLoss: 0.020473\n",
            " 22%|██▏       | 20/91 [00:19<01:10,  1.01it/s]INFO:pv_vision.nn.modelhandler:Train Epoch: 27 [320/1453 (22%)]\tLoss: 0.046936\n",
            " 33%|███▎      | 30/91 [00:29<01:00,  1.01it/s]INFO:pv_vision.nn.modelhandler:Train Epoch: 27 [480/1453 (33%)]\tLoss: 0.016192\n",
            " 44%|████▍     | 40/91 [00:39<00:50,  1.01it/s]INFO:pv_vision.nn.modelhandler:Train Epoch: 27 [640/1453 (44%)]\tLoss: 0.034057\n",
            " 55%|█████▍    | 50/91 [00:49<00:40,  1.01it/s]INFO:pv_vision.nn.modelhandler:Train Epoch: 27 [800/1453 (55%)]\tLoss: 0.034848\n",
            " 66%|██████▌   | 60/91 [00:59<00:30,  1.01it/s]INFO:pv_vision.nn.modelhandler:Train Epoch: 27 [960/1453 (66%)]\tLoss: 0.047950\n",
            " 77%|███████▋  | 70/91 [01:09<00:20,  1.01it/s]INFO:pv_vision.nn.modelhandler:Train Epoch: 27 [1120/1453 (77%)]\tLoss: 0.035836\n",
            " 88%|████████▊ | 80/91 [01:20<00:10,  1.01it/s]INFO:pv_vision.nn.modelhandler:Train Epoch: 27 [1280/1453 (88%)]\tLoss: 0.034183\n",
            " 99%|█████████▉| 90/91 [01:30<00:00,  1.01it/s]INFO:pv_vision.nn.modelhandler:Train Epoch: 27 [1170/1453 (99%)]\tLoss: 0.029617\n",
            "100%|██████████| 91/91 [01:31<00:00,  1.01s/it]\n",
            "INFO:pv_vision.nn.modelhandler:Saved model at epoch 27\n",
            "100%|██████████| 6/6 [00:02<00:00,  2.03it/s]\n",
            "INFO:pv_vision.nn.modelhandler:Val epoch: 27 \tAverage loss: 0.0716\n"
          ]
        },
        {
          "output_type": "stream",
          "name": "stdout",
          "text": [
            "Loss: 0.0368 (train) | 0.0716 (val)\n",
            "Epoch 28 / 42\n",
            "----------\n"
          ]
        },
        {
          "output_type": "stream",
          "name": "stderr",
          "text": [
            "  0%|          | 0/91 [00:00<?, ?it/s]INFO:pv_vision.nn.modelhandler:Train Epoch: 28 [0/1453 (0%)]\tLoss: 0.048352\n",
            " 11%|█         | 10/91 [00:09<01:19,  1.02it/s]INFO:pv_vision.nn.modelhandler:Train Epoch: 28 [160/1453 (11%)]\tLoss: 0.040211\n",
            " 22%|██▏       | 20/91 [00:19<01:10,  1.01it/s]INFO:pv_vision.nn.modelhandler:Train Epoch: 28 [320/1453 (22%)]\tLoss: 0.047556\n",
            " 33%|███▎      | 30/91 [00:29<01:00,  1.01it/s]INFO:pv_vision.nn.modelhandler:Train Epoch: 28 [480/1453 (33%)]\tLoss: 0.055324\n",
            " 44%|████▍     | 40/91 [00:39<00:50,  1.01it/s]INFO:pv_vision.nn.modelhandler:Train Epoch: 28 [640/1453 (44%)]\tLoss: 0.024623\n",
            " 55%|█████▍    | 50/91 [00:49<00:40,  1.01it/s]INFO:pv_vision.nn.modelhandler:Train Epoch: 28 [800/1453 (55%)]\tLoss: 0.034032\n",
            " 66%|██████▌   | 60/91 [00:59<00:30,  1.01it/s]INFO:pv_vision.nn.modelhandler:Train Epoch: 28 [960/1453 (66%)]\tLoss: 0.030273\n",
            " 77%|███████▋  | 70/91 [01:09<00:20,  1.01it/s]INFO:pv_vision.nn.modelhandler:Train Epoch: 28 [1120/1453 (77%)]\tLoss: 0.036748\n",
            " 88%|████████▊ | 80/91 [01:20<00:10,  1.01it/s]INFO:pv_vision.nn.modelhandler:Train Epoch: 28 [1280/1453 (88%)]\tLoss: 0.055342\n",
            " 99%|█████████▉| 90/91 [01:30<00:00,  1.01it/s]INFO:pv_vision.nn.modelhandler:Train Epoch: 28 [1170/1453 (99%)]\tLoss: 0.021673\n",
            "100%|██████████| 91/91 [01:31<00:00,  1.01s/it]\n",
            "INFO:pv_vision.nn.modelhandler:Saved model at epoch 28\n",
            "100%|██████████| 6/6 [00:03<00:00,  1.96it/s]\n",
            "INFO:pv_vision.nn.modelhandler:Val epoch: 28 \tAverage loss: 0.0717\n"
          ]
        },
        {
          "output_type": "stream",
          "name": "stdout",
          "text": [
            "Loss: 0.0369 (train) | 0.0717 (val)\n",
            "Epoch 29 / 42\n",
            "----------\n"
          ]
        },
        {
          "output_type": "stream",
          "name": "stderr",
          "text": [
            "  0%|          | 0/91 [00:00<?, ?it/s]INFO:pv_vision.nn.modelhandler:Train Epoch: 29 [0/1453 (0%)]\tLoss: 0.017628\n",
            " 11%|█         | 10/91 [00:09<01:19,  1.01it/s]INFO:pv_vision.nn.modelhandler:Train Epoch: 29 [160/1453 (11%)]\tLoss: 0.046316\n",
            " 22%|██▏       | 20/91 [00:19<01:10,  1.01it/s]INFO:pv_vision.nn.modelhandler:Train Epoch: 29 [320/1453 (22%)]\tLoss: 0.047777\n",
            " 33%|███▎      | 30/91 [00:29<01:00,  1.01it/s]INFO:pv_vision.nn.modelhandler:Train Epoch: 29 [480/1453 (33%)]\tLoss: 0.028936\n",
            " 44%|████▍     | 40/91 [00:39<00:50,  1.01it/s]INFO:pv_vision.nn.modelhandler:Train Epoch: 29 [640/1453 (44%)]\tLoss: 0.029924\n",
            " 55%|█████▍    | 50/91 [00:49<00:40,  1.01it/s]INFO:pv_vision.nn.modelhandler:Train Epoch: 29 [800/1453 (55%)]\tLoss: 0.031925\n",
            " 66%|██████▌   | 60/91 [00:59<00:30,  1.01it/s]INFO:pv_vision.nn.modelhandler:Train Epoch: 29 [960/1453 (66%)]\tLoss: 0.029601\n",
            " 77%|███████▋  | 70/91 [01:10<00:20,  1.01it/s]INFO:pv_vision.nn.modelhandler:Train Epoch: 29 [1120/1453 (77%)]\tLoss: 0.026374\n",
            " 88%|████████▊ | 80/91 [01:20<00:10,  1.01it/s]INFO:pv_vision.nn.modelhandler:Train Epoch: 29 [1280/1453 (88%)]\tLoss: 0.038170\n",
            " 99%|█████████▉| 90/91 [01:30<00:00,  1.01it/s]INFO:pv_vision.nn.modelhandler:Train Epoch: 29 [1170/1453 (99%)]\tLoss: 0.044290\n",
            "100%|██████████| 91/91 [01:31<00:00,  1.01s/it]\n",
            "INFO:pv_vision.nn.modelhandler:Saved model at epoch 29\n",
            "100%|██████████| 6/6 [00:03<00:00,  1.74it/s]\n",
            "INFO:pv_vision.nn.modelhandler:Val epoch: 29 \tAverage loss: 0.0716\n"
          ]
        },
        {
          "output_type": "stream",
          "name": "stdout",
          "text": [
            "Loss: 0.0367 (train) | 0.0716 (val)\n",
            "Epoch 30 / 42\n",
            "----------\n"
          ]
        },
        {
          "output_type": "stream",
          "name": "stderr",
          "text": [
            "  0%|          | 0/91 [00:00<?, ?it/s]INFO:pv_vision.nn.modelhandler:Train Epoch: 30 [0/1453 (0%)]\tLoss: 0.028219\n",
            " 11%|█         | 10/91 [00:09<01:19,  1.02it/s]INFO:pv_vision.nn.modelhandler:Train Epoch: 30 [160/1453 (11%)]\tLoss: 0.035819\n",
            " 22%|██▏       | 20/91 [00:19<01:10,  1.01it/s]INFO:pv_vision.nn.modelhandler:Train Epoch: 30 [320/1453 (22%)]\tLoss: 0.047468\n",
            " 33%|███▎      | 30/91 [00:29<01:00,  1.01it/s]INFO:pv_vision.nn.modelhandler:Train Epoch: 30 [480/1453 (33%)]\tLoss: 0.031655\n",
            " 44%|████▍     | 40/91 [00:39<00:50,  1.01it/s]INFO:pv_vision.nn.modelhandler:Train Epoch: 30 [640/1453 (44%)]\tLoss: 0.031545\n",
            " 55%|█████▍    | 50/91 [00:49<00:40,  1.01it/s]INFO:pv_vision.nn.modelhandler:Train Epoch: 30 [800/1453 (55%)]\tLoss: 0.034840\n",
            " 66%|██████▌   | 60/91 [01:00<00:30,  1.01it/s]INFO:pv_vision.nn.modelhandler:Train Epoch: 30 [960/1453 (66%)]\tLoss: 0.045482\n",
            " 77%|███████▋  | 70/91 [01:10<00:20,  1.01it/s]INFO:pv_vision.nn.modelhandler:Train Epoch: 30 [1120/1453 (77%)]\tLoss: 0.040240\n",
            " 88%|████████▊ | 80/91 [01:20<00:10,  1.01it/s]INFO:pv_vision.nn.modelhandler:Train Epoch: 30 [1280/1453 (88%)]\tLoss: 0.039828\n",
            " 99%|█████████▉| 90/91 [01:30<00:00,  1.01it/s]INFO:pv_vision.nn.modelhandler:Train Epoch: 30 [1170/1453 (99%)]\tLoss: 0.022664\n",
            "100%|██████████| 91/91 [01:31<00:00,  1.01s/it]\n",
            "INFO:pv_vision.nn.modelhandler:Saved model at epoch 30\n",
            "100%|██████████| 6/6 [00:03<00:00,  1.73it/s]\n",
            "INFO:pv_vision.nn.modelhandler:Val epoch: 30 \tAverage loss: 0.0717\n"
          ]
        },
        {
          "output_type": "stream",
          "name": "stdout",
          "text": [
            "Loss: 0.0369 (train) | 0.0717 (val)\n",
            "Epoch 31 / 42\n",
            "----------\n"
          ]
        },
        {
          "output_type": "stream",
          "name": "stderr",
          "text": [
            "  0%|          | 0/91 [00:00<?, ?it/s]INFO:pv_vision.nn.modelhandler:Train Epoch: 31 [0/1453 (0%)]\tLoss: 0.041853\n",
            " 11%|█         | 10/91 [00:09<01:19,  1.02it/s]INFO:pv_vision.nn.modelhandler:Train Epoch: 31 [160/1453 (11%)]\tLoss: 0.051080\n",
            " 22%|██▏       | 20/91 [00:19<01:10,  1.01it/s]INFO:pv_vision.nn.modelhandler:Train Epoch: 31 [320/1453 (22%)]\tLoss: 0.032822\n",
            " 33%|███▎      | 30/91 [00:29<01:00,  1.01it/s]INFO:pv_vision.nn.modelhandler:Train Epoch: 31 [480/1453 (33%)]\tLoss: 0.037472\n",
            " 44%|████▍     | 40/91 [00:39<00:50,  1.01it/s]INFO:pv_vision.nn.modelhandler:Train Epoch: 31 [640/1453 (44%)]\tLoss: 0.018501\n",
            " 55%|█████▍    | 50/91 [00:49<00:40,  1.01it/s]INFO:pv_vision.nn.modelhandler:Train Epoch: 31 [800/1453 (55%)]\tLoss: 0.046236\n",
            " 66%|██████▌   | 60/91 [01:00<00:30,  1.01it/s]INFO:pv_vision.nn.modelhandler:Train Epoch: 31 [960/1453 (66%)]\tLoss: 0.027861\n",
            " 77%|███████▋  | 70/91 [01:10<00:20,  1.01it/s]INFO:pv_vision.nn.modelhandler:Train Epoch: 31 [1120/1453 (77%)]\tLoss: 0.036628\n",
            " 88%|████████▊ | 80/91 [01:20<00:10,  1.01it/s]INFO:pv_vision.nn.modelhandler:Train Epoch: 31 [1280/1453 (88%)]\tLoss: 0.048573\n",
            " 99%|█████████▉| 90/91 [01:30<00:00,  1.01it/s]INFO:pv_vision.nn.modelhandler:Train Epoch: 31 [1170/1453 (99%)]\tLoss: 0.022979\n",
            "100%|██████████| 91/91 [01:31<00:00,  1.01s/it]\n",
            "INFO:pv_vision.nn.modelhandler:Saved model at epoch 31\n",
            "100%|██████████| 6/6 [00:03<00:00,  1.83it/s]\n",
            "INFO:pv_vision.nn.modelhandler:Val epoch: 31 \tAverage loss: 0.0715\n"
          ]
        },
        {
          "output_type": "stream",
          "name": "stdout",
          "text": [
            "Loss: 0.0367 (train) | 0.0715 (val)\n",
            "Epoch 32 / 42\n",
            "----------\n"
          ]
        },
        {
          "output_type": "stream",
          "name": "stderr",
          "text": [
            "  0%|          | 0/91 [00:00<?, ?it/s]INFO:pv_vision.nn.modelhandler:Train Epoch: 32 [0/1453 (0%)]\tLoss: 0.028566\n",
            " 11%|█         | 10/91 [00:09<01:19,  1.02it/s]INFO:pv_vision.nn.modelhandler:Train Epoch: 32 [160/1453 (11%)]\tLoss: 0.029198\n",
            " 22%|██▏       | 20/91 [00:19<01:10,  1.01it/s]INFO:pv_vision.nn.modelhandler:Train Epoch: 32 [320/1453 (22%)]\tLoss: 0.033193\n",
            " 33%|███▎      | 30/91 [00:29<01:00,  1.01it/s]INFO:pv_vision.nn.modelhandler:Train Epoch: 32 [480/1453 (33%)]\tLoss: 0.042009\n",
            " 44%|████▍     | 40/91 [00:39<00:50,  1.01it/s]INFO:pv_vision.nn.modelhandler:Train Epoch: 32 [640/1453 (44%)]\tLoss: 0.039530\n",
            " 55%|█████▍    | 50/91 [00:49<00:40,  1.01it/s]INFO:pv_vision.nn.modelhandler:Train Epoch: 32 [800/1453 (55%)]\tLoss: 0.032770\n",
            " 66%|██████▌   | 60/91 [00:59<00:30,  1.01it/s]INFO:pv_vision.nn.modelhandler:Train Epoch: 32 [960/1453 (66%)]\tLoss: 0.060040\n",
            " 77%|███████▋  | 70/91 [01:09<00:20,  1.01it/s]INFO:pv_vision.nn.modelhandler:Train Epoch: 32 [1120/1453 (77%)]\tLoss: 0.043448\n",
            " 88%|████████▊ | 80/91 [01:20<00:10,  1.01it/s]INFO:pv_vision.nn.modelhandler:Train Epoch: 32 [1280/1453 (88%)]\tLoss: 0.045974\n",
            " 99%|█████████▉| 90/91 [01:30<00:00,  1.01it/s]INFO:pv_vision.nn.modelhandler:Train Epoch: 32 [1170/1453 (99%)]\tLoss: 0.049212\n",
            "100%|██████████| 91/91 [01:31<00:00,  1.01s/it]\n",
            "INFO:pv_vision.nn.modelhandler:Saved model at epoch 32\n",
            "100%|██████████| 6/6 [00:03<00:00,  1.91it/s]\n",
            "INFO:pv_vision.nn.modelhandler:Val epoch: 32 \tAverage loss: 0.0716\n"
          ]
        },
        {
          "output_type": "stream",
          "name": "stdout",
          "text": [
            "Loss: 0.0367 (train) | 0.0716 (val)\n",
            "Epoch 33 / 42\n",
            "----------\n"
          ]
        },
        {
          "output_type": "stream",
          "name": "stderr",
          "text": [
            "  0%|          | 0/91 [00:00<?, ?it/s]INFO:pv_vision.nn.modelhandler:Train Epoch: 33 [0/1453 (0%)]\tLoss: 0.035899\n",
            " 11%|█         | 10/91 [00:09<01:19,  1.02it/s]INFO:pv_vision.nn.modelhandler:Train Epoch: 33 [160/1453 (11%)]\tLoss: 0.045487\n",
            " 22%|██▏       | 20/91 [00:19<01:10,  1.01it/s]INFO:pv_vision.nn.modelhandler:Train Epoch: 33 [320/1453 (22%)]\tLoss: 0.038184\n",
            " 33%|███▎      | 30/91 [00:29<01:00,  1.01it/s]INFO:pv_vision.nn.modelhandler:Train Epoch: 33 [480/1453 (33%)]\tLoss: 0.039411\n",
            " 44%|████▍     | 40/91 [00:39<00:50,  1.01it/s]INFO:pv_vision.nn.modelhandler:Train Epoch: 33 [640/1453 (44%)]\tLoss: 0.025349\n",
            " 55%|█████▍    | 50/91 [00:49<00:40,  1.01it/s]INFO:pv_vision.nn.modelhandler:Train Epoch: 33 [800/1453 (55%)]\tLoss: 0.039599\n",
            " 66%|██████▌   | 60/91 [00:59<00:30,  1.01it/s]INFO:pv_vision.nn.modelhandler:Train Epoch: 33 [960/1453 (66%)]\tLoss: 0.049239\n",
            " 77%|███████▋  | 70/91 [01:10<00:20,  1.01it/s]INFO:pv_vision.nn.modelhandler:Train Epoch: 33 [1120/1453 (77%)]\tLoss: 0.035233\n",
            " 88%|████████▊ | 80/91 [01:20<00:10,  1.01it/s]INFO:pv_vision.nn.modelhandler:Train Epoch: 33 [1280/1453 (88%)]\tLoss: 0.042670\n",
            " 99%|█████████▉| 90/91 [01:30<00:00,  1.01it/s]INFO:pv_vision.nn.modelhandler:Train Epoch: 33 [1170/1453 (99%)]\tLoss: 0.026268\n",
            "100%|██████████| 91/91 [01:31<00:00,  1.01s/it]\n",
            "INFO:pv_vision.nn.modelhandler:Saved model at epoch 33\n",
            "100%|██████████| 6/6 [00:02<00:00,  2.03it/s]\n",
            "INFO:pv_vision.nn.modelhandler:Val epoch: 33 \tAverage loss: 0.0723\n"
          ]
        },
        {
          "output_type": "stream",
          "name": "stdout",
          "text": [
            "Loss: 0.0369 (train) | 0.0723 (val)\n",
            "Epoch 34 / 42\n",
            "----------\n"
          ]
        },
        {
          "output_type": "stream",
          "name": "stderr",
          "text": [
            "  0%|          | 0/91 [00:00<?, ?it/s]INFO:pv_vision.nn.modelhandler:Train Epoch: 34 [0/1453 (0%)]\tLoss: 0.027146\n",
            " 11%|█         | 10/91 [00:09<01:20,  1.01it/s]INFO:pv_vision.nn.modelhandler:Train Epoch: 34 [160/1453 (11%)]\tLoss: 0.037568\n",
            " 22%|██▏       | 20/91 [00:19<01:10,  1.01it/s]INFO:pv_vision.nn.modelhandler:Train Epoch: 34 [320/1453 (22%)]\tLoss: 0.033674\n",
            " 33%|███▎      | 30/91 [00:29<01:00,  1.01it/s]INFO:pv_vision.nn.modelhandler:Train Epoch: 34 [480/1453 (33%)]\tLoss: 0.039436\n",
            " 44%|████▍     | 40/91 [00:39<00:50,  1.01it/s]INFO:pv_vision.nn.modelhandler:Train Epoch: 34 [640/1453 (44%)]\tLoss: 0.065920\n",
            " 55%|█████▍    | 50/91 [00:49<00:40,  1.01it/s]INFO:pv_vision.nn.modelhandler:Train Epoch: 34 [800/1453 (55%)]\tLoss: 0.037246\n",
            " 66%|██████▌   | 60/91 [00:59<00:30,  1.01it/s]INFO:pv_vision.nn.modelhandler:Train Epoch: 34 [960/1453 (66%)]\tLoss: 0.036114\n",
            " 77%|███████▋  | 70/91 [01:10<00:20,  1.01it/s]INFO:pv_vision.nn.modelhandler:Train Epoch: 34 [1120/1453 (77%)]\tLoss: 0.044422\n",
            " 88%|████████▊ | 80/91 [01:20<00:10,  1.01it/s]INFO:pv_vision.nn.modelhandler:Train Epoch: 34 [1280/1453 (88%)]\tLoss: 0.037250\n",
            " 99%|█████████▉| 90/91 [01:30<00:00,  1.01it/s]INFO:pv_vision.nn.modelhandler:Train Epoch: 34 [1170/1453 (99%)]\tLoss: 0.034481\n",
            "100%|██████████| 91/91 [01:31<00:00,  1.01s/it]\n",
            "INFO:pv_vision.nn.modelhandler:Saved model at epoch 34\n",
            "100%|██████████| 6/6 [00:02<00:00,  2.02it/s]\n",
            "INFO:pv_vision.nn.modelhandler:Val epoch: 34 \tAverage loss: 0.0718\n"
          ]
        },
        {
          "output_type": "stream",
          "name": "stdout",
          "text": [
            "Loss: 0.0369 (train) | 0.0718 (val)\n",
            "Epoch 35 / 42\n",
            "----------\n"
          ]
        },
        {
          "output_type": "stream",
          "name": "stderr",
          "text": [
            "  0%|          | 0/91 [00:00<?, ?it/s]INFO:pv_vision.nn.modelhandler:Train Epoch: 35 [0/1453 (0%)]\tLoss: 0.037395\n",
            " 11%|█         | 10/91 [00:09<01:20,  1.01it/s]INFO:pv_vision.nn.modelhandler:Train Epoch: 35 [160/1453 (11%)]\tLoss: 0.022672\n",
            " 22%|██▏       | 20/91 [00:19<01:10,  1.01it/s]INFO:pv_vision.nn.modelhandler:Train Epoch: 35 [320/1453 (22%)]\tLoss: 0.051931\n",
            " 33%|███▎      | 30/91 [00:29<01:00,  1.01it/s]INFO:pv_vision.nn.modelhandler:Train Epoch: 35 [480/1453 (33%)]\tLoss: 0.042139\n",
            " 44%|████▍     | 40/91 [00:39<00:50,  1.01it/s]INFO:pv_vision.nn.modelhandler:Train Epoch: 35 [640/1453 (44%)]\tLoss: 0.031087\n",
            " 55%|█████▍    | 50/91 [00:49<00:40,  1.01it/s]INFO:pv_vision.nn.modelhandler:Train Epoch: 35 [800/1453 (55%)]\tLoss: 0.024520\n",
            " 66%|██████▌   | 60/91 [00:59<00:30,  1.01it/s]INFO:pv_vision.nn.modelhandler:Train Epoch: 35 [960/1453 (66%)]\tLoss: 0.032724\n",
            " 77%|███████▋  | 70/91 [01:09<00:20,  1.01it/s]INFO:pv_vision.nn.modelhandler:Train Epoch: 35 [1120/1453 (77%)]\tLoss: 0.030811\n",
            " 88%|████████▊ | 80/91 [01:20<00:10,  1.01it/s]INFO:pv_vision.nn.modelhandler:Train Epoch: 35 [1280/1453 (88%)]\tLoss: 0.033228\n",
            " 99%|█████████▉| 90/91 [01:30<00:00,  1.01it/s]INFO:pv_vision.nn.modelhandler:Train Epoch: 35 [1170/1453 (99%)]\tLoss: 0.044356\n",
            "100%|██████████| 91/91 [01:31<00:00,  1.01s/it]\n",
            "INFO:pv_vision.nn.modelhandler:Saved model at epoch 35\n",
            "100%|██████████| 6/6 [00:02<00:00,  2.04it/s]\n",
            "INFO:pv_vision.nn.modelhandler:Val epoch: 35 \tAverage loss: 0.0717\n"
          ]
        },
        {
          "output_type": "stream",
          "name": "stdout",
          "text": [
            "Loss: 0.0368 (train) | 0.0717 (val)\n",
            "Epoch 36 / 42\n",
            "----------\n"
          ]
        },
        {
          "output_type": "stream",
          "name": "stderr",
          "text": [
            "  0%|          | 0/91 [00:00<?, ?it/s]INFO:pv_vision.nn.modelhandler:Train Epoch: 36 [0/1453 (0%)]\tLoss: 0.037878\n",
            " 11%|█         | 10/91 [00:09<01:19,  1.02it/s]INFO:pv_vision.nn.modelhandler:Train Epoch: 36 [160/1453 (11%)]\tLoss: 0.033950\n",
            " 22%|██▏       | 20/91 [00:19<01:10,  1.01it/s]INFO:pv_vision.nn.modelhandler:Train Epoch: 36 [320/1453 (22%)]\tLoss: 0.030776\n",
            " 33%|███▎      | 30/91 [00:29<01:00,  1.01it/s]INFO:pv_vision.nn.modelhandler:Train Epoch: 36 [480/1453 (33%)]\tLoss: 0.020639\n",
            " 44%|████▍     | 40/91 [00:39<00:50,  1.01it/s]INFO:pv_vision.nn.modelhandler:Train Epoch: 36 [640/1453 (44%)]\tLoss: 0.040445\n",
            " 55%|█████▍    | 50/91 [00:49<00:40,  1.01it/s]INFO:pv_vision.nn.modelhandler:Train Epoch: 36 [800/1453 (55%)]\tLoss: 0.023383\n",
            " 66%|██████▌   | 60/91 [00:59<00:30,  1.01it/s]INFO:pv_vision.nn.modelhandler:Train Epoch: 36 [960/1453 (66%)]\tLoss: 0.031147\n",
            " 77%|███████▋  | 70/91 [01:10<00:20,  1.01it/s]INFO:pv_vision.nn.modelhandler:Train Epoch: 36 [1120/1453 (77%)]\tLoss: 0.037133\n",
            " 88%|████████▊ | 80/91 [01:20<00:10,  1.01it/s]INFO:pv_vision.nn.modelhandler:Train Epoch: 36 [1280/1453 (88%)]\tLoss: 0.044022\n",
            " 99%|█████████▉| 90/91 [01:30<00:00,  1.01it/s]INFO:pv_vision.nn.modelhandler:Train Epoch: 36 [1170/1453 (99%)]\tLoss: 0.032594\n",
            "100%|██████████| 91/91 [01:31<00:00,  1.01s/it]\n",
            "INFO:pv_vision.nn.modelhandler:Saved model at epoch 36\n",
            "100%|██████████| 6/6 [00:03<00:00,  1.91it/s]\n",
            "INFO:pv_vision.nn.modelhandler:Val epoch: 36 \tAverage loss: 0.0718\n"
          ]
        },
        {
          "output_type": "stream",
          "name": "stdout",
          "text": [
            "Loss: 0.0368 (train) | 0.0718 (val)\n",
            "Epoch 37 / 42\n",
            "----------\n"
          ]
        },
        {
          "output_type": "stream",
          "name": "stderr",
          "text": [
            "  0%|          | 0/91 [00:00<?, ?it/s]INFO:pv_vision.nn.modelhandler:Train Epoch: 37 [0/1453 (0%)]\tLoss: 0.037223\n",
            " 11%|█         | 10/91 [00:09<01:19,  1.02it/s]INFO:pv_vision.nn.modelhandler:Train Epoch: 37 [160/1453 (11%)]\tLoss: 0.034760\n",
            " 22%|██▏       | 20/91 [00:19<01:10,  1.01it/s]INFO:pv_vision.nn.modelhandler:Train Epoch: 37 [320/1453 (22%)]\tLoss: 0.035799\n",
            " 33%|███▎      | 30/91 [00:29<01:00,  1.01it/s]INFO:pv_vision.nn.modelhandler:Train Epoch: 37 [480/1453 (33%)]\tLoss: 0.033219\n",
            " 44%|████▍     | 40/91 [00:39<00:50,  1.01it/s]INFO:pv_vision.nn.modelhandler:Train Epoch: 37 [640/1453 (44%)]\tLoss: 0.038697\n",
            " 55%|█████▍    | 50/91 [00:49<00:40,  1.01it/s]INFO:pv_vision.nn.modelhandler:Train Epoch: 37 [800/1453 (55%)]\tLoss: 0.022099\n",
            " 66%|██████▌   | 60/91 [00:59<00:30,  1.01it/s]INFO:pv_vision.nn.modelhandler:Train Epoch: 37 [960/1453 (66%)]\tLoss: 0.025343\n",
            " 77%|███████▋  | 70/91 [01:09<00:20,  1.01it/s]INFO:pv_vision.nn.modelhandler:Train Epoch: 37 [1120/1453 (77%)]\tLoss: 0.033987\n",
            " 88%|████████▊ | 80/91 [01:20<00:10,  1.01it/s]INFO:pv_vision.nn.modelhandler:Train Epoch: 37 [1280/1453 (88%)]\tLoss: 0.030185\n",
            " 99%|█████████▉| 90/91 [01:30<00:00,  1.01it/s]INFO:pv_vision.nn.modelhandler:Train Epoch: 37 [1170/1453 (99%)]\tLoss: 0.042290\n",
            "100%|██████████| 91/91 [01:31<00:00,  1.01s/it]\n",
            "INFO:pv_vision.nn.modelhandler:Saved model at epoch 37\n",
            "100%|██████████| 6/6 [00:03<00:00,  1.95it/s]\n",
            "INFO:pv_vision.nn.modelhandler:Val epoch: 37 \tAverage loss: 0.0717\n"
          ]
        },
        {
          "output_type": "stream",
          "name": "stdout",
          "text": [
            "Loss: 0.0367 (train) | 0.0717 (val)\n",
            "Epoch 38 / 42\n",
            "----------\n"
          ]
        },
        {
          "output_type": "stream",
          "name": "stderr",
          "text": [
            "  0%|          | 0/91 [00:00<?, ?it/s]INFO:pv_vision.nn.modelhandler:Train Epoch: 38 [0/1453 (0%)]\tLoss: 0.040972\n",
            " 11%|█         | 10/91 [00:09<01:19,  1.02it/s]INFO:pv_vision.nn.modelhandler:Train Epoch: 38 [160/1453 (11%)]\tLoss: 0.026205\n",
            " 22%|██▏       | 20/91 [00:19<01:10,  1.01it/s]INFO:pv_vision.nn.modelhandler:Train Epoch: 38 [320/1453 (22%)]\tLoss: 0.036664\n",
            " 33%|███▎      | 30/91 [00:29<01:00,  1.01it/s]INFO:pv_vision.nn.modelhandler:Train Epoch: 38 [480/1453 (33%)]\tLoss: 0.028999\n",
            " 44%|████▍     | 40/91 [00:39<00:50,  1.01it/s]INFO:pv_vision.nn.modelhandler:Train Epoch: 38 [640/1453 (44%)]\tLoss: 0.029530\n",
            " 55%|█████▍    | 50/91 [00:49<00:40,  1.01it/s]INFO:pv_vision.nn.modelhandler:Train Epoch: 38 [800/1453 (55%)]\tLoss: 0.029931\n",
            " 66%|██████▌   | 60/91 [00:59<00:30,  1.01it/s]INFO:pv_vision.nn.modelhandler:Train Epoch: 38 [960/1453 (66%)]\tLoss: 0.036708\n",
            " 77%|███████▋  | 70/91 [01:10<00:20,  1.01it/s]INFO:pv_vision.nn.modelhandler:Train Epoch: 38 [1120/1453 (77%)]\tLoss: 0.026955\n",
            " 88%|████████▊ | 80/91 [01:20<00:10,  1.01it/s]INFO:pv_vision.nn.modelhandler:Train Epoch: 38 [1280/1453 (88%)]\tLoss: 0.030318\n",
            " 99%|█████████▉| 90/91 [01:30<00:00,  1.01it/s]INFO:pv_vision.nn.modelhandler:Train Epoch: 38 [1170/1453 (99%)]\tLoss: 0.034496\n",
            "100%|██████████| 91/91 [01:31<00:00,  1.01s/it]\n",
            "INFO:pv_vision.nn.modelhandler:Saved model at epoch 38\n",
            "100%|██████████| 6/6 [00:02<00:00,  2.04it/s]\n",
            "INFO:pv_vision.nn.modelhandler:Val epoch: 38 \tAverage loss: 0.0719\n"
          ]
        },
        {
          "output_type": "stream",
          "name": "stdout",
          "text": [
            "Loss: 0.0369 (train) | 0.0719 (val)\n",
            "Epoch 39 / 42\n",
            "----------\n"
          ]
        },
        {
          "output_type": "stream",
          "name": "stderr",
          "text": [
            "  0%|          | 0/91 [00:00<?, ?it/s]INFO:pv_vision.nn.modelhandler:Train Epoch: 39 [0/1453 (0%)]\tLoss: 0.028108\n",
            " 11%|█         | 10/91 [00:09<01:19,  1.02it/s]INFO:pv_vision.nn.modelhandler:Train Epoch: 39 [160/1453 (11%)]\tLoss: 0.033292\n",
            " 22%|██▏       | 20/91 [00:19<01:10,  1.01it/s]INFO:pv_vision.nn.modelhandler:Train Epoch: 39 [320/1453 (22%)]\tLoss: 0.040857\n",
            " 33%|███▎      | 30/91 [00:29<01:00,  1.01it/s]INFO:pv_vision.nn.modelhandler:Train Epoch: 39 [480/1453 (33%)]\tLoss: 0.044661\n",
            " 44%|████▍     | 40/91 [00:39<00:50,  1.01it/s]INFO:pv_vision.nn.modelhandler:Train Epoch: 39 [640/1453 (44%)]\tLoss: 0.035109\n",
            " 55%|█████▍    | 50/91 [00:49<00:40,  1.01it/s]INFO:pv_vision.nn.modelhandler:Train Epoch: 39 [800/1453 (55%)]\tLoss: 0.044808\n",
            " 66%|██████▌   | 60/91 [00:59<00:30,  1.01it/s]INFO:pv_vision.nn.modelhandler:Train Epoch: 39 [960/1453 (66%)]\tLoss: 0.018505\n",
            " 77%|███████▋  | 70/91 [01:09<00:20,  1.01it/s]INFO:pv_vision.nn.modelhandler:Train Epoch: 39 [1120/1453 (77%)]\tLoss: 0.036966\n",
            " 88%|████████▊ | 80/91 [01:20<00:10,  1.01it/s]INFO:pv_vision.nn.modelhandler:Train Epoch: 39 [1280/1453 (88%)]\tLoss: 0.030692\n",
            " 99%|█████████▉| 90/91 [01:30<00:00,  1.01it/s]INFO:pv_vision.nn.modelhandler:Train Epoch: 39 [1170/1453 (99%)]\tLoss: 0.035520\n",
            "100%|██████████| 91/91 [01:31<00:00,  1.01s/it]\n",
            "INFO:pv_vision.nn.modelhandler:Saved model at epoch 39\n",
            "100%|██████████| 6/6 [00:03<00:00,  1.73it/s]\n",
            "INFO:pv_vision.nn.modelhandler:Val epoch: 39 \tAverage loss: 0.0717\n"
          ]
        },
        {
          "output_type": "stream",
          "name": "stdout",
          "text": [
            "Loss: 0.0367 (train) | 0.0717 (val)\n",
            "Epoch 40 / 42\n",
            "----------\n"
          ]
        },
        {
          "output_type": "stream",
          "name": "stderr",
          "text": [
            "  0%|          | 0/91 [00:00<?, ?it/s]INFO:pv_vision.nn.modelhandler:Train Epoch: 40 [0/1453 (0%)]\tLoss: 0.022803\n",
            " 11%|█         | 10/91 [00:09<01:19,  1.02it/s]INFO:pv_vision.nn.modelhandler:Train Epoch: 40 [160/1453 (11%)]\tLoss: 0.034760\n",
            " 22%|██▏       | 20/91 [00:19<01:10,  1.01it/s]INFO:pv_vision.nn.modelhandler:Train Epoch: 40 [320/1453 (22%)]\tLoss: 0.041986\n",
            " 33%|███▎      | 30/91 [00:29<01:00,  1.01it/s]INFO:pv_vision.nn.modelhandler:Train Epoch: 40 [480/1453 (33%)]\tLoss: 0.026122\n",
            " 44%|████▍     | 40/91 [00:39<00:50,  1.01it/s]INFO:pv_vision.nn.modelhandler:Train Epoch: 40 [640/1453 (44%)]\tLoss: 0.031744\n",
            " 55%|█████▍    | 50/91 [00:49<00:40,  1.01it/s]INFO:pv_vision.nn.modelhandler:Train Epoch: 40 [800/1453 (55%)]\tLoss: 0.031264\n",
            " 66%|██████▌   | 60/91 [00:59<00:30,  1.01it/s]INFO:pv_vision.nn.modelhandler:Train Epoch: 40 [960/1453 (66%)]\tLoss: 0.023377\n",
            " 77%|███████▋  | 70/91 [01:10<00:20,  1.01it/s]INFO:pv_vision.nn.modelhandler:Train Epoch: 40 [1120/1453 (77%)]\tLoss: 0.049419\n",
            " 88%|████████▊ | 80/91 [01:20<00:10,  1.01it/s]INFO:pv_vision.nn.modelhandler:Train Epoch: 40 [1280/1453 (88%)]\tLoss: 0.029501\n",
            " 99%|█████████▉| 90/91 [01:30<00:00,  1.01it/s]INFO:pv_vision.nn.modelhandler:Train Epoch: 40 [1170/1453 (99%)]\tLoss: 0.042667\n",
            "100%|██████████| 91/91 [01:31<00:00,  1.01s/it]\n",
            "INFO:pv_vision.nn.modelhandler:Saved model at epoch 40\n",
            "100%|██████████| 6/6 [00:02<00:00,  2.04it/s]\n",
            "INFO:pv_vision.nn.modelhandler:Val epoch: 40 \tAverage loss: 0.0716\n"
          ]
        },
        {
          "output_type": "stream",
          "name": "stdout",
          "text": [
            "Loss: 0.0369 (train) | 0.0716 (val)\n",
            "Epoch 41 / 42\n",
            "----------\n"
          ]
        },
        {
          "output_type": "stream",
          "name": "stderr",
          "text": [
            "  0%|          | 0/91 [00:00<?, ?it/s]INFO:pv_vision.nn.modelhandler:Train Epoch: 41 [0/1453 (0%)]\tLoss: 0.052691\n",
            " 11%|█         | 10/91 [00:09<01:19,  1.02it/s]INFO:pv_vision.nn.modelhandler:Train Epoch: 41 [160/1453 (11%)]\tLoss: 0.026281\n",
            " 22%|██▏       | 20/91 [00:19<01:10,  1.01it/s]INFO:pv_vision.nn.modelhandler:Train Epoch: 41 [320/1453 (22%)]\tLoss: 0.036009\n",
            " 33%|███▎      | 30/91 [00:29<01:00,  1.01it/s]INFO:pv_vision.nn.modelhandler:Train Epoch: 41 [480/1453 (33%)]\tLoss: 0.026350\n",
            " 44%|████▍     | 40/91 [00:39<00:50,  1.01it/s]INFO:pv_vision.nn.modelhandler:Train Epoch: 41 [640/1453 (44%)]\tLoss: 0.035484\n",
            " 55%|█████▍    | 50/91 [00:49<00:40,  1.01it/s]INFO:pv_vision.nn.modelhandler:Train Epoch: 41 [800/1453 (55%)]\tLoss: 0.031018\n",
            " 66%|██████▌   | 60/91 [00:59<00:30,  1.01it/s]INFO:pv_vision.nn.modelhandler:Train Epoch: 41 [960/1453 (66%)]\tLoss: 0.043180\n",
            " 77%|███████▋  | 70/91 [01:10<00:20,  1.01it/s]INFO:pv_vision.nn.modelhandler:Train Epoch: 41 [1120/1453 (77%)]\tLoss: 0.027943\n",
            " 88%|████████▊ | 80/91 [01:20<00:10,  1.01it/s]INFO:pv_vision.nn.modelhandler:Train Epoch: 41 [1280/1453 (88%)]\tLoss: 0.030151\n",
            " 99%|█████████▉| 90/91 [01:30<00:00,  1.01it/s]INFO:pv_vision.nn.modelhandler:Train Epoch: 41 [1170/1453 (99%)]\tLoss: 0.030835\n",
            "100%|██████████| 91/91 [01:31<00:00,  1.01s/it]\n",
            "INFO:pv_vision.nn.modelhandler:Saved model at epoch 41\n",
            "100%|██████████| 6/6 [00:03<00:00,  2.00it/s]\n",
            "INFO:pv_vision.nn.modelhandler:Val epoch: 41 \tAverage loss: 0.0716\n"
          ]
        },
        {
          "output_type": "stream",
          "name": "stdout",
          "text": [
            "Loss: 0.0366 (train) | 0.0716 (val)\n",
            "Epoch 42 / 42\n",
            "----------\n"
          ]
        },
        {
          "output_type": "stream",
          "name": "stderr",
          "text": [
            "  0%|          | 0/91 [00:00<?, ?it/s]INFO:pv_vision.nn.modelhandler:Train Epoch: 42 [0/1453 (0%)]\tLoss: 0.032092\n",
            " 11%|█         | 10/91 [00:09<01:19,  1.02it/s]INFO:pv_vision.nn.modelhandler:Train Epoch: 42 [160/1453 (11%)]\tLoss: 0.035585\n",
            " 22%|██▏       | 20/91 [00:19<01:10,  1.01it/s]INFO:pv_vision.nn.modelhandler:Train Epoch: 42 [320/1453 (22%)]\tLoss: 0.039779\n",
            " 33%|███▎      | 30/91 [00:29<01:00,  1.01it/s]INFO:pv_vision.nn.modelhandler:Train Epoch: 42 [480/1453 (33%)]\tLoss: 0.026174\n",
            " 44%|████▍     | 40/91 [00:39<00:50,  1.01it/s]INFO:pv_vision.nn.modelhandler:Train Epoch: 42 [640/1453 (44%)]\tLoss: 0.037988\n",
            " 55%|█████▍    | 50/91 [00:49<00:40,  1.01it/s]INFO:pv_vision.nn.modelhandler:Train Epoch: 42 [800/1453 (55%)]\tLoss: 0.052397\n",
            " 66%|██████▌   | 60/91 [00:59<00:30,  1.01it/s]INFO:pv_vision.nn.modelhandler:Train Epoch: 42 [960/1453 (66%)]\tLoss: 0.035324\n",
            " 77%|███████▋  | 70/91 [01:10<00:20,  1.01it/s]INFO:pv_vision.nn.modelhandler:Train Epoch: 42 [1120/1453 (77%)]\tLoss: 0.030798\n",
            " 88%|████████▊ | 80/91 [01:20<00:10,  1.01it/s]INFO:pv_vision.nn.modelhandler:Train Epoch: 42 [1280/1453 (88%)]\tLoss: 0.034190\n",
            " 99%|█████████▉| 90/91 [01:30<00:00,  1.01it/s]INFO:pv_vision.nn.modelhandler:Train Epoch: 42 [1170/1453 (99%)]\tLoss: 0.031937\n",
            "100%|██████████| 91/91 [01:31<00:00,  1.01s/it]\n",
            "INFO:pv_vision.nn.modelhandler:Saved model at epoch 42\n",
            "100%|██████████| 6/6 [00:03<00:00,  1.63it/s]\n",
            "INFO:pv_vision.nn.modelhandler:Val epoch: 42 \tAverage loss: 0.0716\n"
          ]
        },
        {
          "output_type": "stream",
          "name": "stdout",
          "text": [
            "Loss: 0.0367 (train) | 0.0716 (val)\n"
          ]
        },
        {
          "output_type": "execute_result",
          "data": {
            "text/plain": [
              "{'train': {'loss': [0.049612149921824666,\n",
              "   0.04914433446040419,\n",
              "   0.046367008477469926,\n",
              "   0.045955025692869696,\n",
              "   0.044544794044860545,\n",
              "   0.0444652963345082,\n",
              "   0.04510718803783572,\n",
              "   0.0437891334679852,\n",
              "   0.041050178593015636,\n",
              "   0.03915465488281237,\n",
              "   0.038497352966217036,\n",
              "   0.03827761118514982,\n",
              "   0.037942720873246745,\n",
              "   0.037878367316595704,\n",
              "   0.03735960366720999,\n",
              "   0.03733319135899389,\n",
              "   0.036890307833624555,\n",
              "   0.036832309249180885,\n",
              "   0.03684391952020418,\n",
              "   0.03699088067775214,\n",
              "   0.03683302640730319,\n",
              "   0.03682634062649707,\n",
              "   0.036915382583153224,\n",
              "   0.03686464533943065,\n",
              "   0.036859591613944774,\n",
              "   0.03673418856905972,\n",
              "   0.036755111218473045,\n",
              "   0.03685466221906117,\n",
              "   0.036694774184958,\n",
              "   0.03694536527317512,\n",
              "   0.03671787597536425,\n",
              "   0.03670522541638415,\n",
              "   0.03687850913290557,\n",
              "   0.03685949943800754,\n",
              "   0.03676287359920191,\n",
              "   0.036754183160975645,\n",
              "   0.03672367655874037,\n",
              "   0.036948042799297566,\n",
              "   0.03667261777605915,\n",
              "   0.03687300240263312,\n",
              "   0.036630620999186105,\n",
              "   0.03670508767550597]},\n",
              " 'val': {'loss': [0.10251391182343166,\n",
              "   0.08978486806154251,\n",
              "   0.08896500989794731,\n",
              "   0.08737217262387276,\n",
              "   0.08863204345107079,\n",
              "   0.09172484899560611,\n",
              "   0.08705304314692815,\n",
              "   0.08574970935781796,\n",
              "   0.07799908022085826,\n",
              "   0.07604553923010826,\n",
              "   0.07452550406257312,\n",
              "   0.07420212527116139,\n",
              "   0.07381067425012589,\n",
              "   0.07283959910273552,\n",
              "   0.07266074419021606,\n",
              "   0.07174770658214887,\n",
              "   0.07165149971842766,\n",
              "   0.0717388993750016,\n",
              "   0.07222857947150867,\n",
              "   0.0721043273806572,\n",
              "   0.07171667677660783,\n",
              "   0.07165345177054405,\n",
              "   0.07184422512849171,\n",
              "   0.07178386238714059,\n",
              "   0.07175881850222747,\n",
              "   0.07156376106043656,\n",
              "   0.0716193150728941,\n",
              "   0.07172380511959393,\n",
              "   0.07162878351906936,\n",
              "   0.07173528770605724,\n",
              "   0.07147886914511521,\n",
              "   0.07164109125733376,\n",
              "   0.07232025265693665,\n",
              "   0.07176643113295238,\n",
              "   0.07165226774911086,\n",
              "   0.071815084045132,\n",
              "   0.07173310716946919,\n",
              "   0.0719359250118335,\n",
              "   0.07170900888741016,\n",
              "   0.07164374490578969,\n",
              "   0.07161070282260577,\n",
              "   0.07162229840954144]}}"
            ]
          },
          "metadata": {},
          "execution_count": 22
        }
      ],
      "source": [
        "# Se inicializa el entrenamiento del modelo.\n",
        "modelhandler.train_model()"
      ]
    },
    {
      "cell_type": "code",
      "execution_count": 23,
      "metadata": {
        "colab": {
          "base_uri": "https://localhost:8080/",
          "height": 449
        },
        "id": "k55JhgMyG09V",
        "outputId": "2e73198f-a1ff-460c-8342-3423ac918151"
      },
      "outputs": [
        {
          "output_type": "display_data",
          "data": {
            "text/plain": [
              "<Figure size 640x480 with 1 Axes>"
            ],
            "image/png": "[encoded data removed]"
          },
          "metadata": {}
        }
      ],
      "source": [
        "# Se visualiza el proceso de entrenamiento.\n",
        "# Esta función traza la pérdida del modelo durante el entrenamiento.\n",
        "modelhandler.plot_loss()"
      ]
    },
    {
      "cell_type": "code",
      "execution_count": 24,
      "metadata": {
        "colab": {
          "base_uri": "https://localhost:8080/"
        },
        "id": "E52bTEXnG09W",
        "outputId": "04e9dc27-ac9f-45db-b49d-ca432ecb59e0"
      },
      "outputs": [
        {
          "output_type": "execute_result",
          "data": {
            "text/plain": [
              "31"
            ]
          },
          "metadata": {},
          "execution_count": 24
        }
      ],
      "source": [
        "# Se busca la pérdida mínima en la validación, que corresponde al mejor modelo.\n",
        "# 'np.argmin' devuelve el índice de la pérdida mínima en el conjunto de validación.\n",
        "# Se suma 1 porque los índices en Python comienzan en 0, pero las épocas comienzan en 1.\n",
        "np.argmin(modelhandler.running_record['val']['loss'])+1"
      ]
    },
    {
      "cell_type": "code",
      "execution_count": 25,
      "metadata": {
        "colab": {
          "base_uri": "https://localhost:8080/"
        },
        "collapsed": true,
        "id": "kH5xVXQyG09W",
        "outputId": "885a839c-6d75-414d-a31e-e43239e3018b"
      },
      "outputs": [
        {
          "output_type": "stream",
          "name": "stderr",
          "text": [
            "INFO:pv_vision.nn.modelhandler:Loaded model from /content/drive/MyDrive/Entrenamiento/checkpoints/epoch_31/unetv30.pt\n"
          ]
        }
      ],
      "source": [
        "# Se carga el mejor modelo entrenado y se verifica su rendimiento en el conjunto de prueba.\n",
        "# Se emplea `load_model` para cargar el modelo entrenado. Este método toma el nombre del archivo de punto de control.\n",
        "modelhandler.load_model('/content/drive/MyDrive/Entrenamiento/checkpoints/epoch_31/unetv30.pt')"
      ]
    },
    {
      "cell_type": "markdown",
      "metadata": {
        "id": "xa-Fdu8ZG09W"
      },
      "source": [
        "El siguiente código prueba el modelo en el conjunto de prueba y almacena la salida en 'testset_output'. También se hace un comentario sobre la puntuación de la prueba y la puntuación de la validación."
      ]
    },
    {
      "cell_type": "code",
      "execution_count": 26,
      "metadata": {
        "colab": {
          "base_uri": "https://localhost:8080/"
        },
        "id": "1q3LEUNaG09W",
        "outputId": "f8711021-1cb5-4718-8b51-fda08a5adca0"
      },
      "outputs": [
        {
          "output_type": "stream",
          "name": "stdout",
          "text": [
            "Testing mode\n",
            "----------\n"
          ]
        },
        {
          "output_type": "stream",
          "name": "stderr",
          "text": [
            "100%|██████████| 23/23 [00:11<00:00,  1.97it/s]\n",
            "INFO:pv_vision.nn.modelhandler:Test set: Average loss: 0.0986\n"
          ]
        },
        {
          "output_type": "stream",
          "name": "stdout",
          "text": [
            "Test set: Average loss: 0.0986\n"
          ]
        }
      ],
      "source": [
        "# Se evalúa el modelo en el conjunto de prueba. `test_model` es una función de ModelHandler\n",
        "# que evalúa el modelo en el conjunto de prueba y almacena la salida en la caché.\n",
        "_ = modelhandler.test_model(cache_output='testset_outputv30')\n",
        "\n",
        "# La salida del modelo se almacena en self.cache['testset_output']"
      ]
    },
    {
      "cell_type": "code",
      "source": [
        "# Libera la caché de la GPU\n",
        "torch.cuda.empty_cache()"
      ],
      "metadata": {
        "id": "CxrtcIqePCUe"
      },
      "execution_count": 18,
      "outputs": []
    }
  ],
  "metadata": {
    "accelerator": "GPU",
    "colab": {
      "gpuType": "T4",
      "provenance": [],
      "include_colab_link": true
    },
    "kernelspec": {
      "display_name": "Python 3",
      "name": "python3"
    },
    "language_info": {
      "name": "python"
    }
  },
  "nbformat": 4,
  "nbformat_minor": 0
}