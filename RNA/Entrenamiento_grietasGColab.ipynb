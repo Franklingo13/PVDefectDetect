{
  "cells": [
    {
      "cell_type": "markdown",
      "metadata": {
        "id": "view-in-github",
        "colab_type": "text"
      },
      "source": [
        "<a href=\"https://colab.research.google.com/github/Franklingo13/PVDefectDetect/blob/main/RNA/Entrenamiento_grietasGColab.ipynb\" target=\"_parent\"><img src=\"https://colab.research.google.com/assets/colab-badge.svg\" alt=\"Open In Colab\"/></a>"
      ]
    },
    {
      "cell_type": "markdown",
      "metadata": {
        "id": "psMYf9fJG09O"
      },
      "source": [
        "Notebook para entrenamiento de redes neuronales convolucionales para clasificación de defectos en imágenes de celdas fotovoltaicas.\n",
        "Pensado para correr en Google Colab."
      ]
    },
    {
      "cell_type": "code",
      "execution_count": 1,
      "metadata": {
        "colab": {
          "base_uri": "https://localhost:8080/"
        },
        "id": "gbQ5zjRCG09Q",
        "outputId": "72c7a3eb-d22c-454e-a5aa-6cec984f9fd1"
      },
      "outputs": [
        {
          "output_type": "stream",
          "name": "stdout",
          "text": [
            "Drive already mounted at /content/drive; to attempt to forcibly remount, call drive.mount(\"/content/drive\", force_remount=True).\n"
          ]
        }
      ],
      "source": [
        "# Conexión con Google Drive\n",
        "from google.colab import drive\n",
        "drive.mount('/content/drive')"
      ]
    },
    {
      "cell_type": "code",
      "execution_count": 2,
      "metadata": {
        "id": "OhRFEtnDGxpJ"
      },
      "outputs": [],
      "source": [
        "# SPDX-License-Identifier: Apache-2.0\n",
        "#\n",
        "# Copyright (C) 2021 Supervisely\n",
        "#\n",
        "# This file is part of the Supervisely project and has been taken\n",
        "# from the Supervisely repository (https://github.com/supervisely/supervisely/blob/master/plugins/nn/unet_v2/src/unet.py).\n",
        "# It is being redistributed under the Apache License 2.0.\n",
        "#\n",
        "# You may obtain a copy of the License at\n",
        "#\n",
        "#     http://www.apache.org/licenses/LICENSE-2.0\n",
        "#\n",
        "# Unless required by applicable law or agreed to in writing, software\n",
        "# distributed under the License is distributed on an \"AS IS\" BASIS,\n",
        "# WITHOUT WARRANTIES OR CONDITIONS OF ANY KIND, either express or implied.\n",
        "# See the License for the specific language governing permissions and\n",
        "# limitations under the License.\n",
        "\n",
        "\n",
        "import torch\n",
        "from torch import nn\n",
        "from torchvision.models.vgg import vgg16_bn\n",
        "\n",
        "\n",
        "class ConvBNAct(nn.Module):\n",
        "    def __init__(self, in_channels, out_channels):\n",
        "        super().__init__()\n",
        "        self.seq = nn.Sequential(\n",
        "            nn.Conv2d(in_channels, out_channels,\n",
        "                      kernel_size=3, padding=1),\n",
        "            nn.BatchNorm2d(out_channels),\n",
        "            nn.ReLU(),\n",
        "        )\n",
        "\n",
        "    def forward(self, inputs):\n",
        "        return self.seq(inputs)\n",
        "\n",
        "\n",
        "class Block(nn.Module):\n",
        "    def __init__(self, src_channels, dst_channels):\n",
        "        super().__init__()\n",
        "        self.seq1 = ConvBNAct(src_channels, dst_channels)\n",
        "        self.seq2 = ConvBNAct(dst_channels, dst_channels)\n",
        "        self.seq3 = ConvBNAct(dst_channels, dst_channels)\n",
        "\n",
        "    def forward(self, x):\n",
        "        result = self.seq1(x)\n",
        "        result = self.seq2(result)\n",
        "        result = self.seq3(result)\n",
        "        return result\n",
        "\n",
        "\n",
        "class UNetUp(nn.Module):\n",
        "    def __init__(self, down_channels,  right_channels):\n",
        "        super().__init__()\n",
        "        self.bottom_up = nn.Upsample(scale_factor=2, mode='nearest')\n",
        "        self.conv = nn.Conv2d(down_channels, right_channels, kernel_size=1, stride=1)\n",
        "\n",
        "    def forward(self, left, bottom):\n",
        "        from_bottom = self.bottom_up(bottom)\n",
        "        from_bottom = self.conv(from_bottom)\n",
        "        result = torch.cat([left, from_bottom], 1)\n",
        "        return result\n",
        "\n",
        "\n",
        "class Bottleneck(nn.Module):\n",
        "    def __init__(self, in_channels, out_channels):\n",
        "        super().__init__()\n",
        "        self.conv = nn.Conv2d(in_channels, out_channels, kernel_size=(3, 3), dilation=2, padding=2)\n",
        "        self.bn = nn.BatchNorm2d(out_channels)\n",
        "        self.relu = nn.ReLU()\n",
        "        self.conv2 = nn.Conv2d(out_channels, out_channels, kernel_size=(3, 3), dilation=2, padding=2)\n",
        "        self.bn2 = nn.BatchNorm2d(out_channels)\n",
        "        self.relu2 = nn.ReLU()\n",
        "\n",
        "    def forward(self, x):\n",
        "        out = self.conv(x)\n",
        "        out = self.bn(out)\n",
        "        out = self.conv2(self.relu(out))\n",
        "        out = self.bn2(out)\n",
        "        return torch.cat((x, self.relu2(out)), dim=1)\n",
        "\n",
        "\n",
        "class UNet(nn.Module):\n",
        "\n",
        "    def __init__(self, encoder_blocks,  encoder_channels, n_cls):\n",
        "        self.encoder_channels = encoder_channels\n",
        "        self.depth = len(self.encoder_channels)\n",
        "        assert len(encoder_blocks) == self.depth\n",
        "        super().__init__()\n",
        "\n",
        "        self.encoder_blocks = nn.ModuleList(encoder_blocks)\n",
        "\n",
        "        self.blocks = nn.ModuleList()\n",
        "        # add bottleneck\n",
        "        self.blocks.append(Block(\n",
        "            self.encoder_channels[-1],\n",
        "            self.encoder_channels[-1]\n",
        "        ))\n",
        "\n",
        "        self.ups = nn.ModuleList()\n",
        "        for i in range(1, self.depth):\n",
        "            bottom_channels = self.encoder_channels[self.depth - i]\n",
        "            left_channels = self.encoder_channels[self.depth - i - 1]\n",
        "            right_channels = left_channels\n",
        "            self.ups.append(UNetUp(bottom_channels,  right_channels))\n",
        "            self.blocks.append(Block(\n",
        "                left_channels + right_channels,\n",
        "                right_channels\n",
        "            ))\n",
        "        self.last_conv = nn.Conv2d(encoder_channels[0], n_cls, 1)\n",
        "        # self.dropout = nn.Dropout2d(p=0.1)\n",
        "        self.bottle = Bottleneck(512, 512)\n",
        "\n",
        "    def forward(self, x):\n",
        "        encoder_outputs = []\n",
        "        for encoder_block in self.encoder_blocks:\n",
        "            x = encoder_block(x)\n",
        "            encoder_outputs.append(x)\n",
        "        x = self.bottle(encoder_outputs[self.depth - 1])\n",
        "        for i in range(self.depth):\n",
        "            if i > 0:\n",
        "                encoder_output = encoder_outputs[self.depth - i - 1]\n",
        "                x = self.ups[i - 1](encoder_output, x)\n",
        "                x = self.blocks[i](x)\n",
        "        # x = self.dropout(x)\n",
        "        x = self.last_conv(x)\n",
        "        return x  # no softmax or log_softmax\n",
        "\n",
        "\n",
        "def _get_encoder_blocks(model):\n",
        "    # last modules (ReLUs) of VGG blocks\n",
        "    layers_last_module_names = ['5', '12', '22', '32', '42']\n",
        "    result = []\n",
        "    cur_block = nn.Sequential()\n",
        "    for name, child in model.named_children():\n",
        "        if name == 'features':\n",
        "            for name2, child2 in child.named_children():\n",
        "                cur_block.add_module(name2, child2)\n",
        "                if name2 in layers_last_module_names:\n",
        "                    result.append(cur_block)\n",
        "                    cur_block = nn.Sequential()\n",
        "            break\n",
        "\n",
        "    return result\n",
        "\n",
        "\n",
        "def construct_unet(n_cls, pretrain=False):  # no weights inited\n",
        "    model = vgg16_bn(weights='DEFAULT')\n",
        "    encoder_blocks = _get_encoder_blocks(model)\n",
        "    encoder_channels = [64, 128, 256, 512, 1024]  # vgg16 channels\n",
        "    # prev_channels = encoder_channels[-1]\n",
        "\n",
        "    return UNet(encoder_blocks, encoder_channels, n_cls)\n"
      ]
    },
    {
      "cell_type": "code",
      "execution_count": 3,
      "metadata": {
        "id": "U_8l2-gnG09S"
      },
      "outputs": [],
      "source": [
        "# Importación de librerías\n",
        "import torch\n",
        "from torch.utils.data import Dataset, DataLoader\n",
        "from torchvision import transforms\n",
        "from torch.nn import DataParallel\n",
        "from torch.nn import CrossEntropyLoss\n",
        "from torch.optim import Adam\n",
        "from torch.optim.lr_scheduler import StepLR\n",
        "from torchvision.io import read_image, ImageReadMode\n",
        "from torchvision.datasets.vision import VisionDataset\n",
        "from torchvision.models.segmentation import deeplabv3_resnet50, DeepLabV3_ResNet50_Weights\n",
        "from torchvision.models.segmentation.deeplabv3 import DeepLabHead\n",
        "from torchvision.utils import draw_segmentation_masks\n",
        "import torchvision.transforms.functional as F\n",
        "\n",
        "import cv2 as cv\n",
        "import numpy as np\n",
        "\n",
        "import requests\n",
        "import copy\n",
        "#from unet_model import construct_unet\n",
        "from pathlib import Path\n",
        "from PIL import Image\n",
        "from imutils.paths import list_images\n",
        "import os\n",
        "import warnings"
      ]
    },
    {
      "cell_type": "code",
      "execution_count": 4,
      "metadata": {
        "colab": {
          "base_uri": "https://localhost:8080/"
        },
        "collapsed": true,
        "id": "u-13tOJejCxA",
        "outputId": "c40e9d56-b32c-425a-b6af-b5f17bb81b09"
      },
      "outputs": [
        {
          "output_type": "stream",
          "name": "stdout",
          "text": [
            "Requirement already satisfied: pv-vision in /usr/local/lib/python3.10/dist-packages (0.2.8)\n",
            "Requirement already satisfied: imutils>=0.5.4 in /usr/local/lib/python3.10/dist-packages (from pv-vision) (0.5.4)\n",
            "Requirement already satisfied: ipywidgets>=8.1.2 in /usr/local/lib/python3.10/dist-packages (from pv-vision) (8.1.3)\n",
            "Requirement already satisfied: joblib>=1.2.0 in /usr/local/lib/python3.10/dist-packages (from pv-vision) (1.4.2)\n",
            "Requirement already satisfied: matplotlib>=3.8.0 in /usr/local/lib/python3.10/dist-packages (from pv-vision) (3.9.2)\n",
            "Requirement already satisfied: opencv-python>=4.7.0.72 in /usr/local/lib/python3.10/dist-packages (from pv-vision) (4.10.0.84)\n",
            "Requirement already satisfied: scikit-learn>=1.3.0 in /usr/local/lib/python3.10/dist-packages (from pv-vision) (1.3.2)\n",
            "Requirement already satisfied: setuptools>=68.2.2 in /usr/local/lib/python3.10/dist-packages (from pv-vision) (71.0.4)\n",
            "Requirement already satisfied: torch>=2.2.0.post100 in /usr/local/lib/python3.10/dist-packages (from pv-vision) (2.3.1+cu121)\n",
            "Requirement already satisfied: torchvision>=0.15.2a0 in /usr/local/lib/python3.10/dist-packages (from pv-vision) (0.18.1+cu121)\n",
            "Requirement already satisfied: tqdm>=4.65.0 in /usr/local/lib/python3.10/dist-packages (from pv-vision) (4.66.5)\n",
            "Requirement already satisfied: comm>=0.1.3 in /usr/local/lib/python3.10/dist-packages (from ipywidgets>=8.1.2->pv-vision) (0.2.2)\n",
            "Requirement already satisfied: ipython>=6.1.0 in /usr/local/lib/python3.10/dist-packages (from ipywidgets>=8.1.2->pv-vision) (7.34.0)\n",
            "Requirement already satisfied: traitlets>=4.3.1 in /usr/local/lib/python3.10/dist-packages (from ipywidgets>=8.1.2->pv-vision) (5.7.1)\n",
            "Requirement already satisfied: widgetsnbextension~=4.0.11 in /usr/local/lib/python3.10/dist-packages (from ipywidgets>=8.1.2->pv-vision) (4.0.11)\n",
            "Requirement already satisfied: jupyterlab-widgets~=3.0.11 in /usr/local/lib/python3.10/dist-packages (from ipywidgets>=8.1.2->pv-vision) (3.0.11)\n",
            "Requirement already satisfied: contourpy>=1.0.1 in /usr/local/lib/python3.10/dist-packages (from matplotlib>=3.8.0->pv-vision) (1.2.1)\n",
            "Requirement already satisfied: cycler>=0.10 in /usr/local/lib/python3.10/dist-packages (from matplotlib>=3.8.0->pv-vision) (0.12.1)\n",
            "Requirement already satisfied: fonttools>=4.22.0 in /usr/local/lib/python3.10/dist-packages (from matplotlib>=3.8.0->pv-vision) (4.53.1)\n",
            "Requirement already satisfied: kiwisolver>=1.3.1 in /usr/local/lib/python3.10/dist-packages (from matplotlib>=3.8.0->pv-vision) (1.4.5)\n",
            "Requirement already satisfied: numpy>=1.23 in /usr/local/lib/python3.10/dist-packages (from matplotlib>=3.8.0->pv-vision) (1.26.4)\n",
            "Requirement already satisfied: packaging>=20.0 in /usr/local/lib/python3.10/dist-packages (from matplotlib>=3.8.0->pv-vision) (24.1)\n",
            "Requirement already satisfied: pillow>=8 in /usr/local/lib/python3.10/dist-packages (from matplotlib>=3.8.0->pv-vision) (9.4.0)\n",
            "Requirement already satisfied: pyparsing>=2.3.1 in /usr/local/lib/python3.10/dist-packages (from matplotlib>=3.8.0->pv-vision) (3.1.2)\n",
            "Requirement already satisfied: python-dateutil>=2.7 in /usr/local/lib/python3.10/dist-packages (from matplotlib>=3.8.0->pv-vision) (2.8.2)\n",
            "Requirement already satisfied: scipy>=1.5.0 in /usr/local/lib/python3.10/dist-packages (from scikit-learn>=1.3.0->pv-vision) (1.13.1)\n",
            "Requirement already satisfied: threadpoolctl>=2.0.0 in /usr/local/lib/python3.10/dist-packages (from scikit-learn>=1.3.0->pv-vision) (3.5.0)\n",
            "Requirement already satisfied: filelock in /usr/local/lib/python3.10/dist-packages (from torch>=2.2.0.post100->pv-vision) (3.15.4)\n",
            "Requirement already satisfied: typing-extensions>=4.8.0 in /usr/local/lib/python3.10/dist-packages (from torch>=2.2.0.post100->pv-vision) (4.12.2)\n",
            "Requirement already satisfied: sympy in /usr/local/lib/python3.10/dist-packages (from torch>=2.2.0.post100->pv-vision) (1.13.1)\n",
            "Requirement already satisfied: networkx in /usr/local/lib/python3.10/dist-packages (from torch>=2.2.0.post100->pv-vision) (3.3)\n",
            "Requirement already satisfied: jinja2 in /usr/local/lib/python3.10/dist-packages (from torch>=2.2.0.post100->pv-vision) (3.1.4)\n",
            "Requirement already satisfied: fsspec in /usr/local/lib/python3.10/dist-packages (from torch>=2.2.0.post100->pv-vision) (2024.6.1)\n",
            "Requirement already satisfied: nvidia-cuda-nvrtc-cu12==12.1.105 in /usr/local/lib/python3.10/dist-packages (from torch>=2.2.0.post100->pv-vision) (12.1.105)\n",
            "Requirement already satisfied: nvidia-cuda-runtime-cu12==12.1.105 in /usr/local/lib/python3.10/dist-packages (from torch>=2.2.0.post100->pv-vision) (12.1.105)\n",
            "Requirement already satisfied: nvidia-cuda-cupti-cu12==12.1.105 in /usr/local/lib/python3.10/dist-packages (from torch>=2.2.0.post100->pv-vision) (12.1.105)\n",
            "Requirement already satisfied: nvidia-cudnn-cu12==8.9.2.26 in /usr/local/lib/python3.10/dist-packages (from torch>=2.2.0.post100->pv-vision) (8.9.2.26)\n",
            "Requirement already satisfied: nvidia-cublas-cu12==12.1.3.1 in /usr/local/lib/python3.10/dist-packages (from torch>=2.2.0.post100->pv-vision) (12.1.3.1)\n",
            "Requirement already satisfied: nvidia-cufft-cu12==11.0.2.54 in /usr/local/lib/python3.10/dist-packages (from torch>=2.2.0.post100->pv-vision) (11.0.2.54)\n",
            "Requirement already satisfied: nvidia-curand-cu12==10.3.2.106 in /usr/local/lib/python3.10/dist-packages (from torch>=2.2.0.post100->pv-vision) (10.3.2.106)\n",
            "Requirement already satisfied: nvidia-cusolver-cu12==11.4.5.107 in /usr/local/lib/python3.10/dist-packages (from torch>=2.2.0.post100->pv-vision) (11.4.5.107)\n",
            "Requirement already satisfied: nvidia-cusparse-cu12==12.1.0.106 in /usr/local/lib/python3.10/dist-packages (from torch>=2.2.0.post100->pv-vision) (12.1.0.106)\n",
            "Requirement already satisfied: nvidia-nccl-cu12==2.20.5 in /usr/local/lib/python3.10/dist-packages (from torch>=2.2.0.post100->pv-vision) (2.20.5)\n",
            "Requirement already satisfied: nvidia-nvtx-cu12==12.1.105 in /usr/local/lib/python3.10/dist-packages (from torch>=2.2.0.post100->pv-vision) (12.1.105)\n",
            "Requirement already satisfied: triton==2.3.1 in /usr/local/lib/python3.10/dist-packages (from torch>=2.2.0.post100->pv-vision) (2.3.1)\n",
            "Requirement already satisfied: nvidia-nvjitlink-cu12 in /usr/local/lib/python3.10/dist-packages (from nvidia-cusolver-cu12==11.4.5.107->torch>=2.2.0.post100->pv-vision) (12.6.20)\n",
            "Requirement already satisfied: jedi>=0.16 in /usr/local/lib/python3.10/dist-packages (from ipython>=6.1.0->ipywidgets>=8.1.2->pv-vision) (0.19.1)\n",
            "Requirement already satisfied: decorator in /usr/local/lib/python3.10/dist-packages (from ipython>=6.1.0->ipywidgets>=8.1.2->pv-vision) (4.4.2)\n",
            "Requirement already satisfied: pickleshare in /usr/local/lib/python3.10/dist-packages (from ipython>=6.1.0->ipywidgets>=8.1.2->pv-vision) (0.7.5)\n",
            "Requirement already satisfied: prompt-toolkit!=3.0.0,!=3.0.1,<3.1.0,>=2.0.0 in /usr/local/lib/python3.10/dist-packages (from ipython>=6.1.0->ipywidgets>=8.1.2->pv-vision) (3.0.47)\n",
            "Requirement already satisfied: pygments in /usr/local/lib/python3.10/dist-packages (from ipython>=6.1.0->ipywidgets>=8.1.2->pv-vision) (2.16.1)\n",
            "Requirement already satisfied: backcall in /usr/local/lib/python3.10/dist-packages (from ipython>=6.1.0->ipywidgets>=8.1.2->pv-vision) (0.2.0)\n",
            "Requirement already satisfied: matplotlib-inline in /usr/local/lib/python3.10/dist-packages (from ipython>=6.1.0->ipywidgets>=8.1.2->pv-vision) (0.1.7)\n",
            "Requirement already satisfied: pexpect>4.3 in /usr/local/lib/python3.10/dist-packages (from ipython>=6.1.0->ipywidgets>=8.1.2->pv-vision) (4.9.0)\n",
            "Requirement already satisfied: six>=1.5 in /usr/local/lib/python3.10/dist-packages (from python-dateutil>=2.7->matplotlib>=3.8.0->pv-vision) (1.16.0)\n",
            "Requirement already satisfied: MarkupSafe>=2.0 in /usr/local/lib/python3.10/dist-packages (from jinja2->torch>=2.2.0.post100->pv-vision) (2.1.5)\n",
            "Requirement already satisfied: mpmath<1.4,>=1.1.0 in /usr/local/lib/python3.10/dist-packages (from sympy->torch>=2.2.0.post100->pv-vision) (1.3.0)\n",
            "Requirement already satisfied: parso<0.9.0,>=0.8.3 in /usr/local/lib/python3.10/dist-packages (from jedi>=0.16->ipython>=6.1.0->ipywidgets>=8.1.2->pv-vision) (0.8.4)\n",
            "Requirement already satisfied: ptyprocess>=0.5 in /usr/local/lib/python3.10/dist-packages (from pexpect>4.3->ipython>=6.1.0->ipywidgets>=8.1.2->pv-vision) (0.7.0)\n",
            "Requirement already satisfied: wcwidth in /usr/local/lib/python3.10/dist-packages (from prompt-toolkit!=3.0.0,!=3.0.1,<3.1.0,>=2.0.0->ipython>=6.1.0->ipywidgets>=8.1.2->pv-vision) (0.2.13)\n"
          ]
        }
      ],
      "source": [
        "# Importación de la librería de pv-vision\n",
        "!pip install pv-vision"
      ]
    },
    {
      "cell_type": "code",
      "execution_count": 5,
      "metadata": {
        "id": "YVtXGzixG09T"
      },
      "outputs": [],
      "source": [
        "# Importar el manejador de modelo: ModelHandler\n",
        "from pv_vision.nn import ModelHandler"
      ]
    },
    {
      "cell_type": "code",
      "execution_count": 6,
      "metadata": {
        "id": "ia6yr7DDG09T"
      },
      "outputs": [],
      "source": [
        "# Definición de una clase para el conjunto de datos solar,\n",
        "# que hereda de la clase VisionDataset de PyTorch.\n",
        "class SolarDataset(VisionDataset):\n",
        "    \"\"\"Un conjunto de datos que lee directamente las imágenes y las máscaras desde una carpeta.\"\"\"\n",
        "\n",
        "    # Se definió el método de inicialización para la clase.\n",
        "    def __init__(self,\n",
        "                 root,\n",
        "                 image_folder,\n",
        "                 mask_folder,\n",
        "                 transforms,\n",
        "                 mode = \"train\",\n",
        "                 random_seed=42):\n",
        "        # Se llamó al método de inicialización de la clase padre.\n",
        "        super().__init__(root, transforms)\n",
        "        # Se establecieron las rutas a las carpetas de imágenes y máscaras.\n",
        "        self.image_path = Path(self.root) / image_folder\n",
        "        self.mask_path = Path(self.root) / mask_folder\n",
        "\n",
        "        # Se verificó que las carpetas de imágenes y máscaras existan.\n",
        "        if not os.path.exists(self.image_path):\n",
        "            raise OSError(f\"{self.image_path} no encontrado.\")\n",
        "\n",
        "        if not os.path.exists(self.mask_path):\n",
        "            raise OSError(f\"{self.mask_path} no encontrado.\")\n",
        "\n",
        "        # Se obtuvieron las listas de imágenes y máscaras y se ordenaron.\n",
        "        self.image_list = sorted(list(list_images(self.image_path)))\n",
        "        self.mask_list = sorted(list(list_images(self.mask_path)))\n",
        "\n",
        "        # Se convirtieron las listas de imágenes y máscaras a arrays de numpy.\n",
        "        self.image_list = np.array(self.image_list)\n",
        "        self.mask_list = np.array(self.mask_list)\n",
        "\n",
        "        # Se estableció la semilla para la generación de números aleatorios y se mezclaron las imágenes y las máscaras.\n",
        "        np.random.seed(random_seed)\n",
        "        index = np.arange(len(self.image_list))\n",
        "        np.random.shuffle(index)\n",
        "        self.image_list = self.image_list[index]\n",
        "        self.mask_list = self.mask_list[index]\n",
        "\n",
        "    # Se definió el método para obtener la longitud del conjunto de datos.\n",
        "    def __len__(self):\n",
        "        return len(self.image_list)\n",
        "\n",
        "    # Se definió un método para obtener el nombre de una imagen o máscara.\n",
        "    def __getname__(self, index):\n",
        "        image_name = os.path.splitext(os.path.split(self.image_list[index])[-1])[0]\n",
        "        mask_name = os.path.splitext(os.path.split(self.mask_list[index])[-1])[0]\n",
        "\n",
        "        if image_name == mask_name:\n",
        "            return image_name\n",
        "        else:\n",
        "            return False\n",
        "\n",
        "    # Se definió un método para obtener una imagen y su máscara correspondiente.\n",
        "    def __getraw__(self, index):\n",
        "        if not self.__getname__(index):\n",
        "            raise ValueError(\"{}: La imagen no coincide con la máscara\".format(os.path.split(self.image_list[index])[-1]))\n",
        "        image = Image.open(self.image_list[index])\n",
        "        mask = Image.open(self.mask_list[index]).convert('L')\n",
        "        mask = np.array(mask)\n",
        "        mask = Image.fromarray(mask)\n",
        "\n",
        "        return image, mask\n",
        "\n",
        "    # Se definió el método para obtener un elemento del conjunto de datos.\n",
        "    def __getitem__(self, index):\n",
        "        image, mask = self.__getraw__(index)\n",
        "        image, mask = self.transforms(image, mask)\n",
        "\n",
        "        return image, mask"
      ]
    },
    {
      "cell_type": "code",
      "execution_count": 7,
      "metadata": {
        "id": "t1nDW9d6G09T"
      },
      "outputs": [],
      "source": [
        "# Definición de una clase para componer varias transformaciones.\n",
        "class Compose:\n",
        "    def __init__(self, transforms):\n",
        "        \"\"\"\n",
        "        transforms: una lista de transformaciones\n",
        "        \"\"\"\n",
        "        self.transforms = transforms\n",
        "\n",
        "    # Se definió el método para aplicar las transformaciones a la imagen y la máscara.\n",
        "    def __call__(self, image, target):\n",
        "        \"\"\"\n",
        "        image: imagen de entrada\n",
        "        target: máscara de entrada\n",
        "        \"\"\"\n",
        "        for t in self.transforms:\n",
        "            image, target = t(image, target)\n",
        "        return image, target\n",
        "\n",
        "# Se definió una clase para redimensionar la imagen y la máscara a un tamaño fijo.\n",
        "class FixResize:\n",
        "    # UNet requiere que el tamaño de entrada sea múltiplo de 16\n",
        "    def __init__(self, size):\n",
        "        self.size = size\n",
        "\n",
        "    # Se definió el método para redimensionar la imagen y la máscara.\n",
        "    def __call__(self, image, target):\n",
        "        image = F.resize(image, (self.size, self.size), interpolation=transforms.InterpolationMode.BILINEAR)\n",
        "        target = F.resize(target, (self.size, self.size), interpolation=transforms.InterpolationMode.NEAREST)\n",
        "        return image, target\n",
        "\n",
        "# Se definió una clase para transformar la imagen y la máscara a tensores.\n",
        "class ToTensor:\n",
        "    \"\"\"Transforma la imagen a tensor. Escala la imagen a [0,1] float32.\n",
        "    Transforma la máscara a tensor.\n",
        "    \"\"\"\n",
        "    def __call__(self, image, target):\n",
        "        image = transforms.ToTensor()(image)\n",
        "        target = torch.as_tensor(np.array(target), dtype=torch.int64)\n",
        "        return image, target\n",
        "\n",
        "# Se definió una clase para transformar la imagen a tensor manteniendo el tipo original.\n",
        "class PILToTensor:\n",
        "    \"\"\"Transforma la imagen a tensor. Mantiene el tipo original.\"\"\"\n",
        "    def __call__(self, image, target):\n",
        "        image = F.pil_to_tensor(image)\n",
        "        target = torch.as_tensor(np.array(target), dtype=torch.int64)\n",
        "        return image, target\n",
        "\n",
        "# Se definió una clase para normalizar la imagen.\n",
        "class Normalize:\n",
        "    def __init__(self, mean=(0.485, 0.456, 0.406), std=(0.229, 0.224, 0.225)):\n",
        "        self.mean = mean\n",
        "        self.std = std\n",
        "\n",
        "    def __call__(self, image, target):\n",
        "        # Verifica si la imagen es en escala de grises (1 canal) y la convierte a RGB (3 canales) si es necesario\n",
        "        if image.shape[0] == 1:\n",
        "            image = image.repeat(3, 1, 1)  # Repite el canal existente 3 veces\n",
        "        image = F.normalize(image, mean=self.mean, std=self.std)\n",
        "        return image, target"
      ]
    },
    {
      "cell_type": "code",
      "source": [
        "# Definición de una clase personalizada para la rotación de imagen y máscara\n",
        "class RandomRotation:\n",
        "    def __init__(self, degrees):\n",
        "        self.degrees = degrees\n",
        "\n",
        "    def __call__(self, image, target):\n",
        "        # Rotar la imagen\n",
        "        angle = transforms.RandomRotation.get_params([-self.degrees, self.degrees])\n",
        "        image = F.rotate(image, angle, interpolation=transforms.InterpolationMode.BILINEAR)\n",
        "        # Rotar la máscara\n",
        "        target = F.rotate(target, angle, interpolation=transforms.InterpolationMode.NEAREST)\n",
        "        return image, target\n"
      ],
      "metadata": {
        "id": "iggYqFz__qYf"
      },
      "execution_count": null,
      "outputs": []
    },
    {
      "cell_type": "code",
      "execution_count": 8,
      "metadata": {
        "colab": {
          "base_uri": "https://localhost:8080/"
        },
        "id": "pRAdQ8o1G09U",
        "outputId": "f9eef0b5-afdc-4908-e714-e4fc45fb6d66"
      },
      "outputs": [
        {
          "output_type": "stream",
          "name": "stdout",
          "text": [
            "El conjunto de datos de entrenamiento contiene 1453 elementos.\n"
          ]
        }
      ],
      "source": [
        "# Ruta al directorio que contiene las imágenes y las máscaras.\n",
        "# root = Path(\n",
        "#     '/content/drive/MyDrive/Trabajo de titulación/PV_vision/Entrenamiento')\n",
        "\n",
        "root = Path(\n",
        "    '/content/drive/MyDrive/Entrenamiento')\n",
        "\n",
        "# Se definen las transformaciones a aplicar a las imágenes y las etiquetas.\n",
        "transformers = Compose([\n",
        "    #RandomRotation(degrees=10),\n",
        "    FixResize(256),\n",
        "    ToTensor(),\n",
        "    Normalize()\n",
        "])\n",
        "#transformers = Compose([FixResize(256), ToTensor(), Normalize()])\n",
        "# Se crean los conjuntos de datos de entrenamiento, validación y prueba.\n",
        "trainset = SolarDataset(root, image_folder=\"train/img\",\n",
        "        mask_folder=\"train/ann\", transforms=transformers)\n",
        "\n",
        "valset = SolarDataset(root, image_folder=\"val/img\",\n",
        "        mask_folder=\"val/ann\", transforms=transformers)\n",
        "\n",
        "testset = SolarDataset(root, image_folder=\"test/img\",\n",
        "        mask_folder=\"test/ann\", transforms=transformers)\n",
        "\n",
        "# Verificación de que la carpeta haya sido establecida correctamente\n",
        "print(f\"El conjunto de datos de entrenamiento contiene {len(trainset)} elementos.\")"
      ]
    },
    {
      "cell_type": "code",
      "execution_count": null,
      "metadata": {
        "id": "YhN5cKIpjCxD"
      },
      "outputs": [],
      "source": [
        "class Accuracy:\n",
        "    \"\"\"Calcular la precisión de un modelo\"\"\"\n",
        "    def __init__(self):\n",
        "        self.__name__ = \"accuracy\"\n",
        "        self._base = [0, 0]\n",
        "\n",
        "    def calc(self, outputs, targets, reduction='mean'):\n",
        "        \"\"\" Calcular la precisión.\n",
        "        Argumentos:\n",
        "        -----------\n",
        "        outputs: torch.Tensor\n",
        "        La salida del modelo, forma (batch_size, num_classes, H, W)\n",
        "\n",
        "        targets: torch.Tensor\n",
        "        La etiqueta verdadera, forma (batch_size, H, W)\n",
        "\n",
        "        reduction: str\n",
        "        El método de reducción, 'mean' o 'sum'\n",
        "        Si es 'mean', devuelve la precisión media del lote\n",
        "        Si es 'sum', devuelve la suma de predicciones correctas del lote\n",
        "\n",
        "        Retorna:\n",
        "        --------\n",
        "        accuracy: torch.Tensor\n",
        "        \"\"\"\n",
        "        # Asegúrate de que las dimensiones de outputs y targets sean compatibles\n",
        "        if outputs.dim() == 4 and targets.dim() == 3:\n",
        "            _, preds = torch.max(outputs, 1)\n",
        "            correct = torch.sum(preds == targets)\n",
        "\n",
        "            if reduction == 'mean':\n",
        "                return correct.float() / targets.numel()\n",
        "            elif reduction == 'sum':\n",
        "                return correct\n",
        "            else:\n",
        "                raise ValueError(\"reduction debe ser 'mean' o 'sum'\")\n",
        "        else:\n",
        "            raise ValueError(\"Las dimensiones de outputs y targets no son compatibles\")\n",
        "\n",
        "    def accumulate(self, outputs, targets):\n",
        "        \"\"\" Acumular la métrica a lo largo de varios lotes.\"\"\"\n",
        "        if outputs.dim() == 4 and targets.dim() == 3:\n",
        "            _, preds = torch.max(outputs, 1)\n",
        "            correct = torch.sum(preds == targets)\n",
        "            self._base[0] += correct\n",
        "            self._base[1] += targets.numel()\n",
        "        else:\n",
        "            raise ValueError(\"Las dimensiones de outputs y targets no son compatibles\")\n",
        "\n",
        "    def reset(self):\n",
        "        self._base = [0, 0]\n",
        "\n",
        "    def accumulated_score(self):\n",
        "        \"\"\" Devolver la puntuación acumulada en una época.\"\"\"\n",
        "        if self._base[1] == 0:\n",
        "            # advertencia de división por cero\n",
        "            warnings.warn(\"El denominador es cero, devuelve 0\", RuntimeWarning)\n",
        "            return 0\n",
        "        return self._base[0].float() / self._base[1]\n",
        "\n",
        "    def __call__(self, outputs, targets, reduction='mean'):\n",
        "        return self.calc(outputs, targets, reduction)"
      ]
    },
    {
      "cell_type": "code",
      "execution_count": 9,
      "metadata": {
        "id": "zB7a3yuP4Dps"
      },
      "outputs": [],
      "source": [
        "## Definición de una clase para calcular el Índice de Jaccard, o Intersección sobre Unión (IoU)\n",
        "class JaccardIndex:\n",
        "    \"\"\"Calcular el índice de Jaccard (IoU) de un modelo\"\"\"\n",
        "    def __init__(self):\n",
        "        self.__name__ = \"jaccard_index\"\n",
        "        self._base_intersection = 0\n",
        "        self._base_union = 0\n",
        "\n",
        "    def calc(self, outputs, targets, reduction='mean'):\n",
        "        \"\"\"\n",
        "        Calcular el índice de Jaccard.\n",
        "\n",
        "        Argumentos:\n",
        "        -----------\n",
        "        outputs: torch.Tensor\n",
        "            La salida del modelo, forma (batch_size, num_classes, H, W)\n",
        "        targets: torch.Tensor\n",
        "            La etiqueta verdadera, forma (batch_size, H, W)\n",
        "        reduction: str\n",
        "            El método de reducción, 'mean' o 'sum'.\n",
        "\n",
        "        Retorna:\n",
        "        --------\n",
        "        iou: torch.Tensor\n",
        "        \"\"\"\n",
        "\n",
        "        if outputs.dim() == 4 and targets.dim() == 3:\n",
        "            # Convertir targets a formato one-hot\n",
        "            targets = torch.nn.functional.one_hot(targets, num_classes=outputs.shape[1])\n",
        "            targets = targets.permute(0, 3, 1, 2).float()  # Cambiar dimensiones para coincidir con outputs\n",
        "\n",
        "            # Obtener la predicción con la mayor probabilidad por clase\n",
        "            _, preds = torch.max(outputs, 1)\n",
        "            preds = torch.nn.functional.one_hot(preds, num_classes=outputs.shape[1])\n",
        "            preds = preds.permute(0, 3, 1, 2).float()\n",
        "\n",
        "            intersection = torch.sum(preds * targets, dim=(0, 2, 3))\n",
        "            union = torch.sum(preds + targets, dim=(0, 2, 3)) - intersection\n",
        "\n",
        "            iou_per_class = intersection / (union + 1e-8)  # Evitar división por cero\n",
        "\n",
        "            if reduction == 'mean':\n",
        "                return torch.mean(iou_per_class).item()\n",
        "            elif reduction == 'sum':\n",
        "                return torch.sum(iou_per_class).item()\n",
        "            else:\n",
        "                raise ValueError(\"reduction debe ser 'mean' o 'sum'\")\n",
        "        else:\n",
        "            raise ValueError(\"Las dimensiones de outputs y targets no son compatibles\")\n",
        "\n",
        "    def accumulate(self, outputs, targets):\n",
        "        \"\"\" Acumular la métrica a lo largo de varios lotes.\"\"\"\n",
        "        if outputs.dim() == 4 and targets.dim() == 3:\n",
        "            targets = torch.nn.functional.one_hot(targets, num_classes=outputs.shape[1])\n",
        "            targets = targets.permute(0, 3, 1, 2).float()\n",
        "\n",
        "            _, preds = torch.max(outputs, 1)\n",
        "            preds = torch.nn.functional.one_hot(preds, num_classes=outputs.shape[1])\n",
        "            preds = preds.permute(0, 3, 1, 2).float()\n",
        "\n",
        "            intersection = torch.sum(preds * targets, dim=(0, 2, 3))\n",
        "            union = torch.sum(preds + targets, dim=(0, 2, 3)) - intersection\n",
        "\n",
        "            self._base_intersection += intersection\n",
        "            self._base_union += union\n",
        "        else:\n",
        "            raise ValueError(\"Las dimensiones de outputs y targets no son compatibles\")\n",
        "\n",
        "    def reset(self):\n",
        "        self._base_intersection = 0\n",
        "        self._base_union = 0\n",
        "\n",
        "    def accumulated_score(self):\n",
        "        \"\"\" Devolver la puntuación acumulada en una época.\"\"\"\n",
        "        if self._base_union.sum() == 0:\n",
        "            # advertencia de división por cero\n",
        "            warnings.warn(\"El denominador es cero, devuelve 0\", RuntimeWarning)\n",
        "            return 0\n",
        "        return torch.mean(self._base_intersection.float() / (self._base_union + 1e-8)).item()\n",
        "\n",
        "    def __call__(self, outputs, targets, reduction='mean'):\n",
        "        return self.calc(outputs, targets, reduction)\n"
      ]
    },
    {
      "cell_type": "code",
      "execution_count": null,
      "metadata": {
        "id": "KaZs0hwDG09U"
      },
      "outputs": [],
      "source": [
        "# Se define una función para crear un modelo DeepLab preentrenado.\n",
        "def DeepLab_pretrained(num_classes):\n",
        "    # Se carga el modelo DeepLab con una arquitectura ResNet50 preentrenada.\n",
        "    deeplab = deeplabv3_resnet50(weights=DeepLabV3_ResNet50_Weights.DEFAULT)\n",
        "\n",
        "    # Se reemplaza el clasificador del modelo con un nuevo clasificador DeepLabHead.\n",
        "    # El nuevo clasificador tiene 2048 características de entrada y 'num_classes' características de salida.\n",
        "    deeplab.classifier = DeepLabHead(2048, num_classes)\n",
        "\n",
        "    # Se devuelve el modelo modificado.\n",
        "    return deeplab"
      ]
    },
    {
      "cell_type": "code",
      "execution_count": 9,
      "metadata": {
        "id": "TZFPZp57F3wK"
      },
      "outputs": [],
      "source": [
        "# Crea una instancia del modelo U-Net con 5 canales de salida.\n",
        "# Número de canales de salida = al número de clases\n",
        "unet = construct_unet(5)\n",
        "# Se \"envuelve\" el modelo en un objeto DataParallel.\n",
        "# Esto permite que el modelo se ejecute en paralelo en múltiples GPUs, si están disponibles.\n",
        "unet = DataParallel(unet)"
      ]
    },
    {
      "cell_type": "code",
      "execution_count": 10,
      "metadata": {
        "colab": {
          "base_uri": "https://localhost:8080/"
        },
        "id": "Qnmr0nyOG09U",
        "outputId": "f018cdca-04b0-4384-d213-4bbd4aef3838"
      },
      "outputs": [
        {
          "output_type": "stream",
          "name": "stdout",
          "text": [
            "Dispositivo utilizado: cuda:0\n"
          ]
        }
      ],
      "source": [
        "# Se define el dispositivo en el que se ejecutará el modelo.\n",
        "device = torch.device(\"cuda:0\" if torch.cuda.is_available() else \"cpu\")\n",
        "# Se imprime el dispositivo utilizado.\n",
        "print(f\"Dispositivo utilizado: {device}\")\n",
        "\n",
        "# Se crea el modelo utilizando la función DeepLab_pretrained definida anteriormente.\n",
        "# El modelo se envuelve en un objeto DataParallel para permitir el entrenamiento en múltiples GPUs si están disponibles.\n",
        "#model = DataParallel(DeepLab_pretrained(5))\n",
        "\n",
        "# Se define la función de pérdida a utilizar durante el entrenamiento.\n",
        "# En este caso, se utiliza la pérdida de entropía cruzada.\n",
        "criterion = CrossEntropyLoss()\n",
        "\n",
        "# Se define el optimizador a utilizar durante el entrenamiento. En este caso, se utiliza Adam con una tasa de aprendizaje de 0.01.\n",
        "#optimizer = Adam(model.parameters(), lr=0.01)\n",
        "optimizer = Adam(unet.parameters(), lr=0.0018)\n",
        "\n",
        "# Se define el programador de la tasa de aprendizaje a utilizar durante el entrenamiento.\n",
        "# En este caso, se utiliza un programador de paso que disminuye la tasa de aprendizaje en un factor de 0.2 cada 5 épocas.\n",
        "lr_scheduler = StepLR(optimizer, step_size=8, gamma=0.05)"
      ]
    },
    {
      "cell_type": "code",
      "execution_count": 11,
      "metadata": {
        "colab": {
          "base_uri": "https://localhost:8080/"
        },
        "id": "qouTmOWmA8ng",
        "outputId": "15516cdc-f87d-481b-e90e-9bace936e6b2"
      },
      "outputs": [
        {
          "output_type": "execute_result",
          "data": {
            "text/plain": [
              "<All keys matched successfully>"
            ]
          },
          "metadata": {},
          "execution_count": 11
        }
      ],
      "source": [
        "# Cargar los pesos del modelo preentrenado\n",
        "\n",
        "weight_path = '/content/drive/MyDrive/Entrenamiento/unetv31.pt'\n",
        "unet.load_state_dict(torch.load(weight_path, map_location=device))"
      ]
    },
    {
      "cell_type": "code",
      "execution_count": 12,
      "metadata": {
        "colab": {
          "base_uri": "https://localhost:8080/"
        },
        "id": "TjJv6uo4G09V",
        "outputId": "d3503b79-2e00-4f64-a393-f3b7347a96e7"
      },
      "outputs": [
        {
          "output_type": "stream",
          "name": "stderr",
          "text": [
            "INFO:pv_vision.nn.modelhandler:ModelHandler initialized.\n"
          ]
        }
      ],
      "source": [
        "# Se inicializa el manejador del modelo.\n",
        "# La salida se almacena en la carpeta de salida.\n",
        "modelhandler = ModelHandler(\n",
        "    # Se pasa el modelo que se va a entrenar.\n",
        "    #model=model,\n",
        "    model = unet,\n",
        "    # Se especifica el nombre de la carpeta de salida.\n",
        "    #model_output='out_unet',\n",
        "    # Se pasan los conjuntos de datos de entrenamiento, validación y prueba.\n",
        "    train_dataset=trainset,\n",
        "    val_dataset=valset,\n",
        "    test_dataset=testset,\n",
        "    # Se especifica el tamaño del lote para el entrenamiento y la validación.\n",
        "    batch_size_train=16,\n",
        "    batch_size_val=16,\n",
        "    # Se pasa el programador de la tasa de aprendizaje.\n",
        "    lr_scheduler=lr_scheduler,\n",
        "    # Se especifica el número de épocas para el entrenamiento.\n",
        "    num_epochs=48,\n",
        "    # Se pasa la función de pérdida y el optimizador.\n",
        "    criterion=criterion,\n",
        "    optimizer=optimizer,\n",
        "    # Se pasa el dispositivo en el que se ejecutará el entrenamiento.\n",
        "    device=device,\n",
        "    #evaluate_metric= JaccardIndex,\n",
        "    # Se especifica el directorio donde se guardarán los puntos de control del modelo.\n",
        "    save_dir='/content/drive/MyDrive/Entrenamiento/checkpoints',\n",
        "    # Se especifica el nombre del archivo de punto de control.\n",
        "    save_name='unetv32.pt'\n",
        ")"
      ]
    },
    {
      "cell_type": "code",
      "execution_count": 13,
      "metadata": {
        "colab": {
          "base_uri": "https://localhost:8080/"
        },
        "collapsed": true,
        "id": "X1SfRwQCG09V",
        "outputId": "a1d747aa-279d-4912-8195-01b1a4acc96e"
      },
      "outputs": [
        {
          "output_type": "stream",
          "name": "stdout",
          "text": [
            "Epoch 1 / 48\n",
            "----------\n"
          ]
        },
        {
          "output_type": "stream",
          "name": "stderr",
          "text": [
            "  0%|          | 0/91 [00:00<?, ?it/s]INFO:pv_vision.nn.modelhandler:Train Epoch: 1 [0/1453 (0%)]\tLoss: 0.035729\n",
            " 11%|█         | 10/91 [00:09<01:16,  1.06it/s]INFO:pv_vision.nn.modelhandler:Train Epoch: 1 [160/1453 (11%)]\tLoss: 0.034374\n",
            " 22%|██▏       | 20/91 [00:19<01:07,  1.06it/s]INFO:pv_vision.nn.modelhandler:Train Epoch: 1 [320/1453 (22%)]\tLoss: 0.053089\n",
            " 33%|███▎      | 30/91 [00:29<00:58,  1.05it/s]INFO:pv_vision.nn.modelhandler:Train Epoch: 1 [480/1453 (33%)]\tLoss: 0.023362\n",
            " 44%|████▍     | 40/91 [00:39<00:49,  1.04it/s]INFO:pv_vision.nn.modelhandler:Train Epoch: 1 [640/1453 (44%)]\tLoss: 0.036101\n",
            " 55%|█████▍    | 50/91 [00:49<00:39,  1.04it/s]INFO:pv_vision.nn.modelhandler:Train Epoch: 1 [800/1453 (55%)]\tLoss: 0.025202\n",
            " 66%|██████▌   | 60/91 [00:58<00:30,  1.03it/s]INFO:pv_vision.nn.modelhandler:Train Epoch: 1 [960/1453 (66%)]\tLoss: 0.047403\n",
            " 77%|███████▋  | 70/91 [01:08<00:20,  1.03it/s]INFO:pv_vision.nn.modelhandler:Train Epoch: 1 [1120/1453 (77%)]\tLoss: 0.041731\n",
            " 88%|████████▊ | 80/91 [01:18<00:10,  1.02it/s]INFO:pv_vision.nn.modelhandler:Train Epoch: 1 [1280/1453 (88%)]\tLoss: 0.056488\n",
            " 99%|█████████▉| 90/91 [01:28<00:00,  1.01it/s]INFO:pv_vision.nn.modelhandler:Train Epoch: 1 [1170/1453 (99%)]\tLoss: 0.045334\n",
            "100%|██████████| 91/91 [01:30<00:00,  1.01it/s]\n",
            "INFO:pv_vision.nn.modelhandler:Saved model at epoch 1\n",
            "100%|██████████| 6/6 [00:03<00:00,  1.96it/s]\n",
            "INFO:pv_vision.nn.modelhandler:Val epoch: 1 \tAverage loss: 0.0879\n"
          ]
        },
        {
          "output_type": "stream",
          "name": "stdout",
          "text": [
            "Loss: 0.0420 (train) | 0.0879 (val)\n",
            "Epoch 2 / 48\n",
            "----------\n"
          ]
        },
        {
          "output_type": "stream",
          "name": "stderr",
          "text": [
            "  0%|          | 0/91 [00:00<?, ?it/s]INFO:pv_vision.nn.modelhandler:Train Epoch: 2 [0/1453 (0%)]\tLoss: 0.042504\n",
            " 11%|█         | 10/91 [00:09<01:19,  1.02it/s]INFO:pv_vision.nn.modelhandler:Train Epoch: 2 [160/1453 (11%)]\tLoss: 0.035531\n",
            " 22%|██▏       | 20/91 [00:19<01:10,  1.01it/s]INFO:pv_vision.nn.modelhandler:Train Epoch: 2 [320/1453 (22%)]\tLoss: 0.046931\n",
            " 33%|███▎      | 30/91 [00:29<01:00,  1.01it/s]INFO:pv_vision.nn.modelhandler:Train Epoch: 2 [480/1453 (33%)]\tLoss: 0.022956\n",
            " 44%|████▍     | 40/91 [00:39<00:50,  1.01it/s]INFO:pv_vision.nn.modelhandler:Train Epoch: 2 [640/1453 (44%)]\tLoss: 0.034289\n",
            " 55%|█████▍    | 50/91 [00:49<00:40,  1.01it/s]INFO:pv_vision.nn.modelhandler:Train Epoch: 2 [800/1453 (55%)]\tLoss: 0.066890\n",
            " 66%|██████▌   | 60/91 [00:59<00:30,  1.02it/s]INFO:pv_vision.nn.modelhandler:Train Epoch: 2 [960/1453 (66%)]\tLoss: 0.055625\n",
            " 77%|███████▋  | 70/91 [01:09<00:20,  1.02it/s]INFO:pv_vision.nn.modelhandler:Train Epoch: 2 [1120/1453 (77%)]\tLoss: 0.039704\n",
            " 88%|████████▊ | 80/91 [01:19<00:10,  1.01it/s]INFO:pv_vision.nn.modelhandler:Train Epoch: 2 [1280/1453 (88%)]\tLoss: 0.047414\n",
            " 99%|█████████▉| 90/91 [01:30<00:00,  1.01it/s]INFO:pv_vision.nn.modelhandler:Train Epoch: 2 [1170/1453 (99%)]\tLoss: 0.038958\n",
            "100%|██████████| 91/91 [01:31<00:00,  1.01s/it]\n",
            "INFO:pv_vision.nn.modelhandler:Saved model at epoch 2\n",
            "100%|██████████| 6/6 [00:03<00:00,  1.76it/s]\n",
            "INFO:pv_vision.nn.modelhandler:Val epoch: 2 \tAverage loss: 0.0818\n"
          ]
        },
        {
          "output_type": "stream",
          "name": "stdout",
          "text": [
            "Loss: 0.0425 (train) | 0.0818 (val)\n",
            "Epoch 3 / 48\n",
            "----------\n"
          ]
        },
        {
          "output_type": "stream",
          "name": "stderr",
          "text": [
            "  0%|          | 0/91 [00:00<?, ?it/s]INFO:pv_vision.nn.modelhandler:Train Epoch: 3 [0/1453 (0%)]\tLoss: 0.040703\n",
            " 11%|█         | 10/91 [00:09<01:19,  1.02it/s]INFO:pv_vision.nn.modelhandler:Train Epoch: 3 [160/1453 (11%)]\tLoss: 0.027383\n",
            " 22%|██▏       | 20/91 [00:19<01:10,  1.01it/s]INFO:pv_vision.nn.modelhandler:Train Epoch: 3 [320/1453 (22%)]\tLoss: 0.036460\n",
            " 33%|███▎      | 30/91 [00:29<01:00,  1.01it/s]INFO:pv_vision.nn.modelhandler:Train Epoch: 3 [480/1453 (33%)]\tLoss: 0.035015\n",
            " 44%|████▍     | 40/91 [00:39<00:50,  1.01it/s]INFO:pv_vision.nn.modelhandler:Train Epoch: 3 [640/1453 (44%)]\tLoss: 0.055277\n",
            " 55%|█████▍    | 50/91 [00:49<00:40,  1.01it/s]INFO:pv_vision.nn.modelhandler:Train Epoch: 3 [800/1453 (55%)]\tLoss: 0.034677\n",
            " 66%|██████▌   | 60/91 [00:59<00:30,  1.01it/s]INFO:pv_vision.nn.modelhandler:Train Epoch: 3 [960/1453 (66%)]\tLoss: 0.043899\n",
            " 77%|███████▋  | 70/91 [01:10<00:20,  1.01it/s]INFO:pv_vision.nn.modelhandler:Train Epoch: 3 [1120/1453 (77%)]\tLoss: 0.061283\n",
            " 88%|████████▊ | 80/91 [01:20<00:10,  1.01it/s]INFO:pv_vision.nn.modelhandler:Train Epoch: 3 [1280/1453 (88%)]\tLoss: 0.043791\n",
            " 99%|█████████▉| 90/91 [01:30<00:00,  1.01it/s]INFO:pv_vision.nn.modelhandler:Train Epoch: 3 [1170/1453 (99%)]\tLoss: 0.028529\n",
            "100%|██████████| 91/91 [01:31<00:00,  1.01s/it]\n",
            "INFO:pv_vision.nn.modelhandler:Saved model at epoch 3\n",
            "100%|██████████| 6/6 [00:03<00:00,  1.70it/s]\n",
            "INFO:pv_vision.nn.modelhandler:Val epoch: 3 \tAverage loss: 0.0759\n"
          ]
        },
        {
          "output_type": "stream",
          "name": "stdout",
          "text": [
            "Loss: 0.0404 (train) | 0.0759 (val)\n",
            "Epoch 4 / 48\n",
            "----------\n"
          ]
        },
        {
          "output_type": "stream",
          "name": "stderr",
          "text": [
            "  0%|          | 0/91 [00:00<?, ?it/s]INFO:pv_vision.nn.modelhandler:Train Epoch: 4 [0/1453 (0%)]\tLoss: 0.035578\n",
            " 11%|█         | 10/91 [00:09<01:19,  1.02it/s]INFO:pv_vision.nn.modelhandler:Train Epoch: 4 [160/1453 (11%)]\tLoss: 0.030183\n",
            " 22%|██▏       | 20/91 [00:19<01:10,  1.01it/s]INFO:pv_vision.nn.modelhandler:Train Epoch: 4 [320/1453 (22%)]\tLoss: 0.045068\n",
            " 33%|███▎      | 30/91 [00:29<01:00,  1.01it/s]INFO:pv_vision.nn.modelhandler:Train Epoch: 4 [480/1453 (33%)]\tLoss: 0.034174\n",
            " 44%|████▍     | 40/91 [00:39<00:50,  1.01it/s]INFO:pv_vision.nn.modelhandler:Train Epoch: 4 [640/1453 (44%)]\tLoss: 0.039375\n",
            " 55%|█████▍    | 50/91 [00:49<00:40,  1.01it/s]INFO:pv_vision.nn.modelhandler:Train Epoch: 4 [800/1453 (55%)]\tLoss: 0.024064\n",
            " 66%|██████▌   | 60/91 [00:59<00:30,  1.01it/s]INFO:pv_vision.nn.modelhandler:Train Epoch: 4 [960/1453 (66%)]\tLoss: 0.063563\n",
            " 77%|███████▋  | 70/91 [01:10<00:20,  1.01it/s]INFO:pv_vision.nn.modelhandler:Train Epoch: 4 [1120/1453 (77%)]\tLoss: 0.048966\n",
            " 88%|████████▊ | 80/91 [01:20<00:10,  1.01it/s]INFO:pv_vision.nn.modelhandler:Train Epoch: 4 [1280/1453 (88%)]\tLoss: 0.039240\n",
            " 99%|█████████▉| 90/91 [01:30<00:00,  1.01it/s]INFO:pv_vision.nn.modelhandler:Train Epoch: 4 [1170/1453 (99%)]\tLoss: 0.040849\n",
            "100%|██████████| 91/91 [01:31<00:00,  1.01s/it]\n",
            "INFO:pv_vision.nn.modelhandler:Saved model at epoch 4\n",
            "100%|██████████| 6/6 [00:02<00:00,  2.01it/s]\n",
            "INFO:pv_vision.nn.modelhandler:Val epoch: 4 \tAverage loss: 0.0836\n"
          ]
        },
        {
          "output_type": "stream",
          "name": "stdout",
          "text": [
            "Loss: 0.0397 (train) | 0.0836 (val)\n",
            "Epoch 5 / 48\n",
            "----------\n"
          ]
        },
        {
          "output_type": "stream",
          "name": "stderr",
          "text": [
            "  0%|          | 0/91 [00:00<?, ?it/s]INFO:pv_vision.nn.modelhandler:Train Epoch: 5 [0/1453 (0%)]\tLoss: 0.024698\n",
            " 11%|█         | 10/91 [00:09<01:19,  1.02it/s]INFO:pv_vision.nn.modelhandler:Train Epoch: 5 [160/1453 (11%)]\tLoss: 0.034124\n",
            " 22%|██▏       | 20/91 [00:19<01:10,  1.01it/s]INFO:pv_vision.nn.modelhandler:Train Epoch: 5 [320/1453 (22%)]\tLoss: 0.030728\n",
            " 33%|███▎      | 30/91 [00:29<01:00,  1.01it/s]INFO:pv_vision.nn.modelhandler:Train Epoch: 5 [480/1453 (33%)]\tLoss: 0.076537\n",
            " 44%|████▍     | 40/91 [00:39<00:50,  1.01it/s]INFO:pv_vision.nn.modelhandler:Train Epoch: 5 [640/1453 (44%)]\tLoss: 0.031971\n",
            " 55%|█████▍    | 50/91 [00:49<00:40,  1.01it/s]INFO:pv_vision.nn.modelhandler:Train Epoch: 5 [800/1453 (55%)]\tLoss: 0.055920\n",
            " 66%|██████▌   | 60/91 [00:59<00:30,  1.01it/s]INFO:pv_vision.nn.modelhandler:Train Epoch: 5 [960/1453 (66%)]\tLoss: 0.041036\n",
            " 77%|███████▋  | 70/91 [01:10<00:20,  1.01it/s]INFO:pv_vision.nn.modelhandler:Train Epoch: 5 [1120/1453 (77%)]\tLoss: 0.061532\n",
            " 88%|████████▊ | 80/91 [01:20<00:10,  1.01it/s]INFO:pv_vision.nn.modelhandler:Train Epoch: 5 [1280/1453 (88%)]\tLoss: 0.059950\n",
            " 99%|█████████▉| 90/91 [01:30<00:00,  1.01it/s]INFO:pv_vision.nn.modelhandler:Train Epoch: 5 [1170/1453 (99%)]\tLoss: 0.037294\n",
            "100%|██████████| 91/91 [01:31<00:00,  1.01s/it]\n",
            "INFO:pv_vision.nn.modelhandler:Saved model at epoch 5\n",
            "100%|██████████| 6/6 [00:03<00:00,  1.77it/s]\n",
            "INFO:pv_vision.nn.modelhandler:Val epoch: 5 \tAverage loss: 0.1022\n"
          ]
        },
        {
          "output_type": "stream",
          "name": "stdout",
          "text": [
            "Loss: 0.0457 (train) | 0.1022 (val)\n",
            "Epoch 6 / 48\n",
            "----------\n"
          ]
        },
        {
          "output_type": "stream",
          "name": "stderr",
          "text": [
            "  0%|          | 0/91 [00:00<?, ?it/s]INFO:pv_vision.nn.modelhandler:Train Epoch: 6 [0/1453 (0%)]\tLoss: 0.045231\n",
            " 11%|█         | 10/91 [00:09<01:19,  1.02it/s]INFO:pv_vision.nn.modelhandler:Train Epoch: 6 [160/1453 (11%)]\tLoss: 0.039382\n",
            " 22%|██▏       | 20/91 [00:19<01:10,  1.01it/s]INFO:pv_vision.nn.modelhandler:Train Epoch: 6 [320/1453 (22%)]\tLoss: 0.041795\n",
            " 33%|███▎      | 30/91 [00:29<01:00,  1.01it/s]INFO:pv_vision.nn.modelhandler:Train Epoch: 6 [480/1453 (33%)]\tLoss: 0.048245\n",
            " 44%|████▍     | 40/91 [00:39<00:50,  1.01it/s]INFO:pv_vision.nn.modelhandler:Train Epoch: 6 [640/1453 (44%)]\tLoss: 0.048091\n",
            " 55%|█████▍    | 50/91 [00:49<00:40,  1.01it/s]INFO:pv_vision.nn.modelhandler:Train Epoch: 6 [800/1453 (55%)]\tLoss: 0.055448\n",
            " 66%|██████▌   | 60/91 [00:59<00:30,  1.01it/s]INFO:pv_vision.nn.modelhandler:Train Epoch: 6 [960/1453 (66%)]\tLoss: 0.034419\n",
            " 77%|███████▋  | 70/91 [01:09<00:20,  1.01it/s]INFO:pv_vision.nn.modelhandler:Train Epoch: 6 [1120/1453 (77%)]\tLoss: 0.028953\n",
            " 88%|████████▊ | 80/91 [01:20<00:10,  1.01it/s]INFO:pv_vision.nn.modelhandler:Train Epoch: 6 [1280/1453 (88%)]\tLoss: 0.029567\n",
            " 99%|█████████▉| 90/91 [01:30<00:00,  1.01it/s]INFO:pv_vision.nn.modelhandler:Train Epoch: 6 [1170/1453 (99%)]\tLoss: 0.035943\n",
            "100%|██████████| 91/91 [01:31<00:00,  1.01s/it]\n",
            "INFO:pv_vision.nn.modelhandler:Saved model at epoch 6\n",
            "100%|██████████| 6/6 [00:03<00:00,  1.73it/s]\n",
            "INFO:pv_vision.nn.modelhandler:Val epoch: 6 \tAverage loss: 0.0779\n"
          ]
        },
        {
          "output_type": "stream",
          "name": "stdout",
          "text": [
            "Loss: 0.0435 (train) | 0.0779 (val)\n",
            "Epoch 7 / 48\n",
            "----------\n"
          ]
        },
        {
          "output_type": "stream",
          "name": "stderr",
          "text": [
            "  0%|          | 0/91 [00:00<?, ?it/s]INFO:pv_vision.nn.modelhandler:Train Epoch: 7 [0/1453 (0%)]\tLoss: 0.044223\n",
            " 11%|█         | 10/91 [00:09<01:19,  1.02it/s]INFO:pv_vision.nn.modelhandler:Train Epoch: 7 [160/1453 (11%)]\tLoss: 0.021662\n",
            " 22%|██▏       | 20/91 [00:19<01:10,  1.01it/s]INFO:pv_vision.nn.modelhandler:Train Epoch: 7 [320/1453 (22%)]\tLoss: 0.028620\n",
            " 33%|███▎      | 30/91 [00:29<01:00,  1.01it/s]INFO:pv_vision.nn.modelhandler:Train Epoch: 7 [480/1453 (33%)]\tLoss: 0.033650\n",
            " 44%|████▍     | 40/91 [00:39<00:50,  1.01it/s]INFO:pv_vision.nn.modelhandler:Train Epoch: 7 [640/1453 (44%)]\tLoss: 0.044539\n",
            " 55%|█████▍    | 50/91 [00:49<00:40,  1.01it/s]INFO:pv_vision.nn.modelhandler:Train Epoch: 7 [800/1453 (55%)]\tLoss: 0.060013\n",
            " 66%|██████▌   | 60/91 [00:59<00:30,  1.01it/s]INFO:pv_vision.nn.modelhandler:Train Epoch: 7 [960/1453 (66%)]\tLoss: 0.049169\n",
            " 77%|███████▋  | 70/91 [01:10<00:20,  1.01it/s]INFO:pv_vision.nn.modelhandler:Train Epoch: 7 [1120/1453 (77%)]\tLoss: 0.053671\n",
            " 88%|████████▊ | 80/91 [01:20<00:10,  1.01it/s]INFO:pv_vision.nn.modelhandler:Train Epoch: 7 [1280/1453 (88%)]\tLoss: 0.029686\n",
            " 99%|█████████▉| 90/91 [01:30<00:00,  1.01it/s]INFO:pv_vision.nn.modelhandler:Train Epoch: 7 [1170/1453 (99%)]\tLoss: 0.032030\n",
            "100%|██████████| 91/91 [01:31<00:00,  1.01s/it]\n",
            "INFO:pv_vision.nn.modelhandler:Saved model at epoch 7\n",
            "100%|██████████| 6/6 [00:03<00:00,  1.96it/s]\n",
            "INFO:pv_vision.nn.modelhandler:Val epoch: 7 \tAverage loss: 0.0739\n"
          ]
        },
        {
          "output_type": "stream",
          "name": "stdout",
          "text": [
            "Loss: 0.0382 (train) | 0.0739 (val)\n",
            "Epoch 8 / 48\n",
            "----------\n"
          ]
        },
        {
          "output_type": "stream",
          "name": "stderr",
          "text": [
            "  0%|          | 0/91 [00:00<?, ?it/s]INFO:pv_vision.nn.modelhandler:Train Epoch: 8 [0/1453 (0%)]\tLoss: 0.033369\n",
            " 11%|█         | 10/91 [00:09<01:19,  1.02it/s]INFO:pv_vision.nn.modelhandler:Train Epoch: 8 [160/1453 (11%)]\tLoss: 0.040308\n",
            " 22%|██▏       | 20/91 [00:19<01:10,  1.01it/s]INFO:pv_vision.nn.modelhandler:Train Epoch: 8 [320/1453 (22%)]\tLoss: 0.051241\n",
            " 33%|███▎      | 30/91 [00:29<01:00,  1.01it/s]INFO:pv_vision.nn.modelhandler:Train Epoch: 8 [480/1453 (33%)]\tLoss: 0.025902\n",
            " 44%|████▍     | 40/91 [00:39<00:50,  1.01it/s]INFO:pv_vision.nn.modelhandler:Train Epoch: 8 [640/1453 (44%)]\tLoss: 0.020406\n",
            " 55%|█████▍    | 50/91 [00:49<00:40,  1.01it/s]INFO:pv_vision.nn.modelhandler:Train Epoch: 8 [800/1453 (55%)]\tLoss: 0.044092\n",
            " 66%|██████▌   | 60/91 [00:59<00:30,  1.01it/s]INFO:pv_vision.nn.modelhandler:Train Epoch: 8 [960/1453 (66%)]\tLoss: 0.043513\n",
            " 77%|███████▋  | 70/91 [01:09<00:20,  1.01it/s]INFO:pv_vision.nn.modelhandler:Train Epoch: 8 [1120/1453 (77%)]\tLoss: 0.038364\n",
            " 88%|████████▊ | 80/91 [01:20<00:10,  1.01it/s]INFO:pv_vision.nn.modelhandler:Train Epoch: 8 [1280/1453 (88%)]\tLoss: 0.043137\n",
            " 99%|█████████▉| 90/91 [01:30<00:00,  1.01it/s]INFO:pv_vision.nn.modelhandler:Train Epoch: 8 [1170/1453 (99%)]\tLoss: 0.039729\n",
            "100%|██████████| 91/91 [01:31<00:00,  1.01s/it]\n",
            "INFO:pv_vision.nn.modelhandler:Saved model at epoch 8\n",
            "100%|██████████| 6/6 [00:03<00:00,  1.80it/s]\n",
            "INFO:pv_vision.nn.modelhandler:Val epoch: 8 \tAverage loss: 0.0735\n"
          ]
        },
        {
          "output_type": "stream",
          "name": "stdout",
          "text": [
            "Loss: 0.0374 (train) | 0.0735 (val)\n",
            "Epoch 9 / 48\n",
            "----------\n"
          ]
        },
        {
          "output_type": "stream",
          "name": "stderr",
          "text": [
            "  0%|          | 0/91 [00:00<?, ?it/s]INFO:pv_vision.nn.modelhandler:Train Epoch: 9 [0/1453 (0%)]\tLoss: 0.030074\n",
            " 11%|█         | 10/91 [00:09<01:19,  1.02it/s]INFO:pv_vision.nn.modelhandler:Train Epoch: 9 [160/1453 (11%)]\tLoss: 0.041360\n",
            " 22%|██▏       | 20/91 [00:19<01:10,  1.01it/s]INFO:pv_vision.nn.modelhandler:Train Epoch: 9 [320/1453 (22%)]\tLoss: 0.036469\n",
            " 33%|███▎      | 30/91 [00:29<01:00,  1.01it/s]INFO:pv_vision.nn.modelhandler:Train Epoch: 9 [480/1453 (33%)]\tLoss: 0.050026\n",
            " 44%|████▍     | 40/91 [00:39<00:50,  1.01it/s]INFO:pv_vision.nn.modelhandler:Train Epoch: 9 [640/1453 (44%)]\tLoss: 0.041840\n",
            " 55%|█████▍    | 50/91 [00:49<00:40,  1.01it/s]INFO:pv_vision.nn.modelhandler:Train Epoch: 9 [800/1453 (55%)]\tLoss: 0.030772\n",
            " 66%|██████▌   | 60/91 [00:59<00:30,  1.01it/s]INFO:pv_vision.nn.modelhandler:Train Epoch: 9 [960/1453 (66%)]\tLoss: 0.058112\n",
            " 77%|███████▋  | 70/91 [01:10<00:20,  1.01it/s]INFO:pv_vision.nn.modelhandler:Train Epoch: 9 [1120/1453 (77%)]\tLoss: 0.028250\n",
            " 88%|████████▊ | 80/91 [01:20<00:10,  1.01it/s]INFO:pv_vision.nn.modelhandler:Train Epoch: 9 [1280/1453 (88%)]\tLoss: 0.037514\n",
            " 99%|█████████▉| 90/91 [01:30<00:00,  1.01it/s]INFO:pv_vision.nn.modelhandler:Train Epoch: 9 [1170/1453 (99%)]\tLoss: 0.025655\n",
            "100%|██████████| 91/91 [01:31<00:00,  1.01s/it]\n",
            "INFO:pv_vision.nn.modelhandler:Saved model at epoch 9\n",
            "100%|██████████| 6/6 [00:03<00:00,  1.76it/s]\n",
            "INFO:pv_vision.nn.modelhandler:Val epoch: 9 \tAverage loss: 0.0666\n"
          ]
        },
        {
          "output_type": "stream",
          "name": "stdout",
          "text": [
            "Loss: 0.0347 (train) | 0.0666 (val)\n",
            "Epoch 10 / 48\n",
            "----------\n"
          ]
        },
        {
          "output_type": "stream",
          "name": "stderr",
          "text": [
            "  0%|          | 0/91 [00:00<?, ?it/s]INFO:pv_vision.nn.modelhandler:Train Epoch: 10 [0/1453 (0%)]\tLoss: 0.051537\n",
            " 11%|█         | 10/91 [00:09<01:19,  1.02it/s]INFO:pv_vision.nn.modelhandler:Train Epoch: 10 [160/1453 (11%)]\tLoss: 0.029496\n",
            " 22%|██▏       | 20/91 [00:19<01:10,  1.01it/s]INFO:pv_vision.nn.modelhandler:Train Epoch: 10 [320/1453 (22%)]\tLoss: 0.042736\n",
            " 33%|███▎      | 30/91 [00:29<01:00,  1.01it/s]INFO:pv_vision.nn.modelhandler:Train Epoch: 10 [480/1453 (33%)]\tLoss: 0.038244\n",
            " 44%|████▍     | 40/91 [00:39<00:50,  1.01it/s]INFO:pv_vision.nn.modelhandler:Train Epoch: 10 [640/1453 (44%)]\tLoss: 0.028949\n",
            " 55%|█████▍    | 50/91 [00:49<00:40,  1.01it/s]INFO:pv_vision.nn.modelhandler:Train Epoch: 10 [800/1453 (55%)]\tLoss: 0.036071\n",
            " 66%|██████▌   | 60/91 [00:59<00:30,  1.01it/s]INFO:pv_vision.nn.modelhandler:Train Epoch: 10 [960/1453 (66%)]\tLoss: 0.042580\n",
            " 77%|███████▋  | 70/91 [01:10<00:20,  1.01it/s]INFO:pv_vision.nn.modelhandler:Train Epoch: 10 [1120/1453 (77%)]\tLoss: 0.047311\n",
            " 88%|████████▊ | 80/91 [01:20<00:10,  1.01it/s]INFO:pv_vision.nn.modelhandler:Train Epoch: 10 [1280/1453 (88%)]\tLoss: 0.031560\n",
            " 99%|█████████▉| 90/91 [01:30<00:00,  1.01it/s]INFO:pv_vision.nn.modelhandler:Train Epoch: 10 [1170/1453 (99%)]\tLoss: 0.046390\n",
            "100%|██████████| 91/91 [01:31<00:00,  1.01s/it]\n",
            "INFO:pv_vision.nn.modelhandler:Saved model at epoch 10\n",
            "100%|██████████| 6/6 [00:03<00:00,  1.97it/s]\n",
            "INFO:pv_vision.nn.modelhandler:Val epoch: 10 \tAverage loss: 0.0656\n"
          ]
        },
        {
          "output_type": "stream",
          "name": "stdout",
          "text": [
            "Loss: 0.0334 (train) | 0.0656 (val)\n",
            "Epoch 11 / 48\n",
            "----------\n"
          ]
        },
        {
          "output_type": "stream",
          "name": "stderr",
          "text": [
            "  0%|          | 0/91 [00:00<?, ?it/s]INFO:pv_vision.nn.modelhandler:Train Epoch: 11 [0/1453 (0%)]\tLoss: 0.032104\n",
            " 11%|█         | 10/91 [00:09<01:19,  1.02it/s]INFO:pv_vision.nn.modelhandler:Train Epoch: 11 [160/1453 (11%)]\tLoss: 0.024827\n",
            " 22%|██▏       | 20/91 [00:19<01:10,  1.01it/s]INFO:pv_vision.nn.modelhandler:Train Epoch: 11 [320/1453 (22%)]\tLoss: 0.034424\n",
            " 33%|███▎      | 30/91 [00:29<01:00,  1.01it/s]INFO:pv_vision.nn.modelhandler:Train Epoch: 11 [480/1453 (33%)]\tLoss: 0.019521\n",
            " 44%|████▍     | 40/91 [00:39<00:50,  1.01it/s]INFO:pv_vision.nn.modelhandler:Train Epoch: 11 [640/1453 (44%)]\tLoss: 0.042476\n",
            " 55%|█████▍    | 50/91 [00:49<00:40,  1.01it/s]INFO:pv_vision.nn.modelhandler:Train Epoch: 11 [800/1453 (55%)]\tLoss: 0.046805\n",
            " 66%|██████▌   | 60/91 [00:59<00:30,  1.01it/s]INFO:pv_vision.nn.modelhandler:Train Epoch: 11 [960/1453 (66%)]\tLoss: 0.024721\n",
            " 77%|███████▋  | 70/91 [01:09<00:20,  1.01it/s]INFO:pv_vision.nn.modelhandler:Train Epoch: 11 [1120/1453 (77%)]\tLoss: 0.038153\n",
            " 88%|████████▊ | 80/91 [01:19<00:10,  1.01it/s]INFO:pv_vision.nn.modelhandler:Train Epoch: 11 [1280/1453 (88%)]\tLoss: 0.046123\n",
            " 99%|█████████▉| 90/91 [01:30<00:00,  1.01it/s]INFO:pv_vision.nn.modelhandler:Train Epoch: 11 [1170/1453 (99%)]\tLoss: 0.039486\n",
            "100%|██████████| 91/91 [01:31<00:00,  1.01s/it]\n",
            "INFO:pv_vision.nn.modelhandler:Saved model at epoch 11\n",
            "100%|██████████| 6/6 [00:03<00:00,  1.97it/s]\n",
            "INFO:pv_vision.nn.modelhandler:Val epoch: 11 \tAverage loss: 0.0648\n"
          ]
        },
        {
          "output_type": "stream",
          "name": "stdout",
          "text": [
            "Loss: 0.0328 (train) | 0.0648 (val)\n",
            "Epoch 12 / 48\n",
            "----------\n"
          ]
        },
        {
          "output_type": "stream",
          "name": "stderr",
          "text": [
            "  0%|          | 0/91 [00:00<?, ?it/s]INFO:pv_vision.nn.modelhandler:Train Epoch: 12 [0/1453 (0%)]\tLoss: 0.037118\n",
            " 11%|█         | 10/91 [00:09<01:19,  1.02it/s]INFO:pv_vision.nn.modelhandler:Train Epoch: 12 [160/1453 (11%)]\tLoss: 0.021278\n",
            " 22%|██▏       | 20/91 [00:19<01:10,  1.01it/s]INFO:pv_vision.nn.modelhandler:Train Epoch: 12 [320/1453 (22%)]\tLoss: 0.030776\n",
            " 33%|███▎      | 30/91 [00:29<01:00,  1.01it/s]INFO:pv_vision.nn.modelhandler:Train Epoch: 12 [480/1453 (33%)]\tLoss: 0.028398\n",
            " 44%|████▍     | 40/91 [00:39<00:50,  1.01it/s]INFO:pv_vision.nn.modelhandler:Train Epoch: 12 [640/1453 (44%)]\tLoss: 0.028209\n",
            " 55%|█████▍    | 50/91 [00:49<00:40,  1.01it/s]INFO:pv_vision.nn.modelhandler:Train Epoch: 12 [800/1453 (55%)]\tLoss: 0.032428\n",
            " 66%|██████▌   | 60/91 [00:59<00:30,  1.01it/s]INFO:pv_vision.nn.modelhandler:Train Epoch: 12 [960/1453 (66%)]\tLoss: 0.020963\n",
            " 77%|███████▋  | 70/91 [01:09<00:20,  1.01it/s]INFO:pv_vision.nn.modelhandler:Train Epoch: 12 [1120/1453 (77%)]\tLoss: 0.035344\n",
            " 88%|████████▊ | 80/91 [01:20<00:10,  1.01it/s]INFO:pv_vision.nn.modelhandler:Train Epoch: 12 [1280/1453 (88%)]\tLoss: 0.033701\n",
            " 99%|█████████▉| 90/91 [01:30<00:00,  1.01it/s]INFO:pv_vision.nn.modelhandler:Train Epoch: 12 [1170/1453 (99%)]\tLoss: 0.025686\n",
            "100%|██████████| 91/91 [01:31<00:00,  1.01s/it]\n",
            "INFO:pv_vision.nn.modelhandler:Saved model at epoch 12\n",
            "100%|██████████| 6/6 [00:03<00:00,  1.95it/s]\n",
            "INFO:pv_vision.nn.modelhandler:Val epoch: 12 \tAverage loss: 0.0645\n"
          ]
        },
        {
          "output_type": "stream",
          "name": "stdout",
          "text": [
            "Loss: 0.0326 (train) | 0.0645 (val)\n",
            "Epoch 13 / 48\n",
            "----------\n"
          ]
        },
        {
          "output_type": "stream",
          "name": "stderr",
          "text": [
            "  0%|          | 0/91 [00:00<?, ?it/s]INFO:pv_vision.nn.modelhandler:Train Epoch: 13 [0/1453 (0%)]\tLoss: 0.029256\n",
            " 11%|█         | 10/91 [00:09<01:19,  1.02it/s]INFO:pv_vision.nn.modelhandler:Train Epoch: 13 [160/1453 (11%)]\tLoss: 0.025122\n",
            " 22%|██▏       | 20/91 [00:19<01:10,  1.01it/s]INFO:pv_vision.nn.modelhandler:Train Epoch: 13 [320/1453 (22%)]\tLoss: 0.031389\n",
            " 33%|███▎      | 30/91 [00:29<01:00,  1.01it/s]INFO:pv_vision.nn.modelhandler:Train Epoch: 13 [480/1453 (33%)]\tLoss: 0.034581\n",
            " 44%|████▍     | 40/91 [00:39<00:50,  1.01it/s]INFO:pv_vision.nn.modelhandler:Train Epoch: 13 [640/1453 (44%)]\tLoss: 0.038453\n",
            " 55%|█████▍    | 50/91 [00:49<00:40,  1.01it/s]INFO:pv_vision.nn.modelhandler:Train Epoch: 13 [800/1453 (55%)]\tLoss: 0.033668\n",
            " 66%|██████▌   | 60/91 [00:59<00:30,  1.01it/s]INFO:pv_vision.nn.modelhandler:Train Epoch: 13 [960/1453 (66%)]\tLoss: 0.038743\n",
            " 77%|███████▋  | 70/91 [01:10<00:20,  1.01it/s]INFO:pv_vision.nn.modelhandler:Train Epoch: 13 [1120/1453 (77%)]\tLoss: 0.034379\n",
            " 88%|████████▊ | 80/91 [01:20<00:10,  1.01it/s]INFO:pv_vision.nn.modelhandler:Train Epoch: 13 [1280/1453 (88%)]\tLoss: 0.028162\n",
            " 99%|█████████▉| 90/91 [01:30<00:00,  1.01it/s]INFO:pv_vision.nn.modelhandler:Train Epoch: 13 [1170/1453 (99%)]\tLoss: 0.020621\n",
            "100%|██████████| 91/91 [01:31<00:00,  1.01s/it]\n",
            "INFO:pv_vision.nn.modelhandler:Saved model at epoch 13\n",
            "100%|██████████| 6/6 [00:03<00:00,  1.74it/s]\n",
            "INFO:pv_vision.nn.modelhandler:Val epoch: 13 \tAverage loss: 0.0638\n"
          ]
        },
        {
          "output_type": "stream",
          "name": "stdout",
          "text": [
            "Loss: 0.0323 (train) | 0.0638 (val)\n",
            "Epoch 14 / 48\n",
            "----------\n"
          ]
        },
        {
          "output_type": "stream",
          "name": "stderr",
          "text": [
            "  0%|          | 0/91 [00:00<?, ?it/s]INFO:pv_vision.nn.modelhandler:Train Epoch: 14 [0/1453 (0%)]\tLoss: 0.018140\n",
            " 11%|█         | 10/91 [00:09<01:19,  1.02it/s]INFO:pv_vision.nn.modelhandler:Train Epoch: 14 [160/1453 (11%)]\tLoss: 0.043358\n",
            " 22%|██▏       | 20/91 [00:19<01:10,  1.01it/s]INFO:pv_vision.nn.modelhandler:Train Epoch: 14 [320/1453 (22%)]\tLoss: 0.057130\n",
            " 33%|███▎      | 30/91 [00:29<01:00,  1.01it/s]INFO:pv_vision.nn.modelhandler:Train Epoch: 14 [480/1453 (33%)]\tLoss: 0.031915\n",
            " 44%|████▍     | 40/91 [00:39<00:50,  1.01it/s]INFO:pv_vision.nn.modelhandler:Train Epoch: 14 [640/1453 (44%)]\tLoss: 0.016906\n",
            " 55%|█████▍    | 50/91 [00:49<00:40,  1.01it/s]INFO:pv_vision.nn.modelhandler:Train Epoch: 14 [800/1453 (55%)]\tLoss: 0.035741\n",
            " 66%|██████▌   | 60/91 [00:59<00:30,  1.01it/s]INFO:pv_vision.nn.modelhandler:Train Epoch: 14 [960/1453 (66%)]\tLoss: 0.058649\n",
            " 77%|███████▋  | 70/91 [01:10<00:20,  1.01it/s]INFO:pv_vision.nn.modelhandler:Train Epoch: 14 [1120/1453 (77%)]\tLoss: 0.025430\n",
            " 88%|████████▊ | 80/91 [01:20<00:10,  1.01it/s]INFO:pv_vision.nn.modelhandler:Train Epoch: 14 [1280/1453 (88%)]\tLoss: 0.036904\n",
            " 99%|█████████▉| 90/91 [01:30<00:00,  1.01it/s]INFO:pv_vision.nn.modelhandler:Train Epoch: 14 [1170/1453 (99%)]\tLoss: 0.038851\n",
            "100%|██████████| 91/91 [01:31<00:00,  1.01s/it]\n",
            "INFO:pv_vision.nn.modelhandler:Saved model at epoch 14\n",
            "100%|██████████| 6/6 [00:02<00:00,  2.04it/s]\n",
            "INFO:pv_vision.nn.modelhandler:Val epoch: 14 \tAverage loss: 0.0635\n"
          ]
        },
        {
          "output_type": "stream",
          "name": "stdout",
          "text": [
            "Loss: 0.0322 (train) | 0.0635 (val)\n",
            "Epoch 15 / 48\n",
            "----------\n"
          ]
        },
        {
          "output_type": "stream",
          "name": "stderr",
          "text": [
            "  0%|          | 0/91 [00:00<?, ?it/s]INFO:pv_vision.nn.modelhandler:Train Epoch: 15 [0/1453 (0%)]\tLoss: 0.042080\n",
            " 11%|█         | 10/91 [00:09<01:19,  1.02it/s]INFO:pv_vision.nn.modelhandler:Train Epoch: 15 [160/1453 (11%)]\tLoss: 0.032175\n",
            " 22%|██▏       | 20/91 [00:19<01:10,  1.01it/s]INFO:pv_vision.nn.modelhandler:Train Epoch: 15 [320/1453 (22%)]\tLoss: 0.032687\n",
            " 33%|███▎      | 30/91 [00:29<01:00,  1.01it/s]INFO:pv_vision.nn.modelhandler:Train Epoch: 15 [480/1453 (33%)]\tLoss: 0.031453\n",
            " 44%|████▍     | 40/91 [00:39<00:50,  1.01it/s]INFO:pv_vision.nn.modelhandler:Train Epoch: 15 [640/1453 (44%)]\tLoss: 0.031951\n",
            " 55%|█████▍    | 50/91 [00:49<00:40,  1.01it/s]INFO:pv_vision.nn.modelhandler:Train Epoch: 15 [800/1453 (55%)]\tLoss: 0.042413\n",
            " 66%|██████▌   | 60/91 [00:59<00:30,  1.01it/s]INFO:pv_vision.nn.modelhandler:Train Epoch: 15 [960/1453 (66%)]\tLoss: 0.019391\n",
            " 77%|███████▋  | 70/91 [01:10<00:20,  1.01it/s]INFO:pv_vision.nn.modelhandler:Train Epoch: 15 [1120/1453 (77%)]\tLoss: 0.049119\n",
            " 88%|████████▊ | 80/91 [01:20<00:10,  1.01it/s]INFO:pv_vision.nn.modelhandler:Train Epoch: 15 [1280/1453 (88%)]\tLoss: 0.034323\n",
            " 99%|█████████▉| 90/91 [01:30<00:00,  1.01it/s]INFO:pv_vision.nn.modelhandler:Train Epoch: 15 [1170/1453 (99%)]\tLoss: 0.027674\n",
            "100%|██████████| 91/91 [01:31<00:00,  1.01s/it]\n",
            "INFO:pv_vision.nn.modelhandler:Saved model at epoch 15\n",
            "100%|██████████| 6/6 [00:02<00:00,  2.01it/s]\n",
            "INFO:pv_vision.nn.modelhandler:Val epoch: 15 \tAverage loss: 0.0635\n"
          ]
        },
        {
          "output_type": "stream",
          "name": "stdout",
          "text": [
            "Loss: 0.0319 (train) | 0.0635 (val)\n",
            "Epoch 16 / 48\n",
            "----------\n"
          ]
        },
        {
          "output_type": "stream",
          "name": "stderr",
          "text": [
            "  0%|          | 0/91 [00:00<?, ?it/s]INFO:pv_vision.nn.modelhandler:Train Epoch: 16 [0/1453 (0%)]\tLoss: 0.064525\n",
            " 11%|█         | 10/91 [00:09<01:19,  1.02it/s]INFO:pv_vision.nn.modelhandler:Train Epoch: 16 [160/1453 (11%)]\tLoss: 0.027561\n",
            " 22%|██▏       | 20/91 [00:19<01:10,  1.01it/s]INFO:pv_vision.nn.modelhandler:Train Epoch: 16 [320/1453 (22%)]\tLoss: 0.029134\n",
            " 33%|███▎      | 30/91 [00:29<01:00,  1.01it/s]INFO:pv_vision.nn.modelhandler:Train Epoch: 16 [480/1453 (33%)]\tLoss: 0.030430\n",
            " 44%|████▍     | 40/91 [00:39<00:50,  1.01it/s]INFO:pv_vision.nn.modelhandler:Train Epoch: 16 [640/1453 (44%)]\tLoss: 0.026915\n",
            " 55%|█████▍    | 50/91 [00:49<00:40,  1.01it/s]INFO:pv_vision.nn.modelhandler:Train Epoch: 16 [800/1453 (55%)]\tLoss: 0.044974\n",
            " 66%|██████▌   | 60/91 [00:59<00:30,  1.01it/s]INFO:pv_vision.nn.modelhandler:Train Epoch: 16 [960/1453 (66%)]\tLoss: 0.033252\n",
            " 77%|███████▋  | 70/91 [01:09<00:20,  1.01it/s]INFO:pv_vision.nn.modelhandler:Train Epoch: 16 [1120/1453 (77%)]\tLoss: 0.031431\n",
            " 88%|████████▊ | 80/91 [01:20<00:10,  1.02it/s]INFO:pv_vision.nn.modelhandler:Train Epoch: 16 [1280/1453 (88%)]\tLoss: 0.035824\n",
            " 99%|█████████▉| 90/91 [01:30<00:00,  1.01it/s]INFO:pv_vision.nn.modelhandler:Train Epoch: 16 [1170/1453 (99%)]\tLoss: 0.039804\n",
            "100%|██████████| 91/91 [01:31<00:00,  1.01s/it]\n",
            "INFO:pv_vision.nn.modelhandler:Saved model at epoch 16\n",
            "100%|██████████| 6/6 [00:03<00:00,  1.79it/s]\n",
            "INFO:pv_vision.nn.modelhandler:Val epoch: 16 \tAverage loss: 0.0631\n"
          ]
        },
        {
          "output_type": "stream",
          "name": "stdout",
          "text": [
            "Loss: 0.0318 (train) | 0.0631 (val)\n",
            "Epoch 17 / 48\n",
            "----------\n"
          ]
        },
        {
          "output_type": "stream",
          "name": "stderr",
          "text": [
            "  0%|          | 0/91 [00:00<?, ?it/s]INFO:pv_vision.nn.modelhandler:Train Epoch: 17 [0/1453 (0%)]\tLoss: 0.034572\n",
            " 11%|█         | 10/91 [00:09<01:19,  1.02it/s]INFO:pv_vision.nn.modelhandler:Train Epoch: 17 [160/1453 (11%)]\tLoss: 0.036312\n",
            " 22%|██▏       | 20/91 [00:19<01:10,  1.01it/s]INFO:pv_vision.nn.modelhandler:Train Epoch: 17 [320/1453 (22%)]\tLoss: 0.030366\n",
            " 33%|███▎      | 30/91 [00:29<01:00,  1.01it/s]INFO:pv_vision.nn.modelhandler:Train Epoch: 17 [480/1453 (33%)]\tLoss: 0.040769\n",
            " 44%|████▍     | 40/91 [00:39<00:50,  1.01it/s]INFO:pv_vision.nn.modelhandler:Train Epoch: 17 [640/1453 (44%)]\tLoss: 0.025378\n",
            " 55%|█████▍    | 50/91 [00:49<00:40,  1.01it/s]INFO:pv_vision.nn.modelhandler:Train Epoch: 17 [800/1453 (55%)]\tLoss: 0.035748\n",
            " 66%|██████▌   | 60/91 [00:59<00:30,  1.01it/s]INFO:pv_vision.nn.modelhandler:Train Epoch: 17 [960/1453 (66%)]\tLoss: 0.030884\n",
            " 77%|███████▋  | 70/91 [01:09<00:20,  1.01it/s]INFO:pv_vision.nn.modelhandler:Train Epoch: 17 [1120/1453 (77%)]\tLoss: 0.027666\n",
            " 88%|████████▊ | 80/91 [01:20<00:10,  1.01it/s]INFO:pv_vision.nn.modelhandler:Train Epoch: 17 [1280/1453 (88%)]\tLoss: 0.025596\n",
            " 99%|█████████▉| 90/91 [01:30<00:00,  1.01it/s]INFO:pv_vision.nn.modelhandler:Train Epoch: 17 [1170/1453 (99%)]\tLoss: 0.032187\n",
            "100%|██████████| 91/91 [01:31<00:00,  1.01s/it]\n",
            "INFO:pv_vision.nn.modelhandler:Saved model at epoch 17\n",
            "100%|██████████| 6/6 [00:03<00:00,  1.90it/s]\n",
            "INFO:pv_vision.nn.modelhandler:Val epoch: 17 \tAverage loss: 0.0629\n"
          ]
        },
        {
          "output_type": "stream",
          "name": "stdout",
          "text": [
            "Loss: 0.0315 (train) | 0.0629 (val)\n",
            "Epoch 18 / 48\n",
            "----------\n"
          ]
        },
        {
          "output_type": "stream",
          "name": "stderr",
          "text": [
            "  0%|          | 0/91 [00:00<?, ?it/s]INFO:pv_vision.nn.modelhandler:Train Epoch: 18 [0/1453 (0%)]\tLoss: 0.023007\n",
            " 11%|█         | 10/91 [00:09<01:19,  1.02it/s]INFO:pv_vision.nn.modelhandler:Train Epoch: 18 [160/1453 (11%)]\tLoss: 0.037267\n",
            " 22%|██▏       | 20/91 [00:19<01:10,  1.01it/s]INFO:pv_vision.nn.modelhandler:Train Epoch: 18 [320/1453 (22%)]\tLoss: 0.020228\n",
            " 33%|███▎      | 30/91 [00:29<01:00,  1.01it/s]INFO:pv_vision.nn.modelhandler:Train Epoch: 18 [480/1453 (33%)]\tLoss: 0.027044\n",
            " 44%|████▍     | 40/91 [00:39<00:50,  1.01it/s]INFO:pv_vision.nn.modelhandler:Train Epoch: 18 [640/1453 (44%)]\tLoss: 0.045866\n",
            " 55%|█████▍    | 50/91 [00:49<00:40,  1.01it/s]INFO:pv_vision.nn.modelhandler:Train Epoch: 18 [800/1453 (55%)]\tLoss: 0.031787\n",
            " 66%|██████▌   | 60/91 [00:59<00:30,  1.01it/s]INFO:pv_vision.nn.modelhandler:Train Epoch: 18 [960/1453 (66%)]\tLoss: 0.041419\n",
            " 77%|███████▋  | 70/91 [01:10<00:20,  1.01it/s]INFO:pv_vision.nn.modelhandler:Train Epoch: 18 [1120/1453 (77%)]\tLoss: 0.017464\n",
            " 88%|████████▊ | 80/91 [01:20<00:10,  1.01it/s]INFO:pv_vision.nn.modelhandler:Train Epoch: 18 [1280/1453 (88%)]\tLoss: 0.029246\n",
            " 99%|█████████▉| 90/91 [01:30<00:00,  1.01it/s]INFO:pv_vision.nn.modelhandler:Train Epoch: 18 [1170/1453 (99%)]\tLoss: 0.036295\n",
            "100%|██████████| 91/91 [01:31<00:00,  1.01s/it]\n",
            "INFO:pv_vision.nn.modelhandler:Saved model at epoch 18\n",
            "100%|██████████| 6/6 [00:02<00:00,  2.01it/s]\n",
            "INFO:pv_vision.nn.modelhandler:Val epoch: 18 \tAverage loss: 0.0629\n"
          ]
        },
        {
          "output_type": "stream",
          "name": "stdout",
          "text": [
            "Loss: 0.0315 (train) | 0.0629 (val)\n",
            "Epoch 19 / 48\n",
            "----------\n"
          ]
        },
        {
          "output_type": "stream",
          "name": "stderr",
          "text": [
            "  0%|          | 0/91 [00:00<?, ?it/s]INFO:pv_vision.nn.modelhandler:Train Epoch: 19 [0/1453 (0%)]\tLoss: 0.029069\n",
            " 11%|█         | 10/91 [00:09<01:19,  1.02it/s]INFO:pv_vision.nn.modelhandler:Train Epoch: 19 [160/1453 (11%)]\tLoss: 0.040993\n",
            " 22%|██▏       | 20/91 [00:19<01:10,  1.01it/s]INFO:pv_vision.nn.modelhandler:Train Epoch: 19 [320/1453 (22%)]\tLoss: 0.030044\n",
            " 33%|███▎      | 30/91 [00:29<01:00,  1.01it/s]INFO:pv_vision.nn.modelhandler:Train Epoch: 19 [480/1453 (33%)]\tLoss: 0.056138\n",
            " 44%|████▍     | 40/91 [00:39<00:50,  1.01it/s]INFO:pv_vision.nn.modelhandler:Train Epoch: 19 [640/1453 (44%)]\tLoss: 0.020242\n",
            " 55%|█████▍    | 50/91 [00:49<00:40,  1.01it/s]INFO:pv_vision.nn.modelhandler:Train Epoch: 19 [800/1453 (55%)]\tLoss: 0.023367\n",
            " 66%|██████▌   | 60/91 [00:59<00:30,  1.01it/s]INFO:pv_vision.nn.modelhandler:Train Epoch: 19 [960/1453 (66%)]\tLoss: 0.038648\n",
            " 77%|███████▋  | 70/91 [01:10<00:20,  1.01it/s]INFO:pv_vision.nn.modelhandler:Train Epoch: 19 [1120/1453 (77%)]\tLoss: 0.029883\n",
            " 88%|████████▊ | 80/91 [01:20<00:10,  1.01it/s]INFO:pv_vision.nn.modelhandler:Train Epoch: 19 [1280/1453 (88%)]\tLoss: 0.028195\n",
            " 99%|█████████▉| 90/91 [01:30<00:00,  1.01it/s]INFO:pv_vision.nn.modelhandler:Train Epoch: 19 [1170/1453 (99%)]\tLoss: 0.026994\n",
            "100%|██████████| 91/91 [01:31<00:00,  1.01s/it]\n",
            "INFO:pv_vision.nn.modelhandler:Saved model at epoch 19\n",
            "100%|██████████| 6/6 [00:03<00:00,  1.76it/s]\n",
            "INFO:pv_vision.nn.modelhandler:Val epoch: 19 \tAverage loss: 0.0629\n"
          ]
        },
        {
          "output_type": "stream",
          "name": "stdout",
          "text": [
            "Loss: 0.0315 (train) | 0.0629 (val)\n",
            "Epoch 20 / 48\n",
            "----------\n"
          ]
        },
        {
          "output_type": "stream",
          "name": "stderr",
          "text": [
            "  0%|          | 0/91 [00:00<?, ?it/s]INFO:pv_vision.nn.modelhandler:Train Epoch: 20 [0/1453 (0%)]\tLoss: 0.038098\n",
            " 11%|█         | 10/91 [00:09<01:19,  1.01it/s]INFO:pv_vision.nn.modelhandler:Train Epoch: 20 [160/1453 (11%)]\tLoss: 0.027801\n",
            " 22%|██▏       | 20/91 [00:19<01:10,  1.01it/s]INFO:pv_vision.nn.modelhandler:Train Epoch: 20 [320/1453 (22%)]\tLoss: 0.032799\n",
            " 33%|███▎      | 30/91 [00:29<01:00,  1.01it/s]INFO:pv_vision.nn.modelhandler:Train Epoch: 20 [480/1453 (33%)]\tLoss: 0.029309\n",
            " 44%|████▍     | 40/91 [00:39<00:50,  1.01it/s]INFO:pv_vision.nn.modelhandler:Train Epoch: 20 [640/1453 (44%)]\tLoss: 0.033012\n",
            " 55%|█████▍    | 50/91 [00:49<00:40,  1.01it/s]INFO:pv_vision.nn.modelhandler:Train Epoch: 20 [800/1453 (55%)]\tLoss: 0.052686\n",
            " 66%|██████▌   | 60/91 [00:59<00:30,  1.01it/s]INFO:pv_vision.nn.modelhandler:Train Epoch: 20 [960/1453 (66%)]\tLoss: 0.036640\n",
            " 77%|███████▋  | 70/91 [01:10<00:20,  1.01it/s]INFO:pv_vision.nn.modelhandler:Train Epoch: 20 [1120/1453 (77%)]\tLoss: 0.028899\n",
            " 88%|████████▊ | 80/91 [01:20<00:10,  1.01it/s]INFO:pv_vision.nn.modelhandler:Train Epoch: 20 [1280/1453 (88%)]\tLoss: 0.032961\n",
            " 99%|█████████▉| 90/91 [01:30<00:00,  1.01it/s]INFO:pv_vision.nn.modelhandler:Train Epoch: 20 [1170/1453 (99%)]\tLoss: 0.013798\n",
            "100%|██████████| 91/91 [01:31<00:00,  1.01s/it]\n",
            "INFO:pv_vision.nn.modelhandler:Saved model at epoch 20\n",
            "100%|██████████| 6/6 [00:03<00:00,  1.76it/s]\n",
            "INFO:pv_vision.nn.modelhandler:Val epoch: 20 \tAverage loss: 0.0628\n"
          ]
        },
        {
          "output_type": "stream",
          "name": "stdout",
          "text": [
            "Loss: 0.0314 (train) | 0.0628 (val)\n",
            "Epoch 21 / 48\n",
            "----------\n"
          ]
        },
        {
          "output_type": "stream",
          "name": "stderr",
          "text": [
            "  0%|          | 0/91 [00:00<?, ?it/s]INFO:pv_vision.nn.modelhandler:Train Epoch: 21 [0/1453 (0%)]\tLoss: 0.033663\n",
            " 11%|█         | 10/91 [00:09<01:19,  1.02it/s]INFO:pv_vision.nn.modelhandler:Train Epoch: 21 [160/1453 (11%)]\tLoss: 0.046669\n",
            " 22%|██▏       | 20/91 [00:19<01:10,  1.01it/s]INFO:pv_vision.nn.modelhandler:Train Epoch: 21 [320/1453 (22%)]\tLoss: 0.028724\n",
            " 33%|███▎      | 30/91 [00:29<01:00,  1.01it/s]INFO:pv_vision.nn.modelhandler:Train Epoch: 21 [480/1453 (33%)]\tLoss: 0.029536\n",
            " 44%|████▍     | 40/91 [00:39<00:50,  1.01it/s]INFO:pv_vision.nn.modelhandler:Train Epoch: 21 [640/1453 (44%)]\tLoss: 0.038396\n",
            " 55%|█████▍    | 50/91 [00:49<00:40,  1.01it/s]INFO:pv_vision.nn.modelhandler:Train Epoch: 21 [800/1453 (55%)]\tLoss: 0.032813\n",
            " 66%|██████▌   | 60/91 [00:59<00:30,  1.01it/s]INFO:pv_vision.nn.modelhandler:Train Epoch: 21 [960/1453 (66%)]\tLoss: 0.041620\n",
            " 77%|███████▋  | 70/91 [01:09<00:20,  1.01it/s]INFO:pv_vision.nn.modelhandler:Train Epoch: 21 [1120/1453 (77%)]\tLoss: 0.017688\n",
            " 88%|████████▊ | 80/91 [01:20<00:10,  1.01it/s]INFO:pv_vision.nn.modelhandler:Train Epoch: 21 [1280/1453 (88%)]\tLoss: 0.032119\n",
            " 99%|█████████▉| 90/91 [01:30<00:00,  1.01it/s]INFO:pv_vision.nn.modelhandler:Train Epoch: 21 [1170/1453 (99%)]\tLoss: 0.028010\n",
            "100%|██████████| 91/91 [01:31<00:00,  1.01s/it]\n",
            "INFO:pv_vision.nn.modelhandler:Saved model at epoch 21\n",
            "100%|██████████| 6/6 [00:02<00:00,  2.03it/s]\n",
            "INFO:pv_vision.nn.modelhandler:Val epoch: 21 \tAverage loss: 0.0629\n"
          ]
        },
        {
          "output_type": "stream",
          "name": "stdout",
          "text": [
            "Loss: 0.0313 (train) | 0.0629 (val)\n",
            "Epoch 22 / 48\n",
            "----------\n"
          ]
        },
        {
          "output_type": "stream",
          "name": "stderr",
          "text": [
            "  0%|          | 0/91 [00:00<?, ?it/s]INFO:pv_vision.nn.modelhandler:Train Epoch: 22 [0/1453 (0%)]\tLoss: 0.018712\n",
            " 11%|█         | 10/91 [00:09<01:19,  1.02it/s]INFO:pv_vision.nn.modelhandler:Train Epoch: 22 [160/1453 (11%)]\tLoss: 0.040487\n",
            " 22%|██▏       | 20/91 [00:19<01:10,  1.01it/s]INFO:pv_vision.nn.modelhandler:Train Epoch: 22 [320/1453 (22%)]\tLoss: 0.026787\n",
            " 33%|███▎      | 30/91 [00:29<01:00,  1.01it/s]INFO:pv_vision.nn.modelhandler:Train Epoch: 22 [480/1453 (33%)]\tLoss: 0.024201\n",
            " 44%|████▍     | 40/91 [00:39<00:50,  1.01it/s]INFO:pv_vision.nn.modelhandler:Train Epoch: 22 [640/1453 (44%)]\tLoss: 0.033729\n",
            " 55%|█████▍    | 50/91 [00:49<00:40,  1.01it/s]INFO:pv_vision.nn.modelhandler:Train Epoch: 22 [800/1453 (55%)]\tLoss: 0.030206\n",
            " 66%|██████▌   | 60/91 [00:59<00:30,  1.01it/s]INFO:pv_vision.nn.modelhandler:Train Epoch: 22 [960/1453 (66%)]\tLoss: 0.041002\n",
            " 77%|███████▋  | 70/91 [01:10<00:20,  1.01it/s]INFO:pv_vision.nn.modelhandler:Train Epoch: 22 [1120/1453 (77%)]\tLoss: 0.031742\n",
            " 88%|████████▊ | 80/91 [01:20<00:10,  1.01it/s]INFO:pv_vision.nn.modelhandler:Train Epoch: 22 [1280/1453 (88%)]\tLoss: 0.023740\n",
            " 99%|█████████▉| 90/91 [01:30<00:00,  1.01it/s]INFO:pv_vision.nn.modelhandler:Train Epoch: 22 [1170/1453 (99%)]\tLoss: 0.017664\n",
            "100%|██████████| 91/91 [01:31<00:00,  1.01s/it]\n",
            "INFO:pv_vision.nn.modelhandler:Saved model at epoch 22\n",
            "100%|██████████| 6/6 [00:02<00:00,  2.02it/s]\n",
            "INFO:pv_vision.nn.modelhandler:Val epoch: 22 \tAverage loss: 0.0628\n"
          ]
        },
        {
          "output_type": "stream",
          "name": "stdout",
          "text": [
            "Loss: 0.0314 (train) | 0.0628 (val)\n",
            "Epoch 23 / 48\n",
            "----------\n"
          ]
        },
        {
          "output_type": "stream",
          "name": "stderr",
          "text": [
            "  0%|          | 0/91 [00:00<?, ?it/s]INFO:pv_vision.nn.modelhandler:Train Epoch: 23 [0/1453 (0%)]\tLoss: 0.033726\n",
            " 11%|█         | 10/91 [00:09<01:19,  1.02it/s]INFO:pv_vision.nn.modelhandler:Train Epoch: 23 [160/1453 (11%)]\tLoss: 0.040143\n",
            " 22%|██▏       | 20/91 [00:19<01:10,  1.01it/s]INFO:pv_vision.nn.modelhandler:Train Epoch: 23 [320/1453 (22%)]\tLoss: 0.034794\n",
            " 33%|███▎      | 30/91 [00:29<01:00,  1.01it/s]INFO:pv_vision.nn.modelhandler:Train Epoch: 23 [480/1453 (33%)]\tLoss: 0.023766\n",
            " 44%|████▍     | 40/91 [00:39<00:50,  1.01it/s]INFO:pv_vision.nn.modelhandler:Train Epoch: 23 [640/1453 (44%)]\tLoss: 0.033654\n",
            " 55%|█████▍    | 50/91 [00:49<00:40,  1.01it/s]INFO:pv_vision.nn.modelhandler:Train Epoch: 23 [800/1453 (55%)]\tLoss: 0.034485\n",
            " 66%|██████▌   | 60/91 [00:59<00:30,  1.01it/s]INFO:pv_vision.nn.modelhandler:Train Epoch: 23 [960/1453 (66%)]\tLoss: 0.040251\n",
            " 77%|███████▋  | 70/91 [01:10<00:20,  1.01it/s]INFO:pv_vision.nn.modelhandler:Train Epoch: 23 [1120/1453 (77%)]\tLoss: 0.023759\n",
            " 88%|████████▊ | 80/91 [01:20<00:10,  1.01it/s]INFO:pv_vision.nn.modelhandler:Train Epoch: 23 [1280/1453 (88%)]\tLoss: 0.039425\n",
            " 99%|█████████▉| 90/91 [01:30<00:00,  1.01it/s]INFO:pv_vision.nn.modelhandler:Train Epoch: 23 [1170/1453 (99%)]\tLoss: 0.033746\n",
            "100%|██████████| 91/91 [01:31<00:00,  1.01s/it]\n",
            "INFO:pv_vision.nn.modelhandler:Saved model at epoch 23\n",
            "100%|██████████| 6/6 [00:03<00:00,  1.96it/s]\n",
            "INFO:pv_vision.nn.modelhandler:Val epoch: 23 \tAverage loss: 0.0627\n"
          ]
        },
        {
          "output_type": "stream",
          "name": "stdout",
          "text": [
            "Loss: 0.0316 (train) | 0.0627 (val)\n",
            "Epoch 24 / 48\n",
            "----------\n"
          ]
        },
        {
          "output_type": "stream",
          "name": "stderr",
          "text": [
            "  0%|          | 0/91 [00:00<?, ?it/s]INFO:pv_vision.nn.modelhandler:Train Epoch: 24 [0/1453 (0%)]\tLoss: 0.028706\n",
            " 11%|█         | 10/91 [00:09<01:19,  1.02it/s]INFO:pv_vision.nn.modelhandler:Train Epoch: 24 [160/1453 (11%)]\tLoss: 0.029244\n",
            " 22%|██▏       | 20/91 [00:19<01:10,  1.01it/s]INFO:pv_vision.nn.modelhandler:Train Epoch: 24 [320/1453 (22%)]\tLoss: 0.029196\n",
            " 33%|███▎      | 30/91 [00:29<01:00,  1.01it/s]INFO:pv_vision.nn.modelhandler:Train Epoch: 24 [480/1453 (33%)]\tLoss: 0.023073\n",
            " 44%|████▍     | 40/91 [00:39<00:50,  1.01it/s]INFO:pv_vision.nn.modelhandler:Train Epoch: 24 [640/1453 (44%)]\tLoss: 0.052399\n",
            " 55%|█████▍    | 50/91 [00:49<00:40,  1.01it/s]INFO:pv_vision.nn.modelhandler:Train Epoch: 24 [800/1453 (55%)]\tLoss: 0.026073\n",
            " 66%|██████▌   | 60/91 [00:59<00:30,  1.01it/s]INFO:pv_vision.nn.modelhandler:Train Epoch: 24 [960/1453 (66%)]\tLoss: 0.026384\n",
            " 77%|███████▋  | 70/91 [01:10<00:20,  1.01it/s]INFO:pv_vision.nn.modelhandler:Train Epoch: 24 [1120/1453 (77%)]\tLoss: 0.033885\n",
            " 88%|████████▊ | 80/91 [01:20<00:10,  1.01it/s]INFO:pv_vision.nn.modelhandler:Train Epoch: 24 [1280/1453 (88%)]\tLoss: 0.030196\n",
            " 99%|█████████▉| 90/91 [01:30<00:00,  1.01it/s]INFO:pv_vision.nn.modelhandler:Train Epoch: 24 [1170/1453 (99%)]\tLoss: 0.028704\n",
            "100%|██████████| 91/91 [01:31<00:00,  1.01s/it]\n",
            "INFO:pv_vision.nn.modelhandler:Saved model at epoch 24\n",
            "100%|██████████| 6/6 [00:03<00:00,  1.77it/s]\n",
            "INFO:pv_vision.nn.modelhandler:Val epoch: 24 \tAverage loss: 0.0628\n"
          ]
        },
        {
          "output_type": "stream",
          "name": "stdout",
          "text": [
            "Loss: 0.0315 (train) | 0.0628 (val)\n",
            "Epoch 25 / 48\n",
            "----------\n"
          ]
        },
        {
          "output_type": "stream",
          "name": "stderr",
          "text": [
            "  0%|          | 0/91 [00:00<?, ?it/s]INFO:pv_vision.nn.modelhandler:Train Epoch: 25 [0/1453 (0%)]\tLoss: 0.017212\n",
            " 11%|█         | 10/91 [00:09<01:19,  1.02it/s]INFO:pv_vision.nn.modelhandler:Train Epoch: 25 [160/1453 (11%)]\tLoss: 0.029940\n",
            " 22%|██▏       | 20/91 [00:19<01:10,  1.01it/s]INFO:pv_vision.nn.modelhandler:Train Epoch: 25 [320/1453 (22%)]\tLoss: 0.026129\n",
            " 33%|███▎      | 30/91 [00:29<01:00,  1.01it/s]INFO:pv_vision.nn.modelhandler:Train Epoch: 25 [480/1453 (33%)]\tLoss: 0.031926\n",
            " 44%|████▍     | 40/91 [00:39<00:50,  1.01it/s]INFO:pv_vision.nn.modelhandler:Train Epoch: 25 [640/1453 (44%)]\tLoss: 0.024463\n",
            " 55%|█████▍    | 50/91 [00:49<00:40,  1.01it/s]INFO:pv_vision.nn.modelhandler:Train Epoch: 25 [800/1453 (55%)]\tLoss: 0.025191\n",
            " 66%|██████▌   | 60/91 [00:59<00:30,  1.01it/s]INFO:pv_vision.nn.modelhandler:Train Epoch: 25 [960/1453 (66%)]\tLoss: 0.025333\n",
            " 77%|███████▋  | 70/91 [01:09<00:20,  1.01it/s]INFO:pv_vision.nn.modelhandler:Train Epoch: 25 [1120/1453 (77%)]\tLoss: 0.039245\n",
            " 88%|████████▊ | 80/91 [01:20<00:10,  1.01it/s]INFO:pv_vision.nn.modelhandler:Train Epoch: 25 [1280/1453 (88%)]\tLoss: 0.039147\n",
            " 99%|█████████▉| 90/91 [01:30<00:00,  1.01it/s]INFO:pv_vision.nn.modelhandler:Train Epoch: 25 [1170/1453 (99%)]\tLoss: 0.041452\n",
            "100%|██████████| 91/91 [01:31<00:00,  1.01s/it]\n",
            "INFO:pv_vision.nn.modelhandler:Saved model at epoch 25\n",
            "100%|██████████| 6/6 [00:03<00:00,  1.76it/s]\n",
            "INFO:pv_vision.nn.modelhandler:Val epoch: 25 \tAverage loss: 0.0627\n"
          ]
        },
        {
          "output_type": "stream",
          "name": "stdout",
          "text": [
            "Loss: 0.0313 (train) | 0.0627 (val)\n",
            "Epoch 26 / 48\n",
            "----------\n"
          ]
        },
        {
          "output_type": "stream",
          "name": "stderr",
          "text": [
            "  0%|          | 0/91 [00:00<?, ?it/s]INFO:pv_vision.nn.modelhandler:Train Epoch: 26 [0/1453 (0%)]\tLoss: 0.020714\n",
            " 11%|█         | 10/91 [00:09<01:19,  1.02it/s]INFO:pv_vision.nn.modelhandler:Train Epoch: 26 [160/1453 (11%)]\tLoss: 0.035436\n",
            " 22%|██▏       | 20/91 [00:19<01:10,  1.01it/s]INFO:pv_vision.nn.modelhandler:Train Epoch: 26 [320/1453 (22%)]\tLoss: 0.027825\n",
            " 33%|███▎      | 30/91 [00:29<01:00,  1.01it/s]INFO:pv_vision.nn.modelhandler:Train Epoch: 26 [480/1453 (33%)]\tLoss: 0.026184\n",
            " 44%|████▍     | 40/91 [00:39<00:50,  1.01it/s]INFO:pv_vision.nn.modelhandler:Train Epoch: 26 [640/1453 (44%)]\tLoss: 0.043292\n",
            " 55%|█████▍    | 50/91 [00:49<00:40,  1.01it/s]INFO:pv_vision.nn.modelhandler:Train Epoch: 26 [800/1453 (55%)]\tLoss: 0.032827\n",
            " 66%|██████▌   | 60/91 [00:59<00:30,  1.01it/s]INFO:pv_vision.nn.modelhandler:Train Epoch: 26 [960/1453 (66%)]\tLoss: 0.019155\n",
            " 77%|███████▋  | 70/91 [01:10<00:20,  1.01it/s]INFO:pv_vision.nn.modelhandler:Train Epoch: 26 [1120/1453 (77%)]\tLoss: 0.034506\n",
            " 88%|████████▊ | 80/91 [01:20<00:10,  1.01it/s]INFO:pv_vision.nn.modelhandler:Train Epoch: 26 [1280/1453 (88%)]\tLoss: 0.019304\n",
            " 99%|█████████▉| 90/91 [01:30<00:00,  1.01it/s]INFO:pv_vision.nn.modelhandler:Train Epoch: 26 [1170/1453 (99%)]\tLoss: 0.033784\n",
            "100%|██████████| 91/91 [01:31<00:00,  1.01s/it]\n",
            "INFO:pv_vision.nn.modelhandler:Saved model at epoch 26\n",
            "100%|██████████| 6/6 [00:03<00:00,  1.81it/s]\n",
            "INFO:pv_vision.nn.modelhandler:Val epoch: 26 \tAverage loss: 0.0627\n"
          ]
        },
        {
          "output_type": "stream",
          "name": "stdout",
          "text": [
            "Loss: 0.0313 (train) | 0.0627 (val)\n",
            "Epoch 27 / 48\n",
            "----------\n"
          ]
        },
        {
          "output_type": "stream",
          "name": "stderr",
          "text": [
            "  0%|          | 0/91 [00:00<?, ?it/s]INFO:pv_vision.nn.modelhandler:Train Epoch: 27 [0/1453 (0%)]\tLoss: 0.041009\n",
            " 11%|█         | 10/91 [00:09<01:19,  1.02it/s]INFO:pv_vision.nn.modelhandler:Train Epoch: 27 [160/1453 (11%)]\tLoss: 0.046043\n",
            " 22%|██▏       | 20/91 [00:19<01:10,  1.01it/s]INFO:pv_vision.nn.modelhandler:Train Epoch: 27 [320/1453 (22%)]\tLoss: 0.027209\n",
            " 33%|███▎      | 30/91 [00:29<01:00,  1.01it/s]INFO:pv_vision.nn.modelhandler:Train Epoch: 27 [480/1453 (33%)]\tLoss: 0.022766\n",
            " 44%|████▍     | 40/91 [00:39<00:50,  1.01it/s]INFO:pv_vision.nn.modelhandler:Train Epoch: 27 [640/1453 (44%)]\tLoss: 0.032434\n",
            " 55%|█████▍    | 50/91 [00:49<00:40,  1.01it/s]INFO:pv_vision.nn.modelhandler:Train Epoch: 27 [800/1453 (55%)]\tLoss: 0.037426\n",
            " 66%|██████▌   | 60/91 [00:59<00:30,  1.01it/s]INFO:pv_vision.nn.modelhandler:Train Epoch: 27 [960/1453 (66%)]\tLoss: 0.033836\n",
            " 77%|███████▋  | 70/91 [01:10<00:20,  1.01it/s]INFO:pv_vision.nn.modelhandler:Train Epoch: 27 [1120/1453 (77%)]\tLoss: 0.045893\n",
            " 88%|████████▊ | 80/91 [01:20<00:10,  1.01it/s]INFO:pv_vision.nn.modelhandler:Train Epoch: 27 [1280/1453 (88%)]\tLoss: 0.035393\n",
            " 99%|█████████▉| 90/91 [01:30<00:00,  1.01it/s]INFO:pv_vision.nn.modelhandler:Train Epoch: 27 [1170/1453 (99%)]\tLoss: 0.028208\n",
            "100%|██████████| 91/91 [01:31<00:00,  1.01s/it]\n",
            "INFO:pv_vision.nn.modelhandler:Saved model at epoch 27\n",
            "100%|██████████| 6/6 [00:02<00:00,  2.02it/s]\n",
            "INFO:pv_vision.nn.modelhandler:Val epoch: 27 \tAverage loss: 0.0629\n"
          ]
        },
        {
          "output_type": "stream",
          "name": "stdout",
          "text": [
            "Loss: 0.0314 (train) | 0.0629 (val)\n",
            "Epoch 28 / 48\n",
            "----------\n"
          ]
        },
        {
          "output_type": "stream",
          "name": "stderr",
          "text": [
            "  0%|          | 0/91 [00:00<?, ?it/s]INFO:pv_vision.nn.modelhandler:Train Epoch: 28 [0/1453 (0%)]\tLoss: 0.022026\n",
            " 11%|█         | 10/91 [00:09<01:19,  1.02it/s]INFO:pv_vision.nn.modelhandler:Train Epoch: 28 [160/1453 (11%)]\tLoss: 0.020831\n",
            " 22%|██▏       | 20/91 [00:19<01:10,  1.01it/s]INFO:pv_vision.nn.modelhandler:Train Epoch: 28 [320/1453 (22%)]\tLoss: 0.026224\n",
            " 33%|███▎      | 30/91 [00:29<01:00,  1.01it/s]INFO:pv_vision.nn.modelhandler:Train Epoch: 28 [480/1453 (33%)]\tLoss: 0.036261\n",
            " 44%|████▍     | 40/91 [00:39<00:50,  1.01it/s]INFO:pv_vision.nn.modelhandler:Train Epoch: 28 [640/1453 (44%)]\tLoss: 0.048879\n",
            " 55%|█████▍    | 50/91 [00:49<00:40,  1.01it/s]INFO:pv_vision.nn.modelhandler:Train Epoch: 28 [800/1453 (55%)]\tLoss: 0.038465\n",
            " 66%|██████▌   | 60/91 [00:59<00:30,  1.01it/s]INFO:pv_vision.nn.modelhandler:Train Epoch: 28 [960/1453 (66%)]\tLoss: 0.028727\n",
            " 77%|███████▋  | 70/91 [01:10<00:20,  1.01it/s]INFO:pv_vision.nn.modelhandler:Train Epoch: 28 [1120/1453 (77%)]\tLoss: 0.018417\n",
            " 88%|████████▊ | 80/91 [01:20<00:10,  1.01it/s]INFO:pv_vision.nn.modelhandler:Train Epoch: 28 [1280/1453 (88%)]\tLoss: 0.043196\n",
            " 99%|█████████▉| 90/91 [01:30<00:00,  1.01it/s]INFO:pv_vision.nn.modelhandler:Train Epoch: 28 [1170/1453 (99%)]\tLoss: 0.029520\n",
            "100%|██████████| 91/91 [01:31<00:00,  1.01s/it]\n",
            "INFO:pv_vision.nn.modelhandler:Saved model at epoch 28\n",
            "100%|██████████| 6/6 [00:03<00:00,  1.88it/s]\n",
            "INFO:pv_vision.nn.modelhandler:Val epoch: 28 \tAverage loss: 0.0628\n"
          ]
        },
        {
          "output_type": "stream",
          "name": "stdout",
          "text": [
            "Loss: 0.0314 (train) | 0.0628 (val)\n",
            "Epoch 29 / 48\n",
            "----------\n"
          ]
        },
        {
          "output_type": "stream",
          "name": "stderr",
          "text": [
            "  0%|          | 0/91 [00:00<?, ?it/s]INFO:pv_vision.nn.modelhandler:Train Epoch: 29 [0/1453 (0%)]\tLoss: 0.031498\n",
            " 11%|█         | 10/91 [00:09<01:19,  1.02it/s]INFO:pv_vision.nn.modelhandler:Train Epoch: 29 [160/1453 (11%)]\tLoss: 0.024065\n",
            " 22%|██▏       | 20/91 [00:19<01:10,  1.01it/s]INFO:pv_vision.nn.modelhandler:Train Epoch: 29 [320/1453 (22%)]\tLoss: 0.025999\n",
            " 33%|███▎      | 30/91 [00:29<01:00,  1.01it/s]INFO:pv_vision.nn.modelhandler:Train Epoch: 29 [480/1453 (33%)]\tLoss: 0.028795\n",
            " 44%|████▍     | 40/91 [00:39<00:50,  1.01it/s]INFO:pv_vision.nn.modelhandler:Train Epoch: 29 [640/1453 (44%)]\tLoss: 0.036377\n",
            " 55%|█████▍    | 50/91 [00:49<00:40,  1.01it/s]INFO:pv_vision.nn.modelhandler:Train Epoch: 29 [800/1453 (55%)]\tLoss: 0.036326\n",
            " 66%|██████▌   | 60/91 [00:59<00:30,  1.01it/s]INFO:pv_vision.nn.modelhandler:Train Epoch: 29 [960/1453 (66%)]\tLoss: 0.053330\n",
            " 77%|███████▋  | 70/91 [01:09<00:20,  1.01it/s]INFO:pv_vision.nn.modelhandler:Train Epoch: 29 [1120/1453 (77%)]\tLoss: 0.031211\n",
            " 88%|████████▊ | 80/91 [01:20<00:10,  1.01it/s]INFO:pv_vision.nn.modelhandler:Train Epoch: 29 [1280/1453 (88%)]\tLoss: 0.020705\n",
            " 99%|█████████▉| 90/91 [01:30<00:00,  1.01it/s]INFO:pv_vision.nn.modelhandler:Train Epoch: 29 [1170/1453 (99%)]\tLoss: 0.031161\n",
            "100%|██████████| 91/91 [01:31<00:00,  1.01s/it]\n",
            "INFO:pv_vision.nn.modelhandler:Saved model at epoch 29\n",
            "100%|██████████| 6/6 [00:03<00:00,  1.86it/s]\n",
            "INFO:pv_vision.nn.modelhandler:Val epoch: 29 \tAverage loss: 0.0629\n"
          ]
        },
        {
          "output_type": "stream",
          "name": "stdout",
          "text": [
            "Loss: 0.0314 (train) | 0.0629 (val)\n",
            "Epoch 30 / 48\n",
            "----------\n"
          ]
        },
        {
          "output_type": "stream",
          "name": "stderr",
          "text": [
            "  0%|          | 0/91 [00:00<?, ?it/s]INFO:pv_vision.nn.modelhandler:Train Epoch: 30 [0/1453 (0%)]\tLoss: 0.034425\n",
            " 11%|█         | 10/91 [00:09<01:19,  1.02it/s]INFO:pv_vision.nn.modelhandler:Train Epoch: 30 [160/1453 (11%)]\tLoss: 0.023772\n",
            " 22%|██▏       | 20/91 [00:19<01:10,  1.01it/s]INFO:pv_vision.nn.modelhandler:Train Epoch: 30 [320/1453 (22%)]\tLoss: 0.025923\n",
            " 33%|███▎      | 30/91 [00:29<01:00,  1.01it/s]INFO:pv_vision.nn.modelhandler:Train Epoch: 30 [480/1453 (33%)]\tLoss: 0.016310\n",
            " 44%|████▍     | 40/91 [00:39<00:50,  1.01it/s]INFO:pv_vision.nn.modelhandler:Train Epoch: 30 [640/1453 (44%)]\tLoss: 0.041235\n",
            " 55%|█████▍    | 50/91 [00:49<00:40,  1.01it/s]INFO:pv_vision.nn.modelhandler:Train Epoch: 30 [800/1453 (55%)]\tLoss: 0.026679\n",
            " 66%|██████▌   | 60/91 [00:59<00:30,  1.01it/s]INFO:pv_vision.nn.modelhandler:Train Epoch: 30 [960/1453 (66%)]\tLoss: 0.021757\n",
            " 77%|███████▋  | 70/91 [01:10<00:20,  1.01it/s]INFO:pv_vision.nn.modelhandler:Train Epoch: 30 [1120/1453 (77%)]\tLoss: 0.030885\n",
            " 88%|████████▊ | 80/91 [01:20<00:10,  1.01it/s]INFO:pv_vision.nn.modelhandler:Train Epoch: 30 [1280/1453 (88%)]\tLoss: 0.034892\n",
            " 99%|█████████▉| 90/91 [01:30<00:00,  1.01it/s]INFO:pv_vision.nn.modelhandler:Train Epoch: 30 [1170/1453 (99%)]\tLoss: 0.026149\n",
            "100%|██████████| 91/91 [01:31<00:00,  1.01s/it]\n",
            "INFO:pv_vision.nn.modelhandler:Saved model at epoch 30\n",
            "100%|██████████| 6/6 [00:03<00:00,  1.94it/s]\n",
            "INFO:pv_vision.nn.modelhandler:Val epoch: 30 \tAverage loss: 0.0629\n"
          ]
        },
        {
          "output_type": "stream",
          "name": "stdout",
          "text": [
            "Loss: 0.0314 (train) | 0.0629 (val)\n",
            "Epoch 31 / 48\n",
            "----------\n"
          ]
        },
        {
          "output_type": "stream",
          "name": "stderr",
          "text": [
            "  0%|          | 0/91 [00:00<?, ?it/s]INFO:pv_vision.nn.modelhandler:Train Epoch: 31 [0/1453 (0%)]\tLoss: 0.028320\n",
            " 11%|█         | 10/91 [00:09<01:19,  1.02it/s]INFO:pv_vision.nn.modelhandler:Train Epoch: 31 [160/1453 (11%)]\tLoss: 0.028888\n",
            " 22%|██▏       | 20/91 [00:19<01:10,  1.01it/s]INFO:pv_vision.nn.modelhandler:Train Epoch: 31 [320/1453 (22%)]\tLoss: 0.038434\n",
            " 33%|███▎      | 30/91 [00:29<01:00,  1.01it/s]INFO:pv_vision.nn.modelhandler:Train Epoch: 31 [480/1453 (33%)]\tLoss: 0.034486\n",
            " 44%|████▍     | 40/91 [00:39<00:50,  1.01it/s]INFO:pv_vision.nn.modelhandler:Train Epoch: 31 [640/1453 (44%)]\tLoss: 0.032121\n",
            " 55%|█████▍    | 50/91 [00:49<00:40,  1.01it/s]INFO:pv_vision.nn.modelhandler:Train Epoch: 31 [800/1453 (55%)]\tLoss: 0.028120\n",
            " 66%|██████▌   | 60/91 [00:59<00:30,  1.01it/s]INFO:pv_vision.nn.modelhandler:Train Epoch: 31 [960/1453 (66%)]\tLoss: 0.031291\n",
            " 77%|███████▋  | 70/91 [01:09<00:20,  1.01it/s]INFO:pv_vision.nn.modelhandler:Train Epoch: 31 [1120/1453 (77%)]\tLoss: 0.050282\n",
            " 88%|████████▊ | 80/91 [01:20<00:10,  1.01it/s]INFO:pv_vision.nn.modelhandler:Train Epoch: 31 [1280/1453 (88%)]\tLoss: 0.033388\n",
            " 99%|█████████▉| 90/91 [01:30<00:00,  1.01it/s]INFO:pv_vision.nn.modelhandler:Train Epoch: 31 [1170/1453 (99%)]\tLoss: 0.038653\n",
            "100%|██████████| 91/91 [01:31<00:00,  1.01s/it]\n",
            "INFO:pv_vision.nn.modelhandler:Saved model at epoch 31\n",
            "100%|██████████| 6/6 [00:03<00:00,  1.89it/s]\n",
            "INFO:pv_vision.nn.modelhandler:Val epoch: 31 \tAverage loss: 0.0627\n"
          ]
        },
        {
          "output_type": "stream",
          "name": "stdout",
          "text": [
            "Loss: 0.0315 (train) | 0.0627 (val)\n",
            "Epoch 32 / 48\n",
            "----------\n"
          ]
        },
        {
          "output_type": "stream",
          "name": "stderr",
          "text": [
            "  0%|          | 0/91 [00:00<?, ?it/s]INFO:pv_vision.nn.modelhandler:Train Epoch: 32 [0/1453 (0%)]\tLoss: 0.023001\n",
            " 11%|█         | 10/91 [00:09<01:19,  1.02it/s]INFO:pv_vision.nn.modelhandler:Train Epoch: 32 [160/1453 (11%)]\tLoss: 0.039719\n",
            " 22%|██▏       | 20/91 [00:19<01:10,  1.01it/s]INFO:pv_vision.nn.modelhandler:Train Epoch: 32 [320/1453 (22%)]\tLoss: 0.024707\n",
            " 33%|███▎      | 30/91 [00:29<01:00,  1.01it/s]INFO:pv_vision.nn.modelhandler:Train Epoch: 32 [480/1453 (33%)]\tLoss: 0.028239\n",
            " 44%|████▍     | 40/91 [00:39<00:50,  1.01it/s]INFO:pv_vision.nn.modelhandler:Train Epoch: 32 [640/1453 (44%)]\tLoss: 0.043519\n",
            " 55%|█████▍    | 50/91 [00:49<00:40,  1.01it/s]INFO:pv_vision.nn.modelhandler:Train Epoch: 32 [800/1453 (55%)]\tLoss: 0.045161\n",
            " 66%|██████▌   | 60/91 [01:00<00:30,  1.01it/s]INFO:pv_vision.nn.modelhandler:Train Epoch: 32 [960/1453 (66%)]\tLoss: 0.026384\n",
            " 77%|███████▋  | 70/91 [01:10<00:20,  1.01it/s]INFO:pv_vision.nn.modelhandler:Train Epoch: 32 [1120/1453 (77%)]\tLoss: 0.022439\n",
            " 88%|████████▊ | 80/91 [01:20<00:10,  1.01it/s]INFO:pv_vision.nn.modelhandler:Train Epoch: 32 [1280/1453 (88%)]\tLoss: 0.038754\n",
            " 99%|█████████▉| 90/91 [01:30<00:00,  1.01it/s]INFO:pv_vision.nn.modelhandler:Train Epoch: 32 [1170/1453 (99%)]\tLoss: 0.027302\n",
            "100%|██████████| 91/91 [01:31<00:00,  1.01s/it]\n",
            "INFO:pv_vision.nn.modelhandler:Saved model at epoch 32\n",
            "100%|██████████| 6/6 [00:03<00:00,  1.96it/s]\n",
            "INFO:pv_vision.nn.modelhandler:Val epoch: 32 \tAverage loss: 0.0629\n"
          ]
        },
        {
          "output_type": "stream",
          "name": "stdout",
          "text": [
            "Loss: 0.0314 (train) | 0.0629 (val)\n",
            "Epoch 33 / 48\n",
            "----------\n"
          ]
        },
        {
          "output_type": "stream",
          "name": "stderr",
          "text": [
            "  0%|          | 0/91 [00:00<?, ?it/s]INFO:pv_vision.nn.modelhandler:Train Epoch: 33 [0/1453 (0%)]\tLoss: 0.035741\n",
            " 11%|█         | 10/91 [00:09<01:19,  1.02it/s]INFO:pv_vision.nn.modelhandler:Train Epoch: 33 [160/1453 (11%)]\tLoss: 0.022986\n",
            " 22%|██▏       | 20/91 [00:19<01:10,  1.01it/s]INFO:pv_vision.nn.modelhandler:Train Epoch: 33 [320/1453 (22%)]\tLoss: 0.039614\n",
            " 33%|███▎      | 30/91 [00:29<01:00,  1.01it/s]INFO:pv_vision.nn.modelhandler:Train Epoch: 33 [480/1453 (33%)]\tLoss: 0.018098\n",
            " 44%|████▍     | 40/91 [00:39<00:50,  1.01it/s]INFO:pv_vision.nn.modelhandler:Train Epoch: 33 [640/1453 (44%)]\tLoss: 0.051803\n",
            " 55%|█████▍    | 50/91 [00:49<00:40,  1.01it/s]INFO:pv_vision.nn.modelhandler:Train Epoch: 33 [800/1453 (55%)]\tLoss: 0.042150\n",
            " 66%|██████▌   | 60/91 [00:59<00:30,  1.01it/s]INFO:pv_vision.nn.modelhandler:Train Epoch: 33 [960/1453 (66%)]\tLoss: 0.036534\n",
            " 77%|███████▋  | 70/91 [01:10<00:20,  1.01it/s]INFO:pv_vision.nn.modelhandler:Train Epoch: 33 [1120/1453 (77%)]\tLoss: 0.016807\n",
            " 88%|████████▊ | 80/91 [01:20<00:10,  1.01it/s]INFO:pv_vision.nn.modelhandler:Train Epoch: 33 [1280/1453 (88%)]\tLoss: 0.032917\n",
            " 99%|█████████▉| 90/91 [01:30<00:00,  1.01it/s]INFO:pv_vision.nn.modelhandler:Train Epoch: 33 [1170/1453 (99%)]\tLoss: 0.045685\n",
            "100%|██████████| 91/91 [01:31<00:00,  1.01s/it]\n",
            "INFO:pv_vision.nn.modelhandler:Saved model at epoch 33\n",
            "100%|██████████| 6/6 [00:03<00:00,  1.78it/s]\n",
            "INFO:pv_vision.nn.modelhandler:Val epoch: 33 \tAverage loss: 0.0628\n"
          ]
        },
        {
          "output_type": "stream",
          "name": "stdout",
          "text": [
            "Loss: 0.0314 (train) | 0.0628 (val)\n",
            "Epoch 34 / 48\n",
            "----------\n"
          ]
        },
        {
          "output_type": "stream",
          "name": "stderr",
          "text": [
            "  0%|          | 0/91 [00:00<?, ?it/s]INFO:pv_vision.nn.modelhandler:Train Epoch: 34 [0/1453 (0%)]\tLoss: 0.015416\n",
            " 11%|█         | 10/91 [00:09<01:19,  1.02it/s]INFO:pv_vision.nn.modelhandler:Train Epoch: 34 [160/1453 (11%)]\tLoss: 0.025251\n",
            " 22%|██▏       | 20/91 [00:19<01:10,  1.01it/s]INFO:pv_vision.nn.modelhandler:Train Epoch: 34 [320/1453 (22%)]\tLoss: 0.034301\n",
            " 33%|███▎      | 30/91 [00:29<01:00,  1.01it/s]INFO:pv_vision.nn.modelhandler:Train Epoch: 34 [480/1453 (33%)]\tLoss: 0.031226\n",
            " 44%|████▍     | 40/91 [00:39<00:50,  1.01it/s]INFO:pv_vision.nn.modelhandler:Train Epoch: 34 [640/1453 (44%)]\tLoss: 0.046041\n",
            " 55%|█████▍    | 50/91 [00:49<00:40,  1.01it/s]INFO:pv_vision.nn.modelhandler:Train Epoch: 34 [800/1453 (55%)]\tLoss: 0.032022\n",
            " 66%|██████▌   | 60/91 [00:59<00:30,  1.01it/s]INFO:pv_vision.nn.modelhandler:Train Epoch: 34 [960/1453 (66%)]\tLoss: 0.042045\n",
            " 77%|███████▋  | 70/91 [01:10<00:20,  1.01it/s]INFO:pv_vision.nn.modelhandler:Train Epoch: 34 [1120/1453 (77%)]\tLoss: 0.031360\n",
            " 88%|████████▊ | 80/91 [01:20<00:10,  1.01it/s]INFO:pv_vision.nn.modelhandler:Train Epoch: 34 [1280/1453 (88%)]\tLoss: 0.035875\n",
            " 99%|█████████▉| 90/91 [01:30<00:00,  1.01it/s]INFO:pv_vision.nn.modelhandler:Train Epoch: 34 [1170/1453 (99%)]\tLoss: 0.032872\n",
            "100%|██████████| 91/91 [01:31<00:00,  1.01s/it]\n",
            "INFO:pv_vision.nn.modelhandler:Saved model at epoch 34\n",
            "100%|██████████| 6/6 [00:03<00:00,  1.81it/s]\n",
            "INFO:pv_vision.nn.modelhandler:Val epoch: 34 \tAverage loss: 0.0628\n"
          ]
        },
        {
          "output_type": "stream",
          "name": "stdout",
          "text": [
            "Loss: 0.0314 (train) | 0.0628 (val)\n",
            "Epoch 35 / 48\n",
            "----------\n"
          ]
        },
        {
          "output_type": "stream",
          "name": "stderr",
          "text": [
            "  0%|          | 0/91 [00:00<?, ?it/s]INFO:pv_vision.nn.modelhandler:Train Epoch: 35 [0/1453 (0%)]\tLoss: 0.028790\n",
            " 11%|█         | 10/91 [00:09<01:19,  1.02it/s]INFO:pv_vision.nn.modelhandler:Train Epoch: 35 [160/1453 (11%)]\tLoss: 0.040649\n",
            " 22%|██▏       | 20/91 [00:19<01:10,  1.01it/s]INFO:pv_vision.nn.modelhandler:Train Epoch: 35 [320/1453 (22%)]\tLoss: 0.037255\n",
            " 33%|███▎      | 30/91 [00:29<01:00,  1.01it/s]INFO:pv_vision.nn.modelhandler:Train Epoch: 35 [480/1453 (33%)]\tLoss: 0.037473\n",
            " 44%|████▍     | 40/91 [00:39<00:50,  1.01it/s]INFO:pv_vision.nn.modelhandler:Train Epoch: 35 [640/1453 (44%)]\tLoss: 0.025525\n",
            " 55%|█████▍    | 50/91 [00:49<00:40,  1.01it/s]INFO:pv_vision.nn.modelhandler:Train Epoch: 35 [800/1453 (55%)]\tLoss: 0.028707\n",
            " 66%|██████▌   | 60/91 [00:59<00:30,  1.01it/s]INFO:pv_vision.nn.modelhandler:Train Epoch: 35 [960/1453 (66%)]\tLoss: 0.028222\n",
            " 77%|███████▋  | 70/91 [01:10<00:20,  1.01it/s]INFO:pv_vision.nn.modelhandler:Train Epoch: 35 [1120/1453 (77%)]\tLoss: 0.055271\n",
            " 88%|████████▊ | 80/91 [01:20<00:10,  1.01it/s]INFO:pv_vision.nn.modelhandler:Train Epoch: 35 [1280/1453 (88%)]\tLoss: 0.031303\n",
            " 99%|█████████▉| 90/91 [01:30<00:00,  1.01it/s]INFO:pv_vision.nn.modelhandler:Train Epoch: 35 [1170/1453 (99%)]\tLoss: 0.029720\n",
            "100%|██████████| 91/91 [01:31<00:00,  1.01s/it]\n",
            "INFO:pv_vision.nn.modelhandler:Saved model at epoch 35\n",
            "100%|██████████| 6/6 [00:03<00:00,  1.73it/s]\n",
            "INFO:pv_vision.nn.modelhandler:Val epoch: 35 \tAverage loss: 0.0628\n"
          ]
        },
        {
          "output_type": "stream",
          "name": "stdout",
          "text": [
            "Loss: 0.0314 (train) | 0.0628 (val)\n",
            "Epoch 36 / 48\n",
            "----------\n"
          ]
        },
        {
          "output_type": "stream",
          "name": "stderr",
          "text": [
            "  0%|          | 0/91 [00:00<?, ?it/s]INFO:pv_vision.nn.modelhandler:Train Epoch: 36 [0/1453 (0%)]\tLoss: 0.025161\n",
            " 11%|█         | 10/91 [00:09<01:19,  1.02it/s]INFO:pv_vision.nn.modelhandler:Train Epoch: 36 [160/1453 (11%)]\tLoss: 0.038828\n",
            " 22%|██▏       | 20/91 [00:19<01:10,  1.01it/s]INFO:pv_vision.nn.modelhandler:Train Epoch: 36 [320/1453 (22%)]\tLoss: 0.047683\n",
            " 33%|███▎      | 30/91 [00:29<01:00,  1.01it/s]INFO:pv_vision.nn.modelhandler:Train Epoch: 36 [480/1453 (33%)]\tLoss: 0.035480\n",
            " 44%|████▍     | 40/91 [00:39<00:50,  1.01it/s]INFO:pv_vision.nn.modelhandler:Train Epoch: 36 [640/1453 (44%)]\tLoss: 0.031343\n",
            " 55%|█████▍    | 50/91 [00:49<00:40,  1.01it/s]INFO:pv_vision.nn.modelhandler:Train Epoch: 36 [800/1453 (55%)]\tLoss: 0.041920\n",
            " 66%|██████▌   | 60/91 [00:59<00:30,  1.01it/s]INFO:pv_vision.nn.modelhandler:Train Epoch: 36 [960/1453 (66%)]\tLoss: 0.030120\n",
            " 77%|███████▋  | 70/91 [01:09<00:20,  1.01it/s]INFO:pv_vision.nn.modelhandler:Train Epoch: 36 [1120/1453 (77%)]\tLoss: 0.044113\n",
            " 88%|████████▊ | 80/91 [01:19<00:10,  1.01it/s]INFO:pv_vision.nn.modelhandler:Train Epoch: 36 [1280/1453 (88%)]\tLoss: 0.026185\n",
            " 99%|█████████▉| 90/91 [01:30<00:00,  1.01it/s]INFO:pv_vision.nn.modelhandler:Train Epoch: 36 [1170/1453 (99%)]\tLoss: 0.033296\n",
            "100%|██████████| 91/91 [01:31<00:00,  1.01s/it]\n",
            "INFO:pv_vision.nn.modelhandler:Saved model at epoch 36\n",
            "100%|██████████| 6/6 [00:03<00:00,  1.71it/s]\n",
            "INFO:pv_vision.nn.modelhandler:Val epoch: 36 \tAverage loss: 0.0627\n"
          ]
        },
        {
          "output_type": "stream",
          "name": "stdout",
          "text": [
            "Loss: 0.0313 (train) | 0.0627 (val)\n",
            "Epoch 37 / 48\n",
            "----------\n"
          ]
        },
        {
          "output_type": "stream",
          "name": "stderr",
          "text": [
            "  0%|          | 0/91 [00:00<?, ?it/s]INFO:pv_vision.nn.modelhandler:Train Epoch: 37 [0/1453 (0%)]\tLoss: 0.029169\n",
            " 11%|█         | 10/91 [00:09<01:19,  1.02it/s]INFO:pv_vision.nn.modelhandler:Train Epoch: 37 [160/1453 (11%)]\tLoss: 0.036331\n",
            " 22%|██▏       | 20/91 [00:19<01:10,  1.01it/s]INFO:pv_vision.nn.modelhandler:Train Epoch: 37 [320/1453 (22%)]\tLoss: 0.026219\n",
            " 33%|███▎      | 30/91 [00:29<01:00,  1.01it/s]INFO:pv_vision.nn.modelhandler:Train Epoch: 37 [480/1453 (33%)]\tLoss: 0.023946\n",
            " 44%|████▍     | 40/91 [00:39<00:50,  1.01it/s]INFO:pv_vision.nn.modelhandler:Train Epoch: 37 [640/1453 (44%)]\tLoss: 0.030187\n",
            " 55%|█████▍    | 50/91 [00:49<00:40,  1.01it/s]INFO:pv_vision.nn.modelhandler:Train Epoch: 37 [800/1453 (55%)]\tLoss: 0.035978\n",
            " 66%|██████▌   | 60/91 [00:59<00:30,  1.01it/s]INFO:pv_vision.nn.modelhandler:Train Epoch: 37 [960/1453 (66%)]\tLoss: 0.030407\n",
            " 77%|███████▋  | 70/91 [01:10<00:20,  1.01it/s]INFO:pv_vision.nn.modelhandler:Train Epoch: 37 [1120/1453 (77%)]\tLoss: 0.030509\n",
            " 88%|████████▊ | 80/91 [01:20<00:10,  1.02it/s]INFO:pv_vision.nn.modelhandler:Train Epoch: 37 [1280/1453 (88%)]\tLoss: 0.022663\n",
            " 99%|█████████▉| 90/91 [01:30<00:00,  1.01it/s]INFO:pv_vision.nn.modelhandler:Train Epoch: 37 [1170/1453 (99%)]\tLoss: 0.016463\n",
            "100%|██████████| 91/91 [01:31<00:00,  1.01s/it]\n",
            "INFO:pv_vision.nn.modelhandler:Saved model at epoch 37\n",
            "100%|██████████| 6/6 [00:03<00:00,  1.84it/s]\n",
            "INFO:pv_vision.nn.modelhandler:Val epoch: 37 \tAverage loss: 0.0628\n"
          ]
        },
        {
          "output_type": "stream",
          "name": "stdout",
          "text": [
            "Loss: 0.0316 (train) | 0.0628 (val)\n",
            "Epoch 38 / 48\n",
            "----------\n"
          ]
        },
        {
          "output_type": "stream",
          "name": "stderr",
          "text": [
            "  0%|          | 0/91 [00:00<?, ?it/s]INFO:pv_vision.nn.modelhandler:Train Epoch: 38 [0/1453 (0%)]\tLoss: 0.041189\n",
            " 11%|█         | 10/91 [00:09<01:19,  1.02it/s]INFO:pv_vision.nn.modelhandler:Train Epoch: 38 [160/1453 (11%)]\tLoss: 0.038327\n",
            " 22%|██▏       | 20/91 [00:19<01:10,  1.01it/s]INFO:pv_vision.nn.modelhandler:Train Epoch: 38 [320/1453 (22%)]\tLoss: 0.025473\n",
            " 33%|███▎      | 30/91 [00:29<01:00,  1.01it/s]INFO:pv_vision.nn.modelhandler:Train Epoch: 38 [480/1453 (33%)]\tLoss: 0.030461\n",
            " 44%|████▍     | 40/91 [00:39<00:50,  1.01it/s]INFO:pv_vision.nn.modelhandler:Train Epoch: 38 [640/1453 (44%)]\tLoss: 0.033872\n",
            " 55%|█████▍    | 50/91 [00:49<00:40,  1.01it/s]INFO:pv_vision.nn.modelhandler:Train Epoch: 38 [800/1453 (55%)]\tLoss: 0.023013\n",
            " 66%|██████▌   | 60/91 [00:59<00:30,  1.01it/s]INFO:pv_vision.nn.modelhandler:Train Epoch: 38 [960/1453 (66%)]\tLoss: 0.023534\n",
            " 77%|███████▋  | 70/91 [01:10<00:20,  1.01it/s]INFO:pv_vision.nn.modelhandler:Train Epoch: 38 [1120/1453 (77%)]\tLoss: 0.061522\n",
            " 88%|████████▊ | 80/91 [01:20<00:10,  1.01it/s]INFO:pv_vision.nn.modelhandler:Train Epoch: 38 [1280/1453 (88%)]\tLoss: 0.056718\n",
            " 99%|█████████▉| 90/91 [01:30<00:00,  1.01it/s]INFO:pv_vision.nn.modelhandler:Train Epoch: 38 [1170/1453 (99%)]\tLoss: 0.034937\n",
            "100%|██████████| 91/91 [01:31<00:00,  1.01s/it]\n",
            "INFO:pv_vision.nn.modelhandler:Saved model at epoch 38\n",
            "100%|██████████| 6/6 [00:03<00:00,  1.95it/s]\n",
            "INFO:pv_vision.nn.modelhandler:Val epoch: 38 \tAverage loss: 0.0627\n"
          ]
        },
        {
          "output_type": "stream",
          "name": "stdout",
          "text": [
            "Loss: 0.0315 (train) | 0.0627 (val)\n",
            "Epoch 39 / 48\n",
            "----------\n"
          ]
        },
        {
          "output_type": "stream",
          "name": "stderr",
          "text": [
            "  0%|          | 0/91 [00:00<?, ?it/s]INFO:pv_vision.nn.modelhandler:Train Epoch: 39 [0/1453 (0%)]\tLoss: 0.025539\n",
            " 11%|█         | 10/91 [00:09<01:19,  1.02it/s]INFO:pv_vision.nn.modelhandler:Train Epoch: 39 [160/1453 (11%)]\tLoss: 0.027481\n",
            " 22%|██▏       | 20/91 [00:19<01:10,  1.01it/s]INFO:pv_vision.nn.modelhandler:Train Epoch: 39 [320/1453 (22%)]\tLoss: 0.041578\n",
            " 33%|███▎      | 30/91 [00:29<01:00,  1.01it/s]INFO:pv_vision.nn.modelhandler:Train Epoch: 39 [480/1453 (33%)]\tLoss: 0.028080\n",
            " 44%|████▍     | 40/91 [00:39<00:50,  1.01it/s]INFO:pv_vision.nn.modelhandler:Train Epoch: 39 [640/1453 (44%)]\tLoss: 0.039845\n",
            " 55%|█████▍    | 50/91 [00:49<00:40,  1.01it/s]INFO:pv_vision.nn.modelhandler:Train Epoch: 39 [800/1453 (55%)]\tLoss: 0.036194\n",
            " 66%|██████▌   | 60/91 [00:59<00:30,  1.01it/s]INFO:pv_vision.nn.modelhandler:Train Epoch: 39 [960/1453 (66%)]\tLoss: 0.028632\n",
            " 77%|███████▋  | 70/91 [01:10<00:20,  1.01it/s]INFO:pv_vision.nn.modelhandler:Train Epoch: 39 [1120/1453 (77%)]\tLoss: 0.037506\n",
            " 88%|████████▊ | 80/91 [01:20<00:10,  1.01it/s]INFO:pv_vision.nn.modelhandler:Train Epoch: 39 [1280/1453 (88%)]\tLoss: 0.037197\n",
            " 99%|█████████▉| 90/91 [01:30<00:00,  1.01it/s]INFO:pv_vision.nn.modelhandler:Train Epoch: 39 [1170/1453 (99%)]\tLoss: 0.030196\n",
            "100%|██████████| 91/91 [01:31<00:00,  1.01s/it]\n",
            "INFO:pv_vision.nn.modelhandler:Saved model at epoch 39\n",
            "100%|██████████| 6/6 [00:03<00:00,  1.88it/s]\n",
            "INFO:pv_vision.nn.modelhandler:Val epoch: 39 \tAverage loss: 0.0628\n"
          ]
        },
        {
          "output_type": "stream",
          "name": "stdout",
          "text": [
            "Loss: 0.0313 (train) | 0.0628 (val)\n",
            "Epoch 40 / 48\n",
            "----------\n"
          ]
        },
        {
          "output_type": "stream",
          "name": "stderr",
          "text": [
            "  0%|          | 0/91 [00:00<?, ?it/s]INFO:pv_vision.nn.modelhandler:Train Epoch: 40 [0/1453 (0%)]\tLoss: 0.029854\n",
            " 11%|█         | 10/91 [00:09<01:19,  1.01it/s]INFO:pv_vision.nn.modelhandler:Train Epoch: 40 [160/1453 (11%)]\tLoss: 0.031312\n",
            " 22%|██▏       | 20/91 [00:19<01:10,  1.01it/s]INFO:pv_vision.nn.modelhandler:Train Epoch: 40 [320/1453 (22%)]\tLoss: 0.040912\n",
            " 33%|███▎      | 30/91 [00:29<01:00,  1.01it/s]INFO:pv_vision.nn.modelhandler:Train Epoch: 40 [480/1453 (33%)]\tLoss: 0.029050\n",
            " 44%|████▍     | 40/91 [00:39<00:50,  1.01it/s]INFO:pv_vision.nn.modelhandler:Train Epoch: 40 [640/1453 (44%)]\tLoss: 0.028576\n",
            " 55%|█████▍    | 50/91 [00:49<00:40,  1.01it/s]INFO:pv_vision.nn.modelhandler:Train Epoch: 40 [800/1453 (55%)]\tLoss: 0.031352\n",
            " 66%|██████▌   | 60/91 [00:59<00:30,  1.01it/s]INFO:pv_vision.nn.modelhandler:Train Epoch: 40 [960/1453 (66%)]\tLoss: 0.039431\n",
            " 77%|███████▋  | 70/91 [01:10<00:20,  1.01it/s]INFO:pv_vision.nn.modelhandler:Train Epoch: 40 [1120/1453 (77%)]\tLoss: 0.032610\n",
            " 88%|████████▊ | 80/91 [01:20<00:10,  1.01it/s]INFO:pv_vision.nn.modelhandler:Train Epoch: 40 [1280/1453 (88%)]\tLoss: 0.038863\n",
            " 99%|█████████▉| 90/91 [01:30<00:00,  1.01it/s]INFO:pv_vision.nn.modelhandler:Train Epoch: 40 [1170/1453 (99%)]\tLoss: 0.026715\n",
            "100%|██████████| 91/91 [01:31<00:00,  1.01s/it]\n",
            "INFO:pv_vision.nn.modelhandler:Saved model at epoch 40\n",
            "100%|██████████| 6/6 [00:03<00:00,  1.77it/s]\n",
            "INFO:pv_vision.nn.modelhandler:Val epoch: 40 \tAverage loss: 0.0629\n"
          ]
        },
        {
          "output_type": "stream",
          "name": "stdout",
          "text": [
            "Loss: 0.0314 (train) | 0.0629 (val)\n",
            "Epoch 41 / 48\n",
            "----------\n"
          ]
        },
        {
          "output_type": "stream",
          "name": "stderr",
          "text": [
            "  0%|          | 0/91 [00:00<?, ?it/s]INFO:pv_vision.nn.modelhandler:Train Epoch: 41 [0/1453 (0%)]\tLoss: 0.029465\n",
            " 11%|█         | 10/91 [00:09<01:19,  1.02it/s]INFO:pv_vision.nn.modelhandler:Train Epoch: 41 [160/1453 (11%)]\tLoss: 0.032950\n",
            " 22%|██▏       | 20/91 [00:19<01:10,  1.01it/s]INFO:pv_vision.nn.modelhandler:Train Epoch: 41 [320/1453 (22%)]\tLoss: 0.028766\n",
            " 33%|███▎      | 30/91 [00:29<01:00,  1.01it/s]INFO:pv_vision.nn.modelhandler:Train Epoch: 41 [480/1453 (33%)]\tLoss: 0.025478\n",
            " 44%|████▍     | 40/91 [00:39<00:50,  1.01it/s]INFO:pv_vision.nn.modelhandler:Train Epoch: 41 [640/1453 (44%)]\tLoss: 0.039545\n",
            " 55%|█████▍    | 50/91 [00:49<00:40,  1.01it/s]INFO:pv_vision.nn.modelhandler:Train Epoch: 41 [800/1453 (55%)]\tLoss: 0.015596\n",
            " 66%|██████▌   | 60/91 [00:59<00:30,  1.01it/s]INFO:pv_vision.nn.modelhandler:Train Epoch: 41 [960/1453 (66%)]\tLoss: 0.022499\n",
            " 77%|███████▋  | 70/91 [01:09<00:20,  1.01it/s]INFO:pv_vision.nn.modelhandler:Train Epoch: 41 [1120/1453 (77%)]\tLoss: 0.048330\n",
            " 88%|████████▊ | 80/91 [01:20<00:10,  1.01it/s]INFO:pv_vision.nn.modelhandler:Train Epoch: 41 [1280/1453 (88%)]\tLoss: 0.017757\n",
            " 99%|█████████▉| 90/91 [01:30<00:00,  1.01it/s]INFO:pv_vision.nn.modelhandler:Train Epoch: 41 [1170/1453 (99%)]\tLoss: 0.059037\n",
            "100%|██████████| 91/91 [01:31<00:00,  1.01s/it]\n",
            "INFO:pv_vision.nn.modelhandler:Saved model at epoch 41\n",
            "100%|██████████| 6/6 [00:03<00:00,  1.98it/s]\n",
            "INFO:pv_vision.nn.modelhandler:Val epoch: 41 \tAverage loss: 0.0627\n"
          ]
        },
        {
          "output_type": "stream",
          "name": "stdout",
          "text": [
            "Loss: 0.0313 (train) | 0.0627 (val)\n",
            "Epoch 42 / 48\n",
            "----------\n"
          ]
        },
        {
          "output_type": "stream",
          "name": "stderr",
          "text": [
            "  0%|          | 0/91 [00:00<?, ?it/s]INFO:pv_vision.nn.modelhandler:Train Epoch: 42 [0/1453 (0%)]\tLoss: 0.027955\n",
            " 11%|█         | 10/91 [00:09<01:19,  1.02it/s]INFO:pv_vision.nn.modelhandler:Train Epoch: 42 [160/1453 (11%)]\tLoss: 0.031033\n",
            " 22%|██▏       | 20/91 [00:19<01:10,  1.01it/s]INFO:pv_vision.nn.modelhandler:Train Epoch: 42 [320/1453 (22%)]\tLoss: 0.022906\n",
            " 33%|███▎      | 30/91 [00:29<01:00,  1.01it/s]INFO:pv_vision.nn.modelhandler:Train Epoch: 42 [480/1453 (33%)]\tLoss: 0.015316\n",
            " 44%|████▍     | 40/91 [00:39<00:50,  1.01it/s]INFO:pv_vision.nn.modelhandler:Train Epoch: 42 [640/1453 (44%)]\tLoss: 0.041905\n",
            " 55%|█████▍    | 50/91 [00:49<00:40,  1.01it/s]INFO:pv_vision.nn.modelhandler:Train Epoch: 42 [800/1453 (55%)]\tLoss: 0.030233\n",
            " 66%|██████▌   | 60/91 [00:59<00:30,  1.01it/s]INFO:pv_vision.nn.modelhandler:Train Epoch: 42 [960/1453 (66%)]\tLoss: 0.034269\n",
            " 77%|███████▋  | 70/91 [01:09<00:20,  1.01it/s]INFO:pv_vision.nn.modelhandler:Train Epoch: 42 [1120/1453 (77%)]\tLoss: 0.041435\n",
            " 88%|████████▊ | 80/91 [01:20<00:10,  1.01it/s]INFO:pv_vision.nn.modelhandler:Train Epoch: 42 [1280/1453 (88%)]\tLoss: 0.029587\n",
            " 99%|█████████▉| 90/91 [01:30<00:00,  1.01it/s]INFO:pv_vision.nn.modelhandler:Train Epoch: 42 [1170/1453 (99%)]\tLoss: 0.031953\n",
            "100%|██████████| 91/91 [01:31<00:00,  1.01s/it]\n",
            "INFO:pv_vision.nn.modelhandler:Saved model at epoch 42\n",
            "100%|██████████| 6/6 [00:03<00:00,  1.92it/s]\n",
            "INFO:pv_vision.nn.modelhandler:Val epoch: 42 \tAverage loss: 0.0628\n"
          ]
        },
        {
          "output_type": "stream",
          "name": "stdout",
          "text": [
            "Loss: 0.0314 (train) | 0.0628 (val)\n",
            "Epoch 43 / 48\n",
            "----------\n"
          ]
        },
        {
          "output_type": "stream",
          "name": "stderr",
          "text": [
            "  0%|          | 0/91 [00:00<?, ?it/s]INFO:pv_vision.nn.modelhandler:Train Epoch: 43 [0/1453 (0%)]\tLoss: 0.020772\n",
            " 11%|█         | 10/91 [00:09<01:19,  1.02it/s]INFO:pv_vision.nn.modelhandler:Train Epoch: 43 [160/1453 (11%)]\tLoss: 0.031717\n",
            " 22%|██▏       | 20/91 [00:19<01:10,  1.01it/s]INFO:pv_vision.nn.modelhandler:Train Epoch: 43 [320/1453 (22%)]\tLoss: 0.028709\n",
            " 33%|███▎      | 30/91 [00:29<01:00,  1.01it/s]INFO:pv_vision.nn.modelhandler:Train Epoch: 43 [480/1453 (33%)]\tLoss: 0.042638\n",
            " 44%|████▍     | 40/91 [00:39<00:50,  1.01it/s]INFO:pv_vision.nn.modelhandler:Train Epoch: 43 [640/1453 (44%)]\tLoss: 0.029678\n",
            " 55%|█████▍    | 50/91 [00:49<00:40,  1.01it/s]INFO:pv_vision.nn.modelhandler:Train Epoch: 43 [800/1453 (55%)]\tLoss: 0.025635\n",
            " 66%|██████▌   | 60/91 [00:59<00:30,  1.01it/s]INFO:pv_vision.nn.modelhandler:Train Epoch: 43 [960/1453 (66%)]\tLoss: 0.029156\n",
            " 77%|███████▋  | 70/91 [01:09<00:20,  1.01it/s]INFO:pv_vision.nn.modelhandler:Train Epoch: 43 [1120/1453 (77%)]\tLoss: 0.044500\n",
            " 88%|████████▊ | 80/91 [01:19<00:10,  1.01it/s]INFO:pv_vision.nn.modelhandler:Train Epoch: 43 [1280/1453 (88%)]\tLoss: 0.027929\n",
            " 99%|█████████▉| 90/91 [01:30<00:00,  1.01it/s]INFO:pv_vision.nn.modelhandler:Train Epoch: 43 [1170/1453 (99%)]\tLoss: 0.039591\n",
            "100%|██████████| 91/91 [01:31<00:00,  1.01s/it]\n",
            "INFO:pv_vision.nn.modelhandler:Saved model at epoch 43\n",
            "100%|██████████| 6/6 [00:02<00:00,  2.04it/s]\n",
            "INFO:pv_vision.nn.modelhandler:Val epoch: 43 \tAverage loss: 0.0629\n"
          ]
        },
        {
          "output_type": "stream",
          "name": "stdout",
          "text": [
            "Loss: 0.0315 (train) | 0.0629 (val)\n",
            "Epoch 44 / 48\n",
            "----------\n"
          ]
        },
        {
          "output_type": "stream",
          "name": "stderr",
          "text": [
            "  0%|          | 0/91 [00:00<?, ?it/s]INFO:pv_vision.nn.modelhandler:Train Epoch: 44 [0/1453 (0%)]\tLoss: 0.035237\n",
            " 11%|█         | 10/91 [00:09<01:19,  1.02it/s]INFO:pv_vision.nn.modelhandler:Train Epoch: 44 [160/1453 (11%)]\tLoss: 0.019415\n",
            " 22%|██▏       | 20/91 [00:19<01:10,  1.01it/s]INFO:pv_vision.nn.modelhandler:Train Epoch: 44 [320/1453 (22%)]\tLoss: 0.029724\n",
            " 33%|███▎      | 30/91 [00:29<01:00,  1.01it/s]INFO:pv_vision.nn.modelhandler:Train Epoch: 44 [480/1453 (33%)]\tLoss: 0.027885\n",
            " 44%|████▍     | 40/91 [00:39<00:50,  1.01it/s]INFO:pv_vision.nn.modelhandler:Train Epoch: 44 [640/1453 (44%)]\tLoss: 0.037207\n",
            " 55%|█████▍    | 50/91 [00:49<00:40,  1.01it/s]INFO:pv_vision.nn.modelhandler:Train Epoch: 44 [800/1453 (55%)]\tLoss: 0.023130\n",
            " 66%|██████▌   | 60/91 [00:59<00:30,  1.01it/s]INFO:pv_vision.nn.modelhandler:Train Epoch: 44 [960/1453 (66%)]\tLoss: 0.032611\n",
            " 77%|███████▋  | 70/91 [01:10<00:20,  1.01it/s]INFO:pv_vision.nn.modelhandler:Train Epoch: 44 [1120/1453 (77%)]\tLoss: 0.040658\n",
            " 88%|████████▊ | 80/91 [01:20<00:10,  1.01it/s]INFO:pv_vision.nn.modelhandler:Train Epoch: 44 [1280/1453 (88%)]\tLoss: 0.020761\n",
            " 99%|█████████▉| 90/91 [01:30<00:00,  1.01it/s]INFO:pv_vision.nn.modelhandler:Train Epoch: 44 [1170/1453 (99%)]\tLoss: 0.033878\n",
            "100%|██████████| 91/91 [01:31<00:00,  1.01s/it]\n",
            "INFO:pv_vision.nn.modelhandler:Saved model at epoch 44\n",
            "100%|██████████| 6/6 [00:03<00:00,  1.92it/s]\n",
            "INFO:pv_vision.nn.modelhandler:Val epoch: 44 \tAverage loss: 0.0628\n"
          ]
        },
        {
          "output_type": "stream",
          "name": "stdout",
          "text": [
            "Loss: 0.0315 (train) | 0.0628 (val)\n",
            "Epoch 45 / 48\n",
            "----------\n"
          ]
        },
        {
          "output_type": "stream",
          "name": "stderr",
          "text": [
            "  0%|          | 0/91 [00:00<?, ?it/s]INFO:pv_vision.nn.modelhandler:Train Epoch: 45 [0/1453 (0%)]\tLoss: 0.024941\n",
            " 11%|█         | 10/91 [00:09<01:19,  1.02it/s]INFO:pv_vision.nn.modelhandler:Train Epoch: 45 [160/1453 (11%)]\tLoss: 0.026690\n",
            " 22%|██▏       | 20/91 [00:19<01:10,  1.01it/s]INFO:pv_vision.nn.modelhandler:Train Epoch: 45 [320/1453 (22%)]\tLoss: 0.026756\n",
            " 33%|███▎      | 30/91 [00:29<01:00,  1.01it/s]INFO:pv_vision.nn.modelhandler:Train Epoch: 45 [480/1453 (33%)]\tLoss: 0.039791\n",
            " 44%|████▍     | 40/91 [00:39<00:50,  1.01it/s]INFO:pv_vision.nn.modelhandler:Train Epoch: 45 [640/1453 (44%)]\tLoss: 0.028929\n",
            " 55%|█████▍    | 50/91 [00:49<00:40,  1.01it/s]INFO:pv_vision.nn.modelhandler:Train Epoch: 45 [800/1453 (55%)]\tLoss: 0.042444\n",
            " 66%|██████▌   | 60/91 [00:59<00:30,  1.01it/s]INFO:pv_vision.nn.modelhandler:Train Epoch: 45 [960/1453 (66%)]\tLoss: 0.043830\n",
            " 77%|███████▋  | 70/91 [01:09<00:20,  1.01it/s]INFO:pv_vision.nn.modelhandler:Train Epoch: 45 [1120/1453 (77%)]\tLoss: 0.039270\n",
            " 88%|████████▊ | 80/91 [01:19<00:10,  1.01it/s]INFO:pv_vision.nn.modelhandler:Train Epoch: 45 [1280/1453 (88%)]\tLoss: 0.017811\n",
            " 99%|█████████▉| 90/91 [01:30<00:00,  1.01it/s]INFO:pv_vision.nn.modelhandler:Train Epoch: 45 [1170/1453 (99%)]\tLoss: 0.037064\n",
            "100%|██████████| 91/91 [01:31<00:00,  1.01s/it]\n",
            "INFO:pv_vision.nn.modelhandler:Saved model at epoch 45\n",
            "100%|██████████| 6/6 [00:03<00:00,  1.75it/s]\n",
            "INFO:pv_vision.nn.modelhandler:Val epoch: 45 \tAverage loss: 0.0628\n"
          ]
        },
        {
          "output_type": "stream",
          "name": "stdout",
          "text": [
            "Loss: 0.0314 (train) | 0.0628 (val)\n",
            "Epoch 46 / 48\n",
            "----------\n"
          ]
        },
        {
          "output_type": "stream",
          "name": "stderr",
          "text": [
            "  0%|          | 0/91 [00:00<?, ?it/s]INFO:pv_vision.nn.modelhandler:Train Epoch: 46 [0/1453 (0%)]\tLoss: 0.037157\n",
            " 11%|█         | 10/91 [00:09<01:19,  1.02it/s]INFO:pv_vision.nn.modelhandler:Train Epoch: 46 [160/1453 (11%)]\tLoss: 0.028741\n",
            " 22%|██▏       | 20/91 [00:19<01:10,  1.01it/s]INFO:pv_vision.nn.modelhandler:Train Epoch: 46 [320/1453 (22%)]\tLoss: 0.026059\n",
            " 33%|███▎      | 30/91 [00:29<01:00,  1.01it/s]INFO:pv_vision.nn.modelhandler:Train Epoch: 46 [480/1453 (33%)]\tLoss: 0.021002\n",
            " 44%|████▍     | 40/91 [00:39<00:50,  1.01it/s]INFO:pv_vision.nn.modelhandler:Train Epoch: 46 [640/1453 (44%)]\tLoss: 0.039962\n",
            " 55%|█████▍    | 50/91 [00:49<00:40,  1.01it/s]INFO:pv_vision.nn.modelhandler:Train Epoch: 46 [800/1453 (55%)]\tLoss: 0.019654\n",
            " 66%|██████▌   | 60/91 [00:59<00:30,  1.01it/s]INFO:pv_vision.nn.modelhandler:Train Epoch: 46 [960/1453 (66%)]\tLoss: 0.026992\n",
            " 77%|███████▋  | 70/91 [01:10<00:20,  1.01it/s]INFO:pv_vision.nn.modelhandler:Train Epoch: 46 [1120/1453 (77%)]\tLoss: 0.018736\n",
            " 88%|████████▊ | 80/91 [01:20<00:10,  1.01it/s]INFO:pv_vision.nn.modelhandler:Train Epoch: 46 [1280/1453 (88%)]\tLoss: 0.032923\n",
            " 99%|█████████▉| 90/91 [01:30<00:00,  1.01it/s]INFO:pv_vision.nn.modelhandler:Train Epoch: 46 [1170/1453 (99%)]\tLoss: 0.036026\n",
            "100%|██████████| 91/91 [01:31<00:00,  1.01s/it]\n",
            "INFO:pv_vision.nn.modelhandler:Saved model at epoch 46\n",
            "100%|██████████| 6/6 [00:02<00:00,  2.03it/s]\n",
            "INFO:pv_vision.nn.modelhandler:Val epoch: 46 \tAverage loss: 0.0627\n"
          ]
        },
        {
          "output_type": "stream",
          "name": "stdout",
          "text": [
            "Loss: 0.0313 (train) | 0.0627 (val)\n",
            "Epoch 47 / 48\n",
            "----------\n"
          ]
        },
        {
          "output_type": "stream",
          "name": "stderr",
          "text": [
            "  0%|          | 0/91 [00:00<?, ?it/s]INFO:pv_vision.nn.modelhandler:Train Epoch: 47 [0/1453 (0%)]\tLoss: 0.033969\n",
            " 11%|█         | 10/91 [00:09<01:19,  1.01it/s]INFO:pv_vision.nn.modelhandler:Train Epoch: 47 [160/1453 (11%)]\tLoss: 0.038996\n",
            " 22%|██▏       | 20/91 [00:19<01:10,  1.01it/s]INFO:pv_vision.nn.modelhandler:Train Epoch: 47 [320/1453 (22%)]\tLoss: 0.021593\n",
            " 33%|███▎      | 30/91 [00:29<01:00,  1.01it/s]INFO:pv_vision.nn.modelhandler:Train Epoch: 47 [480/1453 (33%)]\tLoss: 0.072171\n",
            " 44%|████▍     | 40/91 [00:39<00:50,  1.01it/s]INFO:pv_vision.nn.modelhandler:Train Epoch: 47 [640/1453 (44%)]\tLoss: 0.033685\n",
            " 55%|█████▍    | 50/91 [00:49<00:40,  1.01it/s]INFO:pv_vision.nn.modelhandler:Train Epoch: 47 [800/1453 (55%)]\tLoss: 0.022113\n",
            " 66%|██████▌   | 60/91 [00:59<00:30,  1.01it/s]INFO:pv_vision.nn.modelhandler:Train Epoch: 47 [960/1453 (66%)]\tLoss: 0.046126\n",
            " 77%|███████▋  | 70/91 [01:10<00:20,  1.01it/s]INFO:pv_vision.nn.modelhandler:Train Epoch: 47 [1120/1453 (77%)]\tLoss: 0.042770\n",
            " 88%|████████▊ | 80/91 [01:20<00:10,  1.01it/s]INFO:pv_vision.nn.modelhandler:Train Epoch: 47 [1280/1453 (88%)]\tLoss: 0.037505\n",
            " 99%|█████████▉| 90/91 [01:30<00:00,  1.01it/s]INFO:pv_vision.nn.modelhandler:Train Epoch: 47 [1170/1453 (99%)]\tLoss: 0.017718\n",
            "100%|██████████| 91/91 [01:31<00:00,  1.01s/it]\n",
            "INFO:pv_vision.nn.modelhandler:Saved model at epoch 47\n",
            "100%|██████████| 6/6 [00:03<00:00,  1.93it/s]\n",
            "INFO:pv_vision.nn.modelhandler:Val epoch: 47 \tAverage loss: 0.0634\n"
          ]
        },
        {
          "output_type": "stream",
          "name": "stdout",
          "text": [
            "Loss: 0.0315 (train) | 0.0634 (val)\n",
            "Epoch 48 / 48\n",
            "----------\n"
          ]
        },
        {
          "output_type": "stream",
          "name": "stderr",
          "text": [
            "  0%|          | 0/91 [00:00<?, ?it/s]INFO:pv_vision.nn.modelhandler:Train Epoch: 48 [0/1453 (0%)]\tLoss: 0.032659\n",
            " 11%|█         | 10/91 [00:09<01:19,  1.02it/s]INFO:pv_vision.nn.modelhandler:Train Epoch: 48 [160/1453 (11%)]\tLoss: 0.026053\n",
            " 22%|██▏       | 20/91 [00:19<01:10,  1.01it/s]INFO:pv_vision.nn.modelhandler:Train Epoch: 48 [320/1453 (22%)]\tLoss: 0.026644\n",
            " 33%|███▎      | 30/91 [00:29<01:00,  1.01it/s]INFO:pv_vision.nn.modelhandler:Train Epoch: 48 [480/1453 (33%)]\tLoss: 0.037194\n",
            " 44%|████▍     | 40/91 [00:39<00:50,  1.01it/s]INFO:pv_vision.nn.modelhandler:Train Epoch: 48 [640/1453 (44%)]\tLoss: 0.035385\n",
            " 55%|█████▍    | 50/91 [00:49<00:40,  1.01it/s]INFO:pv_vision.nn.modelhandler:Train Epoch: 48 [800/1453 (55%)]\tLoss: 0.039622\n",
            " 66%|██████▌   | 60/91 [01:00<00:30,  1.01it/s]INFO:pv_vision.nn.modelhandler:Train Epoch: 48 [960/1453 (66%)]\tLoss: 0.022987\n",
            " 77%|███████▋  | 70/91 [01:10<00:20,  1.01it/s]INFO:pv_vision.nn.modelhandler:Train Epoch: 48 [1120/1453 (77%)]\tLoss: 0.022702\n",
            " 88%|████████▊ | 80/91 [01:20<00:10,  1.01it/s]INFO:pv_vision.nn.modelhandler:Train Epoch: 48 [1280/1453 (88%)]\tLoss: 0.040731\n",
            " 99%|█████████▉| 90/91 [01:30<00:00,  1.01it/s]INFO:pv_vision.nn.modelhandler:Train Epoch: 48 [1170/1453 (99%)]\tLoss: 0.030367\n",
            "100%|██████████| 91/91 [01:31<00:00,  1.01s/it]\n",
            "INFO:pv_vision.nn.modelhandler:Saved model at epoch 48\n",
            "100%|██████████| 6/6 [00:03<00:00,  1.82it/s]\n",
            "INFO:pv_vision.nn.modelhandler:Val epoch: 48 \tAverage loss: 0.0628\n"
          ]
        },
        {
          "output_type": "stream",
          "name": "stdout",
          "text": [
            "Loss: 0.0315 (train) | 0.0628 (val)\n"
          ]
        },
        {
          "output_type": "execute_result",
          "data": {
            "text/plain": [
              "{'train': {'loss': [0.04195223184378083,\n",
              "   0.04250361774493642,\n",
              "   0.04037965813886274,\n",
              "   0.03968331892317685,\n",
              "   0.045676867337224404,\n",
              "   0.04353550412863268,\n",
              "   0.03817867207182578,\n",
              "   0.03740345198258563,\n",
              "   0.03468681316943269,\n",
              "   0.03338181353331186,\n",
              "   0.03279116508504151,\n",
              "   0.03255164768887813,\n",
              "   0.0322677436023848,\n",
              "   0.03216568424949052,\n",
              "   0.03189617894328387,\n",
              "   0.031839987602795064,\n",
              "   0.03151983564177301,\n",
              "   0.03148900355736059,\n",
              "   0.03145787389327228,\n",
              "   0.03142221953658322,\n",
              "   0.03133284918199879,\n",
              "   0.031393664761485515,\n",
              "   0.031551990660608674,\n",
              "   0.031455748847186445,\n",
              "   0.03134427799061915,\n",
              "   0.03126896610156635,\n",
              "   0.03140961347918263,\n",
              "   0.031394371911575694,\n",
              "   0.03136303945632327,\n",
              "   0.031446579292529385,\n",
              "   0.031467745817700336,\n",
              "   0.031361532050806,\n",
              "   0.03141110337865574,\n",
              "   0.03135714252304391,\n",
              "   0.03141982146299714,\n",
              "   0.03133556073440491,\n",
              "   0.031575721734077127,\n",
              "   0.031496265742873945,\n",
              "   0.031280134718016515,\n",
              "   0.03140888748727662,\n",
              "   0.031332573413089974,\n",
              "   0.031448249996775035,\n",
              "   0.03145566643186872,\n",
              "   0.031469268171810234,\n",
              "   0.03142036917297002,\n",
              "   0.03130091921889774,\n",
              "   0.03150182413623116,\n",
              "   0.03145951337994417]},\n",
              " 'val': {'loss': [0.08791995793581009,\n",
              "   0.0817986788849036,\n",
              "   0.07594111189246178,\n",
              "   0.08361492802699406,\n",
              "   0.10218792408704758,\n",
              "   0.07787875706950824,\n",
              "   0.07386215776205063,\n",
              "   0.07346764455238979,\n",
              "   0.0666388322909673,\n",
              "   0.06564404753347237,\n",
              "   0.06475690317650636,\n",
              "   0.06445512486000855,\n",
              "   0.06382382909456889,\n",
              "   0.06352878051499526,\n",
              "   0.06351391971111298,\n",
              "   0.06314538046717644,\n",
              "   0.06292647123336792,\n",
              "   0.06288954118887584,\n",
              "   0.06292851207156976,\n",
              "   0.06283932862182458,\n",
              "   0.06287306422988574,\n",
              "   0.06283816695213318,\n",
              "   0.06271042674779892,\n",
              "   0.06283601311345895,\n",
              "   0.06271054099003474,\n",
              "   0.06270318850874901,\n",
              "   0.06287756251792113,\n",
              "   0.06276618503034115,\n",
              "   0.06293154569963615,\n",
              "   0.06286521938939889,\n",
              "   0.0627270545810461,\n",
              "   0.0629373515645663,\n",
              "   0.06282939327259858,\n",
              "   0.06281344282130401,\n",
              "   0.06280649205048879,\n",
              "   0.06272615306079388,\n",
              "   0.06284814638396104,\n",
              "   0.06273493605355422,\n",
              "   0.06284645448128383,\n",
              "   0.06285607442259789,\n",
              "   0.06273324849704902,\n",
              "   0.06278010706106822,\n",
              "   0.0628515010078748,\n",
              "   0.06279157971342404,\n",
              "   0.06282358492414157,\n",
              "   0.06274164778490861,\n",
              "   0.0633748924980561,\n",
              "   0.0627907036493222]}}"
            ]
          },
          "metadata": {},
          "execution_count": 13
        }
      ],
      "source": [
        "# Se inicializa el entrenamiento del modelo.\n",
        "modelhandler.train_model()"
      ]
    },
    {
      "cell_type": "code",
      "execution_count": 14,
      "metadata": {
        "colab": {
          "base_uri": "https://localhost:8080/",
          "height": 449
        },
        "id": "k55JhgMyG09V",
        "outputId": "74adc205-7deb-47aa-f2ef-98d4a11eff83"
      },
      "outputs": [
        {
          "output_type": "display_data",
          "data": {
            "text/plain": [
              "<Figure size 640x480 with 1 Axes>"
            ],
            "image/png": "[encoded data removed]"
          },
          "metadata": {}
        }
      ],
      "source": [
        "# Se visualiza el proceso de entrenamiento.\n",
        "# Esta función traza la pérdida del modelo durante el entrenamiento.\n",
        "modelhandler.plot_loss()"
      ]
    },
    {
      "cell_type": "code",
      "execution_count": 15,
      "metadata": {
        "colab": {
          "base_uri": "https://localhost:8080/"
        },
        "id": "E52bTEXnG09W",
        "outputId": "c75e878b-92d3-42e8-d11c-3a66ecba44aa"
      },
      "outputs": [
        {
          "output_type": "execute_result",
          "data": {
            "text/plain": [
              "26"
            ]
          },
          "metadata": {},
          "execution_count": 15
        }
      ],
      "source": [
        "# Se busca la pérdida mínima en la validación, que corresponde al mejor modelo.\n",
        "# 'np.argmin' devuelve el índice de la pérdida mínima en el conjunto de validación.\n",
        "# Se suma 1 porque los índices en Python comienzan en 0, pero las épocas comienzan en 1.\n",
        "np.argmin(modelhandler.running_record['val']['loss'])+1"
      ]
    },
    {
      "cell_type": "code",
      "execution_count": 16,
      "metadata": {
        "colab": {
          "base_uri": "https://localhost:8080/"
        },
        "collapsed": true,
        "id": "kH5xVXQyG09W",
        "outputId": "1e51ca83-64f6-4c4c-c9e5-cb3d20535388"
      },
      "outputs": [
        {
          "output_type": "stream",
          "name": "stderr",
          "text": [
            "INFO:pv_vision.nn.modelhandler:Loaded model from /content/drive/MyDrive/Entrenamiento/checkpoints/epoch_26/unetv32.pt\n"
          ]
        }
      ],
      "source": [
        "# Se carga el mejor modelo entrenado y se verifica su rendimiento en el conjunto de prueba.\n",
        "# Se emplea `load_model` para cargar el modelo entrenado. Este método toma el nombre del archivo de punto de control.\n",
        "modelhandler.load_model('/content/drive/MyDrive/Entrenamiento/checkpoints/epoch_26/unetv32.pt')"
      ]
    },
    {
      "cell_type": "markdown",
      "metadata": {
        "id": "xa-Fdu8ZG09W"
      },
      "source": [
        "El siguiente código prueba el modelo en el conjunto de prueba y almacena la salida en 'testset_output'. También se hace un comentario sobre la puntuación de la prueba y la puntuación de la validación."
      ]
    },
    {
      "cell_type": "code",
      "execution_count": 17,
      "metadata": {
        "colab": {
          "base_uri": "https://localhost:8080/"
        },
        "id": "1q3LEUNaG09W",
        "outputId": "587e305e-1590-4c25-8b3d-e54dd98c82d7"
      },
      "outputs": [
        {
          "output_type": "stream",
          "name": "stdout",
          "text": [
            "Testing mode\n",
            "----------\n"
          ]
        },
        {
          "output_type": "stream",
          "name": "stderr",
          "text": [
            "100%|██████████| 23/23 [00:12<00:00,  1.79it/s]\n",
            "INFO:pv_vision.nn.modelhandler:Test set: Average loss: 0.1249\n"
          ]
        },
        {
          "output_type": "stream",
          "name": "stdout",
          "text": [
            "Test set: Average loss: 0.1249\n"
          ]
        }
      ],
      "source": [
        "# Se evalúa el modelo en el conjunto de prueba. `test_model` es una función de ModelHandler\n",
        "# que evalúa el modelo en el conjunto de prueba y almacena la salida en la caché.\n",
        "_ = modelhandler.test_model(cache_output='testset_outputv32')\n",
        "\n",
        "# La salida del modelo se almacena en self.cache['testset_output']"
      ]
    },
    {
      "cell_type": "code",
      "source": [
        "# Libera la caché de la GPU\n",
        "torch.cuda.empty_cache()"
      ],
      "metadata": {
        "id": "CxrtcIqePCUe"
      },
      "execution_count": 14,
      "outputs": []
    }
  ],
  "metadata": {
    "accelerator": "GPU",
    "colab": {
      "gpuType": "T4",
      "provenance": [],
      "include_colab_link": true
    },
    "kernelspec": {
      "display_name": "Python 3",
      "name": "python3"
    },
    "language_info": {
      "name": "python"
    }
  },
  "nbformat": 4,
  "nbformat_minor": 0
}