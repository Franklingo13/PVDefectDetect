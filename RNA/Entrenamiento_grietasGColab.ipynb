{
  "cells": [
    {
      "cell_type": "markdown",
      "metadata": {
        "id": "view-in-github",
        "colab_type": "text"
      },
      "source": [
        "<a href=\"https://colab.research.google.com/github/Franklingo13/PVDefectDetect/blob/main/RNA/Entrenamiento_grietasGColab.ipynb\" target=\"_parent\"><img src=\"https://colab.research.google.com/assets/colab-badge.svg\" alt=\"Open In Colab\"/></a>"
      ]
    },
    {
      "cell_type": "markdown",
      "metadata": {
        "id": "psMYf9fJG09O"
      },
      "source": [
        "Notebook para entrenamiento de redes neuronales convolucionales para clasificación de defectos en imágenes de celdas fotovoltaicas.\n",
        "Pensado para correr en Google Colab."
      ]
    },
    {
      "cell_type": "code",
      "execution_count": 1,
      "metadata": {
        "colab": {
          "base_uri": "https://localhost:8080/"
        },
        "id": "gbQ5zjRCG09Q",
        "outputId": "d047766c-f97d-442a-bf1b-c18de5d4cc75"
      },
      "outputs": [
        {
          "output_type": "stream",
          "name": "stdout",
          "text": [
            "Drive already mounted at /content/drive; to attempt to forcibly remount, call drive.mount(\"/content/drive\", force_remount=True).\n"
          ]
        }
      ],
      "source": [
        "# Conexión con Google Drive\n",
        "from google.colab import drive\n",
        "drive.mount('/content/drive')"
      ]
    },
    {
      "cell_type": "code",
      "execution_count": 2,
      "metadata": {
        "id": "OhRFEtnDGxpJ"
      },
      "outputs": [],
      "source": [
        "# SPDX-License-Identifier: Apache-2.0\n",
        "#\n",
        "# Copyright (C) 2021 Supervisely\n",
        "#\n",
        "# This file is part of the Supervisely project and has been taken\n",
        "# from the Supervisely repository (https://github.com/supervisely/supervisely/blob/master/plugins/nn/unet_v2/src/unet.py).\n",
        "# It is being redistributed under the Apache License 2.0.\n",
        "#\n",
        "# You may obtain a copy of the License at\n",
        "#\n",
        "#     http://www.apache.org/licenses/LICENSE-2.0\n",
        "#\n",
        "# Unless required by applicable law or agreed to in writing, software\n",
        "# distributed under the License is distributed on an \"AS IS\" BASIS,\n",
        "# WITHOUT WARRANTIES OR CONDITIONS OF ANY KIND, either express or implied.\n",
        "# See the License for the specific language governing permissions and\n",
        "# limitations under the License.\n",
        "\n",
        "\n",
        "import torch\n",
        "from torch import nn\n",
        "from torchvision.models.vgg import vgg16_bn\n",
        "\n",
        "\n",
        "class ConvBNAct(nn.Module):\n",
        "    def __init__(self, in_channels, out_channels):\n",
        "        super().__init__()\n",
        "        self.seq = nn.Sequential(\n",
        "            nn.Conv2d(in_channels, out_channels,\n",
        "                      kernel_size=3, padding=1),\n",
        "            nn.BatchNorm2d(out_channels),\n",
        "            nn.ReLU(),\n",
        "        )\n",
        "\n",
        "    def forward(self, inputs):\n",
        "        return self.seq(inputs)\n",
        "\n",
        "\n",
        "class Block(nn.Module):\n",
        "    def __init__(self, src_channels, dst_channels):\n",
        "        super().__init__()\n",
        "        self.seq1 = ConvBNAct(src_channels, dst_channels)\n",
        "        self.seq2 = ConvBNAct(dst_channels, dst_channels)\n",
        "        self.seq3 = ConvBNAct(dst_channels, dst_channels)\n",
        "\n",
        "    def forward(self, x):\n",
        "        result = self.seq1(x)\n",
        "        result = self.seq2(result)\n",
        "        result = self.seq3(result)\n",
        "        return result\n",
        "\n",
        "\n",
        "class UNetUp(nn.Module):\n",
        "    def __init__(self, down_channels,  right_channels):\n",
        "        super().__init__()\n",
        "        self.bottom_up = nn.Upsample(scale_factor=2, mode='nearest')\n",
        "        self.conv = nn.Conv2d(down_channels, right_channels, kernel_size=1, stride=1)\n",
        "\n",
        "    def forward(self, left, bottom):\n",
        "        from_bottom = self.bottom_up(bottom)\n",
        "        from_bottom = self.conv(from_bottom)\n",
        "        result = torch.cat([left, from_bottom], 1)\n",
        "        return result\n",
        "\n",
        "\n",
        "class Bottleneck(nn.Module):\n",
        "    def __init__(self, in_channels, out_channels):\n",
        "        super().__init__()\n",
        "        self.conv = nn.Conv2d(in_channels, out_channels, kernel_size=(3, 3), dilation=2, padding=2)\n",
        "        self.bn = nn.BatchNorm2d(out_channels)\n",
        "        self.relu = nn.ReLU()\n",
        "        self.conv2 = nn.Conv2d(out_channels, out_channels, kernel_size=(3, 3), dilation=2, padding=2)\n",
        "        self.bn2 = nn.BatchNorm2d(out_channels)\n",
        "        self.relu2 = nn.ReLU()\n",
        "\n",
        "    def forward(self, x):\n",
        "        out = self.conv(x)\n",
        "        out = self.bn(out)\n",
        "        out = self.conv2(self.relu(out))\n",
        "        out = self.bn2(out)\n",
        "        return torch.cat((x, self.relu2(out)), dim=1)\n",
        "\n",
        "\n",
        "class UNet(nn.Module):\n",
        "\n",
        "    def __init__(self, encoder_blocks,  encoder_channels, n_cls):\n",
        "        self.encoder_channels = encoder_channels\n",
        "        self.depth = len(self.encoder_channels)\n",
        "        assert len(encoder_blocks) == self.depth\n",
        "        super().__init__()\n",
        "\n",
        "        self.encoder_blocks = nn.ModuleList(encoder_blocks)\n",
        "\n",
        "        self.blocks = nn.ModuleList()\n",
        "        # add bottleneck\n",
        "        self.blocks.append(Block(\n",
        "            self.encoder_channels[-1],\n",
        "            self.encoder_channels[-1]\n",
        "        ))\n",
        "\n",
        "        self.ups = nn.ModuleList()\n",
        "        for i in range(1, self.depth):\n",
        "            bottom_channels = self.encoder_channels[self.depth - i]\n",
        "            left_channels = self.encoder_channels[self.depth - i - 1]\n",
        "            right_channels = left_channels\n",
        "            self.ups.append(UNetUp(bottom_channels,  right_channels))\n",
        "            self.blocks.append(Block(\n",
        "                left_channels + right_channels,\n",
        "                right_channels\n",
        "            ))\n",
        "        self.last_conv = nn.Conv2d(encoder_channels[0], n_cls, 1)\n",
        "        # self.dropout = nn.Dropout2d(p=0.1)\n",
        "        self.bottle = Bottleneck(512, 512)\n",
        "\n",
        "    def forward(self, x):\n",
        "        encoder_outputs = []\n",
        "        for encoder_block in self.encoder_blocks:\n",
        "            x = encoder_block(x)\n",
        "            encoder_outputs.append(x)\n",
        "        x = self.bottle(encoder_outputs[self.depth - 1])\n",
        "        for i in range(self.depth):\n",
        "            if i > 0:\n",
        "                encoder_output = encoder_outputs[self.depth - i - 1]\n",
        "                x = self.ups[i - 1](encoder_output, x)\n",
        "                x = self.blocks[i](x)\n",
        "        # x = self.dropout(x)\n",
        "        x = self.last_conv(x)\n",
        "        return x  # no softmax or log_softmax\n",
        "\n",
        "\n",
        "def _get_encoder_blocks(model):\n",
        "    # last modules (ReLUs) of VGG blocks\n",
        "    layers_last_module_names = ['5', '12', '22', '32', '42']\n",
        "    result = []\n",
        "    cur_block = nn.Sequential()\n",
        "    for name, child in model.named_children():\n",
        "        if name == 'features':\n",
        "            for name2, child2 in child.named_children():\n",
        "                cur_block.add_module(name2, child2)\n",
        "                if name2 in layers_last_module_names:\n",
        "                    result.append(cur_block)\n",
        "                    cur_block = nn.Sequential()\n",
        "            break\n",
        "\n",
        "    return result\n",
        "\n",
        "\n",
        "def construct_unet(n_cls, pretrain=False):  # no weights inited\n",
        "    model = vgg16_bn(weights='DEFAULT')\n",
        "    encoder_blocks = _get_encoder_blocks(model)\n",
        "    encoder_channels = [64, 128, 256, 512, 1024]  # vgg16 channels\n",
        "    # prev_channels = encoder_channels[-1]\n",
        "\n",
        "    return UNet(encoder_blocks, encoder_channels, n_cls)\n"
      ]
    },
    {
      "cell_type": "code",
      "execution_count": 3,
      "metadata": {
        "id": "U_8l2-gnG09S"
      },
      "outputs": [],
      "source": [
        "# Importación de librerías\n",
        "import torch\n",
        "from torch.utils.data import Dataset, DataLoader\n",
        "from torchvision import transforms\n",
        "from torch.nn import DataParallel\n",
        "from torch.nn import CrossEntropyLoss\n",
        "from torch.optim import Adam\n",
        "from torch.optim.lr_scheduler import StepLR\n",
        "from torchvision.io import read_image, ImageReadMode\n",
        "from torchvision.datasets.vision import VisionDataset\n",
        "from torchvision.models.segmentation import deeplabv3_resnet50, DeepLabV3_ResNet50_Weights\n",
        "from torchvision.models.segmentation.deeplabv3 import DeepLabHead\n",
        "from torchvision.utils import draw_segmentation_masks\n",
        "import torchvision.transforms.functional as F\n",
        "\n",
        "import cv2 as cv\n",
        "import numpy as np\n",
        "\n",
        "import requests\n",
        "import copy\n",
        "#from unet_model import construct_unet\n",
        "from pathlib import Path\n",
        "from PIL import Image\n",
        "from imutils.paths import list_images\n",
        "import os\n",
        "import warnings"
      ]
    },
    {
      "cell_type": "code",
      "execution_count": 4,
      "metadata": {
        "colab": {
          "base_uri": "https://localhost:8080/"
        },
        "collapsed": true,
        "id": "u-13tOJejCxA",
        "outputId": "bd99f9c7-2605-4b0b-94be-ff5ef6ae815c"
      },
      "outputs": [
        {
          "output_type": "stream",
          "name": "stdout",
          "text": [
            "Requirement already satisfied: pv-vision in /usr/local/lib/python3.10/dist-packages (0.2.8)\n",
            "Requirement already satisfied: imutils>=0.5.4 in /usr/local/lib/python3.10/dist-packages (from pv-vision) (0.5.4)\n",
            "Requirement already satisfied: ipywidgets>=8.1.2 in /usr/local/lib/python3.10/dist-packages (from pv-vision) (8.1.3)\n",
            "Requirement already satisfied: joblib>=1.2.0 in /usr/local/lib/python3.10/dist-packages (from pv-vision) (1.4.2)\n",
            "Requirement already satisfied: matplotlib>=3.8.0 in /usr/local/lib/python3.10/dist-packages (from pv-vision) (3.9.2)\n",
            "Requirement already satisfied: opencv-python>=4.7.0.72 in /usr/local/lib/python3.10/dist-packages (from pv-vision) (4.10.0.84)\n",
            "Requirement already satisfied: scikit-learn>=1.3.0 in /usr/local/lib/python3.10/dist-packages (from pv-vision) (1.3.2)\n",
            "Requirement already satisfied: setuptools>=68.2.2 in /usr/local/lib/python3.10/dist-packages (from pv-vision) (71.0.4)\n",
            "Requirement already satisfied: torch>=2.2.0.post100 in /usr/local/lib/python3.10/dist-packages (from pv-vision) (2.3.1+cu121)\n",
            "Requirement already satisfied: torchvision>=0.15.2a0 in /usr/local/lib/python3.10/dist-packages (from pv-vision) (0.18.1+cu121)\n",
            "Requirement already satisfied: tqdm>=4.65.0 in /usr/local/lib/python3.10/dist-packages (from pv-vision) (4.66.5)\n",
            "Requirement already satisfied: comm>=0.1.3 in /usr/local/lib/python3.10/dist-packages (from ipywidgets>=8.1.2->pv-vision) (0.2.2)\n",
            "Requirement already satisfied: ipython>=6.1.0 in /usr/local/lib/python3.10/dist-packages (from ipywidgets>=8.1.2->pv-vision) (7.34.0)\n",
            "Requirement already satisfied: traitlets>=4.3.1 in /usr/local/lib/python3.10/dist-packages (from ipywidgets>=8.1.2->pv-vision) (5.7.1)\n",
            "Requirement already satisfied: widgetsnbextension~=4.0.11 in /usr/local/lib/python3.10/dist-packages (from ipywidgets>=8.1.2->pv-vision) (4.0.11)\n",
            "Requirement already satisfied: jupyterlab-widgets~=3.0.11 in /usr/local/lib/python3.10/dist-packages (from ipywidgets>=8.1.2->pv-vision) (3.0.11)\n",
            "Requirement already satisfied: contourpy>=1.0.1 in /usr/local/lib/python3.10/dist-packages (from matplotlib>=3.8.0->pv-vision) (1.2.1)\n",
            "Requirement already satisfied: cycler>=0.10 in /usr/local/lib/python3.10/dist-packages (from matplotlib>=3.8.0->pv-vision) (0.12.1)\n",
            "Requirement already satisfied: fonttools>=4.22.0 in /usr/local/lib/python3.10/dist-packages (from matplotlib>=3.8.0->pv-vision) (4.53.1)\n",
            "Requirement already satisfied: kiwisolver>=1.3.1 in /usr/local/lib/python3.10/dist-packages (from matplotlib>=3.8.0->pv-vision) (1.4.5)\n",
            "Requirement already satisfied: numpy>=1.23 in /usr/local/lib/python3.10/dist-packages (from matplotlib>=3.8.0->pv-vision) (1.26.4)\n",
            "Requirement already satisfied: packaging>=20.0 in /usr/local/lib/python3.10/dist-packages (from matplotlib>=3.8.0->pv-vision) (24.1)\n",
            "Requirement already satisfied: pillow>=8 in /usr/local/lib/python3.10/dist-packages (from matplotlib>=3.8.0->pv-vision) (9.4.0)\n",
            "Requirement already satisfied: pyparsing>=2.3.1 in /usr/local/lib/python3.10/dist-packages (from matplotlib>=3.8.0->pv-vision) (3.1.2)\n",
            "Requirement already satisfied: python-dateutil>=2.7 in /usr/local/lib/python3.10/dist-packages (from matplotlib>=3.8.0->pv-vision) (2.8.2)\n",
            "Requirement already satisfied: scipy>=1.5.0 in /usr/local/lib/python3.10/dist-packages (from scikit-learn>=1.3.0->pv-vision) (1.13.1)\n",
            "Requirement already satisfied: threadpoolctl>=2.0.0 in /usr/local/lib/python3.10/dist-packages (from scikit-learn>=1.3.0->pv-vision) (3.5.0)\n",
            "Requirement already satisfied: filelock in /usr/local/lib/python3.10/dist-packages (from torch>=2.2.0.post100->pv-vision) (3.15.4)\n",
            "Requirement already satisfied: typing-extensions>=4.8.0 in /usr/local/lib/python3.10/dist-packages (from torch>=2.2.0.post100->pv-vision) (4.12.2)\n",
            "Requirement already satisfied: sympy in /usr/local/lib/python3.10/dist-packages (from torch>=2.2.0.post100->pv-vision) (1.13.1)\n",
            "Requirement already satisfied: networkx in /usr/local/lib/python3.10/dist-packages (from torch>=2.2.0.post100->pv-vision) (3.3)\n",
            "Requirement already satisfied: jinja2 in /usr/local/lib/python3.10/dist-packages (from torch>=2.2.0.post100->pv-vision) (3.1.4)\n",
            "Requirement already satisfied: fsspec in /usr/local/lib/python3.10/dist-packages (from torch>=2.2.0.post100->pv-vision) (2024.6.1)\n",
            "Requirement already satisfied: nvidia-cuda-nvrtc-cu12==12.1.105 in /usr/local/lib/python3.10/dist-packages (from torch>=2.2.0.post100->pv-vision) (12.1.105)\n",
            "Requirement already satisfied: nvidia-cuda-runtime-cu12==12.1.105 in /usr/local/lib/python3.10/dist-packages (from torch>=2.2.0.post100->pv-vision) (12.1.105)\n",
            "Requirement already satisfied: nvidia-cuda-cupti-cu12==12.1.105 in /usr/local/lib/python3.10/dist-packages (from torch>=2.2.0.post100->pv-vision) (12.1.105)\n",
            "Requirement already satisfied: nvidia-cudnn-cu12==8.9.2.26 in /usr/local/lib/python3.10/dist-packages (from torch>=2.2.0.post100->pv-vision) (8.9.2.26)\n",
            "Requirement already satisfied: nvidia-cublas-cu12==12.1.3.1 in /usr/local/lib/python3.10/dist-packages (from torch>=2.2.0.post100->pv-vision) (12.1.3.1)\n",
            "Requirement already satisfied: nvidia-cufft-cu12==11.0.2.54 in /usr/local/lib/python3.10/dist-packages (from torch>=2.2.0.post100->pv-vision) (11.0.2.54)\n",
            "Requirement already satisfied: nvidia-curand-cu12==10.3.2.106 in /usr/local/lib/python3.10/dist-packages (from torch>=2.2.0.post100->pv-vision) (10.3.2.106)\n",
            "Requirement already satisfied: nvidia-cusolver-cu12==11.4.5.107 in /usr/local/lib/python3.10/dist-packages (from torch>=2.2.0.post100->pv-vision) (11.4.5.107)\n",
            "Requirement already satisfied: nvidia-cusparse-cu12==12.1.0.106 in /usr/local/lib/python3.10/dist-packages (from torch>=2.2.0.post100->pv-vision) (12.1.0.106)\n",
            "Requirement already satisfied: nvidia-nccl-cu12==2.20.5 in /usr/local/lib/python3.10/dist-packages (from torch>=2.2.0.post100->pv-vision) (2.20.5)\n",
            "Requirement already satisfied: nvidia-nvtx-cu12==12.1.105 in /usr/local/lib/python3.10/dist-packages (from torch>=2.2.0.post100->pv-vision) (12.1.105)\n",
            "Requirement already satisfied: triton==2.3.1 in /usr/local/lib/python3.10/dist-packages (from torch>=2.2.0.post100->pv-vision) (2.3.1)\n",
            "Requirement already satisfied: nvidia-nvjitlink-cu12 in /usr/local/lib/python3.10/dist-packages (from nvidia-cusolver-cu12==11.4.5.107->torch>=2.2.0.post100->pv-vision) (12.6.20)\n",
            "Requirement already satisfied: jedi>=0.16 in /usr/local/lib/python3.10/dist-packages (from ipython>=6.1.0->ipywidgets>=8.1.2->pv-vision) (0.19.1)\n",
            "Requirement already satisfied: decorator in /usr/local/lib/python3.10/dist-packages (from ipython>=6.1.0->ipywidgets>=8.1.2->pv-vision) (4.4.2)\n",
            "Requirement already satisfied: pickleshare in /usr/local/lib/python3.10/dist-packages (from ipython>=6.1.0->ipywidgets>=8.1.2->pv-vision) (0.7.5)\n",
            "Requirement already satisfied: prompt-toolkit!=3.0.0,!=3.0.1,<3.1.0,>=2.0.0 in /usr/local/lib/python3.10/dist-packages (from ipython>=6.1.0->ipywidgets>=8.1.2->pv-vision) (3.0.47)\n",
            "Requirement already satisfied: pygments in /usr/local/lib/python3.10/dist-packages (from ipython>=6.1.0->ipywidgets>=8.1.2->pv-vision) (2.16.1)\n",
            "Requirement already satisfied: backcall in /usr/local/lib/python3.10/dist-packages (from ipython>=6.1.0->ipywidgets>=8.1.2->pv-vision) (0.2.0)\n",
            "Requirement already satisfied: matplotlib-inline in /usr/local/lib/python3.10/dist-packages (from ipython>=6.1.0->ipywidgets>=8.1.2->pv-vision) (0.1.7)\n",
            "Requirement already satisfied: pexpect>4.3 in /usr/local/lib/python3.10/dist-packages (from ipython>=6.1.0->ipywidgets>=8.1.2->pv-vision) (4.9.0)\n",
            "Requirement already satisfied: six>=1.5 in /usr/local/lib/python3.10/dist-packages (from python-dateutil>=2.7->matplotlib>=3.8.0->pv-vision) (1.16.0)\n",
            "Requirement already satisfied: MarkupSafe>=2.0 in /usr/local/lib/python3.10/dist-packages (from jinja2->torch>=2.2.0.post100->pv-vision) (2.1.5)\n",
            "Requirement already satisfied: mpmath<1.4,>=1.1.0 in /usr/local/lib/python3.10/dist-packages (from sympy->torch>=2.2.0.post100->pv-vision) (1.3.0)\n",
            "Requirement already satisfied: parso<0.9.0,>=0.8.3 in /usr/local/lib/python3.10/dist-packages (from jedi>=0.16->ipython>=6.1.0->ipywidgets>=8.1.2->pv-vision) (0.8.4)\n",
            "Requirement already satisfied: ptyprocess>=0.5 in /usr/local/lib/python3.10/dist-packages (from pexpect>4.3->ipython>=6.1.0->ipywidgets>=8.1.2->pv-vision) (0.7.0)\n",
            "Requirement already satisfied: wcwidth in /usr/local/lib/python3.10/dist-packages (from prompt-toolkit!=3.0.0,!=3.0.1,<3.1.0,>=2.0.0->ipython>=6.1.0->ipywidgets>=8.1.2->pv-vision) (0.2.13)\n"
          ]
        }
      ],
      "source": [
        "# Importación de la librería de pv-vision\n",
        "!pip install pv-vision"
      ]
    },
    {
      "cell_type": "code",
      "execution_count": 5,
      "metadata": {
        "id": "YVtXGzixG09T"
      },
      "outputs": [],
      "source": [
        "# Importar el manejador de modelo: ModelHandler\n",
        "from pv_vision.nn import ModelHandler"
      ]
    },
    {
      "cell_type": "code",
      "execution_count": 6,
      "metadata": {
        "id": "ia6yr7DDG09T"
      },
      "outputs": [],
      "source": [
        "# Definición de una clase para el conjunto de datos solar,\n",
        "# que hereda de la clase VisionDataset de PyTorch.\n",
        "class SolarDataset(VisionDataset):\n",
        "    \"\"\"Un conjunto de datos que lee directamente las imágenes y las máscaras desde una carpeta.\"\"\"\n",
        "\n",
        "    # Se definió el método de inicialización para la clase.\n",
        "    def __init__(self,\n",
        "                 root,\n",
        "                 image_folder,\n",
        "                 mask_folder,\n",
        "                 transforms,\n",
        "                 mode = \"train\",\n",
        "                 random_seed=42):\n",
        "        # Se llamó al método de inicialización de la clase padre.\n",
        "        super().__init__(root, transforms)\n",
        "        # Se establecieron las rutas a las carpetas de imágenes y máscaras.\n",
        "        self.image_path = Path(self.root) / image_folder\n",
        "        self.mask_path = Path(self.root) / mask_folder\n",
        "\n",
        "        # Se verificó que las carpetas de imágenes y máscaras existan.\n",
        "        if not os.path.exists(self.image_path):\n",
        "            raise OSError(f\"{self.image_path} no encontrado.\")\n",
        "\n",
        "        if not os.path.exists(self.mask_path):\n",
        "            raise OSError(f\"{self.mask_path} no encontrado.\")\n",
        "\n",
        "        # Se obtuvieron las listas de imágenes y máscaras y se ordenaron.\n",
        "        self.image_list = sorted(list(list_images(self.image_path)))\n",
        "        self.mask_list = sorted(list(list_images(self.mask_path)))\n",
        "\n",
        "        # Se convirtieron las listas de imágenes y máscaras a arrays de numpy.\n",
        "        self.image_list = np.array(self.image_list)\n",
        "        self.mask_list = np.array(self.mask_list)\n",
        "\n",
        "        # Se estableció la semilla para la generación de números aleatorios y se mezclaron las imágenes y las máscaras.\n",
        "        np.random.seed(random_seed)\n",
        "        index = np.arange(len(self.image_list))\n",
        "        np.random.shuffle(index)\n",
        "        self.image_list = self.image_list[index]\n",
        "        self.mask_list = self.mask_list[index]\n",
        "\n",
        "    # Se definió el método para obtener la longitud del conjunto de datos.\n",
        "    def __len__(self):\n",
        "        return len(self.image_list)\n",
        "\n",
        "    # Se definió un método para obtener el nombre de una imagen o máscara.\n",
        "    def __getname__(self, index):\n",
        "        image_name = os.path.splitext(os.path.split(self.image_list[index])[-1])[0]\n",
        "        mask_name = os.path.splitext(os.path.split(self.mask_list[index])[-1])[0]\n",
        "\n",
        "        if image_name == mask_name:\n",
        "            return image_name\n",
        "        else:\n",
        "            return False\n",
        "\n",
        "    # Se definió un método para obtener una imagen y su máscara correspondiente.\n",
        "    def __getraw__(self, index):\n",
        "        if not self.__getname__(index):\n",
        "            raise ValueError(\"{}: La imagen no coincide con la máscara\".format(os.path.split(self.image_list[index])[-1]))\n",
        "        image = Image.open(self.image_list[index])\n",
        "        mask = Image.open(self.mask_list[index]).convert('L')\n",
        "        mask = np.array(mask)\n",
        "        mask = Image.fromarray(mask)\n",
        "\n",
        "        return image, mask\n",
        "\n",
        "    # Se definió el método para obtener un elemento del conjunto de datos.\n",
        "    def __getitem__(self, index):\n",
        "        image, mask = self.__getraw__(index)\n",
        "        image, mask = self.transforms(image, mask)\n",
        "\n",
        "        return image, mask"
      ]
    },
    {
      "cell_type": "code",
      "execution_count": 7,
      "metadata": {
        "id": "t1nDW9d6G09T"
      },
      "outputs": [],
      "source": [
        "# Definición de una clase para componer varias transformaciones.\n",
        "class Compose:\n",
        "    def __init__(self, transforms):\n",
        "        \"\"\"\n",
        "        transforms: una lista de transformaciones\n",
        "        \"\"\"\n",
        "        self.transforms = transforms\n",
        "\n",
        "    # Se definió el método para aplicar las transformaciones a la imagen y la máscara.\n",
        "    def __call__(self, image, target):\n",
        "        \"\"\"\n",
        "        image: imagen de entrada\n",
        "        target: máscara de entrada\n",
        "        \"\"\"\n",
        "        for t in self.transforms:\n",
        "            image, target = t(image, target)\n",
        "        return image, target\n",
        "\n",
        "# Se definió una clase para redimensionar la imagen y la máscara a un tamaño fijo.\n",
        "class FixResize:\n",
        "    # UNet requiere que el tamaño de entrada sea múltiplo de 16\n",
        "    def __init__(self, size):\n",
        "        self.size = size\n",
        "\n",
        "    # Se definió el método para redimensionar la imagen y la máscara.\n",
        "    def __call__(self, image, target):\n",
        "        image = F.resize(image, (self.size, self.size), interpolation=transforms.InterpolationMode.BILINEAR)\n",
        "        target = F.resize(target, (self.size, self.size), interpolation=transforms.InterpolationMode.NEAREST)\n",
        "        return image, target\n",
        "\n",
        "# Se definió una clase para transformar la imagen y la máscara a tensores.\n",
        "class ToTensor:\n",
        "    \"\"\"Transforma la imagen a tensor. Escala la imagen a [0,1] float32.\n",
        "    Transforma la máscara a tensor.\n",
        "    \"\"\"\n",
        "    def __call__(self, image, target):\n",
        "        image = transforms.ToTensor()(image)\n",
        "        target = torch.as_tensor(np.array(target), dtype=torch.int64)\n",
        "        return image, target\n",
        "\n",
        "# Se definió una clase para transformar la imagen a tensor manteniendo el tipo original.\n",
        "class PILToTensor:\n",
        "    \"\"\"Transforma la imagen a tensor. Mantiene el tipo original.\"\"\"\n",
        "    def __call__(self, image, target):\n",
        "        image = F.pil_to_tensor(image)\n",
        "        target = torch.as_tensor(np.array(target), dtype=torch.int64)\n",
        "        return image, target\n",
        "\n",
        "# Se definió una clase para normalizar la imagen.\n",
        "class Normalize:\n",
        "    def __init__(self, mean=(0.485, 0.456, 0.406), std=(0.229, 0.224, 0.225)):\n",
        "        self.mean = mean\n",
        "        self.std = std\n",
        "\n",
        "    def __call__(self, image, target):\n",
        "        # Verifica si la imagen es en escala de grises (1 canal) y la convierte a RGB (3 canales) si es necesario\n",
        "        if image.shape[0] == 1:\n",
        "            image = image.repeat(3, 1, 1)  # Repite el canal existente 3 veces\n",
        "        image = F.normalize(image, mean=self.mean, std=self.std)\n",
        "        return image, target"
      ]
    },
    {
      "cell_type": "code",
      "source": [
        "# Definición de una clase personalizada para la rotación de imagen y máscara\n",
        "class RandomRotation:\n",
        "    def __init__(self, degrees):\n",
        "        self.degrees = degrees\n",
        "\n",
        "    def __call__(self, image, target):\n",
        "        # Rotar la imagen\n",
        "        angle = transforms.RandomRotation.get_params([-self.degrees, self.degrees])\n",
        "        image = F.rotate(image, angle, interpolation=transforms.InterpolationMode.BILINEAR)\n",
        "        # Rotar la máscara\n",
        "        target = F.rotate(target, angle, interpolation=transforms.InterpolationMode.NEAREST)\n",
        "        return image, target\n"
      ],
      "metadata": {
        "id": "iggYqFz__qYf"
      },
      "execution_count": null,
      "outputs": []
    },
    {
      "cell_type": "code",
      "execution_count": 8,
      "metadata": {
        "colab": {
          "base_uri": "https://localhost:8080/"
        },
        "id": "pRAdQ8o1G09U",
        "outputId": "88a0cedf-e112-4189-de04-2ec6da61bd61"
      },
      "outputs": [
        {
          "output_type": "stream",
          "name": "stdout",
          "text": [
            "El conjunto de datos de entrenamiento contiene 1453 elementos.\n"
          ]
        }
      ],
      "source": [
        "# Ruta al directorio que contiene las imágenes y las máscaras.\n",
        "# root = Path(\n",
        "#     '/content/drive/MyDrive/Trabajo de titulación/PV_vision/Entrenamiento')\n",
        "\n",
        "root = Path(\n",
        "    '/content/drive/MyDrive/Entrenamiento')\n",
        "\n",
        "# Se definen las transformaciones a aplicar a las imágenes y las etiquetas.\n",
        "transformers = Compose([\n",
        "    #RandomRotation(degrees=10),\n",
        "    FixResize(256),\n",
        "    ToTensor(),\n",
        "    Normalize()\n",
        "])\n",
        "#transformers = Compose([FixResize(256), ToTensor(), Normalize()])\n",
        "# Se crean los conjuntos de datos de entrenamiento, validación y prueba.\n",
        "trainset = SolarDataset(root, image_folder=\"train/img\",\n",
        "        mask_folder=\"train/ann\", transforms=transformers)\n",
        "\n",
        "valset = SolarDataset(root, image_folder=\"val/img\",\n",
        "        mask_folder=\"val/ann\", transforms=transformers)\n",
        "\n",
        "testset = SolarDataset(root, image_folder=\"test/img\",\n",
        "        mask_folder=\"test/ann\", transforms=transformers)\n",
        "\n",
        "# Verificación de que la carpeta haya sido establecida correctamente\n",
        "print(f\"El conjunto de datos de entrenamiento contiene {len(trainset)} elementos.\")"
      ]
    },
    {
      "cell_type": "code",
      "execution_count": null,
      "metadata": {
        "id": "YhN5cKIpjCxD"
      },
      "outputs": [],
      "source": [
        "class Accuracy:\n",
        "    \"\"\"Calcular la precisión de un modelo\"\"\"\n",
        "    def __init__(self):\n",
        "        self.__name__ = \"accuracy\"\n",
        "        self._base = [0, 0]\n",
        "\n",
        "    def calc(self, outputs, targets, reduction='mean'):\n",
        "        \"\"\" Calcular la precisión.\n",
        "        Argumentos:\n",
        "        -----------\n",
        "        outputs: torch.Tensor\n",
        "        La salida del modelo, forma (batch_size, num_classes, H, W)\n",
        "\n",
        "        targets: torch.Tensor\n",
        "        La etiqueta verdadera, forma (batch_size, H, W)\n",
        "\n",
        "        reduction: str\n",
        "        El método de reducción, 'mean' o 'sum'\n",
        "        Si es 'mean', devuelve la precisión media del lote\n",
        "        Si es 'sum', devuelve la suma de predicciones correctas del lote\n",
        "\n",
        "        Retorna:\n",
        "        --------\n",
        "        accuracy: torch.Tensor\n",
        "        \"\"\"\n",
        "        # Asegúrate de que las dimensiones de outputs y targets sean compatibles\n",
        "        if outputs.dim() == 4 and targets.dim() == 3:\n",
        "            _, preds = torch.max(outputs, 1)\n",
        "            correct = torch.sum(preds == targets)\n",
        "\n",
        "            if reduction == 'mean':\n",
        "                return correct.float() / targets.numel()\n",
        "            elif reduction == 'sum':\n",
        "                return correct\n",
        "            else:\n",
        "                raise ValueError(\"reduction debe ser 'mean' o 'sum'\")\n",
        "        else:\n",
        "            raise ValueError(\"Las dimensiones de outputs y targets no son compatibles\")\n",
        "\n",
        "    def accumulate(self, outputs, targets):\n",
        "        \"\"\" Acumular la métrica a lo largo de varios lotes.\"\"\"\n",
        "        if outputs.dim() == 4 and targets.dim() == 3:\n",
        "            _, preds = torch.max(outputs, 1)\n",
        "            correct = torch.sum(preds == targets)\n",
        "            self._base[0] += correct\n",
        "            self._base[1] += targets.numel()\n",
        "        else:\n",
        "            raise ValueError(\"Las dimensiones de outputs y targets no son compatibles\")\n",
        "\n",
        "    def reset(self):\n",
        "        self._base = [0, 0]\n",
        "\n",
        "    def accumulated_score(self):\n",
        "        \"\"\" Devolver la puntuación acumulada en una época.\"\"\"\n",
        "        if self._base[1] == 0:\n",
        "            # advertencia de división por cero\n",
        "            warnings.warn(\"El denominador es cero, devuelve 0\", RuntimeWarning)\n",
        "            return 0\n",
        "        return self._base[0].float() / self._base[1]\n",
        "\n",
        "    def __call__(self, outputs, targets, reduction='mean'):\n",
        "        return self.calc(outputs, targets, reduction)"
      ]
    },
    {
      "cell_type": "code",
      "execution_count": 9,
      "metadata": {
        "id": "zB7a3yuP4Dps"
      },
      "outputs": [],
      "source": [
        "## Definición de una clase para calcular el Índice de Jaccard, o Intersección sobre Unión (IoU)\n",
        "class JaccardIndex:\n",
        "    \"\"\"Calcular el índice de Jaccard (IoU) de un modelo\"\"\"\n",
        "    def __init__(self):\n",
        "        self.__name__ = \"jaccard_index\"\n",
        "        self._base_intersection = 0\n",
        "        self._base_union = 0\n",
        "\n",
        "    def calc(self, outputs, targets, reduction='mean'):\n",
        "        \"\"\"\n",
        "        Calcular el índice de Jaccard.\n",
        "\n",
        "        Argumentos:\n",
        "        -----------\n",
        "        outputs: torch.Tensor\n",
        "            La salida del modelo, forma (batch_size, num_classes, H, W)\n",
        "        targets: torch.Tensor\n",
        "            La etiqueta verdadera, forma (batch_size, H, W)\n",
        "        reduction: str\n",
        "            El método de reducción, 'mean' o 'sum'.\n",
        "\n",
        "        Retorna:\n",
        "        --------\n",
        "        iou: torch.Tensor\n",
        "        \"\"\"\n",
        "\n",
        "        if outputs.dim() == 4 and targets.dim() == 3:\n",
        "            # Convertir targets a formato one-hot\n",
        "            targets = torch.nn.functional.one_hot(targets, num_classes=outputs.shape[1])\n",
        "            targets = targets.permute(0, 3, 1, 2).float()  # Cambiar dimensiones para coincidir con outputs\n",
        "\n",
        "            # Obtener la predicción con la mayor probabilidad por clase\n",
        "            _, preds = torch.max(outputs, 1)\n",
        "            preds = torch.nn.functional.one_hot(preds, num_classes=outputs.shape[1])\n",
        "            preds = preds.permute(0, 3, 1, 2).float()\n",
        "\n",
        "            intersection = torch.sum(preds * targets, dim=(0, 2, 3))\n",
        "            union = torch.sum(preds + targets, dim=(0, 2, 3)) - intersection\n",
        "\n",
        "            iou_per_class = intersection / (union + 1e-8)  # Evitar división por cero\n",
        "\n",
        "            if reduction == 'mean':\n",
        "                return torch.mean(iou_per_class).item()\n",
        "            elif reduction == 'sum':\n",
        "                return torch.sum(iou_per_class).item()\n",
        "            else:\n",
        "                raise ValueError(\"reduction debe ser 'mean' o 'sum'\")\n",
        "        else:\n",
        "            raise ValueError(\"Las dimensiones de outputs y targets no son compatibles\")\n",
        "\n",
        "    def accumulate(self, outputs, targets):\n",
        "        \"\"\" Acumular la métrica a lo largo de varios lotes.\"\"\"\n",
        "        if outputs.dim() == 4 and targets.dim() == 3:\n",
        "            targets = torch.nn.functional.one_hot(targets, num_classes=outputs.shape[1])\n",
        "            targets = targets.permute(0, 3, 1, 2).float()\n",
        "\n",
        "            _, preds = torch.max(outputs, 1)\n",
        "            preds = torch.nn.functional.one_hot(preds, num_classes=outputs.shape[1])\n",
        "            preds = preds.permute(0, 3, 1, 2).float()\n",
        "\n",
        "            intersection = torch.sum(preds * targets, dim=(0, 2, 3))\n",
        "            union = torch.sum(preds + targets, dim=(0, 2, 3)) - intersection\n",
        "\n",
        "            self._base_intersection += intersection\n",
        "            self._base_union += union\n",
        "        else:\n",
        "            raise ValueError(\"Las dimensiones de outputs y targets no son compatibles\")\n",
        "\n",
        "    def reset(self):\n",
        "        self._base_intersection = 0\n",
        "        self._base_union = 0\n",
        "\n",
        "    def accumulated_score(self):\n",
        "        \"\"\" Devolver la puntuación acumulada en una época.\"\"\"\n",
        "        if self._base_union.sum() == 0:\n",
        "            # advertencia de división por cero\n",
        "            warnings.warn(\"El denominador es cero, devuelve 0\", RuntimeWarning)\n",
        "            return 0\n",
        "        return torch.mean(self._base_intersection.float() / (self._base_union + 1e-8)).item()\n",
        "\n",
        "    def __call__(self, outputs, targets, reduction='mean'):\n",
        "        return self.calc(outputs, targets, reduction)\n"
      ]
    },
    {
      "cell_type": "code",
      "execution_count": null,
      "metadata": {
        "id": "KaZs0hwDG09U"
      },
      "outputs": [],
      "source": [
        "# Se define una función para crear un modelo DeepLab preentrenado.\n",
        "def DeepLab_pretrained(num_classes):\n",
        "    # Se carga el modelo DeepLab con una arquitectura ResNet50 preentrenada.\n",
        "    deeplab = deeplabv3_resnet50(weights=DeepLabV3_ResNet50_Weights.DEFAULT)\n",
        "\n",
        "    # Se reemplaza el clasificador del modelo con un nuevo clasificador DeepLabHead.\n",
        "    # El nuevo clasificador tiene 2048 características de entrada y 'num_classes' características de salida.\n",
        "    deeplab.classifier = DeepLabHead(2048, num_classes)\n",
        "\n",
        "    # Se devuelve el modelo modificado.\n",
        "    return deeplab"
      ]
    },
    {
      "cell_type": "code",
      "execution_count": 9,
      "metadata": {
        "id": "TZFPZp57F3wK"
      },
      "outputs": [],
      "source": [
        "# Crea una instancia del modelo U-Net con 5 canales de salida.\n",
        "# Número de canales de salida = al número de clases\n",
        "unet = construct_unet(5)\n",
        "# Se \"envuelve\" el modelo en un objeto DataParallel.\n",
        "# Esto permite que el modelo se ejecute en paralelo en múltiples GPUs, si están disponibles.\n",
        "unet = DataParallel(unet)"
      ]
    },
    {
      "cell_type": "code",
      "execution_count": 10,
      "metadata": {
        "colab": {
          "base_uri": "https://localhost:8080/"
        },
        "id": "Qnmr0nyOG09U",
        "outputId": "55cf9fd4-02a4-4281-a58e-4b6a297ec08e"
      },
      "outputs": [
        {
          "output_type": "stream",
          "name": "stdout",
          "text": [
            "Dispositivo utilizado: cuda:0\n"
          ]
        }
      ],
      "source": [
        "# Se define el dispositivo en el que se ejecutará el modelo.\n",
        "device = torch.device(\"cuda:0\" if torch.cuda.is_available() else \"cpu\")\n",
        "# Se imprime el dispositivo utilizado.\n",
        "print(f\"Dispositivo utilizado: {device}\")\n",
        "\n",
        "# Se crea el modelo utilizando la función DeepLab_pretrained definida anteriormente.\n",
        "# El modelo se envuelve en un objeto DataParallel para permitir el entrenamiento en múltiples GPUs si están disponibles.\n",
        "#model = DataParallel(DeepLab_pretrained(5))\n",
        "\n",
        "# Se define la función de pérdida a utilizar durante el entrenamiento.\n",
        "# En este caso, se utiliza la pérdida de entropía cruzada.\n",
        "criterion = CrossEntropyLoss()\n",
        "\n",
        "# Se define el optimizador a utilizar durante el entrenamiento. En este caso, se utiliza Adam con una tasa de aprendizaje de 0.01.\n",
        "#optimizer = Adam(model.parameters(), lr=0.01)\n",
        "optimizer = Adam(unet.parameters(), lr=0.0015)\n",
        "\n",
        "# Se define el programador de la tasa de aprendizaje a utilizar durante el entrenamiento.\n",
        "# En este caso, se utiliza un programador de paso que disminuye la tasa de aprendizaje en un factor de 0.2 cada 5 épocas.\n",
        "lr_scheduler = StepLR(optimizer, step_size=8, gamma=0.05)"
      ]
    },
    {
      "cell_type": "code",
      "execution_count": 11,
      "metadata": {
        "colab": {
          "base_uri": "https://localhost:8080/"
        },
        "id": "qouTmOWmA8ng",
        "outputId": "71067fcd-4659-4bce-932d-ff982bbac9f8"
      },
      "outputs": [
        {
          "output_type": "execute_result",
          "data": {
            "text/plain": [
              "<All keys matched successfully>"
            ]
          },
          "metadata": {},
          "execution_count": 11
        }
      ],
      "source": [
        "# Cargar los pesos del modelo preentrenado\n",
        "\n",
        "weight_path = '/content/drive/MyDrive/Entrenamiento/unetv25.pt'\n",
        "unet.load_state_dict(torch.load(weight_path, map_location=device))"
      ]
    },
    {
      "cell_type": "code",
      "execution_count": 12,
      "metadata": {
        "colab": {
          "base_uri": "https://localhost:8080/"
        },
        "id": "TjJv6uo4G09V",
        "outputId": "61f1bcf8-b56d-4671-ede0-4fb7c9e6d3c7"
      },
      "outputs": [
        {
          "output_type": "stream",
          "name": "stderr",
          "text": [
            "INFO:pv_vision.nn.modelhandler:ModelHandler initialized.\n"
          ]
        }
      ],
      "source": [
        "# Se inicializa el manejador del modelo.\n",
        "# La salida se almacena en la carpeta de salida.\n",
        "modelhandler = ModelHandler(\n",
        "    # Se pasa el modelo que se va a entrenar.\n",
        "    #model=model,\n",
        "    model = unet,\n",
        "    # Se especifica el nombre de la carpeta de salida.\n",
        "    #model_output='out_unet',\n",
        "    # Se pasan los conjuntos de datos de entrenamiento, validación y prueba.\n",
        "    train_dataset=trainset,\n",
        "    val_dataset=valset,\n",
        "    test_dataset=testset,\n",
        "    # Se especifica el tamaño del lote para el entrenamiento y la validación.\n",
        "    batch_size_train=16,\n",
        "    batch_size_val=16,\n",
        "    # Se pasa el programador de la tasa de aprendizaje.\n",
        "    lr_scheduler=lr_scheduler,\n",
        "    # Se especifica el número de épocas para el entrenamiento.\n",
        "    num_epochs=42,\n",
        "    # Se pasa la función de pérdida y el optimizador.\n",
        "    criterion=criterion,\n",
        "    optimizer=optimizer,\n",
        "    # Se pasa el dispositivo en el que se ejecutará el entrenamiento.\n",
        "    device=device,\n",
        "    #evaluate_metric= JaccardIndex,\n",
        "    # Se especifica el directorio donde se guardarán los puntos de control del modelo.\n",
        "    save_dir='/content/drive/MyDrive/Entrenamiento/checkpoints',\n",
        "    # Se especifica el nombre del archivo de punto de control.\n",
        "    save_name='unetv28.pt'\n",
        ")"
      ]
    },
    {
      "cell_type": "code",
      "execution_count": 13,
      "metadata": {
        "colab": {
          "base_uri": "https://localhost:8080/"
        },
        "collapsed": true,
        "id": "X1SfRwQCG09V",
        "outputId": "4e0d0dfd-bd9f-49ff-ae5e-2371cd2802d9"
      },
      "outputs": [
        {
          "output_type": "stream",
          "name": "stdout",
          "text": [
            "Epoch 1 / 42\n",
            "----------\n"
          ]
        },
        {
          "output_type": "stream",
          "name": "stderr",
          "text": [
            "  0%|          | 0/91 [00:00<?, ?it/s]INFO:pv_vision.nn.modelhandler:Train Epoch: 1 [0/1453 (0%)]\tLoss: 0.039691\n",
            " 11%|█         | 10/91 [01:11<08:11,  6.06s/it]INFO:pv_vision.nn.modelhandler:Train Epoch: 1 [160/1453 (11%)]\tLoss: 0.051833\n",
            " 22%|██▏       | 20/91 [02:12<06:55,  5.86s/it]INFO:pv_vision.nn.modelhandler:Train Epoch: 1 [320/1453 (22%)]\tLoss: 0.051712\n",
            " 33%|███▎      | 30/91 [03:12<06:02,  5.94s/it]INFO:pv_vision.nn.modelhandler:Train Epoch: 1 [480/1453 (33%)]\tLoss: 0.043855\n",
            " 44%|████▍     | 40/91 [04:15<05:23,  6.34s/it]INFO:pv_vision.nn.modelhandler:Train Epoch: 1 [640/1453 (44%)]\tLoss: 0.068078\n",
            " 55%|█████▍    | 50/91 [05:16<04:03,  5.95s/it]INFO:pv_vision.nn.modelhandler:Train Epoch: 1 [800/1453 (55%)]\tLoss: 0.048251\n",
            " 66%|██████▌   | 60/91 [06:19<03:08,  6.08s/it]INFO:pv_vision.nn.modelhandler:Train Epoch: 1 [960/1453 (66%)]\tLoss: 0.049064\n",
            " 77%|███████▋  | 70/91 [07:20<02:03,  5.89s/it]INFO:pv_vision.nn.modelhandler:Train Epoch: 1 [1120/1453 (77%)]\tLoss: 0.047247\n",
            " 88%|████████▊ | 80/91 [08:21<01:07,  6.12s/it]INFO:pv_vision.nn.modelhandler:Train Epoch: 1 [1280/1453 (88%)]\tLoss: 0.035274\n",
            " 99%|█████████▉| 90/91 [09:22<00:06,  6.10s/it]INFO:pv_vision.nn.modelhandler:Train Epoch: 1 [1170/1453 (99%)]\tLoss: 0.047403\n",
            "100%|██████████| 91/91 [09:27<00:00,  6.24s/it]\n",
            "INFO:pv_vision.nn.modelhandler:Saved model at epoch 1\n",
            "100%|██████████| 6/6 [00:54<00:00,  9.03s/it]\n",
            "INFO:pv_vision.nn.modelhandler:Val epoch: 1 \tAverage loss: 0.1278\n"
          ]
        },
        {
          "output_type": "stream",
          "name": "stdout",
          "text": [
            "Loss: 0.0525 (train) | 0.1278 (val)\n",
            "Epoch 2 / 42\n",
            "----------\n"
          ]
        },
        {
          "output_type": "stream",
          "name": "stderr",
          "text": [
            "  0%|          | 0/91 [00:00<?, ?it/s]INFO:pv_vision.nn.modelhandler:Train Epoch: 2 [0/1453 (0%)]\tLoss: 0.056052\n",
            " 11%|█         | 10/91 [00:09<01:19,  1.02it/s]INFO:pv_vision.nn.modelhandler:Train Epoch: 2 [160/1453 (11%)]\tLoss: 0.039983\n",
            " 22%|██▏       | 20/91 [00:19<01:10,  1.00it/s]INFO:pv_vision.nn.modelhandler:Train Epoch: 2 [320/1453 (22%)]\tLoss: 0.047396\n",
            " 33%|███▎      | 30/91 [00:29<01:01,  1.00s/it]INFO:pv_vision.nn.modelhandler:Train Epoch: 2 [480/1453 (33%)]\tLoss: 0.047721\n",
            " 44%|████▍     | 40/91 [00:40<00:50,  1.01it/s]INFO:pv_vision.nn.modelhandler:Train Epoch: 2 [640/1453 (44%)]\tLoss: 0.047244\n",
            " 55%|█████▍    | 50/91 [00:50<00:40,  1.01it/s]INFO:pv_vision.nn.modelhandler:Train Epoch: 2 [800/1453 (55%)]\tLoss: 0.062906\n",
            " 66%|██████▌   | 60/91 [01:00<00:30,  1.01it/s]INFO:pv_vision.nn.modelhandler:Train Epoch: 2 [960/1453 (66%)]\tLoss: 0.035895\n",
            " 77%|███████▋  | 70/91 [01:10<00:20,  1.01it/s]INFO:pv_vision.nn.modelhandler:Train Epoch: 2 [1120/1453 (77%)]\tLoss: 0.029790\n",
            " 88%|████████▊ | 80/91 [01:20<00:10,  1.01it/s]INFO:pv_vision.nn.modelhandler:Train Epoch: 2 [1280/1453 (88%)]\tLoss: 0.060716\n",
            " 99%|█████████▉| 90/91 [01:30<00:00,  1.01it/s]INFO:pv_vision.nn.modelhandler:Train Epoch: 2 [1170/1453 (99%)]\tLoss: 0.055779\n",
            "100%|██████████| 91/91 [01:31<00:00,  1.01s/it]\n",
            "INFO:pv_vision.nn.modelhandler:Saved model at epoch 2\n",
            "100%|██████████| 6/6 [00:03<00:00,  1.82it/s]\n",
            "INFO:pv_vision.nn.modelhandler:Val epoch: 2 \tAverage loss: 0.1053\n"
          ]
        },
        {
          "output_type": "stream",
          "name": "stdout",
          "text": [
            "Loss: 0.0474 (train) | 0.1053 (val)\n",
            "Epoch 3 / 42\n",
            "----------\n"
          ]
        },
        {
          "output_type": "stream",
          "name": "stderr",
          "text": [
            "  0%|          | 0/91 [00:00<?, ?it/s]INFO:pv_vision.nn.modelhandler:Train Epoch: 3 [0/1453 (0%)]\tLoss: 0.050253\n",
            " 11%|█         | 10/91 [00:09<01:19,  1.02it/s]INFO:pv_vision.nn.modelhandler:Train Epoch: 3 [160/1453 (11%)]\tLoss: 0.035706\n",
            " 22%|██▏       | 20/91 [00:19<01:10,  1.01it/s]INFO:pv_vision.nn.modelhandler:Train Epoch: 3 [320/1453 (22%)]\tLoss: 0.038286\n",
            " 33%|███▎      | 30/91 [00:29<01:00,  1.01it/s]INFO:pv_vision.nn.modelhandler:Train Epoch: 3 [480/1453 (33%)]\tLoss: 0.065669\n",
            " 44%|████▍     | 40/91 [00:39<00:50,  1.01it/s]INFO:pv_vision.nn.modelhandler:Train Epoch: 3 [640/1453 (44%)]\tLoss: 0.043139\n",
            " 55%|█████▍    | 50/91 [00:50<00:40,  1.01it/s]INFO:pv_vision.nn.modelhandler:Train Epoch: 3 [800/1453 (55%)]\tLoss: 0.048333\n",
            " 66%|██████▌   | 60/91 [01:00<00:30,  1.01it/s]INFO:pv_vision.nn.modelhandler:Train Epoch: 3 [960/1453 (66%)]\tLoss: 0.035133\n",
            " 77%|███████▋  | 70/91 [01:10<00:20,  1.01it/s]INFO:pv_vision.nn.modelhandler:Train Epoch: 3 [1120/1453 (77%)]\tLoss: 0.043589\n",
            " 88%|████████▊ | 80/91 [01:20<00:10,  1.01it/s]INFO:pv_vision.nn.modelhandler:Train Epoch: 3 [1280/1453 (88%)]\tLoss: 0.035401\n",
            " 99%|█████████▉| 90/91 [01:30<00:00,  1.01it/s]INFO:pv_vision.nn.modelhandler:Train Epoch: 3 [1170/1453 (99%)]\tLoss: 0.053863\n",
            "100%|██████████| 91/91 [01:31<00:00,  1.01s/it]\n",
            "INFO:pv_vision.nn.modelhandler:Saved model at epoch 3\n",
            "100%|██████████| 6/6 [00:03<00:00,  1.92it/s]\n",
            "INFO:pv_vision.nn.modelhandler:Val epoch: 3 \tAverage loss: 0.0896\n"
          ]
        },
        {
          "output_type": "stream",
          "name": "stdout",
          "text": [
            "Loss: 0.0468 (train) | 0.0896 (val)\n",
            "Epoch 4 / 42\n",
            "----------\n"
          ]
        },
        {
          "output_type": "stream",
          "name": "stderr",
          "text": [
            "  0%|          | 0/91 [00:00<?, ?it/s]INFO:pv_vision.nn.modelhandler:Train Epoch: 4 [0/1453 (0%)]\tLoss: 0.055681\n",
            " 11%|█         | 10/91 [00:09<01:19,  1.02it/s]INFO:pv_vision.nn.modelhandler:Train Epoch: 4 [160/1453 (11%)]\tLoss: 0.050286\n",
            " 22%|██▏       | 20/91 [00:19<01:10,  1.01it/s]INFO:pv_vision.nn.modelhandler:Train Epoch: 4 [320/1453 (22%)]\tLoss: 0.074852\n",
            " 33%|███▎      | 30/91 [00:29<01:00,  1.01it/s]INFO:pv_vision.nn.modelhandler:Train Epoch: 4 [480/1453 (33%)]\tLoss: 0.057641\n",
            " 44%|████▍     | 40/91 [00:39<00:50,  1.01it/s]INFO:pv_vision.nn.modelhandler:Train Epoch: 4 [640/1453 (44%)]\tLoss: 0.026359\n",
            " 55%|█████▍    | 50/91 [00:49<00:40,  1.01it/s]INFO:pv_vision.nn.modelhandler:Train Epoch: 4 [800/1453 (55%)]\tLoss: 0.055486\n",
            " 66%|██████▌   | 60/91 [01:00<00:30,  1.01it/s]INFO:pv_vision.nn.modelhandler:Train Epoch: 4 [960/1453 (66%)]\tLoss: 0.099825\n",
            " 77%|███████▋  | 70/91 [01:10<00:20,  1.01it/s]INFO:pv_vision.nn.modelhandler:Train Epoch: 4 [1120/1453 (77%)]\tLoss: 0.071984\n",
            " 88%|████████▊ | 80/91 [01:20<00:10,  1.01it/s]INFO:pv_vision.nn.modelhandler:Train Epoch: 4 [1280/1453 (88%)]\tLoss: 0.043753\n",
            " 99%|█████████▉| 90/91 [01:30<00:00,  1.01it/s]INFO:pv_vision.nn.modelhandler:Train Epoch: 4 [1170/1453 (99%)]\tLoss: 0.031694\n",
            "100%|██████████| 91/91 [01:31<00:00,  1.01s/it]\n",
            "INFO:pv_vision.nn.modelhandler:Saved model at epoch 4\n",
            "100%|██████████| 6/6 [00:03<00:00,  1.95it/s]\n",
            "INFO:pv_vision.nn.modelhandler:Val epoch: 4 \tAverage loss: 0.1171\n"
          ]
        },
        {
          "output_type": "stream",
          "name": "stdout",
          "text": [
            "Loss: 0.0492 (train) | 0.1171 (val)\n",
            "Epoch 5 / 42\n",
            "----------\n"
          ]
        },
        {
          "output_type": "stream",
          "name": "stderr",
          "text": [
            "  0%|          | 0/91 [00:00<?, ?it/s]INFO:pv_vision.nn.modelhandler:Train Epoch: 5 [0/1453 (0%)]\tLoss: 0.043039\n",
            " 11%|█         | 10/91 [00:09<01:19,  1.01it/s]INFO:pv_vision.nn.modelhandler:Train Epoch: 5 [160/1453 (11%)]\tLoss: 0.057059\n",
            " 22%|██▏       | 20/91 [00:19<01:10,  1.01it/s]INFO:pv_vision.nn.modelhandler:Train Epoch: 5 [320/1453 (22%)]\tLoss: 0.066094\n",
            " 33%|███▎      | 30/91 [00:29<01:00,  1.01it/s]INFO:pv_vision.nn.modelhandler:Train Epoch: 5 [480/1453 (33%)]\tLoss: 0.085952\n",
            " 44%|████▍     | 40/91 [00:39<00:50,  1.01it/s]INFO:pv_vision.nn.modelhandler:Train Epoch: 5 [640/1453 (44%)]\tLoss: 0.092530\n",
            " 55%|█████▍    | 50/91 [00:49<00:40,  1.01it/s]INFO:pv_vision.nn.modelhandler:Train Epoch: 5 [800/1453 (55%)]\tLoss: 0.052255\n",
            " 66%|██████▌   | 60/91 [01:00<00:30,  1.01it/s]INFO:pv_vision.nn.modelhandler:Train Epoch: 5 [960/1453 (66%)]\tLoss: 0.054967\n",
            " 77%|███████▋  | 70/91 [01:10<00:20,  1.01it/s]INFO:pv_vision.nn.modelhandler:Train Epoch: 5 [1120/1453 (77%)]\tLoss: 0.030230\n",
            " 88%|████████▊ | 80/91 [01:20<00:10,  1.01it/s]INFO:pv_vision.nn.modelhandler:Train Epoch: 5 [1280/1453 (88%)]\tLoss: 0.039667\n",
            " 99%|█████████▉| 90/91 [01:30<00:00,  1.01it/s]INFO:pv_vision.nn.modelhandler:Train Epoch: 5 [1170/1453 (99%)]\tLoss: 0.052045\n",
            "100%|██████████| 91/91 [01:31<00:00,  1.01s/it]\n",
            "INFO:pv_vision.nn.modelhandler:Saved model at epoch 5\n",
            "100%|██████████| 6/6 [00:02<00:00,  2.01it/s]\n",
            "INFO:pv_vision.nn.modelhandler:Val epoch: 5 \tAverage loss: 0.0960\n"
          ]
        },
        {
          "output_type": "stream",
          "name": "stdout",
          "text": [
            "Loss: 0.0506 (train) | 0.0960 (val)\n",
            "Epoch 6 / 42\n",
            "----------\n"
          ]
        },
        {
          "output_type": "stream",
          "name": "stderr",
          "text": [
            "  0%|          | 0/91 [00:00<?, ?it/s]INFO:pv_vision.nn.modelhandler:Train Epoch: 6 [0/1453 (0%)]\tLoss: 0.056159\n",
            " 11%|█         | 10/91 [00:09<01:19,  1.02it/s]INFO:pv_vision.nn.modelhandler:Train Epoch: 6 [160/1453 (11%)]\tLoss: 0.046667\n",
            " 22%|██▏       | 20/91 [00:19<01:10,  1.01it/s]INFO:pv_vision.nn.modelhandler:Train Epoch: 6 [320/1453 (22%)]\tLoss: 0.056161\n",
            " 33%|███▎      | 30/91 [00:29<01:00,  1.01it/s]INFO:pv_vision.nn.modelhandler:Train Epoch: 6 [480/1453 (33%)]\tLoss: 0.047074\n",
            " 44%|████▍     | 40/91 [00:39<00:50,  1.01it/s]INFO:pv_vision.nn.modelhandler:Train Epoch: 6 [640/1453 (44%)]\tLoss: 0.028923\n",
            " 55%|█████▍    | 50/91 [00:49<00:40,  1.01it/s]INFO:pv_vision.nn.modelhandler:Train Epoch: 6 [800/1453 (55%)]\tLoss: 0.038830\n",
            " 66%|██████▌   | 60/91 [00:59<00:30,  1.01it/s]INFO:pv_vision.nn.modelhandler:Train Epoch: 6 [960/1453 (66%)]\tLoss: 0.073576\n",
            " 77%|███████▋  | 70/91 [01:10<00:20,  1.01it/s]INFO:pv_vision.nn.modelhandler:Train Epoch: 6 [1120/1453 (77%)]\tLoss: 0.047790\n",
            " 88%|████████▊ | 80/91 [01:20<00:10,  1.01it/s]INFO:pv_vision.nn.modelhandler:Train Epoch: 6 [1280/1453 (88%)]\tLoss: 0.057660\n",
            " 99%|█████████▉| 90/91 [01:30<00:00,  1.01it/s]INFO:pv_vision.nn.modelhandler:Train Epoch: 6 [1170/1453 (99%)]\tLoss: 0.039540\n",
            "100%|██████████| 91/91 [01:31<00:00,  1.01s/it]\n",
            "INFO:pv_vision.nn.modelhandler:Saved model at epoch 6\n",
            "100%|██████████| 6/6 [00:03<00:00,  1.79it/s]\n",
            "INFO:pv_vision.nn.modelhandler:Val epoch: 6 \tAverage loss: 0.1150\n"
          ]
        },
        {
          "output_type": "stream",
          "name": "stdout",
          "text": [
            "Loss: 0.0499 (train) | 0.1150 (val)\n",
            "Epoch 7 / 42\n",
            "----------\n"
          ]
        },
        {
          "output_type": "stream",
          "name": "stderr",
          "text": [
            "  0%|          | 0/91 [00:00<?, ?it/s]INFO:pv_vision.nn.modelhandler:Train Epoch: 7 [0/1453 (0%)]\tLoss: 0.073782\n",
            " 11%|█         | 10/91 [00:09<01:19,  1.02it/s]INFO:pv_vision.nn.modelhandler:Train Epoch: 7 [160/1453 (11%)]\tLoss: 0.041554\n",
            " 22%|██▏       | 20/91 [00:19<01:10,  1.01it/s]INFO:pv_vision.nn.modelhandler:Train Epoch: 7 [320/1453 (22%)]\tLoss: 0.064365\n",
            " 33%|███▎      | 30/91 [00:29<01:00,  1.01it/s]INFO:pv_vision.nn.modelhandler:Train Epoch: 7 [480/1453 (33%)]\tLoss: 0.051947\n",
            " 44%|████▍     | 40/91 [00:39<00:50,  1.01it/s]INFO:pv_vision.nn.modelhandler:Train Epoch: 7 [640/1453 (44%)]\tLoss: 0.058036\n",
            " 55%|█████▍    | 50/91 [00:49<00:40,  1.01it/s]INFO:pv_vision.nn.modelhandler:Train Epoch: 7 [800/1453 (55%)]\tLoss: 0.025446\n",
            " 66%|██████▌   | 60/91 [00:59<00:30,  1.01it/s]INFO:pv_vision.nn.modelhandler:Train Epoch: 7 [960/1453 (66%)]\tLoss: 0.049503\n",
            " 77%|███████▋  | 70/91 [01:09<00:20,  1.01it/s]INFO:pv_vision.nn.modelhandler:Train Epoch: 7 [1120/1453 (77%)]\tLoss: 0.059674\n",
            " 88%|████████▊ | 80/91 [01:20<00:10,  1.01it/s]INFO:pv_vision.nn.modelhandler:Train Epoch: 7 [1280/1453 (88%)]\tLoss: 0.045579\n",
            " 99%|█████████▉| 90/91 [01:30<00:00,  1.01it/s]INFO:pv_vision.nn.modelhandler:Train Epoch: 7 [1170/1453 (99%)]\tLoss: 0.028669\n",
            "100%|██████████| 91/91 [01:31<00:00,  1.01s/it]\n",
            "INFO:pv_vision.nn.modelhandler:Saved model at epoch 7\n",
            "100%|██████████| 6/6 [00:03<00:00,  1.87it/s]\n",
            "INFO:pv_vision.nn.modelhandler:Val epoch: 7 \tAverage loss: 0.0917\n"
          ]
        },
        {
          "output_type": "stream",
          "name": "stdout",
          "text": [
            "Loss: 0.0483 (train) | 0.0917 (val)\n",
            "Epoch 8 / 42\n",
            "----------\n"
          ]
        },
        {
          "output_type": "stream",
          "name": "stderr",
          "text": [
            "  0%|          | 0/91 [00:00<?, ?it/s]INFO:pv_vision.nn.modelhandler:Train Epoch: 8 [0/1453 (0%)]\tLoss: 0.026232\n",
            " 11%|█         | 10/91 [00:09<01:19,  1.02it/s]INFO:pv_vision.nn.modelhandler:Train Epoch: 8 [160/1453 (11%)]\tLoss: 0.048435\n",
            " 22%|██▏       | 20/91 [00:19<01:10,  1.01it/s]INFO:pv_vision.nn.modelhandler:Train Epoch: 8 [320/1453 (22%)]\tLoss: 0.045063\n",
            " 33%|███▎      | 30/91 [00:29<01:00,  1.01it/s]INFO:pv_vision.nn.modelhandler:Train Epoch: 8 [480/1453 (33%)]\tLoss: 0.057546\n",
            " 44%|████▍     | 40/91 [00:39<00:50,  1.01it/s]INFO:pv_vision.nn.modelhandler:Train Epoch: 8 [640/1453 (44%)]\tLoss: 0.038077\n",
            " 55%|█████▍    | 50/91 [00:49<00:40,  1.01it/s]INFO:pv_vision.nn.modelhandler:Train Epoch: 8 [800/1453 (55%)]\tLoss: 0.048373\n",
            " 66%|██████▌   | 60/91 [00:59<00:30,  1.01it/s]INFO:pv_vision.nn.modelhandler:Train Epoch: 8 [960/1453 (66%)]\tLoss: 0.032140\n",
            " 77%|███████▋  | 70/91 [01:10<00:20,  1.01it/s]INFO:pv_vision.nn.modelhandler:Train Epoch: 8 [1120/1453 (77%)]\tLoss: 0.065397\n",
            " 88%|████████▊ | 80/91 [01:20<00:10,  1.01it/s]INFO:pv_vision.nn.modelhandler:Train Epoch: 8 [1280/1453 (88%)]\tLoss: 0.033339\n",
            " 99%|█████████▉| 90/91 [01:30<00:00,  1.01it/s]INFO:pv_vision.nn.modelhandler:Train Epoch: 8 [1170/1453 (99%)]\tLoss: 0.036484\n",
            "100%|██████████| 91/91 [01:31<00:00,  1.01s/it]\n",
            "INFO:pv_vision.nn.modelhandler:Saved model at epoch 8\n",
            "100%|██████████| 6/6 [00:03<00:00,  1.96it/s]\n",
            "INFO:pv_vision.nn.modelhandler:Val epoch: 8 \tAverage loss: 0.0902\n"
          ]
        },
        {
          "output_type": "stream",
          "name": "stdout",
          "text": [
            "Loss: 0.0464 (train) | 0.0902 (val)\n",
            "Epoch 9 / 42\n",
            "----------\n"
          ]
        },
        {
          "output_type": "stream",
          "name": "stderr",
          "text": [
            "  0%|          | 0/91 [00:00<?, ?it/s]INFO:pv_vision.nn.modelhandler:Train Epoch: 9 [0/1453 (0%)]\tLoss: 0.045849\n",
            " 11%|█         | 10/91 [00:09<01:19,  1.01it/s]INFO:pv_vision.nn.modelhandler:Train Epoch: 9 [160/1453 (11%)]\tLoss: 0.053767\n",
            " 22%|██▏       | 20/91 [00:19<01:10,  1.01it/s]INFO:pv_vision.nn.modelhandler:Train Epoch: 9 [320/1453 (22%)]\tLoss: 0.046697\n",
            " 33%|███▎      | 30/91 [00:29<01:00,  1.01it/s]INFO:pv_vision.nn.modelhandler:Train Epoch: 9 [480/1453 (33%)]\tLoss: 0.036984\n",
            " 44%|████▍     | 40/91 [00:39<00:50,  1.01it/s]INFO:pv_vision.nn.modelhandler:Train Epoch: 9 [640/1453 (44%)]\tLoss: 0.030743\n",
            " 55%|█████▍    | 50/91 [00:50<00:40,  1.01it/s]INFO:pv_vision.nn.modelhandler:Train Epoch: 9 [800/1453 (55%)]\tLoss: 0.046982\n",
            " 66%|██████▌   | 60/91 [01:00<00:30,  1.01it/s]INFO:pv_vision.nn.modelhandler:Train Epoch: 9 [960/1453 (66%)]\tLoss: 0.039833\n",
            " 77%|███████▋  | 70/91 [01:10<00:20,  1.01it/s]INFO:pv_vision.nn.modelhandler:Train Epoch: 9 [1120/1453 (77%)]\tLoss: 0.034636\n",
            " 88%|████████▊ | 80/91 [01:20<00:10,  1.01it/s]INFO:pv_vision.nn.modelhandler:Train Epoch: 9 [1280/1453 (88%)]\tLoss: 0.027827\n",
            " 99%|█████████▉| 90/91 [01:30<00:00,  1.01it/s]INFO:pv_vision.nn.modelhandler:Train Epoch: 9 [1170/1453 (99%)]\tLoss: 0.033121\n",
            "100%|██████████| 91/91 [01:31<00:00,  1.01s/it]\n",
            "INFO:pv_vision.nn.modelhandler:Saved model at epoch 9\n",
            "100%|██████████| 6/6 [00:03<00:00,  2.00it/s]\n",
            "INFO:pv_vision.nn.modelhandler:Val epoch: 9 \tAverage loss: 0.0809\n"
          ]
        },
        {
          "output_type": "stream",
          "name": "stdout",
          "text": [
            "Loss: 0.0422 (train) | 0.0809 (val)\n",
            "Epoch 10 / 42\n",
            "----------\n"
          ]
        },
        {
          "output_type": "stream",
          "name": "stderr",
          "text": [
            "  0%|          | 0/91 [00:00<?, ?it/s]INFO:pv_vision.nn.modelhandler:Train Epoch: 10 [0/1453 (0%)]\tLoss: 0.040307\n",
            " 11%|█         | 10/91 [00:09<01:19,  1.01it/s]INFO:pv_vision.nn.modelhandler:Train Epoch: 10 [160/1453 (11%)]\tLoss: 0.046087\n",
            " 22%|██▏       | 20/91 [00:19<01:10,  1.01it/s]INFO:pv_vision.nn.modelhandler:Train Epoch: 10 [320/1453 (22%)]\tLoss: 0.036738\n",
            " 33%|███▎      | 30/91 [00:29<01:00,  1.01it/s]INFO:pv_vision.nn.modelhandler:Train Epoch: 10 [480/1453 (33%)]\tLoss: 0.038683\n",
            " 44%|████▍     | 40/91 [00:39<00:50,  1.01it/s]INFO:pv_vision.nn.modelhandler:Train Epoch: 10 [640/1453 (44%)]\tLoss: 0.040530\n",
            " 55%|█████▍    | 50/91 [00:49<00:40,  1.01it/s]INFO:pv_vision.nn.modelhandler:Train Epoch: 10 [800/1453 (55%)]\tLoss: 0.038491\n",
            " 66%|██████▌   | 60/91 [00:59<00:30,  1.01it/s]INFO:pv_vision.nn.modelhandler:Train Epoch: 10 [960/1453 (66%)]\tLoss: 0.060329\n",
            " 77%|███████▋  | 70/91 [01:10<00:20,  1.01it/s]INFO:pv_vision.nn.modelhandler:Train Epoch: 10 [1120/1453 (77%)]\tLoss: 0.057664\n",
            " 88%|████████▊ | 80/91 [01:20<00:10,  1.01it/s]INFO:pv_vision.nn.modelhandler:Train Epoch: 10 [1280/1453 (88%)]\tLoss: 0.050391\n",
            " 99%|█████████▉| 90/91 [01:30<00:00,  1.01it/s]INFO:pv_vision.nn.modelhandler:Train Epoch: 10 [1170/1453 (99%)]\tLoss: 0.034430\n",
            "100%|██████████| 91/91 [01:31<00:00,  1.01s/it]\n",
            "INFO:pv_vision.nn.modelhandler:Saved model at epoch 10\n",
            "100%|██████████| 6/6 [00:02<00:00,  2.02it/s]\n",
            "INFO:pv_vision.nn.modelhandler:Val epoch: 10 \tAverage loss: 0.0790\n"
          ]
        },
        {
          "output_type": "stream",
          "name": "stdout",
          "text": [
            "Loss: 0.0408 (train) | 0.0790 (val)\n",
            "Epoch 11 / 42\n",
            "----------\n"
          ]
        },
        {
          "output_type": "stream",
          "name": "stderr",
          "text": [
            "  0%|          | 0/91 [00:00<?, ?it/s]INFO:pv_vision.nn.modelhandler:Train Epoch: 11 [0/1453 (0%)]\tLoss: 0.054151\n",
            " 11%|█         | 10/91 [00:09<01:19,  1.02it/s]INFO:pv_vision.nn.modelhandler:Train Epoch: 11 [160/1453 (11%)]\tLoss: 0.031625\n",
            " 22%|██▏       | 20/91 [00:19<01:10,  1.01it/s]INFO:pv_vision.nn.modelhandler:Train Epoch: 11 [320/1453 (22%)]\tLoss: 0.042930\n",
            " 33%|███▎      | 30/91 [00:29<01:00,  1.01it/s]INFO:pv_vision.nn.modelhandler:Train Epoch: 11 [480/1453 (33%)]\tLoss: 0.041718\n",
            " 44%|████▍     | 40/91 [00:39<00:50,  1.01it/s]INFO:pv_vision.nn.modelhandler:Train Epoch: 11 [640/1453 (44%)]\tLoss: 0.036779\n",
            " 55%|█████▍    | 50/91 [00:49<00:40,  1.01it/s]INFO:pv_vision.nn.modelhandler:Train Epoch: 11 [800/1453 (55%)]\tLoss: 0.036735\n",
            " 66%|██████▌   | 60/91 [00:59<00:30,  1.01it/s]INFO:pv_vision.nn.modelhandler:Train Epoch: 11 [960/1453 (66%)]\tLoss: 0.034537\n",
            " 77%|███████▋  | 70/91 [01:10<00:20,  1.01it/s]INFO:pv_vision.nn.modelhandler:Train Epoch: 11 [1120/1453 (77%)]\tLoss: 0.041184\n",
            " 88%|████████▊ | 80/91 [01:20<00:10,  1.01it/s]INFO:pv_vision.nn.modelhandler:Train Epoch: 11 [1280/1453 (88%)]\tLoss: 0.036545\n",
            " 99%|█████████▉| 90/91 [01:30<00:00,  1.01it/s]INFO:pv_vision.nn.modelhandler:Train Epoch: 11 [1170/1453 (99%)]\tLoss: 0.051168\n",
            "100%|██████████| 91/91 [01:31<00:00,  1.01s/it]\n",
            "INFO:pv_vision.nn.modelhandler:Saved model at epoch 11\n",
            "100%|██████████| 6/6 [00:03<00:00,  1.67it/s]\n",
            "INFO:pv_vision.nn.modelhandler:Val epoch: 11 \tAverage loss: 0.0782\n"
          ]
        },
        {
          "output_type": "stream",
          "name": "stdout",
          "text": [
            "Loss: 0.0404 (train) | 0.0782 (val)\n",
            "Epoch 12 / 42\n",
            "----------\n"
          ]
        },
        {
          "output_type": "stream",
          "name": "stderr",
          "text": [
            "  0%|          | 0/91 [00:00<?, ?it/s]INFO:pv_vision.nn.modelhandler:Train Epoch: 12 [0/1453 (0%)]\tLoss: 0.044643\n",
            " 11%|█         | 10/91 [00:09<01:19,  1.02it/s]INFO:pv_vision.nn.modelhandler:Train Epoch: 12 [160/1453 (11%)]\tLoss: 0.047211\n",
            " 22%|██▏       | 20/91 [00:19<01:10,  1.01it/s]INFO:pv_vision.nn.modelhandler:Train Epoch: 12 [320/1453 (22%)]\tLoss: 0.037615\n",
            " 33%|███▎      | 30/91 [00:29<01:00,  1.01it/s]INFO:pv_vision.nn.modelhandler:Train Epoch: 12 [480/1453 (33%)]\tLoss: 0.053813\n",
            " 44%|████▍     | 40/91 [00:39<00:50,  1.01it/s]INFO:pv_vision.nn.modelhandler:Train Epoch: 12 [640/1453 (44%)]\tLoss: 0.042070\n",
            " 55%|█████▍    | 50/91 [00:49<00:40,  1.00it/s]INFO:pv_vision.nn.modelhandler:Train Epoch: 12 [800/1453 (55%)]\tLoss: 0.030223\n",
            " 66%|██████▌   | 60/91 [00:59<00:30,  1.01it/s]INFO:pv_vision.nn.modelhandler:Train Epoch: 12 [960/1453 (66%)]\tLoss: 0.054851\n",
            " 77%|███████▋  | 70/91 [01:10<00:20,  1.01it/s]INFO:pv_vision.nn.modelhandler:Train Epoch: 12 [1120/1453 (77%)]\tLoss: 0.031548\n",
            " 88%|████████▊ | 80/91 [01:20<00:10,  1.01it/s]INFO:pv_vision.nn.modelhandler:Train Epoch: 12 [1280/1453 (88%)]\tLoss: 0.030064\n",
            " 99%|█████████▉| 90/91 [01:30<00:00,  1.01it/s]INFO:pv_vision.nn.modelhandler:Train Epoch: 12 [1170/1453 (99%)]\tLoss: 0.030323\n",
            "100%|██████████| 91/91 [01:31<00:00,  1.01s/it]\n",
            "INFO:pv_vision.nn.modelhandler:Saved model at epoch 12\n",
            "100%|██████████| 6/6 [00:03<00:00,  1.69it/s]\n",
            "INFO:pv_vision.nn.modelhandler:Val epoch: 12 \tAverage loss: 0.0776\n"
          ]
        },
        {
          "output_type": "stream",
          "name": "stdout",
          "text": [
            "Loss: 0.0402 (train) | 0.0776 (val)\n",
            "Epoch 13 / 42\n",
            "----------\n"
          ]
        },
        {
          "output_type": "stream",
          "name": "stderr",
          "text": [
            "  0%|          | 0/91 [00:00<?, ?it/s]INFO:pv_vision.nn.modelhandler:Train Epoch: 13 [0/1453 (0%)]\tLoss: 0.052813\n",
            " 11%|█         | 10/91 [00:09<01:19,  1.01it/s]INFO:pv_vision.nn.modelhandler:Train Epoch: 13 [160/1453 (11%)]\tLoss: 0.035565\n",
            " 22%|██▏       | 20/91 [00:19<01:10,  1.01it/s]INFO:pv_vision.nn.modelhandler:Train Epoch: 13 [320/1453 (22%)]\tLoss: 0.051686\n",
            " 33%|███▎      | 30/91 [00:29<01:00,  1.01it/s]INFO:pv_vision.nn.modelhandler:Train Epoch: 13 [480/1453 (33%)]\tLoss: 0.045462\n",
            " 44%|████▍     | 40/91 [00:39<00:50,  1.01it/s]INFO:pv_vision.nn.modelhandler:Train Epoch: 13 [640/1453 (44%)]\tLoss: 0.037972\n",
            " 55%|█████▍    | 50/91 [00:49<00:40,  1.01it/s]INFO:pv_vision.nn.modelhandler:Train Epoch: 13 [800/1453 (55%)]\tLoss: 0.051667\n",
            " 66%|██████▌   | 60/91 [01:00<00:30,  1.01it/s]INFO:pv_vision.nn.modelhandler:Train Epoch: 13 [960/1453 (66%)]\tLoss: 0.029085\n",
            " 77%|███████▋  | 70/91 [01:10<00:20,  1.01it/s]INFO:pv_vision.nn.modelhandler:Train Epoch: 13 [1120/1453 (77%)]\tLoss: 0.056403\n",
            " 88%|████████▊ | 80/91 [01:20<00:10,  1.01it/s]INFO:pv_vision.nn.modelhandler:Train Epoch: 13 [1280/1453 (88%)]\tLoss: 0.036655\n",
            " 99%|█████████▉| 90/91 [01:30<00:00,  1.01it/s]INFO:pv_vision.nn.modelhandler:Train Epoch: 13 [1170/1453 (99%)]\tLoss: 0.034820\n",
            "100%|██████████| 91/91 [01:31<00:00,  1.01s/it]\n",
            "INFO:pv_vision.nn.modelhandler:Saved model at epoch 13\n",
            "100%|██████████| 6/6 [00:03<00:00,  1.82it/s]\n",
            "INFO:pv_vision.nn.modelhandler:Val epoch: 13 \tAverage loss: 0.0769\n"
          ]
        },
        {
          "output_type": "stream",
          "name": "stdout",
          "text": [
            "Loss: 0.0398 (train) | 0.0769 (val)\n",
            "Epoch 14 / 42\n",
            "----------\n"
          ]
        },
        {
          "output_type": "stream",
          "name": "stderr",
          "text": [
            "  0%|          | 0/91 [00:00<?, ?it/s]INFO:pv_vision.nn.modelhandler:Train Epoch: 14 [0/1453 (0%)]\tLoss: 0.047427\n",
            " 11%|█         | 10/91 [00:09<01:19,  1.02it/s]INFO:pv_vision.nn.modelhandler:Train Epoch: 14 [160/1453 (11%)]\tLoss: 0.029508\n",
            " 22%|██▏       | 20/91 [00:19<01:10,  1.01it/s]INFO:pv_vision.nn.modelhandler:Train Epoch: 14 [320/1453 (22%)]\tLoss: 0.044463\n",
            " 33%|███▎      | 30/91 [00:29<01:00,  1.01it/s]INFO:pv_vision.nn.modelhandler:Train Epoch: 14 [480/1453 (33%)]\tLoss: 0.036533\n",
            " 44%|████▍     | 40/91 [00:39<00:50,  1.01it/s]INFO:pv_vision.nn.modelhandler:Train Epoch: 14 [640/1453 (44%)]\tLoss: 0.068508\n",
            " 55%|█████▍    | 50/91 [00:49<00:40,  1.01it/s]INFO:pv_vision.nn.modelhandler:Train Epoch: 14 [800/1453 (55%)]\tLoss: 0.032501\n",
            " 66%|██████▌   | 60/91 [01:00<00:30,  1.01it/s]INFO:pv_vision.nn.modelhandler:Train Epoch: 14 [960/1453 (66%)]\tLoss: 0.041393\n",
            " 77%|███████▋  | 70/91 [01:10<00:20,  1.01it/s]INFO:pv_vision.nn.modelhandler:Train Epoch: 14 [1120/1453 (77%)]\tLoss: 0.036479\n",
            " 88%|████████▊ | 80/91 [01:20<00:10,  1.01it/s]INFO:pv_vision.nn.modelhandler:Train Epoch: 14 [1280/1453 (88%)]\tLoss: 0.029123\n",
            " 99%|█████████▉| 90/91 [01:30<00:00,  1.01it/s]INFO:pv_vision.nn.modelhandler:Train Epoch: 14 [1170/1453 (99%)]\tLoss: 0.035314\n",
            "100%|██████████| 91/91 [01:31<00:00,  1.01s/it]\n",
            "INFO:pv_vision.nn.modelhandler:Saved model at epoch 14\n",
            "100%|██████████| 6/6 [00:03<00:00,  1.68it/s]\n",
            "INFO:pv_vision.nn.modelhandler:Val epoch: 14 \tAverage loss: 0.0765\n"
          ]
        },
        {
          "output_type": "stream",
          "name": "stdout",
          "text": [
            "Loss: 0.0397 (train) | 0.0765 (val)\n",
            "Epoch 15 / 42\n",
            "----------\n"
          ]
        },
        {
          "output_type": "stream",
          "name": "stderr",
          "text": [
            "  0%|          | 0/91 [00:00<?, ?it/s]INFO:pv_vision.nn.modelhandler:Train Epoch: 15 [0/1453 (0%)]\tLoss: 0.067027\n",
            " 11%|█         | 10/91 [00:09<01:19,  1.01it/s]INFO:pv_vision.nn.modelhandler:Train Epoch: 15 [160/1453 (11%)]\tLoss: 0.027443\n",
            " 22%|██▏       | 20/91 [00:19<01:10,  1.01it/s]INFO:pv_vision.nn.modelhandler:Train Epoch: 15 [320/1453 (22%)]\tLoss: 0.034885\n",
            " 33%|███▎      | 30/91 [00:29<01:00,  1.01it/s]INFO:pv_vision.nn.modelhandler:Train Epoch: 15 [480/1453 (33%)]\tLoss: 0.061015\n",
            " 44%|████▍     | 40/91 [00:39<00:50,  1.01it/s]INFO:pv_vision.nn.modelhandler:Train Epoch: 15 [640/1453 (44%)]\tLoss: 0.058136\n",
            " 55%|█████▍    | 50/91 [00:49<00:40,  1.01it/s]INFO:pv_vision.nn.modelhandler:Train Epoch: 15 [800/1453 (55%)]\tLoss: 0.049326\n",
            " 66%|██████▌   | 60/91 [01:00<00:30,  1.01it/s]INFO:pv_vision.nn.modelhandler:Train Epoch: 15 [960/1453 (66%)]\tLoss: 0.045059\n",
            " 77%|███████▋  | 70/91 [01:10<00:20,  1.01it/s]INFO:pv_vision.nn.modelhandler:Train Epoch: 15 [1120/1453 (77%)]\tLoss: 0.033741\n",
            " 88%|████████▊ | 80/91 [01:20<00:10,  1.01it/s]INFO:pv_vision.nn.modelhandler:Train Epoch: 15 [1280/1453 (88%)]\tLoss: 0.032766\n",
            " 99%|█████████▉| 90/91 [01:30<00:00,  1.01it/s]INFO:pv_vision.nn.modelhandler:Train Epoch: 15 [1170/1453 (99%)]\tLoss: 0.035762\n",
            "100%|██████████| 91/91 [01:31<00:00,  1.01s/it]\n",
            "INFO:pv_vision.nn.modelhandler:Saved model at epoch 15\n",
            "100%|██████████| 6/6 [00:03<00:00,  1.87it/s]\n",
            "INFO:pv_vision.nn.modelhandler:Val epoch: 15 \tAverage loss: 0.0760\n"
          ]
        },
        {
          "output_type": "stream",
          "name": "stdout",
          "text": [
            "Loss: 0.0392 (train) | 0.0760 (val)\n",
            "Epoch 16 / 42\n",
            "----------\n"
          ]
        },
        {
          "output_type": "stream",
          "name": "stderr",
          "text": [
            "  0%|          | 0/91 [00:00<?, ?it/s]INFO:pv_vision.nn.modelhandler:Train Epoch: 16 [0/1453 (0%)]\tLoss: 0.044226\n",
            " 11%|█         | 10/91 [00:09<01:19,  1.02it/s]INFO:pv_vision.nn.modelhandler:Train Epoch: 16 [160/1453 (11%)]\tLoss: 0.029709\n",
            " 22%|██▏       | 20/91 [00:19<01:10,  1.01it/s]INFO:pv_vision.nn.modelhandler:Train Epoch: 16 [320/1453 (22%)]\tLoss: 0.043794\n",
            " 33%|███▎      | 30/91 [00:29<01:00,  1.01it/s]INFO:pv_vision.nn.modelhandler:Train Epoch: 16 [480/1453 (33%)]\tLoss: 0.033984\n",
            " 44%|████▍     | 40/91 [00:39<00:50,  1.01it/s]INFO:pv_vision.nn.modelhandler:Train Epoch: 16 [640/1453 (44%)]\tLoss: 0.037970\n",
            " 55%|█████▍    | 50/91 [00:49<00:40,  1.01it/s]INFO:pv_vision.nn.modelhandler:Train Epoch: 16 [800/1453 (55%)]\tLoss: 0.046381\n",
            " 66%|██████▌   | 60/91 [00:59<00:30,  1.01it/s]INFO:pv_vision.nn.modelhandler:Train Epoch: 16 [960/1453 (66%)]\tLoss: 0.040941\n",
            " 77%|███████▋  | 70/91 [01:10<00:20,  1.01it/s]INFO:pv_vision.nn.modelhandler:Train Epoch: 16 [1120/1453 (77%)]\tLoss: 0.026640\n",
            " 88%|████████▊ | 80/91 [01:20<00:10,  1.01it/s]INFO:pv_vision.nn.modelhandler:Train Epoch: 16 [1280/1453 (88%)]\tLoss: 0.046187\n",
            " 99%|█████████▉| 90/91 [01:30<00:00,  1.01it/s]INFO:pv_vision.nn.modelhandler:Train Epoch: 16 [1170/1453 (99%)]\tLoss: 0.019209\n",
            "100%|██████████| 91/91 [01:31<00:00,  1.01s/it]\n",
            "INFO:pv_vision.nn.modelhandler:Saved model at epoch 16\n",
            "100%|██████████| 6/6 [00:03<00:00,  1.69it/s]\n",
            "INFO:pv_vision.nn.modelhandler:Val epoch: 16 \tAverage loss: 0.0760\n"
          ]
        },
        {
          "output_type": "stream",
          "name": "stdout",
          "text": [
            "Loss: 0.0393 (train) | 0.0760 (val)\n",
            "Epoch 17 / 42\n",
            "----------\n"
          ]
        },
        {
          "output_type": "stream",
          "name": "stderr",
          "text": [
            "  0%|          | 0/91 [00:00<?, ?it/s]INFO:pv_vision.nn.modelhandler:Train Epoch: 17 [0/1453 (0%)]\tLoss: 0.031434\n",
            " 11%|█         | 10/91 [00:09<01:19,  1.02it/s]INFO:pv_vision.nn.modelhandler:Train Epoch: 17 [160/1453 (11%)]\tLoss: 0.033523\n",
            " 22%|██▏       | 20/91 [00:19<01:10,  1.01it/s]INFO:pv_vision.nn.modelhandler:Train Epoch: 17 [320/1453 (22%)]\tLoss: 0.036959\n",
            " 33%|███▎      | 30/91 [00:29<01:00,  1.01it/s]INFO:pv_vision.nn.modelhandler:Train Epoch: 17 [480/1453 (33%)]\tLoss: 0.026847\n",
            " 44%|████▍     | 40/91 [00:39<00:50,  1.01it/s]INFO:pv_vision.nn.modelhandler:Train Epoch: 17 [640/1453 (44%)]\tLoss: 0.027671\n",
            " 55%|█████▍    | 50/91 [00:49<00:40,  1.01it/s]INFO:pv_vision.nn.modelhandler:Train Epoch: 17 [800/1453 (55%)]\tLoss: 0.039951\n",
            " 66%|██████▌   | 60/91 [00:59<00:30,  1.01it/s]INFO:pv_vision.nn.modelhandler:Train Epoch: 17 [960/1453 (66%)]\tLoss: 0.050726\n",
            " 77%|███████▋  | 70/91 [01:10<00:20,  1.01it/s]INFO:pv_vision.nn.modelhandler:Train Epoch: 17 [1120/1453 (77%)]\tLoss: 0.052408\n",
            " 88%|████████▊ | 80/91 [01:20<00:10,  1.01it/s]INFO:pv_vision.nn.modelhandler:Train Epoch: 17 [1280/1453 (88%)]\tLoss: 0.032672\n",
            " 99%|█████████▉| 90/91 [01:30<00:00,  1.01it/s]INFO:pv_vision.nn.modelhandler:Train Epoch: 17 [1170/1453 (99%)]\tLoss: 0.040786\n",
            "100%|██████████| 91/91 [01:31<00:00,  1.01s/it]\n",
            "INFO:pv_vision.nn.modelhandler:Saved model at epoch 17\n",
            "100%|██████████| 6/6 [00:03<00:00,  1.90it/s]\n",
            "INFO:pv_vision.nn.modelhandler:Val epoch: 17 \tAverage loss: 0.0756\n"
          ]
        },
        {
          "output_type": "stream",
          "name": "stdout",
          "text": [
            "Loss: 0.0389 (train) | 0.0756 (val)\n",
            "Epoch 18 / 42\n",
            "----------\n"
          ]
        },
        {
          "output_type": "stream",
          "name": "stderr",
          "text": [
            "  0%|          | 0/91 [00:00<?, ?it/s]INFO:pv_vision.nn.modelhandler:Train Epoch: 18 [0/1453 (0%)]\tLoss: 0.042383\n",
            " 11%|█         | 10/91 [00:09<01:19,  1.02it/s]INFO:pv_vision.nn.modelhandler:Train Epoch: 18 [160/1453 (11%)]\tLoss: 0.031643\n",
            " 22%|██▏       | 20/91 [00:19<01:10,  1.01it/s]INFO:pv_vision.nn.modelhandler:Train Epoch: 18 [320/1453 (22%)]\tLoss: 0.035725\n",
            " 33%|███▎      | 30/91 [00:29<01:00,  1.01it/s]INFO:pv_vision.nn.modelhandler:Train Epoch: 18 [480/1453 (33%)]\tLoss: 0.036654\n",
            " 44%|████▍     | 40/91 [00:39<00:50,  1.01it/s]INFO:pv_vision.nn.modelhandler:Train Epoch: 18 [640/1453 (44%)]\tLoss: 0.039563\n",
            " 55%|█████▍    | 50/91 [00:49<00:40,  1.01it/s]INFO:pv_vision.nn.modelhandler:Train Epoch: 18 [800/1453 (55%)]\tLoss: 0.043044\n",
            " 66%|██████▌   | 60/91 [00:59<00:30,  1.01it/s]INFO:pv_vision.nn.modelhandler:Train Epoch: 18 [960/1453 (66%)]\tLoss: 0.055686\n",
            " 77%|███████▋  | 70/91 [01:09<00:20,  1.01it/s]INFO:pv_vision.nn.modelhandler:Train Epoch: 18 [1120/1453 (77%)]\tLoss: 0.023779\n",
            " 88%|████████▊ | 80/91 [01:20<00:10,  1.01it/s]INFO:pv_vision.nn.modelhandler:Train Epoch: 18 [1280/1453 (88%)]\tLoss: 0.033894\n",
            " 99%|█████████▉| 90/91 [01:30<00:00,  1.01it/s]INFO:pv_vision.nn.modelhandler:Train Epoch: 18 [1170/1453 (99%)]\tLoss: 0.034750\n",
            "100%|██████████| 91/91 [01:31<00:00,  1.01s/it]\n",
            "INFO:pv_vision.nn.modelhandler:Saved model at epoch 18\n",
            "100%|██████████| 6/6 [00:03<00:00,  1.90it/s]\n",
            "INFO:pv_vision.nn.modelhandler:Val epoch: 18 \tAverage loss: 0.0756\n"
          ]
        },
        {
          "output_type": "stream",
          "name": "stdout",
          "text": [
            "Loss: 0.0389 (train) | 0.0756 (val)\n",
            "Epoch 19 / 42\n",
            "----------\n"
          ]
        },
        {
          "output_type": "stream",
          "name": "stderr",
          "text": [
            "  0%|          | 0/91 [00:00<?, ?it/s]INFO:pv_vision.nn.modelhandler:Train Epoch: 19 [0/1453 (0%)]\tLoss: 0.049175\n",
            " 11%|█         | 10/91 [00:09<01:19,  1.02it/s]INFO:pv_vision.nn.modelhandler:Train Epoch: 19 [160/1453 (11%)]\tLoss: 0.033269\n",
            " 22%|██▏       | 20/91 [00:19<01:10,  1.01it/s]INFO:pv_vision.nn.modelhandler:Train Epoch: 19 [320/1453 (22%)]\tLoss: 0.047563\n",
            " 33%|███▎      | 30/91 [00:29<01:00,  1.01it/s]INFO:pv_vision.nn.modelhandler:Train Epoch: 19 [480/1453 (33%)]\tLoss: 0.062622\n",
            " 44%|████▍     | 40/91 [00:39<00:50,  1.01it/s]INFO:pv_vision.nn.modelhandler:Train Epoch: 19 [640/1453 (44%)]\tLoss: 0.040108\n",
            " 55%|█████▍    | 50/91 [00:49<00:40,  1.01it/s]INFO:pv_vision.nn.modelhandler:Train Epoch: 19 [800/1453 (55%)]\tLoss: 0.053928\n",
            " 66%|██████▌   | 60/91 [01:00<00:30,  1.01it/s]INFO:pv_vision.nn.modelhandler:Train Epoch: 19 [960/1453 (66%)]\tLoss: 0.037953\n",
            " 77%|███████▋  | 70/91 [01:10<00:20,  1.01it/s]INFO:pv_vision.nn.modelhandler:Train Epoch: 19 [1120/1453 (77%)]\tLoss: 0.038486\n",
            " 88%|████████▊ | 80/91 [01:20<00:10,  1.01it/s]INFO:pv_vision.nn.modelhandler:Train Epoch: 19 [1280/1453 (88%)]\tLoss: 0.030225\n",
            " 99%|█████████▉| 90/91 [01:30<00:00,  1.01it/s]INFO:pv_vision.nn.modelhandler:Train Epoch: 19 [1170/1453 (99%)]\tLoss: 0.029820\n",
            "100%|██████████| 91/91 [01:31<00:00,  1.01s/it]\n",
            "INFO:pv_vision.nn.modelhandler:Saved model at epoch 19\n",
            "100%|██████████| 6/6 [00:03<00:00,  1.90it/s]\n",
            "INFO:pv_vision.nn.modelhandler:Val epoch: 19 \tAverage loss: 0.0757\n"
          ]
        },
        {
          "output_type": "stream",
          "name": "stdout",
          "text": [
            "Loss: 0.0390 (train) | 0.0757 (val)\n",
            "Epoch 20 / 42\n",
            "----------\n"
          ]
        },
        {
          "output_type": "stream",
          "name": "stderr",
          "text": [
            "  0%|          | 0/91 [00:00<?, ?it/s]INFO:pv_vision.nn.modelhandler:Train Epoch: 20 [0/1453 (0%)]\tLoss: 0.032214\n",
            " 11%|█         | 10/91 [00:09<01:19,  1.02it/s]INFO:pv_vision.nn.modelhandler:Train Epoch: 20 [160/1453 (11%)]\tLoss: 0.028594\n",
            " 22%|██▏       | 20/91 [00:19<01:10,  1.01it/s]INFO:pv_vision.nn.modelhandler:Train Epoch: 20 [320/1453 (22%)]\tLoss: 0.049989\n",
            " 33%|███▎      | 30/91 [00:29<01:00,  1.01it/s]INFO:pv_vision.nn.modelhandler:Train Epoch: 20 [480/1453 (33%)]\tLoss: 0.033525\n",
            " 44%|████▍     | 40/91 [00:39<00:50,  1.01it/s]INFO:pv_vision.nn.modelhandler:Train Epoch: 20 [640/1453 (44%)]\tLoss: 0.024641\n",
            " 55%|█████▍    | 50/91 [00:49<00:40,  1.01it/s]INFO:pv_vision.nn.modelhandler:Train Epoch: 20 [800/1453 (55%)]\tLoss: 0.046252\n",
            " 66%|██████▌   | 60/91 [00:59<00:30,  1.01it/s]INFO:pv_vision.nn.modelhandler:Train Epoch: 20 [960/1453 (66%)]\tLoss: 0.031227\n",
            " 77%|███████▋  | 70/91 [01:09<00:20,  1.01it/s]INFO:pv_vision.nn.modelhandler:Train Epoch: 20 [1120/1453 (77%)]\tLoss: 0.044881\n",
            " 88%|████████▊ | 80/91 [01:20<00:10,  1.01it/s]INFO:pv_vision.nn.modelhandler:Train Epoch: 20 [1280/1453 (88%)]\tLoss: 0.058853\n",
            " 99%|█████████▉| 90/91 [01:30<00:00,  1.01it/s]INFO:pv_vision.nn.modelhandler:Train Epoch: 20 [1170/1453 (99%)]\tLoss: 0.042449\n",
            "100%|██████████| 91/91 [01:31<00:00,  1.01s/it]\n",
            "INFO:pv_vision.nn.modelhandler:Saved model at epoch 20\n",
            "100%|██████████| 6/6 [00:03<00:00,  1.94it/s]\n",
            "INFO:pv_vision.nn.modelhandler:Val epoch: 20 \tAverage loss: 0.0753\n"
          ]
        },
        {
          "output_type": "stream",
          "name": "stdout",
          "text": [
            "Loss: 0.0386 (train) | 0.0753 (val)\n",
            "Epoch 21 / 42\n",
            "----------\n"
          ]
        },
        {
          "output_type": "stream",
          "name": "stderr",
          "text": [
            "  0%|          | 0/91 [00:00<?, ?it/s]INFO:pv_vision.nn.modelhandler:Train Epoch: 21 [0/1453 (0%)]\tLoss: 0.026439\n",
            " 11%|█         | 10/91 [00:09<01:19,  1.02it/s]INFO:pv_vision.nn.modelhandler:Train Epoch: 21 [160/1453 (11%)]\tLoss: 0.034573\n",
            " 22%|██▏       | 20/91 [00:19<01:10,  1.01it/s]INFO:pv_vision.nn.modelhandler:Train Epoch: 21 [320/1453 (22%)]\tLoss: 0.039406\n",
            " 33%|███▎      | 30/91 [00:29<01:00,  1.01it/s]INFO:pv_vision.nn.modelhandler:Train Epoch: 21 [480/1453 (33%)]\tLoss: 0.018952\n",
            " 44%|████▍     | 40/91 [00:39<00:50,  1.01it/s]INFO:pv_vision.nn.modelhandler:Train Epoch: 21 [640/1453 (44%)]\tLoss: 0.036981\n",
            " 55%|█████▍    | 50/91 [00:49<00:40,  1.01it/s]INFO:pv_vision.nn.modelhandler:Train Epoch: 21 [800/1453 (55%)]\tLoss: 0.034743\n",
            " 66%|██████▌   | 60/91 [01:00<00:30,  1.01it/s]INFO:pv_vision.nn.modelhandler:Train Epoch: 21 [960/1453 (66%)]\tLoss: 0.039509\n",
            " 77%|███████▋  | 70/91 [01:10<00:20,  1.01it/s]INFO:pv_vision.nn.modelhandler:Train Epoch: 21 [1120/1453 (77%)]\tLoss: 0.040678\n",
            " 88%|████████▊ | 80/91 [01:20<00:10,  1.01it/s]INFO:pv_vision.nn.modelhandler:Train Epoch: 21 [1280/1453 (88%)]\tLoss: 0.043035\n",
            " 99%|█████████▉| 90/91 [01:30<00:00,  1.01it/s]INFO:pv_vision.nn.modelhandler:Train Epoch: 21 [1170/1453 (99%)]\tLoss: 0.033150\n",
            "100%|██████████| 91/91 [01:31<00:00,  1.01s/it]\n",
            "INFO:pv_vision.nn.modelhandler:Saved model at epoch 21\n",
            "100%|██████████| 6/6 [00:03<00:00,  1.99it/s]\n",
            "INFO:pv_vision.nn.modelhandler:Val epoch: 21 \tAverage loss: 0.0755\n"
          ]
        },
        {
          "output_type": "stream",
          "name": "stdout",
          "text": [
            "Loss: 0.0388 (train) | 0.0755 (val)\n",
            "Epoch 22 / 42\n",
            "----------\n"
          ]
        },
        {
          "output_type": "stream",
          "name": "stderr",
          "text": [
            "  0%|          | 0/91 [00:00<?, ?it/s]INFO:pv_vision.nn.modelhandler:Train Epoch: 22 [0/1453 (0%)]\tLoss: 0.026102\n",
            " 11%|█         | 10/91 [00:09<01:19,  1.02it/s]INFO:pv_vision.nn.modelhandler:Train Epoch: 22 [160/1453 (11%)]\tLoss: 0.043517\n",
            " 22%|██▏       | 20/91 [00:19<01:10,  1.01it/s]INFO:pv_vision.nn.modelhandler:Train Epoch: 22 [320/1453 (22%)]\tLoss: 0.033156\n",
            " 33%|███▎      | 30/91 [00:29<01:00,  1.01it/s]INFO:pv_vision.nn.modelhandler:Train Epoch: 22 [480/1453 (33%)]\tLoss: 0.043796\n",
            " 44%|████▍     | 40/91 [00:39<00:50,  1.01it/s]INFO:pv_vision.nn.modelhandler:Train Epoch: 22 [640/1453 (44%)]\tLoss: 0.041116\n",
            " 55%|█████▍    | 50/91 [00:49<00:40,  1.01it/s]INFO:pv_vision.nn.modelhandler:Train Epoch: 22 [800/1453 (55%)]\tLoss: 0.048789\n",
            " 66%|██████▌   | 60/91 [01:00<00:30,  1.01it/s]INFO:pv_vision.nn.modelhandler:Train Epoch: 22 [960/1453 (66%)]\tLoss: 0.038995\n",
            " 77%|███████▋  | 70/91 [01:10<00:20,  1.01it/s]INFO:pv_vision.nn.modelhandler:Train Epoch: 22 [1120/1453 (77%)]\tLoss: 0.061191\n",
            " 88%|████████▊ | 80/91 [01:20<00:10,  1.01it/s]INFO:pv_vision.nn.modelhandler:Train Epoch: 22 [1280/1453 (88%)]\tLoss: 0.051554\n",
            " 99%|█████████▉| 90/91 [01:30<00:00,  1.01it/s]INFO:pv_vision.nn.modelhandler:Train Epoch: 22 [1170/1453 (99%)]\tLoss: 0.025870\n",
            "100%|██████████| 91/91 [01:31<00:00,  1.01s/it]\n",
            "INFO:pv_vision.nn.modelhandler:Saved model at epoch 22\n",
            "100%|██████████| 6/6 [00:03<00:00,  1.76it/s]\n",
            "INFO:pv_vision.nn.modelhandler:Val epoch: 22 \tAverage loss: 0.0755\n"
          ]
        },
        {
          "output_type": "stream",
          "name": "stdout",
          "text": [
            "Loss: 0.0388 (train) | 0.0755 (val)\n",
            "Epoch 23 / 42\n",
            "----------\n"
          ]
        },
        {
          "output_type": "stream",
          "name": "stderr",
          "text": [
            "  0%|          | 0/91 [00:00<?, ?it/s]INFO:pv_vision.nn.modelhandler:Train Epoch: 23 [0/1453 (0%)]\tLoss: 0.024098\n",
            " 11%|█         | 10/91 [00:09<01:19,  1.02it/s]INFO:pv_vision.nn.modelhandler:Train Epoch: 23 [160/1453 (11%)]\tLoss: 0.033351\n",
            " 22%|██▏       | 20/91 [00:19<01:10,  1.01it/s]INFO:pv_vision.nn.modelhandler:Train Epoch: 23 [320/1453 (22%)]\tLoss: 0.043178\n",
            " 33%|███▎      | 30/91 [00:29<01:00,  1.01it/s]INFO:pv_vision.nn.modelhandler:Train Epoch: 23 [480/1453 (33%)]\tLoss: 0.049447\n",
            " 44%|████▍     | 40/91 [00:39<00:50,  1.01it/s]INFO:pv_vision.nn.modelhandler:Train Epoch: 23 [640/1453 (44%)]\tLoss: 0.040975\n",
            " 55%|█████▍    | 50/91 [00:49<00:40,  1.01it/s]INFO:pv_vision.nn.modelhandler:Train Epoch: 23 [800/1453 (55%)]\tLoss: 0.027659\n",
            " 66%|██████▌   | 60/91 [00:59<00:30,  1.01it/s]INFO:pv_vision.nn.modelhandler:Train Epoch: 23 [960/1453 (66%)]\tLoss: 0.031724\n",
            " 77%|███████▋  | 70/91 [01:10<00:20,  1.01it/s]INFO:pv_vision.nn.modelhandler:Train Epoch: 23 [1120/1453 (77%)]\tLoss: 0.026393\n",
            " 88%|████████▊ | 80/91 [01:20<00:10,  1.01it/s]INFO:pv_vision.nn.modelhandler:Train Epoch: 23 [1280/1453 (88%)]\tLoss: 0.030929\n",
            " 99%|█████████▉| 90/91 [01:30<00:00,  1.01it/s]INFO:pv_vision.nn.modelhandler:Train Epoch: 23 [1170/1453 (99%)]\tLoss: 0.055895\n",
            "100%|██████████| 91/91 [01:31<00:00,  1.01s/it]\n",
            "INFO:pv_vision.nn.modelhandler:Saved model at epoch 23\n",
            "100%|██████████| 6/6 [00:03<00:00,  1.78it/s]\n",
            "INFO:pv_vision.nn.modelhandler:Val epoch: 23 \tAverage loss: 0.0754\n"
          ]
        },
        {
          "output_type": "stream",
          "name": "stdout",
          "text": [
            "Loss: 0.0387 (train) | 0.0754 (val)\n",
            "Epoch 24 / 42\n",
            "----------\n"
          ]
        },
        {
          "output_type": "stream",
          "name": "stderr",
          "text": [
            "  0%|          | 0/91 [00:00<?, ?it/s]INFO:pv_vision.nn.modelhandler:Train Epoch: 24 [0/1453 (0%)]\tLoss: 0.039999\n",
            " 11%|█         | 10/91 [00:09<01:19,  1.02it/s]INFO:pv_vision.nn.modelhandler:Train Epoch: 24 [160/1453 (11%)]\tLoss: 0.046216\n",
            " 22%|██▏       | 20/91 [00:19<01:10,  1.01it/s]INFO:pv_vision.nn.modelhandler:Train Epoch: 24 [320/1453 (22%)]\tLoss: 0.028462\n",
            " 33%|███▎      | 30/91 [00:29<01:00,  1.01it/s]INFO:pv_vision.nn.modelhandler:Train Epoch: 24 [480/1453 (33%)]\tLoss: 0.039651\n",
            " 44%|████▍     | 40/91 [00:39<00:50,  1.01it/s]INFO:pv_vision.nn.modelhandler:Train Epoch: 24 [640/1453 (44%)]\tLoss: 0.035086\n",
            " 55%|█████▍    | 50/91 [00:49<00:40,  1.01it/s]INFO:pv_vision.nn.modelhandler:Train Epoch: 24 [800/1453 (55%)]\tLoss: 0.031632\n",
            " 66%|██████▌   | 60/91 [00:59<00:30,  1.01it/s]INFO:pv_vision.nn.modelhandler:Train Epoch: 24 [960/1453 (66%)]\tLoss: 0.038695\n",
            " 77%|███████▋  | 70/91 [01:09<00:20,  1.01it/s]INFO:pv_vision.nn.modelhandler:Train Epoch: 24 [1120/1453 (77%)]\tLoss: 0.024924\n",
            " 88%|████████▊ | 80/91 [01:20<00:10,  1.01it/s]INFO:pv_vision.nn.modelhandler:Train Epoch: 24 [1280/1453 (88%)]\tLoss: 0.045190\n",
            " 99%|█████████▉| 90/91 [01:30<00:00,  1.01it/s]INFO:pv_vision.nn.modelhandler:Train Epoch: 24 [1170/1453 (99%)]\tLoss: 0.038475\n",
            "100%|██████████| 91/91 [01:31<00:00,  1.01s/it]\n",
            "INFO:pv_vision.nn.modelhandler:Saved model at epoch 24\n",
            "100%|██████████| 6/6 [00:02<00:00,  2.04it/s]\n",
            "INFO:pv_vision.nn.modelhandler:Val epoch: 24 \tAverage loss: 0.0753\n"
          ]
        },
        {
          "output_type": "stream",
          "name": "stdout",
          "text": [
            "Loss: 0.0389 (train) | 0.0753 (val)\n",
            "Epoch 25 / 42\n",
            "----------\n"
          ]
        },
        {
          "output_type": "stream",
          "name": "stderr",
          "text": [
            "  0%|          | 0/91 [00:00<?, ?it/s]INFO:pv_vision.nn.modelhandler:Train Epoch: 25 [0/1453 (0%)]\tLoss: 0.044115\n",
            " 11%|█         | 10/91 [00:09<01:19,  1.02it/s]INFO:pv_vision.nn.modelhandler:Train Epoch: 25 [160/1453 (11%)]\tLoss: 0.041284\n",
            " 22%|██▏       | 20/91 [00:19<01:10,  1.01it/s]INFO:pv_vision.nn.modelhandler:Train Epoch: 25 [320/1453 (22%)]\tLoss: 0.031377\n",
            " 33%|███▎      | 30/91 [00:29<01:00,  1.01it/s]INFO:pv_vision.nn.modelhandler:Train Epoch: 25 [480/1453 (33%)]\tLoss: 0.041106\n",
            " 44%|████▍     | 40/91 [00:39<00:50,  1.01it/s]INFO:pv_vision.nn.modelhandler:Train Epoch: 25 [640/1453 (44%)]\tLoss: 0.041985\n",
            " 55%|█████▍    | 50/91 [00:49<00:40,  1.01it/s]INFO:pv_vision.nn.modelhandler:Train Epoch: 25 [800/1453 (55%)]\tLoss: 0.034614\n",
            " 66%|██████▌   | 60/91 [01:00<00:30,  1.01it/s]INFO:pv_vision.nn.modelhandler:Train Epoch: 25 [960/1453 (66%)]\tLoss: 0.037869\n",
            " 77%|███████▋  | 70/91 [01:10<00:20,  1.01it/s]INFO:pv_vision.nn.modelhandler:Train Epoch: 25 [1120/1453 (77%)]\tLoss: 0.032732\n",
            " 88%|████████▊ | 80/91 [01:20<00:10,  1.01it/s]INFO:pv_vision.nn.modelhandler:Train Epoch: 25 [1280/1453 (88%)]\tLoss: 0.028477\n",
            " 99%|█████████▉| 90/91 [01:30<00:00,  1.01it/s]INFO:pv_vision.nn.modelhandler:Train Epoch: 25 [1170/1453 (99%)]\tLoss: 0.035969\n",
            "100%|██████████| 91/91 [01:31<00:00,  1.01s/it]\n",
            "INFO:pv_vision.nn.modelhandler:Saved model at epoch 25\n",
            "100%|██████████| 6/6 [00:02<00:00,  2.02it/s]\n",
            "INFO:pv_vision.nn.modelhandler:Val epoch: 25 \tAverage loss: 0.0755\n"
          ]
        },
        {
          "output_type": "stream",
          "name": "stdout",
          "text": [
            "Loss: 0.0388 (train) | 0.0755 (val)\n",
            "Epoch 26 / 42\n",
            "----------\n"
          ]
        },
        {
          "output_type": "stream",
          "name": "stderr",
          "text": [
            "  0%|          | 0/91 [00:00<?, ?it/s]INFO:pv_vision.nn.modelhandler:Train Epoch: 26 [0/1453 (0%)]\tLoss: 0.032270\n",
            " 11%|█         | 10/91 [00:09<01:19,  1.02it/s]INFO:pv_vision.nn.modelhandler:Train Epoch: 26 [160/1453 (11%)]\tLoss: 0.032657\n",
            " 22%|██▏       | 20/91 [00:19<01:10,  1.01it/s]INFO:pv_vision.nn.modelhandler:Train Epoch: 26 [320/1453 (22%)]\tLoss: 0.046285\n",
            " 33%|███▎      | 30/91 [00:29<01:00,  1.01it/s]INFO:pv_vision.nn.modelhandler:Train Epoch: 26 [480/1453 (33%)]\tLoss: 0.040884\n",
            " 44%|████▍     | 40/91 [00:39<00:50,  1.01it/s]INFO:pv_vision.nn.modelhandler:Train Epoch: 26 [640/1453 (44%)]\tLoss: 0.046108\n",
            " 55%|█████▍    | 50/91 [00:49<00:40,  1.01it/s]INFO:pv_vision.nn.modelhandler:Train Epoch: 26 [800/1453 (55%)]\tLoss: 0.026269\n",
            " 66%|██████▌   | 60/91 [00:59<00:30,  1.01it/s]INFO:pv_vision.nn.modelhandler:Train Epoch: 26 [960/1453 (66%)]\tLoss: 0.040919\n",
            " 77%|███████▋  | 70/91 [01:10<00:20,  1.01it/s]INFO:pv_vision.nn.modelhandler:Train Epoch: 26 [1120/1453 (77%)]\tLoss: 0.037290\n",
            " 88%|████████▊ | 80/91 [01:20<00:10,  1.01it/s]INFO:pv_vision.nn.modelhandler:Train Epoch: 26 [1280/1453 (88%)]\tLoss: 0.019683\n",
            " 99%|█████████▉| 90/91 [01:30<00:00,  1.01it/s]INFO:pv_vision.nn.modelhandler:Train Epoch: 26 [1170/1453 (99%)]\tLoss: 0.043829\n",
            "100%|██████████| 91/91 [01:31<00:00,  1.01s/it]\n",
            "INFO:pv_vision.nn.modelhandler:Saved model at epoch 26\n",
            "100%|██████████| 6/6 [00:03<00:00,  1.97it/s]\n",
            "INFO:pv_vision.nn.modelhandler:Val epoch: 26 \tAverage loss: 0.0753\n"
          ]
        },
        {
          "output_type": "stream",
          "name": "stdout",
          "text": [
            "Loss: 0.0387 (train) | 0.0753 (val)\n",
            "Epoch 27 / 42\n",
            "----------\n"
          ]
        },
        {
          "output_type": "stream",
          "name": "stderr",
          "text": [
            "  0%|          | 0/91 [00:00<?, ?it/s]INFO:pv_vision.nn.modelhandler:Train Epoch: 27 [0/1453 (0%)]\tLoss: 0.044171\n",
            " 11%|█         | 10/91 [00:09<01:19,  1.02it/s]INFO:pv_vision.nn.modelhandler:Train Epoch: 27 [160/1453 (11%)]\tLoss: 0.038238\n",
            " 22%|██▏       | 20/91 [00:19<01:10,  1.01it/s]INFO:pv_vision.nn.modelhandler:Train Epoch: 27 [320/1453 (22%)]\tLoss: 0.038221\n",
            " 33%|███▎      | 30/91 [00:29<01:00,  1.01it/s]INFO:pv_vision.nn.modelhandler:Train Epoch: 27 [480/1453 (33%)]\tLoss: 0.033930\n",
            " 44%|████▍     | 40/91 [00:39<00:50,  1.01it/s]INFO:pv_vision.nn.modelhandler:Train Epoch: 27 [640/1453 (44%)]\tLoss: 0.052797\n",
            " 55%|█████▍    | 50/91 [00:49<00:40,  1.01it/s]INFO:pv_vision.nn.modelhandler:Train Epoch: 27 [800/1453 (55%)]\tLoss: 0.025934\n",
            " 66%|██████▌   | 60/91 [00:59<00:30,  1.01it/s]INFO:pv_vision.nn.modelhandler:Train Epoch: 27 [960/1453 (66%)]\tLoss: 0.046614\n",
            " 77%|███████▋  | 70/91 [01:10<00:20,  1.01it/s]INFO:pv_vision.nn.modelhandler:Train Epoch: 27 [1120/1453 (77%)]\tLoss: 0.030920\n",
            " 88%|████████▊ | 80/91 [01:20<00:10,  1.01it/s]INFO:pv_vision.nn.modelhandler:Train Epoch: 27 [1280/1453 (88%)]\tLoss: 0.020133\n",
            " 99%|█████████▉| 90/91 [01:30<00:00,  1.01it/s]INFO:pv_vision.nn.modelhandler:Train Epoch: 27 [1170/1453 (99%)]\tLoss: 0.030579\n",
            "100%|██████████| 91/91 [01:31<00:00,  1.01s/it]\n",
            "INFO:pv_vision.nn.modelhandler:Saved model at epoch 27\n",
            "100%|██████████| 6/6 [00:03<00:00,  1.66it/s]\n",
            "INFO:pv_vision.nn.modelhandler:Val epoch: 27 \tAverage loss: 0.0753\n"
          ]
        },
        {
          "output_type": "stream",
          "name": "stdout",
          "text": [
            "Loss: 0.0389 (train) | 0.0753 (val)\n",
            "Epoch 28 / 42\n",
            "----------\n"
          ]
        },
        {
          "output_type": "stream",
          "name": "stderr",
          "text": [
            "  0%|          | 0/91 [00:00<?, ?it/s]INFO:pv_vision.nn.modelhandler:Train Epoch: 28 [0/1453 (0%)]\tLoss: 0.027933\n",
            " 11%|█         | 10/91 [00:09<01:19,  1.02it/s]INFO:pv_vision.nn.modelhandler:Train Epoch: 28 [160/1453 (11%)]\tLoss: 0.036816\n",
            " 22%|██▏       | 20/91 [00:19<01:10,  1.01it/s]INFO:pv_vision.nn.modelhandler:Train Epoch: 28 [320/1453 (22%)]\tLoss: 0.052814\n",
            " 33%|███▎      | 30/91 [00:29<01:00,  1.01it/s]INFO:pv_vision.nn.modelhandler:Train Epoch: 28 [480/1453 (33%)]\tLoss: 0.034102\n",
            " 44%|████▍     | 40/91 [00:39<00:50,  1.01it/s]INFO:pv_vision.nn.modelhandler:Train Epoch: 28 [640/1453 (44%)]\tLoss: 0.038084\n",
            " 55%|█████▍    | 50/91 [00:49<00:40,  1.01it/s]INFO:pv_vision.nn.modelhandler:Train Epoch: 28 [800/1453 (55%)]\tLoss: 0.042775\n",
            " 66%|██████▌   | 60/91 [01:00<00:30,  1.01it/s]INFO:pv_vision.nn.modelhandler:Train Epoch: 28 [960/1453 (66%)]\tLoss: 0.045790\n",
            " 77%|███████▋  | 70/91 [01:10<00:20,  1.01it/s]INFO:pv_vision.nn.modelhandler:Train Epoch: 28 [1120/1453 (77%)]\tLoss: 0.038069\n",
            " 88%|████████▊ | 80/91 [01:20<00:10,  1.01it/s]INFO:pv_vision.nn.modelhandler:Train Epoch: 28 [1280/1453 (88%)]\tLoss: 0.041075\n",
            " 99%|█████████▉| 90/91 [01:30<00:00,  1.01it/s]INFO:pv_vision.nn.modelhandler:Train Epoch: 28 [1170/1453 (99%)]\tLoss: 0.036196\n",
            "100%|██████████| 91/91 [01:31<00:00,  1.01s/it]\n",
            "INFO:pv_vision.nn.modelhandler:Saved model at epoch 28\n",
            "100%|██████████| 6/6 [00:03<00:00,  1.75it/s]\n",
            "INFO:pv_vision.nn.modelhandler:Val epoch: 28 \tAverage loss: 0.0754\n"
          ]
        },
        {
          "output_type": "stream",
          "name": "stdout",
          "text": [
            "Loss: 0.0387 (train) | 0.0754 (val)\n",
            "Epoch 29 / 42\n",
            "----------\n"
          ]
        },
        {
          "output_type": "stream",
          "name": "stderr",
          "text": [
            "  0%|          | 0/91 [00:00<?, ?it/s]INFO:pv_vision.nn.modelhandler:Train Epoch: 29 [0/1453 (0%)]\tLoss: 0.038071\n",
            " 11%|█         | 10/91 [00:09<01:19,  1.02it/s]INFO:pv_vision.nn.modelhandler:Train Epoch: 29 [160/1453 (11%)]\tLoss: 0.030022\n",
            " 22%|██▏       | 20/91 [00:19<01:10,  1.01it/s]INFO:pv_vision.nn.modelhandler:Train Epoch: 29 [320/1453 (22%)]\tLoss: 0.067607\n",
            " 33%|███▎      | 30/91 [00:29<01:00,  1.01it/s]INFO:pv_vision.nn.modelhandler:Train Epoch: 29 [480/1453 (33%)]\tLoss: 0.045716\n",
            " 44%|████▍     | 40/91 [00:39<00:50,  1.01it/s]INFO:pv_vision.nn.modelhandler:Train Epoch: 29 [640/1453 (44%)]\tLoss: 0.027220\n",
            " 55%|█████▍    | 50/91 [00:49<00:40,  1.01it/s]INFO:pv_vision.nn.modelhandler:Train Epoch: 29 [800/1453 (55%)]\tLoss: 0.038859\n",
            " 66%|██████▌   | 60/91 [00:59<00:30,  1.01it/s]INFO:pv_vision.nn.modelhandler:Train Epoch: 29 [960/1453 (66%)]\tLoss: 0.039284\n",
            " 77%|███████▋  | 70/91 [01:10<00:20,  1.01it/s]INFO:pv_vision.nn.modelhandler:Train Epoch: 29 [1120/1453 (77%)]\tLoss: 0.033380\n",
            " 88%|████████▊ | 80/91 [01:20<00:10,  1.01it/s]INFO:pv_vision.nn.modelhandler:Train Epoch: 29 [1280/1453 (88%)]\tLoss: 0.031027\n",
            " 99%|█████████▉| 90/91 [01:30<00:00,  1.01it/s]INFO:pv_vision.nn.modelhandler:Train Epoch: 29 [1170/1453 (99%)]\tLoss: 0.052205\n",
            "100%|██████████| 91/91 [01:31<00:00,  1.01s/it]\n",
            "INFO:pv_vision.nn.modelhandler:Saved model at epoch 29\n",
            "100%|██████████| 6/6 [00:03<00:00,  1.89it/s]\n",
            "INFO:pv_vision.nn.modelhandler:Val epoch: 29 \tAverage loss: 0.0753\n"
          ]
        },
        {
          "output_type": "stream",
          "name": "stdout",
          "text": [
            "Loss: 0.0386 (train) | 0.0753 (val)\n",
            "Epoch 30 / 42\n",
            "----------\n"
          ]
        },
        {
          "output_type": "stream",
          "name": "stderr",
          "text": [
            "  0%|          | 0/91 [00:00<?, ?it/s]INFO:pv_vision.nn.modelhandler:Train Epoch: 30 [0/1453 (0%)]\tLoss: 0.033946\n",
            " 11%|█         | 10/91 [00:09<01:19,  1.02it/s]INFO:pv_vision.nn.modelhandler:Train Epoch: 30 [160/1453 (11%)]\tLoss: 0.052752\n",
            " 22%|██▏       | 20/91 [00:19<01:10,  1.01it/s]INFO:pv_vision.nn.modelhandler:Train Epoch: 30 [320/1453 (22%)]\tLoss: 0.035852\n",
            " 33%|███▎      | 30/91 [00:29<01:00,  1.01it/s]INFO:pv_vision.nn.modelhandler:Train Epoch: 30 [480/1453 (33%)]\tLoss: 0.025760\n",
            " 44%|████▍     | 40/91 [00:39<00:50,  1.01it/s]INFO:pv_vision.nn.modelhandler:Train Epoch: 30 [640/1453 (44%)]\tLoss: 0.024101\n",
            " 55%|█████▍    | 50/91 [00:49<00:40,  1.01it/s]INFO:pv_vision.nn.modelhandler:Train Epoch: 30 [800/1453 (55%)]\tLoss: 0.034431\n",
            " 66%|██████▌   | 60/91 [00:59<00:30,  1.01it/s]INFO:pv_vision.nn.modelhandler:Train Epoch: 30 [960/1453 (66%)]\tLoss: 0.033481\n",
            " 77%|███████▋  | 70/91 [01:10<00:20,  1.01it/s]INFO:pv_vision.nn.modelhandler:Train Epoch: 30 [1120/1453 (77%)]\tLoss: 0.038342\n",
            " 88%|████████▊ | 80/91 [01:20<00:10,  1.01it/s]INFO:pv_vision.nn.modelhandler:Train Epoch: 30 [1280/1453 (88%)]\tLoss: 0.041556\n",
            " 99%|█████████▉| 90/91 [01:30<00:00,  1.01it/s]INFO:pv_vision.nn.modelhandler:Train Epoch: 30 [1170/1453 (99%)]\tLoss: 0.019026\n",
            "100%|██████████| 91/91 [01:31<00:00,  1.01s/it]\n",
            "INFO:pv_vision.nn.modelhandler:Saved model at epoch 30\n",
            "100%|██████████| 6/6 [00:03<00:00,  1.99it/s]\n",
            "INFO:pv_vision.nn.modelhandler:Val epoch: 30 \tAverage loss: 0.0754\n"
          ]
        },
        {
          "output_type": "stream",
          "name": "stdout",
          "text": [
            "Loss: 0.0388 (train) | 0.0754 (val)\n",
            "Epoch 31 / 42\n",
            "----------\n"
          ]
        },
        {
          "output_type": "stream",
          "name": "stderr",
          "text": [
            "  0%|          | 0/91 [00:00<?, ?it/s]INFO:pv_vision.nn.modelhandler:Train Epoch: 31 [0/1453 (0%)]\tLoss: 0.042247\n",
            " 11%|█         | 10/91 [00:09<01:19,  1.02it/s]INFO:pv_vision.nn.modelhandler:Train Epoch: 31 [160/1453 (11%)]\tLoss: 0.039110\n",
            " 22%|██▏       | 20/91 [00:19<01:10,  1.01it/s]INFO:pv_vision.nn.modelhandler:Train Epoch: 31 [320/1453 (22%)]\tLoss: 0.037079\n",
            " 33%|███▎      | 30/91 [00:29<01:00,  1.01it/s]INFO:pv_vision.nn.modelhandler:Train Epoch: 31 [480/1453 (33%)]\tLoss: 0.030667\n",
            " 44%|████▍     | 40/91 [00:39<00:50,  1.01it/s]INFO:pv_vision.nn.modelhandler:Train Epoch: 31 [640/1453 (44%)]\tLoss: 0.027822\n",
            " 55%|█████▍    | 50/91 [00:49<00:40,  1.01it/s]INFO:pv_vision.nn.modelhandler:Train Epoch: 31 [800/1453 (55%)]\tLoss: 0.053887\n",
            " 66%|██████▌   | 60/91 [00:59<00:30,  1.01it/s]INFO:pv_vision.nn.modelhandler:Train Epoch: 31 [960/1453 (66%)]\tLoss: 0.029091\n",
            " 77%|███████▋  | 70/91 [01:09<00:20,  1.01it/s]INFO:pv_vision.nn.modelhandler:Train Epoch: 31 [1120/1453 (77%)]\tLoss: 0.031252\n",
            " 88%|████████▊ | 80/91 [01:20<00:10,  1.01it/s]INFO:pv_vision.nn.modelhandler:Train Epoch: 31 [1280/1453 (88%)]\tLoss: 0.045725\n",
            " 99%|█████████▉| 90/91 [01:30<00:00,  1.01it/s]INFO:pv_vision.nn.modelhandler:Train Epoch: 31 [1170/1453 (99%)]\tLoss: 0.024027\n",
            "100%|██████████| 91/91 [01:31<00:00,  1.01s/it]\n",
            "INFO:pv_vision.nn.modelhandler:Saved model at epoch 31\n",
            "100%|██████████| 6/6 [00:03<00:00,  1.81it/s]\n",
            "INFO:pv_vision.nn.modelhandler:Val epoch: 31 \tAverage loss: 0.0753\n"
          ]
        },
        {
          "output_type": "stream",
          "name": "stdout",
          "text": [
            "Loss: 0.0386 (train) | 0.0753 (val)\n",
            "Epoch 32 / 42\n",
            "----------\n"
          ]
        },
        {
          "output_type": "stream",
          "name": "stderr",
          "text": [
            "  0%|          | 0/91 [00:00<?, ?it/s]INFO:pv_vision.nn.modelhandler:Train Epoch: 32 [0/1453 (0%)]\tLoss: 0.027785\n",
            " 11%|█         | 10/91 [00:09<01:19,  1.02it/s]INFO:pv_vision.nn.modelhandler:Train Epoch: 32 [160/1453 (11%)]\tLoss: 0.048133\n",
            " 22%|██▏       | 20/91 [00:19<01:10,  1.01it/s]INFO:pv_vision.nn.modelhandler:Train Epoch: 32 [320/1453 (22%)]\tLoss: 0.037450\n",
            " 33%|███▎      | 30/91 [00:29<01:00,  1.01it/s]INFO:pv_vision.nn.modelhandler:Train Epoch: 32 [480/1453 (33%)]\tLoss: 0.040781\n",
            " 44%|████▍     | 40/91 [00:39<00:50,  1.01it/s]INFO:pv_vision.nn.modelhandler:Train Epoch: 32 [640/1453 (44%)]\tLoss: 0.035703\n",
            " 55%|█████▍    | 50/91 [00:49<00:40,  1.01it/s]INFO:pv_vision.nn.modelhandler:Train Epoch: 32 [800/1453 (55%)]\tLoss: 0.029033\n",
            " 66%|██████▌   | 60/91 [00:59<00:30,  1.01it/s]INFO:pv_vision.nn.modelhandler:Train Epoch: 32 [960/1453 (66%)]\tLoss: 0.026065\n",
            " 77%|███████▋  | 70/91 [01:10<00:20,  1.01it/s]INFO:pv_vision.nn.modelhandler:Train Epoch: 32 [1120/1453 (77%)]\tLoss: 0.030701\n",
            " 88%|████████▊ | 80/91 [01:20<00:10,  1.01it/s]INFO:pv_vision.nn.modelhandler:Train Epoch: 32 [1280/1453 (88%)]\tLoss: 0.040753\n",
            " 99%|█████████▉| 90/91 [01:30<00:00,  1.01it/s]INFO:pv_vision.nn.modelhandler:Train Epoch: 32 [1170/1453 (99%)]\tLoss: 0.047497\n",
            "100%|██████████| 91/91 [01:31<00:00,  1.01s/it]\n",
            "INFO:pv_vision.nn.modelhandler:Saved model at epoch 32\n",
            "100%|██████████| 6/6 [00:02<00:00,  2.05it/s]\n",
            "INFO:pv_vision.nn.modelhandler:Val epoch: 32 \tAverage loss: 0.0754\n"
          ]
        },
        {
          "output_type": "stream",
          "name": "stdout",
          "text": [
            "Loss: 0.0388 (train) | 0.0754 (val)\n",
            "Epoch 33 / 42\n",
            "----------\n"
          ]
        },
        {
          "output_type": "stream",
          "name": "stderr",
          "text": [
            "  0%|          | 0/91 [00:00<?, ?it/s]INFO:pv_vision.nn.modelhandler:Train Epoch: 33 [0/1453 (0%)]\tLoss: 0.061984\n",
            " 11%|█         | 10/91 [00:09<01:19,  1.02it/s]INFO:pv_vision.nn.modelhandler:Train Epoch: 33 [160/1453 (11%)]\tLoss: 0.042971\n",
            " 22%|██▏       | 20/91 [00:19<01:10,  1.01it/s]INFO:pv_vision.nn.modelhandler:Train Epoch: 33 [320/1453 (22%)]\tLoss: 0.032569\n",
            " 33%|███▎      | 30/91 [00:29<01:00,  1.01it/s]INFO:pv_vision.nn.modelhandler:Train Epoch: 33 [480/1453 (33%)]\tLoss: 0.039997\n",
            " 44%|████▍     | 40/91 [00:39<00:50,  1.01it/s]INFO:pv_vision.nn.modelhandler:Train Epoch: 33 [640/1453 (44%)]\tLoss: 0.035409\n",
            " 55%|█████▍    | 50/91 [00:49<00:40,  1.01it/s]INFO:pv_vision.nn.modelhandler:Train Epoch: 33 [800/1453 (55%)]\tLoss: 0.040616\n",
            " 66%|██████▌   | 60/91 [00:59<00:30,  1.01it/s]INFO:pv_vision.nn.modelhandler:Train Epoch: 33 [960/1453 (66%)]\tLoss: 0.024286\n",
            " 77%|███████▋  | 70/91 [01:10<00:20,  1.01it/s]INFO:pv_vision.nn.modelhandler:Train Epoch: 33 [1120/1453 (77%)]\tLoss: 0.031798\n",
            " 88%|████████▊ | 80/91 [01:20<00:10,  1.01it/s]INFO:pv_vision.nn.modelhandler:Train Epoch: 33 [1280/1453 (88%)]\tLoss: 0.046806\n",
            " 99%|█████████▉| 90/91 [01:30<00:00,  1.01it/s]INFO:pv_vision.nn.modelhandler:Train Epoch: 33 [1170/1453 (99%)]\tLoss: 0.035773\n",
            "100%|██████████| 91/91 [01:31<00:00,  1.01s/it]\n",
            "INFO:pv_vision.nn.modelhandler:Saved model at epoch 33\n",
            "100%|██████████| 6/6 [00:03<00:00,  1.72it/s]\n",
            "INFO:pv_vision.nn.modelhandler:Val epoch: 33 \tAverage loss: 0.0755\n"
          ]
        },
        {
          "output_type": "stream",
          "name": "stdout",
          "text": [
            "Loss: 0.0388 (train) | 0.0755 (val)\n",
            "Epoch 34 / 42\n",
            "----------\n"
          ]
        },
        {
          "output_type": "stream",
          "name": "stderr",
          "text": [
            "  0%|          | 0/91 [00:00<?, ?it/s]INFO:pv_vision.nn.modelhandler:Train Epoch: 34 [0/1453 (0%)]\tLoss: 0.048457\n",
            " 11%|█         | 10/91 [00:09<01:19,  1.02it/s]INFO:pv_vision.nn.modelhandler:Train Epoch: 34 [160/1453 (11%)]\tLoss: 0.041288\n",
            " 22%|██▏       | 20/91 [00:19<01:10,  1.01it/s]INFO:pv_vision.nn.modelhandler:Train Epoch: 34 [320/1453 (22%)]\tLoss: 0.057831\n",
            " 33%|███▎      | 30/91 [00:29<01:00,  1.01it/s]INFO:pv_vision.nn.modelhandler:Train Epoch: 34 [480/1453 (33%)]\tLoss: 0.028588\n",
            " 44%|████▍     | 40/91 [00:39<00:50,  1.01it/s]INFO:pv_vision.nn.modelhandler:Train Epoch: 34 [640/1453 (44%)]\tLoss: 0.041604\n",
            " 55%|█████▍    | 50/91 [00:49<00:40,  1.01it/s]INFO:pv_vision.nn.modelhandler:Train Epoch: 34 [800/1453 (55%)]\tLoss: 0.044477\n",
            " 66%|██████▌   | 60/91 [00:59<00:30,  1.01it/s]INFO:pv_vision.nn.modelhandler:Train Epoch: 34 [960/1453 (66%)]\tLoss: 0.051015\n",
            " 77%|███████▋  | 70/91 [01:10<00:20,  1.01it/s]INFO:pv_vision.nn.modelhandler:Train Epoch: 34 [1120/1453 (77%)]\tLoss: 0.040400\n",
            " 88%|████████▊ | 80/91 [01:20<00:10,  1.01it/s]INFO:pv_vision.nn.modelhandler:Train Epoch: 34 [1280/1453 (88%)]\tLoss: 0.026715\n",
            " 99%|█████████▉| 90/91 [01:30<00:00,  1.01it/s]INFO:pv_vision.nn.modelhandler:Train Epoch: 34 [1170/1453 (99%)]\tLoss: 0.025204\n",
            "100%|██████████| 91/91 [01:31<00:00,  1.01s/it]\n",
            "INFO:pv_vision.nn.modelhandler:Saved model at epoch 34\n",
            "100%|██████████| 6/6 [00:03<00:00,  1.81it/s]\n",
            "INFO:pv_vision.nn.modelhandler:Val epoch: 34 \tAverage loss: 0.0756\n"
          ]
        },
        {
          "output_type": "stream",
          "name": "stdout",
          "text": [
            "Loss: 0.0387 (train) | 0.0756 (val)\n",
            "Epoch 35 / 42\n",
            "----------\n"
          ]
        },
        {
          "output_type": "stream",
          "name": "stderr",
          "text": [
            "  0%|          | 0/91 [00:00<?, ?it/s]INFO:pv_vision.nn.modelhandler:Train Epoch: 35 [0/1453 (0%)]\tLoss: 0.060537\n",
            " 11%|█         | 10/91 [00:09<01:19,  1.02it/s]INFO:pv_vision.nn.modelhandler:Train Epoch: 35 [160/1453 (11%)]\tLoss: 0.035696\n",
            " 22%|██▏       | 20/91 [00:19<01:10,  1.01it/s]INFO:pv_vision.nn.modelhandler:Train Epoch: 35 [320/1453 (22%)]\tLoss: 0.038316\n",
            " 33%|███▎      | 30/91 [00:29<01:00,  1.01it/s]INFO:pv_vision.nn.modelhandler:Train Epoch: 35 [480/1453 (33%)]\tLoss: 0.038999\n",
            " 44%|████▍     | 40/91 [00:39<00:50,  1.01it/s]INFO:pv_vision.nn.modelhandler:Train Epoch: 35 [640/1453 (44%)]\tLoss: 0.030683\n",
            " 55%|█████▍    | 50/91 [00:49<00:40,  1.01it/s]INFO:pv_vision.nn.modelhandler:Train Epoch: 35 [800/1453 (55%)]\tLoss: 0.031887\n",
            " 66%|██████▌   | 60/91 [00:59<00:30,  1.01it/s]INFO:pv_vision.nn.modelhandler:Train Epoch: 35 [960/1453 (66%)]\tLoss: 0.033567\n",
            " 77%|███████▋  | 70/91 [01:10<00:20,  1.01it/s]INFO:pv_vision.nn.modelhandler:Train Epoch: 35 [1120/1453 (77%)]\tLoss: 0.027976\n",
            " 88%|████████▊ | 80/91 [01:20<00:10,  1.01it/s]INFO:pv_vision.nn.modelhandler:Train Epoch: 35 [1280/1453 (88%)]\tLoss: 0.035068\n",
            " 99%|█████████▉| 90/91 [01:30<00:00,  1.01it/s]INFO:pv_vision.nn.modelhandler:Train Epoch: 35 [1170/1453 (99%)]\tLoss: 0.031249\n",
            "100%|██████████| 91/91 [01:31<00:00,  1.01s/it]\n",
            "INFO:pv_vision.nn.modelhandler:Saved model at epoch 35\n",
            "100%|██████████| 6/6 [00:03<00:00,  1.95it/s]\n",
            "INFO:pv_vision.nn.modelhandler:Val epoch: 35 \tAverage loss: 0.0754\n"
          ]
        },
        {
          "output_type": "stream",
          "name": "stdout",
          "text": [
            "Loss: 0.0389 (train) | 0.0754 (val)\n",
            "Epoch 36 / 42\n",
            "----------\n"
          ]
        },
        {
          "output_type": "stream",
          "name": "stderr",
          "text": [
            "  0%|          | 0/91 [00:00<?, ?it/s]INFO:pv_vision.nn.modelhandler:Train Epoch: 36 [0/1453 (0%)]\tLoss: 0.032845\n",
            " 11%|█         | 10/91 [00:09<01:19,  1.02it/s]INFO:pv_vision.nn.modelhandler:Train Epoch: 36 [160/1453 (11%)]\tLoss: 0.056021\n",
            " 22%|██▏       | 20/91 [00:19<01:10,  1.01it/s]INFO:pv_vision.nn.modelhandler:Train Epoch: 36 [320/1453 (22%)]\tLoss: 0.045512\n",
            " 33%|███▎      | 30/91 [00:29<01:00,  1.01it/s]INFO:pv_vision.nn.modelhandler:Train Epoch: 36 [480/1453 (33%)]\tLoss: 0.024984\n",
            " 44%|████▍     | 40/91 [00:39<00:50,  1.01it/s]INFO:pv_vision.nn.modelhandler:Train Epoch: 36 [640/1453 (44%)]\tLoss: 0.044516\n",
            " 55%|█████▍    | 50/91 [00:49<00:40,  1.01it/s]INFO:pv_vision.nn.modelhandler:Train Epoch: 36 [800/1453 (55%)]\tLoss: 0.032905\n",
            " 66%|██████▌   | 60/91 [01:00<00:30,  1.01it/s]INFO:pv_vision.nn.modelhandler:Train Epoch: 36 [960/1453 (66%)]\tLoss: 0.035719\n",
            " 77%|███████▋  | 70/91 [01:10<00:20,  1.01it/s]INFO:pv_vision.nn.modelhandler:Train Epoch: 36 [1120/1453 (77%)]\tLoss: 0.053521\n",
            " 88%|████████▊ | 80/91 [01:20<00:10,  1.01it/s]INFO:pv_vision.nn.modelhandler:Train Epoch: 36 [1280/1453 (88%)]\tLoss: 0.042133\n",
            " 99%|█████████▉| 90/91 [01:30<00:00,  1.01it/s]INFO:pv_vision.nn.modelhandler:Train Epoch: 36 [1170/1453 (99%)]\tLoss: 0.040487\n",
            "100%|██████████| 91/91 [01:31<00:00,  1.01s/it]\n",
            "INFO:pv_vision.nn.modelhandler:Saved model at epoch 36\n",
            "100%|██████████| 6/6 [00:03<00:00,  1.96it/s]\n",
            "INFO:pv_vision.nn.modelhandler:Val epoch: 36 \tAverage loss: 0.0753\n"
          ]
        },
        {
          "output_type": "stream",
          "name": "stdout",
          "text": [
            "Loss: 0.0388 (train) | 0.0753 (val)\n",
            "Epoch 37 / 42\n",
            "----------\n"
          ]
        },
        {
          "output_type": "stream",
          "name": "stderr",
          "text": [
            "  0%|          | 0/91 [00:00<?, ?it/s]INFO:pv_vision.nn.modelhandler:Train Epoch: 37 [0/1453 (0%)]\tLoss: 0.027720\n",
            " 11%|█         | 10/91 [00:09<01:19,  1.02it/s]INFO:pv_vision.nn.modelhandler:Train Epoch: 37 [160/1453 (11%)]\tLoss: 0.030634\n",
            " 22%|██▏       | 20/91 [00:19<01:10,  1.01it/s]INFO:pv_vision.nn.modelhandler:Train Epoch: 37 [320/1453 (22%)]\tLoss: 0.036889\n",
            " 33%|███▎      | 30/91 [00:29<01:00,  1.01it/s]INFO:pv_vision.nn.modelhandler:Train Epoch: 37 [480/1453 (33%)]\tLoss: 0.051718\n",
            " 44%|████▍     | 40/91 [00:39<00:50,  1.01it/s]INFO:pv_vision.nn.modelhandler:Train Epoch: 37 [640/1453 (44%)]\tLoss: 0.033925\n",
            " 55%|█████▍    | 50/91 [00:49<00:40,  1.01it/s]INFO:pv_vision.nn.modelhandler:Train Epoch: 37 [800/1453 (55%)]\tLoss: 0.028989\n",
            " 66%|██████▌   | 60/91 [01:00<00:30,  1.01it/s]INFO:pv_vision.nn.modelhandler:Train Epoch: 37 [960/1453 (66%)]\tLoss: 0.025183\n",
            " 77%|███████▋  | 70/91 [01:10<00:20,  1.01it/s]INFO:pv_vision.nn.modelhandler:Train Epoch: 37 [1120/1453 (77%)]\tLoss: 0.029012\n",
            " 88%|████████▊ | 80/91 [01:20<00:10,  1.01it/s]INFO:pv_vision.nn.modelhandler:Train Epoch: 37 [1280/1453 (88%)]\tLoss: 0.039768\n",
            " 99%|█████████▉| 90/91 [01:30<00:00,  1.01it/s]INFO:pv_vision.nn.modelhandler:Train Epoch: 37 [1170/1453 (99%)]\tLoss: 0.029822\n",
            "100%|██████████| 91/91 [01:31<00:00,  1.01s/it]\n",
            "INFO:pv_vision.nn.modelhandler:Saved model at epoch 37\n",
            "100%|██████████| 6/6 [00:03<00:00,  1.73it/s]\n",
            "INFO:pv_vision.nn.modelhandler:Val epoch: 37 \tAverage loss: 0.0752\n"
          ]
        },
        {
          "output_type": "stream",
          "name": "stdout",
          "text": [
            "Loss: 0.0390 (train) | 0.0752 (val)\n",
            "Epoch 38 / 42\n",
            "----------\n"
          ]
        },
        {
          "output_type": "stream",
          "name": "stderr",
          "text": [
            "  0%|          | 0/91 [00:00<?, ?it/s]INFO:pv_vision.nn.modelhandler:Train Epoch: 38 [0/1453 (0%)]\tLoss: 0.062293\n",
            " 11%|█         | 10/91 [00:09<01:19,  1.02it/s]INFO:pv_vision.nn.modelhandler:Train Epoch: 38 [160/1453 (11%)]\tLoss: 0.037522\n",
            " 22%|██▏       | 20/91 [00:19<01:10,  1.01it/s]INFO:pv_vision.nn.modelhandler:Train Epoch: 38 [320/1453 (22%)]\tLoss: 0.051998\n",
            " 33%|███▎      | 30/91 [00:29<01:00,  1.01it/s]INFO:pv_vision.nn.modelhandler:Train Epoch: 38 [480/1453 (33%)]\tLoss: 0.037744\n",
            " 44%|████▍     | 40/91 [00:39<00:50,  1.01it/s]INFO:pv_vision.nn.modelhandler:Train Epoch: 38 [640/1453 (44%)]\tLoss: 0.044554\n",
            " 55%|█████▍    | 50/91 [00:50<00:40,  1.01it/s]INFO:pv_vision.nn.modelhandler:Train Epoch: 38 [800/1453 (55%)]\tLoss: 0.039914\n",
            " 66%|██████▌   | 60/91 [01:00<00:30,  1.01it/s]INFO:pv_vision.nn.modelhandler:Train Epoch: 38 [960/1453 (66%)]\tLoss: 0.057758\n",
            " 77%|███████▋  | 70/91 [01:10<00:20,  1.01it/s]INFO:pv_vision.nn.modelhandler:Train Epoch: 38 [1120/1453 (77%)]\tLoss: 0.034542\n",
            " 88%|████████▊ | 80/91 [01:20<00:10,  1.01it/s]INFO:pv_vision.nn.modelhandler:Train Epoch: 38 [1280/1453 (88%)]\tLoss: 0.047211\n",
            " 99%|█████████▉| 90/91 [01:30<00:00,  1.01it/s]INFO:pv_vision.nn.modelhandler:Train Epoch: 38 [1170/1453 (99%)]\tLoss: 0.033251\n",
            "100%|██████████| 91/91 [01:31<00:00,  1.01s/it]\n",
            "INFO:pv_vision.nn.modelhandler:Saved model at epoch 38\n",
            "100%|██████████| 6/6 [00:03<00:00,  1.87it/s]\n",
            "INFO:pv_vision.nn.modelhandler:Val epoch: 38 \tAverage loss: 0.0753\n"
          ]
        },
        {
          "output_type": "stream",
          "name": "stdout",
          "text": [
            "Loss: 0.0389 (train) | 0.0753 (val)\n",
            "Epoch 39 / 42\n",
            "----------\n"
          ]
        },
        {
          "output_type": "stream",
          "name": "stderr",
          "text": [
            "  0%|          | 0/91 [00:00<?, ?it/s]INFO:pv_vision.nn.modelhandler:Train Epoch: 39 [0/1453 (0%)]\tLoss: 0.028912\n",
            " 11%|█         | 10/91 [00:09<01:19,  1.02it/s]INFO:pv_vision.nn.modelhandler:Train Epoch: 39 [160/1453 (11%)]\tLoss: 0.033971\n",
            " 22%|██▏       | 20/91 [00:19<01:10,  1.01it/s]INFO:pv_vision.nn.modelhandler:Train Epoch: 39 [320/1453 (22%)]\tLoss: 0.040703\n",
            " 33%|███▎      | 30/91 [00:29<01:00,  1.01it/s]INFO:pv_vision.nn.modelhandler:Train Epoch: 39 [480/1453 (33%)]\tLoss: 0.041619\n",
            " 44%|████▍     | 40/91 [00:39<00:50,  1.01it/s]INFO:pv_vision.nn.modelhandler:Train Epoch: 39 [640/1453 (44%)]\tLoss: 0.040644\n",
            " 55%|█████▍    | 50/91 [00:49<00:40,  1.01it/s]INFO:pv_vision.nn.modelhandler:Train Epoch: 39 [800/1453 (55%)]\tLoss: 0.031461\n",
            " 66%|██████▌   | 60/91 [00:59<00:30,  1.01it/s]INFO:pv_vision.nn.modelhandler:Train Epoch: 39 [960/1453 (66%)]\tLoss: 0.032458\n",
            " 77%|███████▋  | 70/91 [01:10<00:20,  1.01it/s]INFO:pv_vision.nn.modelhandler:Train Epoch: 39 [1120/1453 (77%)]\tLoss: 0.028032\n",
            " 88%|████████▊ | 80/91 [01:20<00:10,  1.01it/s]INFO:pv_vision.nn.modelhandler:Train Epoch: 39 [1280/1453 (88%)]\tLoss: 0.035533\n",
            " 99%|█████████▉| 90/91 [01:30<00:00,  1.01it/s]INFO:pv_vision.nn.modelhandler:Train Epoch: 39 [1170/1453 (99%)]\tLoss: 0.028027\n",
            "100%|██████████| 91/91 [01:31<00:00,  1.01s/it]\n",
            "INFO:pv_vision.nn.modelhandler:Saved model at epoch 39\n",
            "100%|██████████| 6/6 [00:03<00:00,  1.89it/s]\n",
            "INFO:pv_vision.nn.modelhandler:Val epoch: 39 \tAverage loss: 0.0755\n"
          ]
        },
        {
          "output_type": "stream",
          "name": "stdout",
          "text": [
            "Loss: 0.0388 (train) | 0.0755 (val)\n",
            "Epoch 40 / 42\n",
            "----------\n"
          ]
        },
        {
          "output_type": "stream",
          "name": "stderr",
          "text": [
            "  0%|          | 0/91 [00:00<?, ?it/s]INFO:pv_vision.nn.modelhandler:Train Epoch: 40 [0/1453 (0%)]\tLoss: 0.037093\n",
            " 11%|█         | 10/91 [00:09<01:19,  1.02it/s]INFO:pv_vision.nn.modelhandler:Train Epoch: 40 [160/1453 (11%)]\tLoss: 0.043906\n",
            " 22%|██▏       | 20/91 [00:19<01:10,  1.01it/s]INFO:pv_vision.nn.modelhandler:Train Epoch: 40 [320/1453 (22%)]\tLoss: 0.027608\n",
            " 33%|███▎      | 30/91 [00:29<01:00,  1.01it/s]INFO:pv_vision.nn.modelhandler:Train Epoch: 40 [480/1453 (33%)]\tLoss: 0.030292\n",
            " 44%|████▍     | 40/91 [00:39<00:50,  1.01it/s]INFO:pv_vision.nn.modelhandler:Train Epoch: 40 [640/1453 (44%)]\tLoss: 0.032493\n",
            " 55%|█████▍    | 50/91 [00:49<00:40,  1.01it/s]INFO:pv_vision.nn.modelhandler:Train Epoch: 40 [800/1453 (55%)]\tLoss: 0.041706\n",
            " 66%|██████▌   | 60/91 [00:59<00:30,  1.01it/s]INFO:pv_vision.nn.modelhandler:Train Epoch: 40 [960/1453 (66%)]\tLoss: 0.044729\n",
            " 77%|███████▋  | 70/91 [01:09<00:20,  1.01it/s]INFO:pv_vision.nn.modelhandler:Train Epoch: 40 [1120/1453 (77%)]\tLoss: 0.029013\n",
            " 88%|████████▊ | 80/91 [01:20<00:10,  1.01it/s]INFO:pv_vision.nn.modelhandler:Train Epoch: 40 [1280/1453 (88%)]\tLoss: 0.025912\n",
            " 99%|█████████▉| 90/91 [01:30<00:00,  1.01it/s]INFO:pv_vision.nn.modelhandler:Train Epoch: 40 [1170/1453 (99%)]\tLoss: 0.043443\n",
            "100%|██████████| 91/91 [01:31<00:00,  1.01s/it]\n",
            "INFO:pv_vision.nn.modelhandler:Saved model at epoch 40\n",
            "100%|██████████| 6/6 [00:03<00:00,  1.95it/s]\n",
            "INFO:pv_vision.nn.modelhandler:Val epoch: 40 \tAverage loss: 0.0753\n"
          ]
        },
        {
          "output_type": "stream",
          "name": "stdout",
          "text": [
            "Loss: 0.0387 (train) | 0.0753 (val)\n",
            "Epoch 41 / 42\n",
            "----------\n"
          ]
        },
        {
          "output_type": "stream",
          "name": "stderr",
          "text": [
            "  0%|          | 0/91 [00:00<?, ?it/s]INFO:pv_vision.nn.modelhandler:Train Epoch: 41 [0/1453 (0%)]\tLoss: 0.038318\n",
            " 11%|█         | 10/91 [00:09<01:19,  1.02it/s]INFO:pv_vision.nn.modelhandler:Train Epoch: 41 [160/1453 (11%)]\tLoss: 0.035524\n",
            " 22%|██▏       | 20/91 [00:19<01:10,  1.01it/s]INFO:pv_vision.nn.modelhandler:Train Epoch: 41 [320/1453 (22%)]\tLoss: 0.029287\n",
            " 33%|███▎      | 30/91 [00:29<01:00,  1.01it/s]INFO:pv_vision.nn.modelhandler:Train Epoch: 41 [480/1453 (33%)]\tLoss: 0.041135\n",
            " 44%|████▍     | 40/91 [00:39<00:50,  1.01it/s]INFO:pv_vision.nn.modelhandler:Train Epoch: 41 [640/1453 (44%)]\tLoss: 0.028599\n",
            " 55%|█████▍    | 50/91 [00:49<00:40,  1.01it/s]INFO:pv_vision.nn.modelhandler:Train Epoch: 41 [800/1453 (55%)]\tLoss: 0.022480\n",
            " 66%|██████▌   | 60/91 [00:59<00:30,  1.01it/s]INFO:pv_vision.nn.modelhandler:Train Epoch: 41 [960/1453 (66%)]\tLoss: 0.052814\n",
            " 77%|███████▋  | 70/91 [01:10<00:20,  1.01it/s]INFO:pv_vision.nn.modelhandler:Train Epoch: 41 [1120/1453 (77%)]\tLoss: 0.051098\n",
            " 88%|████████▊ | 80/91 [01:20<00:10,  1.01it/s]INFO:pv_vision.nn.modelhandler:Train Epoch: 41 [1280/1453 (88%)]\tLoss: 0.032835\n",
            " 99%|█████████▉| 90/91 [01:30<00:00,  1.01it/s]INFO:pv_vision.nn.modelhandler:Train Epoch: 41 [1170/1453 (99%)]\tLoss: 0.045290\n",
            "100%|██████████| 91/91 [01:31<00:00,  1.01s/it]\n",
            "INFO:pv_vision.nn.modelhandler:Saved model at epoch 41\n",
            "100%|██████████| 6/6 [00:03<00:00,  1.74it/s]\n",
            "INFO:pv_vision.nn.modelhandler:Val epoch: 41 \tAverage loss: 0.0753\n"
          ]
        },
        {
          "output_type": "stream",
          "name": "stdout",
          "text": [
            "Loss: 0.0387 (train) | 0.0753 (val)\n",
            "Epoch 42 / 42\n",
            "----------\n"
          ]
        },
        {
          "output_type": "stream",
          "name": "stderr",
          "text": [
            "  0%|          | 0/91 [00:00<?, ?it/s]INFO:pv_vision.nn.modelhandler:Train Epoch: 42 [0/1453 (0%)]\tLoss: 0.034307\n",
            " 11%|█         | 10/91 [00:09<01:19,  1.02it/s]INFO:pv_vision.nn.modelhandler:Train Epoch: 42 [160/1453 (11%)]\tLoss: 0.044613\n",
            " 22%|██▏       | 20/91 [00:19<01:10,  1.01it/s]INFO:pv_vision.nn.modelhandler:Train Epoch: 42 [320/1453 (22%)]\tLoss: 0.053143\n",
            " 33%|███▎      | 30/91 [00:29<01:00,  1.01it/s]INFO:pv_vision.nn.modelhandler:Train Epoch: 42 [480/1453 (33%)]\tLoss: 0.025773\n",
            " 44%|████▍     | 40/91 [00:39<00:50,  1.01it/s]INFO:pv_vision.nn.modelhandler:Train Epoch: 42 [640/1453 (44%)]\tLoss: 0.049939\n",
            " 55%|█████▍    | 50/91 [00:49<00:40,  1.01it/s]INFO:pv_vision.nn.modelhandler:Train Epoch: 42 [800/1453 (55%)]\tLoss: 0.045391\n",
            " 66%|██████▌   | 60/91 [00:59<00:30,  1.01it/s]INFO:pv_vision.nn.modelhandler:Train Epoch: 42 [960/1453 (66%)]\tLoss: 0.026310\n",
            " 77%|███████▋  | 70/91 [01:10<00:20,  1.01it/s]INFO:pv_vision.nn.modelhandler:Train Epoch: 42 [1120/1453 (77%)]\tLoss: 0.027586\n",
            " 88%|████████▊ | 80/91 [01:20<00:10,  1.01it/s]INFO:pv_vision.nn.modelhandler:Train Epoch: 42 [1280/1453 (88%)]\tLoss: 0.035366\n",
            " 99%|█████████▉| 90/91 [01:30<00:00,  1.01it/s]INFO:pv_vision.nn.modelhandler:Train Epoch: 42 [1170/1453 (99%)]\tLoss: 0.027331\n",
            "100%|██████████| 91/91 [01:31<00:00,  1.01s/it]\n",
            "INFO:pv_vision.nn.modelhandler:Saved model at epoch 42\n",
            "100%|██████████| 6/6 [00:02<00:00,  2.03it/s]\n",
            "INFO:pv_vision.nn.modelhandler:Val epoch: 42 \tAverage loss: 0.0755\n"
          ]
        },
        {
          "output_type": "stream",
          "name": "stdout",
          "text": [
            "Loss: 0.0388 (train) | 0.0755 (val)\n"
          ]
        },
        {
          "output_type": "execute_result",
          "data": {
            "text/plain": [
              "{'train': {'loss': [0.05252212102423023,\n",
              "   0.04738340878068211,\n",
              "   0.0468166085384422,\n",
              "   0.04920957686926936,\n",
              "   0.05057704519206134,\n",
              "   0.04990750487383611,\n",
              "   0.048286444660729975,\n",
              "   0.046426468787116176,\n",
              "   0.042170728995873034,\n",
              "   0.040778470025010054,\n",
              "   0.04035154512922516,\n",
              "   0.040231914347305595,\n",
              "   0.03981725253672413,\n",
              "   0.03974635193235941,\n",
              "   0.039233596301948455,\n",
              "   0.039299070212095256,\n",
              "   0.03890810966368634,\n",
              "   0.03893625479850454,\n",
              "   0.038992765780694716,\n",
              "   0.038566311189349736,\n",
              "   0.03882866464580902,\n",
              "   0.03884459013748768,\n",
              "   0.03874790143152392,\n",
              "   0.03889800612260289,\n",
              "   0.038789821638682755,\n",
              "   0.03869381362376177,\n",
              "   0.038871566946403535,\n",
              "   0.038659120023414664,\n",
              "   0.03857221048779104,\n",
              "   0.03877727529937779,\n",
              "   0.03862324507018655,\n",
              "   0.03878464863083728,\n",
              "   0.038809291182594796,\n",
              "   0.03869669079647258,\n",
              "   0.038852597528482746,\n",
              "   0.03875158118252006,\n",
              "   0.039039307729650675,\n",
              "   0.03894137755723469,\n",
              "   0.038795391029722515,\n",
              "   0.038749564815945894,\n",
              "   0.038727182484727354,\n",
              "   0.03884533192534243]},\n",
              " 'val': {'loss': [0.12776724249124527,\n",
              "   0.10532840217153232,\n",
              "   0.08963182071844737,\n",
              "   0.11706178014477094,\n",
              "   0.0959552600979805,\n",
              "   0.11497416347265244,\n",
              "   0.09168096135059993,\n",
              "   0.09024861579140027,\n",
              "   0.08087143550316493,\n",
              "   0.07900028675794601,\n",
              "   0.07822844510277112,\n",
              "   0.07757478207349777,\n",
              "   0.07687498380740483,\n",
              "   0.07646516462167104,\n",
              "   0.07597331330180168,\n",
              "   0.07599329948425293,\n",
              "   0.07562470560272534,\n",
              "   0.07561000312368076,\n",
              "   0.07574646919965744,\n",
              "   0.07532943040132523,\n",
              "   0.07546853522459666,\n",
              "   0.07554733877380689,\n",
              "   0.07543547078967094,\n",
              "   0.07530365760127704,\n",
              "   0.07551828399300575,\n",
              "   0.07527640586098035,\n",
              "   0.07533292596538861,\n",
              "   0.07537166401743889,\n",
              "   0.07534799973169963,\n",
              "   0.07536849503715833,\n",
              "   0.07530969753861427,\n",
              "   0.07538106168309848,\n",
              "   0.07545718302329381,\n",
              "   0.07563817128539085,\n",
              "   0.07535666103164355,\n",
              "   0.0753321498632431,\n",
              "   0.07524957632025082,\n",
              "   0.07527469595273335,\n",
              "   0.07552651688456535,\n",
              "   0.0753139816224575,\n",
              "   0.0753437007466952,\n",
              "   0.0754812719921271]}}"
            ]
          },
          "metadata": {},
          "execution_count": 13
        }
      ],
      "source": [
        "# Se inicializa el entrenamiento del modelo.\n",
        "modelhandler.train_model()"
      ]
    },
    {
      "cell_type": "code",
      "execution_count": 14,
      "metadata": {
        "colab": {
          "base_uri": "https://localhost:8080/",
          "height": 449
        },
        "id": "k55JhgMyG09V",
        "outputId": "93182b5b-5566-4e18-c688-2544eaed7660"
      },
      "outputs": [
        {
          "output_type": "display_data",
          "data": {
            "text/plain": [
              "<Figure size 640x480 with 1 Axes>"
            ],
            "image/png": "[encoded data removed]"
          },
          "metadata": {}
        }
      ],
      "source": [
        "# Se visualiza el proceso de entrenamiento.\n",
        "# Esta función traza la pérdida del modelo durante el entrenamiento.\n",
        "modelhandler.plot_loss()"
      ]
    },
    {
      "cell_type": "code",
      "execution_count": 15,
      "metadata": {
        "colab": {
          "base_uri": "https://localhost:8080/"
        },
        "id": "E52bTEXnG09W",
        "outputId": "7a1ee96a-3481-4ca4-ad5d-0f1bd3d0408f"
      },
      "outputs": [
        {
          "output_type": "execute_result",
          "data": {
            "text/plain": [
              "37"
            ]
          },
          "metadata": {},
          "execution_count": 15
        }
      ],
      "source": [
        "# Se busca la pérdida mínima en la validación, que corresponde al mejor modelo.\n",
        "# 'np.argmin' devuelve el índice de la pérdida mínima en el conjunto de validación.\n",
        "# Se suma 1 porque los índices en Python comienzan en 0, pero las épocas comienzan en 1.\n",
        "np.argmin(modelhandler.running_record['val']['loss'])+1"
      ]
    },
    {
      "cell_type": "code",
      "execution_count": 16,
      "metadata": {
        "colab": {
          "base_uri": "https://localhost:8080/"
        },
        "collapsed": true,
        "id": "kH5xVXQyG09W",
        "outputId": "6bd0bc0c-0dc1-463d-f262-74c6bbd7cfd9"
      },
      "outputs": [
        {
          "output_type": "stream",
          "name": "stderr",
          "text": [
            "INFO:pv_vision.nn.modelhandler:Loaded model from /content/drive/MyDrive/Entrenamiento/checkpoints/epoch_37/unetv28.pt\n"
          ]
        }
      ],
      "source": [
        "# Se carga el mejor modelo entrenado y se verifica su rendimiento en el conjunto de prueba.\n",
        "# Se emplea `load_model` para cargar el modelo entrenado. Este método toma el nombre del archivo de punto de control.\n",
        "modelhandler.load_model('/content/drive/MyDrive/Entrenamiento/checkpoints/epoch_37/unetv28.pt')"
      ]
    },
    {
      "cell_type": "markdown",
      "metadata": {
        "id": "xa-Fdu8ZG09W"
      },
      "source": [
        "El siguiente código prueba el modelo en el conjunto de prueba y almacena la salida en 'testset_output'. También se hace un comentario sobre la puntuación de la prueba y la puntuación de la validación."
      ]
    },
    {
      "cell_type": "code",
      "execution_count": 17,
      "metadata": {
        "colab": {
          "base_uri": "https://localhost:8080/"
        },
        "id": "1q3LEUNaG09W",
        "outputId": "78b7ed3e-3ebd-4186-9b89-3c8a4f5970b9"
      },
      "outputs": [
        {
          "output_type": "stream",
          "name": "stdout",
          "text": [
            "Testing mode\n",
            "----------\n"
          ]
        },
        {
          "output_type": "stream",
          "name": "stderr",
          "text": [
            "100%|██████████| 23/23 [04:30<00:00, 11.76s/it]\n",
            "INFO:pv_vision.nn.modelhandler:Test set: Average loss: 0.1148\n"
          ]
        },
        {
          "output_type": "stream",
          "name": "stdout",
          "text": [
            "Test set: Average loss: 0.1148\n"
          ]
        }
      ],
      "source": [
        "# Se evalúa el modelo en el conjunto de prueba. `test_model` es una función de ModelHandler\n",
        "# que evalúa el modelo en el conjunto de prueba y almacena la salida en la caché.\n",
        "_ = modelhandler.test_model(cache_output='testset_outputv29')\n",
        "\n",
        "# La salida del modelo se almacena en self.cache['testset_output']"
      ]
    },
    {
      "cell_type": "code",
      "source": [
        "# Libera la caché de la GPU\n",
        "torch.cuda.empty_cache()"
      ],
      "metadata": {
        "id": "CxrtcIqePCUe"
      },
      "execution_count": 17,
      "outputs": []
    }
  ],
  "metadata": {
    "accelerator": "GPU",
    "colab": {
      "gpuType": "T4",
      "provenance": [],
      "include_colab_link": true
    },
    "kernelspec": {
      "display_name": "Python 3",
      "name": "python3"
    },
    "language_info": {
      "name": "python"
    }
  },
  "nbformat": 4,
  "nbformat_minor": 0
}