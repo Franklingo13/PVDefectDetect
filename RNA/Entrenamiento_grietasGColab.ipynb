{
  "cells": [
    {
      "cell_type": "markdown",
      "metadata": {
        "id": "view-in-github",
        "colab_type": "text"
      },
      "source": [
        "<a href=\"https://colab.research.google.com/github/Franklingo13/PVDefectDetect/blob/main/RNA/Entrenamiento_grietasGColab.ipynb\" target=\"_parent\"><img src=\"https://colab.research.google.com/assets/colab-badge.svg\" alt=\"Open In Colab\"/></a>"
      ]
    },
    {
      "cell_type": "markdown",
      "metadata": {
        "id": "psMYf9fJG09O"
      },
      "source": [
        "Notebook para entrenamiento de redes neuronales convolucionales para clasificación de defectos en imágenes de celdas fotovoltaicas.\n",
        "Pensado para correr en Google Colab."
      ]
    },
    {
      "cell_type": "code",
      "execution_count": 1,
      "metadata": {
        "colab": {
          "base_uri": "https://localhost:8080/"
        },
        "id": "gbQ5zjRCG09Q",
        "outputId": "aaa2c853-c253-4680-9192-9de5b19570e6"
      },
      "outputs": [
        {
          "output_type": "stream",
          "name": "stdout",
          "text": [
            "Drive already mounted at /content/drive; to attempt to forcibly remount, call drive.mount(\"/content/drive\", force_remount=True).\n"
          ]
        }
      ],
      "source": [
        "# Conexión con Google Drive\n",
        "from google.colab import drive\n",
        "drive.mount('/content/drive')"
      ]
    },
    {
      "cell_type": "code",
      "execution_count": 2,
      "metadata": {
        "colab": {
          "base_uri": "https://localhost:8080/"
        },
        "id": "CffxGlC2G09S",
        "outputId": "ff9b5437-867b-48ab-a7ec-81bd873f255c"
      },
      "outputs": [
        {
          "output_type": "stream",
          "name": "stdout",
          "text": [
            "Requirement already satisfied: pv-vision in /usr/local/lib/python3.10/dist-packages (0.2.8)\n",
            "Requirement already satisfied: imutils>=0.5.4 in /usr/local/lib/python3.10/dist-packages (from pv-vision) (0.5.4)\n",
            "Requirement already satisfied: ipywidgets>=8.1.2 in /usr/local/lib/python3.10/dist-packages (from pv-vision) (8.1.3)\n",
            "Requirement already satisfied: joblib>=1.2.0 in /usr/local/lib/python3.10/dist-packages (from pv-vision) (1.4.2)\n",
            "Requirement already satisfied: matplotlib>=3.8.0 in /usr/local/lib/python3.10/dist-packages (from pv-vision) (3.9.1)\n",
            "Requirement already satisfied: opencv-python>=4.7.0.72 in /usr/local/lib/python3.10/dist-packages (from pv-vision) (4.8.0.76)\n",
            "Requirement already satisfied: scikit-learn>=1.3.0 in /usr/local/lib/python3.10/dist-packages (from pv-vision) (1.5.1)\n",
            "Requirement already satisfied: setuptools>=68.2.2 in /usr/local/lib/python3.10/dist-packages (from pv-vision) (71.1.0)\n",
            "Requirement already satisfied: torch>=2.2.0.post100 in /usr/local/lib/python3.10/dist-packages (from pv-vision) (2.3.1+cu121)\n",
            "Requirement already satisfied: torchvision>=0.15.2a0 in /usr/local/lib/python3.10/dist-packages (from pv-vision) (0.18.1+cu121)\n",
            "Requirement already satisfied: tqdm>=4.65.0 in /usr/local/lib/python3.10/dist-packages (from pv-vision) (4.66.4)\n",
            "Requirement already satisfied: comm>=0.1.3 in /usr/local/lib/python3.10/dist-packages (from ipywidgets>=8.1.2->pv-vision) (0.2.2)\n",
            "Requirement already satisfied: ipython>=6.1.0 in /usr/local/lib/python3.10/dist-packages (from ipywidgets>=8.1.2->pv-vision) (7.34.0)\n",
            "Requirement already satisfied: traitlets>=4.3.1 in /usr/local/lib/python3.10/dist-packages (from ipywidgets>=8.1.2->pv-vision) (5.7.1)\n",
            "Requirement already satisfied: widgetsnbextension~=4.0.11 in /usr/local/lib/python3.10/dist-packages (from ipywidgets>=8.1.2->pv-vision) (4.0.11)\n",
            "Requirement already satisfied: jupyterlab-widgets~=3.0.11 in /usr/local/lib/python3.10/dist-packages (from ipywidgets>=8.1.2->pv-vision) (3.0.11)\n",
            "Requirement already satisfied: contourpy>=1.0.1 in /usr/local/lib/python3.10/dist-packages (from matplotlib>=3.8.0->pv-vision) (1.2.1)\n",
            "Requirement already satisfied: cycler>=0.10 in /usr/local/lib/python3.10/dist-packages (from matplotlib>=3.8.0->pv-vision) (0.12.1)\n",
            "Requirement already satisfied: fonttools>=4.22.0 in /usr/local/lib/python3.10/dist-packages (from matplotlib>=3.8.0->pv-vision) (4.53.1)\n",
            "Requirement already satisfied: kiwisolver>=1.3.1 in /usr/local/lib/python3.10/dist-packages (from matplotlib>=3.8.0->pv-vision) (1.4.5)\n",
            "Requirement already satisfied: numpy>=1.23 in /usr/local/lib/python3.10/dist-packages (from matplotlib>=3.8.0->pv-vision) (1.25.2)\n",
            "Requirement already satisfied: packaging>=20.0 in /usr/local/lib/python3.10/dist-packages (from matplotlib>=3.8.0->pv-vision) (24.1)\n",
            "Requirement already satisfied: pillow>=8 in /usr/local/lib/python3.10/dist-packages (from matplotlib>=3.8.0->pv-vision) (9.4.0)\n",
            "Requirement already satisfied: pyparsing>=2.3.1 in /usr/local/lib/python3.10/dist-packages (from matplotlib>=3.8.0->pv-vision) (3.1.2)\n",
            "Requirement already satisfied: python-dateutil>=2.7 in /usr/local/lib/python3.10/dist-packages (from matplotlib>=3.8.0->pv-vision) (2.8.2)\n",
            "Requirement already satisfied: scipy>=1.6.0 in /usr/local/lib/python3.10/dist-packages (from scikit-learn>=1.3.0->pv-vision) (1.11.4)\n",
            "Requirement already satisfied: threadpoolctl>=3.1.0 in /usr/local/lib/python3.10/dist-packages (from scikit-learn>=1.3.0->pv-vision) (3.5.0)\n",
            "Requirement already satisfied: filelock in /usr/local/lib/python3.10/dist-packages (from torch>=2.2.0.post100->pv-vision) (3.15.4)\n",
            "Requirement already satisfied: typing-extensions>=4.8.0 in /usr/local/lib/python3.10/dist-packages (from torch>=2.2.0.post100->pv-vision) (4.12.2)\n",
            "Requirement already satisfied: sympy in /usr/local/lib/python3.10/dist-packages (from torch>=2.2.0.post100->pv-vision) (1.13.0)\n",
            "Requirement already satisfied: networkx in /usr/local/lib/python3.10/dist-packages (from torch>=2.2.0.post100->pv-vision) (3.3)\n",
            "Requirement already satisfied: jinja2 in /usr/local/lib/python3.10/dist-packages (from torch>=2.2.0.post100->pv-vision) (3.1.4)\n",
            "Requirement already satisfied: fsspec in /usr/local/lib/python3.10/dist-packages (from torch>=2.2.0.post100->pv-vision) (2023.6.0)\n",
            "Requirement already satisfied: nvidia-cuda-nvrtc-cu12==12.1.105 in /usr/local/lib/python3.10/dist-packages (from torch>=2.2.0.post100->pv-vision) (12.1.105)\n",
            "Requirement already satisfied: nvidia-cuda-runtime-cu12==12.1.105 in /usr/local/lib/python3.10/dist-packages (from torch>=2.2.0.post100->pv-vision) (12.1.105)\n",
            "Requirement already satisfied: nvidia-cuda-cupti-cu12==12.1.105 in /usr/local/lib/python3.10/dist-packages (from torch>=2.2.0.post100->pv-vision) (12.1.105)\n",
            "Requirement already satisfied: nvidia-cudnn-cu12==8.9.2.26 in /usr/local/lib/python3.10/dist-packages (from torch>=2.2.0.post100->pv-vision) (8.9.2.26)\n",
            "Requirement already satisfied: nvidia-cublas-cu12==12.1.3.1 in /usr/local/lib/python3.10/dist-packages (from torch>=2.2.0.post100->pv-vision) (12.1.3.1)\n",
            "Requirement already satisfied: nvidia-cufft-cu12==11.0.2.54 in /usr/local/lib/python3.10/dist-packages (from torch>=2.2.0.post100->pv-vision) (11.0.2.54)\n",
            "Requirement already satisfied: nvidia-curand-cu12==10.3.2.106 in /usr/local/lib/python3.10/dist-packages (from torch>=2.2.0.post100->pv-vision) (10.3.2.106)\n",
            "Requirement already satisfied: nvidia-cusolver-cu12==11.4.5.107 in /usr/local/lib/python3.10/dist-packages (from torch>=2.2.0.post100->pv-vision) (11.4.5.107)\n",
            "Requirement already satisfied: nvidia-cusparse-cu12==12.1.0.106 in /usr/local/lib/python3.10/dist-packages (from torch>=2.2.0.post100->pv-vision) (12.1.0.106)\n",
            "Requirement already satisfied: nvidia-nccl-cu12==2.20.5 in /usr/local/lib/python3.10/dist-packages (from torch>=2.2.0.post100->pv-vision) (2.20.5)\n",
            "Requirement already satisfied: nvidia-nvtx-cu12==12.1.105 in /usr/local/lib/python3.10/dist-packages (from torch>=2.2.0.post100->pv-vision) (12.1.105)\n",
            "Requirement already satisfied: triton==2.3.1 in /usr/local/lib/python3.10/dist-packages (from torch>=2.2.0.post100->pv-vision) (2.3.1)\n",
            "Requirement already satisfied: nvidia-nvjitlink-cu12 in /usr/local/lib/python3.10/dist-packages (from nvidia-cusolver-cu12==11.4.5.107->torch>=2.2.0.post100->pv-vision) (12.5.82)\n",
            "Requirement already satisfied: jedi>=0.16 in /usr/local/lib/python3.10/dist-packages (from ipython>=6.1.0->ipywidgets>=8.1.2->pv-vision) (0.19.1)\n",
            "Requirement already satisfied: decorator in /usr/local/lib/python3.10/dist-packages (from ipython>=6.1.0->ipywidgets>=8.1.2->pv-vision) (4.4.2)\n",
            "Requirement already satisfied: pickleshare in /usr/local/lib/python3.10/dist-packages (from ipython>=6.1.0->ipywidgets>=8.1.2->pv-vision) (0.7.5)\n",
            "Requirement already satisfied: prompt-toolkit!=3.0.0,!=3.0.1,<3.1.0,>=2.0.0 in /usr/local/lib/python3.10/dist-packages (from ipython>=6.1.0->ipywidgets>=8.1.2->pv-vision) (3.0.47)\n",
            "Requirement already satisfied: pygments in /usr/local/lib/python3.10/dist-packages (from ipython>=6.1.0->ipywidgets>=8.1.2->pv-vision) (2.16.1)\n",
            "Requirement already satisfied: backcall in /usr/local/lib/python3.10/dist-packages (from ipython>=6.1.0->ipywidgets>=8.1.2->pv-vision) (0.2.0)\n",
            "Requirement already satisfied: matplotlib-inline in /usr/local/lib/python3.10/dist-packages (from ipython>=6.1.0->ipywidgets>=8.1.2->pv-vision) (0.1.7)\n",
            "Requirement already satisfied: pexpect>4.3 in /usr/local/lib/python3.10/dist-packages (from ipython>=6.1.0->ipywidgets>=8.1.2->pv-vision) (4.9.0)\n",
            "Requirement already satisfied: six>=1.5 in /usr/local/lib/python3.10/dist-packages (from python-dateutil>=2.7->matplotlib>=3.8.0->pv-vision) (1.16.0)\n",
            "Requirement already satisfied: MarkupSafe>=2.0 in /usr/local/lib/python3.10/dist-packages (from jinja2->torch>=2.2.0.post100->pv-vision) (2.1.5)\n",
            "Requirement already satisfied: mpmath<1.4,>=1.1.0 in /usr/local/lib/python3.10/dist-packages (from sympy->torch>=2.2.0.post100->pv-vision) (1.3.0)\n",
            "Requirement already satisfied: parso<0.9.0,>=0.8.3 in /usr/local/lib/python3.10/dist-packages (from jedi>=0.16->ipython>=6.1.0->ipywidgets>=8.1.2->pv-vision) (0.8.4)\n",
            "Requirement already satisfied: ptyprocess>=0.5 in /usr/local/lib/python3.10/dist-packages (from pexpect>4.3->ipython>=6.1.0->ipywidgets>=8.1.2->pv-vision) (0.7.0)\n",
            "Requirement already satisfied: wcwidth in /usr/local/lib/python3.10/dist-packages (from prompt-toolkit!=3.0.0,!=3.0.1,<3.1.0,>=2.0.0->ipython>=6.1.0->ipywidgets>=8.1.2->pv-vision) (0.2.13)\n"
          ]
        }
      ],
      "source": [
        "# Importación de la librería de pv-vision\n",
        "!pip install pv-vision"
      ]
    },
    {
      "cell_type": "code",
      "source": [
        "# SPDX-License-Identifier: Apache-2.0\n",
        "#\n",
        "# Copyright (C) 2021 Supervisely\n",
        "#\n",
        "# This file is part of the Supervisely project and has been taken\n",
        "# from the Supervisely repository (https://github.com/supervisely/supervisely/blob/master/plugins/nn/unet_v2/src/unet.py).\n",
        "# It is being redistributed under the Apache License 2.0.\n",
        "#\n",
        "# You may obtain a copy of the License at\n",
        "#\n",
        "#     http://www.apache.org/licenses/LICENSE-2.0\n",
        "#\n",
        "# Unless required by applicable law or agreed to in writing, software\n",
        "# distributed under the License is distributed on an \"AS IS\" BASIS,\n",
        "# WITHOUT WARRANTIES OR CONDITIONS OF ANY KIND, either express or implied.\n",
        "# See the License for the specific language governing permissions and\n",
        "# limitations under the License.\n",
        "\n",
        "\n",
        "import torch\n",
        "from torch import nn\n",
        "from torchvision.models.vgg import vgg16_bn\n",
        "\n",
        "\n",
        "class ConvBNAct(nn.Module):\n",
        "    def __init__(self, in_channels, out_channels):\n",
        "        super().__init__()\n",
        "        self.seq = nn.Sequential(\n",
        "            nn.Conv2d(in_channels, out_channels,\n",
        "                      kernel_size=3, padding=1),\n",
        "            nn.BatchNorm2d(out_channels),\n",
        "            nn.ReLU(),\n",
        "        )\n",
        "\n",
        "    def forward(self, inputs):\n",
        "        return self.seq(inputs)\n",
        "\n",
        "\n",
        "class Block(nn.Module):\n",
        "    def __init__(self, src_channels, dst_channels):\n",
        "        super().__init__()\n",
        "        self.seq1 = ConvBNAct(src_channels, dst_channels)\n",
        "        self.seq2 = ConvBNAct(dst_channels, dst_channels)\n",
        "        self.seq3 = ConvBNAct(dst_channels, dst_channels)\n",
        "\n",
        "    def forward(self, x):\n",
        "        result = self.seq1(x)\n",
        "        result = self.seq2(result)\n",
        "        result = self.seq3(result)\n",
        "        return result\n",
        "\n",
        "\n",
        "class UNetUp(nn.Module):\n",
        "    def __init__(self, down_channels,  right_channels):\n",
        "        super().__init__()\n",
        "        self.bottom_up = nn.Upsample(scale_factor=2, mode='nearest')\n",
        "        self.conv = nn.Conv2d(down_channels, right_channels, kernel_size=1, stride=1)\n",
        "\n",
        "    def forward(self, left, bottom):\n",
        "        from_bottom = self.bottom_up(bottom)\n",
        "        from_bottom = self.conv(from_bottom)\n",
        "        result = torch.cat([left, from_bottom], 1)\n",
        "        return result\n",
        "\n",
        "\n",
        "class Bottleneck(nn.Module):\n",
        "    def __init__(self, in_channels, out_channels):\n",
        "        super().__init__()\n",
        "        self.conv = nn.Conv2d(in_channels, out_channels, kernel_size=(3, 3), dilation=2, padding=2)\n",
        "        self.bn = nn.BatchNorm2d(out_channels)\n",
        "        self.relu = nn.ReLU()\n",
        "        self.conv2 = nn.Conv2d(out_channels, out_channels, kernel_size=(3, 3), dilation=2, padding=2)\n",
        "        self.bn2 = nn.BatchNorm2d(out_channels)\n",
        "        self.relu2 = nn.ReLU()\n",
        "\n",
        "    def forward(self, x):\n",
        "        out = self.conv(x)\n",
        "        out = self.bn(out)\n",
        "        out = self.conv2(self.relu(out))\n",
        "        out = self.bn2(out)\n",
        "        return torch.cat((x, self.relu2(out)), dim=1)\n",
        "\n",
        "\n",
        "class UNet(nn.Module):\n",
        "\n",
        "    def __init__(self, encoder_blocks,  encoder_channels, n_cls):\n",
        "        self.encoder_channels = encoder_channels\n",
        "        self.depth = len(self.encoder_channels)\n",
        "        assert len(encoder_blocks) == self.depth\n",
        "        super().__init__()\n",
        "\n",
        "        self.encoder_blocks = nn.ModuleList(encoder_blocks)\n",
        "\n",
        "        self.blocks = nn.ModuleList()\n",
        "        # add bottleneck\n",
        "        self.blocks.append(Block(\n",
        "            self.encoder_channels[-1],\n",
        "            self.encoder_channels[-1]\n",
        "        ))\n",
        "\n",
        "        self.ups = nn.ModuleList()\n",
        "        for i in range(1, self.depth):\n",
        "            bottom_channels = self.encoder_channels[self.depth - i]\n",
        "            left_channels = self.encoder_channels[self.depth - i - 1]\n",
        "            right_channels = left_channels\n",
        "            self.ups.append(UNetUp(bottom_channels,  right_channels))\n",
        "            self.blocks.append(Block(\n",
        "                left_channels + right_channels,\n",
        "                right_channels\n",
        "            ))\n",
        "        self.last_conv = nn.Conv2d(encoder_channels[0], n_cls, 1)\n",
        "        # self.dropout = nn.Dropout2d(p=0.1)\n",
        "        self.bottle = Bottleneck(512, 512)\n",
        "\n",
        "    def forward(self, x):\n",
        "        encoder_outputs = []\n",
        "        for encoder_block in self.encoder_blocks:\n",
        "            x = encoder_block(x)\n",
        "            encoder_outputs.append(x)\n",
        "        x = self.bottle(encoder_outputs[self.depth - 1])\n",
        "        for i in range(self.depth):\n",
        "            if i > 0:\n",
        "                encoder_output = encoder_outputs[self.depth - i - 1]\n",
        "                x = self.ups[i - 1](encoder_output, x)\n",
        "                x = self.blocks[i](x)\n",
        "        # x = self.dropout(x)\n",
        "        x = self.last_conv(x)\n",
        "        return x  # no softmax or log_softmax\n",
        "\n",
        "\n",
        "def _get_encoder_blocks(model):\n",
        "    # last modules (ReLUs) of VGG blocks\n",
        "    layers_last_module_names = ['5', '12', '22', '32', '42']\n",
        "    result = []\n",
        "    cur_block = nn.Sequential()\n",
        "    for name, child in model.named_children():\n",
        "        if name == 'features':\n",
        "            for name2, child2 in child.named_children():\n",
        "                cur_block.add_module(name2, child2)\n",
        "                if name2 in layers_last_module_names:\n",
        "                    result.append(cur_block)\n",
        "                    cur_block = nn.Sequential()\n",
        "            break\n",
        "\n",
        "    return result\n",
        "\n",
        "\n",
        "def construct_unet(n_cls, pretrain=False):  # no weights inited\n",
        "    model = vgg16_bn(weights='DEFAULT')\n",
        "    encoder_blocks = _get_encoder_blocks(model)\n",
        "    encoder_channels = [64, 128, 256, 512, 1024]  # vgg16 channels\n",
        "    # prev_channels = encoder_channels[-1]\n",
        "\n",
        "    return UNet(encoder_blocks, encoder_channels, n_cls)\n"
      ],
      "metadata": {
        "id": "OhRFEtnDGxpJ"
      },
      "execution_count": 3,
      "outputs": []
    },
    {
      "cell_type": "code",
      "execution_count": 4,
      "metadata": {
        "id": "U_8l2-gnG09S"
      },
      "outputs": [],
      "source": [
        "# Importación de librerías\n",
        "import torch\n",
        "from torch.utils.data import Dataset, DataLoader\n",
        "from torchvision import transforms\n",
        "from torch.nn import DataParallel\n",
        "from torch.nn import CrossEntropyLoss\n",
        "from torch.optim import Adam\n",
        "from torch.optim.lr_scheduler import StepLR\n",
        "from torchvision.io import read_image, ImageReadMode\n",
        "from torchvision.datasets.vision import VisionDataset\n",
        "from torchvision.models.segmentation import deeplabv3_resnet50, DeepLabV3_ResNet50_Weights\n",
        "from torchvision.models.segmentation.deeplabv3 import DeepLabHead\n",
        "from torchvision.utils import draw_segmentation_masks\n",
        "import torchvision.transforms.functional as F\n",
        "\n",
        "import cv2 as cv\n",
        "import numpy as np\n",
        "\n",
        "import requests\n",
        "import copy\n",
        "#from unet_model import construct_unet\n",
        "from pathlib import Path\n",
        "from PIL import Image\n",
        "from imutils.paths import list_images\n",
        "import os"
      ]
    },
    {
      "cell_type": "code",
      "execution_count": 5,
      "metadata": {
        "id": "YVtXGzixG09T"
      },
      "outputs": [],
      "source": [
        "# Importar el manejador de modelo: ModelHandler\n",
        "from pv_vision.nn import ModelHandler"
      ]
    },
    {
      "cell_type": "code",
      "execution_count": 6,
      "metadata": {
        "id": "ia6yr7DDG09T"
      },
      "outputs": [],
      "source": [
        "# Definición de una clase para el conjunto de datos solar,\n",
        "# que hereda de la clase VisionDataset de PyTorch.\n",
        "class SolarDataset(VisionDataset):\n",
        "    \"\"\"Un conjunto de datos que lee directamente las imágenes y las máscaras desde una carpeta.\"\"\"\n",
        "\n",
        "    # Se definió el método de inicialización para la clase.\n",
        "    def __init__(self,\n",
        "                 root,\n",
        "                 image_folder,\n",
        "                 mask_folder,\n",
        "                 transforms,\n",
        "                 mode = \"train\",\n",
        "                 random_seed=42):\n",
        "        # Se llamó al método de inicialización de la clase padre.\n",
        "        super().__init__(root, transforms)\n",
        "        # Se establecieron las rutas a las carpetas de imágenes y máscaras.\n",
        "        self.image_path = Path(self.root) / image_folder\n",
        "        self.mask_path = Path(self.root) / mask_folder\n",
        "\n",
        "        # Se verificó que las carpetas de imágenes y máscaras existan.\n",
        "        if not os.path.exists(self.image_path):\n",
        "            raise OSError(f\"{self.image_path} no encontrado.\")\n",
        "\n",
        "        if not os.path.exists(self.mask_path):\n",
        "            raise OSError(f\"{self.mask_path} no encontrado.\")\n",
        "\n",
        "        # Se obtuvieron las listas de imágenes y máscaras y se ordenaron.\n",
        "        self.image_list = sorted(list(list_images(self.image_path)))\n",
        "        self.mask_list = sorted(list(list_images(self.mask_path)))\n",
        "\n",
        "        # Se convirtieron las listas de imágenes y máscaras a arrays de numpy.\n",
        "        self.image_list = np.array(self.image_list)\n",
        "        self.mask_list = np.array(self.mask_list)\n",
        "\n",
        "        # Se estableció la semilla para la generación de números aleatorios y se mezclaron las imágenes y las máscaras.\n",
        "        np.random.seed(random_seed)\n",
        "        index = np.arange(len(self.image_list))\n",
        "        np.random.shuffle(index)\n",
        "        self.image_list = self.image_list[index]\n",
        "        self.mask_list = self.mask_list[index]\n",
        "\n",
        "    # Se definió el método para obtener la longitud del conjunto de datos.\n",
        "    def __len__(self):\n",
        "        return len(self.image_list)\n",
        "\n",
        "    # Se definió un método para obtener el nombre de una imagen o máscara.\n",
        "    def __getname__(self, index):\n",
        "        image_name = os.path.splitext(os.path.split(self.image_list[index])[-1])[0]\n",
        "        mask_name = os.path.splitext(os.path.split(self.mask_list[index])[-1])[0]\n",
        "\n",
        "        if image_name == mask_name:\n",
        "            return image_name\n",
        "        else:\n",
        "            return False\n",
        "\n",
        "    # Se definió un método para obtener una imagen y su máscara correspondiente.\n",
        "    def __getraw__(self, index):\n",
        "        if not self.__getname__(index):\n",
        "            raise ValueError(\"{}: La imagen no coincide con la máscara\".format(os.path.split(self.image_list[index])[-1]))\n",
        "        image = Image.open(self.image_list[index])\n",
        "        mask = Image.open(self.mask_list[index]).convert('L')\n",
        "        mask = np.array(mask)\n",
        "        mask = Image.fromarray(mask)\n",
        "\n",
        "        return image, mask\n",
        "\n",
        "    # Se definió el método para obtener un elemento del conjunto de datos.\n",
        "    def __getitem__(self, index):\n",
        "        image, mask = self.__getraw__(index)\n",
        "        image, mask = self.transforms(image, mask)\n",
        "\n",
        "        return image, mask"
      ]
    },
    {
      "cell_type": "code",
      "execution_count": 7,
      "metadata": {
        "id": "t1nDW9d6G09T"
      },
      "outputs": [],
      "source": [
        "# Definición de una clase para componer varias transformaciones.\n",
        "class Compose:\n",
        "    def __init__(self, transforms):\n",
        "        \"\"\"\n",
        "        transforms: una lista de transformaciones\n",
        "        \"\"\"\n",
        "        self.transforms = transforms\n",
        "\n",
        "    # Se definió el método para aplicar las transformaciones a la imagen y la máscara.\n",
        "    def __call__(self, image, target):\n",
        "        \"\"\"\n",
        "        image: imagen de entrada\n",
        "        target: máscara de entrada\n",
        "        \"\"\"\n",
        "        for t in self.transforms:\n",
        "            image, target = t(image, target)\n",
        "        return image, target\n",
        "\n",
        "# Se definió una clase para redimensionar la imagen y la máscara a un tamaño fijo.\n",
        "class FixResize:\n",
        "    # UNet requiere que el tamaño de entrada sea múltiplo de 16\n",
        "    def __init__(self, size):\n",
        "        self.size = size\n",
        "\n",
        "    # Se definió el método para redimensionar la imagen y la máscara.\n",
        "    def __call__(self, image, target):\n",
        "        image = F.resize(image, (self.size, self.size), interpolation=transforms.InterpolationMode.BILINEAR)\n",
        "        target = F.resize(target, (self.size, self.size), interpolation=transforms.InterpolationMode.NEAREST)\n",
        "        return image, target\n",
        "\n",
        "# Se definió una clase para transformar la imagen y la máscara a tensores.\n",
        "class ToTensor:\n",
        "    \"\"\"Transforma la imagen a tensor. Escala la imagen a [0,1] float32.\n",
        "    Transforma la máscara a tensor.\n",
        "    \"\"\"\n",
        "    def __call__(self, image, target):\n",
        "        image = transforms.ToTensor()(image)\n",
        "        target = torch.as_tensor(np.array(target), dtype=torch.int64)\n",
        "        return image, target\n",
        "\n",
        "# Se definió una clase para transformar la imagen a tensor manteniendo el tipo original.\n",
        "class PILToTensor:\n",
        "    \"\"\"Transforma la imagen a tensor. Mantiene el tipo original.\"\"\"\n",
        "    def __call__(self, image, target):\n",
        "        image = F.pil_to_tensor(image)\n",
        "        target = torch.as_tensor(np.array(target), dtype=torch.int64)\n",
        "        return image, target\n",
        "\n",
        "# Se definió una clase para normalizar la imagen.\n",
        "class Normalize:\n",
        "    def __init__(self, mean=(0.485, 0.456, 0.406), std=(0.229, 0.224, 0.225)):\n",
        "        self.mean = mean\n",
        "        self.std = std\n",
        "\n",
        "    def __call__(self, image, target):\n",
        "        # Verifica si la imagen es en escala de grises (1 canal) y la convierte a RGB (3 canales) si es necesario\n",
        "        if image.shape[0] == 1:\n",
        "            image = image.repeat(3, 1, 1)  # Repite el canal existente 3 veces\n",
        "        image = F.normalize(image, mean=self.mean, std=self.std)\n",
        "        return image, target"
      ]
    },
    {
      "cell_type": "code",
      "execution_count": 8,
      "metadata": {
        "colab": {
          "base_uri": "https://localhost:8080/"
        },
        "id": "pRAdQ8o1G09U",
        "outputId": "dc1596dc-3be2-4aaa-b4af-75314f39341f"
      },
      "outputs": [
        {
          "output_type": "stream",
          "name": "stdout",
          "text": [
            "El conjunto de datos de entrenamiento contiene 1012 elementos.\n"
          ]
        }
      ],
      "source": [
        "# Ruta al directorio que contiene las imágenes y las máscaras.\n",
        "root = Path(\n",
        "    '/content/drive/MyDrive/Trabajo de titulación/PV_vision/Entrenamiento')\n",
        "\n",
        "# Se definen las transformaciones a aplicar a las imágenes y las etiquetas.\n",
        "transformers = Compose([FixResize(256), ToTensor(), Normalize()])\n",
        "#/content/drive/MyDrive/Trabajo de titulación/PV_vision/Entrenamiento/train/annotations\n",
        "#/content/drive/MyDrive/Trabajo de titulación/PV_vision/Entrenamiento/img_label_for_training/train\n",
        "# Se crean los conjuntos de datos de entrenamiento, validación y prueba.\n",
        "trainset = SolarDataset(root, image_folder=\"train/images\",\n",
        "        mask_folder=\"train/annotations\", transforms=transformers)\n",
        "\n",
        "valset = SolarDataset(root, image_folder=\"val/img\",\n",
        "        mask_folder=\"val/ann\", transforms=transformers)\n",
        "\n",
        "testset = SolarDataset(root, image_folder=\"test/img\",\n",
        "        mask_folder=\"test/ann\", transforms=transformers)\n",
        "\n",
        "# Verificación de que la carpeta haya sido establecida correctamente\n",
        "print(f\"El conjunto de datos de entrenamiento contiene {len(trainset)} elementos.\")"
      ]
    },
    {
      "cell_type": "code",
      "execution_count": null,
      "metadata": {
        "id": "KaZs0hwDG09U"
      },
      "outputs": [],
      "source": [
        "# Se define una función para crear un modelo DeepLab preentrenado.\n",
        "def DeepLab_pretrained(num_classes):\n",
        "    # Se carga el modelo DeepLab con una arquitectura ResNet50 preentrenada.\n",
        "    deeplab = deeplabv3_resnet50(weights=DeepLabV3_ResNet50_Weights.DEFAULT)\n",
        "\n",
        "    # Se reemplaza el clasificador del modelo con un nuevo clasificador DeepLabHead.\n",
        "    # El nuevo clasificador tiene 2048 características de entrada y 'num_classes' características de salida.\n",
        "    deeplab.classifier = DeepLabHead(2048, num_classes)\n",
        "\n",
        "    # Se devuelve el modelo modificado.\n",
        "    return deeplab"
      ]
    },
    {
      "cell_type": "code",
      "execution_count": 9,
      "metadata": {
        "id": "TZFPZp57F3wK"
      },
      "outputs": [],
      "source": [
        "# Crea una instancia del modelo U-Net con 5 canales de salida.\n",
        "# Número de canales de salida = al número de clases\n",
        "unet = construct_unet(5)\n",
        "# Se \"envuelve\" el modelo en un objeto DataParallel.\n",
        "# Esto permite que el modelo se ejecute en paralelo en múltiples GPUs, si están disponibles.\n",
        "unet = DataParallel(unet)"
      ]
    },
    {
      "cell_type": "code",
      "execution_count": 10,
      "metadata": {
        "colab": {
          "base_uri": "https://localhost:8080/"
        },
        "id": "Qnmr0nyOG09U",
        "outputId": "2e1f1e30-21b1-4cf4-988d-9e95a2d172fc"
      },
      "outputs": [
        {
          "output_type": "stream",
          "name": "stdout",
          "text": [
            "Dispositivo utilizado: cuda:0\n"
          ]
        }
      ],
      "source": [
        "# Se define el dispositivo en el que se ejecutará el modelo.\n",
        "device = torch.device(\"cuda:0\" if torch.cuda.is_available() else \"cpu\")\n",
        "# Se imprime el dispositivo utilizado.\n",
        "print(f\"Dispositivo utilizado: {device}\")\n",
        "\n",
        "# Se crea el modelo utilizando la función DeepLab_pretrained definida anteriormente.\n",
        "# El modelo se envuelve en un objeto DataParallel para permitir el entrenamiento en múltiples GPUs si están disponibles.\n",
        "#model = DataParallel(DeepLab_pretrained(5))\n",
        "\n",
        "# Se define la función de pérdida a utilizar durante el entrenamiento.\n",
        "# En este caso, se utiliza la pérdida de entropía cruzada.\n",
        "criterion = CrossEntropyLoss()\n",
        "\n",
        "# Se define el optimizador a utilizar durante el entrenamiento. En este caso, se utiliza Adam con una tasa de aprendizaje de 0.01.\n",
        "#optimizer = Adam(model.parameters(), lr=0.01)\n",
        "optimizer = Adam(unet.parameters(), lr=0.01)\n",
        "\n",
        "# Se define el programador de la tasa de aprendizaje a utilizar durante el entrenamiento.\n",
        "# En este caso, se utiliza un programador de paso que disminuye la tasa de aprendizaje en un factor de 0.2 cada 5 épocas.\n",
        "lr_scheduler = StepLR(optimizer, step_size=5, gamma=0.2)"
      ]
    },
    {
      "cell_type": "code",
      "execution_count": 13,
      "metadata": {
        "colab": {
          "base_uri": "https://localhost:8080/"
        },
        "id": "TjJv6uo4G09V",
        "outputId": "6e520c89-b98d-48ef-e72a-73977983eb45"
      },
      "outputs": [
        {
          "output_type": "stream",
          "name": "stderr",
          "text": [
            "INFO:pv_vision.nn.modelhandler:ModelHandler initialized.\n"
          ]
        }
      ],
      "source": [
        "# Se inicializa el manejador del modelo.\n",
        "# La salida se almacena en la carpeta de salida.\n",
        "modelhandler = ModelHandler(\n",
        "    # Se pasa el modelo que se va a entrenar.\n",
        "    #model=model,\n",
        "    model = unet,\n",
        "\n",
        "    # Se especifica el nombre de la carpeta de salida.\n",
        "    #model_output='out_unet',\n",
        "\n",
        "    # Se pasan los conjuntos de datos de entrenamiento, validación y prueba.\n",
        "    train_dataset=trainset,\n",
        "    val_dataset=valset,\n",
        "    test_dataset=testset,\n",
        "\n",
        "    # Se especifica el tamaño del lote para el entrenamiento y la validación.\n",
        "    batch_size_train=8,\n",
        "    batch_size_val=8,\n",
        "\n",
        "    # Se pasa el programador de la tasa de aprendizaje.\n",
        "    lr_scheduler=lr_scheduler,\n",
        "\n",
        "    # Se especifica el número de épocas para el entrenamiento.\n",
        "    num_epochs=10,\n",
        "\n",
        "    # Se pasa la función de pérdida y el optimizador.\n",
        "    criterion=criterion,\n",
        "    optimizer=optimizer,\n",
        "\n",
        "    # Se pasa el dispositivo en el que se ejecutará el entrenamiento.\n",
        "    device=device,\n",
        "\n",
        "    # Se especifica el directorio donde se guardarán los puntos de control del modelo.\n",
        "    save_dir='/content/drive/MyDrive/Trabajo de titulación/PV_vision/Entrenamiento/PuntosControl/checkpoints',\n",
        "\n",
        "    # Se especifica el nombre del archivo de punto de control.\n",
        "    save_name='/content/drive/MyDrive/Trabajo de titulación/PV_vision/Entrenamiento/PuntosControl/unet.pt'\n",
        ")"
      ]
    },
    {
      "cell_type": "code",
      "execution_count": 14,
      "metadata": {
        "colab": {
          "base_uri": "https://localhost:8080/"
        },
        "id": "X1SfRwQCG09V",
        "outputId": "75ebd144-2f5e-448b-96ac-286abb10690a"
      },
      "outputs": [
        {
          "output_type": "stream",
          "name": "stdout",
          "text": [
            "Epoch 1 / 10\n",
            "----------\n"
          ]
        },
        {
          "output_type": "stream",
          "name": "stderr",
          "text": [
            "  0%|          | 0/127 [00:00<?, ?it/s]INFO:pv_vision.nn.modelhandler:Train Epoch: 1 [0/1012 (0%)]\tLoss: 1.699033\n",
            "  8%|▊         | 10/127 [02:13<25:17, 12.97s/it]INFO:pv_vision.nn.modelhandler:Train Epoch: 1 [80/1012 (8%)]\tLoss: 0.294187\n",
            " 16%|█▌        | 20/127 [04:28<23:10, 13.00s/it]INFO:pv_vision.nn.modelhandler:Train Epoch: 1 [160/1012 (16%)]\tLoss: 0.191381\n",
            " 24%|██▎       | 30/127 [06:46<22:46, 14.09s/it]INFO:pv_vision.nn.modelhandler:Train Epoch: 1 [240/1012 (24%)]\tLoss: 0.201321\n",
            " 31%|███▏      | 40/127 [09:06<20:40, 14.26s/it]INFO:pv_vision.nn.modelhandler:Train Epoch: 1 [320/1012 (31%)]\tLoss: 0.151854\n",
            " 39%|███▉      | 50/127 [11:29<18:41, 14.57s/it]INFO:pv_vision.nn.modelhandler:Train Epoch: 1 [400/1012 (39%)]\tLoss: 0.087588\n",
            " 47%|████▋     | 60/127 [13:54<15:25, 13.81s/it]INFO:pv_vision.nn.modelhandler:Train Epoch: 1 [480/1012 (47%)]\tLoss: 0.133334\n",
            " 55%|█████▌    | 70/127 [16:14<13:54, 14.65s/it]INFO:pv_vision.nn.modelhandler:Train Epoch: 1 [560/1012 (55%)]\tLoss: 0.093750\n",
            " 63%|██████▎   | 80/127 [18:36<10:51, 13.86s/it]INFO:pv_vision.nn.modelhandler:Train Epoch: 1 [640/1012 (63%)]\tLoss: 0.039686\n",
            " 71%|███████   | 90/127 [20:55<08:48, 14.27s/it]INFO:pv_vision.nn.modelhandler:Train Epoch: 1 [720/1012 (71%)]\tLoss: 0.102554\n",
            " 79%|███████▊  | 100/127 [23:15<06:22, 14.15s/it]INFO:pv_vision.nn.modelhandler:Train Epoch: 1 [800/1012 (79%)]\tLoss: 0.145144\n",
            " 87%|████████▋ | 110/127 [25:27<03:29, 12.35s/it]INFO:pv_vision.nn.modelhandler:Train Epoch: 1 [880/1012 (87%)]\tLoss: 0.048814\n",
            " 94%|█████████▍| 120/127 [27:46<01:36, 13.83s/it]INFO:pv_vision.nn.modelhandler:Train Epoch: 1 [960/1012 (94%)]\tLoss: 0.073437\n",
            "100%|██████████| 127/127 [29:16<00:00, 13.83s/it]\n",
            "INFO:pv_vision.nn.modelhandler:Saved model at epoch 1\n",
            "100%|██████████| 20/20 [04:44<00:00, 14.25s/it]\n",
            "INFO:pv_vision.nn.modelhandler:Val epoch: 1 \tAverage loss: 0.6284\n"
          ]
        },
        {
          "output_type": "stream",
          "name": "stdout",
          "text": [
            "Loss: 0.1745 (train) | 0.6284 (val)\n",
            "Epoch 2 / 10\n",
            "----------\n"
          ]
        },
        {
          "output_type": "stream",
          "name": "stderr",
          "text": [
            "  0%|          | 0/127 [00:00<?, ?it/s]INFO:pv_vision.nn.modelhandler:Train Epoch: 2 [0/1012 (0%)]\tLoss: 0.083405\n",
            "  8%|▊         | 10/127 [00:06<01:13,  1.60it/s]INFO:pv_vision.nn.modelhandler:Train Epoch: 2 [80/1012 (8%)]\tLoss: 0.071144\n",
            " 16%|█▌        | 20/127 [00:12<01:08,  1.56it/s]INFO:pv_vision.nn.modelhandler:Train Epoch: 2 [160/1012 (16%)]\tLoss: 0.209116\n",
            " 24%|██▎       | 30/127 [00:19<01:02,  1.56it/s]INFO:pv_vision.nn.modelhandler:Train Epoch: 2 [240/1012 (24%)]\tLoss: 0.062182\n",
            " 31%|███▏      | 40/127 [00:25<00:55,  1.57it/s]INFO:pv_vision.nn.modelhandler:Train Epoch: 2 [320/1012 (31%)]\tLoss: 0.058936\n",
            " 39%|███▉      | 50/127 [00:31<00:48,  1.59it/s]INFO:pv_vision.nn.modelhandler:Train Epoch: 2 [400/1012 (39%)]\tLoss: 0.042388\n",
            " 47%|████▋     | 60/127 [00:38<00:41,  1.61it/s]INFO:pv_vision.nn.modelhandler:Train Epoch: 2 [480/1012 (47%)]\tLoss: 0.097273\n",
            " 55%|█████▌    | 70/127 [00:44<00:35,  1.63it/s]INFO:pv_vision.nn.modelhandler:Train Epoch: 2 [560/1012 (55%)]\tLoss: 0.079349\n",
            " 63%|██████▎   | 80/127 [00:50<00:28,  1.64it/s]INFO:pv_vision.nn.modelhandler:Train Epoch: 2 [640/1012 (63%)]\tLoss: 0.083646\n",
            " 71%|███████   | 90/127 [00:56<00:22,  1.64it/s]INFO:pv_vision.nn.modelhandler:Train Epoch: 2 [720/1012 (71%)]\tLoss: 0.087941\n",
            " 79%|███████▊  | 100/127 [01:03<00:16,  1.65it/s]INFO:pv_vision.nn.modelhandler:Train Epoch: 2 [800/1012 (79%)]\tLoss: 0.055426\n",
            " 87%|████████▋ | 110/127 [01:09<00:10,  1.64it/s]INFO:pv_vision.nn.modelhandler:Train Epoch: 2 [880/1012 (87%)]\tLoss: 0.070164\n",
            " 94%|█████████▍| 120/127 [01:15<00:04,  1.65it/s]INFO:pv_vision.nn.modelhandler:Train Epoch: 2 [960/1012 (94%)]\tLoss: 0.060220\n",
            "100%|██████████| 127/127 [01:19<00:00,  1.59it/s]\n",
            "INFO:pv_vision.nn.modelhandler:Saved model at epoch 2\n",
            "100%|██████████| 20/20 [00:05<00:00,  3.77it/s]\n",
            "INFO:pv_vision.nn.modelhandler:Val epoch: 2 \tAverage loss: 0.7166\n"
          ]
        },
        {
          "output_type": "stream",
          "name": "stdout",
          "text": [
            "Loss: 0.0826 (train) | 0.7166 (val)\n",
            "Epoch 3 / 10\n",
            "----------\n"
          ]
        },
        {
          "output_type": "stream",
          "name": "stderr",
          "text": [
            "  0%|          | 0/127 [00:00<?, ?it/s]INFO:pv_vision.nn.modelhandler:Train Epoch: 3 [0/1012 (0%)]\tLoss: 0.079343\n",
            "  8%|▊         | 10/127 [00:05<01:11,  1.64it/s]INFO:pv_vision.nn.modelhandler:Train Epoch: 3 [80/1012 (8%)]\tLoss: 0.085495\n",
            " 16%|█▌        | 20/127 [00:12<01:05,  1.63it/s]INFO:pv_vision.nn.modelhandler:Train Epoch: 3 [160/1012 (16%)]\tLoss: 0.103735\n",
            " 24%|██▎       | 30/127 [00:18<00:59,  1.62it/s]INFO:pv_vision.nn.modelhandler:Train Epoch: 3 [240/1012 (24%)]\tLoss: 0.058364\n",
            " 31%|███▏      | 40/127 [00:24<00:53,  1.61it/s]INFO:pv_vision.nn.modelhandler:Train Epoch: 3 [320/1012 (31%)]\tLoss: 0.045534\n",
            " 39%|███▉      | 50/127 [00:30<00:47,  1.61it/s]INFO:pv_vision.nn.modelhandler:Train Epoch: 3 [400/1012 (39%)]\tLoss: 0.055345\n",
            " 47%|████▋     | 60/127 [00:37<00:41,  1.61it/s]INFO:pv_vision.nn.modelhandler:Train Epoch: 3 [480/1012 (47%)]\tLoss: 0.065517\n",
            " 55%|█████▌    | 70/127 [00:43<00:35,  1.60it/s]INFO:pv_vision.nn.modelhandler:Train Epoch: 3 [560/1012 (55%)]\tLoss: 0.067498\n",
            " 63%|██████▎   | 80/127 [00:49<00:29,  1.61it/s]INFO:pv_vision.nn.modelhandler:Train Epoch: 3 [640/1012 (63%)]\tLoss: 0.083715\n",
            " 71%|███████   | 90/127 [00:56<00:22,  1.62it/s]INFO:pv_vision.nn.modelhandler:Train Epoch: 3 [720/1012 (71%)]\tLoss: 0.063356\n",
            " 79%|███████▊  | 100/127 [01:02<00:16,  1.62it/s]INFO:pv_vision.nn.modelhandler:Train Epoch: 3 [800/1012 (79%)]\tLoss: 0.095292\n",
            " 87%|████████▋ | 110/127 [01:08<00:10,  1.63it/s]INFO:pv_vision.nn.modelhandler:Train Epoch: 3 [880/1012 (87%)]\tLoss: 0.074217\n",
            " 94%|█████████▍| 120/127 [01:14<00:04,  1.63it/s]INFO:pv_vision.nn.modelhandler:Train Epoch: 3 [960/1012 (94%)]\tLoss: 0.054743\n",
            "100%|██████████| 127/127 [01:19<00:00,  1.60it/s]\n",
            "INFO:pv_vision.nn.modelhandler:Saved model at epoch 3\n",
            "100%|██████████| 20/20 [00:05<00:00,  3.82it/s]\n",
            "INFO:pv_vision.nn.modelhandler:Val epoch: 3 \tAverage loss: 7.4440\n"
          ]
        },
        {
          "output_type": "stream",
          "name": "stdout",
          "text": [
            "Loss: 0.0729 (train) | 7.4440 (val)\n",
            "Epoch 4 / 10\n",
            "----------\n"
          ]
        },
        {
          "output_type": "stream",
          "name": "stderr",
          "text": [
            "  0%|          | 0/127 [00:00<?, ?it/s]INFO:pv_vision.nn.modelhandler:Train Epoch: 4 [0/1012 (0%)]\tLoss: 0.054525\n",
            "  8%|▊         | 10/127 [00:05<01:11,  1.63it/s]INFO:pv_vision.nn.modelhandler:Train Epoch: 4 [80/1012 (8%)]\tLoss: 0.087541\n",
            " 16%|█▌        | 20/127 [00:12<01:05,  1.63it/s]INFO:pv_vision.nn.modelhandler:Train Epoch: 4 [160/1012 (16%)]\tLoss: 0.076913\n",
            " 24%|██▎       | 30/127 [00:18<00:59,  1.63it/s]INFO:pv_vision.nn.modelhandler:Train Epoch: 4 [240/1012 (24%)]\tLoss: 0.082265\n",
            " 31%|███▏      | 40/127 [00:24<00:53,  1.63it/s]INFO:pv_vision.nn.modelhandler:Train Epoch: 4 [320/1012 (31%)]\tLoss: 0.049336\n",
            " 39%|███▉      | 50/127 [00:30<00:47,  1.63it/s]INFO:pv_vision.nn.modelhandler:Train Epoch: 4 [400/1012 (39%)]\tLoss: 0.069293\n",
            " 47%|████▋     | 60/127 [00:37<00:41,  1.62it/s]INFO:pv_vision.nn.modelhandler:Train Epoch: 4 [480/1012 (47%)]\tLoss: 0.080217\n",
            " 55%|█████▌    | 70/127 [00:43<00:35,  1.62it/s]INFO:pv_vision.nn.modelhandler:Train Epoch: 4 [560/1012 (55%)]\tLoss: 0.064636\n",
            " 63%|██████▎   | 80/127 [00:49<00:28,  1.62it/s]INFO:pv_vision.nn.modelhandler:Train Epoch: 4 [640/1012 (63%)]\tLoss: 0.080465\n",
            " 71%|███████   | 90/127 [00:55<00:22,  1.62it/s]INFO:pv_vision.nn.modelhandler:Train Epoch: 4 [720/1012 (71%)]\tLoss: 0.093517\n",
            " 79%|███████▊  | 100/127 [01:02<00:16,  1.62it/s]INFO:pv_vision.nn.modelhandler:Train Epoch: 4 [800/1012 (79%)]\tLoss: 0.033334\n",
            " 87%|████████▋ | 110/127 [01:08<00:10,  1.62it/s]INFO:pv_vision.nn.modelhandler:Train Epoch: 4 [880/1012 (87%)]\tLoss: 0.066290\n",
            " 94%|█████████▍| 120/127 [01:14<00:04,  1.62it/s]INFO:pv_vision.nn.modelhandler:Train Epoch: 4 [960/1012 (94%)]\tLoss: 0.105210\n",
            "100%|██████████| 127/127 [01:19<00:00,  1.61it/s]\n",
            "INFO:pv_vision.nn.modelhandler:Saved model at epoch 4\n",
            "100%|██████████| 20/20 [00:05<00:00,  3.52it/s]\n",
            "INFO:pv_vision.nn.modelhandler:Val epoch: 4 \tAverage loss: 1.4418\n"
          ]
        },
        {
          "output_type": "stream",
          "name": "stdout",
          "text": [
            "Loss: 0.0715 (train) | 1.4418 (val)\n",
            "Epoch 5 / 10\n",
            "----------\n"
          ]
        },
        {
          "output_type": "stream",
          "name": "stderr",
          "text": [
            "  0%|          | 0/127 [00:00<?, ?it/s]INFO:pv_vision.nn.modelhandler:Train Epoch: 5 [0/1012 (0%)]\tLoss: 0.061282\n",
            "  8%|▊         | 10/127 [00:05<01:11,  1.64it/s]INFO:pv_vision.nn.modelhandler:Train Epoch: 5 [80/1012 (8%)]\tLoss: 0.105020\n",
            " 16%|█▌        | 20/127 [00:12<01:05,  1.63it/s]INFO:pv_vision.nn.modelhandler:Train Epoch: 5 [160/1012 (16%)]\tLoss: 0.056139\n",
            " 24%|██▎       | 30/127 [00:18<00:59,  1.63it/s]INFO:pv_vision.nn.modelhandler:Train Epoch: 5 [240/1012 (24%)]\tLoss: 0.092887\n",
            " 31%|███▏      | 40/127 [00:24<00:53,  1.63it/s]INFO:pv_vision.nn.modelhandler:Train Epoch: 5 [320/1012 (31%)]\tLoss: 0.108032\n",
            " 39%|███▉      | 50/127 [00:30<00:47,  1.62it/s]INFO:pv_vision.nn.modelhandler:Train Epoch: 5 [400/1012 (39%)]\tLoss: 0.056348\n",
            " 47%|████▋     | 60/127 [00:37<00:41,  1.63it/s]INFO:pv_vision.nn.modelhandler:Train Epoch: 5 [480/1012 (47%)]\tLoss: 0.084414\n",
            " 55%|█████▌    | 70/127 [00:43<00:35,  1.62it/s]INFO:pv_vision.nn.modelhandler:Train Epoch: 5 [560/1012 (55%)]\tLoss: 0.035175\n",
            " 63%|██████▎   | 80/127 [00:49<00:28,  1.63it/s]INFO:pv_vision.nn.modelhandler:Train Epoch: 5 [640/1012 (63%)]\tLoss: 0.091230\n",
            " 71%|███████   | 90/127 [00:55<00:22,  1.63it/s]INFO:pv_vision.nn.modelhandler:Train Epoch: 5 [720/1012 (71%)]\tLoss: 0.045293\n",
            " 79%|███████▊  | 100/127 [01:02<00:16,  1.63it/s]INFO:pv_vision.nn.modelhandler:Train Epoch: 5 [800/1012 (79%)]\tLoss: 0.054805\n",
            " 87%|████████▋ | 110/127 [01:08<00:10,  1.63it/s]INFO:pv_vision.nn.modelhandler:Train Epoch: 5 [880/1012 (87%)]\tLoss: 0.051396\n",
            " 94%|█████████▍| 120/127 [01:14<00:04,  1.63it/s]INFO:pv_vision.nn.modelhandler:Train Epoch: 5 [960/1012 (94%)]\tLoss: 0.073904\n",
            "100%|██████████| 127/127 [01:18<00:00,  1.61it/s]\n",
            "INFO:pv_vision.nn.modelhandler:Saved model at epoch 5\n",
            "100%|██████████| 20/20 [00:05<00:00,  3.61it/s]\n",
            "INFO:pv_vision.nn.modelhandler:Val epoch: 5 \tAverage loss: 0.5967\n"
          ]
        },
        {
          "output_type": "stream",
          "name": "stdout",
          "text": [
            "Loss: 0.0655 (train) | 0.5967 (val)\n",
            "Epoch 6 / 10\n",
            "----------\n"
          ]
        },
        {
          "output_type": "stream",
          "name": "stderr",
          "text": [
            "  0%|          | 0/127 [00:00<?, ?it/s]INFO:pv_vision.nn.modelhandler:Train Epoch: 6 [0/1012 (0%)]\tLoss: 0.123633\n",
            "  8%|▊         | 10/127 [00:05<01:11,  1.63it/s]INFO:pv_vision.nn.modelhandler:Train Epoch: 6 [80/1012 (8%)]\tLoss: 0.056744\n",
            " 16%|█▌        | 20/127 [00:12<01:05,  1.63it/s]INFO:pv_vision.nn.modelhandler:Train Epoch: 6 [160/1012 (16%)]\tLoss: 0.071639\n",
            " 24%|██▎       | 30/127 [00:18<00:59,  1.62it/s]INFO:pv_vision.nn.modelhandler:Train Epoch: 6 [240/1012 (24%)]\tLoss: 0.049632\n",
            " 31%|███▏      | 40/127 [00:24<00:53,  1.63it/s]INFO:pv_vision.nn.modelhandler:Train Epoch: 6 [320/1012 (31%)]\tLoss: 0.073331\n",
            " 39%|███▉      | 50/127 [00:31<00:47,  1.62it/s]INFO:pv_vision.nn.modelhandler:Train Epoch: 6 [400/1012 (39%)]\tLoss: 0.045624\n",
            " 47%|████▋     | 60/127 [00:37<00:41,  1.62it/s]INFO:pv_vision.nn.modelhandler:Train Epoch: 6 [480/1012 (47%)]\tLoss: 0.037444\n",
            " 55%|█████▌    | 70/127 [00:43<00:35,  1.62it/s]INFO:pv_vision.nn.modelhandler:Train Epoch: 6 [560/1012 (55%)]\tLoss: 0.048072\n",
            " 63%|██████▎   | 80/127 [00:49<00:28,  1.62it/s]INFO:pv_vision.nn.modelhandler:Train Epoch: 6 [640/1012 (63%)]\tLoss: 0.042321\n",
            " 71%|███████   | 90/127 [00:56<00:22,  1.63it/s]INFO:pv_vision.nn.modelhandler:Train Epoch: 6 [720/1012 (71%)]\tLoss: 0.027662\n",
            " 79%|███████▊  | 100/127 [01:02<00:16,  1.62it/s]INFO:pv_vision.nn.modelhandler:Train Epoch: 6 [800/1012 (79%)]\tLoss: 0.028331\n",
            " 87%|████████▋ | 110/127 [01:08<00:10,  1.62it/s]INFO:pv_vision.nn.modelhandler:Train Epoch: 6 [880/1012 (87%)]\tLoss: 0.033604\n",
            " 94%|█████████▍| 120/127 [01:14<00:04,  1.62it/s]INFO:pv_vision.nn.modelhandler:Train Epoch: 6 [960/1012 (94%)]\tLoss: 0.027325\n",
            "100%|██████████| 127/127 [01:19<00:00,  1.61it/s]\n",
            "INFO:pv_vision.nn.modelhandler:Saved model at epoch 6\n",
            "100%|██████████| 20/20 [00:05<00:00,  3.67it/s]\n",
            "INFO:pv_vision.nn.modelhandler:Val epoch: 6 \tAverage loss: 0.6814\n"
          ]
        },
        {
          "output_type": "stream",
          "name": "stdout",
          "text": [
            "Loss: 0.0577 (train) | 0.6814 (val)\n",
            "Epoch 7 / 10\n",
            "----------\n"
          ]
        },
        {
          "output_type": "stream",
          "name": "stderr",
          "text": [
            "  0%|          | 0/127 [00:00<?, ?it/s]INFO:pv_vision.nn.modelhandler:Train Epoch: 7 [0/1012 (0%)]\tLoss: 0.127746\n",
            "  8%|▊         | 10/127 [00:05<01:11,  1.63it/s]INFO:pv_vision.nn.modelhandler:Train Epoch: 7 [80/1012 (8%)]\tLoss: 0.037206\n",
            " 16%|█▌        | 20/127 [00:12<01:05,  1.62it/s]INFO:pv_vision.nn.modelhandler:Train Epoch: 7 [160/1012 (16%)]\tLoss: 0.069449\n",
            " 24%|██▎       | 30/127 [00:18<01:00,  1.61it/s]INFO:pv_vision.nn.modelhandler:Train Epoch: 7 [240/1012 (24%)]\tLoss: 0.034175\n",
            " 31%|███▏      | 40/127 [00:24<00:53,  1.62it/s]INFO:pv_vision.nn.modelhandler:Train Epoch: 7 [320/1012 (31%)]\tLoss: 0.049913\n",
            " 39%|███▉      | 50/127 [00:31<00:47,  1.62it/s]INFO:pv_vision.nn.modelhandler:Train Epoch: 7 [400/1012 (39%)]\tLoss: 0.050997\n",
            " 47%|████▋     | 60/127 [00:37<00:41,  1.61it/s]INFO:pv_vision.nn.modelhandler:Train Epoch: 7 [480/1012 (47%)]\tLoss: 0.049338\n",
            " 55%|█████▌    | 70/127 [00:43<00:35,  1.62it/s]INFO:pv_vision.nn.modelhandler:Train Epoch: 7 [560/1012 (55%)]\tLoss: 0.033856\n",
            " 63%|██████▎   | 80/127 [00:49<00:29,  1.62it/s]INFO:pv_vision.nn.modelhandler:Train Epoch: 7 [640/1012 (63%)]\tLoss: 0.058440\n",
            " 71%|███████   | 90/127 [00:56<00:22,  1.62it/s]INFO:pv_vision.nn.modelhandler:Train Epoch: 7 [720/1012 (71%)]\tLoss: 0.054539\n",
            " 79%|███████▊  | 100/127 [01:02<00:16,  1.61it/s]INFO:pv_vision.nn.modelhandler:Train Epoch: 7 [800/1012 (79%)]\tLoss: 0.068890\n",
            " 87%|████████▋ | 110/127 [01:08<00:10,  1.62it/s]INFO:pv_vision.nn.modelhandler:Train Epoch: 7 [880/1012 (87%)]\tLoss: 0.066769\n",
            " 94%|█████████▍| 120/127 [01:15<00:04,  1.61it/s]INFO:pv_vision.nn.modelhandler:Train Epoch: 7 [960/1012 (94%)]\tLoss: 0.069275\n",
            "100%|██████████| 127/127 [01:19<00:00,  1.60it/s]\n",
            "INFO:pv_vision.nn.modelhandler:Saved model at epoch 7\n",
            "100%|██████████| 20/20 [00:05<00:00,  3.78it/s]\n",
            "INFO:pv_vision.nn.modelhandler:Val epoch: 7 \tAverage loss: 0.6553\n"
          ]
        },
        {
          "output_type": "stream",
          "name": "stdout",
          "text": [
            "Loss: 0.0506 (train) | 0.6553 (val)\n",
            "Epoch 8 / 10\n",
            "----------\n"
          ]
        },
        {
          "output_type": "stream",
          "name": "stderr",
          "text": [
            "  0%|          | 0/127 [00:00<?, ?it/s]INFO:pv_vision.nn.modelhandler:Train Epoch: 8 [0/1012 (0%)]\tLoss: 0.031181\n",
            "  8%|▊         | 10/127 [00:05<01:12,  1.61it/s]INFO:pv_vision.nn.modelhandler:Train Epoch: 8 [80/1012 (8%)]\tLoss: 0.025799\n",
            " 16%|█▌        | 20/127 [00:12<01:06,  1.62it/s]INFO:pv_vision.nn.modelhandler:Train Epoch: 8 [160/1012 (16%)]\tLoss: 0.062027\n",
            " 24%|██▎       | 30/127 [00:18<01:00,  1.61it/s]INFO:pv_vision.nn.modelhandler:Train Epoch: 8 [240/1012 (24%)]\tLoss: 0.047841\n",
            " 31%|███▏      | 40/127 [00:24<00:53,  1.61it/s]INFO:pv_vision.nn.modelhandler:Train Epoch: 8 [320/1012 (31%)]\tLoss: 0.036034\n",
            " 39%|███▉      | 50/127 [00:31<00:47,  1.61it/s]INFO:pv_vision.nn.modelhandler:Train Epoch: 8 [400/1012 (39%)]\tLoss: 0.037646\n",
            " 47%|████▋     | 60/127 [00:37<00:41,  1.62it/s]INFO:pv_vision.nn.modelhandler:Train Epoch: 8 [480/1012 (47%)]\tLoss: 0.060898\n",
            " 55%|█████▌    | 70/127 [00:43<00:35,  1.61it/s]INFO:pv_vision.nn.modelhandler:Train Epoch: 8 [560/1012 (55%)]\tLoss: 0.029880\n",
            " 63%|██████▎   | 80/127 [00:49<00:29,  1.61it/s]INFO:pv_vision.nn.modelhandler:Train Epoch: 8 [640/1012 (63%)]\tLoss: 0.036245\n",
            " 71%|███████   | 90/127 [00:56<00:22,  1.62it/s]INFO:pv_vision.nn.modelhandler:Train Epoch: 8 [720/1012 (71%)]\tLoss: 0.042690\n",
            " 79%|███████▊  | 100/127 [01:02<00:16,  1.62it/s]INFO:pv_vision.nn.modelhandler:Train Epoch: 8 [800/1012 (79%)]\tLoss: 0.031846\n",
            " 87%|████████▋ | 110/127 [01:08<00:10,  1.62it/s]INFO:pv_vision.nn.modelhandler:Train Epoch: 8 [880/1012 (87%)]\tLoss: 0.031790\n",
            " 94%|█████████▍| 120/127 [01:15<00:04,  1.62it/s]INFO:pv_vision.nn.modelhandler:Train Epoch: 8 [960/1012 (94%)]\tLoss: 0.046508\n",
            "100%|██████████| 127/127 [01:19<00:00,  1.60it/s]\n",
            "INFO:pv_vision.nn.modelhandler:Saved model at epoch 8\n",
            "100%|██████████| 20/20 [00:05<00:00,  3.75it/s]\n",
            "INFO:pv_vision.nn.modelhandler:Val epoch: 8 \tAverage loss: 0.6295\n"
          ]
        },
        {
          "output_type": "stream",
          "name": "stdout",
          "text": [
            "Loss: 0.0476 (train) | 0.6295 (val)\n",
            "Epoch 9 / 10\n",
            "----------\n"
          ]
        },
        {
          "output_type": "stream",
          "name": "stderr",
          "text": [
            "  0%|          | 0/127 [00:00<?, ?it/s]INFO:pv_vision.nn.modelhandler:Train Epoch: 9 [0/1012 (0%)]\tLoss: 0.060656\n",
            "  8%|▊         | 10/127 [00:06<01:12,  1.62it/s]INFO:pv_vision.nn.modelhandler:Train Epoch: 9 [80/1012 (8%)]\tLoss: 0.025601\n",
            " 16%|█▌        | 20/127 [00:12<01:06,  1.61it/s]INFO:pv_vision.nn.modelhandler:Train Epoch: 9 [160/1012 (16%)]\tLoss: 0.047269\n",
            " 24%|██▎       | 30/127 [00:18<01:00,  1.62it/s]INFO:pv_vision.nn.modelhandler:Train Epoch: 9 [240/1012 (24%)]\tLoss: 0.043657\n",
            " 31%|███▏      | 40/127 [00:24<00:53,  1.61it/s]INFO:pv_vision.nn.modelhandler:Train Epoch: 9 [320/1012 (31%)]\tLoss: 0.039479\n",
            " 39%|███▉      | 50/127 [00:31<00:47,  1.61it/s]INFO:pv_vision.nn.modelhandler:Train Epoch: 9 [400/1012 (39%)]\tLoss: 0.081044\n",
            " 47%|████▋     | 60/127 [00:37<00:41,  1.61it/s]INFO:pv_vision.nn.modelhandler:Train Epoch: 9 [480/1012 (47%)]\tLoss: 0.063665\n",
            " 55%|█████▌    | 70/127 [00:43<00:35,  1.62it/s]INFO:pv_vision.nn.modelhandler:Train Epoch: 9 [560/1012 (55%)]\tLoss: 0.042416\n",
            " 63%|██████▎   | 80/127 [00:49<00:29,  1.61it/s]INFO:pv_vision.nn.modelhandler:Train Epoch: 9 [640/1012 (63%)]\tLoss: 0.037648\n",
            " 71%|███████   | 90/127 [00:56<00:23,  1.61it/s]INFO:pv_vision.nn.modelhandler:Train Epoch: 9 [720/1012 (71%)]\tLoss: 0.043910\n",
            " 79%|███████▊  | 100/127 [01:02<00:16,  1.61it/s]INFO:pv_vision.nn.modelhandler:Train Epoch: 9 [800/1012 (79%)]\tLoss: 0.048305\n",
            " 87%|████████▋ | 110/127 [01:08<00:10,  1.61it/s]INFO:pv_vision.nn.modelhandler:Train Epoch: 9 [880/1012 (87%)]\tLoss: 0.022446\n",
            " 94%|█████████▍| 120/127 [01:15<00:04,  1.62it/s]INFO:pv_vision.nn.modelhandler:Train Epoch: 9 [960/1012 (94%)]\tLoss: 0.042883\n",
            "100%|██████████| 127/127 [01:19<00:00,  1.60it/s]\n",
            "INFO:pv_vision.nn.modelhandler:Saved model at epoch 9\n",
            "100%|██████████| 20/20 [00:05<00:00,  3.74it/s]\n",
            "INFO:pv_vision.nn.modelhandler:Val epoch: 9 \tAverage loss: 0.6274\n"
          ]
        },
        {
          "output_type": "stream",
          "name": "stdout",
          "text": [
            "Loss: 0.0458 (train) | 0.6274 (val)\n",
            "Epoch 10 / 10\n",
            "----------\n"
          ]
        },
        {
          "output_type": "stream",
          "name": "stderr",
          "text": [
            "  0%|          | 0/127 [00:00<?, ?it/s]INFO:pv_vision.nn.modelhandler:Train Epoch: 10 [0/1012 (0%)]\tLoss: 0.039276\n",
            "  8%|▊         | 10/127 [00:05<01:12,  1.62it/s]INFO:pv_vision.nn.modelhandler:Train Epoch: 10 [80/1012 (8%)]\tLoss: 0.023317\n",
            " 16%|█▌        | 20/127 [00:12<01:06,  1.62it/s]INFO:pv_vision.nn.modelhandler:Train Epoch: 10 [160/1012 (16%)]\tLoss: 0.033021\n",
            " 24%|██▎       | 30/127 [00:18<01:00,  1.62it/s]INFO:pv_vision.nn.modelhandler:Train Epoch: 10 [240/1012 (24%)]\tLoss: 0.052735\n",
            " 31%|███▏      | 40/127 [00:24<00:53,  1.61it/s]INFO:pv_vision.nn.modelhandler:Train Epoch: 10 [320/1012 (31%)]\tLoss: 0.025197\n",
            " 39%|███▉      | 50/127 [00:31<00:47,  1.61it/s]INFO:pv_vision.nn.modelhandler:Train Epoch: 10 [400/1012 (39%)]\tLoss: 0.033690\n",
            " 47%|████▋     | 60/127 [00:37<00:41,  1.61it/s]INFO:pv_vision.nn.modelhandler:Train Epoch: 10 [480/1012 (47%)]\tLoss: 0.026346\n",
            " 55%|█████▌    | 70/127 [00:43<00:35,  1.61it/s]INFO:pv_vision.nn.modelhandler:Train Epoch: 10 [560/1012 (55%)]\tLoss: 0.038079\n",
            " 63%|██████▎   | 80/127 [00:49<00:29,  1.61it/s]INFO:pv_vision.nn.modelhandler:Train Epoch: 10 [640/1012 (63%)]\tLoss: 0.034126\n",
            " 71%|███████   | 90/127 [00:56<00:22,  1.61it/s]INFO:pv_vision.nn.modelhandler:Train Epoch: 10 [720/1012 (71%)]\tLoss: 0.042912\n",
            " 79%|███████▊  | 100/127 [01:02<00:16,  1.61it/s]INFO:pv_vision.nn.modelhandler:Train Epoch: 10 [800/1012 (79%)]\tLoss: 0.040622\n",
            " 87%|████████▋ | 110/127 [01:08<00:10,  1.61it/s]INFO:pv_vision.nn.modelhandler:Train Epoch: 10 [880/1012 (87%)]\tLoss: 0.028100\n",
            " 94%|█████████▍| 120/127 [01:15<00:04,  1.61it/s]INFO:pv_vision.nn.modelhandler:Train Epoch: 10 [960/1012 (94%)]\tLoss: 0.058285\n",
            "100%|██████████| 127/127 [01:19<00:00,  1.60it/s]\n",
            "INFO:pv_vision.nn.modelhandler:Saved model at epoch 10\n",
            "100%|██████████| 20/20 [00:05<00:00,  3.82it/s]\n",
            "INFO:pv_vision.nn.modelhandler:Val epoch: 10 \tAverage loss: 0.6839\n"
          ]
        },
        {
          "output_type": "stream",
          "name": "stdout",
          "text": [
            "Loss: 0.0433 (train) | 0.6839 (val)\n"
          ]
        },
        {
          "output_type": "execute_result",
          "data": {
            "text/plain": [
              "{'train': {'loss': [0.17446107473298023,\n",
              "   0.0826398823925629,\n",
              "   0.07289011131515616,\n",
              "   0.07146774048331699,\n",
              "   0.06550930022250993,\n",
              "   0.05768502268042018,\n",
              "   0.05063847609953918,\n",
              "   0.047592697495763954,\n",
              "   0.04583575067077229,\n",
              "   0.04331125860864466]},\n",
              " 'val': {'loss': [0.6283981361696797,\n",
              "   0.716611695674158,\n",
              "   7.443969142821527,\n",
              "   1.4417573798087335,\n",
              "   0.5967450238043263,\n",
              "   0.6813793063163758,\n",
              "   0.6553435298704332,\n",
              "   0.6294804146212917,\n",
              "   0.6273663416985542,\n",
              "   0.683851557777774]}}"
            ]
          },
          "metadata": {},
          "execution_count": 14
        }
      ],
      "source": [
        "# Se inicializa el entrenamiento del modelo.\n",
        "modelhandler.train_model()"
      ]
    },
    {
      "cell_type": "code",
      "execution_count": 15,
      "metadata": {
        "colab": {
          "base_uri": "https://localhost:8080/",
          "height": 449
        },
        "id": "k55JhgMyG09V",
        "outputId": "e16d0f49-d239-479d-f697-ce6fe9af4c8e"
      },
      "outputs": [
        {
          "output_type": "display_data",
          "data": {
            "text/plain": [
              "<Figure size 640x480 with 1 Axes>"
            ],
            "image/png": "[encoded data removed]"
          },
          "metadata": {}
        }
      ],
      "source": [
        "# Se visualiza el proceso de entrenamiento.\n",
        "# Esta función traza la pérdida del modelo durante el entrenamiento.\n",
        "modelhandler.plot_loss()"
      ]
    },
    {
      "cell_type": "code",
      "execution_count": 16,
      "metadata": {
        "colab": {
          "base_uri": "https://localhost:8080/"
        },
        "id": "E52bTEXnG09W",
        "outputId": "7fbf65df-ddf7-4c76-8f6e-a33ad6264dbe"
      },
      "outputs": [
        {
          "output_type": "execute_result",
          "data": {
            "text/plain": [
              "5"
            ]
          },
          "metadata": {},
          "execution_count": 16
        }
      ],
      "source": [
        "# Se busca la pérdida mínima en la validación, que corresponde al mejor modelo.\n",
        "# 'np.argmin' devuelve el índice de la pérdida mínima en el conjunto de validación.\n",
        "# Se suma 1 porque los índices en Python comienzan en 0, pero las épocas comienzan en 1.\n",
        "np.argmin(modelhandler.running_record['val']['loss'])+1"
      ]
    },
    {
      "cell_type": "code",
      "execution_count": 17,
      "metadata": {
        "colab": {
          "base_uri": "https://localhost:8080/"
        },
        "id": "kH5xVXQyG09W",
        "outputId": "99819dc0-64b5-4a8e-fedd-5546cb3b60f0"
      },
      "outputs": [
        {
          "output_type": "stream",
          "name": "stderr",
          "text": [
            "INFO:pv_vision.nn.modelhandler:Loaded model from /content/drive/MyDrive/Trabajo de titulación/PV_vision/Entrenamiento/PuntosControl/unet.pt\n"
          ]
        }
      ],
      "source": [
        "# Se carga el mejor modelo entrenado y se verifica su rendimiento en el conjunto de prueba.\n",
        "# Se emplea `load_model` para cargar el modelo entrenado. Este método toma el nombre del archivo de punto de control.\n",
        "modelhandler.load_model('/content/drive/MyDrive/Trabajo de titulación/PV_vision/Entrenamiento/PuntosControl/unet.pt')"
      ]
    },
    {
      "cell_type": "markdown",
      "metadata": {
        "id": "xa-Fdu8ZG09W"
      },
      "source": [
        "El siguiente código prueba el modelo en el conjunto de prueba y almacena la salida en 'testset_output'. También se hace un comentario sobre la puntuación de la prueba y la puntuación de la validación."
      ]
    },
    {
      "cell_type": "code",
      "execution_count": 18,
      "metadata": {
        "colab": {
          "base_uri": "https://localhost:8080/"
        },
        "id": "1q3LEUNaG09W",
        "outputId": "2c76a5b8-7581-47de-e67c-f6c04f156675"
      },
      "outputs": [
        {
          "output_type": "stream",
          "name": "stdout",
          "text": [
            "Testing mode\n",
            "----------\n"
          ]
        },
        {
          "output_type": "stream",
          "name": "stderr",
          "text": [
            "100%|██████████| 41/41 [09:48<00:00, 14.36s/it]\n",
            "INFO:pv_vision.nn.modelhandler:Test set: Average loss: 0.8451\n"
          ]
        },
        {
          "output_type": "stream",
          "name": "stdout",
          "text": [
            "Test set: Average loss: 0.8451\n"
          ]
        }
      ],
      "source": [
        "# Se evalúa el modelo en el conjunto de prueba. `test_model` es una función de ModelHandler\n",
        "# que evalúa el modelo en el conjunto de prueba y almacena la salida en la caché.\n",
        "_ = modelhandler.test_model(cache_output='testset_output')\n",
        "\n",
        "# La salida del modelo se almacena en self.cache['testset_output']"
      ]
    }
  ],
  "metadata": {
    "accelerator": "GPU",
    "colab": {
      "gpuType": "T4",
      "provenance": [],
      "include_colab_link": true
    },
    "kernelspec": {
      "display_name": "Python 3",
      "name": "python3"
    },
    "language_info": {
      "name": "python"
    }
  },
  "nbformat": 4,
  "nbformat_minor": 0
}