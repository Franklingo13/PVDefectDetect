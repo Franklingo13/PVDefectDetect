{
  "cells": [
    {
      "cell_type": "markdown",
      "metadata": {
        "colab_type": "text",
        "id": "view-in-github"
      },
      "source": [
        "<a href=\"https://colab.research.google.com/github/Franklingo13/PVDefectDetect/blob/main/RNA/Entrenamiento_grietasGColab.ipynb\" target=\"_parent\"><img src=\"https://colab.research.google.com/assets/colab-badge.svg\" alt=\"Open In Colab\"/></a>"
      ]
    },
    {
      "cell_type": "markdown",
      "metadata": {
        "id": "psMYf9fJG09O"
      },
      "source": [
        "Notebook para entrenamiento de redes neuronales convolucionales para clasificación de defectos en imágenes de celdas fotovoltaicas.\n",
        "Pensado para correr en Google Colab."
      ]
    },
    {
      "cell_type": "code",
      "execution_count": 1,
      "metadata": {
        "colab": {
          "base_uri": "https://localhost:8080/"
        },
        "id": "gbQ5zjRCG09Q",
        "outputId": "c8aaddf5-1d1d-4a73-f4bf-c6ccfe849a46"
      },
      "outputs": [
        {
          "name": "stdout",
          "output_type": "stream",
          "text": [
            "Drive already mounted at /content/drive; to attempt to forcibly remount, call drive.mount(\"/content/drive\", force_remount=True).\n"
          ]
        }
      ],
      "source": [
        "# Conexión con Google Drive\n",
        "from google.colab import drive\n",
        "drive.mount('/content/drive')"
      ]
    },
    {
      "cell_type": "code",
      "execution_count": 3,
      "metadata": {
        "id": "OhRFEtnDGxpJ"
      },
      "outputs": [],
      "source": [
        "# SPDX-License-Identifier: Apache-2.0\n",
        "#\n",
        "# Copyright (C) 2021 Supervisely\n",
        "#\n",
        "# This file is part of the Supervisely project and has been taken\n",
        "# from the Supervisely repository (https://github.com/supervisely/supervisely/blob/master/plugins/nn/unet_v2/src/unet.py).\n",
        "# It is being redistributed under the Apache License 2.0.\n",
        "#\n",
        "# You may obtain a copy of the License at\n",
        "#\n",
        "#     http://www.apache.org/licenses/LICENSE-2.0\n",
        "#\n",
        "# Unless required by applicable law or agreed to in writing, software\n",
        "# distributed under the License is distributed on an \"AS IS\" BASIS,\n",
        "# WITHOUT WARRANTIES OR CONDITIONS OF ANY KIND, either express or implied.\n",
        "# See the License for the specific language governing permissions and\n",
        "# limitations under the License.\n",
        "\n",
        "\n",
        "import torch\n",
        "from torch import nn\n",
        "from torchvision.models.vgg import vgg16_bn\n",
        "\n",
        "\n",
        "class ConvBNAct(nn.Module):\n",
        "    def __init__(self, in_channels, out_channels):\n",
        "        super().__init__()\n",
        "        self.seq = nn.Sequential(\n",
        "            nn.Conv2d(in_channels, out_channels,\n",
        "                      kernel_size=3, padding=1),\n",
        "            nn.BatchNorm2d(out_channels),\n",
        "            nn.ReLU(),\n",
        "        )\n",
        "\n",
        "    def forward(self, inputs):\n",
        "        return self.seq(inputs)\n",
        "\n",
        "\n",
        "class Block(nn.Module):\n",
        "    def __init__(self, src_channels, dst_channels):\n",
        "        super().__init__()\n",
        "        self.seq1 = ConvBNAct(src_channels, dst_channels)\n",
        "        self.seq2 = ConvBNAct(dst_channels, dst_channels)\n",
        "        self.seq3 = ConvBNAct(dst_channels, dst_channels)\n",
        "\n",
        "    def forward(self, x):\n",
        "        result = self.seq1(x)\n",
        "        result = self.seq2(result)\n",
        "        result = self.seq3(result)\n",
        "        return result\n",
        "\n",
        "\n",
        "class UNetUp(nn.Module):\n",
        "    def __init__(self, down_channels,  right_channels):\n",
        "        super().__init__()\n",
        "        self.bottom_up = nn.Upsample(scale_factor=2, mode='nearest')\n",
        "        self.conv = nn.Conv2d(down_channels, right_channels, kernel_size=1, stride=1)\n",
        "\n",
        "    def forward(self, left, bottom):\n",
        "        from_bottom = self.bottom_up(bottom)\n",
        "        from_bottom = self.conv(from_bottom)\n",
        "        result = torch.cat([left, from_bottom], 1)\n",
        "        return result\n",
        "\n",
        "\n",
        "class Bottleneck(nn.Module):\n",
        "    def __init__(self, in_channels, out_channels):\n",
        "        super().__init__()\n",
        "        self.conv = nn.Conv2d(in_channels, out_channels, kernel_size=(3, 3), dilation=2, padding=2)\n",
        "        self.bn = nn.BatchNorm2d(out_channels)\n",
        "        self.relu = nn.ReLU()\n",
        "        self.conv2 = nn.Conv2d(out_channels, out_channels, kernel_size=(3, 3), dilation=2, padding=2)\n",
        "        self.bn2 = nn.BatchNorm2d(out_channels)\n",
        "        self.relu2 = nn.ReLU()\n",
        "\n",
        "    def forward(self, x):\n",
        "        out = self.conv(x)\n",
        "        out = self.bn(out)\n",
        "        out = self.conv2(self.relu(out))\n",
        "        out = self.bn2(out)\n",
        "        return torch.cat((x, self.relu2(out)), dim=1)\n",
        "\n",
        "\n",
        "class UNet(nn.Module):\n",
        "\n",
        "    def __init__(self, encoder_blocks,  encoder_channels, n_cls):\n",
        "        self.encoder_channels = encoder_channels\n",
        "        self.depth = len(self.encoder_channels)\n",
        "        assert len(encoder_blocks) == self.depth\n",
        "        super().__init__()\n",
        "\n",
        "        self.encoder_blocks = nn.ModuleList(encoder_blocks)\n",
        "\n",
        "        self.blocks = nn.ModuleList()\n",
        "        # add bottleneck\n",
        "        self.blocks.append(Block(\n",
        "            self.encoder_channels[-1],\n",
        "            self.encoder_channels[-1]\n",
        "        ))\n",
        "\n",
        "        self.ups = nn.ModuleList()\n",
        "        for i in range(1, self.depth):\n",
        "            bottom_channels = self.encoder_channels[self.depth - i]\n",
        "            left_channels = self.encoder_channels[self.depth - i - 1]\n",
        "            right_channels = left_channels\n",
        "            self.ups.append(UNetUp(bottom_channels,  right_channels))\n",
        "            self.blocks.append(Block(\n",
        "                left_channels + right_channels,\n",
        "                right_channels\n",
        "            ))\n",
        "        self.last_conv = nn.Conv2d(encoder_channels[0], n_cls, 1)\n",
        "        # self.dropout = nn.Dropout2d(p=0.1)\n",
        "        self.bottle = Bottleneck(512, 512)\n",
        "\n",
        "    def forward(self, x):\n",
        "        encoder_outputs = []\n",
        "        for encoder_block in self.encoder_blocks:\n",
        "            x = encoder_block(x)\n",
        "            encoder_outputs.append(x)\n",
        "        x = self.bottle(encoder_outputs[self.depth - 1])\n",
        "        for i in range(self.depth):\n",
        "            if i > 0:\n",
        "                encoder_output = encoder_outputs[self.depth - i - 1]\n",
        "                x = self.ups[i - 1](encoder_output, x)\n",
        "                x = self.blocks[i](x)\n",
        "        # x = self.dropout(x)\n",
        "        x = self.last_conv(x)\n",
        "        return x  # no softmax or log_softmax\n",
        "\n",
        "\n",
        "def _get_encoder_blocks(model):\n",
        "    # last modules (ReLUs) of VGG blocks\n",
        "    layers_last_module_names = ['5', '12', '22', '32', '42']\n",
        "    result = []\n",
        "    cur_block = nn.Sequential()\n",
        "    for name, child in model.named_children():\n",
        "        if name == 'features':\n",
        "            for name2, child2 in child.named_children():\n",
        "                cur_block.add_module(name2, child2)\n",
        "                if name2 in layers_last_module_names:\n",
        "                    result.append(cur_block)\n",
        "                    cur_block = nn.Sequential()\n",
        "            break\n",
        "\n",
        "    return result\n",
        "\n",
        "\n",
        "def construct_unet(n_cls, pretrain=False):  # no weights inited\n",
        "    model = vgg16_bn(weights='DEFAULT')\n",
        "    encoder_blocks = _get_encoder_blocks(model)\n",
        "    encoder_channels = [64, 128, 256, 512, 1024]  # vgg16 channels\n",
        "    # prev_channels = encoder_channels[-1]\n",
        "\n",
        "    return UNet(encoder_blocks, encoder_channels, n_cls)\n"
      ]
    },
    {
      "cell_type": "code",
      "execution_count": 4,
      "metadata": {
        "id": "U_8l2-gnG09S"
      },
      "outputs": [],
      "source": [
        "# Importación de librerías\n",
        "import torch\n",
        "from torch.utils.data import Dataset, DataLoader\n",
        "from torchvision import transforms\n",
        "from torch.nn import DataParallel\n",
        "from torch.nn import CrossEntropyLoss\n",
        "from torch.optim import Adam\n",
        "from torch.optim.lr_scheduler import StepLR\n",
        "from torchvision.io import read_image, ImageReadMode\n",
        "from torchvision.datasets.vision import VisionDataset\n",
        "from torchvision.models.segmentation import deeplabv3_resnet50, DeepLabV3_ResNet50_Weights\n",
        "from torchvision.models.segmentation.deeplabv3 import DeepLabHead\n",
        "from torchvision.utils import draw_segmentation_masks\n",
        "import torchvision.transforms.functional as F\n",
        "\n",
        "import cv2 as cv\n",
        "import numpy as np\n",
        "\n",
        "import requests\n",
        "import copy\n",
        "#from unet_model import construct_unet\n",
        "from pathlib import Path\n",
        "from PIL import Image\n",
        "from imutils.paths import list_images\n",
        "import os"
      ]
    },
    {
      "cell_type": "code",
      "execution_count": null,
      "metadata": {},
      "outputs": [],
      "source": [
        "# Importación de la librería de pv-vision\n",
        "!pip install pv-vision"
      ]
    },
    {
      "cell_type": "code",
      "execution_count": 5,
      "metadata": {
        "id": "YVtXGzixG09T"
      },
      "outputs": [],
      "source": [
        "# Importar el manejador de modelo: ModelHandler\n",
        "from pv_vision.nn import ModelHandler"
      ]
    },
    {
      "cell_type": "code",
      "execution_count": 6,
      "metadata": {
        "id": "ia6yr7DDG09T"
      },
      "outputs": [],
      "source": [
        "# Definición de una clase para el conjunto de datos solar,\n",
        "# que hereda de la clase VisionDataset de PyTorch.\n",
        "class SolarDataset(VisionDataset):\n",
        "    \"\"\"Un conjunto de datos que lee directamente las imágenes y las máscaras desde una carpeta.\"\"\"\n",
        "\n",
        "    # Se definió el método de inicialización para la clase.\n",
        "    def __init__(self,\n",
        "                 root,\n",
        "                 image_folder,\n",
        "                 mask_folder,\n",
        "                 transforms,\n",
        "                 mode = \"train\",\n",
        "                 random_seed=42):\n",
        "        # Se llamó al método de inicialización de la clase padre.\n",
        "        super().__init__(root, transforms)\n",
        "        # Se establecieron las rutas a las carpetas de imágenes y máscaras.\n",
        "        self.image_path = Path(self.root) / image_folder\n",
        "        self.mask_path = Path(self.root) / mask_folder\n",
        "\n",
        "        # Se verificó que las carpetas de imágenes y máscaras existan.\n",
        "        if not os.path.exists(self.image_path):\n",
        "            raise OSError(f\"{self.image_path} no encontrado.\")\n",
        "\n",
        "        if not os.path.exists(self.mask_path):\n",
        "            raise OSError(f\"{self.mask_path} no encontrado.\")\n",
        "\n",
        "        # Se obtuvieron las listas de imágenes y máscaras y se ordenaron.\n",
        "        self.image_list = sorted(list(list_images(self.image_path)))\n",
        "        self.mask_list = sorted(list(list_images(self.mask_path)))\n",
        "\n",
        "        # Se convirtieron las listas de imágenes y máscaras a arrays de numpy.\n",
        "        self.image_list = np.array(self.image_list)\n",
        "        self.mask_list = np.array(self.mask_list)\n",
        "\n",
        "        # Se estableció la semilla para la generación de números aleatorios y se mezclaron las imágenes y las máscaras.\n",
        "        np.random.seed(random_seed)\n",
        "        index = np.arange(len(self.image_list))\n",
        "        np.random.shuffle(index)\n",
        "        self.image_list = self.image_list[index]\n",
        "        self.mask_list = self.mask_list[index]\n",
        "\n",
        "    # Se definió el método para obtener la longitud del conjunto de datos.\n",
        "    def __len__(self):\n",
        "        return len(self.image_list)\n",
        "\n",
        "    # Se definió un método para obtener el nombre de una imagen o máscara.\n",
        "    def __getname__(self, index):\n",
        "        image_name = os.path.splitext(os.path.split(self.image_list[index])[-1])[0]\n",
        "        mask_name = os.path.splitext(os.path.split(self.mask_list[index])[-1])[0]\n",
        "\n",
        "        if image_name == mask_name:\n",
        "            return image_name\n",
        "        else:\n",
        "            return False\n",
        "\n",
        "    # Se definió un método para obtener una imagen y su máscara correspondiente.\n",
        "    def __getraw__(self, index):\n",
        "        if not self.__getname__(index):\n",
        "            raise ValueError(\"{}: La imagen no coincide con la máscara\".format(os.path.split(self.image_list[index])[-1]))\n",
        "        image = Image.open(self.image_list[index])\n",
        "        mask = Image.open(self.mask_list[index]).convert('L')\n",
        "        mask = np.array(mask)\n",
        "        mask = Image.fromarray(mask)\n",
        "\n",
        "        return image, mask\n",
        "\n",
        "    # Se definió el método para obtener un elemento del conjunto de datos.\n",
        "    def __getitem__(self, index):\n",
        "        image, mask = self.__getraw__(index)\n",
        "        image, mask = self.transforms(image, mask)\n",
        "\n",
        "        return image, mask"
      ]
    },
    {
      "cell_type": "code",
      "execution_count": 7,
      "metadata": {
        "id": "t1nDW9d6G09T"
      },
      "outputs": [],
      "source": [
        "# Definición de una clase para componer varias transformaciones.\n",
        "class Compose:\n",
        "    def __init__(self, transforms):\n",
        "        \"\"\"\n",
        "        transforms: una lista de transformaciones\n",
        "        \"\"\"\n",
        "        self.transforms = transforms\n",
        "\n",
        "    # Se definió el método para aplicar las transformaciones a la imagen y la máscara.\n",
        "    def __call__(self, image, target):\n",
        "        \"\"\"\n",
        "        image: imagen de entrada\n",
        "        target: máscara de entrada\n",
        "        \"\"\"\n",
        "        for t in self.transforms:\n",
        "            image, target = t(image, target)\n",
        "        return image, target\n",
        "\n",
        "# Se definió una clase para redimensionar la imagen y la máscara a un tamaño fijo.\n",
        "class FixResize:\n",
        "    # UNet requiere que el tamaño de entrada sea múltiplo de 16\n",
        "    def __init__(self, size):\n",
        "        self.size = size\n",
        "\n",
        "    # Se definió el método para redimensionar la imagen y la máscara.\n",
        "    def __call__(self, image, target):\n",
        "        image = F.resize(image, (self.size, self.size), interpolation=transforms.InterpolationMode.BILINEAR)\n",
        "        target = F.resize(target, (self.size, self.size), interpolation=transforms.InterpolationMode.NEAREST)\n",
        "        return image, target\n",
        "\n",
        "# Se definió una clase para transformar la imagen y la máscara a tensores.\n",
        "class ToTensor:\n",
        "    \"\"\"Transforma la imagen a tensor. Escala la imagen a [0,1] float32.\n",
        "    Transforma la máscara a tensor.\n",
        "    \"\"\"\n",
        "    def __call__(self, image, target):\n",
        "        image = transforms.ToTensor()(image)\n",
        "        target = torch.as_tensor(np.array(target), dtype=torch.int64)\n",
        "        return image, target\n",
        "\n",
        "# Se definió una clase para transformar la imagen a tensor manteniendo el tipo original.\n",
        "class PILToTensor:\n",
        "    \"\"\"Transforma la imagen a tensor. Mantiene el tipo original.\"\"\"\n",
        "    def __call__(self, image, target):\n",
        "        image = F.pil_to_tensor(image)\n",
        "        target = torch.as_tensor(np.array(target), dtype=torch.int64)\n",
        "        return image, target\n",
        "\n",
        "# Se definió una clase para normalizar la imagen.\n",
        "class Normalize:\n",
        "    def __init__(self, mean=(0.485, 0.456, 0.406), std=(0.229, 0.224, 0.225)):\n",
        "        self.mean = mean\n",
        "        self.std = std\n",
        "\n",
        "    def __call__(self, image, target):\n",
        "        # Verifica si la imagen es en escala de grises (1 canal) y la convierte a RGB (3 canales) si es necesario\n",
        "        if image.shape[0] == 1:\n",
        "            image = image.repeat(3, 1, 1)  # Repite el canal existente 3 veces\n",
        "        image = F.normalize(image, mean=self.mean, std=self.std)\n",
        "        return image, target"
      ]
    },
    {
      "cell_type": "code",
      "execution_count": 8,
      "metadata": {
        "colab": {
          "base_uri": "https://localhost:8080/"
        },
        "id": "pRAdQ8o1G09U",
        "outputId": "ac4a6979-ee74-4162-e69b-6fe0560f99b7"
      },
      "outputs": [
        {
          "name": "stdout",
          "output_type": "stream",
          "text": [
            "El conjunto de datos de entrenamiento contiene 1012 elementos.\n"
          ]
        }
      ],
      "source": [
        "# Ruta al directorio que contiene las imágenes y las máscaras.\n",
        "root = Path(\n",
        "    '/content/drive/MyDrive/Trabajo de titulación/PV_vision/Entrenamiento')\n",
        "\n",
        "# Se definen las transformaciones a aplicar a las imágenes y las etiquetas.\n",
        "transformers = Compose([FixResize(256), ToTensor(), Normalize()])\n",
        "#/content/drive/MyDrive/Trabajo de titulación/PV_vision/Entrenamiento/train/annotations\n",
        "#/content/drive/MyDrive/Trabajo de titulación/PV_vision/Entrenamiento/img_label_for_training/train\n",
        "# Se crean los conjuntos de datos de entrenamiento, validación y prueba.\n",
        "trainset = SolarDataset(root, image_folder=\"train/img\",\n",
        "        mask_folder=\"train/ann\", transforms=transformers)\n",
        "\n",
        "valset = SolarDataset(root, image_folder=\"val2/img\",\n",
        "        mask_folder=\"val2/ann\", transforms=transformers)\n",
        "\n",
        "testset = SolarDataset(root, image_folder=\"test/img\",\n",
        "        mask_folder=\"test/ann\", transforms=transformers)\n",
        "\n",
        "# Verificación de que la carpeta haya sido establecida correctamente\n",
        "print(f\"El conjunto de datos de entrenamiento contiene {len(trainset)} elementos.\")"
      ]
    },
    {
      "cell_type": "code",
      "execution_count": null,
      "metadata": {},
      "outputs": [],
      "source": [
        "class Accuracy:\n",
        "    def __call__(self, outputs, targets):\n",
        "        _, preds = torch.max(outputs, 1)\n",
        "        return (preds == targets).float().mean().item()\n"
      ]
    },
    {
      "cell_type": "code",
      "execution_count": null,
      "metadata": {
        "id": "KaZs0hwDG09U"
      },
      "outputs": [],
      "source": [
        "# Se define una función para crear un modelo DeepLab preentrenado.\n",
        "def DeepLab_pretrained(num_classes):\n",
        "    # Se carga el modelo DeepLab con una arquitectura ResNet50 preentrenada.\n",
        "    deeplab = deeplabv3_resnet50(weights=DeepLabV3_ResNet50_Weights.DEFAULT)\n",
        "\n",
        "    # Se reemplaza el clasificador del modelo con un nuevo clasificador DeepLabHead.\n",
        "    # El nuevo clasificador tiene 2048 características de entrada y 'num_classes' características de salida.\n",
        "    deeplab.classifier = DeepLabHead(2048, num_classes)\n",
        "\n",
        "    # Se devuelve el modelo modificado.\n",
        "    return deeplab"
      ]
    },
    {
      "cell_type": "code",
      "execution_count": 9,
      "metadata": {
        "id": "TZFPZp57F3wK"
      },
      "outputs": [],
      "source": [
        "# Crea una instancia del modelo U-Net con 5 canales de salida.\n",
        "# Número de canales de salida = al número de clases\n",
        "unet = construct_unet(5)\n",
        "# Se \"envuelve\" el modelo en un objeto DataParallel.\n",
        "# Esto permite que el modelo se ejecute en paralelo en múltiples GPUs, si están disponibles.\n",
        "unet = DataParallel(unet)"
      ]
    },
    {
      "cell_type": "code",
      "execution_count": 10,
      "metadata": {
        "colab": {
          "base_uri": "https://localhost:8080/"
        },
        "id": "Qnmr0nyOG09U",
        "outputId": "b9b8b7af-4fb2-4b03-db1e-350dd4013848"
      },
      "outputs": [
        {
          "name": "stdout",
          "output_type": "stream",
          "text": [
            "Dispositivo utilizado: cuda:0\n"
          ]
        }
      ],
      "source": [
        "# Se define el dispositivo en el que se ejecutará el modelo.\n",
        "device = torch.device(\"cuda:0\" if torch.cuda.is_available() else \"cpu\")\n",
        "# Se imprime el dispositivo utilizado.\n",
        "print(f\"Dispositivo utilizado: {device}\")\n",
        "\n",
        "# Se crea el modelo utilizando la función DeepLab_pretrained definida anteriormente.\n",
        "# El modelo se envuelve en un objeto DataParallel para permitir el entrenamiento en múltiples GPUs si están disponibles.\n",
        "#model = DataParallel(DeepLab_pretrained(5))\n",
        "\n",
        "# Se define la función de pérdida a utilizar durante el entrenamiento.\n",
        "# En este caso, se utiliza la pérdida de entropía cruzada.\n",
        "criterion = CrossEntropyLoss()\n",
        "\n",
        "# Se define el optimizador a utilizar durante el entrenamiento. En este caso, se utiliza Adam con una tasa de aprendizaje de 0.01.\n",
        "#optimizer = Adam(model.parameters(), lr=0.01)\n",
        "optimizer = Adam(unet.parameters(), lr=0.01)\n",
        "\n",
        "# Se define el programador de la tasa de aprendizaje a utilizar durante el entrenamiento.\n",
        "# En este caso, se utiliza un programador de paso que disminuye la tasa de aprendizaje en un factor de 0.2 cada 5 épocas.\n",
        "lr_scheduler = StepLR(optimizer, step_size=5, gamma=0.2)"
      ]
    },
    {
      "cell_type": "code",
      "execution_count": 17,
      "metadata": {
        "colab": {
          "base_uri": "https://localhost:8080/"
        },
        "id": "TjJv6uo4G09V",
        "outputId": "a7a1865a-f5a5-4f91-fe4f-72ab315027ef"
      },
      "outputs": [
        {
          "name": "stderr",
          "output_type": "stream",
          "text": [
            "INFO:pv_vision.nn.modelhandler:ModelHandler initialized.\n"
          ]
        }
      ],
      "source": [
        "# Se inicializa el manejador del modelo.\n",
        "# La salida se almacena en la carpeta de salida.\n",
        "modelhandler = ModelHandler(\n",
        "    # Se pasa el modelo que se va a entrenar.\n",
        "    #model=model,\n",
        "    model = unet,\n",
        "    # Se especifica el nombre de la carpeta de salida.\n",
        "    #model_output='out_unet',\n",
        "    # Se pasan los conjuntos de datos de entrenamiento, validación y prueba.\n",
        "    train_dataset=trainset,\n",
        "    val_dataset=valset,\n",
        "    test_dataset=testset,\n",
        "    # Se especifica el tamaño del lote para el entrenamiento y la validación.\n",
        "    batch_size_train=16,\n",
        "    batch_size_val=16,\n",
        "    # Se pasa el programador de la tasa de aprendizaje.\n",
        "    lr_scheduler=lr_scheduler,\n",
        "    # Se especifica el número de épocas para el entrenamiento.\n",
        "    num_epochs=20,\n",
        "    # Se pasa la función de pérdida y el optimizador.\n",
        "    criterion=criterion,\n",
        "    optimizer=optimizer,\n",
        "    # Se pasa el dispositivo en el que se ejecutará el entrenamiento.\n",
        "    device=device,\n",
        "    evaluate_metric = Accuracy,\n",
        "    # Se especifica el directorio donde se guardarán los puntos de control del modelo.\n",
        "    save_dir='/content/drive/MyDrive/Trabajo de titulación/PV_vision/Entrenamiento/PuntosControl/checkpoints',\n",
        "    # Se especifica el nombre del archivo de punto de control.\n",
        "    save_name='unetv5.pt'\n",
        ")"
      ]
    },
    {
      "cell_type": "code",
      "execution_count": 18,
      "metadata": {
        "colab": {
          "base_uri": "https://localhost:8080/"
        },
        "id": "X1SfRwQCG09V",
        "outputId": "0f5bb9e6-1f76-4f93-ec88-261d245a2ff2"
      },
      "outputs": [
        {
          "name": "stdout",
          "output_type": "stream",
          "text": [
            "Epoch 1 / 20\n",
            "----------\n"
          ]
        },
        {
          "name": "stderr",
          "output_type": "stream",
          "text": [
            "  0%|          | 0/64 [00:00<?, ?it/s]INFO:pv_vision.nn.modelhandler:Train Epoch: 1 [0/1012 (0%)]\tLoss: 0.038848\n",
            " 16%|█▌        | 10/64 [00:09<00:54,  1.02s/it]INFO:pv_vision.nn.modelhandler:Train Epoch: 1 [160/1012 (16%)]\tLoss: 0.032154\n",
            " 31%|███▏      | 20/64 [00:20<00:46,  1.05s/it]INFO:pv_vision.nn.modelhandler:Train Epoch: 1 [320/1012 (31%)]\tLoss: 0.043614\n",
            " 47%|████▋     | 30/64 [00:31<00:35,  1.05s/it]INFO:pv_vision.nn.modelhandler:Train Epoch: 1 [480/1012 (47%)]\tLoss: 0.034632\n",
            " 62%|██████▎   | 40/64 [00:41<00:24,  1.03s/it]INFO:pv_vision.nn.modelhandler:Train Epoch: 1 [640/1012 (62%)]\tLoss: 0.043071\n",
            " 78%|███████▊  | 50/64 [00:52<00:14,  1.02s/it]INFO:pv_vision.nn.modelhandler:Train Epoch: 1 [800/1012 (78%)]\tLoss: 0.049263\n",
            " 94%|█████████▍| 60/64 [01:02<00:04,  1.01s/it]INFO:pv_vision.nn.modelhandler:Train Epoch: 1 [960/1012 (94%)]\tLoss: 0.056294\n",
            "100%|██████████| 64/64 [01:06<00:00,  1.04s/it]\n",
            "INFO:pv_vision.nn.modelhandler:Saved model at epoch 1\n",
            "100%|██████████| 13/13 [00:06<00:00,  2.02it/s]\n",
            "INFO:pv_vision.nn.modelhandler:Val epoch: 1 \tAverage loss: 0.1577\n"
          ]
        },
        {
          "name": "stdout",
          "output_type": "stream",
          "text": [
            "Loss: 0.0456 (train) | 0.1577 (val)\n",
            "Epoch 2 / 20\n",
            "----------\n"
          ]
        },
        {
          "name": "stderr",
          "output_type": "stream",
          "text": [
            "  0%|          | 0/64 [00:00<?, ?it/s]INFO:pv_vision.nn.modelhandler:Train Epoch: 2 [0/1012 (0%)]\tLoss: 0.035654\n",
            " 16%|█▌        | 10/64 [00:09<00:54,  1.01s/it]INFO:pv_vision.nn.modelhandler:Train Epoch: 2 [160/1012 (16%)]\tLoss: 0.041282\n",
            " 31%|███▏      | 20/64 [00:20<00:44,  1.02s/it]INFO:pv_vision.nn.modelhandler:Train Epoch: 2 [320/1012 (31%)]\tLoss: 0.063022\n",
            " 47%|████▋     | 30/64 [00:30<00:35,  1.03s/it]INFO:pv_vision.nn.modelhandler:Train Epoch: 2 [480/1012 (47%)]\tLoss: 0.048774\n",
            " 62%|██████▎   | 40/64 [00:41<00:24,  1.03s/it]INFO:pv_vision.nn.modelhandler:Train Epoch: 2 [640/1012 (62%)]\tLoss: 0.028748\n",
            " 78%|███████▊  | 50/64 [00:51<00:14,  1.03s/it]INFO:pv_vision.nn.modelhandler:Train Epoch: 2 [800/1012 (78%)]\tLoss: 0.040730\n",
            " 94%|█████████▍| 60/64 [01:02<00:04,  1.02s/it]INFO:pv_vision.nn.modelhandler:Train Epoch: 2 [960/1012 (94%)]\tLoss: 0.043309\n",
            "100%|██████████| 64/64 [01:06<00:00,  1.03s/it]\n",
            "INFO:pv_vision.nn.modelhandler:Saved model at epoch 2\n",
            "100%|██████████| 13/13 [00:07<00:00,  1.84it/s]\n",
            "INFO:pv_vision.nn.modelhandler:Val epoch: 2 \tAverage loss: 0.1572\n"
          ]
        },
        {
          "name": "stdout",
          "output_type": "stream",
          "text": [
            "Loss: 0.0452 (train) | 0.1572 (val)\n",
            "Epoch 3 / 20\n",
            "----------\n"
          ]
        },
        {
          "name": "stderr",
          "output_type": "stream",
          "text": [
            "  0%|          | 0/64 [00:00<?, ?it/s]INFO:pv_vision.nn.modelhandler:Train Epoch: 3 [0/1012 (0%)]\tLoss: 0.031178\n",
            " 16%|█▌        | 10/64 [00:09<00:54,  1.01s/it]INFO:pv_vision.nn.modelhandler:Train Epoch: 3 [160/1012 (16%)]\tLoss: 0.048081\n",
            " 31%|███▏      | 20/64 [00:20<00:44,  1.02s/it]INFO:pv_vision.nn.modelhandler:Train Epoch: 3 [320/1012 (31%)]\tLoss: 0.053353\n",
            " 47%|████▋     | 30/64 [00:30<00:34,  1.02s/it]INFO:pv_vision.nn.modelhandler:Train Epoch: 3 [480/1012 (47%)]\tLoss: 0.036519\n",
            " 62%|██████▎   | 40/64 [00:41<00:24,  1.02s/it]INFO:pv_vision.nn.modelhandler:Train Epoch: 3 [640/1012 (62%)]\tLoss: 0.063605\n",
            " 78%|███████▊  | 50/64 [00:51<00:14,  1.03s/it]INFO:pv_vision.nn.modelhandler:Train Epoch: 3 [800/1012 (78%)]\tLoss: 0.031455\n",
            " 94%|█████████▍| 60/64 [01:01<00:04,  1.03s/it]INFO:pv_vision.nn.modelhandler:Train Epoch: 3 [960/1012 (94%)]\tLoss: 0.081479\n",
            "100%|██████████| 64/64 [01:06<00:00,  1.03s/it]\n",
            "INFO:pv_vision.nn.modelhandler:Saved model at epoch 3\n",
            "100%|██████████| 13/13 [00:06<00:00,  2.05it/s]\n",
            "INFO:pv_vision.nn.modelhandler:Val epoch: 3 \tAverage loss: 0.1562\n"
          ]
        },
        {
          "name": "stdout",
          "output_type": "stream",
          "text": [
            "Loss: 0.0456 (train) | 0.1562 (val)\n",
            "Epoch 4 / 20\n",
            "----------\n"
          ]
        },
        {
          "name": "stderr",
          "output_type": "stream",
          "text": [
            "  0%|          | 0/64 [00:00<?, ?it/s]INFO:pv_vision.nn.modelhandler:Train Epoch: 4 [0/1012 (0%)]\tLoss: 0.065927\n",
            " 16%|█▌        | 10/64 [00:09<00:54,  1.02s/it]INFO:pv_vision.nn.modelhandler:Train Epoch: 4 [160/1012 (16%)]\tLoss: 0.044476\n",
            " 31%|███▏      | 20/64 [00:20<00:45,  1.02s/it]INFO:pv_vision.nn.modelhandler:Train Epoch: 4 [320/1012 (31%)]\tLoss: 0.045227\n",
            " 47%|████▋     | 30/64 [00:30<00:34,  1.03s/it]INFO:pv_vision.nn.modelhandler:Train Epoch: 4 [480/1012 (47%)]\tLoss: 0.041337\n",
            " 62%|██████▎   | 40/64 [00:41<00:24,  1.02s/it]INFO:pv_vision.nn.modelhandler:Train Epoch: 4 [640/1012 (62%)]\tLoss: 0.034336\n",
            " 78%|███████▊  | 50/64 [00:51<00:14,  1.03s/it]INFO:pv_vision.nn.modelhandler:Train Epoch: 4 [800/1012 (78%)]\tLoss: 0.059120\n",
            " 94%|█████████▍| 60/64 [01:02<00:04,  1.02s/it]INFO:pv_vision.nn.modelhandler:Train Epoch: 4 [960/1012 (94%)]\tLoss: 0.072252\n",
            "100%|██████████| 64/64 [01:06<00:00,  1.03s/it]\n",
            "INFO:pv_vision.nn.modelhandler:Saved model at epoch 4\n",
            "100%|██████████| 13/13 [00:07<00:00,  1.80it/s]\n",
            "INFO:pv_vision.nn.modelhandler:Val epoch: 4 \tAverage loss: 0.1509\n"
          ]
        },
        {
          "name": "stdout",
          "output_type": "stream",
          "text": [
            "Loss: 0.0454 (train) | 0.1509 (val)\n",
            "Epoch 5 / 20\n",
            "----------\n"
          ]
        },
        {
          "name": "stderr",
          "output_type": "stream",
          "text": [
            "  0%|          | 0/64 [00:00<?, ?it/s]INFO:pv_vision.nn.modelhandler:Train Epoch: 5 [0/1012 (0%)]\tLoss: 0.051695\n",
            " 16%|█▌        | 10/64 [00:09<00:55,  1.02s/it]INFO:pv_vision.nn.modelhandler:Train Epoch: 5 [160/1012 (16%)]\tLoss: 0.033955\n",
            " 31%|███▏      | 20/64 [00:20<00:44,  1.02s/it]INFO:pv_vision.nn.modelhandler:Train Epoch: 5 [320/1012 (31%)]\tLoss: 0.053162\n",
            " 47%|████▋     | 30/64 [00:30<00:34,  1.02s/it]INFO:pv_vision.nn.modelhandler:Train Epoch: 5 [480/1012 (47%)]\tLoss: 0.069383\n",
            " 62%|██████▎   | 40/64 [00:41<00:24,  1.03s/it]INFO:pv_vision.nn.modelhandler:Train Epoch: 5 [640/1012 (62%)]\tLoss: 0.026963\n",
            " 78%|███████▊  | 50/64 [00:51<00:14,  1.03s/it]INFO:pv_vision.nn.modelhandler:Train Epoch: 5 [800/1012 (78%)]\tLoss: 0.052594\n",
            " 94%|█████████▍| 60/64 [01:02<00:04,  1.02s/it]INFO:pv_vision.nn.modelhandler:Train Epoch: 5 [960/1012 (94%)]\tLoss: 0.056126\n",
            "100%|██████████| 64/64 [01:06<00:00,  1.03s/it]\n",
            "INFO:pv_vision.nn.modelhandler:Saved model at epoch 5\n",
            "100%|██████████| 13/13 [00:06<00:00,  1.96it/s]\n",
            "INFO:pv_vision.nn.modelhandler:Val epoch: 5 \tAverage loss: 0.1584\n"
          ]
        },
        {
          "name": "stdout",
          "output_type": "stream",
          "text": [
            "Loss: 0.0452 (train) | 0.1584 (val)\n",
            "Epoch 6 / 20\n",
            "----------\n"
          ]
        },
        {
          "name": "stderr",
          "output_type": "stream",
          "text": [
            "  0%|          | 0/64 [00:00<?, ?it/s]INFO:pv_vision.nn.modelhandler:Train Epoch: 6 [0/1012 (0%)]\tLoss: 0.034989\n",
            " 16%|█▌        | 10/64 [00:09<00:54,  1.02s/it]INFO:pv_vision.nn.modelhandler:Train Epoch: 6 [160/1012 (16%)]\tLoss: 0.050877\n",
            " 31%|███▏      | 20/64 [00:20<00:44,  1.02s/it]INFO:pv_vision.nn.modelhandler:Train Epoch: 6 [320/1012 (31%)]\tLoss: 0.035595\n",
            " 47%|████▋     | 30/64 [00:30<00:34,  1.02s/it]INFO:pv_vision.nn.modelhandler:Train Epoch: 6 [480/1012 (47%)]\tLoss: 0.042183\n",
            " 62%|██████▎   | 40/64 [00:41<00:24,  1.03s/it]INFO:pv_vision.nn.modelhandler:Train Epoch: 6 [640/1012 (62%)]\tLoss: 0.044077\n",
            " 78%|███████▊  | 50/64 [00:51<00:14,  1.02s/it]INFO:pv_vision.nn.modelhandler:Train Epoch: 6 [800/1012 (78%)]\tLoss: 0.060277\n",
            " 94%|█████████▍| 60/64 [01:02<00:04,  1.02s/it]INFO:pv_vision.nn.modelhandler:Train Epoch: 6 [960/1012 (94%)]\tLoss: 0.039185\n",
            "100%|██████████| 64/64 [01:06<00:00,  1.03s/it]\n",
            "INFO:pv_vision.nn.modelhandler:Saved model at epoch 6\n",
            "100%|██████████| 13/13 [00:08<00:00,  1.56it/s]\n",
            "INFO:pv_vision.nn.modelhandler:Val epoch: 6 \tAverage loss: 0.1636\n"
          ]
        },
        {
          "name": "stdout",
          "output_type": "stream",
          "text": [
            "Loss: 0.0453 (train) | 0.1636 (val)\n",
            "Epoch 7 / 20\n",
            "----------\n"
          ]
        },
        {
          "name": "stderr",
          "output_type": "stream",
          "text": [
            "  0%|          | 0/64 [00:00<?, ?it/s]INFO:pv_vision.nn.modelhandler:Train Epoch: 7 [0/1012 (0%)]\tLoss: 0.046421\n",
            " 16%|█▌        | 10/64 [00:10<00:54,  1.02s/it]INFO:pv_vision.nn.modelhandler:Train Epoch: 7 [160/1012 (16%)]\tLoss: 0.057142\n",
            " 31%|███▏      | 20/64 [00:20<00:45,  1.02s/it]INFO:pv_vision.nn.modelhandler:Train Epoch: 7 [320/1012 (31%)]\tLoss: 0.026831\n",
            " 47%|████▋     | 30/64 [00:31<00:34,  1.02s/it]INFO:pv_vision.nn.modelhandler:Train Epoch: 7 [480/1012 (47%)]\tLoss: 0.040936\n",
            " 62%|██████▎   | 40/64 [00:41<00:24,  1.03s/it]INFO:pv_vision.nn.modelhandler:Train Epoch: 7 [640/1012 (62%)]\tLoss: 0.053688\n",
            " 78%|███████▊  | 50/64 [00:51<00:14,  1.02s/it]INFO:pv_vision.nn.modelhandler:Train Epoch: 7 [800/1012 (78%)]\tLoss: 0.080737\n",
            " 94%|█████████▍| 60/64 [01:02<00:04,  1.02s/it]INFO:pv_vision.nn.modelhandler:Train Epoch: 7 [960/1012 (94%)]\tLoss: 0.071565\n",
            "100%|██████████| 64/64 [01:06<00:00,  1.04s/it]\n",
            "INFO:pv_vision.nn.modelhandler:Saved model at epoch 7\n",
            "100%|██████████| 13/13 [00:06<00:00,  1.99it/s]\n",
            "INFO:pv_vision.nn.modelhandler:Val epoch: 7 \tAverage loss: 0.1543\n"
          ]
        },
        {
          "name": "stdout",
          "output_type": "stream",
          "text": [
            "Loss: 0.0452 (train) | 0.1543 (val)\n",
            "Epoch 8 / 20\n",
            "----------\n"
          ]
        },
        {
          "name": "stderr",
          "output_type": "stream",
          "text": [
            "  0%|          | 0/64 [00:00<?, ?it/s]INFO:pv_vision.nn.modelhandler:Train Epoch: 8 [0/1012 (0%)]\tLoss: 0.053852\n",
            " 16%|█▌        | 10/64 [00:09<00:54,  1.01s/it]INFO:pv_vision.nn.modelhandler:Train Epoch: 8 [160/1012 (16%)]\tLoss: 0.053915\n",
            " 31%|███▏      | 20/64 [00:20<00:44,  1.02s/it]INFO:pv_vision.nn.modelhandler:Train Epoch: 8 [320/1012 (31%)]\tLoss: 0.038462\n",
            " 47%|████▋     | 30/64 [00:30<00:34,  1.02s/it]INFO:pv_vision.nn.modelhandler:Train Epoch: 8 [480/1012 (47%)]\tLoss: 0.054477\n",
            " 62%|██████▎   | 40/64 [00:40<00:24,  1.02s/it]INFO:pv_vision.nn.modelhandler:Train Epoch: 8 [640/1012 (62%)]\tLoss: 0.045842\n",
            " 78%|███████▊  | 50/64 [00:51<00:14,  1.02s/it]INFO:pv_vision.nn.modelhandler:Train Epoch: 8 [800/1012 (78%)]\tLoss: 0.040757\n",
            " 94%|█████████▍| 60/64 [01:01<00:04,  1.02s/it]INFO:pv_vision.nn.modelhandler:Train Epoch: 8 [960/1012 (94%)]\tLoss: 0.045092\n",
            "100%|██████████| 64/64 [01:05<00:00,  1.03s/it]\n",
            "INFO:pv_vision.nn.modelhandler:Saved model at epoch 8\n",
            "100%|██████████| 13/13 [00:08<00:00,  1.49it/s]\n",
            "INFO:pv_vision.nn.modelhandler:Val epoch: 8 \tAverage loss: 0.1666\n"
          ]
        },
        {
          "name": "stdout",
          "output_type": "stream",
          "text": [
            "Loss: 0.0451 (train) | 0.1666 (val)\n",
            "Epoch 9 / 20\n",
            "----------\n"
          ]
        },
        {
          "name": "stderr",
          "output_type": "stream",
          "text": [
            "  0%|          | 0/64 [00:00<?, ?it/s]INFO:pv_vision.nn.modelhandler:Train Epoch: 9 [0/1012 (0%)]\tLoss: 0.040102\n",
            " 16%|█▌        | 10/64 [00:09<00:54,  1.02s/it]INFO:pv_vision.nn.modelhandler:Train Epoch: 9 [160/1012 (16%)]\tLoss: 0.044735\n",
            " 31%|███▏      | 20/64 [00:20<00:45,  1.02s/it]INFO:pv_vision.nn.modelhandler:Train Epoch: 9 [320/1012 (31%)]\tLoss: 0.044332\n",
            " 47%|████▋     | 30/64 [00:30<00:34,  1.02s/it]INFO:pv_vision.nn.modelhandler:Train Epoch: 9 [480/1012 (47%)]\tLoss: 0.054550\n",
            " 62%|██████▎   | 40/64 [00:41<00:24,  1.03s/it]INFO:pv_vision.nn.modelhandler:Train Epoch: 9 [640/1012 (62%)]\tLoss: 0.053668\n",
            " 78%|███████▊  | 50/64 [00:51<00:14,  1.02s/it]INFO:pv_vision.nn.modelhandler:Train Epoch: 9 [800/1012 (78%)]\tLoss: 0.050669\n",
            " 94%|█████████▍| 60/64 [01:02<00:04,  1.02s/it]INFO:pv_vision.nn.modelhandler:Train Epoch: 9 [960/1012 (94%)]\tLoss: 0.049832\n",
            "100%|██████████| 64/64 [01:06<00:00,  1.03s/it]\n",
            "INFO:pv_vision.nn.modelhandler:Saved model at epoch 9\n",
            "100%|██████████| 13/13 [00:06<00:00,  1.93it/s]\n",
            "INFO:pv_vision.nn.modelhandler:Val epoch: 9 \tAverage loss: 0.1547\n"
          ]
        },
        {
          "name": "stdout",
          "output_type": "stream",
          "text": [
            "Loss: 0.0449 (train) | 0.1547 (val)\n",
            "Epoch 10 / 20\n",
            "----------\n"
          ]
        },
        {
          "name": "stderr",
          "output_type": "stream",
          "text": [
            "  0%|          | 0/64 [00:00<?, ?it/s]INFO:pv_vision.nn.modelhandler:Train Epoch: 10 [0/1012 (0%)]\tLoss: 0.054689\n",
            " 16%|█▌        | 10/64 [00:09<00:54,  1.01s/it]INFO:pv_vision.nn.modelhandler:Train Epoch: 10 [160/1012 (16%)]\tLoss: 0.050006\n",
            " 31%|███▏      | 20/64 [00:20<00:44,  1.02s/it]INFO:pv_vision.nn.modelhandler:Train Epoch: 10 [320/1012 (31%)]\tLoss: 0.035328\n",
            " 47%|████▋     | 30/64 [00:30<00:34,  1.02s/it]INFO:pv_vision.nn.modelhandler:Train Epoch: 10 [480/1012 (47%)]\tLoss: 0.039292\n",
            " 62%|██████▎   | 40/64 [00:41<00:24,  1.03s/it]INFO:pv_vision.nn.modelhandler:Train Epoch: 10 [640/1012 (62%)]\tLoss: 0.042229\n",
            " 78%|███████▊  | 50/64 [00:51<00:14,  1.02s/it]INFO:pv_vision.nn.modelhandler:Train Epoch: 10 [800/1012 (78%)]\tLoss: 0.052976\n",
            " 94%|█████████▍| 60/64 [01:01<00:04,  1.02s/it]INFO:pv_vision.nn.modelhandler:Train Epoch: 10 [960/1012 (94%)]\tLoss: 0.035052\n",
            "100%|██████████| 64/64 [01:05<00:00,  1.03s/it]\n",
            "INFO:pv_vision.nn.modelhandler:Saved model at epoch 10\n",
            "100%|██████████| 13/13 [00:07<00:00,  1.63it/s]\n",
            "INFO:pv_vision.nn.modelhandler:Val epoch: 10 \tAverage loss: 0.1603\n"
          ]
        },
        {
          "name": "stdout",
          "output_type": "stream",
          "text": [
            "Loss: 0.0452 (train) | 0.1603 (val)\n",
            "Epoch 11 / 20\n",
            "----------\n"
          ]
        },
        {
          "name": "stderr",
          "output_type": "stream",
          "text": [
            "  0%|          | 0/64 [00:00<?, ?it/s]INFO:pv_vision.nn.modelhandler:Train Epoch: 11 [0/1012 (0%)]\tLoss: 0.039180\n",
            " 16%|█▌        | 10/64 [00:10<00:54,  1.01s/it]INFO:pv_vision.nn.modelhandler:Train Epoch: 11 [160/1012 (16%)]\tLoss: 0.051145\n",
            " 31%|███▏      | 20/64 [00:20<00:44,  1.02s/it]INFO:pv_vision.nn.modelhandler:Train Epoch: 11 [320/1012 (31%)]\tLoss: 0.066922\n",
            " 47%|████▋     | 30/64 [00:31<00:34,  1.03s/it]INFO:pv_vision.nn.modelhandler:Train Epoch: 11 [480/1012 (47%)]\tLoss: 0.058454\n",
            " 62%|██████▎   | 40/64 [00:41<00:24,  1.03s/it]INFO:pv_vision.nn.modelhandler:Train Epoch: 11 [640/1012 (62%)]\tLoss: 0.038917\n",
            " 78%|███████▊  | 50/64 [00:51<00:14,  1.02s/it]INFO:pv_vision.nn.modelhandler:Train Epoch: 11 [800/1012 (78%)]\tLoss: 0.054560\n",
            " 94%|█████████▍| 60/64 [01:02<00:04,  1.02s/it]INFO:pv_vision.nn.modelhandler:Train Epoch: 11 [960/1012 (94%)]\tLoss: 0.045972\n",
            "100%|██████████| 64/64 [01:06<00:00,  1.04s/it]\n",
            "INFO:pv_vision.nn.modelhandler:Saved model at epoch 11\n",
            "100%|██████████| 13/13 [00:06<00:00,  1.87it/s]\n",
            "INFO:pv_vision.nn.modelhandler:Val epoch: 11 \tAverage loss: 0.1665\n"
          ]
        },
        {
          "name": "stdout",
          "output_type": "stream",
          "text": [
            "Loss: 0.0450 (train) | 0.1665 (val)\n",
            "Epoch 12 / 20\n",
            "----------\n"
          ]
        },
        {
          "name": "stderr",
          "output_type": "stream",
          "text": [
            "  0%|          | 0/64 [00:00<?, ?it/s]INFO:pv_vision.nn.modelhandler:Train Epoch: 12 [0/1012 (0%)]\tLoss: 0.053955\n",
            " 16%|█▌        | 10/64 [00:09<00:54,  1.01s/it]INFO:pv_vision.nn.modelhandler:Train Epoch: 12 [160/1012 (16%)]\tLoss: 0.047701\n",
            " 31%|███▏      | 20/64 [00:20<00:45,  1.02s/it]INFO:pv_vision.nn.modelhandler:Train Epoch: 12 [320/1012 (31%)]\tLoss: 0.052368\n",
            " 47%|████▋     | 30/64 [00:30<00:34,  1.03s/it]INFO:pv_vision.nn.modelhandler:Train Epoch: 12 [480/1012 (47%)]\tLoss: 0.035928\n",
            " 62%|██████▎   | 40/64 [00:41<00:24,  1.02s/it]INFO:pv_vision.nn.modelhandler:Train Epoch: 12 [640/1012 (62%)]\tLoss: 0.038222\n",
            " 78%|███████▊  | 50/64 [00:51<00:14,  1.02s/it]INFO:pv_vision.nn.modelhandler:Train Epoch: 12 [800/1012 (78%)]\tLoss: 0.041714\n",
            " 94%|█████████▍| 60/64 [01:01<00:04,  1.02s/it]INFO:pv_vision.nn.modelhandler:Train Epoch: 12 [960/1012 (94%)]\tLoss: 0.046576\n",
            "100%|██████████| 64/64 [01:06<00:00,  1.03s/it]\n",
            "INFO:pv_vision.nn.modelhandler:Saved model at epoch 12\n",
            "100%|██████████| 13/13 [00:07<00:00,  1.70it/s]\n",
            "INFO:pv_vision.nn.modelhandler:Val epoch: 12 \tAverage loss: 0.1516\n"
          ]
        },
        {
          "name": "stdout",
          "output_type": "stream",
          "text": [
            "Loss: 0.0452 (train) | 0.1516 (val)\n",
            "Epoch 13 / 20\n",
            "----------\n"
          ]
        },
        {
          "name": "stderr",
          "output_type": "stream",
          "text": [
            "  0%|          | 0/64 [00:00<?, ?it/s]INFO:pv_vision.nn.modelhandler:Train Epoch: 13 [0/1012 (0%)]\tLoss: 0.058751\n",
            " 16%|█▌        | 10/64 [00:10<00:54,  1.01s/it]INFO:pv_vision.nn.modelhandler:Train Epoch: 13 [160/1012 (16%)]\tLoss: 0.041475\n",
            " 31%|███▏      | 20/64 [00:20<00:45,  1.02s/it]INFO:pv_vision.nn.modelhandler:Train Epoch: 13 [320/1012 (31%)]\tLoss: 0.038400\n",
            " 47%|████▋     | 30/64 [00:31<00:34,  1.03s/it]INFO:pv_vision.nn.modelhandler:Train Epoch: 13 [480/1012 (47%)]\tLoss: 0.069077\n",
            " 62%|██████▎   | 40/64 [00:41<00:24,  1.03s/it]INFO:pv_vision.nn.modelhandler:Train Epoch: 13 [640/1012 (62%)]\tLoss: 0.031249\n",
            " 78%|███████▊  | 50/64 [00:52<00:14,  1.02s/it]INFO:pv_vision.nn.modelhandler:Train Epoch: 13 [800/1012 (78%)]\tLoss: 0.032797\n",
            " 94%|█████████▍| 60/64 [01:02<00:04,  1.02s/it]INFO:pv_vision.nn.modelhandler:Train Epoch: 13 [960/1012 (94%)]\tLoss: 0.066440\n",
            "100%|██████████| 64/64 [01:06<00:00,  1.04s/it]\n",
            "INFO:pv_vision.nn.modelhandler:Saved model at epoch 13\n",
            "100%|██████████| 13/13 [00:06<00:00,  1.86it/s]\n",
            "INFO:pv_vision.nn.modelhandler:Val epoch: 13 \tAverage loss: 0.1641\n"
          ]
        },
        {
          "name": "stdout",
          "output_type": "stream",
          "text": [
            "Loss: 0.0454 (train) | 0.1641 (val)\n",
            "Epoch 14 / 20\n",
            "----------\n"
          ]
        },
        {
          "name": "stderr",
          "output_type": "stream",
          "text": [
            "  0%|          | 0/64 [00:00<?, ?it/s]INFO:pv_vision.nn.modelhandler:Train Epoch: 14 [0/1012 (0%)]\tLoss: 0.058753\n",
            " 16%|█▌        | 10/64 [00:09<00:54,  1.01s/it]INFO:pv_vision.nn.modelhandler:Train Epoch: 14 [160/1012 (16%)]\tLoss: 0.030891\n",
            " 31%|███▏      | 20/64 [00:20<00:44,  1.02s/it]INFO:pv_vision.nn.modelhandler:Train Epoch: 14 [320/1012 (31%)]\tLoss: 0.041638\n",
            " 47%|████▋     | 30/64 [00:30<00:34,  1.02s/it]INFO:pv_vision.nn.modelhandler:Train Epoch: 14 [480/1012 (47%)]\tLoss: 0.035655\n",
            " 62%|██████▎   | 40/64 [00:41<00:24,  1.02s/it]INFO:pv_vision.nn.modelhandler:Train Epoch: 14 [640/1012 (62%)]\tLoss: 0.058327\n",
            " 78%|███████▊  | 50/64 [00:51<00:14,  1.03s/it]INFO:pv_vision.nn.modelhandler:Train Epoch: 14 [800/1012 (78%)]\tLoss: 0.060270\n",
            " 94%|█████████▍| 60/64 [01:01<00:04,  1.02s/it]INFO:pv_vision.nn.modelhandler:Train Epoch: 14 [960/1012 (94%)]\tLoss: 0.039580\n",
            "100%|██████████| 64/64 [01:05<00:00,  1.03s/it]\n",
            "INFO:pv_vision.nn.modelhandler:Saved model at epoch 14\n",
            "100%|██████████| 13/13 [00:06<00:00,  1.91it/s]\n",
            "INFO:pv_vision.nn.modelhandler:Val epoch: 14 \tAverage loss: 0.1593\n"
          ]
        },
        {
          "name": "stdout",
          "output_type": "stream",
          "text": [
            "Loss: 0.0451 (train) | 0.1593 (val)\n",
            "Epoch 15 / 20\n",
            "----------\n"
          ]
        },
        {
          "name": "stderr",
          "output_type": "stream",
          "text": [
            "  0%|          | 0/64 [00:00<?, ?it/s]INFO:pv_vision.nn.modelhandler:Train Epoch: 15 [0/1012 (0%)]\tLoss: 0.058878\n",
            " 16%|█▌        | 10/64 [00:09<00:54,  1.01s/it]INFO:pv_vision.nn.modelhandler:Train Epoch: 15 [160/1012 (16%)]\tLoss: 0.033333\n",
            " 31%|███▏      | 20/64 [00:20<00:45,  1.03s/it]INFO:pv_vision.nn.modelhandler:Train Epoch: 15 [320/1012 (31%)]\tLoss: 0.046429\n",
            " 47%|████▋     | 30/64 [00:30<00:34,  1.03s/it]INFO:pv_vision.nn.modelhandler:Train Epoch: 15 [480/1012 (47%)]\tLoss: 0.049140\n",
            " 62%|██████▎   | 40/64 [00:41<00:24,  1.03s/it]INFO:pv_vision.nn.modelhandler:Train Epoch: 15 [640/1012 (62%)]\tLoss: 0.025895\n",
            " 78%|███████▊  | 50/64 [00:51<00:14,  1.02s/it]INFO:pv_vision.nn.modelhandler:Train Epoch: 15 [800/1012 (78%)]\tLoss: 0.051567\n",
            " 94%|█████████▍| 60/64 [01:02<00:04,  1.02s/it]INFO:pv_vision.nn.modelhandler:Train Epoch: 15 [960/1012 (94%)]\tLoss: 0.068804\n",
            "100%|██████████| 64/64 [01:06<00:00,  1.03s/it]\n",
            "INFO:pv_vision.nn.modelhandler:Saved model at epoch 15\n",
            "100%|██████████| 13/13 [00:06<00:00,  1.95it/s]\n",
            "INFO:pv_vision.nn.modelhandler:Val epoch: 15 \tAverage loss: 0.1598\n"
          ]
        },
        {
          "name": "stdout",
          "output_type": "stream",
          "text": [
            "Loss: 0.0452 (train) | 0.1598 (val)\n",
            "Epoch 16 / 20\n",
            "----------\n"
          ]
        },
        {
          "name": "stderr",
          "output_type": "stream",
          "text": [
            "  0%|          | 0/64 [00:00<?, ?it/s]INFO:pv_vision.nn.modelhandler:Train Epoch: 16 [0/1012 (0%)]\tLoss: 0.035787\n",
            " 16%|█▌        | 10/64 [00:09<00:54,  1.01s/it]INFO:pv_vision.nn.modelhandler:Train Epoch: 16 [160/1012 (16%)]\tLoss: 0.044103\n",
            " 31%|███▏      | 20/64 [00:20<00:44,  1.02s/it]INFO:pv_vision.nn.modelhandler:Train Epoch: 16 [320/1012 (31%)]\tLoss: 0.067250\n",
            " 47%|████▋     | 30/64 [00:30<00:34,  1.02s/it]INFO:pv_vision.nn.modelhandler:Train Epoch: 16 [480/1012 (47%)]\tLoss: 0.043116\n",
            " 62%|██████▎   | 40/64 [00:41<00:24,  1.03s/it]INFO:pv_vision.nn.modelhandler:Train Epoch: 16 [640/1012 (62%)]\tLoss: 0.024310\n",
            " 78%|███████▊  | 50/64 [00:51<00:14,  1.03s/it]INFO:pv_vision.nn.modelhandler:Train Epoch: 16 [800/1012 (78%)]\tLoss: 0.042552\n",
            " 94%|█████████▍| 60/64 [01:01<00:04,  1.02s/it]INFO:pv_vision.nn.modelhandler:Train Epoch: 16 [960/1012 (94%)]\tLoss: 0.057415\n",
            "100%|██████████| 64/64 [01:06<00:00,  1.03s/it]\n",
            "INFO:pv_vision.nn.modelhandler:Saved model at epoch 16\n",
            "100%|██████████| 13/13 [00:06<00:00,  1.90it/s]\n",
            "INFO:pv_vision.nn.modelhandler:Val epoch: 16 \tAverage loss: 0.1612\n"
          ]
        },
        {
          "name": "stdout",
          "output_type": "stream",
          "text": [
            "Loss: 0.0449 (train) | 0.1612 (val)\n",
            "Epoch 17 / 20\n",
            "----------\n"
          ]
        },
        {
          "name": "stderr",
          "output_type": "stream",
          "text": [
            "  0%|          | 0/64 [00:00<?, ?it/s]INFO:pv_vision.nn.modelhandler:Train Epoch: 17 [0/1012 (0%)]\tLoss: 0.045279\n",
            " 16%|█▌        | 10/64 [00:09<00:54,  1.01s/it]INFO:pv_vision.nn.modelhandler:Train Epoch: 17 [160/1012 (16%)]\tLoss: 0.062564\n",
            " 31%|███▏      | 20/64 [00:20<00:44,  1.02s/it]INFO:pv_vision.nn.modelhandler:Train Epoch: 17 [320/1012 (31%)]\tLoss: 0.048943\n",
            " 47%|████▋     | 30/64 [00:30<00:34,  1.02s/it]INFO:pv_vision.nn.modelhandler:Train Epoch: 17 [480/1012 (47%)]\tLoss: 0.042492\n",
            " 62%|██████▎   | 40/64 [00:41<00:24,  1.02s/it]INFO:pv_vision.nn.modelhandler:Train Epoch: 17 [640/1012 (62%)]\tLoss: 0.041427\n",
            " 78%|███████▊  | 50/64 [00:51<00:14,  1.02s/it]INFO:pv_vision.nn.modelhandler:Train Epoch: 17 [800/1012 (78%)]\tLoss: 0.043300\n",
            " 94%|█████████▍| 60/64 [01:01<00:04,  1.02s/it]INFO:pv_vision.nn.modelhandler:Train Epoch: 17 [960/1012 (94%)]\tLoss: 0.039061\n",
            "100%|██████████| 64/64 [01:05<00:00,  1.03s/it]\n",
            "INFO:pv_vision.nn.modelhandler:Saved model at epoch 17\n",
            "100%|██████████| 13/13 [00:06<00:00,  1.96it/s]\n",
            "INFO:pv_vision.nn.modelhandler:Val epoch: 17 \tAverage loss: 0.1663\n"
          ]
        },
        {
          "name": "stdout",
          "output_type": "stream",
          "text": [
            "Loss: 0.0452 (train) | 0.1663 (val)\n",
            "Epoch 18 / 20\n",
            "----------\n"
          ]
        },
        {
          "name": "stderr",
          "output_type": "stream",
          "text": [
            "  0%|          | 0/64 [00:00<?, ?it/s]INFO:pv_vision.nn.modelhandler:Train Epoch: 18 [0/1012 (0%)]\tLoss: 0.042638\n",
            " 16%|█▌        | 10/64 [00:09<00:54,  1.02s/it]INFO:pv_vision.nn.modelhandler:Train Epoch: 18 [160/1012 (16%)]\tLoss: 0.037767\n",
            " 31%|███▏      | 20/64 [00:20<00:45,  1.02s/it]INFO:pv_vision.nn.modelhandler:Train Epoch: 18 [320/1012 (31%)]\tLoss: 0.038253\n",
            " 47%|████▋     | 30/64 [00:30<00:34,  1.03s/it]INFO:pv_vision.nn.modelhandler:Train Epoch: 18 [480/1012 (47%)]\tLoss: 0.038412\n",
            " 62%|██████▎   | 40/64 [00:41<00:24,  1.03s/it]INFO:pv_vision.nn.modelhandler:Train Epoch: 18 [640/1012 (62%)]\tLoss: 0.073911\n",
            " 78%|███████▊  | 50/64 [00:51<00:14,  1.03s/it]INFO:pv_vision.nn.modelhandler:Train Epoch: 18 [800/1012 (78%)]\tLoss: 0.041360\n",
            " 94%|█████████▍| 60/64 [01:02<00:04,  1.02s/it]INFO:pv_vision.nn.modelhandler:Train Epoch: 18 [960/1012 (94%)]\tLoss: 0.051419\n",
            "100%|██████████| 64/64 [01:06<00:00,  1.03s/it]\n",
            "INFO:pv_vision.nn.modelhandler:Saved model at epoch 18\n",
            "100%|██████████| 13/13 [00:06<00:00,  1.93it/s]\n",
            "INFO:pv_vision.nn.modelhandler:Val epoch: 18 \tAverage loss: 0.1556\n"
          ]
        },
        {
          "name": "stdout",
          "output_type": "stream",
          "text": [
            "Loss: 0.0449 (train) | 0.1556 (val)\n",
            "Epoch 19 / 20\n",
            "----------\n"
          ]
        },
        {
          "name": "stderr",
          "output_type": "stream",
          "text": [
            "  0%|          | 0/64 [00:00<?, ?it/s]INFO:pv_vision.nn.modelhandler:Train Epoch: 19 [0/1012 (0%)]\tLoss: 0.060424\n",
            " 16%|█▌        | 10/64 [00:09<00:54,  1.01s/it]INFO:pv_vision.nn.modelhandler:Train Epoch: 19 [160/1012 (16%)]\tLoss: 0.045328\n",
            " 31%|███▏      | 20/64 [00:20<00:45,  1.03s/it]INFO:pv_vision.nn.modelhandler:Train Epoch: 19 [320/1012 (31%)]\tLoss: 0.039130\n",
            " 47%|████▋     | 30/64 [00:30<00:34,  1.03s/it]INFO:pv_vision.nn.modelhandler:Train Epoch: 19 [480/1012 (47%)]\tLoss: 0.048338\n",
            " 62%|██████▎   | 40/64 [00:41<00:24,  1.03s/it]INFO:pv_vision.nn.modelhandler:Train Epoch: 19 [640/1012 (62%)]\tLoss: 0.048149\n",
            " 78%|███████▊  | 50/64 [00:51<00:14,  1.02s/it]INFO:pv_vision.nn.modelhandler:Train Epoch: 19 [800/1012 (78%)]\tLoss: 0.024389\n",
            " 94%|█████████▍| 60/64 [01:02<00:04,  1.02s/it]INFO:pv_vision.nn.modelhandler:Train Epoch: 19 [960/1012 (94%)]\tLoss: 0.050228\n",
            "100%|██████████| 64/64 [01:06<00:00,  1.03s/it]\n",
            "INFO:pv_vision.nn.modelhandler:Saved model at epoch 19\n",
            "100%|██████████| 13/13 [00:06<00:00,  2.01it/s]\n",
            "INFO:pv_vision.nn.modelhandler:Val epoch: 19 \tAverage loss: 0.1534\n"
          ]
        },
        {
          "name": "stdout",
          "output_type": "stream",
          "text": [
            "Loss: 0.0455 (train) | 0.1534 (val)\n",
            "Epoch 20 / 20\n",
            "----------\n"
          ]
        },
        {
          "name": "stderr",
          "output_type": "stream",
          "text": [
            "  0%|          | 0/64 [00:00<?, ?it/s]INFO:pv_vision.nn.modelhandler:Train Epoch: 20 [0/1012 (0%)]\tLoss: 0.057602\n",
            " 16%|█▌        | 10/64 [00:09<00:54,  1.01s/it]INFO:pv_vision.nn.modelhandler:Train Epoch: 20 [160/1012 (16%)]\tLoss: 0.022999\n",
            " 31%|███▏      | 20/64 [00:20<00:44,  1.02s/it]INFO:pv_vision.nn.modelhandler:Train Epoch: 20 [320/1012 (31%)]\tLoss: 0.035567\n",
            " 47%|████▋     | 30/64 [00:30<00:34,  1.02s/it]INFO:pv_vision.nn.modelhandler:Train Epoch: 20 [480/1012 (47%)]\tLoss: 0.053268\n",
            " 62%|██████▎   | 40/64 [00:41<00:24,  1.02s/it]INFO:pv_vision.nn.modelhandler:Train Epoch: 20 [640/1012 (62%)]\tLoss: 0.042925\n",
            " 78%|███████▊  | 50/64 [00:51<00:14,  1.02s/it]INFO:pv_vision.nn.modelhandler:Train Epoch: 20 [800/1012 (78%)]\tLoss: 0.046497\n",
            " 94%|█████████▍| 60/64 [01:02<00:04,  1.03s/it]INFO:pv_vision.nn.modelhandler:Train Epoch: 20 [960/1012 (94%)]\tLoss: 0.043064\n",
            "100%|██████████| 64/64 [01:06<00:00,  1.03s/it]\n",
            "INFO:pv_vision.nn.modelhandler:Saved model at epoch 20\n",
            "100%|██████████| 13/13 [00:06<00:00,  1.87it/s]\n",
            "INFO:pv_vision.nn.modelhandler:Val epoch: 20 \tAverage loss: 0.1683\n"
          ]
        },
        {
          "name": "stdout",
          "output_type": "stream",
          "text": [
            "Loss: 0.0451 (train) | 0.1683 (val)\n"
          ]
        },
        {
          "data": {
            "text/plain": [
              "{'train': {'loss': [0.045579425445776214,\n",
              "   0.045218858058037964,\n",
              "   0.045552201274591,\n",
              "   0.04538224128041814,\n",
              "   0.04521193283171993,\n",
              "   0.0452519010737715,\n",
              "   0.04522868405600546,\n",
              "   0.04509589229176638,\n",
              "   0.04487413387348058,\n",
              "   0.045203853788759865,\n",
              "   0.045018766502382256,\n",
              "   0.0452057121417268,\n",
              "   0.04542887539201575,\n",
              "   0.04512357286254879,\n",
              "   0.04515742101216976,\n",
              "   0.04490010534586172,\n",
              "   0.04516341283976325,\n",
              "   0.044860710798516105,\n",
              "   0.04549189718815649,\n",
              "   0.0451428030613854]},\n",
              " 'val': {'loss': [0.15773860368786788,\n",
              "   0.15718154027694609,\n",
              "   0.15617273711576696,\n",
              "   0.1508663542750405,\n",
              "   0.15842616514461796,\n",
              "   0.16364167536177288,\n",
              "   0.1543310747277446,\n",
              "   0.1665763637641581,\n",
              "   0.15469902826518547,\n",
              "   0.1602682385502792,\n",
              "   0.16650566226098595,\n",
              "   0.15157318467774042,\n",
              "   0.16406119451290224,\n",
              "   0.1593305314459452,\n",
              "   0.15977670717530135,\n",
              "   0.16120752197940175,\n",
              "   0.16629557754935287,\n",
              "   0.15557563788280254,\n",
              "   0.15338686435687832,\n",
              "   0.16828955397373294]}}"
            ]
          },
          "execution_count": 18,
          "metadata": {},
          "output_type": "execute_result"
        }
      ],
      "source": [
        "# Se inicializa el entrenamiento del modelo.\n",
        "modelhandler.train_model()"
      ]
    },
    {
      "cell_type": "code",
      "execution_count": 19,
      "metadata": {
        "colab": {
          "base_uri": "https://localhost:8080/",
          "height": 449
        },
        "id": "k55JhgMyG09V",
        "outputId": "98770658-ff66-466e-b342-ac37c8e529dd"
      },
      "outputs": [
        {
          "data": {
            "image/png": "[encoded data removed]",
            "text/plain": [
              "<Figure size 640x480 with 1 Axes>"
            ]
          },
          "metadata": {},
          "output_type": "display_data"
        }
      ],
      "source": [
        "# Se visualiza el proceso de entrenamiento.\n",
        "# Esta función traza la pérdida del modelo durante el entrenamiento.\n",
        "modelhandler.plot_loss()"
      ]
    },
    {
      "cell_type": "code",
      "execution_count": 20,
      "metadata": {
        "colab": {
          "base_uri": "https://localhost:8080/"
        },
        "id": "E52bTEXnG09W",
        "outputId": "d72f2e0f-d187-4067-aaa0-e1c6125d2e26"
      },
      "outputs": [
        {
          "data": {
            "text/plain": [
              "4"
            ]
          },
          "execution_count": 20,
          "metadata": {},
          "output_type": "execute_result"
        }
      ],
      "source": [
        "# Se busca la pérdida mínima en la validación, que corresponde al mejor modelo.\n",
        "# 'np.argmin' devuelve el índice de la pérdida mínima en el conjunto de validación.\n",
        "# Se suma 1 porque los índices en Python comienzan en 0, pero las épocas comienzan en 1.\n",
        "np.argmin(modelhandler.running_record['val']['loss'])+1"
      ]
    },
    {
      "cell_type": "code",
      "execution_count": 15,
      "metadata": {
        "colab": {
          "base_uri": "https://localhost:8080/"
        },
        "id": "kH5xVXQyG09W",
        "outputId": "d900217c-984f-40f4-c995-301ba8d7a76f"
      },
      "outputs": [
        {
          "name": "stderr",
          "output_type": "stream",
          "text": [
            "INFO:pv_vision.nn.modelhandler:Loaded model from /content/drive/MyDrive/Trabajo de titulación/PV_vision/Entrenamiento/PuntosControl/unetv3.pt\n"
          ]
        }
      ],
      "source": [
        "# Se carga el mejor modelo entrenado y se verifica su rendimiento en el conjunto de prueba.\n",
        "# Se emplea `load_model` para cargar el modelo entrenado. Este método toma el nombre del archivo de punto de control.\n",
        "modelhandler.load_model('/content/drive/MyDrive/Trabajo de titulación/PV_vision/Entrenamiento/PuntosControl/checkpoints/epoch_4/unetv5.pt')"
      ]
    },
    {
      "cell_type": "markdown",
      "metadata": {
        "id": "xa-Fdu8ZG09W"
      },
      "source": [
        "El siguiente código prueba el modelo en el conjunto de prueba y almacena la salida en 'testset_output'. También se hace un comentario sobre la puntuación de la prueba y la puntuación de la validación."
      ]
    },
    {
      "cell_type": "code",
      "execution_count": 16,
      "metadata": {
        "colab": {
          "base_uri": "https://localhost:8080/"
        },
        "id": "1q3LEUNaG09W",
        "outputId": "54fd117a-b457-4e4b-b1ba-9b2ebf682a45"
      },
      "outputs": [
        {
          "name": "stdout",
          "output_type": "stream",
          "text": [
            "Testing mode\n",
            "----------\n"
          ]
        },
        {
          "name": "stderr",
          "output_type": "stream",
          "text": [
            "100%|██████████| 23/23 [05:01<00:00, 13.09s/it]\n",
            "INFO:pv_vision.nn.modelhandler:Test set: Average loss: 0.1434\n"
          ]
        },
        {
          "name": "stdout",
          "output_type": "stream",
          "text": [
            "Test set: Average loss: 0.1434\n"
          ]
        }
      ],
      "source": [
        "# Se evalúa el modelo en el conjunto de prueba. `test_model` es una función de ModelHandler\n",
        "# que evalúa el modelo en el conjunto de prueba y almacena la salida en la caché.\n",
        "_ = modelhandler.test_model(cache_output='testset_output')\n",
        "\n",
        "# La salida del modelo se almacena en self.cache['testset_output']"
      ]
    }
  ],
  "metadata": {
    "accelerator": "GPU",
    "colab": {
      "gpuType": "T4",
      "include_colab_link": true,
      "provenance": []
    },
    "kernelspec": {
      "display_name": "Python 3",
      "name": "python3"
    },
    "language_info": {
      "name": "python"
    }
  },
  "nbformat": 4,
  "nbformat_minor": 0
}
