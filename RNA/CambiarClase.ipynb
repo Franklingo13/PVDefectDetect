{
 "cells": [
  {
   "cell_type": "markdown",
   "metadata": {},
   "source": [
    "## Notebook para experimentar con el cambio de clases en la máscara de máquina\n",
    "Se cuenta con una carpeta de máscaras de máquina. Nota: si se abre la imagen de la máscara de máquina en el visor de imágenes estándar, se verá como una imagen completamente negra, pero no lo es. Los colores de clase para la máscara de máquina se generan automáticamente como índices de clases. (0, 0, 0)- siempre es un fondo (área sin etiquetar), (1, 1, 1) - para la clase n.° 1, (2, 2, 2) - para la clase n.° 2, etc. La asignación entre los colores de máquina y las clases en la máscara de máquina se guarda en un obj_class_to_machine_color.jsonarchivo.  \n",
    "Por ejemplo:\n",
    "```json\n",
    "{\n",
    "  \"kiwi\": [1, 1, 1],\n",
    "  \"lemon\": [2, 2, 2]\n",
    "}\n",
    "```\n",
    "En este caso, el color de la máscara de máquina para la clase kiwi es [1, 1, 1] y para la clase de limón es [2, 2, 2]. El color de la máscara de máquina para el fondo es [0, 0, 0].  \n",
    "El objetivo de este cuaderno es cambiar las clases en la máscara de máquina.  \n",
    "\n",
    "Las anotaciones de las imágenes se encuentran en la carpeta 'annotations', los colores de las clases son los siguientes:  \n",
    "    - \"dark\": [1, 1, 1]  \n",
    "    - \"crack\": [2, 2, 2]  \n",
    "    - \"cross\": [3, 3, 3]  \n",
    "    - \"busbar\": [4, 4, 4]  \n",
    "\n",
    "Los valores de los píxeles a los que deben convertirse son los siguientes:  \n",
    "    - \"busbar\": [1, 1, 1]  \n",
    "    - \"crack\": [2, 2, 2]  \n",
    "    - \"cross\": [3, 3, 3]  \n",
    "    - \"dark\": [4, 4, 4]  "
   ]
  },
  {
   "cell_type": "code",
   "execution_count": 2,
   "metadata": {},
   "outputs": [
    {
     "name": "stdout",
     "output_type": "stream",
     "text": [
      "Proceso completado.\n"
     ]
    }
   ],
   "source": [
    "import cv2 as cv\n",
    "import numpy as np\n",
    "from imutils.paths import list_images\n",
    "import os\n",
    "\n",
    "# Rutas de las carpetas de entrada y salida\n",
    "#val_annotations_path = 'D:/Documentos/PV_Vision/crack_segmentation/crack_segmentation/val/ann'\n",
    "val_annotations_path = 'D:/Documentos/Universidad de Cuenca/Trabajo de Titulación/CellAnotationV2/CellValidation/masks_machine'\n",
    "outh_path = 'D:/Documentos/Universidad de Cuenca/Trabajo de Titulación/CellAnotationV2/CellValidation/ann'\n",
    "# D:\\Documentos\\Universidad de Cuenca\\Trabajo de Titulación\\CellAnotationV2\\CellValidation\n",
    "# Asegúrate de que la carpeta de salida existe\n",
    "os.makedirs(outh_path, exist_ok=True)\n",
    "\n",
    "# Diccionario para mapear los valores de píxeles antiguos a los nuevos\n",
    "pixel_mapping = {\n",
    "    1: 4,  # dark\n",
    "    2: 2,  # cross\n",
    "    3: 3,  # crack\n",
    "    4: 1,  # busbar\n",
    "}\n",
    "\n",
    "# Leer las imágenes de anotaciones\n",
    "for file_path in list_images(val_annotations_path):\n",
    "    # Leer la imagen\n",
    "    img = cv.imread(file_path, cv.IMREAD_GRAYSCALE)\n",
    "    \n",
    "    # Crear una copia de la imagen para modificar\n",
    "    modified_img = img.copy()\n",
    "    \n",
    "    # Cambiar los valores de los píxeles según el mapeo\n",
    "    for old_value, new_value in pixel_mapping.items():\n",
    "        modified_img[img == old_value] = new_value\n",
    "    \n",
    "    # Guardar la imagen modificada en la carpeta de salida\n",
    "    file_name = os.path.basename(file_path)\n",
    "    cv.imwrite(os.path.join(outh_path, file_name), modified_img)\n",
    "\n",
    "print(\"Proceso completado.\")"
   ]
  }
 ],
 "metadata": {
  "kernelspec": {
   "display_name": "Python 3",
   "language": "python",
   "name": "python3"
  },
  "language_info": {
   "codemirror_mode": {
    "name": "ipython",
    "version": 3
   },
   "file_extension": ".py",
   "mimetype": "text/x-python",
   "name": "python",
   "nbconvert_exporter": "python",
   "pygments_lexer": "ipython3",
   "version": "3.10.6"
  }
 },
 "nbformat": 4,
 "nbformat_minor": 2
}
