{
 "cells": [
  {
   "cell_type": "code",
   "execution_count": 3,
   "metadata": {},
   "outputs": [],
   "source": [
    "# Notebook para probar los algoritmos para mejorar el contraste y las métricas\n",
    "# Importar las librerías necesarias\n",
    "from ImagePreprocessing.utils import *\n",
    "from ImagePreprocessing.contrast_enhancement import *\n",
    "from EvaluationMetrics.evaluationMetrics import *\n",
    "import matplotlib.pyplot as plt"
   ]
  },
  {
   "cell_type": "code",
   "execution_count": 33,
   "metadata": {},
   "outputs": [
    {
     "name": "stdout",
     "output_type": "stream",
     "text": [
      "Imágenes en el dataset EL:  51\n",
      "Imágenes en el dataset BG:  51\n",
      "Imágenes en el dataset noBG:  51\n",
      "Imágenes en el dataset PP:  5\n"
     ]
    }
   ],
   "source": [
    "# Ruta de las imágenes\n",
    "image_path = \"E:/Panel_30W/P13/V24.2_I2.50_t30/JPEG_8\"\n",
    "background_path =\"E:/Panel_30W/P13/V24.2_I2.50_t30/fondo_8/JPEG_fondo_8\"\n",
    "No_background_path = \"E:/Panel_30W/Salida13/P8/dataset_noBG\"\n",
    "imagePP_path = \"E:/Panel_30W/Salida13/P8bg\"\n",
    "image1_2Isc_path = \"E:/Panel_30W/P13/V22.1_I0.9_t27.973/JPEG\"\n",
    "\n",
    "datasetEL = read_images(image_path)\n",
    "datasetBG = read_images(background_path)\n",
    "dataset_noBG = read_images(No_background_path)\n",
    "datasetPP = read_images(imagePP_path)\n",
    "\n",
    "# Imprime el número de imágenes en cada dataset\n",
    "# para probar que las imágenes se agregaron\n",
    "print(\"Imágenes en el dataset EL: \", len(datasetEL))\n",
    "print(\"Imágenes en el dataset BG: \", len(datasetBG))\n",
    "print(\"Imágenes en el dataset noBG: \", len(dataset_noBG))\n",
    "print(\"Imágenes en el dataset PP: \", len(datasetPP))"
   ]
  },
  {
   "cell_type": "code",
   "execution_count": 34,
   "metadata": {},
   "outputs": [
    {
     "ename": "NameError",
     "evalue": "name 'contrast_metric' is not defined",
     "output_type": "error",
     "traceback": [
      "\u001b[1;31m---------------------------------------------------------------------------\u001b[0m",
      "\u001b[1;31mNameError\u001b[0m                                 Traceback (most recent call last)",
      "Cell \u001b[1;32mIn[34], line 3\u001b[0m\n\u001b[0;32m      1\u001b[0m contrast_valuesEL \u001b[38;5;241m=\u001b[39m []\n\u001b[0;32m      2\u001b[0m \u001b[38;5;28;01mfor\u001b[39;00m image \u001b[38;5;129;01min\u001b[39;00m datasetEL:\n\u001b[1;32m----> 3\u001b[0m     contrast_valuesEL\u001b[38;5;241m.\u001b[39mappend(\u001b[43mcontrast_metric\u001b[49m(image))\n\u001b[0;32m      5\u001b[0m \u001b[38;5;28mprint\u001b[39m(\u001b[38;5;124m\"\u001b[39m\u001b[38;5;124mContraste promedio en imágenes de datasetEL: \u001b[39m\u001b[38;5;124m\"\u001b[39m, np\u001b[38;5;241m.\u001b[39mmean(contrast_valuesEL))\n",
      "\u001b[1;31mNameError\u001b[0m: name 'contrast_metric' is not defined"
     ]
    }
   ],
   "source": [
    "contrast_valuesEL = []\n",
    "for image in datasetEL:\n",
    "    contrast_valuesEL.append(contrast_metric(image))\n",
    "\n",
    "print(\"Contraste promedio en imágenes de datasetEL: \", np.mean(contrast_valuesEL))"
   ]
  }
 ],
 "metadata": {
  "kernelspec": {
   "display_name": "Python 3",
   "language": "python",
   "name": "python3"
  },
  "language_info": {
   "codemirror_mode": {
    "name": "ipython",
    "version": 3
   },
   "file_extension": ".py",
   "mimetype": "text/x-python",
   "name": "python",
   "nbconvert_exporter": "python",
   "pygments_lexer": "ipython3",
   "version": "3.10.6"
  }
 },
 "nbformat": 4,
 "nbformat_minor": 2
}
