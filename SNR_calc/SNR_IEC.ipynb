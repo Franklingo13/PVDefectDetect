{
 "cells": [
  {
   "cell_type": "markdown",
   "metadata": {},
   "source": [
    "Notebook para experimentar con el cálculo de la SNR de imágenes EL. Calcular la relación señal-ruido promedio SNR50 según lo definido por IEC NP 60904-13 necesita 2 imágenes EL de referencia y una imagen de fondo"
   ]
  },
  {
   "cell_type": "code",
   "execution_count": null,
   "metadata": {},
   "outputs": [],
   "source": [
    "# Importar librerías\n",
    "\n",
    "import numpy as np"
   ]
  },
  {
   "cell_type": "code",
   "execution_count": null,
   "metadata": {},
   "outputs": [],
   "source": [
    "# Función para el cálculo de la relación señal a ruido (SNR) promedio SNR50\n",
    "\n",
    "def SNR_IEC(i1, i2, ibg=0, allow_color_images=False):\n",
    "    \"\"\"\n",
    "    Calculla la relación señal a ruido (SNR) promedio SNR50 según la norma IEC 60904-13\n",
    "\n",
    "    Parámetros\n",
    "\n",
    "    i1: numpy.ndarray\n",
    "        Imagen de referencia\n",
    "    i2: numpy.ndarray\n",
    "        Imagen a comparar\n",
    "    ibg: float\n",
    "        Imagen del fondo\n",
    "    allow_color_images: bool\n",
    "        Permite el uso de imágenes a color\n",
    "\n",
    "    Retorna\n",
    "\n",
    "    snr50: float\n",
    "        Relación señal a ruido (SNR) promedio SNR50\n",
    "    \"\"\"\n",
    "    # Validar que las imágenes sean del tipo float64 (doble precisión):\n",
    "    i1 = i1.astype(np.float64)\n",
    "    i2 = i2.astype(np.float64)\n",
    "    if ibg != 0:\n",
    "        ibg = ibg.astype(np.float64)\n",
    "        assert i1.shape == ibg.shape, \"Las imágenes deben tener la misma resolución\"\n",
    "    # Validar que las imágenes tengan la misma resolución:\n",
    "    if i1.shape != i2.shape:\n",
    "        raise ValueError(\"Las imágenes deben tener la misma resolución\")\n",
    "    \n",
    "    # Validar que las imágenes sean en escala de grises:\n",
    "    if not allow_color_images:\n",
    "        if len(i1.shape) == 3:\n",
    "            raise ValueError(\"Las imágenes deben ser en escala de grises\")\n",
    "        \n",
    "    # SNR definido por la norma IEC 60904-13\n",
    "    signal = 0.5 * (i1 + i2) -ibg\n",
    "    noise = 0.5**0.5 * np.abs(i1 - i2) * ((2 / np.pi)**0.5)\n",
    "    signal = signal.sum()\n",
    "    noise = noise.sum()\n",
    "\n",
    "    snr50 = signal / noise\n",
    "\n",
    "    return snr50\n",
    "    "
   ]
  }
 ],
 "metadata": {
  "kernelspec": {
   "display_name": "Python 3",
   "language": "python",
   "name": "python3"
  },
  "language_info": {
   "name": "python",
   "version": "3.10.6"
  }
 },
 "nbformat": 4,
 "nbformat_minor": 2
}
