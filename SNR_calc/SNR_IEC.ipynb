{
 "cells": [
  {
   "cell_type": "markdown",
   "metadata": {},
   "source": [
    "Notebook para experimentar con el cálculo de la SNR de imágenes EL. Calcular la relación señal-ruido promedio SNR50 según lo definido por IEC NP 60904-13 necesita 2 imágenes EL de referencia y una imagen de fondo"
   ]
  },
  {
   "cell_type": "code",
   "execution_count": 26,
   "metadata": {},
   "outputs": [],
   "source": [
    "# Importar librerías\n",
    "\n",
    "import numpy as np\n",
    "import matplotlib.pyplot as plt\n",
    "import cv2\n",
    "from os import listdir, path"
   ]
  },
  {
   "cell_type": "code",
   "execution_count": 27,
   "metadata": {},
   "outputs": [],
   "source": [
    "# Función para el cálculo de la relación señal a ruido (SNR) promedio SNR50\n",
    "\n",
    "def SNR_IEC(i1, i2, ibg=0, allow_color_images=False):\n",
    "    \"\"\"\n",
    "    Calculla la relación señal a ruido (SNR) promedio SNR50 según la norma IEC 60904-13\n",
    "\n",
    "    Parámetros\n",
    "\n",
    "    i1: numpy.ndarray\n",
    "        Imagen de referencia\n",
    "    i2: numpy.ndarray\n",
    "        Imagen a comparar\n",
    "    ibg: float\n",
    "        Imagen del fondo\n",
    "    allow_color_images: bool\n",
    "        Permite el uso de imágenes a color\n",
    "\n",
    "    Retorna\n",
    "\n",
    "    snr50: float\n",
    "        Relación señal a ruido (SNR) promedio SNR50\n",
    "    \"\"\"\n",
    "    # Validar que las imágenes sean del tipo float64 (doble precisión):\n",
    "    #i1 = i1.astype(np.float64)\n",
    "    #i2 = i2.astype(np.float64)\n",
    "    i1 = np.asfarray(i1)\n",
    "    i2 = np.asfarray(i2)\n",
    "    if ibg != 0:\n",
    "        #ibg = ibg.astype(np.float64)\n",
    "        ibg = np.asfarray(ibg)\n",
    "        assert i1.shape == ibg.shape, \"Las imágenes deben tener la misma resolución\"\n",
    "    # Validar que las imágenes tengan la misma resolución:\n",
    "    if i1.shape != i2.shape:\n",
    "        raise ValueError(\"Las imágenes deben tener la misma resolución\")\n",
    "    \n",
    "    # Validar que las imágenes sean en escala de grises:\n",
    "    if not allow_color_images:\n",
    "        if len(i1.shape) == 3:\n",
    "            raise ValueError(\"Las imágenes deben ser en escala de grises\")\n",
    "        \n",
    "    # SNR definido por la norma IEC 60904-13\n",
    "    signal = 0.5 * (i1 + i2) -ibg\n",
    "    noise = 0.5**0.5 * np.abs(i1 - i2) * ((2 / np.pi)**0.5)\n",
    "    signal = signal.sum()\n",
    "    noise = noise.sum()\n",
    "\n",
    "    snr50 = signal / noise\n",
    "\n",
    "    return snr50\n",
    "    "
   ]
  },
  {
   "cell_type": "code",
   "execution_count": 28,
   "metadata": {},
   "outputs": [],
   "source": [
    "# Función para la lectura de imágenes\n",
    "\n",
    "def read_images(directory, allow_color_images=False):\n",
    "    \"\"\"\n",
    "    Lee todas las imágenes en un directorio\n",
    "\n",
    "    Parámetros\n",
    "\n",
    "    directory: str\n",
    "        Directorio con las imágenes\n",
    "    allow_color_images: bool\n",
    "        Permite el uso de imágenes a color\n",
    "\n",
    "    Retorna\n",
    "\n",
    "    images: list\n",
    "        Lista con las imágenes\n",
    "    \"\"\"\n",
    "    # Leer todas las imágenes en el directorio\n",
    "    images = []\n",
    "    for f in listdir(directory):\n",
    "        if f.endswith('.jpg') or f.endswith('.png'):\n",
    "            image = cv2.imread(path.join(directory, f), cv2.IMREAD_GRAYSCALE)\n",
    "            if allow_color_images:\n",
    "                image = cv2.imread(path.join(directory, f), cv2.IMREAD_COLOR)\n",
    "            images.append(image)\n",
    "    return images"
   ]
  },
  {
   "cell_type": "markdown",
   "metadata": {},
   "source": [
    "datasetEL = imágenes originales EL.  \n",
    "datasetBG = imágenes originales del fondo."
   ]
  },
  {
   "cell_type": "code",
   "execution_count": 29,
   "metadata": {},
   "outputs": [
    {
     "name": "stdout",
     "output_type": "stream",
     "text": [
      "Imágenes en el dataset EL:  51\n",
      "Imágenes en el dataset BG:  51\n"
     ]
    }
   ],
   "source": [
    "# Ruta de las imágenes\n",
    "image_path = \"E:/Panel_30W/P13/8/JPEG_8\"\n",
    "background_path =\"E:/Panel_30W/P13/8/fondo_8/JPEG_fondo_8\"\n",
    "\n",
    "datasetEL = read_images(image_path)\n",
    "datasetBG = read_images(background_path)\n",
    "\n",
    "# Imprime el número de imágenes en cada dataset\n",
    "# para probar que las imágenes se agregaron\n",
    "print(\"Imágenes en el dataset EL: \", len(datasetEL))\n",
    "print(\"Imágenes en el dataset BG: \", len(datasetBG))"
   ]
  },
  {
   "cell_type": "code",
   "execution_count": 30,
   "metadata": {},
   "outputs": [
    {
     "ename": "ValueError",
     "evalue": "The truth value of an array with more than one element is ambiguous. Use a.any() or a.all()",
     "output_type": "error",
     "traceback": [
      "\u001b[1;31m---------------------------------------------------------------------------\u001b[0m",
      "\u001b[1;31mValueError\u001b[0m                                Traceback (most recent call last)",
      "Cell \u001b[1;32mIn[30], line 8\u001b[0m\n\u001b[0;32m      5\u001b[0m background_image \u001b[38;5;241m=\u001b[39m datasetBG[\u001b[38;5;241m1\u001b[39m]\n\u001b[0;32m      7\u001b[0m \u001b[38;5;66;03m# Calcular SNR con imagen de fondo\u001b[39;00m\n\u001b[1;32m----> 8\u001b[0m snr_background \u001b[38;5;241m=\u001b[39m \u001b[43mSNR_IEC\u001b[49m\u001b[43m(\u001b[49m\u001b[43mimage1\u001b[49m\u001b[43m,\u001b[49m\u001b[43m \u001b[49m\u001b[43mimage2\u001b[49m\u001b[43m,\u001b[49m\u001b[43m \u001b[49m\u001b[43mbackground_image\u001b[49m\u001b[43m)\u001b[49m\n\u001b[0;32m      9\u001b[0m \u001b[38;5;28mprint\u001b[39m(\u001b[38;5;124m\"\u001b[39m\u001b[38;5;124mSNR con imagen de fondo:\u001b[39m\u001b[38;5;124m\"\u001b[39m, snr_background)\n",
      "Cell \u001b[1;32mIn[27], line 28\u001b[0m, in \u001b[0;36mSNR_IEC\u001b[1;34m(i1, i2, ibg, allow_color_images)\u001b[0m\n\u001b[0;32m     26\u001b[0m i1 \u001b[38;5;241m=\u001b[39m np\u001b[38;5;241m.\u001b[39masfarray(i1)\n\u001b[0;32m     27\u001b[0m i2 \u001b[38;5;241m=\u001b[39m np\u001b[38;5;241m.\u001b[39masfarray(i2)\n\u001b[1;32m---> 28\u001b[0m \u001b[38;5;28;01mif\u001b[39;00m \u001b[43mibg\u001b[49m\u001b[43m \u001b[49m\u001b[38;5;241;43m!=\u001b[39;49m\u001b[43m \u001b[49m\u001b[38;5;241;43m0\u001b[39;49m:\n\u001b[0;32m     29\u001b[0m     \u001b[38;5;66;03m#ibg = ibg.astype(np.float64)\u001b[39;00m\n\u001b[0;32m     30\u001b[0m     ibg \u001b[38;5;241m=\u001b[39m np\u001b[38;5;241m.\u001b[39masfarray(ibg)\n\u001b[0;32m     31\u001b[0m     \u001b[38;5;28;01massert\u001b[39;00m i1\u001b[38;5;241m.\u001b[39mshape \u001b[38;5;241m==\u001b[39m ibg\u001b[38;5;241m.\u001b[39mshape, \u001b[38;5;124m\"\u001b[39m\u001b[38;5;124mLas imágenes deben tener la misma resolución\u001b[39m\u001b[38;5;124m\"\u001b[39m\n",
      "\u001b[1;31mValueError\u001b[0m: The truth value of an array with more than one element is ambiguous. Use a.any() or a.all()"
     ]
    }
   ],
   "source": [
    "# Cálculo de la SNR50\n",
    "\n",
    "image1 = datasetEL[1]\n",
    "image2 = datasetEL[2]\n",
    "background_image = datasetBG[1]\n",
    "\n",
    "# Calcular SNR con imagen de fondo\n",
    "snr_background = SNR_IEC(image1, image2, background_image)\n",
    "print(\"SNR con imagen de fondo:\", snr_background)"
   ]
  }
 ],
 "metadata": {
  "kernelspec": {
   "display_name": "Python 3",
   "language": "python",
   "name": "python3"
  },
  "language_info": {
   "codemirror_mode": {
    "name": "ipython",
    "version": 3
   },
   "file_extension": ".py",
   "mimetype": "text/x-python",
   "name": "python",
   "nbconvert_exporter": "python",
   "pygments_lexer": "ipython3",
   "version": "3.10.6"
  }
 },
 "nbformat": 4,
 "nbformat_minor": 2
}
