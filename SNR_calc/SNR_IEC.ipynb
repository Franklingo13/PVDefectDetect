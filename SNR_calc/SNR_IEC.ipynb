{
 "cells": [
  {
   "cell_type": "markdown",
   "metadata": {},
   "source": [
    "Notebook para experimentar con el cálculo de la SNR de imágenes EL. Calcular la relación señal-ruido promedio SNR50 según lo definido por IEC NP 60904-13 necesita 2 imágenes EL de referencia y una imagen de fondo"
   ]
  },
  {
   "cell_type": "code",
   "execution_count": 1,
   "metadata": {},
   "outputs": [],
   "source": [
    "# Importar librerías\n",
    "\n",
    "import numpy as np\n",
    "import matplotlib.pyplot as plt\n",
    "import cv2\n",
    "from os import listdir, path"
   ]
  },
  {
   "cell_type": "code",
   "execution_count": null,
   "metadata": {},
   "outputs": [],
   "source": [
    "# Función para el cálculo de la relación señal a ruido (SNR) promedio SNR50\n",
    "\n",
    "def SNR_IEC(i1, i2, ibg=0, allow_color_images=False):\n",
    "    \"\"\"\n",
    "    Calculla la relación señal a ruido (SNR) promedio SNR50 según la norma IEC 60904-13\n",
    "\n",
    "    Parámetros\n",
    "\n",
    "    i1: numpy.ndarray\n",
    "        Imagen de referencia\n",
    "    i2: numpy.ndarray\n",
    "        Imagen a comparar\n",
    "    ibg: float\n",
    "        Imagen del fondo\n",
    "    allow_color_images: bool\n",
    "        Permite el uso de imágenes a color\n",
    "\n",
    "    Retorna\n",
    "\n",
    "    snr50: float\n",
    "        Relación señal a ruido (SNR) promedio SNR50\n",
    "    \"\"\"\n",
    "    # Validar que las imágenes sean del tipo float64 (doble precisión):\n",
    "    i1 = i1.astype(np.float64)\n",
    "    i2 = i2.astype(np.float64)\n",
    "    if ibg != 0:\n",
    "        ibg = ibg.astype(np.float64)\n",
    "        assert i1.shape == ibg.shape, \"Las imágenes deben tener la misma resolución\"\n",
    "    # Validar que las imágenes tengan la misma resolución:\n",
    "    if i1.shape != i2.shape:\n",
    "        raise ValueError(\"Las imágenes deben tener la misma resolución\")\n",
    "    \n",
    "    # Validar que las imágenes sean en escala de grises:\n",
    "    if not allow_color_images:\n",
    "        if len(i1.shape) == 3:\n",
    "            raise ValueError(\"Las imágenes deben ser en escala de grises\")\n",
    "        \n",
    "    # SNR definido por la norma IEC 60904-13\n",
    "    signal = 0.5 * (i1 + i2) -ibg\n",
    "    noise = 0.5**0.5 * np.abs(i1 - i2) * ((2 / np.pi)**0.5)\n",
    "    signal = signal.sum()\n",
    "    noise = noise.sum()\n",
    "\n",
    "    snr50 = signal / noise\n",
    "\n",
    "    return snr50\n",
    "    "
   ]
  },
  {
   "cell_type": "code",
   "execution_count": null,
   "metadata": {},
   "outputs": [],
   "source": [
    "# Función para la lectura de imágenes\n",
    "\n",
    "def read_images(directory, allow_color_images=False):\n",
    "    \"\"\"\n",
    "    Lee todas las imágenes en un directorio\n",
    "\n",
    "    Parámetros\n",
    "\n",
    "    directory: str\n",
    "        Directorio con las imágenes\n",
    "    allow_color_images: bool\n",
    "        Permite el uso de imágenes a color\n",
    "\n",
    "    Retorna\n",
    "\n",
    "    images: list\n",
    "        Lista con las imágenes\n",
    "    \"\"\"\n",
    "    # Leer todas las imágenes en el directorio\n",
    "    images = []\n",
    "    for f in listdir(directory):\n",
    "        if f.endswith('.jpg') or f.endswith('.png'):\n",
    "            image = cv2.imread(path.join(directory, f), cv2.IMREAD_GRAYSCALE)\n",
    "            if allow_color_images:\n",
    "                image = cv2.imread(path.join(directory, f), cv2.IMREAD_COLOR)\n",
    "            images.append(image)\n",
    "    return images"
   ]
  },
  {
   "cell_type": "markdown",
   "metadata": {},
   "source": [
    "datasetEL = imágenes originales EL.  \n",
    "datasetBG = imágenes originales del fondo."
   ]
  },
  {
   "cell_type": "code",
   "execution_count": null,
   "metadata": {},
   "outputs": [],
   "source": [
    "# Prueba de la función SNR_IEC\n",
    "\n",
    "# Ruta de las imágenes\n",
    "image_path = \"E:/Panel_30W/P13/8/JPEG_8\"\n",
    "background_path =\"E:/Panel_30W/P13/8/fondo_8\"\n",
    "\n",
    "datasetEL = read_images(image_path)\n",
    "datasetBG = read_images(background_path)\n",
    "\n",
    "# Imprime el número de imágenes en cada dataset\n",
    "# para probar que las imágenes se agregaron\n",
    "print(\"Imágenes en el dataset EL: \", len(datasetEL))\n",
    "print(\"Imágenes en el dataset BG: \", len(datasetBG))"
   ]
  }
 ],
 "metadata": {
  "kernelspec": {
   "display_name": "Python 3",
   "language": "python",
   "name": "python3"
  },
  "language_info": {
   "codemirror_mode": {
    "name": "ipython",
    "version": 3
   },
   "file_extension": ".py",
   "mimetype": "text/x-python",
   "name": "python",
   "nbconvert_exporter": "python",
   "pygments_lexer": "ipython3",
   "version": "3.10.6"
  }
 },
 "nbformat": 4,
 "nbformat_minor": 2
}
