{
 "cells": [
  {
   "cell_type": "markdown",
   "metadata": {},
   "source": [
    "Implementación de métricas de evualuación de la mejora conseguida en el contraste."
   ]
  },
  {
   "cell_type": "code",
   "execution_count": 1,
   "metadata": {},
   "outputs": [],
   "source": [
    "# Importar librerías\n",
    "\n",
    "import os\n",
    "import numpy as np\n",
    "import matplotlib.pyplot as plt\n",
    "import cv2\n",
    "from os import listdir, path"
   ]
  },
  {
   "cell_type": "code",
   "execution_count": 3,
   "metadata": {},
   "outputs": [],
   "source": [
    "# Función para la lectura de imágenes\n",
    "\n",
    "def read_images(directory, allow_color_images=False):\n",
    "    \"\"\"\n",
    "    Lee todas las imágenes en un directorio\n",
    "\n",
    "    Parámetros\n",
    "\n",
    "    directory: str\n",
    "        Directorio con las imágenes\n",
    "    allow_color_images: bool\n",
    "        Permite el uso de imágenes a color\n",
    "\n",
    "    Retorna\n",
    "\n",
    "    images: list\n",
    "        Lista con las imágenes\n",
    "    \"\"\"\n",
    "    # Leer todas las imágenes en el directorio\n",
    "    images = []\n",
    "    for f in listdir(directory):\n",
    "        if f.endswith('.jpg') or f.endswith('.png'):\n",
    "            image = cv2.imread(path.join(directory, f), cv2.IMREAD_GRAYSCALE)\n",
    "            if allow_color_images:\n",
    "                image = cv2.imread(path.join(directory, f), cv2.IMREAD_COLOR)\n",
    "            images.append(image)\n",
    "    return images"
   ]
  },
  {
   "cell_type": "markdown",
   "metadata": {},
   "source": [
    "1. **Contrast (C)**:\n",
    "   - Esta métrica cuantifica el contraste global de las imágenes en escala de grises.\n",
    "   - La fórmula para el cálculo del contraste es:\n",
    "     $$ C(f) = \\sqrt{\\sum_{j=0}^{L-1} (j - E(f))^2 \\times P(j)} $$\n",
    "     Donde:\n",
    "     - \\( j \\) representa el valor del píxel en la imagen.\n",
    "     - \\( L \\) son los niveles de grises.\n",
    "     - \\( E(f) \\) es la intensidad media de la imagen.\n",
    "     - \\( P(j) \\) es la probabilidad de ocurrencia del valor \\( j \\).\n",
    "   - Para evaluar la mejora del contraste, el valor \\( C(f_E) \\) de la imagen resultante debe ser mayor que \\( C(f) \\) de la imagen original.\n",
    "\n",
    "2. **Contrast Improvement Ratio (CIR)**:\n",
    "   - Esta métrica evalúa la mejora del contraste local de la imagen en escala de grises.\n",
    "   - La fórmula para el cálculo de CIR es:\n",
    "     $$CIR(f, f_E) = \\frac{\\sum_{(u,v) \\in D} |w(u, v) - \\tilde{w}(u, v)|^2}{\\sum_{(u,v) \\in D} w(u, v)^2} $$\n",
    "     Donde:\n",
    "     - \\( w(u, v) \\) y \\( \\tilde{w}(u, v) \\) son los valores de contraste locales de las imágenes original y mejorada, respectivamente.\n",
    "     - \\( D \\) es el dominio de la imagen.\n",
    "   - Esta fórmula mide la diferencia entre los pesos de los píxeles en la imagen original y la imagen filtrada, normalizando la contribución de los pesos originales.\n",
    "\n",
    "3. **PSNR (Peak Signal-to-Noise Ratio)**:\n",
    "   - Esta medida compara la calidad de la imagen.\n",
    "   - La fórmula para el cálculo de PSNR es:\n",
    "     $$PSNR = 10 \\log_{10} \\left( \\frac{\\sum_{x} \\sum_{y}  255^2}{ \\sum_{x} \\sum_{y} \\left\\{  f(x, y) - f_{En}(x, y)\\right\\}^2} \\right)$$\n",
    "     Donde:\n",
    "     - \\( f \\) y \\( f_{En} \\) representan la imagen original y la imagen mejorada, respectivamente.\n",
    "   - Un valor mayor de PSNR indica una mejor mejora de la imagen y menos ruido.\n",
    "\n",
    "4. **Índice lineal de borrosidad (γ)**:\n",
    "   - Esta medida se utiliza para comparar la claridad de una imagen mejorada.\n",
    "   - La fórmula para el cálculo de \\( \\gamma \\) es:\n",
    "     $$ \\gamma(f_{En}) = \\frac{2}{MN} \\sum_{x=1}^{m} \\sum_{y=1}^{n} \\min\\{ p_{xy}, (1 - p_{xy}) \\} $$\n",
    "     Donde:\n",
    "     - \\( p_{xy} = \\sin \\left[ \\frac{\\pi}{2} \\times \\left( 1 - \\frac{f(x,y)}{f_{\\text{max}}} \\right) \\right] \\)\n",
    "     - \\( f_{\\text{max}} \\) es el valor máximo de gris de \\( f_{En} \\).\n",
    "   - Un valor menor de \\( \\gamma \\) indica una mejor claridad de la imagen mejorada.\n",
    "\n",
    "5. **PL (Picture Level)**:\n",
    "   - Esta medida combina PSNR y \\( \\gamma \\) para medir tanto la condición de ruido como la claridad de la imagen mejorada.\n",
    "   - La fórmula para el cálculo de PL es:\n",
    "     $$ PL = \\frac{PSNR}{\\gamma} $$\n",
    "   - Un valor mayor de PL indica menos ruido y una imagen mejorada más clara.\n",
    "\n",
    "Espero que estas descripciones te ayuden a implementar las métricas de evaluación de mejora de contraste de imágenes EL en escala de grises utilizando Python. Si necesitas más ayuda con la implementación específica de alguna de estas métricas, no dudes en preguntar."
   ]
  },
  {
   "cell_type": "code",
   "execution_count": 2,
   "metadata": {},
   "outputs": [],
   "source": [
    "# Función para medir la métrica Contrast en imágenes en escala de grises\n",
    "\n",
    "def contrast_metric(image):\n",
    "    # Calcular la intensidad media de la imagen\n",
    "    E = np.mean(image)\n",
    "\n",
    "    # Obtener el número de niveles de grises (L)\n",
    "    num_gray_levels = np.max(image) + 1\n",
    "\n",
    "    # Calcular la probabilidad de ocurrencia de cada valor de píxel\n",
    "    hist, _ = np.histogram(image, bins=num_gray_levels, range=(0, num_gray_levels))\n",
    "    P = hist / float(np.sum(hist))\n",
    "\n",
    "    # Calcular el contraste\n",
    "    C = np.sqrt(np.sum([(j - E)**2 * P[j] for j in range(num_gray_levels)]))\n",
    "\n",
    "    return C"
   ]
  },
  {
   "cell_type": "code",
   "execution_count": null,
   "metadata": {},
   "outputs": [],
   "source": [
    "# Ruta de las imágenes\n",
    "image_path = \"E:/Panel_30W/P13/V24.2_I2.50_t30/JPEG_8\"\n",
    "background_path =\"E:/Panel_30W/P13/V24.2_I2.50_t30/fondo_8/JPEG_fondo_8\"\n",
    "No_background_path = \"E:/Panel_30W/Salida13/P8/dataset_noBG\"\n",
    "imagePP_path = \"E:/Panel_30W/Salida13/P8bg\"\n",
    "image1_2Isc_path = \"E:/Panel_30W/P13/V22.1_I0.9_t27.973/JPEG\"\n",
    "\n",
    "datasetEL = read_images(image_path)\n",
    "datasetBG = read_images(background_path)\n",
    "dataset_noBG = read_images(No_background_path)\n",
    "datasetPP = read_images(imagePP_path)\n",
    "\n",
    "# Imprime el número de imágenes en cada dataset\n",
    "# para probar que las imágenes se agregaron\n",
    "print(\"Imágenes en el dataset EL: \", len(datasetEL))\n",
    "print(\"Imágenes en el dataset BG: \", len(datasetBG))\n",
    "print(\"Imágenes en el dataset noBG: \", len(dataset_noBG))\n",
    "print(\"Imágenes en el dataset PP: \", len(datasetPP))"
   ]
  }
 ],
 "metadata": {
  "kernelspec": {
   "display_name": "Python 3",
   "language": "python",
   "name": "python3"
  },
  "language_info": {
   "codemirror_mode": {
    "name": "ipython",
    "version": 3
   },
   "file_extension": ".py",
   "mimetype": "text/x-python",
   "name": "python",
   "nbconvert_exporter": "python",
   "pygments_lexer": "ipython3",
   "version": "3.10.6"
  }
 },
 "nbformat": 4,
 "nbformat_minor": 2
}
