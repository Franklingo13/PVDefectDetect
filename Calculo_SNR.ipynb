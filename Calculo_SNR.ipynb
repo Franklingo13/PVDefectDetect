{
 "cells": [
  {
   "cell_type": "code",
   "execution_count": null,
   "metadata": {},
   "outputs": [],
   "source": [
    "import os\n",
    "import matplotlib.pyplot as plt\n",
    "import pandas as pd\n",
    "import numpy as np\n",
    "from ImagePreprocessing.utils import *\n",
    "from ImagePreprocessing.contrast_enhancement import *\n",
    "from EvaluationMetrics.evaluationMetrics import *\n",
    "from SNR_calc.SNR_IEC import *"
   ]
  },
  {
   "cell_type": "markdown",
   "metadata": {},
   "source": [
    "dataset_1_6Isc: Dataset con un sexto de la corriente de cortocircuito (1/6)*Isc  \n",
    "dataset_2_6Isc: Dataset con dos sextos de la corriente de cortocircuito (2/6)*Isc  \n",
    "dataset_3_6Isc: Dataset con tres sextos de la corriente de cortocircuito (3/6)*Isc  \n",
    "dataset_4_6Isc: Dataset con cuatro sextos de la corriente de cortocircuito (4/6)*Isc  \n",
    "dataset_5_6Isc: Dataset con cinco sextos de la corriente de cortocircuito (5/6)*Isc  \n",
    "dataset_Isc: Dataset con la corriente de cortocircuito completa (Isc)  \n",
    "\n",
    "datasetBG_1_6: Dataset del BG en la captura de dataset_1_6Isc  \n"
   ]
  },
  {
   "cell_type": "code",
   "execution_count": 9,
   "metadata": {},
   "outputs": [
    {
     "name": "stdout",
     "output_type": "stream",
     "text": [
      "Directorio a leer:  E:/Panel_260W/\n"
     ]
    }
   ],
   "source": [
    "images_path = read_folder_path(r\"E:\\Panel_260W\")\n",
    "print(\"Directorio a leer: \", images_path)\n",
    "dataset_1_6_Isc = read_images(images_path + \"V40_I1.823_t27.97/JPEG\")\n",
    "dataset_2_6_Isc = read_images(images_path + \"V40_I3.211_t27.97/JPEG\")\n",
    "dataset_3_6_Isc = read_images(images_path + \"V40_I4.6_t/JPEG\")\n",
    "dataset_4_6_Isc = read_images(images_path + \"V42_I6.13_t/JPEG\")\n",
    "dataset_5_6_Isc = read_images(images_path + \"V43_I7.64_t/JPEG\")\n",
    "dataset_Isc = read_images(images_path + \"V44.5_I9.16_t/JPEG\")\n",
    "datasetBG_1_6 = read_images(images_path + \"V40_I1.823_t27.97/fondo_jpeg\")\n",
    "datasetBG_2_6 = read_images(images_path + \"V40_I3.211_t27.97/fondo_jpeg\")\n",
    "datasetBG_3_6 = read_images(images_path + \"V40_I4.6_t/fondo_jpeg\")\n",
    "datasetBG_4_6 = read_images(images_path + \"V42_I6.13_t/fondo_jpeg\")\n",
    "datasetBG_5_6 = read_images(images_path + \"V43_I7.64_t/fondo_jpeg\")\n",
    "datasetBG = read_images(images_path + \"V44.5_I9.16_t/fondo_jpeg\")"
   ]
  },
  {
   "cell_type": "code",
   "execution_count": 13,
   "metadata": {},
   "outputs": [
    {
     "name": "stdout",
     "output_type": "stream",
     "text": [
      "SNR_IEC promedio de dataset_1_6_Isc:  5.041193193998569\n",
      "SNR_IEC promedio de dataset_2_6_Isc:  12.227231805032979\n",
      "SNR_IEC promedio de dataset_3_6_Isc:  23.093133779922578\n",
      "SNR_IEC promedio de dataset_4_6_Isc:  24.90146300796982\n",
      "SNR_IEC promedio de dataset_5_6_Isc:  30.409459288605518\n",
      "SNR_IEC promedio de dataset_Isc:  36.447606559526236\n"
     ]
    }
   ],
   "source": [
    "# Cálculo de la SNR_IEC de dataset_1_6_Isc\n",
    "snr_1_6_Isc = []\n",
    "for i in range(0, 50):\n",
    "    image1 = dataset_1_6_Isc[i]\n",
    "    image2 = dataset_1_6_Isc[i+1]\n",
    "    BG_image = datasetBG_1_6[i+1]\n",
    "    snr_1_6_Isc.append(SNR_IEC(image1, image2, BG_image))\n",
    "\n",
    "print(\"SNR_IEC promedio de dataset_1_6_Isc: \", np.mean(snr_1_6_Isc))\n",
    "\n",
    "# Cálculo de la SNR_IEC de dataset_2_6_Isc\n",
    "snr_2_6_Isc = []\n",
    "for i in range(0, 50):\n",
    "    image1 = dataset_2_6_Isc[i]\n",
    "    image2 = dataset_2_6_Isc[i+1]\n",
    "    BG_image = datasetBG_2_6[i+1]\n",
    "    snr_2_6_Isc.append(SNR_IEC(image1, image2, BG_image))\n",
    "\n",
    "print(\"SNR_IEC promedio de dataset_2_6_Isc: \", np.mean(snr_2_6_Isc))\n",
    "\n",
    "# Cálculo de la SNR_IEC de dataset_3_6_Isc\n",
    "snr_3_6_Isc = []\n",
    "for i in range(0, 50):\n",
    "    image1 = dataset_3_6_Isc[i]\n",
    "    image2 = dataset_3_6_Isc[i+1]\n",
    "    BG_image = datasetBG_3_6[i+1]\n",
    "    snr_3_6_Isc.append(SNR_IEC(image1, image2, BG_image))\n",
    "\n",
    "print(\"SNR_IEC promedio de dataset_3_6_Isc: \", np.mean(snr_3_6_Isc))\n",
    "\n",
    "# Cálculo de la SNR_IEC de dataset_4_6_Isc\n",
    "snr_4_6_Isc = []\n",
    "for i in range(0, 50):\n",
    "    image1 = dataset_4_6_Isc[i]\n",
    "    image2 = dataset_4_6_Isc[i+1]\n",
    "    BG_image = datasetBG_4_6[i+1]\n",
    "    snr_4_6_Isc.append(SNR_IEC(image1, image2, BG_image))\n",
    "\n",
    "print(\"SNR_IEC promedio de dataset_4_6_Isc: \", np.mean(snr_4_6_Isc))\n",
    "\n",
    "# Cálculo de la SNR_IEC de dataset_5_6_Isc\n",
    "snr_5_6_Isc = []\n",
    "for i in range(0, 50):\n",
    "    image1 = dataset_5_6_Isc[i]\n",
    "    image2 = dataset_5_6_Isc[i+1]\n",
    "    BG_image = datasetBG_5_6[i+1]\n",
    "    snr_5_6_Isc.append(SNR_IEC(image1, image2, BG_image))\n",
    "\n",
    "print(\"SNR_IEC promedio de dataset_5_6_Isc: \", np.mean(snr_5_6_Isc))\n",
    "\n",
    "# Cálculo de la SNR_IEC de dataset_Isc\n",
    "snr_Isc = []\n",
    "for i in range(0, 50):\n",
    "    image1 = dataset_Isc[i]\n",
    "    image2 = dataset_Isc[i+1]\n",
    "    BG_image = datasetBG[i+1]\n",
    "    snr_Isc.append(SNR_IEC(image1, image2, BG_image))\n",
    "\n",
    "print(\"SNR_IEC promedio de dataset_Isc: \", np.mean(snr_Isc))"
   ]
  },
  {
   "cell_type": "code",
   "execution_count": null,
   "metadata": {},
   "outputs": [],
   "source": [
    "salida_path = read_folder_path(r\"D:\\Documentos\\Universidad de Cuenca\\Trabajo de Titulación\\PVDefectDetect\\SNR_calc\")\n"
   ]
  }
 ],
 "metadata": {
  "kernelspec": {
   "display_name": "Python 3",
   "language": "python",
   "name": "python3"
  },
  "language_info": {
   "codemirror_mode": {
    "name": "ipython",
    "version": 3
   },
   "file_extension": ".py",
   "mimetype": "text/x-python",
   "name": "python",
   "nbconvert_exporter": "python",
   "pygments_lexer": "ipython3",
   "version": "3.10.6"
  }
 },
 "nbformat": 4,
 "nbformat_minor": 2
}
