{
 "cells": [
  {
   "cell_type": "code",
   "execution_count": 1,
   "metadata": {},
   "outputs": [
    {
     "name": "stderr",
     "output_type": "stream",
     "text": [
      "C:\\Users\\Compustore\\AppData\\Local\\Temp\\ipykernel_48824\\2027365184.py:3: DeprecationWarning: \n",
      "Pyarrow will become a required dependency of pandas in the next major release of pandas (pandas 3.0),\n",
      "(to allow more performant data types, such as the Arrow string type, and better interoperability with other libraries)\n",
      "but was not found to be installed on your system.\n",
      "If this would cause problems for you,\n",
      "please provide us feedback at https://github.com/pandas-dev/pandas/issues/54466\n",
      "        \n",
      "  import pandas as pd\n"
     ]
    }
   ],
   "source": [
    "import os\n",
    "import matplotlib.pyplot as plt\n",
    "import pandas as pd\n",
    "import numpy as np\n",
    "import scipy.stats as stats\n",
    "from ImagePreprocessing.utils import *\n",
    "from ImagePreprocessing.contrast_enhancement import *\n",
    "from EvaluationMetrics.evaluationMetrics import *\n",
    "from SNR_calc.SNR_IEC import *"
   ]
  },
  {
   "cell_type": "markdown",
   "metadata": {},
   "source": [
    "dataset_1_6Isc: Dataset con un sexto de la corriente de cortocircuito (1/6)*Isc  \n",
    "dataset_2_6Isc: Dataset con dos sextos de la corriente de cortocircuito (2/6)*Isc  \n",
    "dataset_3_6Isc: Dataset con tres sextos de la corriente de cortocircuito (3/6)*Isc  \n",
    "dataset_4_6Isc: Dataset con cuatro sextos de la corriente de cortocircuito (4/6)*Isc  \n",
    "dataset_5_6Isc: Dataset con cinco sextos de la corriente de cortocircuito (5/6)*Isc  \n",
    "dataset_Isc: Dataset con la corriente de cortocircuito completa (Isc)  \n",
    "\n",
    "datasetBG_1_6: Dataset del BG en la captura de dataset_1_6Isc  \n"
   ]
  },
  {
   "cell_type": "code",
   "execution_count": 11,
   "metadata": {},
   "outputs": [
    {
     "name": "stdout",
     "output_type": "stream",
     "text": [
      "Directorio a leer:  E:/Panel_260W/\n"
     ]
    }
   ],
   "source": [
    "images_path = read_folder_path(r\"E:\\Panel_260W\")\n",
    "print(\"Directorio a leer: \", images_path)\n",
    "dataset_1_6_Isc = read_images(images_path + \"V40_I1.823_t27.97/JPEG\")\n",
    "dataset_2_6_Isc = read_images(images_path + \"V40_I3.211_t27.97/JPEG\")\n",
    "dataset_3_6_Isc = read_images(images_path + \"V40_I4.6_t/JPEG\")\n",
    "dataset_4_6_Isc = read_images(images_path + \"V42_I6.13_t/JPEG\")\n",
    "dataset_5_6_Isc = read_images(images_path + \"V43_I7.64_t/JPEG\")\n",
    "dataset_Isc = read_images(images_path + \"V44.5_I9.16_t/JPEG\")\n",
    "datasetBG_1_6 = read_images(images_path + \"V40_I1.823_t27.97/fondo_jpeg\")\n",
    "datasetBG_2_6 = read_images(images_path + \"V40_I3.211_t27.97/fondo_jpeg\")\n",
    "datasetBG_3_6 = read_images(images_path + \"V40_I4.5_t/fondo_jpeg\")\n",
    "datasetBG_4_6 = read_images(images_path + \"V42_I6.13_t/fondo_jpeg\")\n",
    "datasetBG_5_6 = read_images(images_path + \"V43_I7.64_t/fondo_jpeg\")\n",
    "datasetBG = read_images(images_path + \"V44.5_I9.16_t/fondo_jpeg\")\n",
    "\n"
   ]
  },
  {
   "cell_type": "code",
   "execution_count": 18,
   "metadata": {},
   "outputs": [],
   "source": [
    "#dataset_3_6_Isc_NoBG_CLAHE = read_images(images_path + \"V40_I4.5_t_CLAHE\")\n",
    "#datasetBG_3_6_NoBG_CLAHE = read_images(images_path + \"V40_I4.5_t/fondo_jpeg\")"
   ]
  },
  {
   "cell_type": "code",
   "execution_count": 20,
   "metadata": {},
   "outputs": [
    {
     "name": "stdout",
     "output_type": "stream",
     "text": [
      "SNR_IEC promedio de dataset_1_6_Isc:  5.041193193998569\n",
      "SNR_IEC promedio de dataset_2_6_Isc:  12.227231805032979\n",
      "SNR_IEC promedio de dataset_3_6_Isc:  24.52031014652848\n",
      "SNR_IEC promedio de dataset_4_6_Isc:  24.90146300796982\n",
      "SNR_IEC promedio de dataset_5_6_Isc:  30.409459288605518\n",
      "SNR_IEC promedio de dataset_Isc:  36.447606559526236\n"
     ]
    }
   ],
   "source": [
    "# Cálculo de la SNR_IEC de dataset_1_6_Isc\n",
    "snr_1_6_Isc = []\n",
    "for i in range(0, 50):\n",
    "    image1 = dataset_1_6_Isc[i]\n",
    "    image2 = dataset_1_6_Isc[i+1]\n",
    "    BG_image = datasetBG_1_6[i+1]\n",
    "    snr_1_6_Isc.append(SNR_IEC(image1, image2, BG_image))\n",
    "\n",
    "print(\"SNR_IEC promedio de dataset_1_6_Isc: \", np.mean(snr_1_6_Isc))\n",
    "\n",
    "# Cálculo de la SNR_IEC de dataset_2_6_Isc\n",
    "snr_2_6_Isc = []\n",
    "for i in range(0, 50):\n",
    "    image1 = dataset_2_6_Isc[i]\n",
    "    image2 = dataset_2_6_Isc[i+1]\n",
    "    BG_image = datasetBG_2_6[i+1]\n",
    "    snr_2_6_Isc.append(SNR_IEC(image1, image2, BG_image))\n",
    "\n",
    "print(\"SNR_IEC promedio de dataset_2_6_Isc: \", np.mean(snr_2_6_Isc))\n",
    "\n",
    "# Cálculo de la SNR_IEC de dataset_3_6_Isc\n",
    "snr_3_6_Isc = []\n",
    "for i in range(0, 50):\n",
    "    image1 = dataset_3_6_Isc[i]\n",
    "    image2 = dataset_3_6_Isc[i+1]\n",
    "    BG_image = datasetBG_3_6[i+1]\n",
    "    snr_3_6_Isc.append(SNR_IEC(image1, image2, BG_image))\n",
    "\n",
    "print(\"SNR_IEC promedio de dataset_3_6_Isc: \", np.mean(snr_3_6_Isc))\n",
    "\n",
    "# Cálculo de la SNR_IEC de dataset_4_6_Isc\n",
    "snr_4_6_Isc = []\n",
    "for i in range(0, 50):\n",
    "    image1 = dataset_4_6_Isc[i]\n",
    "    image2 = dataset_4_6_Isc[i+1]\n",
    "    BG_image = datasetBG_4_6[i+1]\n",
    "    snr_4_6_Isc.append(SNR_IEC(image1, image2, BG_image))\n",
    "\n",
    "print(\"SNR_IEC promedio de dataset_4_6_Isc: \", np.mean(snr_4_6_Isc))\n",
    "\n",
    "# Cálculo de la SNR_IEC de dataset_5_6_Isc\n",
    "snr_5_6_Isc = []\n",
    "for i in range(0, 50):\n",
    "    image1 = dataset_5_6_Isc[i]\n",
    "    image2 = dataset_5_6_Isc[i+1]\n",
    "    BG_image = datasetBG_5_6[i+1]\n",
    "    snr_5_6_Isc.append(SNR_IEC(image1, image2, BG_image))\n",
    "\n",
    "print(\"SNR_IEC promedio de dataset_5_6_Isc: \", np.mean(snr_5_6_Isc))\n",
    "\n",
    "# Cálculo de la SNR_IEC de dataset_Isc\n",
    "snr_Isc = []\n",
    "for i in range(0, 50):\n",
    "    image1 = dataset_Isc[i]\n",
    "    image2 = dataset_Isc[i+1]\n",
    "    BG_image = datasetBG[i+1]\n",
    "    snr_Isc.append(SNR_IEC(image1, image2, BG_image))\n",
    "\n",
    "print(\"SNR_IEC promedio de dataset_Isc: \", np.mean(snr_Isc))\n",
    "\n",
    "# # Cálculo de la SNR_IEC de dataset_3_6_Isc_NoBG_CLAHE\n",
    "# snr_3_6_Isc_NoBG_CLAHE = []\n",
    "# for i in range(0, 50):\n",
    "#     image1 = dataset_3_6_Isc_NoBG_CLAHE[i]\n",
    "#     image2 = dataset_3_6_Isc_NoBG_CLAHE[i+1]\n",
    "#     BG_image = datasetBG_3_6_NoBG_CLAHE[i+1]\n",
    "#     snr_3_6_Isc_NoBG_CLAHE.append(SNR_IEC(image1, image2, BG_image))\n",
    "\n",
    "# print(\"SNR_IEC promedio de dataset_3_6_Isc_NoBG_CLAHE: \", np.mean(snr_3_6_Isc_NoBG_CLAHE))"
   ]
  },
  {
   "cell_type": "code",
   "execution_count": 21,
   "metadata": {},
   "outputs": [],
   "source": [
    "salida_path = read_folder_path(r\"D:\\Documentos\\Universidad de Cuenca\\Trabajo de Titulación\\PVDefectDetect\\SNR_calc\")\n",
    "\n",
    "# Guardar los resultados en un archivo CSV\n",
    "data = {'SNR_IEC_1_6_Isc': snr_1_6_Isc, 'SNR_IEC_2_6_Isc': snr_2_6_Isc, 'SNR_IEC_3_6_Isc': snr_3_6_Isc, 'SNR_IEC_4_6_Isc': snr_4_6_Isc, 'SNR_IEC_5_6_Isc': snr_5_6_Isc, 'SNR_IEC_Isc': snr_Isc}\n",
    "df = pd.DataFrame(data)\n",
    "df.to_csv(salida_path + 'SNR_IEC.csv', index=False)\n",
    "\n"
   ]
  },
  {
   "cell_type": "code",
   "execution_count": 23,
   "metadata": {},
   "outputs": [],
   "source": [
    "# Cálculo de las medias de los SNR_IEC\n",
    "mean_snr_1_6_Isc = np.mean(snr_1_6_Isc)\n",
    "mean_snr_2_6_Isc = np.mean(snr_2_6_Isc)\n",
    "mean_snr_3_6_Isc = np.mean(snr_3_6_Isc)\n",
    "mean_snr_4_6_Isc = np.mean(snr_4_6_Isc)\n",
    "mean_snr_5_6_Isc = np.mean(snr_5_6_Isc)\n",
    "mean_snr_Isc = np.mean(snr_Isc)"
   ]
  },
  {
   "cell_type": "code",
   "execution_count": 24,
   "metadata": {},
   "outputs": [],
   "source": [
    "# Cálculo de las desviaciones estándar de los SNR_IEC\n",
    "std_snr_1_6_Isc = np.std(snr_1_6_Isc)\n",
    "std_snr_2_6_Isc = np.std(snr_2_6_Isc)\n",
    "std_snr_3_6_Isc = np.std(snr_3_6_Isc)\n",
    "std_snr_4_6_Isc = np.std(snr_4_6_Isc)\n",
    "std_snr_5_6_Isc = np.std(snr_5_6_Isc)\n",
    "std_snr_Isc = np.std(snr_Isc)"
   ]
  },
  {
   "cell_type": "code",
   "execution_count": 25,
   "metadata": {},
   "outputs": [],
   "source": [
    "# Cálculo del error estándar de las medias de los SNR_IEC\n",
    "sem_snr_1_6_Isc = std_snr_1_6_Isc / np.sqrt(len(snr_1_6_Isc))\n",
    "sem_snr_2_6_Isc = std_snr_2_6_Isc / np.sqrt(len(snr_2_6_Isc))\n",
    "sem_snr_3_6_Isc = std_snr_3_6_Isc / np.sqrt(len(snr_3_6_Isc))\n",
    "sem_snr_4_6_Isc = std_snr_4_6_Isc / np.sqrt(len(snr_4_6_Isc))\n",
    "sem_snr_5_6_Isc = std_snr_5_6_Isc / np.sqrt(len(snr_5_6_Isc))\n",
    "sem_snr_Isc = std_snr_Isc / np.sqrt(len(snr_Isc))"
   ]
  },
  {
   "cell_type": "code",
   "execution_count": 26,
   "metadata": {},
   "outputs": [],
   "source": [
    "# Calculo del intervalo de confianza de los SNR_IEC\n",
    "ci_snr_1_6_Isc = stats.t.interval(0.95, len(snr_1_6_Isc)-1, loc=mean_snr_1_6_Isc, scale=sem_snr_1_6_Isc)\n",
    "ci_snr_2_6_Isc = stats.t.interval(0.95, len(snr_2_6_Isc)-1, loc=mean_snr_2_6_Isc, scale=sem_snr_2_6_Isc)\n",
    "ci_snr_3_6_Isc = stats.t.interval(0.95, len(snr_3_6_Isc)-1, loc=mean_snr_3_6_Isc, scale=sem_snr_3_6_Isc)\n",
    "ci_snr_4_6_Isc = stats.t.interval(0.95, len(snr_4_6_Isc)-1, loc=mean_snr_4_6_Isc, scale=sem_snr_4_6_Isc)\n",
    "ci_snr_5_6_Isc = stats.t.interval(0.95, len(snr_5_6_Isc)-1, loc=mean_snr_5_6_Isc, scale=sem_snr_5_6_Isc)\n",
    "ci_snr_Isc = stats.t.interval(0.95, len(snr_Isc)-1, loc=mean_snr_Isc, scale=sem_snr_Isc)"
   ]
  },
  {
   "cell_type": "code",
   "execution_count": 30,
   "metadata": {},
   "outputs": [
    {
     "data": {
      "image/png": "[encoded data removed]",
      "text/plain": [
       "<Figure size 640x480 with 1 Axes>"
      ]
     },
     "metadata": {},
     "output_type": "display_data"
    }
   ],
   "source": [
    "means = [mean_snr_1_6_Isc, mean_snr_2_6_Isc, mean_snr_3_6_Isc, mean_snr_4_6_Isc, mean_snr_5_6_Isc, mean_snr_Isc]\n",
    "cis = [ci_snr_1_6_Isc, ci_snr_2_6_Isc, ci_snr_3_6_Isc, ci_snr_4_6_Isc, ci_snr_5_6_Isc, ci_snr_Isc]\n",
    "\n",
    "# Gráfico de barras\n",
    "fig, ax = plt.subplots()\n",
    "bar_labels = ['1/6 Isc', '2/6 Isc', '3/6 Isc', '4/6 Isc', '5/6 Isc', 'Isc']\n",
    "x_pos = np.arange(len(bar_labels))\n",
    "bars = ax.bar(x_pos, means, yerr=[abs(top -bot)/2 for top, bot in cis], align='center', alpha=0.5, ecolor='black', capsize=10)\n",
    "for i in range(len(bars)):\n",
    "    ax.text(bars[i].get_x() + bars[i].get_width(), bars[i].get_height(), str(round(means[i], 2)), ha='center', va='bottom', fontsize=14)\n",
    "ax.set_ylabel('SNR_IEC')\n",
    "ax.set_xticks(x_pos)\n",
    "ax.set_xticklabels(bar_labels, fontsize=14)\n",
    "ax.set_title('SNR_IEC promedio de las imágenes', fontsize=16)\n",
    "ax.yaxis.grid(True)\n",
    "plt.tight_layout()\n",
    "plt.show()"
   ]
  },
  {
   "cell_type": "code",
   "execution_count": 33,
   "metadata": {},
   "outputs": [
    {
     "name": "stdout",
     "output_type": "stream",
     "text": [
      "  Conjunto de datos      Media  Desviación estándar  Nivel de confianza  \\\n",
      "0           1/6 Isc   5.041193             0.097250                0.05   \n",
      "1           2/6 Isc  12.227232             0.143490                0.05   \n",
      "2           3/6 Isc  24.520310             0.235025                0.05   \n",
      "3           4/6 Isc  24.901463             0.163739                0.05   \n",
      "4           5/6 Isc  30.409459             2.825343                0.05   \n",
      "5               Isc  36.447607             0.158061                0.05   \n",
      "\n",
      "   Intervalo de confianza  \n",
      "0                0.027638  \n",
      "1                0.040779  \n",
      "2                0.066793  \n",
      "3                0.046534  \n",
      "4                0.802954  \n",
      "5                0.044921  \n"
     ]
    }
   ],
   "source": [
    "# Tabla resumen con DataFrame de pandas para los SNR_IEC\n",
    "datasets = ['1/6 Isc', '2/6 Isc', '3/6 Isc', '4/6 Isc', '5/6 Isc', 'Isc']\n",
    "alphas = [0.05, 0.05, 0.05, 0.05, 0.05, 0.05]\n",
    "cis_snr = [\n",
    "    (ci_snr_1_6_Isc[1]-ci_snr_1_6_Isc[0])/2, (ci_snr_2_6_Isc[1]-ci_snr_2_6_Isc[0])/2, \n",
    "    (ci_snr_3_6_Isc[1]-ci_snr_3_6_Isc[0])/2, (ci_snr_4_6_Isc[1]-ci_snr_4_6_Isc[0])/2, \n",
    "    (ci_snr_5_6_Isc[1]-ci_snr_5_6_Isc[0])/2, (ci_snr_Isc[1]-ci_snr_Isc[0])/2]\n",
    "\n",
    "df = pd.DataFrame({\n",
    "    'Conjunto de datos': datasets,\n",
    "    'Media': means,\n",
    "    'Desviación estándar': [std_snr_1_6_Isc, std_snr_2_6_Isc, std_snr_3_6_Isc, std_snr_4_6_Isc, std_snr_5_6_Isc, std_snr_Isc],\n",
    "    'Nivel de confianza': alphas,\n",
    "    'Intervalo de confianza': cis_snr\n",
    "})\n",
    "\n",
    "print(df)"
   ]
  },
  {
   "cell_type": "code",
   "execution_count": 4,
   "metadata": {},
   "outputs": [
    {
     "name": "stdout",
     "output_type": "stream",
     "text": [
      "Directorio a leer:  E:/Panel_260W/SNR_images_promedio_original/\n"
     ]
    }
   ],
   "source": [
    "# Cálculo de la SNR_IEC de image 1, image2 y BG_image\n",
    "# Image1 se compone de la imagen promedio de la primera mitad del dataset 1/6 Isc\n",
    "# Image2 se compone de la imagen promedio de la segunda mitad del dataset 1/6 Isc\n",
    "# Se emplea tres diferentes BG_image: BG_image_original, BG_image25 y BG_image51\n",
    "# BG_image_original es una imagen al azar del dataset 1/6 Isc\n",
    "# BG_image25 es el promedio de 25 imágenes de fondo del dataset 1/6 Isc\n",
    "# BG_image51 es el promedio de 51 imágenes de fondo del dataset 1/6 Isc\n",
    "path_images = read_folder_path(r\"E:\\Panel_260W\\SNR_images_promedio_original\")\n",
    "print(\"Directorio a leer: \", path_images)\n",
    "image1 = cv2.imread((path_images + \"AVG_1.jpg\"), cv2.IMREAD_GRAYSCALE)\n",
    "image2 = cv2.imread((path_images + \"AVG_2.jpg\"), cv2.IMREAD_GRAYSCALE)\n",
    "BG_image_original= cv2.imread((path_images + \"BG.jpg\"), cv2.IMREAD_GRAYSCALE)\n",
    "BG_image25 = cv2.imread((path_images + \"AVG_BG_25.jpg\"), cv2.IMREAD_GRAYSCALE)  # Promedio de 25 imágenes de fondo\n",
    "BG_image51 = cv2.imread((path_images + \"AVG_BG_51.jpg\"), cv2.IMREAD_GRAYSCALE)  # Promedio de 51 imágenes de fondo (total del dataset)\n"
   ]
  },
  {
   "cell_type": "code",
   "execution_count": 4,
   "metadata": {},
   "outputs": [
    {
     "name": "stdout",
     "output_type": "stream",
     "text": [
      "Directorio a leer:  E:/Panel_260W/SNR_images_promedio_original/\n"
     ]
    }
   ],
   "source": [
    "path_images = read_folder_path(r\"E:\\Panel_260W\\SNR_images_promedio_original\")\n",
    "print(\"Directorio a leer: \", path_images)\n",
    "image1 = cv2.imread((path_images + \"AVG1-ISC.jpg\"), cv2.IMREAD_GRAYSCALE)\n",
    "image2 = cv2.imread((path_images + \"AVG2-ISC.jpg\"), cv2.IMREAD_GRAYSCALE)\n",
    "BG_image_original= cv2.imread((path_images + \"BG00-ISC.jpg\"), cv2.IMREAD_GRAYSCALE)\n",
    "BG_image25 = cv2.imread((path_images + \"AVG_fondo25-ISC.jpg\"), cv2.IMREAD_GRAYSCALE)  # Promedio de 25 imágenes de fondo\n",
    "BG_image51 = cv2.imread((path_images + \"AVG_fondo51-ISC.jpg\"), cv2.IMREAD_GRAYSCALE)  # Promedio de 51 imágenes de fondo (total del dataset)"
   ]
  },
  {
   "cell_type": "code",
   "execution_count": 5,
   "metadata": {},
   "outputs": [
    {
     "name": "stdout",
     "output_type": "stream",
     "text": [
      "SNR_IEC con fondo original:  53.13208353000616\n",
      "SNR_IEC con fondo promedio de 25 imágenes:  53.0815515968491\n",
      "SNR_IEC con fondo promedio de 51 imágenes:  52.99103659137451\n",
      "Error entre SNR_IEC con fondo original y fondo promedio de 51 imágenes:  0.14104693863165352\n"
     ]
    }
   ],
   "source": [
    "# Cálculo de la SNR_IEC de image 1, image2 y BG_image con I_el= I_SC\n",
    "\n",
    "snr_original = SNR_IEC(image1, image2, BG_image_original)\n",
    "snr_BG25 = SNR_IEC(image1, image2, BG_image25)\n",
    "snr_BG51 = SNR_IEC(image1, image2, BG_image51)\n",
    "print(\"SNR_IEC con fondo original: \", snr_original)\n",
    "print(\"SNR_IEC con fondo promedio de 25 imágenes: \", snr_BG25)\n",
    "print(\"SNR_IEC con fondo promedio de 51 imágenes: \", snr_BG51)\n",
    "\n",
    "# Cálculo de error, entre valor mínimo y máximo de SNR_IEC\n",
    "error_snr_original = abs(snr_original - snr_BG51)\n",
    "print(\"Error entre SNR_IEC con fondo original y fondo promedio de 51 imágenes: \", error_snr_original)\n",
    "\n"
   ]
  },
  {
   "cell_type": "code",
   "execution_count": 6,
   "metadata": {},
   "outputs": [
    {
     "data": {
      "image/png": "[encoded data removed]",
      "text/plain": [
       "<Figure size 640x480 with 1 Axes>"
      ]
     },
     "metadata": {},
     "output_type": "display_data"
    }
   ],
   "source": [
    "# Gráfico de barras de la SNR_IEC con BG_original, BG_25 y BG_51\n",
    "fig, ax = plt.subplots()\n",
    "bar_labels = ['BG_azar', 'BG_25', 'BG_51']\n",
    "x_pos = np.arange(len(bar_labels))\n",
    "bars = ax.bar(x_pos, [snr_original, snr_BG25, snr_BG51], align='center', alpha=0.5, ecolor='black', capsize=10)\n",
    "for i in range(len(bars)):\n",
    "    ax.text(bars[i].get_x() + bars[i].get_width(), bars[i].get_height(), str(round([snr_original, snr_BG25, snr_BG51][i], 2)), ha='center', va='bottom', fontsize=14)\n",
    "ax.set_ylabel('SNR_IEC', fontsize = 14)\n",
    "ax.set_xticks(x_pos)\n",
    "ax.set_xticklabels(bar_labels, fontsize=14)\n",
    "ax.set_title('SNR_IEC al promediar las imágenes', fontsize=16)\n",
    "ax.yaxis.grid(True)\n",
    "plt.tight_layout()\n",
    "plt.show()\n"
   ]
  }
 ],
 "metadata": {
  "kernelspec": {
   "display_name": "Python 3",
   "language": "python",
   "name": "python3"
  },
  "language_info": {
   "codemirror_mode": {
    "name": "ipython",
    "version": 3
   },
   "file_extension": ".py",
   "mimetype": "text/x-python",
   "name": "python",
   "nbconvert_exporter": "python",
   "pygments_lexer": "ipython3",
   "version": "3.10.6"
  }
 },
 "nbformat": 4,
 "nbformat_minor": 2
}
