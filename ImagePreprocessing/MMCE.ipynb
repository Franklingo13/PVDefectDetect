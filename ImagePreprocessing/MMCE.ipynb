{
 "cells": [
  {
   "cell_type": "markdown",
   "metadata": {},
   "source": [
    "# IMplementación del algoritmo Multiscale Morphological Contrast Enhancement (MMCE)"
   ]
  },
  {
   "cell_type": "code",
   "execution_count": 9,
   "metadata": {},
   "outputs": [],
   "source": [
    "# Importación de librerías\n",
    "import os\n",
    "from os import listdir, path\n",
    "import numpy as np\n",
    "import cv2\n",
    "from skimage.morphology import square, opening, closing"
   ]
  },
  {
   "cell_type": "code",
   "execution_count": 10,
   "metadata": {},
   "outputs": [],
   "source": [
    "# Primera versión de la función MMCE\n",
    "def MMCE1(image, n):\n",
    "    WTH = []\n",
    "    BTH = []\n",
    "    for i in range(1, n+1):\n",
    "        se = square(2*i+1)\n",
    "        WTH.append(image - opening(image, se))\n",
    "        BTH.append(closing(image, se) - image)\n",
    "\n",
    "    WTH_S = [WTH[i] - WTH[i-1] for i in range(1, n)]\n",
    "    BTH_S = [BTH[i] - BTH[i-1] for i in range(1, n)]\n",
    "\n",
    "    WTH_M = np.max(WTH, axis=0)\n",
    "    BTH_M = np.max(BTH, axis=0)\n",
    "    WTH_MS = np.max(WTH_S, axis=0)\n",
    "    BTH_MS = np.max(BTH_S, axis=0)\n",
    "\n",
    "    enhanced_image = image + (WTH_M + WTH_MS) - (BTH_M + BTH_MS)\n",
    "    return enhanced_image"
   ]
  },
  {
   "cell_type": "code",
   "execution_count": 11,
   "metadata": {},
   "outputs": [],
   "source": [
    "# Segunda versión de la función MMCE\n",
    "def MMC2(image, n_iterations):\n",
    "    # Primera etapa del algoritmo: Obtener escalas de brillo y oscuridad\n",
    "    scales = [cv2.getStructuringElement(cv2.MORPH_RECT, (2*i+1, 2*i+1)) for i in range(1, n_iterations+1)]\n",
    "    WTH_scales = [cv2.subtract(image, cv2.morphologyEx(image, cv2.MORPH_TOPHAT, scale)) for scale in scales]\n",
    "    BTH_scales = [cv2.subtract(cv2.morphologyEx(image, cv2.MORPH_BLACKHAT, scale), image) for scale in scales]\n",
    "    \n",
    "    # Segunda etapa del algoritmo: Obtener sustracciones de escalas\n",
    "    WTH_diff_scales = [cv2.subtract(WTH_scales[i], WTH_scales[i-1]) for i in range(1, len(WTH_scales))]\n",
    "    BTH_diff_scales = [cv2.subtract(BTH_scales[i], BTH_scales[i-1]) for i in range(1, len(BTH_scales))]\n",
    "    \n",
    "    # Tercera etapa del algoritmo: Calcular máximos valores\n",
    "    WTH_max_scale = max(WTH_scales, key=np.max)\n",
    "    BTH_max_scale = max(BTH_scales, key=np.max)\n",
    "    WTH_diff_max_scale = max(WTH_diff_scales, key=np.max)\n",
    "    BTH_diff_max_scale = max(BTH_diff_scales, key=np.max)\n",
    "    \n",
    "    # Etapa final: Obtener la imagen con aumento de contraste\n",
    "    enhanced_image = cv2.add(cv2.subtract(cv2.add(image, WTH_max_scale), BTH_max_scale), cv2.subtract(WTH_diff_max_scale, BTH_diff_max_scale))\n",
    "    \n",
    "    return enhanced_image"
   ]
  },
  {
   "cell_type": "code",
   "execution_count": 12,
   "metadata": {},
   "outputs": [],
   "source": [
    "# Tercera versión de la función MMCE\n",
    "def mmce3(image, n=3, gamma=1.2, beta=2.0):\n",
    "  # Normalizar la imagen a valores entre 0 y 1\n",
    "    \n",
    "    \"\"\"\n",
    "  Implementación del algoritmo MMCE para mejorar el contraste de la imagen.\n",
    "\n",
    "  Args:\n",
    "    image: Imagen de entrada (en escala de grises).\n",
    "    n: Número de iteraciones para la extracción de características multiescala.\n",
    "    gamma: Parámetro que controla la intensidad del realce de contraste.\n",
    "    beta: Parámetro que controla la suavidad del realce de contraste.\n",
    "\n",
    "  Returns:\n",
    "    Imagen mejorada.\n",
    "  \"\"\"\n",
    "    image = image / 255.0\n",
    "    # Aplicar la transformación top-hat multiescala\n",
    "    enhanced_image = []\n",
    "    for k in range(n):\n",
    "        kernel = cv2.getStructuringElement(cv2.MORPH_RECT, (3, 3))\n",
    "        filtered_image = cv2.morphologyEx(image, cv2.MORPH_BLACKHAT, kernel)\n",
    "        enhanced_image.append(filtered_image)\n",
    "\n",
    "    # Combinar las características de imagen multiescala\n",
    "    enhanced_image = np.array(enhanced_image).mean(axis=0)\n",
    "\n",
    "    # Aplicar la función de transformación de contraste\n",
    "    enhanced_image = np.power(enhanced_image, gamma) * beta\n",
    "    # Limitar los valores entre 0 y 1\n",
    "    enhanced_image = np.clip(enhanced_image, 0, 1)\n",
    "    # Convertir la imagen mejorada al formato de salida\n",
    "    enhanced_image = enhanced_image * 255.0\n",
    "    enhanced_image = enhanced_image.astype(np.uint8)\n",
    "    return enhanced_image"
   ]
  },
  {
   "cell_type": "code",
   "execution_count": 13,
   "metadata": {},
   "outputs": [],
   "source": [
    "# Función para la lectura de imágenes\n",
    "\n",
    "def read_images(directory, allow_color_images=False):\n",
    "    \"\"\"\n",
    "    Lee todas las imágenes en un directorio\n",
    "\n",
    "    Parámetros\n",
    "\n",
    "    directory: str\n",
    "        Directorio con las imágenes\n",
    "    allow_color_images: bool\n",
    "        Permite el uso de imágenes a color\n",
    "\n",
    "    Retorna\n",
    "\n",
    "    images: list\n",
    "        Lista con las imágenes\n",
    "    \"\"\"\n",
    "    # Leer todas las imágenes en el directorio\n",
    "    images = []\n",
    "    for f in listdir(directory):\n",
    "        if f.endswith('.jpg') or f.endswith('.png'):\n",
    "            image = cv2.imread(path.join(directory, f), cv2.IMREAD_GRAYSCALE)\n",
    "            if allow_color_images:\n",
    "                image = cv2.imread(path.join(directory, f), cv2.IMREAD_COLOR)\n",
    "            images.append(image)\n",
    "    return images"
   ]
  },
  {
   "cell_type": "code",
   "execution_count": 14,
   "metadata": {},
   "outputs": [
    {
     "name": "stdout",
     "output_type": "stream",
     "text": [
      "Imágenes en el dataset EL:  51\n",
      "Imágenes en el dataset PP:  5\n"
     ]
    }
   ],
   "source": [
    "# Ruta de las imágenes\n",
    "image_path = \"E:/Panel_30W/P13/V24.2_I2.50_t30/JPEG_8\"\n",
    "#background_path =\"E:/Panel_30W/P13/V24.2_I2.50_t30/fondo_8/JPEG_fondo_8\"\n",
    "#No_background_path = \"E:/Panel_30W/Salida13/P8/dataset_noBG\"\n",
    "imagePP_path = \"E:/Panel_30W/Salida13/P8bg\"\n",
    "#image1_2Isc_path = \"E:/Panel_30W/P13/V22.1_I0.9_t27.973/JPEG\"\n",
    "\n",
    "datasetEL = read_images(image_path)\n",
    "#datasetBG = read_images(background_path)\n",
    "#dataset_noBG = read_images(No_background_path)\n",
    "datasetPP = read_images(imagePP_path)\n",
    "\n",
    "# Imprime el número de imágenes en cada dataset\n",
    "# para probar que las imágenes se agregaron\n",
    "print(\"Imágenes en el dataset EL: \", len(datasetEL))\n",
    "#print(\"Imágenes en el dataset BG: \", len(datasetBG))\n",
    "#print(\"Imágenes en el dataset noBG: \", len(dataset_noBG))\n",
    "print(\"Imágenes en el dataset PP: \", len(datasetPP))"
   ]
  },
  {
   "cell_type": "code",
   "execution_count": 15,
   "metadata": {},
   "outputs": [
    {
     "data": {
      "text/plain": [
       "-1"
      ]
     },
     "execution_count": 15,
     "metadata": {},
     "output_type": "execute_result"
    }
   ],
   "source": [
    "#Evaluación de la primera versión de la función MMCE\n",
    "\n",
    "image_test = datasetEL[0]\n",
    "image_enhanced = MMCE1(image_test, 3) \n",
    "cv2.imshow(\"Original\", image_test)\n",
    "cv2.imshow(\"Mejorada\", image_enhanced)\n",
    "cv2.waitKey(0)"
   ]
  },
  {
   "cell_type": "code",
   "execution_count": 18,
   "metadata": {},
   "outputs": [
    {
     "data": {
      "text/plain": [
       "-1"
      ]
     },
     "execution_count": 18,
     "metadata": {},
     "output_type": "execute_result"
    }
   ],
   "source": [
    "# Evaluación de la segunda versión de la función MMCE\n",
    "\n",
    "image_test = datasetEL[0]\n",
    "image_enhanced = MMC2(image_test, 7)\n",
    "cv2.imshow(\"Original\", image_test)\n",
    "cv2.imshow(\"Mejorada\", image_enhanced)\n",
    "cv2.waitKey(0)"
   ]
  },
  {
   "cell_type": "code",
   "execution_count": 17,
   "metadata": {},
   "outputs": [
    {
     "data": {
      "text/plain": [
       "-1"
      ]
     },
     "execution_count": 17,
     "metadata": {},
     "output_type": "execute_result"
    }
   ],
   "source": [
    "# Evaluación de la tercera versión de la función MMCE\n",
    "\n",
    "image_test = datasetEL[0]\n",
    "image_enhanced = mmce3(image_test, 3)\n",
    "cv2.imshow(\"Original\", image_test)\n",
    "cv2.imshow(\"Mejorada\", image_enhanced)\n",
    "cv2.waitKey(0)"
   ]
  },
  {
   "cell_type": "code",
   "execution_count": null,
   "metadata": {},
   "outputs": [],
   "source": [
    "# Aplique la función MMCE2 a todas las imágenes en el dataset y luego obtener la media de las imágenes mejoradas\n",
    "enhanced_images = []\n",
    "enhanced_images = [MMC2(image, 7) for image in datasetEL]\n",
    "mean_enhanced_image = np.median(np.array(enhanced_images), axis=0).astype(np.uint8)\n",
    "\n",
    "cv2.imshow(\"Mejorada\", mean_enhanced_image)\n",
    "cv2.waitKey(0)"
   ]
  }
 ],
 "metadata": {
  "kernelspec": {
   "display_name": "Python 3",
   "language": "python",
   "name": "python3"
  },
  "language_info": {
   "codemirror_mode": {
    "name": "ipython",
    "version": 3
   },
   "file_extension": ".py",
   "mimetype": "text/x-python",
   "name": "python",
   "nbconvert_exporter": "python",
   "pygments_lexer": "ipython3",
   "version": "3.10.6"
  }
 },
 "nbformat": 4,
 "nbformat_minor": 2
}
