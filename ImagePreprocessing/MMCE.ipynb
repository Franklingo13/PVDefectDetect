{
 "cells": [
  {
   "cell_type": "markdown",
   "metadata": {},
   "source": [
    "# IMplementación del algoritmo Multiscale Morphological Contrast Enhancement (MMCE)"
   ]
  },
  {
   "cell_type": "code",
   "execution_count": 1,
   "metadata": {},
   "outputs": [],
   "source": [
    "# Importación de librerías\n",
    "import numpy as np\n",
    "import cv2\n",
    "from skimage.morphology import square, opening, closing"
   ]
  },
  {
   "cell_type": "code",
   "execution_count": null,
   "metadata": {},
   "outputs": [],
   "source": [
    "# Primera versión de la función MMCE\n",
    "def MMCE1(image, n):\n",
    "    WTH = []\n",
    "    BTH = []\n",
    "    for i in range(1, n+1):\n",
    "        se = square(2*i+1)\n",
    "        WTH.append(image - opening(image, se))\n",
    "        BTH.append(closing(image, se) - image)\n",
    "\n",
    "    WTH_S = [WTH[i] - WTH[i-1] for i in range(1, n)]\n",
    "    BTH_S = [BTH[i] - BTH[i-1] for i in range(1, n)]\n",
    "\n",
    "    WTH_M = np.max(WTH, axis=0)\n",
    "    BTH_M = np.max(BTH, axis=0)\n",
    "    WTH_MS = np.max(WTH_S, axis=0)\n",
    "    BTH_MS = np.max(BTH_S, axis=0)\n",
    "\n",
    "    enhanced_image = image + (WTH_M + WTH_MS) - (BTH_M + BTH_MS)\n",
    "    return enhanced_image"
   ]
  },
  {
   "cell_type": "code",
   "execution_count": null,
   "metadata": {},
   "outputs": [],
   "source": [
    "# Segunda versión de la función MMCE\n",
    "def MMC2(image, n_iterations):\n",
    "    # Primera etapa del algoritmo: Obtener escalas de brillo y oscuridad\n",
    "    scales = [cv2.getStructuringElement(cv2.MORPH_RECT, (2*i+1, 2*i+1)) for i in range(1, n_iterations+1)]\n",
    "    WTH_scales = [cv2.subtract(image, cv2.morphologyEx(image, cv2.MORPH_TOPHAT, scale)) for scale in scales]\n",
    "    BTH_scales = [cv2.subtract(cv2.morphologyEx(image, cv2.MORPH_BLACKHAT, scale), image) for scale in scales]\n",
    "    \n",
    "    # Segunda etapa del algoritmo: Obtener sustracciones de escalas\n",
    "    WTH_diff_scales = [cv2.subtract(WTH_scales[i], WTH_scales[i-1]) for i in range(1, len(WTH_scales))]\n",
    "    BTH_diff_scales = [cv2.subtract(BTH_scales[i], BTH_scales[i-1]) for i in range(1, len(BTH_scales))]\n",
    "    \n",
    "    # Tercera etapa del algoritmo: Calcular máximos valores\n",
    "    WTH_max_scale = max(WTH_scales, key=np.max)\n",
    "    BTH_max_scale = max(BTH_scales, key=np.max)\n",
    "    WTH_diff_max_scale = max(WTH_diff_scales, key=np.max)\n",
    "    BTH_diff_max_scale = max(BTH_diff_scales, key=np.max)\n",
    "    \n",
    "    # Etapa final: Obtener la imagen con aumento de contraste\n",
    "    enhanced_image = cv2.add(cv2.subtract(cv2.add(image, WTH_max_scale), BTH_max_scale), cv2.subtract(WTH_diff_max_scale, BTH_diff_max_scale))\n",
    "    \n",
    "    return enhanced_image"
   ]
  },
  {
   "cell_type": "code",
   "execution_count": null,
   "metadata": {},
   "outputs": [],
   "source": [
    "# Tercera versión de la función MMCE\n",
    "def mmce3(image, n=3, gamma=1.2, beta=2.0):\n",
    "  # Normalizar la imagen a valores entre 0 y 1\n",
    "    \n",
    "    \"\"\"\n",
    "  Implementación del algoritmo MMCE para mejorar el contraste de la imagen.\n",
    "\n",
    "  Args:\n",
    "    image: Imagen de entrada (en escala de grises).\n",
    "    n: Número de iteraciones para la extracción de características multiescala.\n",
    "    gamma: Parámetro que controla la intensidad del realce de contraste.\n",
    "    beta: Parámetro que controla la suavidad del realce de contraste.\n",
    "\n",
    "  Returns:\n",
    "    Imagen mejorada.\n",
    "  \"\"\"\n",
    "    image = image / 255.0\n",
    "    # Aplicar la transformación top-hat multiescala\n",
    "    enhanced_image = []\n",
    "    for k in range(n):\n",
    "        kernel = cv2.getStructuringElement(cv2.MORPH_RECT, (3, 3))\n",
    "        filtered_image = cv2.morphologyEx(image, cv2.MORPH_BLACKHAT, kernel)\n",
    "        enhanced_image.append(filtered_image)\n",
    "\n",
    "    # Combinar las características de imagen multiescala\n",
    "    enhanced_image = np.array(enhanced_image).mean(axis=0)\n",
    "\n",
    "    # Aplicar la función de transformación de contraste\n",
    "    enhanced_image = np.power(enhanced_image, gamma) * beta\n",
    "    # Limitar los valores entre 0 y 1\n",
    "    enhanced_image = np.clip(enhanced_image, 0, 1)\n",
    "    # Convertir la imagen mejorada al formato de salida\n",
    "    enhanced_image = enhanced_image * 255.0\n",
    "    enhanced_image = enhanced_image.astype(np.uint8)\n",
    "    return enhanced_image\n",
    "\n",
    "\n",
    "    \n",
    "\n",
    "\n"
   ]
  }
 ],
 "metadata": {
  "kernelspec": {
   "display_name": "Python 3",
   "language": "python",
   "name": "python3"
  },
  "language_info": {
   "codemirror_mode": {
    "name": "ipython",
    "version": 3
   },
   "file_extension": ".py",
   "mimetype": "text/x-python",
   "name": "python",
   "nbconvert_exporter": "python",
   "pygments_lexer": "ipython3",
   "version": "3.10.6"
  }
 },
 "nbformat": 4,
 "nbformat_minor": 2
}
