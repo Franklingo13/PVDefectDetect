{
 "cells": [
  {
   "cell_type": "markdown",
   "metadata": {},
   "source": [
    "**Explicación del código:**\n",
    "\n",
    "* El código define las dimensiones de las imágenes (ancho y alto) y carga las 51 imágenes en una lista.\n",
    "* Se definen funciones para eliminar pixeles calientes, eliminar pixeles muertos, eliminar ruido y mejorar el contraste.\n",
    "* Cada imagen se procesa utilizando las funciones definidas.\n",
    "* Las imágenes procesadas se combinan en una sola imagen.\n",
    "* La imagen combinada se muestra en pantalla y se guarda en un archivo.\n",
    "\n",
    "**Ajustes:**\n",
    "\n",
    "* Puedes ajustar los parámetros de las funciones de eliminación de pixeles, eliminación de ruido y mejora de contraste según las características de tus imágenes.\n",
    "* Puedes probar diferentes técnicas de eliminación de ruido y mejora de contraste.\n",
    "* Puedes guardar las imágenes procesadas individualmente para analizarlas en detalle.\n",
    "\n"
   ]
  },
  {
   "cell_type": "code",
   "execution_count": null,
   "metadata": {},
   "outputs": [],
   "source": [
    "# Importar librerías\n",
    "import cv2\n",
    "import numpy as np\n",
    "import matplotlib.pyplot as plt"
   ]
  },
  {
   "cell_type": "code",
   "execution_count": null,
   "metadata": {},
   "outputs": [],
   "source": [
    "# Definir las dimensiones de las imágenes\n",
    "WIDTH = 640\n",
    "HEIGHT = 512\n",
    "\n",
    "# Función para eliminar pixeles calientes\n",
    "def remove_hot_pixels(image):\n",
    "  # Umbral para pixeles calientes\n",
    "  threshold = 254\n",
    "  # Reemplazar pixeles calientes por el valor medio local\n",
    "  return cv2.fastNlMeansDenoising(image, h=10, templateWindowSize=7, searchWindowSize=21)\n",
    "\n",
    "# Función para eliminar pixeles muertos\n",
    "def remove_dead_pixels(image):\n",
    "  # Umbral para pixeles muertos\n",
    "  threshold = 1\n",
    "  # Reemplazar pixeles muertos por el valor medio local\n",
    "  return cv2.fastNlMeansDenoising(image, h=10, templateWindowSize=7, searchWindowSize=21)\n",
    "\n",
    "# Función para eliminar ruido\n",
    "def remove_noise(image):\n",
    "  # Aplicar filtro gaussiano\n",
    "  kernel_size = (5, 5)\n",
    "  sigma = 1.0\n",
    "  return cv2.GaussianBlur(image, kernel_size, sigma)\n",
    "\n",
    "# Función para mejorar contraste\n",
    "def enhance_contrast(image):\n",
    "  # Aplicar ecualización del histograma\n",
    "  return cv2.equalizeHist(image.astype(np.uint8))\n"
   ]
  },
  {
   "cell_type": "code",
   "execution_count": null,
   "metadata": {},
   "outputs": [],
   "source": [
    "# Cargar las 51 imágenes\n",
    "images = []\n",
    "for i in range(51):\n",
    "  filename = f\"imagen{i+1:02}.tif\"\n",
    "  image = cv2.imread(filename, cv2.IMREAD_GRAYSCALE)\n",
    "  images.append(image)\n",
    "\n",
    "# Procesar cada imagen\n",
    "processed_images = []\n",
    "for image in images:\n",
    "  # Eliminar pixeles calientes\n",
    "  image = remove_hot_pixels(image)\n",
    "  # Eliminar pixeles muertos\n",
    "  image = remove_dead_pixels(image)\n",
    "  # Eliminar ruido\n",
    "  image = remove_noise(image)\n",
    "  # Mejorar contraste\n",
    "  image = enhance_contrast(image)\n",
    "  # Agregar imagen procesada a la lista\n",
    "  processed_images.append(image)\n",
    "\n",
    "# Combinar las imágenes\n",
    "combined_image = np.hstack(processed_images)\n",
    "\n",
    "# Mostrar la imagen combinada\n",
    "cv2.imshow(\"Imagen combinada\", combined_image)\n",
    "cv2.waitKey(0)\n",
    "\n",
    "# Guardar la imagen combinada\n",
    "cv2.imwrite(\"imagen_combinada.tif\", combined_image)\n"
   ]
  }
 ],
 "metadata": {
  "language_info": {
   "name": "python"
  }
 },
 "nbformat": 4,
 "nbformat_minor": 2
}
