{
 "cells": [
  {
   "cell_type": "markdown",
   "metadata": {},
   "source": [
    "**Explicación del código:**\n",
    "\n",
    "* El código define las dimensiones de las imágenes (ancho y alto) y carga las 51 imágenes en una lista.\n",
    "* Se definen funciones para eliminar pixeles calientes, eliminar pixeles muertos, eliminar ruido y mejorar el contraste.\n",
    "* Cada imagen se procesa utilizando las funciones definidas.\n",
    "* Las imágenes procesadas se combinan en una sola imagen.\n",
    "* La imagen combinada se muestra en pantalla y se guarda en un archivo.\n",
    "\n",
    "**Ajustes:**\n",
    "\n",
    "* Puedes ajustar los parámetros de las funciones de eliminación de pixeles, eliminación de ruido y mejora de contraste según las características de tus imágenes.\n",
    "* Puedes probar diferentes técnicas de eliminación de ruido y mejora de contraste.\n",
    "* Puedes guardar las imágenes procesadas individualmente para analizarlas en detalle.\n",
    "\n"
   ]
  },
  {
   "cell_type": "code",
   "execution_count": 4,
   "metadata": {},
   "outputs": [],
   "source": [
    "# Importar librerías\n",
    "import cv2\n",
    "import numpy as np\n",
    "import matplotlib.pyplot as plt\n",
    "from os import listdir, path"
   ]
  },
  {
   "cell_type": "code",
   "execution_count": 5,
   "metadata": {},
   "outputs": [],
   "source": [
    "# Definir las dimensiones de las imágenes\n",
    "WIDTH = 640\n",
    "HEIGHT = 512\n",
    "\n",
    "# Función para eliminar pixeles calientes\n",
    "def remove_hot_pixels(image):\n",
    "  # Umbral para pixeles calientes\n",
    "  threshold = 254\n",
    "  # Reemplazar pixeles calientes por el valor medio local\n",
    "  return cv2.fastNlMeansDenoising(image, h=10, templateWindowSize=7, searchWindowSize=21)\n",
    "\n",
    "# Función para eliminar pixeles muertos\n",
    "def remove_dead_pixels(image):\n",
    "  # Umbral para pixeles muertos\n",
    "  threshold = 1\n",
    "  # Reemplazar pixeles muertos por el valor medio local\n",
    "  return cv2.fastNlMeansDenoising(image, h=10, templateWindowSize=7, searchWindowSize=21)\n",
    "\n",
    "# Función para eliminar ruido\n",
    "def remove_noise(image):\n",
    "  # Aplicar filtro gaussiano\n",
    "  kernel_size = (5, 5)\n",
    "  sigma = 1.0\n",
    "  return cv2.GaussianBlur(image, kernel_size, sigma)\n",
    "\n",
    "# Función para mejorar contraste\n",
    "def enhance_contrast(image):\n",
    "  # Aplicar ecualización del histograma\n",
    "  return cv2.equalizeHist(image.astype(np.uint8))\n"
   ]
  },
  {
   "cell_type": "code",
   "execution_count": 6,
   "metadata": {},
   "outputs": [
    {
     "name": "stdout",
     "output_type": "stream",
     "text": [
      "Número de imágenes en el dataset:  51\n"
     ]
    }
   ],
   "source": [
    "# Agregar data set\n",
    "image_dataset = []\n",
    "ABSOLUTE_PATH = \"D:/Documentos/Universidad de Cuenca/Trabajo de Titulación/Procesamiento/7.8v_089A\"\n",
    "for img_path in listdir(ABSOLUTE_PATH):\n",
    "    image_dataset.append(cv2.imread(path.join(ABSOLUTE_PATH, img_path), 0))\n",
    "# Imprimir el número de imágenes en el dataset\n",
    "print(\"Número de imágenes en el dataset: \", len(image_dataset))"
   ]
  },
  {
   "cell_type": "code",
   "execution_count": 8,
   "metadata": {},
   "outputs": [
    {
     "data": {
      "text/plain": [
       "-1"
      ]
     },
     "execution_count": 8,
     "metadata": {},
     "output_type": "execute_result"
    }
   ],
   "source": [
    "# Cargar las imágenes del dataset\n",
    "images = [image_dataset[i] for i in range(0, len(image_dataset))]\n",
    "\n",
    "# Procesar cada imagen\n",
    "processed_images = []\n",
    "for image in images:\n",
    "  # Eliminar pixeles calientes\n",
    "  #image = remove_hot_pixels(image)\n",
    "  # Eliminar pixeles muertos\n",
    "  #image = remove_dead_pixels(image)\n",
    "  # Eliminar ruido\n",
    "  #image = remove_noise(image)\n",
    "  # Mejorar contraste\n",
    "  image = enhance_contrast(image)\n",
    "  # Agregar imagen procesada a la lista\n",
    "  processed_images.append(image)\n",
    "\n",
    "# Combinar las imágenes\n",
    "combined_image = np.hstack(processed_images)\n",
    "\n",
    "# Establecer directorio de salida\n",
    "output_path = 'D:/Documentos/Universidad de Cuenca/Trabajo de Titulación/PVDefectDetect/ImagePreprocessing/Salidas/Procesamiento_EL'\n",
    "\n",
    "# Mostrar la imagen combinada\n",
    "cv2.imshow(\"Imagen combinada\", combined_image)\n",
    "cv2.waitKey(0)\n",
    "\n",
    "# Guardar la imagen combinada\n",
    "#cv2.imwrite(\"imagen_combinada.tif\", combined_image)\n"
   ]
  }
 ],
 "metadata": {
  "kernelspec": {
   "display_name": "Python 3",
   "language": "python",
   "name": "python3"
  },
  "language_info": {
   "codemirror_mode": {
    "name": "ipython",
    "version": 3
   },
   "file_extension": ".py",
   "mimetype": "text/x-python",
   "name": "python",
   "nbconvert_exporter": "python",
   "pygments_lexer": "ipython3",
   "version": "3.10.6"
  }
 },
 "nbformat": 4,
 "nbformat_minor": 2
}
