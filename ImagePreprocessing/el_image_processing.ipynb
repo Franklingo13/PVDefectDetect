{
 "cells": [
  {
   "cell_type": "markdown",
   "metadata": {},
   "source": [
    "## Implementación en Python del proceso de mejora de contraste:\n",
    "\n",
    "\n",
    "**Explicación del código:**\n",
    "\n",
    "* La función `enhance_contrast` toma una imagen EL como entrada y devuelve una imagen con el contraste mejorado.\n",
    "* La función primero difumina la imagen con un filtro gaussiano para eliminar el ruido.\n",
    "* Luego, se aplica un cierre morfológico para eliminar pequeñas imperfecciones y mejorar la uniformidad del fondo.\n",
    "* La imagen original se divide por la imagen de fondo, lo que atenúa el ruido y resalta las regiones de alto contraste.\n",
    "* Finalmente, se aplica la ecualización del histograma para aumentar el contraste general de la imagen.\n"
   ]
  },
  {
   "cell_type": "code",
   "execution_count": 1,
   "metadata": {},
   "outputs": [],
   "source": [
    "# Importación de librerías\n",
    "\n",
    "import cv2\n",
    "import numpy as np"
   ]
  },
  {
   "cell_type": "code",
   "execution_count": 2,
   "metadata": {},
   "outputs": [],
   "source": [
    "# Función para mejorar el contraste de una imagen EL\n",
    "def enhance_contrast(image):\n",
    "  \"\"\"\n",
    "  Mejora el contraste de una imagen EL.\n",
    "\n",
    "  Parámetros:\n",
    "    image: La imagen EL de entrada.\n",
    "\n",
    "  Devuelve:\n",
    "    La imagen con el contraste mejorado.\n",
    "  \"\"\"\n",
    "\n",
    "  # Paso 1: Difuminar la imagen\n",
    "\n",
    "  kernel_size = (5, 5)\n",
    "  sigma = 1.0\n",
    "  blurred_image = cv2.GaussianBlur(image, kernel_size, sigma)\n",
    "\n",
    "  # Paso 2: Cierre morfológico\n",
    "\n",
    "  kernel = np.ones((5, 5), np.uint8)\n",
    "  closed_image = cv2.morphologyEx(blurred_image, cv2.MORPH_CLOSE, kernel)\n",
    "\n",
    "  # Paso 3: División\n",
    "\n",
    "  bg_image = closed_image.copy()\n",
    "  # Evitar la división por cero\n",
    "  bg_image[bg_image == 0] = 1\n",
    "  divided_image = image / bg_image\n",
    "\n",
    "  # Paso 4: Ecualización del histograma\n",
    "\n",
    "  enhanced_image = cv2.equalizeHist(divided_image.astype(np.uint8))\n",
    "\n",
    "  return enhanced_image\n",
    "\n"
   ]
  },
  {
   "cell_type": "code",
   "execution_count": 5,
   "metadata": {},
   "outputs": [
    {
     "data": {
      "text/plain": [
       "-1"
      ]
     },
     "execution_count": 5,
     "metadata": {},
     "output_type": "execute_result"
    }
   ],
   "source": [
    "# Ejemplo de uso\n",
    "\n",
    "# Variable para almacenar el directorio de la imagen\n",
    "path_EL = \"D:/Documentos/Universidad de Cuenca/Trabajo de Titulación/PVDefectDetect/Test_ImageJ/\"\n",
    "image = cv2.imread(path_EL + \"example_10.png\", cv2.IMREAD_GRAYSCALE)\n",
    "enhanced_image = enhance_contrast(image)\n",
    "\n",
    "cv2.imshow(\"Imagen original\", image)\n",
    "cv2.imshow(\"Imagen con contraste mejorado\", enhanced_image)\n",
    "cv2.waitKey(0)"
   ]
  }
 ],
 "metadata": {
  "kernelspec": {
   "display_name": "Python 3",
   "language": "python",
   "name": "python3"
  },
  "language_info": {
   "codemirror_mode": {
    "name": "ipython",
    "version": 3
   },
   "file_extension": ".py",
   "mimetype": "text/x-python",
   "name": "python",
   "nbconvert_exporter": "python",
   "pygments_lexer": "ipython3",
   "version": "3.10.6"
  }
 },
 "nbformat": 4,
 "nbformat_minor": 2
}
